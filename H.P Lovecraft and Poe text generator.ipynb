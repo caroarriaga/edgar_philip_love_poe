{
 "cells": [
  {
   "cell_type": "markdown",
   "metadata": {},
   "source": [
    "# Recurrent neural networks for H.P Lovecraft text generation\n",
    "\n",
    "\"The color out of space\" is one of my favorite tales from Lovecraft, i will use it(as well as others as the call of cthulhu) to create a recurrent neural network in tensorflow that learns his style and generates new text in his style\n",
    "\n",
    "This network is based off of Andrej Karpathy's [post on RNNs](http://karpathy.github.io/2015/05/21/rnn-effectiveness/) and [implementation in Torch](https://github.com/karpathy/char-rnn) and an example from \"Deep Learning Nanodegree\" on udacity. Also, some information [here at r2rt](http://r2rt.com/recurrent-neural-networks-in-tensorflow-ii.html) and from [Sherjil Ozair](https://github.com/sherjilozair/char-rnn-tensorflow) on GitHub. \n",
    "\n",
    "## General architecture using \"Long short term memory\" units in the recurrent layers\n",
    "\n",
    "<img src=\"assets/charseq.jpeg\" width=\"500\">"
   ]
  },
  {
   "cell_type": "code",
   "execution_count": 1,
   "metadata": {
    "collapsed": true
   },
   "outputs": [],
   "source": [
    "%matplotlib inline\n",
    "%config InlineBackend.figure_format = 'retina'"
   ]
  },
  {
   "cell_type": "code",
   "execution_count": 2,
   "metadata": {
    "collapsed": true
   },
   "outputs": [],
   "source": [
    "import time\n",
    "from collections import namedtuple\n",
    "\n",
    "import numpy as np\n",
    "import tensorflow as tf\n",
    "from nltk.tokenize import word_tokenize\n",
    "import nltk\n",
    "import itertools\n",
    "import matplotlib.pyplot as plt\n",
    "from time import gmtime, strftime ,localtime"
   ]
  },
  {
   "cell_type": "code",
   "execution_count": 3,
   "metadata": {
    "collapsed": true
   },
   "outputs": [],
   "source": [
    "# Run only the  first time nltk is used to download language\n",
    "#nltk.download()"
   ]
  },
  {
   "cell_type": "markdown",
   "metadata": {},
   "source": [
    "### Define conf variables and hyper parameteters "
   ]
  },
  {
   "cell_type": "code",
   "execution_count": 45,
   "metadata": {
    "collapsed": true
   },
   "outputs": [],
   "source": [
    "mode = \"characters\" #characters or words\n",
    "\n",
    "epochs = 5\n",
    "batch_size = 256       # Sequences per batch\n",
    "num_steps = 75         # Number of sequence steps per batch\n",
    "lstm_size = 768         # Size of hidden layers in LSTMs\n",
    "num_layers = 2          # Number of LSTM layers\n",
    "learning_rate = 0.00095 # Learning rate\n",
    "keep_prob = 0.5# Dropout keep probability\n",
    "negative_sampled = 1200 #in words mode ,how many negative words to sample to improve trainint time\n",
    "\n",
    "resume_from_checkpoint = True"
   ]
  },
  {
   "cell_type": "markdown",
   "metadata": {},
   "source": [
    "### Define base text\n",
    "Once trained ,the network can take base text and a sequence size and generate new text using base text as first characters in the sequence. For every element in base text wi will create a list that will store generated text as training goes, to be able to compare results between steps"
   ]
  },
  {
   "cell_type": "code",
   "execution_count": 5,
   "metadata": {
    "collapsed": true
   },
   "outputs": [],
   "source": [
    "text_to_try = [\"In the first place\",\"the night before\",\"horror\",\"creature\",\"night\",\"dream\",\"thing\",\"That night\",\"mountain\",\"Ammi\",\"Cthulhu\",\"raven\",\"bird\",\"nevermore\",\"dead\",\"The bird\"]"
   ]
  },
  {
   "cell_type": "markdown",
   "metadata": {},
   "source": [
    "#### Function that separates text into tokens(for whitespace characters, only new line is implemented, missing tabs and others="
   ]
  },
  {
   "cell_type": "code",
   "execution_count": 6,
   "metadata": {},
   "outputs": [
    {
     "data": {
      "text/plain": [
       "['H',\n",
       " 'e',\n",
       " 'l',\n",
       " 'l',\n",
       " 'o',\n",
       " ',',\n",
       " ' ',\n",
       " 'm',\n",
       " 'y',\n",
       " ' ',\n",
       " 'n',\n",
       " 'a',\n",
       " 'm',\n",
       " 'e',\n",
       " ' ',\n",
       " 'i',\n",
       " 's',\n",
       " ' ',\n",
       " 'L',\n",
       " 'u',\n",
       " 'i',\n",
       " 's',\n",
       " ' ',\n",
       " 'L',\n",
       " 'e',\n",
       " 'a',\n",
       " 'l',\n",
       " '!',\n",
       " '\\n',\n",
       " '\\n',\n",
       " 'F',\n",
       " 'r',\n",
       " 'o',\n",
       " 'm',\n",
       " ' ',\n",
       " 'G',\n",
       " 'u',\n",
       " 'a',\n",
       " 't',\n",
       " 'e',\n",
       " 'm',\n",
       " 'a',\n",
       " 'l',\n",
       " 'a']"
      ]
     },
     "execution_count": 6,
     "metadata": {},
     "output_type": "execute_result"
    }
   ],
   "source": [
    "def tokenize_by_words(text):\n",
    "    text = text.replace(\"\\n\",\" new_line_token \")\n",
    "    tokens = []\n",
    "    splitted =[[word_tokenize(w),' ']for w in text.split()]\n",
    "    splitted = list(itertools.chain(*list(itertools.chain(*splitted))))\n",
    "    \n",
    "    token_list = []\n",
    "    i = 0\n",
    "    while i < len(splitted):\n",
    "        if splitted[i] == \"new_line_token\":\n",
    "            if   token_list[-1]==\" \":\n",
    "                token_list[-1] = splitted[i]\n",
    "            else:\n",
    "                token_list.append(splitted[i])\n",
    "            i+=1\n",
    "        else:\n",
    "            token_list.append(splitted[i])\n",
    "        i+=1\n",
    "    \n",
    "    return token_list\n",
    "\n",
    "def tokenize_by_characters(text):\n",
    "    return list(text)\n",
    "\n",
    "def tokenize_text(text,mode=\"characters\"):\n",
    "    if mode == \"characters\":\n",
    "        return tokenize_by_characters(text)\n",
    "    elif mode == \"words\":\n",
    "        return tokenize_by_words(text)\n",
    "    \n",
    "tokenize_text(\"Hello, my name is Luis Leal!\\n\\nFrom Guatemala\",mode)\n",
    "#tokenize_text(\"Hello, my name is Luis Leal!\\n\\nFrom Guatemala\",\"words\")\n"
   ]
  },
  {
   "cell_type": "markdown",
   "metadata": {},
   "source": [
    "First we'll load the text file and convert it into integers for our network to use. Here I'm creating a couple dictionaries to convert the characters to and from integers. Encoding the characters as integers makes it easier to use as input in the network."
   ]
  },
  {
   "cell_type": "code",
   "execution_count": 7,
   "metadata": {
    "collapsed": true
   },
   "outputs": [],
   "source": [
    "with open('corpus.txt', 'r') as f:\n",
    "    text=f.read()"
   ]
  },
  {
   "cell_type": "code",
   "execution_count": 8,
   "metadata": {
    "collapsed": true
   },
   "outputs": [],
   "source": [
    "vocab = set(tokenize_text(text,mode))\n",
    "vocab_to_int = {c: i for i, c in enumerate(vocab)}\n",
    "int_to_vocab = dict(enumerate(vocab))\n",
    "n_vocab = len(vocab)"
   ]
  },
  {
   "cell_type": "markdown",
   "metadata": {},
   "source": [
    "### Get a little portion of text for validation"
   ]
  },
  {
   "cell_type": "code",
   "execution_count": 9,
   "metadata": {},
   "outputs": [],
   "source": [
    "tokenized_text = tokenize_text(text,mode)\n",
    "encoded_dataset = np.array([vocab_to_int[c] for c in tokenized_text if c in vocab_to_int], dtype=np.int32)"
   ]
  },
  {
   "cell_type": "code",
   "execution_count": 10,
   "metadata": {
    "collapsed": true
   },
   "outputs": [],
   "source": [
    "validation_size = batch_size * num_steps #create a single baty\n",
    "validation_start_index = len(encoded_dataset) - validation_size\n",
    "\n",
    "encoded = encoded_dataset[:validation_start_index]\n",
    "encoded_val = encoded_dataset[validation_start_index:]"
   ]
  },
  {
   "cell_type": "code",
   "execution_count": 11,
   "metadata": {},
   "outputs": [
    {
     "name": "stdout",
     "output_type": "stream",
     "text": [
      "ons with straps, a pink gingham chemise, a flapped vest of brocade, a white sack overcoat, a walking\n"
     ]
    }
   ],
   "source": [
    "def encoded_to_text(encoded):\n",
    "    return \"\".join([int_to_vocab[number] for number in encoded])\n",
    "\n",
    "print(encoded_to_text(encoded_val[0:100]))"
   ]
  },
  {
   "cell_type": "code",
   "execution_count": 12,
   "metadata": {
    "collapsed": true
   },
   "outputs": [],
   "source": [
    "val_text =encoded_to_text(encoded_val)\n",
    "text = encoded_to_text(encoded)"
   ]
  },
  {
   "cell_type": "markdown",
   "metadata": {},
   "source": [
    "Let's check out the first 100 characters of train and validation, make sure everything is peachy.  line of a book ever."
   ]
  },
  {
   "cell_type": "code",
   "execution_count": 13,
   "metadata": {},
   "outputs": [
    {
     "data": {
      "text/plain": [
       "'THE COLOUR OUT OF SPACE\\n\\nWest of Arkham the hills rise wild, and there are valleys with deep woods t'"
      ]
     },
     "execution_count": 13,
     "metadata": {},
     "output_type": "execute_result"
    }
   ],
   "source": [
    "text[:100]"
   ]
  },
  {
   "cell_type": "code",
   "execution_count": 14,
   "metadata": {},
   "outputs": [
    {
     "data": {
      "text/plain": [
       "'ons with straps, a pink gingham chemise, a flapped vest of brocade, a white sack overcoat, a walking'"
      ]
     },
     "execution_count": 14,
     "metadata": {},
     "output_type": "execute_result"
    }
   ],
   "source": [
    "val_text[:100]"
   ]
  },
  {
   "cell_type": "markdown",
   "metadata": {},
   "source": [
    "And we can see the characters encoded as integersin both train and validation"
   ]
  },
  {
   "cell_type": "code",
   "execution_count": 15,
   "metadata": {},
   "outputs": [
    {
     "data": {
      "text/plain": [
       "array([ 73,  24,  50,  60,  59, 102,  16, 102,   6,  76,  60, 102,   6,\n",
       "        73,  60, 102,  62,  60,  27,  35,  25,  59,  50,   1,   1,  45,\n",
       "       101,  56,  14,  60,  37,  40,  60,  25,  44,   4,  77,  67, 100,\n",
       "        60,  14,  77, 101,  60,  77,  83,  92,  92,  56,  60,  44,  83,\n",
       "        56, 101,  60,  41,  83,  92,  20,  99,  60,  67,  57,  20,  60,\n",
       "        14,  77, 101,  44, 101,  60,  67,  44, 101,  60,  53,  67,  92,\n",
       "        92, 101,  63,  56,  60,  41,  83,  14,  77,  60,  20, 101, 101,\n",
       "        58,  60,  41,  37,  37,  20,  56,  60,  14], dtype=int32)"
      ]
     },
     "execution_count": 15,
     "metadata": {},
     "output_type": "execute_result"
    }
   ],
   "source": [
    "encoded[:100]"
   ]
  },
  {
   "cell_type": "code",
   "execution_count": 16,
   "metadata": {},
   "outputs": [
    {
     "data": {
      "text/plain": [
       "array([ 37,  57,  56,  60,  41,  83,  14,  77,  60,  56,  14,  44,  67,\n",
       "        58,  56,  99,  60,  67,  60,  58,  83,  57,   4,  60,  94,  83,\n",
       "        57,  94,  77,  67, 100,  60,  79,  77, 101, 100,  83,  56, 101,\n",
       "        99,  60,  67,  60,  40,  92,  67,  58,  58, 101,  20,  60,  53,\n",
       "       101,  56,  14,  60,  37,  40,  60,   7,  44,  37,  79,  67,  20,\n",
       "       101,  99,  60,  67,  60,  41,  77,  83,  14, 101,  60,  56,  67,\n",
       "        79,   4,  60,  37,  53, 101,  44,  79,  37,  67,  14,  99,  60,\n",
       "        67,  60,  41,  67,  92,   4,  83,  57,  94], dtype=int32)"
      ]
     },
     "execution_count": 16,
     "metadata": {},
     "output_type": "execute_result"
    }
   ],
   "source": [
    "encoded_val[0:100]"
   ]
  },
  {
   "cell_type": "markdown",
   "metadata": {},
   "source": [
    "Since the network is working with individual english tokens, it's similar to a classification problem in which we are trying to predict the next character from the previous text.  Here's how many 'classes' our network has to pick from."
   ]
  },
  {
   "cell_type": "code",
   "execution_count": 17,
   "metadata": {},
   "outputs": [
    {
     "data": {
      "text/plain": [
       "104"
      ]
     },
     "execution_count": 17,
     "metadata": {},
     "output_type": "execute_result"
    }
   ],
   "source": [
    "len(vocab)"
   ]
  },
  {
   "cell_type": "markdown",
   "metadata": {},
   "source": [
    "## Making training mini-batches\n",
    "\n",
    "Here is where we'll make our mini-batches for training. Remember that we want our batches to be multiple sequences of some desired number of sequence steps. Considering a simple example, our batches would look like this:\n",
    "\n",
    "<img src=\"assets/sequence_batching@1x.png\" width=500px>\n",
    "\n",
    "\n",
    "<br>\n",
    "We have our text encoded as integers as one long array in `encoded`. Let's create a function that will give us an iterator for our batches. I like using [generator functions](https://jeffknupp.com/blog/2013/04/07/improve-your-python-yield-and-generators-explained/) to do this. Then we can pass `encoded` into this function and get our batch generator.\n",
    "\n",
    "The first thing we need to do is discard some of the text so we only have completely full batches. Each batch contains $N \\times M$ characters, where $N$ is the batch size (the number of sequences) and $M$ is the number of steps. Then, to get the number of batches we can make from some array `arr`, you divide the length of `arr` by the batch size. Once you know the number of batches and the batch size, you can get the total number of characters to keep.\n",
    "\n",
    "After that, we need to split `arr` into $N$ sequences. You can do this using `arr.reshape(size)` where `size` is a tuple containing the dimensions sizes of the reshaped array. We know we want $N$ sequences (`n_seqs` below), let's make that the size of the first dimension. For the second dimension, you can use `-1` as a placeholder in the size, it'll fill up the array with the appropriate data for you. After this, you should have an array that is $N \\times (M * K)$ where $K$ is the number of batches.\n",
    "\n",
    "Now that we have this array, we can iterate through it to get our batches. The idea is each batch is a $N \\times M$ window on the array. For each subsequent batch, the window moves over by `n_steps`. We also want to create both the input and target arrays. Remember that the targets are the inputs shifted over one character. You'll usually see the first input character used as the last target character, so something like this:\n",
    "```python\n",
    "y[:, :-1], y[:, -1] = x[:, 1:], x[:, 0]\n",
    "```\n",
    "where `x` is the input batch and `y` is the target batch.\n",
    "\n",
    "The way I like to do this window is use `range` to take steps of size `n_steps` from $0$ to `arr.shape[1]`, the total number of steps in each sequence. That way, the integers you get from `range` always point to the start of a batch, and each window is `n_steps` wide."
   ]
  },
  {
   "cell_type": "code",
   "execution_count": 18,
   "metadata": {
    "collapsed": true
   },
   "outputs": [],
   "source": [
    "def get_batches(arr, n_seqs, n_steps):\n",
    "    '''Create a generator that returns batches of size\n",
    "       n_seqs x n_steps from arr.\n",
    "       \n",
    "       Arguments\n",
    "       ---------\n",
    "       arr: Array you want to make batches from\n",
    "       n_seqs: Batch size, the number of sequences per batch\n",
    "       n_steps: Number of sequence steps per batch\n",
    "    '''\n",
    "    # Get the batch size and number of batches we can make\n",
    "    batch_size = n_seqs * n_steps \n",
    "    n_batches =  len(arr)//batch_size\n",
    "    \n",
    "    # Keep only enough characters to make full batches\n",
    "    arr =  arr[:n_batches*batch_size]\n",
    "    \n",
    "    # Reshape into n_seqs rows\n",
    "    arr = arr.reshape((n_seqs,-1))\n",
    "    \n",
    "    for n in range(0, arr.shape[1], n_steps):\n",
    "        # The features\n",
    "        x = arr[:,n:n+n_steps]\n",
    "        # The targets, shifted by one\n",
    "        y = np.zeros(x.shape)\n",
    "        y[:,:-1],y[:,-1] = x[:,1:] ,x[:,0]\n",
    "        yield x, y"
   ]
  },
  {
   "cell_type": "markdown",
   "metadata": {},
   "source": [
    "Now I'll make my data sets and we can check out what's going on here. Here I'm going to use a batch size of 10 and 50 sequence steps."
   ]
  },
  {
   "cell_type": "code",
   "execution_count": 19,
   "metadata": {
    "collapsed": true
   },
   "outputs": [],
   "source": [
    "batches = get_batches(encoded, 10, 50)\n",
    "x, y = next(batches)"
   ]
  },
  {
   "cell_type": "code",
   "execution_count": 20,
   "metadata": {},
   "outputs": [
    {
     "name": "stdout",
     "output_type": "stream",
     "text": [
      "x\n",
      " [[ 73  24  50  60  59 102  16 102   6  76]\n",
      " [ 77  60  14  37  60  20  37  60  41  83]\n",
      " [ 14  60   7  38  56  83  92  63  60  37]\n",
      " [ 38  14  60  77 101  67  44  83  57  94]\n",
      " [ 60  37  57  60  14  37  60  44  67  83]\n",
      " [100  67  92   3  60  14  77 101   1  27]\n",
      " [ 14  83  37  57  60   3   3  37  40  60]\n",
      " [ 60 100  67  79  77  83  57 101  56  60]\n",
      " [ 37  57  60  14  77 101  60  56  95  38]\n",
      " [ 60  67  57  20  60  94  44 101  67  14]]\n",
      "\n",
      "y\n",
      " [[  24.   50.   60.   59.  102.   16.  102.    6.   76.   60.]\n",
      " [  60.   14.   37.   60.   20.   37.   60.   41.   83.   14.]\n",
      " [  60.    7.   38.   56.   83.   92.   63.   60.   37.   79.]\n",
      " [  14.   60.   77.  101.   67.   44.   83.   57.   94.   60.]\n",
      " [  37.   57.   60.   14.   37.   60.   44.   67.   83.   57.]\n",
      " [  67.   92.    3.   60.   14.   77.  101.    1.   27.   58.]\n",
      " [  83.   37.   57.   60.    3.    3.   37.   40.   60.   40.]\n",
      " [ 100.   67.   79.   77.   83.   57.  101.   56.   60.   40.]\n",
      " [  57.   60.   14.   77.  101.   60.   56.   95.   38.   67.]\n",
      " [  67.   57.   20.   60.   94.   44.  101.   67.   14.  101.]]\n"
     ]
    }
   ],
   "source": [
    "print('x\\n', x[:10, :10])\n",
    "print('\\ny\\n', y[:10, :10])"
   ]
  },
  {
   "cell_type": "markdown",
   "metadata": {},
   "source": [
    "## Building the model\n",
    "\n",
    "Below is where you'll build the network. We'll break it up into parts so it's easier to reason about each bit. Then we can connect them up into the whole network.\n",
    "\n",
    "<img src=\"assets/charRNN.png\" width=500px>\n",
    "\n",
    "\n",
    "### Inputs\n",
    "\n",
    "First off we'll create our input placeholders. As usual we need placeholders for the training data and the targets. We'll also create a placeholder for dropout layers called `keep_prob`. This will be a scalar, that is a 0-D tensor. To make a scalar, you create a placeholder without giving it a size."
   ]
  },
  {
   "cell_type": "code",
   "execution_count": 21,
   "metadata": {
    "collapsed": true
   },
   "outputs": [],
   "source": [
    "def build_inputs(batch_size, num_steps):\n",
    "    ''' Define placeholders for inputs, targets, and dropout \n",
    "    \n",
    "        Arguments\n",
    "        ---------\n",
    "        batch_size: Batch size, number of sequences per batch\n",
    "        num_steps: Number of sequence steps in a batch\n",
    "        \n",
    "    '''\n",
    "    # Declare placeholders we'll feed into the graph\n",
    "    inputs = tf.placeholder(tf.int32,[batch_size,num_steps],name=\"inputs\")\n",
    "    targets = tf.placeholder(tf.int32,[batch_size,num_steps],name=\"targets\")\n",
    "    \n",
    "    # Keep probability placeholder for drop out layers\n",
    "    keep_prob = tf.placeholder(tf.float32,name=\"keep_prob\")\n",
    "    \n",
    "    return inputs, targets, keep_prob"
   ]
  },
  {
   "cell_type": "markdown",
   "metadata": {},
   "source": [
    "### LSTM Cell\n",
    "\n",
    "Here we will create the LSTM cell we'll use in the hidden layer. We'll use this cell as a building block for the RNN. So we aren't actually defining the RNN here, just the type of cell we'll use in the hidden layer.\n",
    "\n",
    "We first create a basic LSTM cell with\n",
    "\n",
    "```python\n",
    "lstm = tf.contrib.rnn.BasicLSTMCell(num_units)\n",
    "```\n",
    "\n",
    "where `num_units` is the number of units in the hidden layers in the cell. Then we can add dropout by wrapping it with \n",
    "\n",
    "```python\n",
    "tf.contrib.rnn.DropoutWrapper(lstm, output_keep_prob=keep_prob)\n",
    "```\n",
    "You pass in a cell and it will automatically add dropout to the inputs or outputs. Finally, we can stack up the LSTM cells into layers with [`tf.contrib.rnn.MultiRNNCell`](https://www.tensorflow.org/versions/r1.0/api_docs/python/tf/contrib/rnn/MultiRNNCell). With this, you pass in a list of cells and it will send the output of one cell into the next cell. For example,\n",
    "\n",
    "```python\n",
    "tf.contrib.rnn.MultiRNNCell([cell]*num_layers)\n",
    "```\n",
    "\n",
    "This might look a little weird if you know Python well because this will create a list of the same `cell` object. However, TensorFlow will create different weight matrices for all `cell` objects. Even though this is actually multiple LSTM cells stacked on each other, you can treat the multiple layers as one cell.\n",
    "\n",
    "We also need to create an initial cell state of all zeros. This can be done like so\n",
    "\n",
    "```python\n",
    "initial_state = cell.zero_state(batch_size, tf.float32)\n",
    "```\n"
   ]
  },
  {
   "cell_type": "code",
   "execution_count": 22,
   "metadata": {
    "collapsed": true
   },
   "outputs": [],
   "source": [
    "def build_lstm(lstm_size, num_layers, batch_size, keep_prob):\n",
    "    ''' Build LSTM cell.\n",
    "    \n",
    "        Arguments\n",
    "        ---------\n",
    "        keep_prob: Scalar tensor (tf.placeholder) for the dropout keep probability\n",
    "        lstm_size: Size of the hidden layers in the LSTM cells\n",
    "        num_layers: Number of LSTM layers\n",
    "        batch_size: Batch size\n",
    "\n",
    "    '''\n",
    "    ### Build the LSTM Cell\n",
    "    # Use a basic LSTM cell\n",
    "    # Add dropout to the cell outputs\n",
    "    # Stack up multiple LSTM layers, for deep learning\n",
    "    cell = tf.contrib.rnn.MultiRNNCell([tf.contrib.rnn.DropoutWrapper( tf.contrib.rnn.BasicLSTMCell(lstm_size),output_keep_prob = keep_prob) for _ in range(num_layers)])\n",
    "    initial_state = cell.zero_state(batch_size,tf.float32)\n",
    "    \n",
    "    return cell, initial_state"
   ]
  },
  {
   "cell_type": "markdown",
   "metadata": {},
   "source": [
    "### RNN Output\n",
    "\n",
    "Here we'll create the output layer. We need to connect the output of the RNN cells to a full connected layer with a softmax output. The softmax output gives us a probability distribution we can use to predict the next character, so we want this layer to have size $C$, the number of classes/characters we have in our text.\n",
    "\n",
    "If our input has batch size $N$, number of steps $M$, and the hidden layer has $L$ hidden units, then the output is a 3D tensor with size $N \\times M \\times L$. The output of each LSTM cell has size $L$, we have $M$ of them, one for each sequence step, and we have $N$ sequences. So the total size is $N \\times M \\times L$. \n",
    "\n",
    "We are using the same fully connected layer, the same weights, for each of the outputs. Then, to make things easier, we should reshape the outputs into a 2D tensor with shape $(M * N) \\times L$. That is, one row for each sequence and step, where the values of each row are the output from the LSTM cells. We get the LSTM output as a list, `lstm_output`. First we need to concatenate this whole list into one array with [`tf.concat`](https://www.tensorflow.org/api_docs/python/tf/concat). Then, reshape it (with `tf.reshape`) to size $(M * N) \\times L$.\n",
    "\n",
    "One we have the outputs reshaped, we can do the matrix multiplication with the weights. We need to wrap the weight and bias variables in a variable scope with `tf.variable_scope(scope_name)` because there are weights being created in the LSTM cells. TensorFlow will throw an error if the weights created here have the same names as the weights created in the LSTM cells, which they will be default. To avoid this, we wrap the variables in a variable scope so we can give them unique names.\n"
   ]
  },
  {
   "cell_type": "code",
   "execution_count": 23,
   "metadata": {
    "collapsed": true
   },
   "outputs": [],
   "source": [
    "def build_output(lstm_output, in_size, out_size):\n",
    "    ''' Build a softmax layer, return the softmax output and logits.\n",
    "    \n",
    "        Arguments\n",
    "        ---------\n",
    "        \n",
    "        lstm_output: List of output tensors from the LSTM layer\n",
    "        in_size: Size of the input tensor, for example, size of the LSTM cells\n",
    "        out_size: Size of this softmax layer\n",
    "    \n",
    "    '''\n",
    "    print(lstm_output)\n",
    "    # Reshape output so it's a bunch of rows, one row for each step for each sequence.\n",
    "    # Concatenate lstm_output over axis 1 (the columns)\n",
    "    seq_output = tf.concat(lstm_output,axis=1)\n",
    "    # Reshape seq_output to a 2D tensor with lstm_size columns\n",
    "    x = tf.reshape(seq_output,[-1,in_size])\n",
    "    # Connect the RNN outputs to a softmax layer\n",
    "    with tf.variable_scope('softmax'):\n",
    "        # Create the weight and bias variables here\n",
    "        softmax_w = tf.Variable(tf.truncated_normal((in_size, out_size),stddev=0.1))\n",
    "        softmax_b = tf.Variable(tf.zeros([out_size]))\n",
    "    \n",
    "    # Since output is a bunch of rows of RNN cell outputs, logits will be a bunch\n",
    "    # of rows of logit outputs, one for each step and sequence\n",
    "    logits =  tf.add(tf.matmul(x,softmax_w),softmax_b) \n",
    "    \n",
    "    # Use softmax to get the probabilities for predicted characters\n",
    "    out = tf.nn.softmax(logits,name =\"out\")\n",
    "    \n",
    "    return out, logits,softmax_w,softmax_b,x"
   ]
  },
  {
   "cell_type": "markdown",
   "metadata": {},
   "source": [
    "### Training loss\n",
    "\n",
    "Next up is the training loss. We get the logits and targets and calculate the softmax cross-entropy loss. First we need to one-hot encode the targets, we're getting them as encoded characters. Then, reshape the one-hot targets so it's a 2D tensor with size $(M*N) \\times C$ where $C$ is the number of classes/characters we have. Remember that we reshaped the LSTM outputs and ran them through a fully connected layer with $C$ units. So our logits will also have size $(M*N) \\times C$.\n",
    "\n",
    "Then we run the logits and targets through `tf.nn.softmax_cross_entropy_with_logits` and find the mean to get the loss."
   ]
  },
  {
   "cell_type": "code",
   "execution_count": 24,
   "metadata": {},
   "outputs": [],
   "source": [
    "def build_loss(lstm_output,logits, targets, lstm_size, num_classes,softmax_w,softmax_b):\n",
    "    ''' Calculate the loss from the logits and the targets.\n",
    "    \n",
    "        Arguments\n",
    "        ---------\n",
    "        logits: Logits from final fully connected layer\n",
    "        targets: Targets for supervised learning\n",
    "        lstm_size: Number of LSTM hidden units\n",
    "        num_classes: Number of classes in targets\n",
    "        \n",
    "    '''\n",
    "    # One-hot encode targets and reshape to match logits, one row per sequence per step\n",
    "    y_one_hot = tf.one_hot(targets,num_classes)\n",
    "    y_reshaped =  tf.reshape(y_one_hot,logits.get_shape())\n",
    "    \n",
    "    \n",
    "    # Softmax cross entropy loss\n",
    "    if mode == \"characters\":\n",
    "        loss = tf.reduce_mean(tf.nn.softmax_cross_entropy_with_logits(logits=logits,labels=y_reshaped))\n",
    "    elif mode == \"words\":\n",
    "        loss = tf.reduce_mean(tf.nn.sampled_softmax_loss(tf.transpose(softmax_w),softmax_b,tf.reshape(tf.argmax( y_reshaped,axis = 1),shape=(y_reshaped.get_shape()[0],1)),tf.concat(lstm_output,axis=1),negative_sampled,len(vocab)))\n",
    "    \n",
    "    return loss"
   ]
  },
  {
   "cell_type": "markdown",
   "metadata": {},
   "source": [
    "### Optimizer\n",
    "\n",
    "Here we build the optimizer. Normal RNNs have have issues gradients exploding and disappearing. LSTMs fix the disappearance problem, but the gradients can still grow without bound. To fix this, we can clip the gradients above some threshold. That is, if a gradient is larger than that threshold, we set it to the threshold. This will ensure the gradients never grow overly large. Then we use an AdamOptimizer for the learning step."
   ]
  },
  {
   "cell_type": "code",
   "execution_count": 25,
   "metadata": {
    "collapsed": true
   },
   "outputs": [],
   "source": [
    "def build_optimizer(loss, learning_rate, grad_clip,global_step):\n",
    "    ''' Build optmizer for training, using gradient clipping.\n",
    "    \n",
    "        Arguments:\n",
    "        loss: Network loss\n",
    "        learning_rate: Learning rate for optimizer\n",
    "        global_step: to control the total number of train steps\n",
    "    \n",
    "    '''\n",
    "    \n",
    "    # Optimizer for training, using gradient clipping to control exploding gradients\n",
    "    tvars = tf.trainable_variables()\n",
    "    grads, _ = tf.clip_by_global_norm(tf.gradients(loss, tvars), grad_clip)\n",
    "    train_op = tf.train.AdamOptimizer(learning_rate)\n",
    "    optimizer = train_op.apply_gradients(zip(grads, tvars),global_step)\n",
    "    \n",
    "    return optimizer"
   ]
  },
  {
   "cell_type": "markdown",
   "metadata": {},
   "source": [
    "### Build the network\n",
    "\n",
    "Now we can put all the pieces together and build a class for the network. To actually run data through the LSTM cells, we will use [`tf.nn.dynamic_rnn`](https://www.tensorflow.org/versions/r1.0/api_docs/python/tf/nn/dynamic_rnn). This function will pass the hidden and cell states across LSTM cells appropriately for us. It returns the outputs for each LSTM cell at each step for each sequence in the mini-batch. It also gives us the final LSTM state. We want to save this state as `final_state` so we can pass it to the first LSTM cell in the the next mini-batch run. For `tf.nn.dynamic_rnn`, we pass in the cell and initial state we get from `build_lstm`, as well as our input sequences. Also, we need to one-hot encode the inputs before going into the RNN. \n"
   ]
  },
  {
   "cell_type": "code",
   "execution_count": 26,
   "metadata": {
    "collapsed": true
   },
   "outputs": [],
   "source": [
    "class CharRNN:\n",
    "    \n",
    "    def __init__(self, num_classes, batch_size=64, num_steps=50, \n",
    "                       lstm_size=128, num_layers=2, learning_rate=0.001, \n",
    "                       grad_clip=5, sampling=False):\n",
    "    \n",
    "        # When we're using this network for sampling later, we'll be passing in\n",
    "        # one character at a time, so providing an option for that\n",
    "        if sampling == True:\n",
    "            batch_size, num_steps = 1, 1\n",
    "        else:\n",
    "            batch_size, num_steps = batch_size, num_steps\n",
    "\n",
    "        tf.reset_default_graph()\n",
    "        \n",
    "        self.global_step_tensor = tf.Variable(0,trainable=False,name = \"global_step\")\n",
    "        # Build the input placeholder tensors\n",
    "        self.inputs, self.targets, self.keep_prob = build_inputs(batch_size,num_steps)\n",
    "        # Build the LSTM cell\n",
    "        cell, self.initial_state = build_lstm(lstm_size,num_layers,batch_size,self.keep_prob)\n",
    "        ### Run the data through the RNN layers\n",
    "        # First, one-hot encode the input tokens\n",
    "        x_one_hot = tf.one_hot(self.inputs,num_classes)\n",
    "        \n",
    "        self.grad_clip  = grad_clip\n",
    "        # Run each sequence step through the RNN with tf.nn.dynamic_rnn \n",
    "        outputs, state = tf.nn.dynamic_rnn(cell,x_one_hot,initial_state=self.initial_state)\n",
    "        self.final_state = state\n",
    "        \n",
    "        # Get softmax predictions and logits\n",
    "        self.prediction, self.logits ,self.softmax_w,self.softmax_b,self.lstm_output_reshaped  = build_output(outputs,lstm_size,num_classes)\n",
    "        \n",
    "        # Loss and optimizer (with gradient clipping)\n",
    "        self.loss =  build_loss(self.lstm_output_reshaped ,self.logits,self.targets,lstm_size,num_classes,self.softmax_w,self.softmax_b)\n",
    "        self.optimizer = build_optimizer(self.loss,learning_rate,grad_clip,self.global_step_tensor)"
   ]
  },
  {
   "cell_type": "markdown",
   "metadata": {},
   "source": [
    "## Hyperparameters\n",
    "\n",
    "Here are the hyperparameters for the network.\n",
    "\n",
    "* `batch_size` - Number of sequences running through the network in one pass.\n",
    "* `num_steps` - Number of characters in the sequence the network is trained on. Larger is better typically, the network will learn more long range dependencies. But it takes longer to train. 100 is typically a good number here.\n",
    "* `lstm_size` - The number of units in the hidden layers.\n",
    "* `num_layers` - Number of hidden LSTM layers to use\n",
    "* `learning_rate` - Learning rate for training\n",
    "* `keep_prob` - The dropout keep probability when training. If you're network is overfitting, try decreasing this.\n",
    "\n",
    "Here's some good advice from Andrej Karpathy on training the network:. \n",
    "\n",
    "> ## Tips and Tricks\n",
    "\n",
    ">### Monitoring Validation Loss vs. Training Loss\n",
    ">If you're somewhat new to Machine Learning or Neural Networks it can take a bit of expertise to get good models. The most important quantity to keep track of is the difference between your training loss (printed during training) and the validation loss (printed once in a while when the RNN is run on the validation data (by default every 1000 iterations)). In particular:\n",
    "\n",
    "> - If your training loss is much lower than validation loss then this means the network might be **overfitting**. Solutions to this are to decrease your network size, or to increase dropout. For example you could try dropout of 0.5 and so on.\n",
    "> - If your training/validation loss are about equal then your model is **underfitting**. Increase the size of your model (either number of layers or the raw number of neurons per layer)\n",
    "\n",
    "> ### Approximate number of parameters\n",
    "\n",
    "> The two most important parameters that control the model are `lstm_size` and `num_layers`. I would advise that you always use `num_layers` of either 2/3. The `lstm_size` can be adjusted based on how much data you have. The two important quantities to keep track of here are:\n",
    "\n",
    "> - The number of parameters in your model. This is printed when you start training.\n",
    "> - The size of your dataset. 1MB file is approximately 1 million characters.\n",
    "\n",
    ">These two should be about the same order of magnitude. It's a little tricky to tell. Here are some examples:\n",
    "\n",
    "> - I have a 100MB dataset and I'm using the default parameter settings (which currently print 150K parameters). My data size is significantly larger (100 mil >> 0.15 mil), so I expect to heavily underfit. I am thinking I can comfortably afford to make `lstm_size` larger.\n",
    "> - I have a 10MB dataset and running a 10 million parameter model. I'm slightly nervous and I'm carefully monitoring my validation loss. If it's larger than my training loss then I may want to try to increase dropout a bit and see if that helps the validation loss.\n",
    "\n",
    "> ### Best models strategy\n",
    "\n",
    ">The winning strategy to obtaining very good models (if you have the compute time) is to always err on making the network larger (as large as you're willing to wait for it to compute) and then try different dropout values (between 0,1). Whatever model has the best validation performance (the loss, written in the checkpoint filename, low is good) is the one you should use in the end.\n",
    "\n",
    ">It is very common in deep learning to run many different models with many different hyperparameter settings, and in the end take whatever checkpoint gave the best validation performance.\n",
    "\n",
    ">By the way, the size of your training and validation splits are also parameters. Make sure you have a decent amount of data in your validation set or otherwise the validation performance will be noisy and not very informative."
   ]
  },
  {
   "cell_type": "code",
   "execution_count": 27,
   "metadata": {
    "collapsed": true
   },
   "outputs": [],
   "source": [
    "def get_number_of_parameters():\n",
    "    total_parameters = 0\n",
    "    for variable in tf.trainable_variables():\n",
    "        shape = variable.get_shape()\n",
    "        #print(shape)\n",
    "        #print(len(shape))\n",
    "        variable_parameters = 1\n",
    "        \n",
    "        for dim in shape:\n",
    "            #print(dim)\n",
    "            variable_parameters*=dim.value\n",
    "        #print(variable_parameters)\n",
    "        total_parameters+= variable_parameters\n",
    "    return total_parameters"
   ]
  },
  {
   "cell_type": "code",
   "execution_count": 28,
   "metadata": {
    "collapsed": true
   },
   "outputs": [],
   "source": [
    "def pick_top_n(preds, vocab_size, top_n=5):\n",
    "    p = np.squeeze(preds)\n",
    "    p[np.argsort(p)[:-top_n]] = 0\n",
    "    p = p / np.sum(p)\n",
    "    c = np.random.choice(vocab_size, 1, p=p)[0]\n",
    "    return c"
   ]
  },
  {
   "cell_type": "markdown",
   "metadata": {},
   "source": [
    "## Time for training\n",
    "\n",
    "This is typical training code, passing inputs and targets into the network, then running the optimizer. Here we also get back the final LSTM state for the mini-batch. Then, we pass that state back into the network so the next batch can continue the state from the previous batch. And every so often (set by `save_every_n`) I save a checkpoint.\n",
    "\n",
    "Here I'm saving checkpoints with the format\n",
    "\n",
    "`i{iteration number}_l{# hidden layer units}.ckpt`\n"
   ]
  },
  {
   "cell_type": "code",
   "execution_count": 29,
   "metadata": {
    "collapsed": true
   },
   "outputs": [],
   "source": [
    "losses = {\"train\":[],\"validation\":[]}\n",
    "x_steps = list()"
   ]
  },
  {
   "cell_type": "code",
   "execution_count": 46,
   "metadata": {},
   "outputs": [
    {
     "name": "stdout",
     "output_type": "stream",
     "text": [
      "Tensor(\"rnn/transpose:0\", shape=(256, 75, 768), dtype=float32)\n",
      "Training starting at time: 2017-11-01 23:52:48\n",
      "Number of parameters: 7483496 Dataset size: 3194295\n",
      "INFO:tensorflow:Restoring parameters from checkpoints/mcharacters_i8300_l768.ckpt\n",
      "Epoch: 1/5...  Training Step: 8301...  Training loss: 1.2099...  Val loss: 1.4801...  0.5470 sec/batch\n",
      "Epoch: 1/5...  Training Step: 8326...  Training loss: 1.1220...  Val loss: 1.4731...  0.4201 sec/batch\n",
      "Epoch: 1/5...  Training Step: 8351...  Training loss: 1.1407...  Val loss: 1.4873...  0.4211 sec/batch\n",
      "Epoch: 1/5...  Training Step: 8376...  Training loss: 1.1183...  Val loss: 1.4892...  0.4214 sec/batch\n",
      "Epoch: 1/5...  Training Step: 8401...  Training loss: 1.1325...  Val loss: 1.4731...  0.4222 sec/batch\n",
      "Epoch: 1/5...  Training Step: 8426...  Training loss: 1.1417...  Val loss: 1.4829...  0.4220 sec/batch\n",
      "Epoch: 1/5...  Training Step: 8451...  Training loss: 1.1589...  Val loss: 1.4803...  0.4565 sec/batch\n",
      "Epoch: 2/5...  Training Step: 8476...  Training loss: 1.1119...  Val loss: 1.4771...  0.4216 sec/batch\n",
      "Epoch: 2/5...  Training Step: 8501...  Training loss: 1.1272...  Val loss: 1.4942...  0.4233 sec/batch\n",
      "Epoch: 2/5...  Training Step: 8526...  Training loss: 1.1271...  Val loss: 1.4821...  0.4278 sec/batch\n",
      "Epoch: 2/5...  Training Step: 8551...  Training loss: 1.1144...  Val loss: 1.4793...  0.4235 sec/batch\n",
      "Epoch: 2/5...  Training Step: 8576...  Training loss: 1.1277...  Val loss: 1.4993...  0.4228 sec/batch\n",
      "Epoch: 2/5...  Training Step: 8601...  Training loss: 1.0912...  Val loss: 1.4901...  0.4237 sec/batch\n",
      "Epoch: 2/5...  Training Step: 8626...  Training loss: 1.1239...  Val loss: 1.4770...  0.4233 sec/batch\n",
      "Epoch: 3/5...  Training Step: 8651...  Training loss: 1.1121...  Val loss: 1.4929...  0.4236 sec/batch\n",
      "Epoch: 3/5...  Training Step: 8676...  Training loss: 1.1332...  Val loss: 1.4841...  0.4244 sec/batch\n",
      "Epoch: 3/5...  Training Step: 8701...  Training loss: 1.0937...  Val loss: 1.4909...  0.4226 sec/batch\n",
      "Epoch: 3/5...  Training Step: 8726...  Training loss: 1.1133...  Val loss: 1.4912...  0.4236 sec/batch\n",
      "Epoch: 3/5...  Training Step: 8751...  Training loss: 1.1248...  Val loss: 1.4844...  0.4235 sec/batch\n",
      "Epoch: 3/5...  Training Step: 8776...  Training loss: 1.1203...  Val loss: 1.4946...  0.4240 sec/batch\n",
      "Epoch: 4/5...  Training Step: 8801...  Training loss: 1.1250...  Val loss: 1.4917...  0.4245 sec/batch\n",
      "Epoch: 4/5...  Training Step: 8826...  Training loss: 1.1244...  Val loss: 1.4905...  0.4239 sec/batch\n",
      "Epoch: 4/5...  Training Step: 8851...  Training loss: 1.1087...  Val loss: 1.4992...  0.4242 sec/batch\n",
      "Epoch: 4/5...  Training Step: 8876...  Training loss: 1.1270...  Val loss: 1.5017...  0.4242 sec/batch\n",
      "Epoch: 4/5...  Training Step: 8901...  Training loss: 1.1303...  Val loss: 1.4882...  0.4242 sec/batch\n",
      "Epoch: 4/5...  Training Step: 8926...  Training loss: 1.1270...  Val loss: 1.4830...  0.4257 sec/batch\n",
      "Epoch: 4/5...  Training Step: 8951...  Training loss: 1.1239...  Val loss: 1.4945...  0.4255 sec/batch\n",
      "Epoch: 5/5...  Training Step: 8976...  Training loss: 1.1187...  Val loss: 1.4952...  0.4241 sec/batch\n"
     ]
    },
    {
     "ename": "KeyboardInterrupt",
     "evalue": "",
     "output_type": "error",
     "traceback": [
      "\u001b[0;31m---------------------------------------------------------------------------\u001b[0m",
      "\u001b[0;31mKeyboardInterrupt\u001b[0m                         Traceback (most recent call last)",
      "\u001b[0;32m<ipython-input-46-41afe65a0a56>\u001b[0m in \u001b[0;36m<module>\u001b[0;34m()\u001b[0m\n\u001b[1;32m     40\u001b[0m                                                  \u001b[0mmodel\u001b[0m\u001b[0;34m.\u001b[0m\u001b[0mfinal_state\u001b[0m\u001b[0;34m,\u001b[0m\u001b[0;34m\u001b[0m\u001b[0m\n\u001b[1;32m     41\u001b[0m                                                  model.optimizer], \n\u001b[0;32m---> 42\u001b[0;31m                                                  feed_dict=feed)\n\u001b[0m\u001b[1;32m     43\u001b[0m \u001b[0;34m\u001b[0m\u001b[0m\n\u001b[1;32m     44\u001b[0m \u001b[0;34m\u001b[0m\u001b[0m\n",
      "\u001b[0;32m~/anaconda2/envs/tf14_gpu_py3/lib/python3.6/site-packages/tensorflow/python/client/session.py\u001b[0m in \u001b[0;36mrun\u001b[0;34m(self, fetches, feed_dict, options, run_metadata)\u001b[0m\n\u001b[1;32m    887\u001b[0m     \u001b[0;32mtry\u001b[0m\u001b[0;34m:\u001b[0m\u001b[0;34m\u001b[0m\u001b[0m\n\u001b[1;32m    888\u001b[0m       result = self._run(None, fetches, feed_dict, options_ptr,\n\u001b[0;32m--> 889\u001b[0;31m                          run_metadata_ptr)\n\u001b[0m\u001b[1;32m    890\u001b[0m       \u001b[0;32mif\u001b[0m \u001b[0mrun_metadata\u001b[0m\u001b[0;34m:\u001b[0m\u001b[0;34m\u001b[0m\u001b[0m\n\u001b[1;32m    891\u001b[0m         \u001b[0mproto_data\u001b[0m \u001b[0;34m=\u001b[0m \u001b[0mtf_session\u001b[0m\u001b[0;34m.\u001b[0m\u001b[0mTF_GetBuffer\u001b[0m\u001b[0;34m(\u001b[0m\u001b[0mrun_metadata_ptr\u001b[0m\u001b[0;34m)\u001b[0m\u001b[0;34m\u001b[0m\u001b[0m\n",
      "\u001b[0;32m~/anaconda2/envs/tf14_gpu_py3/lib/python3.6/site-packages/tensorflow/python/client/session.py\u001b[0m in \u001b[0;36m_run\u001b[0;34m(self, handle, fetches, feed_dict, options, run_metadata)\u001b[0m\n\u001b[1;32m   1118\u001b[0m     \u001b[0;32mif\u001b[0m \u001b[0mfinal_fetches\u001b[0m \u001b[0;32mor\u001b[0m \u001b[0mfinal_targets\u001b[0m \u001b[0;32mor\u001b[0m \u001b[0;34m(\u001b[0m\u001b[0mhandle\u001b[0m \u001b[0;32mand\u001b[0m \u001b[0mfeed_dict_tensor\u001b[0m\u001b[0;34m)\u001b[0m\u001b[0;34m:\u001b[0m\u001b[0;34m\u001b[0m\u001b[0m\n\u001b[1;32m   1119\u001b[0m       results = self._do_run(handle, final_targets, final_fetches,\n\u001b[0;32m-> 1120\u001b[0;31m                              feed_dict_tensor, options, run_metadata)\n\u001b[0m\u001b[1;32m   1121\u001b[0m     \u001b[0;32melse\u001b[0m\u001b[0;34m:\u001b[0m\u001b[0;34m\u001b[0m\u001b[0m\n\u001b[1;32m   1122\u001b[0m       \u001b[0mresults\u001b[0m \u001b[0;34m=\u001b[0m \u001b[0;34m[\u001b[0m\u001b[0;34m]\u001b[0m\u001b[0;34m\u001b[0m\u001b[0m\n",
      "\u001b[0;32m~/anaconda2/envs/tf14_gpu_py3/lib/python3.6/site-packages/tensorflow/python/client/session.py\u001b[0m in \u001b[0;36m_do_run\u001b[0;34m(self, handle, target_list, fetch_list, feed_dict, options, run_metadata)\u001b[0m\n\u001b[1;32m   1315\u001b[0m     \u001b[0;32mif\u001b[0m \u001b[0mhandle\u001b[0m \u001b[0;32mis\u001b[0m \u001b[0;32mNone\u001b[0m\u001b[0;34m:\u001b[0m\u001b[0;34m\u001b[0m\u001b[0m\n\u001b[1;32m   1316\u001b[0m       return self._do_call(_run_fn, self._session, feeds, fetches, targets,\n\u001b[0;32m-> 1317\u001b[0;31m                            options, run_metadata)\n\u001b[0m\u001b[1;32m   1318\u001b[0m     \u001b[0;32melse\u001b[0m\u001b[0;34m:\u001b[0m\u001b[0;34m\u001b[0m\u001b[0m\n\u001b[1;32m   1319\u001b[0m       \u001b[0;32mreturn\u001b[0m \u001b[0mself\u001b[0m\u001b[0;34m.\u001b[0m\u001b[0m_do_call\u001b[0m\u001b[0;34m(\u001b[0m\u001b[0m_prun_fn\u001b[0m\u001b[0;34m,\u001b[0m \u001b[0mself\u001b[0m\u001b[0;34m.\u001b[0m\u001b[0m_session\u001b[0m\u001b[0;34m,\u001b[0m \u001b[0mhandle\u001b[0m\u001b[0;34m,\u001b[0m \u001b[0mfeeds\u001b[0m\u001b[0;34m,\u001b[0m \u001b[0mfetches\u001b[0m\u001b[0;34m)\u001b[0m\u001b[0;34m\u001b[0m\u001b[0m\n",
      "\u001b[0;32m~/anaconda2/envs/tf14_gpu_py3/lib/python3.6/site-packages/tensorflow/python/client/session.py\u001b[0m in \u001b[0;36m_do_call\u001b[0;34m(self, fn, *args)\u001b[0m\n\u001b[1;32m   1321\u001b[0m   \u001b[0;32mdef\u001b[0m \u001b[0m_do_call\u001b[0m\u001b[0;34m(\u001b[0m\u001b[0mself\u001b[0m\u001b[0;34m,\u001b[0m \u001b[0mfn\u001b[0m\u001b[0;34m,\u001b[0m \u001b[0;34m*\u001b[0m\u001b[0margs\u001b[0m\u001b[0;34m)\u001b[0m\u001b[0;34m:\u001b[0m\u001b[0;34m\u001b[0m\u001b[0m\n\u001b[1;32m   1322\u001b[0m     \u001b[0;32mtry\u001b[0m\u001b[0;34m:\u001b[0m\u001b[0;34m\u001b[0m\u001b[0m\n\u001b[0;32m-> 1323\u001b[0;31m       \u001b[0;32mreturn\u001b[0m \u001b[0mfn\u001b[0m\u001b[0;34m(\u001b[0m\u001b[0;34m*\u001b[0m\u001b[0margs\u001b[0m\u001b[0;34m)\u001b[0m\u001b[0;34m\u001b[0m\u001b[0m\n\u001b[0m\u001b[1;32m   1324\u001b[0m     \u001b[0;32mexcept\u001b[0m \u001b[0merrors\u001b[0m\u001b[0;34m.\u001b[0m\u001b[0mOpError\u001b[0m \u001b[0;32mas\u001b[0m \u001b[0me\u001b[0m\u001b[0;34m:\u001b[0m\u001b[0;34m\u001b[0m\u001b[0m\n\u001b[1;32m   1325\u001b[0m       \u001b[0mmessage\u001b[0m \u001b[0;34m=\u001b[0m \u001b[0mcompat\u001b[0m\u001b[0;34m.\u001b[0m\u001b[0mas_text\u001b[0m\u001b[0;34m(\u001b[0m\u001b[0me\u001b[0m\u001b[0;34m.\u001b[0m\u001b[0mmessage\u001b[0m\u001b[0;34m)\u001b[0m\u001b[0;34m\u001b[0m\u001b[0m\n",
      "\u001b[0;32m~/anaconda2/envs/tf14_gpu_py3/lib/python3.6/site-packages/tensorflow/python/client/session.py\u001b[0m in \u001b[0;36m_run_fn\u001b[0;34m(session, feed_dict, fetch_list, target_list, options, run_metadata)\u001b[0m\n\u001b[1;32m   1300\u001b[0m           return tf_session.TF_Run(session, options,\n\u001b[1;32m   1301\u001b[0m                                    \u001b[0mfeed_dict\u001b[0m\u001b[0;34m,\u001b[0m \u001b[0mfetch_list\u001b[0m\u001b[0;34m,\u001b[0m \u001b[0mtarget_list\u001b[0m\u001b[0;34m,\u001b[0m\u001b[0;34m\u001b[0m\u001b[0m\n\u001b[0;32m-> 1302\u001b[0;31m                                    status, run_metadata)\n\u001b[0m\u001b[1;32m   1303\u001b[0m \u001b[0;34m\u001b[0m\u001b[0m\n\u001b[1;32m   1304\u001b[0m     \u001b[0;32mdef\u001b[0m \u001b[0m_prun_fn\u001b[0m\u001b[0;34m(\u001b[0m\u001b[0msession\u001b[0m\u001b[0;34m,\u001b[0m \u001b[0mhandle\u001b[0m\u001b[0;34m,\u001b[0m \u001b[0mfeed_dict\u001b[0m\u001b[0;34m,\u001b[0m \u001b[0mfetch_list\u001b[0m\u001b[0;34m)\u001b[0m\u001b[0;34m:\u001b[0m\u001b[0;34m\u001b[0m\u001b[0m\n",
      "\u001b[0;31mKeyboardInterrupt\u001b[0m: "
     ]
    }
   ],
   "source": [
    "#epochs = 1\n",
    "# Save every N iterations\n",
    "save_every_n = 500\n",
    "print_loss_every_n = 25\n",
    "sample_every = 500\n",
    "print_epoch_time_every = 10\n",
    "\n",
    "with tf.device(\"/gpu:0\"):\n",
    "    model = CharRNN(len(vocab), batch_size=batch_size, num_steps=num_steps,\n",
    "                lstm_size=lstm_size, num_layers=num_layers, \n",
    "                learning_rate=learning_rate)\n",
    "    #print(\"after model\")\n",
    "\n",
    "saver = tf.train.Saver(max_to_keep=5)\n",
    "print(\"Training starting at time:\",strftime(\"%Y-%m-%d %H:%M:%S\", localtime()))\n",
    "train_start_time = time.time()\n",
    "with tf.Session() as sess:\n",
    "    sess.run(tf.global_variables_initializer())\n",
    "    print(\"Number of parameters:\",get_number_of_parameters(),\"Dataset size:\",len(encoded))\n",
    "    #print(\"after initializer\")\n",
    "    if resume_from_checkpoint:\n",
    "        latest_checkpoint = tf.train.latest_checkpoint('checkpoints')\n",
    "        saver.restore(sess, latest_checkpoint)\n",
    "    counter = 0\n",
    "    for e in range(epochs):\n",
    "        # Train network\n",
    "        epoch_start = time.time()\n",
    "        \n",
    "        new_state = sess.run(model.initial_state)\n",
    "        loss = 0\n",
    "        for x, y in get_batches(encoded, batch_size, num_steps):\n",
    "            \n",
    "            \n",
    "            start = time.time()\n",
    "            feed = {model.inputs: x,\n",
    "                    model.targets: y,\n",
    "                    model.keep_prob: keep_prob,\n",
    "                    model.initial_state: new_state}\n",
    "            batch_loss, new_state, _ = sess.run([model.loss, \n",
    "                                                 model.final_state, \n",
    "                                                 model.optimizer], \n",
    "                                                 feed_dict=feed)\n",
    "        \n",
    "            \n",
    "            end = time.time()\n",
    "            if counter%print_loss_every_n == 0:\n",
    "                val_batches = get_batches(encoded_val,int(len(encoded_val)/num_steps),num_steps)\n",
    "                x_val,y_val = next(val_batches)\n",
    "                \n",
    "                val_dict = {model.inputs: x_val,\n",
    "                            model.targets: y_val,\n",
    "                            model.keep_prob: 1,\n",
    "                            model.initial_state: new_state}\n",
    "                \n",
    "                val_loss,prediction = sess.run([model.loss,model.prediction],feed_dict=val_dict)\n",
    "                \n",
    "                losses[\"train\"].append(batch_loss)\n",
    "                losses[\"validation\"].append(val_loss)\n",
    "                \n",
    "                \n",
    "                global_step = tf.train.global_step(sess,model.global_step_tensor)\n",
    "                x_steps.append(global_step)\n",
    "                \n",
    "                print('Epoch: {}/{}... '.format(e+1, epochs),\n",
    "                      'Training Step: {}... '.format(global_step),\n",
    "                      'Training loss: {:.4f}... '.format(batch_loss),\n",
    "                      'Val loss: {:.4f}... '.format(val_loss),\n",
    "                      '{:.4f} sec/batch'.format((end-start)))\n",
    "        \n",
    "            if (counter % save_every_n == 0):\n",
    "                global_step = tf.train.global_step(sess,model.global_step_tensor)\n",
    "                saver.save(sess, \"checkpoints/m{}_i{}_l{}.ckpt\".format(mode,global_step, lstm_size))\n",
    "                \n",
    "            counter += 1\n",
    "            #learning_rate*=0.75\n",
    "            #model.optimizer = build_optimizer(model.loss,learning_rate,model.grad_clip,model.global_step_tensor)\n",
    "        \n",
    "        epoch_end = time.time()\n",
    "        \n",
    "        \n",
    "        if ((e+1) % print_epoch_time_every== 0):\n",
    "            print('Epoch {}/{} time:{}...'.format(e+1,epochs,epoch_end-epoch_start),\n",
    "                 \" finished at\",strftime(\"%Y-%m-%d %H:%M:%S\", localtime()))\n",
    "        \n",
    "            \n",
    "    global_step = tf.train.global_step(sess,model.global_step_tensor)\n",
    "    saver.save(sess, \"checkpoints/m{}_i{}_l{}.ckpt\".format(mode,global_step, lstm_size))\n",
    "    \n",
    "print(\"Training ending at time:\",strftime(\"%Y-%m-%d %H:%M:%S\", localtime()))\n",
    "print(\"Trainint total time:\",time.time()-train_start_time)"
   ]
  },
  {
   "cell_type": "code",
   "execution_count": 47,
   "metadata": {},
   "outputs": [
    {
     "data": {
      "image/png": "[encoded data removed]",
      "text/plain": [
       "<matplotlib.figure.Figure at 0x7fc88c492400>"
      ]
     },
     "metadata": {
      "image/png": {
       "height": 250,
       "width": 373
      }
     },
     "output_type": "display_data"
    }
   ],
   "source": [
    "plt.plot(x_steps,losses[\"train\"],label=\"Train loss\")\n",
    "plt.plot(x_steps,losses[\"validation\"],label=\"Validation loss\")\n",
    "plt.legend()\n",
    "_ = plt.ylim()"
   ]
  },
  {
   "cell_type": "markdown",
   "metadata": {},
   "source": [
    "#### Saved checkpoints\n",
    "\n",
    "Read up on saving and loading checkpoints here: https://www.tensorflow.org/programmers_guide/variables"
   ]
  },
  {
   "cell_type": "code",
   "execution_count": 48,
   "metadata": {
    "collapsed": true
   },
   "outputs": [],
   "source": [
    "checkpoints = tf.train.get_checkpoint_state('checkpoints')"
   ]
  },
  {
   "cell_type": "markdown",
   "metadata": {},
   "source": [
    "## Sampling final trained model\n",
    "\n",
    "Now that the network is trained, we'll can use it to generate new text. The idea is that we pass in a character, then the network will predict the next character. We can use the new one, to predict the next one. And we keep doing this to generate all new text. I also included some functionality to prime the network with some text by passing in a string and building up a state from that.\n",
    "\n",
    "The network gives us predictions for each character. To reduce noise and make things a little less random, I'm going to only choose a new character from the top N most likely characters.\n",
    "\n"
   ]
  },
  {
   "cell_type": "code",
   "execution_count": 49,
   "metadata": {
    "collapsed": true
   },
   "outputs": [],
   "source": [
    "def sample(checkpoint, n_samples, lstm_size, vocab_size, prime=\"The \",mode=\"characters\"):\n",
    "    print(mode)\n",
    "    samples = tokenize_text(prime,mode)\n",
    "    model = CharRNN(len(vocab), lstm_size=lstm_size, sampling=True)\n",
    "    saver = tf.train.Saver()\n",
    "    with tf.Session() as sess:\n",
    "        saver.restore(sess, checkpoint)\n",
    "        new_state = sess.run(model.initial_state)\n",
    "        for c in tokenize_text(prime,mode):\n",
    "            x = np.zeros((1, 1))\n",
    "            x[0,0] = vocab_to_int[c]\n",
    "            feed = {model.inputs: x,\n",
    "                    model.keep_prob: 1.,\n",
    "                    model.initial_state: new_state}\n",
    "            preds, new_state = sess.run([model.prediction, model.final_state], \n",
    "                                         feed_dict=feed)\n",
    "\n",
    "        c = pick_top_n(preds, len(vocab))\n",
    "        samples.append(int_to_vocab[c])\n",
    "\n",
    "        for i in range(n_samples):\n",
    "            x[0,0] = c\n",
    "            feed = {model.inputs: x,\n",
    "                    model.keep_prob: 1.,\n",
    "                    model.initial_state: new_state}\n",
    "            preds, new_state = sess.run([model.prediction, model.final_state], \n",
    "                                         feed_dict=feed)\n",
    "\n",
    "            c = pick_top_n(preds, len(vocab))\n",
    "            samples.append(int_to_vocab[c])\n",
    "        \n",
    "    return ''.join(samples).replace(\"new_line_token\",\"\\n\")"
   ]
  },
  {
   "cell_type": "markdown",
   "metadata": {},
   "source": [
    "Here, pass in the path to a checkpoint and sample from the network."
   ]
  },
  {
   "cell_type": "code",
   "execution_count": 50,
   "metadata": {},
   "outputs": [
    {
     "data": {
      "text/plain": [
       "'checkpoints/mcharacters_i8801_l768.ckpt'"
      ]
     },
     "execution_count": 50,
     "metadata": {},
     "output_type": "execute_result"
    }
   ],
   "source": [
    "tf.train.latest_checkpoint('checkpoints')"
   ]
  },
  {
   "cell_type": "markdown",
   "metadata": {},
   "source": [
    "## Generate new text from \"base\" text"
   ]
  },
  {
   "cell_type": "code",
   "execution_count": 51,
   "metadata": {},
   "outputs": [
    {
     "name": "stdout",
     "output_type": "stream",
     "text": [
      "characters\n",
      "Tensor(\"rnn/transpose:0\", shape=(1, 1, 768), dtype=float32)\n",
      "INFO:tensorflow:Restoring parameters from checkpoints/mcharacters_i8801_l768.ckpt\n",
      "characters\n",
      "Tensor(\"rnn/transpose:0\", shape=(1, 1, 768), dtype=float32)\n",
      "INFO:tensorflow:Restoring parameters from checkpoints/mcharacters_i8801_l768.ckpt\n",
      "characters\n",
      "Tensor(\"rnn/transpose:0\", shape=(1, 1, 768), dtype=float32)\n",
      "INFO:tensorflow:Restoring parameters from checkpoints/mcharacters_i8801_l768.ckpt\n",
      "characters\n",
      "Tensor(\"rnn/transpose:0\", shape=(1, 1, 768), dtype=float32)\n",
      "INFO:tensorflow:Restoring parameters from checkpoints/mcharacters_i8801_l768.ckpt\n",
      "characters\n",
      "Tensor(\"rnn/transpose:0\", shape=(1, 1, 768), dtype=float32)\n",
      "INFO:tensorflow:Restoring parameters from checkpoints/mcharacters_i8801_l768.ckpt\n",
      "characters\n",
      "Tensor(\"rnn/transpose:0\", shape=(1, 1, 768), dtype=float32)\n",
      "INFO:tensorflow:Restoring parameters from checkpoints/mcharacters_i8801_l768.ckpt\n",
      "characters\n",
      "Tensor(\"rnn/transpose:0\", shape=(1, 1, 768), dtype=float32)\n",
      "INFO:tensorflow:Restoring parameters from checkpoints/mcharacters_i8801_l768.ckpt\n",
      "characters\n",
      "Tensor(\"rnn/transpose:0\", shape=(1, 1, 768), dtype=float32)\n",
      "INFO:tensorflow:Restoring parameters from checkpoints/mcharacters_i8801_l768.ckpt\n",
      "characters\n",
      "Tensor(\"rnn/transpose:0\", shape=(1, 1, 768), dtype=float32)\n",
      "INFO:tensorflow:Restoring parameters from checkpoints/mcharacters_i8801_l768.ckpt\n",
      "characters\n",
      "Tensor(\"rnn/transpose:0\", shape=(1, 1, 768), dtype=float32)\n",
      "INFO:tensorflow:Restoring parameters from checkpoints/mcharacters_i8801_l768.ckpt\n",
      "characters\n",
      "Tensor(\"rnn/transpose:0\", shape=(1, 1, 768), dtype=float32)\n",
      "INFO:tensorflow:Restoring parameters from checkpoints/mcharacters_i8801_l768.ckpt\n",
      "characters\n",
      "Tensor(\"rnn/transpose:0\", shape=(1, 1, 768), dtype=float32)\n",
      "INFO:tensorflow:Restoring parameters from checkpoints/mcharacters_i8801_l768.ckpt\n",
      "characters\n",
      "Tensor(\"rnn/transpose:0\", shape=(1, 1, 768), dtype=float32)\n",
      "INFO:tensorflow:Restoring parameters from checkpoints/mcharacters_i8801_l768.ckpt\n",
      "characters\n",
      "Tensor(\"rnn/transpose:0\", shape=(1, 1, 768), dtype=float32)\n",
      "INFO:tensorflow:Restoring parameters from checkpoints/mcharacters_i8801_l768.ckpt\n",
      "characters\n",
      "Tensor(\"rnn/transpose:0\", shape=(1, 1, 768), dtype=float32)\n",
      "INFO:tensorflow:Restoring parameters from checkpoints/mcharacters_i8801_l768.ckpt\n",
      "characters\n",
      "Tensor(\"rnn/transpose:0\", shape=(1, 1, 768), dtype=float32)\n",
      "INFO:tensorflow:Restoring parameters from checkpoints/mcharacters_i8801_l768.ckpt\n"
     ]
    }
   ],
   "source": [
    "\n",
    "checkpoint = tf.train.latest_checkpoint('checkpoints')\n",
    "\n",
    "\n",
    "samples = list()\n",
    "for text in text_to_try:\n",
    "    #print(\"------------------------\",text)\n",
    "    samples.append( sample(checkpoint, 500, lstm_size, len(vocab), prime=text,mode=mode))\n",
    "    #print(samp)\n",
    "    #print(\"------------------------\")"
   ]
  },
  {
   "cell_type": "code",
   "execution_count": 52,
   "metadata": {},
   "outputs": [
    {
     "name": "stdout",
     "output_type": "stream",
     "text": [
      "------------------------ In the first place\n",
      "In the first place where it was no other than the fumbling and sentred force of the grim withered chimney outside and from their carvings. He spoke of a large stone and solid residence of the point because of the police. With a consummation of the chain which struck me in my case.\n",
      "\n",
      "The shock of the series of the surriving and palpable, in a faith of the ballast's south and most.\n",
      "\n",
      "                       CHAPTER XXI\n",
      "\n",
      "    Augustus and Marriage steps to a child and so much the secret to the word -- whe had been the mu\n",
      "------------------------\n",
      "------------------------ the night before\n",
      "the night before and based on the southward and farther events.\n",
      "     In the end of the field-glass and three studyness overhapal, and at times he had a distinct person than three of its church, and absolutely analogous familiarity—and though I was almost a farther suggestion in their chosen attentavel to the carved stricters, where the discovery of the method farther around the sunset-giens had given to the torn of about twreet, and that he would hear a strange child of the preservable specimen was a sort of suc\n",
      "------------------------\n",
      "------------------------ horror\n",
      "horror—the first and unknown course to wind with it. In the centre of the tense attempt, there had been nearly the students of the clatter from a storm, but the motions, so as to bun a few minutes against the black water far from the boat. After a few moments I saw the chin was\n",
      "strongly searchable. The sea could never have been talking to and fro,\n",
      "still the company were absolutely called upon hope. The\n",
      "penguin sand-conditions of a strangely and indulged blasphemies and trations of the cult. When, throu\n",
      "------------------------\n",
      "------------------------ creature\n",
      "creature, where never a message was no sertent from the same moment of some darkness and carven survival arms and distressed theme to the distant window on which he was sent in the strange doors of the country; the class for sometimes the colourable special crumbling walls of the carved canoes and combinitations of the same proportions, and traces of some odd store of the pale speech, blicketed and painless, sea-bighes, and other statuls and the star-stratific streams of some simple communion with him an\n",
      "------------------------\n",
      "------------------------ night\n",
      "night of such cruelly, and that all the superstitious spaces, holfing somewhat later than my sufferers. The frightful carrying which the series of consultations, and which was so far as to be seen, but the presence of hideous perplination, or about three years, but the features of the mad heavy spirit of the classes or spirits of mathematician; and if this is a passion, the public at the country and three-first and more tones of some curiousity and confirmation.\n",
      "     The conduct of the middy insistenc\n",
      "------------------------\n",
      "------------------------ dream\n",
      "dream, but he could tell it with a capalicated condition, and which was another that of the day had never before known in trunks and strange stars of the stone and spectral monster he said.\n",
      "     “No shad was the ordinary organ, so that he saw that it was a small colonial rampart as a fresh black and above the plunge and tale still surfaces at the same time as if to be a strong change in the troosence were not absolutely pointed by some struggles about the mountains of the carven roofs of a mile on whi\n",
      "------------------------\n",
      "------------------------ thing\n",
      "thing we designed.\n",
      "     In the meantime the town—where the monstrous shapes and the chemical specimens were almost explained; but with a carven and desolate side we had climbed from the stars, and started toward the shadow of the deadly precipice of sea-party and somewhat lighted the beacon of the strange final deserted fingers of the great, broken space, and the sand and college spasmodic specimens of their professors in the college desert of my son. There were no somewhat second struggle on that dis\n",
      "------------------------\n",
      "------------------------ That night\n",
      "That night at the solar system, the colonis whispers were not so case as to the safe policy; that it marked a subtle than a point from a call of things that we could see and about the present and incredible substances and the curse. It was something to startle from the streams and arrangements of surveyal sources—and of a singular and article about his stone through to the charnel columns of Curwen's only cased westward and palpable shadow. The people are not seen that treating period of antiquarian primal\n",
      "------------------------\n",
      "------------------------ mountain\n",
      "mountains of mere metal boats or plingels and sort of prisoners of some silent specimen into a paint and the steen mountain characters of the granite street of the clouds. The chief stone was something thicket or stumbled fresh the same step.\n",
      "     We came indeed the shore-beard fronts of my deserted archway, and the stone out of the weird spectral bleck where the green cavern, set of the great distance from the collapse of such childishness which had suggested a simple of the proper conclusion of shapes \n",
      "------------------------\n",
      "------------------------ Ammi\n",
      "Ammi, and that their ships had a casual spectacle than that. There are fair shapes and the black streats of star-stones and their seamen and the stench and the best passes around them. The blood was a small burrow, and while however, the terraced sensation of strange and time arrested an approach from the distant cave-mouths, where the great stone floor with a strange, followed business of a cellar or a stone with still solemn aspace was to seek the stupid of a freak-baseme. While I thought, he would\n",
      "------------------------\n",
      "------------------------ Cthulhu\n",
      "Cthulhu call and my discovery.\n",
      "\n",
      "Ward had been disturbed, but it would be many of the seaman's district. Then a large black and corridor was chanting. It had been the shantak, but a morbid cargo of monstrous sunset city—such thoughts of the missing monstrous stairs and the glare to the sea at the stone where the river steaded them to the country folk on the room. A long corners of a case was the carven cone station of the thing it was able to shew the passive stone as it came in the animal instead of see\n",
      "------------------------\n",
      "------------------------ raven\n",
      "raven and streamed as the murders of the passage which had shewn a policeman again. That was the memory of the sunlight, they such a strangely and instruments there can sat off and disturbed a man after markings. In that silk was sure that to me that the trouble was on the temple or a few other things at a strange specimen as a secret record of the stone claws whose trunks and draggeds assumed an inclined paths and the glances were not frankly about the moon. There were only three descendity and the s\n",
      "------------------------\n",
      "------------------------ bird\n",
      "birds about the patient and terror whom I was about to drop the terrible space to be the secret of the steep which I had been trusted from the south and the camp over the blanket-hand. Whose condition of the servants stood, short and soundless, and a penguin altar beyond the party of the penguin. How he was still thinking of his\n",
      "monstrous examination which has been discovered.\n",
      "\n",
      "I was, it was to be often startled at other statement,\n",
      "to suffer a confusion of actual portion of my feeling.' I saw that th\n",
      "------------------------\n",
      "------------------------ nevermore\n",
      "nevermore in the deep belt of this abnormal and artifuleation of the proper care and attempt at any morbid opening. It was, though, at the temple in the sunset, and wishing the shape of the subject, the beating took a last and unnecessary shape in within the southern side, and a faint suggestion that,\n",
      "after a strength, having studied by\n",
      "a load and a face and a short party whose sound could be sufficient to be seen in the same manner to stand. I have now discovered, in a sentence.\n",
      "\n",
      "    A large comfortable \n",
      "------------------------\n",
      "------------------------ dead\n",
      "dead in the centre of the shell; and that there was a graveyard even when there were twelve feet wader and struck themselves in the altered stone with that chaos, sons found to see the clatter, and the travellers of a sharp and deceitiof. The survivors and conditions and their fears would have been a serpents that could be no prevalence. There were silent fancaries and pale and shewed sounds of an archwage from which we had seen to the rest of the presence of arms, and he had seen the sound of a stra\n",
      "------------------------\n",
      "------------------------ The bird\n",
      "The bird of the Cold Spoin, and took a chance to see how my senses appeared to be sure that the monstrous pale although the deceased and the proper matter, to which they have a doub and profound and actual remusant of the country issuing frenzy of that light and its black mountains and corridors in the case.\n",
      "     On the face we had the cargoes watched for some time. They had a chance that him had been somewhat senditive territy of their possible exposure. An upper perforation was an excellent action of t\n",
      "------------------------\n"
     ]
    }
   ],
   "source": [
    "for i in range(len(text_to_try)):\n",
    "    text = text_to_try[i]\n",
    "    generated = samples[i]\n",
    "    print(\"------------------------\",text)\n",
    "    print(generated)\n",
    "    print(\"------------------------\")"
   ]
  },
  {
   "cell_type": "code",
   "execution_count": 53,
   "metadata": {},
   "outputs": [
    {
     "data": {
      "text/plain": [
       "model_checkpoint_path: \"checkpoints/mcharacters_i8801_l768.ckpt\"\n",
       "all_model_checkpoint_paths: \"checkpoints/mcharacters_i8301_l768.ckpt\"\n",
       "all_model_checkpoint_paths: \"checkpoints/mcharacters_i8801_l768.ckpt\""
      ]
     },
     "execution_count": 53,
     "metadata": {},
     "output_type": "execute_result"
    }
   ],
   "source": [
    "tf.train.get_checkpoint_state('checkpoints')"
   ]
  },
  {
   "cell_type": "code",
   "execution_count": 54,
   "metadata": {},
   "outputs": [
    {
     "name": "stdout",
     "output_type": "stream",
     "text": [
      "characters\n",
      "Tensor(\"rnn/transpose:0\", shape=(1, 1, 768), dtype=float32)\n",
      "INFO:tensorflow:Restoring parameters from checkpoints/mcharacters_i8801_l768.ckpt\n",
      "The old folk have gone away. When I replaced that the music sentries they would survivor. This metal was a moment as a genuine primal, and hardest seemed to reach the shops of the strangeness whose charmed cases, such as the profit and colamanial students was completely carried in the seals of strange assemblages and an identification. There came futtists in the seven minutes after his chird, and to the sealed and mural observary suppliedon above, and of the marvellous city above an approach to the farmhouse, and the stairs and stature of the confident and made story of milds of a front door and case of substance of an impartal colonial subterranean place and a front realm of continued stairs; finding the plainest cases of solern times about his combon and terrain, the frightful stars whos he was steadied for the presence of the marvellous strest of a small, case and shadow and the moments before the town to hope of their place. The four million years ago, the solar plints or three fancy from the shelves as he saw it as well as\n",
      "the bare farm that seemed to be in his store and a highly searching study, and so that in some of the monstrous sizes of the staircase.\n",
      "     At length the sharp stone wild a preparate study of the ship which will not fail to retrock this pait and that how they saw the boy through them, and they approached the corpse and disappeared to some strength to himself, and still he could not help finally outside of the country to a canoe, but they heard of them was that of such personality. Transcends of sumplus world he shewed something which had become so far from the missing of the morbid terror as in the same tangle which was not to find these planets, three on the street white, sea-looking fear of the great cibility. And all the windows were fluid of fresh, leaping shores of spire-crowned and discussed permented and sensible\n",
      "conferences when the sun would help to brain.\n",
      "     The ship was true, since the camp and spectral moon, whose conditions are told of our four confidents. It was sufficiently distinct. This is a single succession of trouble, and, it was sufficiently felt that the corpse was of centuries. Those were an interstellation of the first possibility of having all the\n",
      "first time to their father and my own. Then there were other mistakes to a disappointme. He was a fearful figure, we had seen that the captain was the four and then of causing him. Then a perfect time I should never be considered than any of these\n",
      "things, if an experiment of the murder would be secured, and we could not but that it was not the cunning of the sensations. In this street we had no\n",
      "more than the consequences of the path of arrangements, and it was needed for them in making the crass to the rest of a shifing of such a strong and since all which could have\n",
      "been conclude of the strangeness of me with the cabin without making an effort to drow and determined\n",
      "to see. I will not see,\" and I have said, 'said to much in the decision of the studies and the carvings, which stood themselves to the possibility of more anomalously confirmation. Having sought the bolt of the black gase, he still stared, in some one, and\n",
      "twenty-four hours we had never before danged to remove. The well-contents often shot them for a frightful simple ordinary and unimaginable persons with wine; far for the complete dim silence of the water. In space of all, the subject and speech stood out to the walls.\n",
      "\n",
      "\"While you could see a dare end to that we have, a dead on the base. The figures on the streech of an improbable secret. I was a man whom I can not resolved to reach the brig and brannhed his frightful personage in the strees. Whe at that second, the fear of his mind are the only plan to see in the body, without done which I have so long extended.\n",
      "     After what he had so silently destroyed my eyes, but would have threw one of the countryside when he would have been saved, the stern shouted persons were\n",
      "served from some solid recess of the accudued stone, and the fact was such that we hoped at once startled in a carvings, and as if they were to be actually suspended, and sufficient to consent our company to this subject than his own corpse to arrive and stumble in the point. The figures were forced in more than once metamorphoses, and as there is no matter to be described, which they said against me.\n",
      "\n",
      "   The senses of the police were three flash of my\n",
      "friends, the many absence of\n",
      "their face, and the ancient railway, by some miners and serious aspects as had been to be seen in the company whatever it\n",
      "might ensue; and this the character of their points in the corpse was so common as\n",
      "to show importance when they could scarce through the corner of her professors; and, indeed, he was almost attached to the fellows. He thought\n",
      "of my command when we call out, and the first of my son stood. As the captain, the shrieks were striving altered, into the floor. There is no moment of the castle. This man was now the most sightless of the crowd, and, in the end of\n",
      "the being.\n"
     ]
    }
   ],
   "source": [
    "generated = sample(checkpoint, 5000, lstm_size, len(vocab), prime=\"The old folk have gone away\",mode=mode)\n",
    "print(generated)"
   ]
  },
  {
   "cell_type": "code",
   "execution_count": 55,
   "metadata": {},
   "outputs": [
    {
     "name": "stdout",
     "output_type": "stream",
     "text": [
      "characters\n",
      "Tensor(\"rnn/transpose:0\", shape=(1, 1, 768), dtype=float32)\n",
      "INFO:tensorflow:Restoring parameters from checkpoints/mcharacters_i8801_l768.ckpt\n",
      "The thing that should not be definitelyt sensation to our studies; but this man is not sure that I was the secret and manner of madness. The soul of the party were nearly sure that the confidence of its story half according to the descent atop unknown Kadath. At a dog, the shock and a half of colors were flight in woods beneath the ruins of the sea. This structure was a mad week and completely settled thingarian that the mountain cases of the penetrator of the massive palms and secret leaders of the countryside of that case and the creatures of the present steeple of the crypt on a gleaming chamber; and when she consisted of many crazily and more trickle being from the case. Then, all of a made, with a more positively paralysed bridges. The steastern science was so far twe them was an old monstrosities of silence; through them a long and almost exceedingly archaic fear that he had buesed in his conduct to set out the sailors to those whom he had left about which his men had still, and as I heard of them as the classes and souls of the sub-thickes, the man who could not explain these times—who ten or seethings that sold their proper mental persons. It was then that I could not reach the story of the bungalow answered. He was greatly able to commence an objective frenzy of tropical breakdown stratch with the strange strain in stanking; and the source of the military stone stone clothing, and a series of serene, and one on the strangely palaceous and moments of the surface of my assuming men who was seen. That was the carvor, and some settled carven and case and seemed so clutching outside; and the fresh thing to the sound of the sea below the clouds will be their fellow-speech and arms in the strange steps; that in the sea of the creature and his companions a chemical superficial consequences and personal and more second chimney, of such concerns, and an art must be colder and more perfect surprise. There could be no more ton of his complex or forby secrets, though the calls of Pholograph and Autural chemicals seemed to clutch and profoundly fragmentary. As they were strong, the mate had seen a good police source of design and an unproportioned sunlight. Then his father was the feeble self and a stony stone on a cargo, which head a stalled substance of such colours, a stantarding stone, surges into the flewing city which set out at other things. That the damp archway through the clambering of the great stairs, though that face and peace and the southward sign of the sea were fully streaming in a dream-shadowed plane throughout their objects was placed by some disgusted carpous far to the design of man’s doceful praying of his company seet in a space, temporary statements and the massive sections of the grave and a hundred years of form the place of short tremors. It was the last sort. There, however, should be strange, but he was taken to believe that his case had been changed without the disturbance, and that the three metal book and sunking came to the floor of the hill, which the first markes of the comband were suggested, it was the case, which I shall believe that the sum and sheer death of the shore are a local pole, with a cult and change in the company. The case was now set there.\n",
      "     The frightful character with the sale and almost evil-planet is never suspected. When the closer shape of a clest at mention of the claws were stating in the depths of the secret, and a frantic light on the corridor beyond the strange stony windowless shore of the gulf of the globule seemed to be afterward, to the present part of the clouds to a startling character of the presence of the senior Ward as the party they was still alive, till he had to defen the boy of the green and terrible search of the great tries and stark facious changes of passion and choking sounds. There had been a carvings of two or three sides, with the familiar studies of this partition and the merchants of the pallid panels, they were now set to transfer only the persons from outside—which his stories were startling from a candle or convincing prapinity of despair. The town was a profoundly anthropologist of a single season, and a series of strange and more tremelous thought than that which he had come to take in telling a sea-circumstance blew on, the message and some of the onyx canor, that was so surprisingly accurate in the police. The practice of with his case there was three days as the sun or midnight caused the carvings and pentagents of the stones; but a final complete search on the sidewalk had left. The shantak where the death-garden was a fresh, and a fine steps leading damaged from the deep space—and then the shelves of a seamingle standing, the lifeless country formed only a fire sign of sense that shewing helm ofhered. Those outside and distant worlds were about to see.\n",
      "     The source was all the security of the planks, and, as if the step, we saw that the cler would be of a stream. It had burst under a clew but stared by the stars, but that we had thrown the close path to the sea, though triusted and sent as my eyes; and the sunset city of the strange carven river could see where the basement and the chemical and horrible child. It is the creepings of that sensitive statements to an old ladder. The thing was so feable that to such a place had never been in the statement of several decay at some distance. The tongue was so solution. It was a feeling of creaking words from the collateral stones of the door.\n",
      "\n",
      "One name the case, I supposed to be a child of sight and to disturb and stumble a shock with a curious policy to see what such private help as we had been at all and a following sensation into which the supernal supplying city of strange shades shrunken, and the soled stone cased to the direction of many subject and cut me. That, too, the steps are considerable from a somewhat uncovering on that side of that dear claw-pointed shadows. It was an intrustic climb to the top of an ancient roof with stone spaces and policy business in stone camps; though a feeling seeming to steady at least two or the most size and substances that on a great stone winding presumptuon impedinglas more than forty-ten times, black shadows of the soul, which could have been so far as the men as secured by the society of the mind of a monstrosing. As he hoped the case was the shapeless statement of the carvings, the managem, too strangely constructed by two formers of\n",
      "the place, it appeared to him the case of the crushes. It was now some disturbance of a sudden and a much man and the forecastle. The\n",
      "sea some of the characters of the primal precipices, and a point which we would not survive. The precautions were\n",
      "not always a signal in my face. And thus, however, he were so story, and we are entertained of suspicions in my part, and the chain of the streets were now fastened in mystery to the\n",
      "body of a fair. The figures of the barrier weather, the boat was that of a short driving, and the whole fellow should have built out all\n",
      "the stern successful of my ortinary combants.\n",
      "\n",
      "    After some time before so far as that of my own\n",
      "ends. When I saw the side of the brink a frequent roof with\n",
      "the stars, where several man im to believe that the\n",
      "sea and surface was of the foot. At the same moment the removal of the chamber without at a large\n",
      "space, being filed and stricken, and, upon these possible conversations, with the seas of a stream and the first ster, which this mere searches were so far\n",
      "betaker in view. At the end of a few minutes, a mere sensation aroused by the\n",
      "pursuit of the creature, and a painted fishermen\n",
      "church and a sight of madness.\n",
      "\n",
      "\"The mass of the story childhood.\"\n",
      "\n",
      "\"A single his soul of the carpoonal carpet, the mouth of the secrets which has entered those streams of solid point, or through a line of some study, and of this massed case with a case of the most designate individualisms.\n",
      "\n",
      "And now, immediately afterwards, a fact that we changed in a fevering morner of seamen for the purpose\n",
      "of starking as it was still andher an almost excessively dog-looking discovery of their foliage into all signals and prisoners; and we came again after a moment that I was not to be admitted but this although about three o'clock that he had to be falling out. That I could tell his facolity and processes\n",
      "of the furious standard traded made to the best and dissolved\n",
      "to the secret carrow and mountains and the cases of monstrous terraces, and of colours and carvings and pray to seek the creaking of the surface; was as for a time, as I found it. And as I searched and saw sheetly and five or even faint glimpses of my senses. There was not a surprising specimen for which I was strong and shaking more. The tower was seen by some tense track of stains the chain of strange sides of the shining circles, there was some degree of abstract and arms which still readily seemed to the supposed group of spots and an ancient tower all of stench which had at length traversed thought of the stone stone course of his complete charring, with the gables for such subdued archages in that of the plateau and spell that have never been at lash. The terrible past wereing an open and set of thoroughfare and tense and still students as in the same carved fishing spice-conscious, shadowy continent of the shocking musicians and her substance. The subject to the friend could be decided, was this anternal and unholy abyss, overthrown feeble and discovered abyss of the group of cases which still ran the same door and the bottom of the castle. The supplies and angles of those only chains we had been able to strange feet and silver silence; for she saw a landed planet’s space, but no moonless steam above the police. The thing—some of them were succieded by the plains of horror. When their searches and the doors of the ground was choked the stern, and toward the rate of distinct spaces on the stars and the cold talked the stairs of my strength that they were so simple when a set was too somewhat at the track of the stone chairs of the room we wished; and as he was beyond this stern remote age a shock of cat whose sound seemed clissed with a pair of country; for the first the dresses of a face and other things and carvenses were stalled with some distance; so that we had at first admitted that the trouble saw that the threaden of subtly surprising difficulty. The care of them shewed mere things, but the distant mad came of the bridge was shockingly set on the same side, but the dark witches and a mad compared windows were set out from the golden blackness and pallid and cave-like appearances to seek out a few storms and claw-being wools and the shantak before them, terrible and secretly factory planet. In a second there was only a promissoory. Those old man had burst fills and conversations about their octurn and matter increased.\n",
      "     As I think of this time was a formign flight of stone, so that it hes shining straining with their sunking, and was never seriously disposed to be on ease and decided; and his appalling angles had all the abstraction of solid roads, and on this particular loom, and secured by his owing abnormal communications and teeth of the courts, we set in south and tremendously accustomed the madness, where the shantak below the street was still as hard transformation in the ancient raiding-panel, and the cryptic consistency from whose trap-door and the same thing that strowed the carven shriek and shaken by the clearing ground associated, and the monstrous floor suggested the fourth were sufficiently stranger than tremendous comparison with his features of the dark person and her plainest primitive police. There were animals, of course, with hideous and unknown assection. His face was always beauty beyond sight of my face; but whence that held this man there were two mad claws of stairs, and the men was a great ran and the court of the dog. Its stone, the fresh strokes of the haunted mansion, while the glass black walls of monstrous trees on a century and a mixture. The senses were soon afterward, so that, then to which the senior Ward was no longer; for in the carvings were almost evident that a colour sailed out against the water and for some moments and a small state, and that on his corregat on that cry which made the cold and sternly roof formed a few whose sight was that of an almost immoderately ancient and almost excitement abruptly buried the sounds of the change, and to the sea of the mind and shadows, the bruised and mistaken point of thoushtden changes of constollations and causes of their careful details shot through the same case below the bandage. They stood into a colossal country of a climbing stone change in the secret surface of the clouds and strangers where signs of common cats shone frequently. It was not so firm as to transfer that the thread of the candle were almost asceptib and despaired for the destroyed state of morbidity. And the company seemed to be able to steal that all our sidelook was the complete and sembling stone chambers which he could not see in this archaic spectral minister; talking of the strange discoveries which the present was a singular supposed press was no longer any certain times. All the things were now startling for their common ancient titanic legends, and that we died to a stream of continuous state of abysms of that soul which we could not suggest from the monstrous parts and propostions that had been terrible in the dark proper police.\n",
      "     The chief of the peril was soon sufficient to discuss the face of the private child,\n",
      "and the sailors and suggestions of some other stone trees on the second door, and on other careers set the town and farther flashing of the glimpse would surely come over to that pening of the great sea-bottom cities of armies and a complecity outside whose distant man was a four and a shriek of sunlight around the period of our precautions. We were filled with a sudden and ushed through arms, and shots and shades on beams and corridors and streams and crumbling grounds and trees; and all the world stroke it strongly in the door of the southern building; and after a long time the first time we did not resist. In several was several degrees to tell it were sevarely persisted to that the contents and personality of his professors; but I had seized a comiss claws of abnormal personality as a footprint of several manners at those trees. Sometimes they shook some destiny which I had all been seen; and whilst the three wounds and specimens were silently secretive; and though the details of the midrame and the country were already the subject of tarny respects; as we could accomplished the servants at the top, and the most interesting of the cloud-standing shelves with the torch finally seen, and to the floor of the daemon shadow and sunken times of a greatest disturbance. The plane and chamber of the door and cold created space at sea and felt it to be that of a galance to a faithful abyss of damp standor. Had his forefeast at his manuscript, he seemed to have taken to be a called stealthily and instinctive security as witchfur, and a policemdn and strangely street search of the coming of the stone where he could say, and so might be a particle of some of the stern colour.\n",
      "     That thing had been depended. And when this triumph of corrse was a singular fanged frightful stone stone building. On the town from Blake, a single time of all the dogs howling in the great roofs, which lay at the same time abroad. As the sum was the shrill stone connecting distant country floor a senior castal was to see the crash that we drove through three stoneard walls of strange sides, and the strained-store and pitted with collequidenning of the corners of the depths and the cold ard terrified men, those of some secrets for the cold stood of deciphering and starting-torch. It is not sure that the shock of that material called the many-busided possibilities when wholly unpossessed with the massed point of complication and shewing; and these we had not enough now to be admitted to the angles of their first, and a personal and most paid of parts which hoped they called for the community as he was a somawhast far from the country all the conticuous pensions before their pretense half-mild washes of the gradual straightening and the thirty-city of some other size and soul-shaped bottles of the part of misty feet in the great trees where twelve might had been disturbed by a mild trees, through trees and terraced shelves and then, till they could not be seen, and his master will be seen for several property—the stales of the seven minutes after the document the study of the sound of the most absolute decoration. When the shock of a child, whereby the carven strength of these manners struck their proper supply of commarriseness in the street-lights and carvings and perils. All the crudeness of that damnable shantak-foll was an abstruse strangen and successful spar of a complete and sornist building. And as I send the strange colour, the steadily preserved stone blood of the pendulum, and on that portentous cruck and to be a searcher shadow of the great top.\n",
      "\n",
      "What we heard a distant wholly distast figure on the thirt and a fantastically deep window and studied things of morbid changes of carving and productions of stupendous characters of mathematics—and the more than six memory for the corpse when the columned steeple was sufficiently successful.\n",
      "     This stead at the stars shewed me from memory and thint of that carven floor that cleared the sleep-waker from the drove of the cliff. The stone commandted the more strown strata of monstrous and seas from the clouf-bungalow buildings of myth that succeede while the change had been done. That there are some complex temporalities of a shadow and curiously river-garned matter. The family, too, that in a long circular peril were not at that time at a series of access- in the morning of the shells, sounding sound where the shrieking of the pre-subjor thus described he held me at the studie, and was a factoried, and confuseless throng of the proper places to the sought and terrible surface on the penetration.\n",
      "     The same thing was a strange and unparalleled character of the cracked ballown, and whose sigging discretion of chased arm insisted up to the surface of th seven million years ago, where in an interman he had been and she comfort by the music of monstrous. What I heard, and how much storerous and mindlessness were not only the constructive conversations of the primal peculiar corn and sunk of another sight in which he had been set out at last, but there were no paintings and creatures on my left. He was tow to a sort of tale stood on towers and clambering carved rock shed beyond the street or dreamers, or the minute and unexclaimed strange spots which all the corpses held through the past shot out of the shore to the chorus of the door. They had a great measure of modern sunset timbers and something of cases of army, and the farther stone stairs and temples and the stairs and partitions of a filled and dangerous course of them, but a solid surface were a secret of more time, and in man afterward answers in his dreams; the threshald, and warntous of the section of the secrets, that had a series of servants, which tended to rolts and constructively forcible in the doorway and the disappearance of height, the sound of the shifting green cases and convictions of his frame wide and fearful force of a mad an abnormally repulsive offs in what he had been so sincere than the thought of terror in them. They would have come to the collapse of his family shut from the brick and spaced lone specimens. These things were alien in the archaic shapeless ruins and startled the correspondence of a clatter of past toward an army and a cemtainly darkening message.\n",
      "     When the cats went to a distant former stone behind us where sight still relapsed such an instant afterwards as the carvings we had said for the party of his companions, and it is somewhat riskant, but he had thrown an intermittent passage into a mindless thing that think time before him had not finally dreaded then to safely surface to come upon me the story of the sailors as the same musty and curtainers and ablesto conditions.\n",
      "     On the second shore of 1913 he had been thrown up the trip and another comman, and shewn about the mountains there were no means the millions of discounsels.\n",
      "     The train of stone cities of the temple to the first toward the road that came again; but they were not the farther of the stars, and which might seem to carry. In the case of those two distant planes, he was seen to a case where the shone thit eye had succeeded.\n",
      "     Then I had the least soul as their place were not a particular student.\n",
      "     It was not a precise surprise, but a similar police sough would soon be tried to stead for a straight bord. And there was a more singular and surviving sound.\n",
      "     On the night of Sunday the slumber of a second and a front strain, their proper strained party of my own abyss back to the socking deteptide capter. That are we somewite a personal rain, and the strained chunch of town and sentitude and a central region which may have heard it; for their painted face was now shewed them as that of the soul, the mould in the same terrible chamber in the surface of the great tales and the streams of some clear doubt. There were some of them to his father and angles so crewifially bearing the series overappeared with their figures, and of a goad. As I saw the leanest time, as afterward as we came from a strong colassion of the gulf was attached to her frowning space, and when he crossed a mad to cast with them, and that almost all the sources of the carven ship came in sight and tried to determine to step for the sound of a shirm, to the corridor, where almost expressions, the thoughts surely saw that a series of art was numbered by this tidy, alleging an uncomfortable alteration which he had seen and shortly afterward an ancient confused recould cross me. I had a somewhat abnormal sense of considerable struggles, and on the front day, three once board the stone, and the charge was superior; though incessantly the tongues of the shrubs and chances and three-blastings were started. What this walk was now so far, and in some solution where the captures he had lusted to see any of the outlions at the subject; there would be no more than subject that this way of the most intelligent shouting fainure and studies shew them to send a party at the destroyed part of the stone walls we came upon a college bandage and secrecy and a sheer study of silence, and of a madness in the sought or twilight of the cornideral discharge of the cryptic spot. At the tavern of 1813 a fine stop flew over a flash of a shadow, bruese stranger or chances of discretionati gods. We departed to the fourth decade of sensation, and of the summer and horrible tentic latent source of my arms—the many of the massive corresponden columns of a faint secrets, with which I could not even guess. That a fearsome subject for some moments had been close to a land on base with more certain spires of his senses, and an incident could not startle. Her contents of the destructive features had been. The sall world of a faint scramble and strength with the salt tendency of sun of sensation, the four carvings of the chosen sea of strange childs and childrens on the shantaks of a stole and sort of cavities to their original course. The following members of the wished sign are no doubt that the steps—we had almost servously returned. It was the local despair of the planet we were trying to get that stranger on the south. And then, there was such things as stalling as the subtle third would be a power of strangeness whose camp which, telling that we could see that it was then for a surprise and strongly desire to accompany him as something it was almost experimental beyond ten or forty feet. The strange and still-light windows of the gates and stars. Once he would said only by a series of stones and chances of spectral and actual expedition. Had a good construction broken into the room, and all the only thing to his sterch and half an august reader whose entrance to the precipice of the company.\n",
      "     In his monstrous moment I had not mentioned the middle of the sand in the same side, and through the stopage was stealing in the same masnes. We saw the carven grising of that carvings which would be the cheesing people of a last of sight of town, and the seeker approached an upper room which he had learned. That he would his door before any of that crumbling child, with a faint growth of trunks and tangible shapes from the bungalow and classes and the domes incrides. Though the chain of the street appeared in the gruffest tower that they could see that the glimpse of the walls where nameless animals was absolutely conventioual in an entire party of the corridors that came through the departed flood, but a farther feature was no considerable distant bottles that stretched out a sealest procession above the place. The time of the musical force could not have been successful and private in him. He had suddenly been destroyed, had been caught the fire of a sort of surface. He would have come in stones of that sentiments of somewhat secreted and canaval or crawling shadows, wherever it crowded their moon-beasts and carvangs, they would seem to be strangely contented at this control that they stood out from the strange chamber, and with a strange ancient tale which confines this man or a subtly absence from the mark outside any of the persistent appearance and cellar.\n",
      "Parker and the savages were noticed by the fancied continental specific spectacles of the darker surfaces, and the fresh supplies of the gleaming chambers of the peculiar shadow. The chance had never before, the downward galder had been a perfect dreamer as he was almost almost as to be a continuous spectral world. They were able at sight that something was now found from some perfect angle of dogs.\n",
      "     I had tried to drag his torch at that street and stuffed to light over a steamy peril. The figures still could never be discovered. The company were now so significantly seen to the torchlight and an almost encircle. Only a pierced stench of students was suggostive of a more something, and all the more serious and miligard propositions of my driver identified the daemon which shocked to a farmerly ratter cause. The surface of the stunted teeth were now common to transfer and powers and corridors and threatening terraces and stone stones of some a disappointed part of his room, and which seemed to stop them instinctively as he could told by the surface of the disappearance of the strange stark abysses beyond the perfect case—and he had not then sometimes there were their sounds on the study for a mixed and terrible side of the connected chief sounds. They around him and a foot of section from the sea. The crumbling scraps of the shock were falling for an informal sinkulation. In the course of memory, the sun shouged with maddening and unkind enough to the steamy assistance. What it was. In the mad we could see the shocking chair in size and delirium of the stories which they were falling from the plain, the tall riving cipher. They had no longer another thing that I had seen, but seemed forced to restore the survivor of the sort of days; and what was the more than this instruction over their corridor.\n",
      "     The sounds had been absolutely so coming into a carven, with a musical point, which the faithful cause of surprise was all. As we weak him and some of the chamber at the express office of a convenient school-past, and at sea short the most part of the foothills.\n",
      "     With a shadow of subtly deep footprints and the garden stone bore a claw back to the best shiny, thirty-five marks set out the points of the corridor.\n",
      "     As it had an army and strong absence which the source of a person on the floor was still such things as he heard if, for the moment of the stature of the proper mind arred an impoltant cat were stronger than the mathematical, whose continent time on shapeless three doubts whose siling or child which had called it a far mark of an elaborate course in traders of those strange and incredible caverns above the sea. This was one more convincing distorting than his own sidies whose service held the course of all strength, though some prodigious and steadily dark and murdered chest.\n",
      "     On the theer which we was carved on the shore which seemed to hear of something thousands, though he could see similar figures of a men whose earth had seen incredibly called for its private home and caused the startling substance of the doomed tales of some deep-breeked dead city above its about a faint school of fish, and a constantly recently delicacies of the coming of the deciphering woods and the bridges are alien. There were also, a morbid circle of strangely and unknown tallest and masonry secrets of the surface and present daemon around his stones of the country, and had never before stayed a cloud of things without discussion, and what said they had not seen a long pallid, so that we had not succeeded. The perhops that this thing was a sound of an odous and a far-himter. The shadow of a centary caller, had been thus entering in a collar of the former. Then he seemed to form a combination of distant which had actually stared by a great range and sometimes from a sharp tent, and soot of one of old Zadok’s conviction with its argument and descriptions of the murders of act and freedom.\n",
      "     The shore they were, however, and more closely did not seem about them, but had been able to look up, with the annoyances of the steel, and, at one part, an impassable company, which shook their faces, to a shocking room from the stairs, and the most absolutely placed bottom, and sevales and thrown as if in a still rolaconation of the\n",
      "figure on the chamber, and it had been careful to turne a surface without the fourth day at the time, would have\n",
      "felling and doubteds and points it was sure that he would be enamined, but at length an accident church and the chinnel of the party, as well as something further\n",
      "accompanying such as I could not but additionate to more than the source of my first effect. The sun had not been suffered again,\n",
      "and then there being some proportions all this in this merchant. The buildings he had all before seen.\n",
      "\n",
      "At length I took a singularly relicted cloud of complexion, when the missing secrets held out into the body of my early and startled mesmeric influence.\n",
      "     The chance of the mass should not be felt in the sea at the brain was the loathsome penguin.\n",
      "     I have already returned to the superstitious thereows. When we came in a spacious step of a strong ball of some stranger. That was a pile whose angles are almost entargled in such conclesion.\n",
      "\n",
      "In spite of the third stone borings was to be discovered by the complete deposit of my such and almost into the flashlight which the butterful character of his monstrous students saw that my first staircase was the commits of the camp. At tnat had they had the same age at any part of the company in the massive party rathling and dome, and some frightful strange one were silently capable of accompanying them when the sentence of a mental alienists. They had not come to the power to take to morrow and discernibly above the shed beneath the business and strength and shapeless cargo or towers of thought from the savages, but still lighted their party when a canter stood in a star-on twilight we changed to such a child on the proply stirtied course, and take place to be determived before—the section of the great brick creaking, and which had seemed to consciousness where the gates of a cold and mountain was already. This was all with the men and palpable cats of summer, and an archaic shapolon mass and perhaps frightful states of a fresh and distortion.\n",
      "     It was only the matter as they could see a mora shocking frightful stone building. The base of the spectral street, with whispers and strangely found, hollowness; and seemed to be descending interest in the same tree. Then a curious large air were still talked with the corplements of sight and almost even so falling and animals. The threshold behind them all was sheering to the surface of the pendulum or torches, and of which, of a mental and unable to set that transformation and captains with the mate and the meteorite whose continued deserts they would hold tremendous distance; and as they were of a somewhat distant, and though a fragment of the great child had been a shade of a shift in the sea with a less time when the matter had been absolutely resembled in a few mother, but shewed men of college supply of complex older creatures with an approach of another more strange and much-belden abysses and the seven stenches as they shewed a peculiar strangeness which might have been concerned. This shadowy country and singular plaster tempts were now stone dark and drawn.\n",
      "     The sea strong and distinct, and, and work of several pre-Cambrian significance through the presence of his care over the blends of the prayers. That told him would be tenring off the stricken chair of the Georgian sides of the seal with an ancient cracked slave where the gale had caused to take an understanding of the dreaded days; and a startling association howled, though it was several towers of the clearest side of that scouting street; but a short path of depths were surprisingly perfumed to country their manner in a capalist of secrets and truly subtly difficult and unclosed churches, bearing our proper specimens in a captive mind a cavern of strange surrounding man and the fishy moon bear on the closed part of the chorus.\n",
      "     It had a definite plan of rathing continuous sight. Though the tribre was not a series of secrets and plainest people about mouthings of stairs, but the figured stirrages of my frame related. There would be the basalt spowers of mine and plain, the creatures had a strange statue of shells with strange, and a carven rock around the remote and prints of a special-beard and designed, and the more and more than the more children days before. They could have no discovered course of crumbling scaps and stone-steps, building colourless scratching in the door, and the face of\n",
      "the strange designs were so strikingly southered throughout our silence to the outside window that carried mountain of tavern-looking space where the street had close so far as to triangular specimens in a story without death. The shadows were shocking, where the larger correspondent to the search was now a madness of carven shone. This man had not been sure that I wished we know they wished to be some of the people of that shocking marvel which had actually displayed some of the sort as to be seen from the precipice which stemnesset men of the can or suffering was praying in the door of the strange days that could see that nameless surface was an optopratic matter, almost as high as it had arrived; but those who dropped onforces that white spend were caused. Something were the studies of the madness over that decayed abyss and terrible standards. Willett and Mr. Ward claimed of the case and drives out of the garret rest to the children where the crazed town and contrived to look against the stream of medeling the thunder to the stars. They had so likewise the searches of the shantak-barear farmers seemed to surge in their sorn which had took their stars.\n",
      "     “Then I seemed to grasp a delight that they had sometimes been anticipated. There was no matter for the corresponding of the curiousity of the chin. Then the captain was not so lately a possession. It was one of the madness of a cand and a frantic conversation where his friends confoursed madmen of his person, and to the substantiality of myreadography. He was now sufficiently actual to treat the angels which had come to me, and the solit door of the window steepled with a large bulge of practice from an earth-head of the pallid paroxy, that the canoes of childrance could not discover a singular specific concert.\n",
      "     As the concealed propers talked was the familiar straining of his senses. He clides about that race and the marked tongues from the great space with mathematics—and of certain seasoned senses which can command the previous season on the country because of their footprints, and then the stumbling object were absolutely annarshed.\n",
      "     In the finest sinister things I saw that the tiny carpet of that mad and the man that no secret suspection. I could not have been answered as the source of those others were as soon as possible through the abyss that later on the world of disturbing part of the passage. An unpercair nearly searching about fact of a good connecting city all sight of the strange senses of treatises, which was all the first thing on the shadowed professors in the camp. Thilt after a light old wood was never been. They came at last to a foot and about thirty-two mouths, but they are never brought up or somewhat think on having some of the trees and disturbance of the primal spring and daemon-managed whose almost-human slepchings had not been distressed; but they annoticed it some two singular arms or anatomies and such an artist friend. The terrible structure was a certain and an absolute absorbing child that must all thinks about the same side.\n",
      "     The shop the precipice was, I considered, as we could not recall the character of the stolen abyss.\n",
      "     There was no articulate part of my eyes; for those whose suggestion wish portion of the steels of earth’s dark mountains in the manner of the music of stringed and steep comments from the tense, and the man’s day was faintly supplied by a multitude of fellow and constantly secret clamminess. All the figures on that proper flutes and primal monoliths, a firm stars we had seen; and the first time of servants and temperators succeeded through the structure of a monstrous and unknown, and the stupenom hissed the bearing of the conversation in what he had begun. We saw the possession of a struggle which we had a few of them, they could see that they were from one of the mighty feet abashed to secrets. That man and these were forming intessitient and purposeful, faintly shewed frenzied but a proportion of a smull strong face than that of the preceding mountains; but the formulae of a great street which made a seator on their standing-polished stone country and the sealed case, and some of which touthowald bearded and fromeeding. It was a peace from the shell in which we had come to restore the blackness of their primal manner. As he shipped all those towers were this, and his clusters of their comminities all starred by some almost present. They had so done as the sense of shreed and maddening short cry and descend and crumbled and stone against the crash and stars with a long astonishing street that whose triangular shout of terror strained into their convictions of money; and threw open these things, and the following day were talked on all my secondary points.\n",
      "     After a three of the formilour searches, the flew over the wailing stripting staircase an accident overhead, but the closed streets and shelves were sufficiently standing above the studies of the constant specimen—or threatening to the corpse and decided that the shreading street-ward rim of fools had been stored, and where the strongest and most relictly stratis of ancient and secret stone was a part of a serious search which has been delivered.\n",
      "     In the college of his comparient altar, and the proficient and most important design was dead to be of sour shape or particular life. When we attempted to remark a chok of the stream, and whose sight of a case was one of the savages in the chamber, telling of such property. There was a strange and unearthly monstrous corpse with its stealthy, and then sterner, as a choks of shape. I do not keep the charge of my strange success. In this manner I heard the common astonishing circumstances in the meanwich in his son's crag. I had a time after all, he would bring myself to see it at once two thickest feelings of death. To my son, whether we were always shoos and stately and its being in a large child of\n",
      "being offered at the surface of the bungalow. I took them in sight, and there were failing to an outrage seas overboard. The well, to and fro about to remain above the countenance, of course, into which his study, there were no answers that we have been able to remain under the first of the pede-rad air. His fierceless of the southwest were supposed, being of the sound of a penguin and folling peace and continuous character of the party, with stations, the same memory, and praying of the abyss whose mutterings\n",
      "and singular folk set to bed, and I could dingle outside of their searcher shocks of the clearest secret sound,\n",
      "      And there was something there. The crag of the stone was that of a menace, blowing on the steps to the stone without any other season. We could not see all that he could suffice.\n",
      "\n",
      "    We now the former, as if a case- all which were,\n",
      "as if that of the strangeness of the police were also a state or possibility of such things\n",
      "in a flood of\n",
      "books, and of the pale eager non-volually articles of the\n",
      "most second story with a fien step from the second story, the body. In a surprised species of discliming\n",
      "threats of thought.\n",
      "\n",
      "    It was the most unseen and uneasy-litter of the floor. I was fitty feet in the morning, and we were settling altogether upon my soul which is somewhat discovered in his household-bulk of\n",
      "which it was always an immense circular ring which had been drawn beneath the weathering of the sea.\n",
      "\n",
      "    At the two minutes he was in the southerly continent with a charnel chain of foldlone whithey were thought to\n",
      "afford me indeed it south, and hardly discovered a million years, and was a sigh, that we had\n",
      "a large book within a fall whose structure we could have felt it at all, if in the made to sending the policeman of his passage to the southward on the floor. Then we arrived, after despite the animal and more transpressing articles, and the most absolutely places of my son and the\n",
      "beauty of a singular perceptible, and sufficiently coming from such a manner as stood. The summons of the clothes had seen betwixh the room and a frightful rat of an arched roof-room with whispers,\n",
      "where the farm of that season were not strange than others. The complimication that sharp history at once failed, in a second time, as if to the second ster they should his change in the sea. There were nonal forms in a parties world as four places in the marriage and a condition of many characters as the source of the clutch from the backwoods of the great towers and shifting roof and crawl of a gold spot which took some such significance to the old without ancient stonework and sparely calm. And in the morning the shelves aroused the creaking of the stairs, and the faint colony saids that stern to which we were absurd. After a linker of the day we had called on the street on the ruins of the grey with an entirely subject. It is now startled at the sounds of the greatest concentrated sunset central circumstances, with a story of man in man and sheer facial silence. There were no studies found in the darkness of the great brillian stone slippery captives whose chasms and minds that boats the moon was settled by our chimney, and the convenient corridor of the partitions were so abstracted; and in the constant and alliances of his familiar a most incident asked for many common times to be a proportion to the thran of these men, tried to grim thicknonal design and the comen of the street. The clouds of the ghastly court on my belief there seemed to me of the most ready ten or the place of the carved colonial piercing temple, and in a certain shadowy chant of their first trouble. The sun of the mountain-parts shewed such a month as the colour of my seal, and had already properly associated by the private case. This; then, as we carefully stopped to still almost enterptical. In a lingt in the man on strange sounds I had an object treasure of a fragment of terrestrial and most restraint or planet. That they are not as those we described, there was something thought as he was suddenly settled as they had seen to be a monstrous true carven face which surrounded the planet and three marked stricts of the death of a space—a constructive shunned and final architectural presences and crystals. At the same time I seemed almost safely to back to the boots. The shelf would be decided. The surrical places, the steep and large strangland which had shivered over their beams, and thought that they could not seem to be secured in all points of disposal of terror. The counting of the cold could not have been a surprising sensation. They were the same. The precautions were thrown about in the fourth feet above the church, and of a secret connecting polar and doorway before many sorts of staring cases and some fruiterer, and its bolds were thus those other cases on the corner of that poison with a central colours, and the first things was some still serving in a mass.\n",
      "     It was a strength that seemed to him of monstrous strata on that continuated place.\n",
      "     This still, half-seristed monstrosity to the second town and show that ancient and searched scrutiny of the things about their fears. He was so long, as the street was all the chasm, and he would not be terminated by the proper part of its archaic mountain. The strangeness of the party was not that they held a muchfully despite and survey alove against the sun whom a second time, and the farther elderly region whom the country almost said those strangers and terror shewed them as they had never seen on them. Then there was no light of a mass of spray. That an angel on that final police recognised this were missed up a servent which they cannot determine. That, in some of the merest minutes of a man, and that is always the most survivals which consulted with a single change of street, with the angle of strangely periodicy and accident and surprise.tI could not be the course of the same particular case. In the following morning the crash in the room, as he continued to be the one of the party. He had shook and strewed out in the stone bushes, that I had no least to say, but I was successful and surprisingly seriously tenanted by the second time, as\n",
      "well as possible, with my\n",
      "son as the murder of the sea, and the seventeenth century were the other immost\n",
      "suitable foetors of the surface. The\n",
      "first side of the cabin was a friend of my design. There was a silver and unconscious mirror at the stars, and the first time. I should sound as they are found against\n",
      "the bangage of the shadow, and took a faint great course from the southward at a chair. I then climbed, too, as a good door to the whole of my fancy and mental, solution as the country on the sea. In a mast of condition, he would so as to bring the persons, as well as all the servants for the first time.\n",
      "\n",
      "    I had naturally been all a subject to bring at the bottom of the creaking.\n",
      "     Then I came again in the same company with a singular succession of the finding of the shrieks, and that we were nearly the most sufficient passion to be\n",
      "the shade.\n",
      "\n",
      "    I started my about those we could have trusted. I saw that there were no sounds in the southwest, where we came in station,\n",
      "and such causes of discoverers as his solution was the creeping draught of a partisme of mind in the second person in his head that we went in the\n",
      "solid planes of his place. They had been sufficiently close to my arms to a similar situation. In the end the complex objects were necessary to the perfect\n",
      "chasm of development to an assassination of the most sort of delicate degree. The many persons were now able to stay\n",
      "the sheer familiarity of the city, and there was several moments all the ancient and significant passion. At length arrived a fragment of all subterrene suggestions of the solid part, and there were no measures of this things.\n",
      "     Asenath, a singular and most sound of driveration. It was the only triumph of correspondence without the first time, and with an insidious mental supply of companion had an opportunity of stunning on the town’s clouds and three stone panelling in trais to the life of the present formations. The sensation of strength there wereeved its beloved course at the time of a cavern window that the same steep, and shallowed the break and discovery.\n",
      "     The sea-sand, archaicm and placed high passage where the gate of the country housed walls and camp, the stone stream of the roof would be over their chairs. It was notes about this matter about the street. The terrains of more things, the face of the substance was to be described, the moon shared by an obscure telephone althruct in the surface of the same crystal; finally a preparation of sensitive steps into a single chance of survivors. There alw the great stone blinds stated that shaped town were tild and foreigners than all the clustered mists of the precedious corner of the clothes—that of the minute police had been tried in a special and antiquarian and unfrequented masonry would be dared to reach the black abyss.\n",
      "     It was then that the crowd and thorough spring stretches were stone and down the recognised colour. The place was a certain carvings in the river-starred part of the south path.\n",
      "     It was no mind when I had so sensitive that the mat would be so consultation as forbidding the massive mountains of the distant walls of the gugs. On the second staring second things we could not help still from the taskl on the church in a man’s flashlight to do without that second stray about the fresh stone cliffs and ten feet when the shantak, a crouch and second path, so that a star of the glow on two of the sense was not. Of the prisoner—a\n"
     ]
    }
   ],
   "source": [
    "generated = sample(checkpoint, 50000, lstm_size, len(vocab), prime=\"The thing that should not be\",mode=mode)\n",
    "print(generated)"
   ]
  },
  {
   "cell_type": "code",
   "execution_count": 56,
   "metadata": {},
   "outputs": [
    {
     "name": "stdout",
     "output_type": "stream",
     "text": [
      "characters\n",
      "Tensor(\"rnn/transpose:0\", shape=(1, 1, 768), dtype=float32)\n",
      "INFO:tensorflow:Restoring parameters from checkpoints/mcharacters_i8801_l768.ckpt\n",
      "THE THING THAT LURKS IN GUATEMALA CITY\n",
      "\n",
      "THE PREF DONT FORD OUR TON \n",
      "\n",
      "     . . . The storms of the Connection of Mesmaris and Supdem's English, a mere situation. I will not attach to trivial perposes to assign the creatures, that we were able to comprehend which we had never came to the race of serious expression. These wild senses were attributed to the confirmation of the column of the police in the discovery, and the character of the point as in the army of his case. I was always then felt that there was a strange and unknown space, which I had not called into\n",
      "peace upon the polar country and its precaution.\n",
      "\n",
      "The course of the corpse and the mate is obvious. Here the following spot of a strange thing in the shock of their forefinger and the chief and shifting of a longer, three or four fateful climbing or starks. The fact is the most\n",
      "designated part of the companion-water can be seen of fer chording. The\n",
      "beauty of the paper was at first much decisive of mankind, and as the corpse was also astonished.\n",
      "This is the same subject in mention of the chasm in the morning, and still said the consequences of the musical expression.\n",
      "\n",
      "The second thing, they could not have been attached to the stone which had been succeeded before. The shake, with which I should not, and stood to the southern distance, with suspicion, singular, and action. The second manner of a spirit of artist is many mere consciousness which hope that they were sure he was still so all at his\n",
      "feet and said of the ship within the rudimental stood. In the superior of the same monstrous sea wind and fish of menanthest in which he did\n",
      "not think that a single instant, that the peace of the\n",
      "most incidents had been comparative.\n",
      "\n",
      "The still should there be the\n",
      "fragments of the water,\n",
      "which was a metal, in a large shot of the cramped and peaks, as the water of the\n",
      "students which he will say, all appearances, the south enstering of some strange cry. We could not have taken plain than before, and\n",
      "that this morning in a very right character save me through\n",
      "a little search of the barrier. There were night, wh the sharp passage of the chain being above as made of the\n",
      "prison in which he could not\n",
      "see them; for I have an approachingly complexe beyond the\n",
      "cabin where the crag was strange and poisons about the\n",
      "street. The strong, aroused fliend, and a foot dead\n",
      "and dim noises of that of mild musiness, we have sufficiently dateso before; and\n",
      "we consisted of as mad and cheers a single chair in the breath of the blasphemous examinations which contradicted me as a mere probability that the first side of the boat was on a few windows and to stretch of carrieg on the bent within the bridge as if in some of the supposed supplyed windows.\n",
      "\n",
      "    As the farm was seen through the ridge in the despair of mankind, and who were sett on stark and strong captain in such an anxious there which he had so far suffered a living music as his planes seemed to finished it; as an enormously supplementiole of almost a final distinct track of a faint suspende of course through which the top of an entity and the somewhat much stranger had sent up the figure outside in the dartest silence, and the masters or the thrust had nighted to the waterfoon and the stream of a sign of menace. These spots shewed me talked over the southwest world of train they wanted on the street and down the bright, singular floor. He did not consult the crowd of the dead slimes standing from a great distance a large body we hoped to see how much as he had seen before me; but there was no soul of his conviction that the tendency of the morning were timidly analogous, whose artists indeed sheet much of the sunlight outside of a sign which would be alien. In this manner the sound seemed to be the from the door. And all this time the captive men they say, he saw, having said to a choking of that country, accompanied beds of malign and all things and planes at a legends, and a moment after the crypt, the men sail of a shocking green world bridges and sea-stones, and some of which was only a fresh ship in the general creature of the traveller and a stunted panel and clusses of travels and twathing. As the sides of this shellfish prints were such as he would be sure, since the terrible sport of a grotesque and most setted darkness of the child, and all the cases of such persons feared to the discovery of the supernal group a statement which had a certain period, till the same thing told of their strangeness which set out farther and seen and strangely removed, and of the messenger who had brought him. He stood early from a least cracks which struck him a food and the face which had all the final delirious suspaces. The thoughts about, but had seemed to be in me as a modest as the strongest presence of the crowd, but a stern fellow-headed plunge far out, and the second time of surviving superstitions; and though the dark stone stirrings of the carvings could not be certain when the presence of the deepest mountain cases were found or lined, and of certain pails of carvings and parts of some plain, and a certain sea was all abandoned.\n",
      "     Willett had an object of fancy from the carven face, where they come from a second and unfrightful odour which secretly conscious of a cleaning fastener of a glen or two of the marked spaces. It must have been a certain special fancy, through which he could remain and dreams of a place of dog-born minds around a street on an external sun and the thing and the ship was that of those of the seamen that shadowed and fivalian from them as a counterpentury; terribly considered the point of sort of solution, and the palm of comprehension of the period of the papers, whose survival fashioned the foldlore to the tenant, and to whose sinister element there was a murder that there must have been simple things in the rain. The country flew of world on the chains and flashed from that born old house on March 28, 1790 the endless pit of stone windows, the stars of stone and two strange stone soars of a man of substance at tall, and the palaeogean shape truck things in the distance.\n",
      "\n",
      "There was a fear of the strees, all the more thoroughly abnormal, increasing from shapeless and made their own explanations, we waited in sight of the partitions of the stricken would be tears. And when I resolved to get the lower specimens, though the mate seemed to have been much agitated by my secret. It was the solid party, and the comprehension of about two or ferry fair or fifty, week and the chanted past, with a fall of\n",
      "disturbance because of the stonation in the manser about the cold. This time, which I studied the faint, shapeless flank of soul-white answering at the bed. All of these things, which is obviously data in some extraordinary part.\n",
      "\n",
      "It was in the sea that he was impossible for this mind which I could\n",
      "not have\n",
      "found it. What I have said, this was the solution of the same portion. We are no secret substance to an and against that. We had seen the sound for some minutes- although to a shock when, for the fear of the brig, and the wood and the forecastle\n",
      "and the steel. In the end of this spot the sight strained out into some south west and its curious\n",
      "antarctic causes which must have been abruptly struggling. This man is nearly that he could not have stopped to remove it, for the fourth stoop of the battle as I felt the comfort,\n",
      "when they were now stopped, between the savages in the ancestral steps and still increased; and this train being so still as the bow completely approaching, and, as I found the sight of the fainure, a passage or almost\n",
      "into the chains of doubt and ancestral sensation. The sounds individually of a pallod, in the\n",
      "southwest. At the supposition of the witnesses of the floors which seem to afford his appearance of a strange and all at least\n",
      "two o'clock -- only one of a mile or sufficeed to\n",
      "be thus a man without a crack in the southwest, and\n",
      "we should have attempted to be a pain of stopening\n",
      "which he was indeed absent from three inches to the froths, and something less than an indegeneile and so few strongest at the throat of the southern cheeks, and the canoe-looking\n",
      "plans and chimneys of the company with the carven force, and stood at this enery for some time to be\n",
      "a particular mount of convenient point. The planks and trunks of a fear was forced to stare at the cloud of the command. The face of the body seemed to have been made through the blood.\n",
      "\n",
      "   WI\n",
      "had tellgated, however, to the faint associate of the portion of my eyes to the solid side of the world as the floor of the hellish well and the sound. And where it was also sort of dogs, and when there clearly struggled to take him a shore in a doctor's state; a stifulat fear which had arrested my face when I had seen at all that came. This is all that. He did not realise that the survey were of their musches was broken in his disturbance through the thickening abyss that fluttered through the backward party whose start and a half-crawling being seemed immensi attic entity in the former or two of the curious proportiones.\n",
      "     Then a few moments he could say that his persistence appeared to telephoning the truths they would be done by some secret colour. And at length he did not come over the strange and deadly replies of strange and two masters of the subject to arouse in modern prints; and that was one of those these cases of subtle company, or of a sight in the moss open and daemoniac glaciation of the cavern or forbidden strokes. The torches which had come together as it did, the black galley that howled us to stupy and dead, and always the measurable fears of the charred part of the consciousness; but the candles were some of an external sentiment above an ancient range-book, but a struggle of forgotten secrets that stooped a second and former account beyond the study of the plinted places.\n",
      "     We had the least stretches of monstrous and marked steps. He has the real and a primal monstrous range, since he came from the cavern and some thinner to be determined by the strange depths. The sunken half-door had barken the sea and searched off the grey dark cornice with which we could see the sound in the dark. Then I stick we adjusted them only a foetor on the storeroom. I had begun to learn so long a perfect staring on the stone basis—the footsteps and the faces of those such spots were concretely abandoned, but a careful conver and stunged singill rise of fire loosely ancient trip had so closely close to the family had struggled and true mines of transportative bodies, and a free-summer or claims of the steps to the country, and this was the object of an alien roofs of transportation. Others had been thoroughly shocked by means of the same case and distance. Then the shadow was seen tracted and declosed in that pallor. They always seemed as the language and the shocking streets where a strange sense of remote strange and distortion of the most rock terrain specially conventional. It would be sent a shall be too large for the most ascending and unknown archways in my policy, both highly confused by the strown stars, and the farther day at the south. In this spot there were this perfumed and all the madness in the misty, but to a drumple of song of terror to a consciousness as information—whether the conclusion of his father and sense of perfect scraps of the sea would not be so far an incision while memories of ten outside had a convengeracid peculiar statement which had a second distribution of service in his son, and to see that a conversation which seemed to bring all other persons that his mind, with a crew of an ode substance or consciousness. We would now and that I was the sense of a strong, there step to beard the town and flew up one of the steeps and stories of colossal. A moments which she closed the stones of the gods were transferred. There are the changes and steady staircases of a coming fearsome and uncanny distance. There were many ancient colleagues of an extravagant chill to such things above any dark stars, and out of town above my shallow stare would back a short time five or side of the spray. Then a good story of the sea as shuddered that an above all whom they would can be sure that its startling shape and discoveries and ancient spantices of that commander comments and specimens suggested the bulk of my stare out of the shuddering shining creatures. That, he appeared to be another summit of a certain stone broken court, which they had thrown on those way through the door and the rock of the corridor with a clamping secret spot of the seventeeneatheocken and analysis and structures of several mountain roofs.\n",
      "     The steamy shock of the westward stood on an incither of stunie or stone some spirit a few mounts which seemed to fall in order to search and strengthen and chimneys and peopled shapes and crossing of the dark stolide shadows. The sea starts the time had been the moon was the line of thought and concentrated palpable of desert and my prant. This is something else to broke from his stumils and what we were still lost in such a signal and the faint and delirium as well and ship-changed blunder to shore—and it was not the stones of the stupendous archway of that dance, broken plane and cases of subtler and seriousness of marble comment, all supposed to have thought he said, between unseasonal senses and personal sentiments. All that had themselves had sucgesting a prints that the substance was the same solid restoration of the surviving stone. They commenced that almost unexplored age, and with a mouldy crypt or spare stealthily assisted by the prosecution to where he had become common, and to secret an external case in theer directions of his host's called heavy, as that the sea and telephone spells of this and all headed pratts of the solar shadows where the streets and chances of that mighty bespire armora could be seized with them. There were two more short white forest, and the fearsome clumped strains of the stone which the flames and middles of the shrowed stratum wind from their frequent reason and the stars. The fact that the cavage was the ship of such police stench, and he who still lasted the partitions of the camp and the great spot of the gate. Another stream, a capital of distraction which they were so committed, or whatever has been through insane, but when the strange antiquarian or sufferer, who had never been taken for abyss. The performation was told and caused because of my former solusion, and a personal continunts of doubt themselves as they were found. As to my explisions we had not feeling that the shifting of the contock hid not to him and said that this sea-shocked half-serious childron and men on the monstrous side, and there were some substance with his forgotten attacks. This was the long part of such such creatures who to the college design which had bore him a sound of theirisms, to the companion-world that he had seen the bodies of a son of a man of a panic of madman as he had an increase of motion and sense of silence in a learned bullet-long seat of the Carter and Archaean monstrosities of the Colony House, and the cold but somehow men to the country, and in the morning of 1768, the steeple shadow to the steep room which they have taken for their fate. All the things another monotonous sensitiveness and conversations were sole to black and despite the confession of the present second almost evil speech transcended and dreaming from the distant story. It was the fourth structure on the floor below a cargo were a chill whose chile will be too delirious; but he saw that he called to traverse a less thin plain, and a shrill gold of summer and simplicity as they could, so that interman of sort was the museum of a figure, were astonishing the first production or spalel theories of the moon and a pane of structure; since in the first place the shadowed pitch of stains, were surrounded by the strings of the stone floor was that of a customary and unknown age of spot.\n",
      "     To this search, however, I was already for some fourth feet.\n",
      "     At length three deeds and somewhat seemed to come from oursting or steps, and that these were there. Treating their seasons from the\n",
      "bottom of the shelf, which was thrown forthward the former again face as that of a candle to set out to his sensitive endermings. In an exceeding distaste and some of the most intense\n",
      "carrings. In a field and fifteen feet in which there were some profisso\n",
      "state of somewhat distressed, as I have said by the creaking of the water. I caught the seas and doors of the\n",
      "head of the shadows, without a mild and fearfolly passes in the plateau as he could not satisfied by the murder of the\n",
      "black can.\n",
      "\n",
      "     I had no disposal of my friend, and was not too suspicion to reach it.\n",
      "\n",
      "   \"I have thinked a low; the first and six minutes' salts of what I cannot done whether I wish you to see. We were now at a moment of soled mind and a half as money. He still relayed another matter in the pole of centuried. It is a moment as he assured them. His house and parchment was thrown and running. There were some\n",
      "minutes, as though we had even supposed to be it was the chain in a confidential colour. The paper would be sufficiently settled and superipped; and, for this moment the crowd had been dark and disappeared, through which he could not see we will say,\n",
      "and whether it will be existed, and thus excited a constitutionation to the crystal and the passage as he said his houses, which we fancied were no longer thirty-five.\n",
      "\n",
      "    The rambles of the studies and angles stood about half of the\n",
      "continuous creatures of this matter in the deceased. Had the peril of torron-like survivals which had been a single time three from some second state, through wild states of the most artistical and interior, and somewhat million, and the stout features of the sound.\n",
      "\n",
      "III Am Samy assertion had been at the street over the way. They can’t see the tall and sentence, and have some true millions of years in 1848, and all the comments were far severe yet in cellar. There he did not like the shadow of the mixed peaks and people and terrible policems, were all that was not a shapeless form which had accomplished the carvings and suggested something in hands. And this was a precipice to a stern, shapely carving of the carvings above me without the place; but the feetings were always the same primitive stone still or from the burgal was a much bed. Then I found him a sealed little absence of crude-down sign, and of the man a charnel tittering of monstrous and surrounding deep contract.\n",
      "     Was then to tear a large form of the stream of the dark spot and conscious of madness and the feltarish-panelled planes which moved the church wond by one was found—in the manual of a mere difficulty whose study the sould chanted seemed pleasantly as he saw those outline of the drove a sea and distant business of the stars. He had told you what the same part has been seen and solutions which they had seen the mind of arranging a parallel and passive subject.\n",
      "     When he saw that this was a series of chilly and almost unconscious or somewhat designed in somilitten folks. These were seemingly searched and carried about the frightful chimney and the stenthest traces of the somewhat marvel, and of those faculty inside with able to crawl into the boarded uplands to the floor to the world when he did any of the child to the files of stone walls and roars that level in that sea-cliffs on the sea.\n",
      "     After a moment of superintending the colossal stone beings was sometimes, and an old legends of the chimelight as if any one of the sailors have been dared in the disclosures and cares of the great ruins which surged their blasphemous sheets and seamen, and a similar palace in the cold waste outside the crowd of that continued strain and searching the crumbling with the basalt children chambers of the southern,\n",
      "black-board-high bushes were blown with them saturated former of the dance which close to the banks of the great river to see there. In the existence of a mass of a stone, with signs and three-finess the most suspender of a frightful track of song of sharp air and a clear search and the failure of a monstrous subtle considerable correl that had been such a sentiments in the camp.\n",
      "\n",
      "    The three minutes about the same stratter woods were successful; but it would be almost even more terrible than the cause of the man through the change in the chief of the precision which had a chance and people.\n",
      "     We had not seen this time to them and shewed the sprinkling flashlight. In another moment, then a general convolution in much darker wind and startling centre of my soul, and transiently concerned only a sunk of the second clothes in which all his proper portions were filled with an easy-lead toward sound. There were no answers through these trips, some thought that I had an old last absorption of stark figures, and some tinged of an important suppliesom of carven streets and thickly courted fields of the headlands and the stars of mindless scallep and church interviles; and as if they can’t say that I could no landlight. Thround the cold waste of the stone topers of a complete case—or other things; but if he soon saw all the sounds were too large. He came on the floor beyond the sea-tops of the grim actual considerations of the globies and their fears of stone black statuet steps, and which shewed more than his some measure from my fancy. I seemed so shaken from this time when through the stone blows of the dead windows were crawl about it, and then the mutineers were five fourthings of consciousness. There was somewhat almost incredibly disturbed. Travellers were found in a strange creeping or a clear serpent steel. The strangeness of the property stood in water, which struck a perfect thing which has seen the background. His consequently conventional disappaintment have no mere tormented stone cannibal spasmosities; and temporary planks continued in tiers of silent fragments. There are no lights and shifting, things that had seem to have been their familiar colour to some other side.\n",
      "\n",
      "Willett and Mr. Ward strike back, but I could take to me the tremendous experiments when hung at the southward and distant windowless cracked stranger. These were, there was several proposed transformation behind them instinctively and surprisingly preceding.\n",
      "     It was a few window and the mad world as a madman—which the drawers had not been dragged through the black and drawn boxs, and all to the door and dissolved specimens of matter in their fears, were frequently disturbed by the things—would be the longee or sight of my camp and that the crowd at the stone househalo window was a monstrous peculiar malign than a storm of shapeless altar-starding spawn, and time but not the terrible character of his palpable expectation. The stages of the path and strength to the world had no chance of cry out of his profoundly ancient powers and spirits as had been a shadow from the depths of those darkness. They were told which we were too all without a disposal of suspicion. The processes, one of those spaces, words and times and sentiments in man’s discovery.\n",
      "     This moundain was clawed for my place of three fragments of the masters of the stand itself. The solution of the water was almost uncomfortably. The carven palm was now far from secret, for the cats came over the stonation of the same size, and the former position of the sea that he came to his dim night to have tremended so lost. It is silently that he was supposed to be some daemon-advisal flow off another period of surface. The secret of the chest was over. This was something whose survivors he called to stay in search of a mass of dreams and the foundations of a loud assemblage in months. When the shrubbery said the sounds were thought that they were all, and what to the point of a constant cavage we were began. On the thirteenth of September 2 the chamber of the door and the stars, there stood in marks on the stuffic off the gossip of the sea. They crept fourth from the south, and the solid raision of such terrible country almost touched in terrific discovery. It was the college light to which he had lifted the bandage with a light, with a long and double-stone, which had been the mould in those outside the black peaks of the reason around. The chains of the starfish-head, the confines of strange delirerations of the survival which was not to be determined, though the music of the stens were nearly thosing of that far-away bank of the stars. And so above the walls ou sentency they stood a precipitous space without such persons as having a dimensions. In this period that I had not touched on the corner of Charles's house. There were nonest the follies of the same as that fellow-scale, and a sign which secretly shared to some times before them should not heaven than the place about the marble paint of surviving case. They were, however, was told because of the streets of strength which secured their friends of such clesses and teeth, and of the straight-seated spaces but this; and that without more a practice, and a strangeness of servants, and all the cats would crush farther over the right shoulders—which towered to successful size, and one saw no shade of such terraced testimony as their searching there boted him and had no summer, and the matter impossible to do. He was the soulcing of the mansion of the colonistry, and the summer shapeless and unperilaries of still contrusts of some complex ann intelligence satant church and some perpetual corroboration of some state of somewhat monstrous silence.\n",
      "     All those which the ships were too suspected of that country through such subtly and soul-creature whose desert was a face of the sun which had surviving blackness or door by my ordinary and methopical at the second.\n",
      "     Onward we could have to retrace the staircase of this mast had been destroyed. They had the secret suggestion of that sound and seeker followed together in the following mountain-travel, and was the only present fact. The presence of the crowd would not doubt because of my previous story and a calm, and we fent much to disturb them that the thread of a monastery of heaped secrets, the most inconsequential stirrs, was the mind blow above the water before us, and were as singularly stared, and as if in a spirit on the southward, and stood against the body of a small and struggling side, but was no large table with the party of his statement. That I had so fell that I men of the stone shelves, whose evidences of deeds were sure than they have seen once a shantak-air, was not only for an instant. As he could not a propen arreg-ann-stone and a specific straw crag of standing masonry which was always back at the southwest; and the thing were thrown overboard to the second antiquarian surface. In the mean time I had a time from one of those all sides in a compant, and that terrible and people began to strangle outside, and in this dark clild we saw that the terrible child of the possible police damp, the mountiin of the comparatory proportions were not all this things, that the confessed ran away of my own actuality. The servants made a sign of the crawling stone or the famous manian towers which the prosperity of a month had come from some other terrible staircase. Once more the same sea on the thirtphere of the courtyard, and so forty there were fises of that frightful shock of distorting things and treatments of some of the policemen world in college and a firm mad, and the shipping stout crawling was churched, and the strange and men over the base of the strange and archaic masonry of the surging indescribable town of supplys. There was a singular powder on that proper fourtains—but as we wished the same man of thoisands of death of almost articles.\n",
      "     The three second land tileds were the servants and the claws of a strange secret old consciousness and stray world build of anything stone and in colour at all the passion to a footprint which seemed to be such a sign that the thing talked of the sounds which had been to the case of a constantly dreamed. He had been composed of the monstrous artificial extravagance of my present power a certain secret side of the stone without making some strange suggestions of their facts on the farther side of the ship in the sea. It was not thought to be seen in a certain paint of stone and fresh child an encouraged mountain of devoteous and interiors.\n",
      "     On the noon of the rusted house was a cliffs to the day of the dest wonder as it still seemed to adapt that man’s family and shocked raisings—which was only a sudden place of space and connecting supernal domain bearing the town which they saw that the best cast of the passage was on one of my success. Then there where a chamber will be started but the plane of their study trips that stray down to the room on the blindly struck of their case and the preparing odours of a mad on the stairs. And then, after all, I strode to speak the clouds of the cavern’s stone wall, there corresponded to the shadow of that country for the continued powers of the same contract and shapely chasm and personal stream. There were many secured townsfolks who think the matter is a castle of delirium in the colloquy of the city over the case, and the finding of the chamber still remained. The carvings were thrown into the carved pole to which a shrill lure itself which this plateau can see, and that the papers of the missing floor of the sea, and survived through the bushes with the fless of my own spirit that successful toughness of subtle alienage consumed taken, we had been such caught before their million years the fastening cill one.\n",
      "They had all advanced of the passage and set that shocking spectral portuous room; and a man to say that the choking and ancient street was a masonry of a mad one consecting of case which they drew on sufficiently significantly the storm, through the face of the globule ones. Something, as the policeman well about fold monstrous sunset city of some carvings—which we closed the patient at hand, so that we have not been a more than tempting contents of such specimens as an even and abnormal sentiment about it. The first thing had so deeply about the paper and the door of the galden and one when he could felt their staring characters. They were there another seven candles and slippings of the black chair, and the four of the great ruins whose secretive country was set on frightful strange and constructional chaos of cryptical spectral compass. The carvings were as ast on the terrible abreact, the farther and indebitably subtled deeper shock of a fear a chair of some significant true and unabsent men,ian insufficient spruarion from a strange and unhallowed mountain of captives that shook it on. Some of the three old cities appeared; and there were things that they were named outsopeless. This the shign of the distant beings trembled while he he common to show what it is. The truth was almost thoroughly a composed message indeed in the company of a strange section, which had a tallic place of sole planets for a graveyard of doctor who could not be able to detect the three mountains and the face. They were a million years ago, and the secrets of the most doubtful change in the anchored motor of my doorways in my family. That the seamen who had been destined to come from his feet to the landscape, with the superstitious sources of the present spiritual which I had to bear him, but strangely perceptible well-drawn to terror. It is not a proper thing at the past in my fright, and a sensational and a madmin and that of a strange seaman and one same case which shewed the position of the body and as it stood of. After the same survival. The present decidion of all the strange materials of the party as he showed the book and perpetually roaded into the wharves of a greater malign trouble. After this southern he could not be doubted from a frant carpet and shadow of the captive manner of the source, and a persistent conversation of the sea which were still displayed and its black part in which the crowd strained and reported and passed one since the trepidation which have stuped in the stars of monstrous tables, and a smell of telephone stuff in this manner. How lately enough the time had come from the boy struck a fungous great chilled tears and slightly doubts and perhaps evidently damaged associations as those whom the thing told him out of stone, and that when we were traded to relate the second day on the second state of a chimney and dreamland, but the sound of an unearthly change of dark circular clursh was so far behind that places where a sheltered possibility was a string of the mad on the southern point by a low pressive specimen of his fiture. What he sent my anternast in 1927 and his man in Paist Street.\n",
      "     When he could notice, and a fear as a sharp shore where they would seek out the stairs. Then they were able to go to the south of the books.\n",
      "     The flutterers would have surely a convincing distance from any conversation whose course to the period when his sole haste suspected it comes from all sounds and distasted study and collected chains and supposed river the path fell undec ast nightmare steps it would secure in the ancient book which might have been absorbed in some of the complete shapes of surface. There were an intense times that only whispered survivors which had chasened. A faint mind of the mountains, on the morning of 1926, when a chair was often stopped with far-strange and steep crumbling grass and some of my own face, but seemed to be dark and pastime to the light; and a long period of articles were filled with a certain collars toward the table, though he had carried myself in so culting and decaying and incredible abandonments.\n",
      "     And then he had set them to the steep, the clatter of the door was about to discover the painted sensation of the street and shocking strained or threatened; though it is strangely previously those of my summit as with a startled dread and the countryside beyond the trip there suddenly the searchers flying servants from a closed statuo or close and plainer and characteristic, and the thing was the same as that of some crowded and stronger cargoes where towers and practices and the discovery of a century and other track. The classic progress that has been absurdly so madman as the shadow of shadowy roofs were carven for the source of the standard stone boys of a case and a fortunate spot by several distances of my own corpse.\n",
      "     And then, as I thought the stars were found noted, so that we did not tell; and he worked only the stories of the great countryside in the town, and one of the monstrous altars were to the cases of about three feet stone and the statue to the way. And all they were of clusses and corridors and things only by the foundations. What they were abrabided, and his features were shadowed to the strange fear of human books and a cargo of silk-cult with the first and stricken colleagues of the dogs, but had threadent one mentioned stealth of a groping weather. The stars, there was a morbid crimble of a madness which their suns the sea began to fashion. Then, within my son would be only to say that these windows were never sought on the south. She saw a silence at the fact that the mad arm when I stamed at a crowd. Those places would be the fallen study of all survivors; and after all, the tittering stark was an expression of any person and surrounding tremendous secret of all matter. This marketing was a general study, and we found that the study of shock through the streams of the peaks, and the farther sidges of the panic of their minds that clambered up the strain and passed that monstrous stone-black picture of something in the floor.\n",
      "     The face was somewhat solar enough to see the thing, to a fresh-door before, with the chastest story of a promise to secure a fantastic character of his possession. It is a monasteries of mere concealment an interior such a frightful perposition of the most abundant darkness of my own friend. Telling a carven and unnamed and perfect stages of decay. When the strange and stirring was almost empty there. Having always strowe the chimney and the carvings of the gods.\n",
      "     Of the discheried striking of the creature somehim said of many accustomed townspotency, and other alliances which he could not be distressed. There was a gigantic and singular folklore, and an elder place of so supposed to that of a firm monster about the surface where no deciding survivor. He thought of the point of a crowd, and some disturbed and disturbed because of their sense of strange, silk-corridors and shadow-shedses, and of which were frequently above those one to the forbidden planet half-disturbed. In the meantime the motor had creepled another story and the same second. It was a strangeness and decadent, but one organic spot on the cold. And then a considerable fashion or path of allations on the principal farmhouse in Paris as a doubt which the collight was so strong and deserted. He had been lifely proved, though he will now be sure would have to discover through that seven street, and that they were now the sterns which the sensation of the conviction of my soul formed, and that an old stairs. The surfaces had been at the same time after his conclusions, and the sun was not entire discovered before, and had always described their presentations that I cannot show than there are things whose familiar primarestern houses themselves as having no mount of competent and unpounted cases that was at that moment and the stone, and when the carven records were stopp not far off all the messengers of the sealed stone circles of ancient barrier, and it is above a mile and an almost experiment and so complex that no strangers are this time than any of the morbid powers from the pashage which there was a clear stony conversation as the muttled shelfer. The steep well-chett of hideous circles and briggling had conversed with the great brown stone.\n",
      "     I had not seen me who had seen a shocking sunset city that he had already found that the chant of sheer faced heads around men was assign for some of them as he was. The details of a ghoul, they, three shots below him the steps where the shelter had never been that of the stained and shewing morning that had a great bulging strain through the town had some days at the camp, where its cryptic morning was an ordinary succession of allusion of madness.\n",
      "\n",
      "Then he had seen him, but to wonder it was the call of that matter. We saw none the doctor to coming in his constant and unknown pleasant archways.\n",
      "     The searcherous star-was the face of the street, and all the calls of monstrous and merriming suggestions of the change in the same centre, and there were some specialised strangeness and preparations and almost perfect\n",
      "secrets. They attempted to save any obscure and absence from which he was sufficient, but which had burst on board the propersity—and he was bound on such an almost universal statements, of which the priests and the party of a strange sent mental and surprising character of any traces of some odd art of capture men could be seen in an evil top.\n",
      "     The farther elderly short time a foreign deal was so few and the old study of the sound.\n",
      "     The seamen second digging was still toward the decapital stone shantak-bear and thinking of a frantic plane of daemon-panagreed streams. When he had a considerable accumulation of the sea, and his senses seemed eash of a series of captive mountains; and those who were thoroughly feeblede and true in a street whirling call as a shock of series of desertion which the camp came, with a staring flashlight, archaic clammers and although something was no deceiver than the carvings of a marvellous signal which secretly disappeared, and on the other hand were the continuous space with stained statues, and a coridor for secretly showned from any carving and drawn on the recesses of more than the children, and had all the storms of a man and one seemed to be seen, and through a miniteral carvings with some of the marvellous and modern stone, but somehow deadly through some other time or particular message about them. The three men found the stonework of Nambons, and taken a million searching their cracks, and some of which seemed to brand as my feet. It was something that they could not stand—the cryptic mines whith the grinning of the seamen was a prupend astend of speculations. Then I was strictly answered as they had been frantically drawn by something towering from ancient archaic cold, and when all the peaks and tintling tentacles came on about the same door; and it was sure that he could see that the text was a consultative board the crude and shocked pictures of the company; was secondly as a side and in step and a fancied perversity of the carven face whose silence was a man to stee from any considerable colour of the stone, and sought as a mere mistake. He had always been able to remind the college fear to a stark, tale communication. Of course the premotive and accurate was to be of the primal sensation of a much stuck than any of the survivals of the struggles and solid scholarship in the sea. It must be a foot of the stars and statements which started us that we had assigned themselves as to the sound of my deck as a countly and almost emiting sight. It seemed that the person of this place was found in still downtown the stone burrishes; but that was the serious sense of a commusitation found as few studies and sound in the fourth day before the passage on the twilight and secondary size behind them was so long a few windows in sight. He had thus expareedly described their chairs. The chamber was a shadow of the captain to do with my companion, and when the shelf of his former destruction survived the strokes that lasted of them. They seemed to mistake it alone and all the time that seemed to be a mere serious and made interesting change of the design. What he was, too, we were suddenly permitted to be observed in the same side, but strained in the company whither in the steps. These characters had been definitely dark and pretty to an intermants, with strangest and design, and the mast hand of mind who are the only subtle thought.\n",
      "\n",
      "   \"Where the mark of some minutest, with a cargo of carving, the bushes of the passage in the main subject of his folly. A strong extreme spot which the powers of the strange days of the shriek has become a more theory below, because there was no solitary existence of some constitution in them to be able to acquire all the accidental and serious strict intense than four persons, and other things in the present day. A sudden rad while and a cheese with suct somewhat disturbed speculations; and the mesmeric postion of it is only a foot or limitation of my disturbance. If I seemed as far as time that the coming woman appeared to be able to suppose that it was no more than a constant struggle of portion\n",
      "of the company. That the museum of the position and a mad insisted impossibility.\n",
      "     To me the ship, I fell fell into the ware, have the little mouth of those others, and the most\n",
      "darketiving of its antique cause, in what he called upon the son that I was at least too much imposture. This were my chest, or at least three of the furniture; for they are nearly from the cord and seem to be a blue of the full level of the college. As the second manner were still, in that things about the chamber of a\n",
      "chair-chant, which the continuous correspondence was not otherwise for an eventual procession.\n",
      "     But, without the soul of\n",
      "the farm without the little passes and streams in\n",
      "the seeting and\n",
      "tine points of such. The seaman could no longer disturb the\n",
      "bell at all which would have entertained the countenance of the peculiar species of termination without an obstructed\n",
      "stupy or the sensation which had endeavored to classified myself—as if the same thing in the carven shone\n",
      "where we were. Of course they were, they were, and she had seen their mouths which must be shewn of the police and most assistant, and a peace of such persons and alarms and portions of the clock and stone. The frightful abode they saw it to the frozen colorial spote and the same sound from which I set a ceasple to be thought of all that destroyed, on a considerable sight of abysses which he saw that the most humple struggle of the song of the controversial screams and that only shriek-collection was probably betwixt a dry moment before their sea or seat and cutting, was almost almost thoroughly darkened from their doorsteps, and seemed to form the same presence of such chilness, silenced scenes, and powerful tensities of the madness as all assigning to myself. I was thicker who was about to force a metal shot. The same as the music settled along the source of the monstrosity was strangely dreaming. The strange child was so far as that whose college should remain into the walls and a horror beyond the source of the sort, and went out for somethin all at length to see if a mouth of other rooms on mediaeval and most-headed strips of servant and struggling proper of a light absence of almost universal sense of ancient chorus of disease and memory.\n",
      "     Then a fancy which I saw the body of the carvings and we had been claw in his clouds about the four archways; and there were nones who have no longer priests and a few days before. It was a method of carven pastures all three of the gulfs whose frequent season had borne there without a faint cavern in a free and steep detestable moon buried about that stomach on which he had come—in that monstrous star whuspered on his soul of the sound above, and that had shocked the shadows of that stench and sensitive and all dreams, without putting ourselves to the first time. This most significant consciousness on his face, anchated and poled the stern of the stone siller and shrilling fragments intermittently, and which had been absolutely drawn over all times as after the front door and determined all sizeaner theories of all the conclusions which the strongest structure and power of themselves that so tended. In the meantime the men high which had been a million years ago, that it had been sometimes become exposed to convulsive imposture to attempting the decay, storm that the matter could not have disappeared. The soul and solid, half-credence, and it is such as their studies often accounted five times of truth or cryptic sculptures in which the secret cases were convinced of the sensitive folk-time to the corded approxamation and shades, and soon too carefully and most sure that the precipitous sea-stars, and the party whose entity was now thoroughly proved, so that we had the less absence of the strange delirium of metal but ofe of the place, and of the propost of the peril of comparison. All the sources of my friend should not be that of the primordal alteration. There was a singular change in the manner of antique and sensivery passages in the manner. It seemed to be a selesp track of carving, and it was so concerning that the time was an odd curving seclusion which he had laid to receive our planes, where it seimed the solid rock of the starfosh. As it must asked the sound which would set out, and I found that they came a sheer child of the sealed cliffs which the marks, and the following subject to the camp or secret of the planes and the savage bottles of mild and abysmal draughts, and to his own fancying points and concrete world that has been coused. A candleras were thrown into such thickless and sunset spires. Only the there might have been subjects in a capture in some of the portunties and their streets of some perilous part of shameland streets and strange arrays, some of the old lands and parts of the hollow city. It was not my secondary. Were that ancient creature arr very claws, but therg was some of the places in the diameter.\n",
      "     What I waited, and had the strange actual passage of his chimney, which had chilled, and he did not cautiously come upon the deceased.\n",
      "     The faint story was a sense of cryptic silence, and the shirts would be secured as he could scarcely struggle and discovered.\n",
      "\n",
      "The farmhouse, had been depinted in that mansion, a child which I saw about her father's\n",
      "chain, and that the sunlight of the chief, or at least of course; and, without having doubtless as if there is not a shriek to such altogether a similar age of a closer change around us, with an empty basks of altar wild suggestion, it was firmly completely determined, and transfixed with\n",
      "solid arms in a closer and made, station treasured, with the crypt of the bread and shaking of them, when she had been distressed; while an object of sole perfect terror, of a second terror was a piece of shock; and, as if a centary caused and absence of records and paralleliams about warning of metal.\n",
      "\n",
      "    This morning at the tendency at the same circumstance was so more\n",
      "an identical excitement. And we seemed to be surmosed to the season, and\n",
      "instead of make sufficiently account of these strange stones, and thus its being of sound\n",
      "seeking a foetid substance into which the carvings were all about to be dainy in the\n",
      "condition of this approach to the room of the classes.\n",
      "\n",
      "The brains and a state of the mark, and to succeed in securing most attention.\n",
      "\n",
      "The most interesting of a spright as well addressed me, had taken place to see it for a masked chain of penguins and\n",
      "presenting those who have been changed.\n",
      "\n",
      "    The fact is,uter of my exception were so fertified and silent. The strange messenger with its sides of the streams which had been depended, and always with the mines of such an almost idea. I was now an iron company, but the free spirit of the company would shake from such ages\n",
      "must be, and it seemed, as I can still accompany him. He asked from the telephone, and saw that the cause of the\n",
      "strange and the solid woods hav\n"
     ]
    }
   ],
   "source": [
    "generated = sample(checkpoint, 50000, lstm_size, len(vocab), prime=\"THE THING THAT LURKS IN GUATEMALA CITY\\n\\n\",mode=mode)\n",
    "print(generated)"
   ]
  },
  {
   "cell_type": "code",
   "execution_count": 57,
   "metadata": {},
   "outputs": [
    {
     "name": "stdout",
     "output_type": "stream",
     "text": [
      "characters\n",
      "Tensor(\"rnn/transpose:0\", shape=(1, 1, 768), dtype=float32)\n",
      "INFO:tensorflow:Restoring parameters from checkpoints/mcharacters_i8801_l768.ckpt\n",
      "THE NIGHTMARE IN GUATEMALA CITY\n",
      "\n",
      "OGTHALATTHEOS\n",
      "\n",
      "    Marie R'gitts's off in 1693, and those others he had found, and the soled country along the blight of the bont and the farthest chanted bodies of the deep and the carvings we had never before saw and disturbed. The sunless sun still lined by his convulsive breast and tempestuous curious crystals and plasters and dangers that had succurred about the monstrous topits, though three days from their premises from his steps which had studied a lighter cry to a large and all the policeman settle the shadows of the gathering of the charnel horror. We seemed to be in a modern sign of some counterfain of the deeper theories of the creature of an ancient colony of man in a centuried sea. That it stay in the dead sheed stone stone, and there was a mass of ancient town. The sente of the chuest of clutching arms, and the frantic caps of that of that fantastically courteous stricken waterfront and some compart wholleab and ready for human beings—and there were strangely shocking cities and the grim and madiate rain which he seemed as though of a long silence beyond doubt on the sea, but still the same signal was shewn among the connected worst things which had seized mich fears. There were as last the marvellous carvan stone stones of Charles Ward's family among stranger shelves and castivalous obscure things as such as might have been threatened for the police and shipping outline of the police. This sentence had ever seen about the midnight’s designs in the road. He was a structure which seemed not of a corner and a sharp formula of some sound whose direction was the mutine recurr to a sense of possibility.\n",
      "     There are more than a frequent country. The clouds should have been constituted, and all the steeple could be sure to be so dark than any of the methods and archaic and unaccountable pasts and penguins of his closed days.\n",
      "     The steep watchenness cled about for the street, a pile and a captive mind which was no longer the sunset consequences of the mistimes, and in such time I was similarly defented, and a certain past to telling the farmhouse wornds of solid road. There was a storm of a party so many others of their former disappearance of many subterrene secrets. There were no stars and a spot along which I had a dead shock of terror, and who had been startled and cannot done, and they were, though that his supply andouted and uncle was such a structure that he shook the box with an alien survivors and the captives in the survivors, and on the carvings of the dispassable power of thirty-fever shadow through the stench and down the stars, the ghouls believed that her feet of the steps there could be no doubt another the chamber, but that all the stoleroos was a certain alliance. The stone shadow on the thick settlement of Thatar Parker was about to reach his haurts at the terrible place of the corners and cliffs. As it was the stone shantak-blarked, and the stone on the shelves when the stench was strongly discovered by the tomb-fared lands. The flight of strange and accursed fears of a shocking stone, with the steapth, which the sun of stains and a cloths were now and then the factory, threatening and dangerous subtlety of sighal formed an artist beauty by which they did not seem to have been the solid stone of the peaks and a startling abyss, where the trees shrunk flumbled a faintly cheap space about in the cold waste and the sun. The sounds of a powerful shock, strongly relative and dark, and those far overhead should tremendous secrets that such concerns was a mesmeric effect. The shelf of the monstrous prisoner spirited the comment, and with much cold, and so far so mague taken their search at no time, but the person of a stoon shew their secret of the country folk in an intense and subject to his own ancient and unknown schiels. The town had been treeded as a memory of the story and a mental archaic mixed up to the dark beltry and statement of the crude child that stretched filtering out of the hill.\n",
      "     That study was so surprisingly an actod of survounging the same plain. What he had three desired to disturb the presence of his mother's hands, so ferticals, was the first thing as he stumbled upon the part of the process.\n",
      "     Then there were no more, however; he could not distinguish a sight of the senses; and, in two manuscripts, there was no sign of his studies, or ot one who took me a ship in a strict and uncommon about the form of a century and of my bosom, a shock of the first throat of the same proper miracles,\n",
      "which had checked my crams of the building. The surface of the water is the southward,\n",
      "while the framework of Mason Salem was the secret of this polite. He had a criso all that of the party to that, and an account of several of the\n",
      "marvellous supply of things which could recover the same\n",
      "case, the fountains at the source of the following decay.\n",
      "\n",
      "It is the coming of the manifestations of the missing days, and went of stairs. The brain-contents were talent from some of my ordinary artificiality. In this moment, the strength of the progress and sitting of the body. And at that moment, this that was something terrible files of staircase and shadows. The stream is not fully of similar presence, but which we had never explored. The corpse is a madman of some of which had come from the survivor of the base to the starfish-shadowed masonry of my soul. And as the stars crumbled on the remiinders of the hill and the confirment of the water.\n",
      "\n",
      "    The several twenty-fifth perception of a little carry, only with ten months tensions of the police from which the prailian officers who has attained. The captives have already supposed, is any countress and delight at all. At the same time, increasing making a passage failed; and in fright, although I had already do the missing precipice of\n",
      "the sailors. In the morning, I am feeble, all the services in the solution, which was now black at the second, with the crating of half-successive. The\n",
      "following morning of the planes, had been close to the chamber; for the strength of the\n",
      "farm, with which they were torn, weiried over titters of the brig. The brig had so fastened from my hands, while there shared himself in front of the front, but with the first tran of delirium; a trouble over the\n",
      "complete and insecurity, of and settled truly senses, or of whom they were surrounded by myself and my property for sick and change which we had entered at once. The strange sounds have never been brought up, but we were sufficiently struggling to set it from this, and, when the marvels of the stonical and intense\n",
      "expression was to be disengaged\n",
      "by my orders as in the case. It is no more simple and delibeate or supposed to be in mine. It was then that that of the most person of mother, without the formula and a murder which so times and curiosity was a peculiar corp as the captain and the police of my own exploration. He was not of course to raise the statement of the\n",
      "society of an evening, and the case the case, and that the complex mind of the strong\n",
      "course of the cabin shock was about\n",
      "to rest on him. The precocities are seet at the three who can see with some promise to an exception as a place, or of the supplying carven study of an articles of silence. His soul, the conviction of a colligation of the more than stealthily articulated seas having\n",
      "been sure that he had seen in this sight and a station or that.\n",
      "\n",
      "\"It was not the particular point of the bed, and, without a strange and deceived passage of the manifest and army of the death and the most abundant sense of annalistic alienists; the matter of a gardens or prevented and decoraterese, or otherwise trembling, with a locked colony which he should not seed to be the secret of a memoralan cholume. The sea based frantic and far metal shadows and poltanting stones on the cave moulded up from the black gravey and harbour, we had become still of the crawling shadow, and the shrill conversations and spanses, too hitherto completely faintly set on an ancient region beyond the building, but on a strong and unnatural course would be to be dead. This thing in tendency of a complex trunk was a massed abatted state of dissolution.\n",
      "     I had not been still thought it was a practice of compart.\n",
      "     I came to strang little directions an opening into stone claws. And when they hung a little chuckle of the seven poles, and the stolaces of this peak of design seemed to close the shunned house and cry of an abyss from the same circumstance clussered as a memory and out of mathematical carvet.\n",
      "     Though there could be no doubt that I have the most deficient tempt of dream. I could scarcely return behind his shape that he had never seen in the bright space. I supposed to be that of the matter which heard the sensations of my stern, and this must have been chosen, fastened as this crawling chaos to meet with its family stones which set up from the well-to that corridor with a second state. In the second proport of a final deliberation was not altogether its bright summer across our from the region. It was a strange statemone. Without departure the same time, though his matter had strong as time before the secret of the man was on a somewhat movolonal stark. What we had been doubted about 10:20 a.m. and 1760, when the record had some other cause of the stone and the great runn of town and thirteen million years ago, and secret things of the stricken student were the strangeness of the darkest, and three days for the stream or all monstrous shapeless short are almost except for some strange and deep-stored mills abread, where they struck a peculiar steel, and a combination of almost unalso to be committed, the sight of their campain that strengthened off in the frightful ancient child on the roof on the hills. They were a madness of modern asching and shipting someway supplied by other and intolerable sounds, and which there said that the town was found so travice with the face, but which was something mature and a frantic prominence in the southward blickness. The top and stars of the dark sheet country to which I was serrited, and with a faint rushing sign of sentinels stolen for a century and a chair and buried sounds of chairs as had the remembrance of superstitious desires of an objective cusional shudder, and a series of sort of secretive most hollows on the cave-mouth and messively southern size and supreme secrets of strange decay and a singular caution on the southern side as a gale and the mad ones whose star-stones canged off to the black stone and the fragments were so clearly that any thing within this destroyer. There was a something sheltered and such a stranger at the first time; for at times the continued peculiar play had been curiously dead, the sound afterward was not thrown in another time, with a four hands fastened by the tent-closed sleep-waken, and a coming of the stone still color brought and belated the body as if in stone spanes. In one point all six men testified he could see an outside masses of anomalous altitude abysses of disease and the subterrene horizon at the street. The flashlighed stone was of summonition that header shewed something of my face. It was still shaped, but how the surface was necessary. The top of the walls were still above; and then were to the strings of the grey features whose carpet, and the shrubbery was a pale and prunted with his head and dogs and a policemen. What to some of my secondary steps could see them to his curiosity of the portion of his marriage for my soul, with a stood a principle of surrounded and fifty-feet days. He was not sorry to explain. The plain signs have been attacked as we clouded and thrown overboard with a struggle, on this proportion to my\n",
      "change of cryptical stricken, to which it was the mere secret of the state. Where we came in the most document and the fewness. The perfumery was still almost impassable. The planes and mystic searches were not the same chained personage in these surfaces.\n",
      "\n",
      "    We could not actually remark of the precaution of madness. In this most peculiar child approached the\n",
      "basalt stone as the brain with which they could not exist at times, and the possibility were all, that it was not so from the solution of all that we had existed. The shout, too, to the southward of the party, the more strangely sound, of a care of an illustrative, alien panelling and parallel of which\n",
      "we could never be\n",
      "doubted by the silent succession of madness; but these thoughts shaken as infrequently, in a mass of removal. This man in water close to the field which should have been ship from any passage\n",
      "in\n",
      "the\n",
      "room; but then I found it through an opinion of the collaperance without any other spirit of senion and made tremendous of credition. He seemed to have enough to conceal the singular formations of the body, the busy of the most insignificant and evident search, and which had entered this, at a company in\n",
      "which this course was to stir on board the cabin of substance or death. In an accompanying the same moment to the party and from one of\n",
      "the crowd. I could not stand in the matter\n",
      "of a good deal.\n",
      "\n",
      "    I have been satisfied in the subject of making a few minutes at least, with some of these. At length, in short, was the mesmeric aspect. This\n",
      "was the chamber of a shadow of\n",
      "perfect. In to my feet, however, had been three facts at the sole word. In a mile that the first to be secumed, a day of which he\n",
      "was set out forward to an angel and similar person; the subtly\n",
      "contrivaded and unhalfoged circumstance was obviously shocking as we made, and where the mothey being\n",
      "a police stricken from the region of the room. The stone was set to mixe an appalling distance behind the cabin withth had been stateful for\n",
      "this secret that was there any man a fragment of her complete result.\n",
      "     In this spectatle such anatomical to the face of his chairs, and through a shocking shirltoons. With the first other in the\n",
      "shore, while the fiercest or one was not so much subsequent to suffer the concerns of him, and this was that of a seconday, that the masquerade\n",
      "borne of\n",
      "terrible consequences; but at length, that what he still came from the bottom through the sea, without supposing that I seemed to be, the circumstance, also, at first, taken from the basement of the sea which I had been so completely drawn\n",
      "in only those of the field of supernaturally feabings and the former. The blasphemous fever of the same step was a faint season, but in staincing\n",
      "stillness, a shalt, silent million years ago, and seemed insane that he had taken the strange and unknown senses from that door in the college day when he did not seems so clumsily discovered. All thrust and channel of the change was filled with the most alien green to bear an alien-like candle and analysis of strength and disturbance, the sun a seat of the stench would be of supernal to as there were almost unknown positives within the dreamland of the grave and the bleak plattage of mad and through the dreamer to a struggle and any sinister stars which he had seen that some strange striking about it.\n",
      "     The fact was that of strange and unknown, through succession of surface, and some of the presence, outside of a singular carried claw-life in the most decaded policemons, which the monstrous past appearance of the sealed stone structure. And the farther side of the springtime was settled, so a complete chamber of thescomes to the sea that told the crucifix, but was took the case ofnically assailed through the dreadful cold which mad was still lined to human scraps of the mountains which the study and stars and trumpet of strange doos and silently changed stones on the walls of the group of the senses of stars till his head and strength with these shells is climate in the detectives in the colonial stone without any chest, whose abstrusting frozen spassoms and the cargo of a step would be described as this was of concern, which were all the ordinary spikes of the primal myths. The captives had only strongest and singular and expression in the case. At topes the state of the morbid spiritual was our solution, and he had seen the sharp floor of the courtyard.\n",
      "     This man, and a point was not seriously an almost precipitous supply; and he would never be able to recall antiquation. When we had an opportunity of supplied by that staring acquaintances their family days; but the chief was stood-greened by the startling castle at Madame L'Espanaye and the Bathemothe, which would a former a fractured procormination of summits of the country.\n",
      "     We departed there had been a great brood frightening of that chimney and people an old lock that they had not been set out that its sides and the distant black spaces had brinked into the recesses of his father’s darkness. The consequences of almost infancy which we climbed from the cavern or fifteen or the shantak-birds of a frequent, assisting sense of purely proportioned carvings; but these things seemed easy to think of that antiquarian and unexplainable chear ages of the cold. All to their clutching space abysses so that the same cale and all the planes were brushed with faces in that distance, are at all evouated the crazy, and seemed too supply somewhat dead, and the common theories of the messenger had been taken in the strange stars of his panic and sounds. They are no longer and sought only from the private police which had a street flashes and trees on a sea-walls, and to which he has been stopped when the clothes were almost everywhile across the black angars. The ghouls were secling from the secret tops of the dogs were singular and supported in triumph which we startled a gasoline polar complete terraces of meteorities. It was somewhat more as much of the massive stars. The distracting design. There had been some this time and a certain person of the same planet’s desolation bound into that shadow of such plines as wolles on the sea outside the things which might not distinguish the sunless and more accompanying disselve and strangely pointed contracts which the strongest strains were constructed along. Then, having bare a sign of seven and a faint length about two miles away for the farther, and a man of some sort, of ancient streams. The primal cavagi and preternatural plunges seemed to be able to catch the clouds of the great ceiling.\n",
      "     The transmantal shelves were supposed, terrible an impression, senses, and probably alley that the precipices of the plane came and the same time, and that the profit time aroused in some cargo; and the solid prints and the constant and accompany whom I feared and possessed on this carven room. The seal was abroad, and an impression when the street lung was already found through the great stone pillar that lead to the brother, and thought of his point where the ships were sure that he had been so side. They was no less an extensive sounds, though her places held on the stone black archaic flashes of a state of difficulty and the most an impossible change. He had to stare from some trip through the river, and another were absolutely solour.\n",
      "     On the morning of the clouds at the same time was found to be some trace of a fairly stone—for the fool were so sort of antiquity and allegians to some distant sunken. And the men on the cryttal stars stepped up break before any of the monstrous tables and absolute sustainans and cleatures in the darkness, and which seemed to be a paralysed flame, and at last the most intimates and signs of a cracked body, and a moments whose deprive of the sent a structure was at the time of the ships, which he had bleated through an accident and strangely roaming imagination above the chamber.\n",
      "     On the forechain would help him the same meaning, but that hideous point of stunned blocks with his senses found in the filed and carven powers of two foundations, and we had to begon that claw-prints of stones, where the sales of the prayers walked along the windows and saw the floor of the shore-blasted stands. It was the sea and the shadow of the doctor's foothills with her, what it was in the main brings of that dark and dressed chamber and out of this part when they came from the room of Nerron of Dr. Allen.\n",
      "\n",
      "IV.\n",
      "\n",
      "The door seemed unable to compare an interior time to the fourtain final description we had been\n",
      "done with some of the contrary, as a faint and unknown artificial species of pillars, and a soul struck two little black gate to the steeple whose staring crowd always breeted and covering the sone of such standard men who would not detect any survival or that of those things, and that the shelf man, and how much of the pleasure we found it without more than once thought of the portuous sense whose surviving signal of a change is an imagination in the steeple and secretly called up of anything able to take with me and dragged him the same conversation. Then the terrible and included constructioned scale of some probable terror we had come, which most as the same care shot in a clutchulup of compass and a precipice of three-houn traditional prodigious crags if the church with a general claw below the blow. The corridor of the mansion at the barrel is some sixty or nature.\n",
      "     “What he had been stated with a marble, but that this and made pride is sure that he said. That the doctor seemed to be the creature whose sinister comparison served to a fighting day, and a cheap wholly animal, with which the starfush-mouth of the doorway in a certain pair of stars he had to do so, and the penguin allays which streted the crossing corridor and the road at the same manner summits and studied the barriers and strangers of the positive steason beyond. The sailors were as moderately an odd-scale or fast of thought that he was a shantak with such things in the ancient stars in their conditions. All this the fellow and sinister structure would come of their formulation and a missing or a patient which struck their stench with a large peal of ancient rocks, and only the marvellous precisely told. As there was no stretch of the figure on the roofs or some of the most careful strength which had been shaken by the present structure which suddenly been sure, they came a shocking anterciec colloquy and stood before me, but the fair faces of the case had been shewn and shortly before the captain. The walls were strongly convinced, were a mark of far and sin open that shewed the collection of towers. Then the sea was almost a captive malignity a singular and access of an alien strange stealthy and strangely customary city; a complete cause of the carvings we had a set of singular-presented terror. I shuddered at the same moment that there were two men from the same moment and stood on his former door. It was now sure that the surface was totally substantial. As the dogs and the stars, we stood to stark and deliberately solare and the figures who would be able to describe it as the abyss which stood on shuddering characters of the mind on their stars. As I shook the chamber store, we stood on that half sounds stone and the flood along the south. Seterial facts is obvious traces of matter than three standing streams of stone with a glancing\n",
      "stark that seemed as one could not have to do. There wen back those who cannot admit the trip to the street and forgotten an indepostor of the strange and death. They are no longer another and delusionate.\n",
      "     As the flocks of the professors were so far as their possession stated it still surprised. It had been such case of tellor, and all the massed shadows of the men. At this time, there was a mutal and unhauseed fromenastic character of several persistences. All the succession of strange and steadily professional position, though no land camp with increasing furniture as to the credit of the commerces, there seemed to have suffered an unconnected construction about the prodigious marks of his feet as the soul of the conviction or space and details it was an old man’s fear in that spring old child whose party, steeling, and almost unexplainable feelings and ancient tales which created startlingly and a morals of some strangely peculiar spot. In this above the there were two seconds, and the common servants were completely subject to telling him the consciousness of many surface and convincingness, the much sold, and a solar flight after the contrary thing as we were. The cryptic colonial stone shining cling of a great stone-line floor, signs of cursed prints and blackness towered a clouds of spring sleeps, whose crowning griming crouch was now to be doubted. The following decided sense of care was sure that he had been concluded, the tower was steriless, and their presence and a few men and travenses sailed, something which were obstructed, whilst the dances were nearly full of folklore the lined stone stones of the ground. There were men who were some structure of the person or so far as that hung a moment before they did not strike it and deceived this titualicie outlines, and to the old many mighty black ground and shock, and other apertures that half shuttered and previously a sudden design of sensitive and inciding looking storage croaking prophraite cross-clouds and captains. Others have never been a starf and subtly singularily deserted carved force as they saw it, and in the fourth distance of his son and our panted books and the same stars, was able to come. The fact that were shaped to a case of a moon. Though my senses seemed to study the marvellous sunset city a case. He seemed to stop up into that should rest of the carven story of a stench that were too perfectly able to stand it into several members of men. His case made suggestions of that theory and stranger, as if in a man terms that all man’s shade the most of them—which, for such country also the substantive officials, would be fairly startling about that, but sometimes they all could suffice to see the same more than a series of strange colors. Then he had never seen something to be sure when he saw that the creakers felt the camp. With the matter a thing within the river was the more solding and claw in the face which had set out in the background of the greatest connected side of the survivor which came from a dry mirage and the path and desperate secret credit of the damnable antiquarian; but it sucked behind his carded chief. While he had seen to the rock and tales in his strange shadowy, and had taken to see what is thankous baffling a pastage of their campain. At a construction of stars countless, hands we were able to call it for his secondary eyes from the dark, angalowist-choked, three-steps and sprang and she then borre all the crazilier cities of a balloon survival of ancient antarctic well. And all through the sensations of my diary had been tortured and settled to some supply of subtle malign and improvised present in my first specilation or persistently, and its brain was the more complex and unexpected thought and suckes which had the same child, and the powerfrance of my place was conceived; but it sounded only by such consciousness to the peculiar counterpart of such tounds of the police. They had not been so strangely desperate an almost prayer of account from such an opportunity. Human are the changed searchers of the glance. In the far design that he was not altogether insuppostd.\n",
      "\n",
      "    Assisting the most singular and factory of his consummation with which I found, the\n",
      "person of seasonal details, with the misciver and the archways.\n",
      "\n",
      "    The sun was now too series\n",
      "of fearsome aspect, then in whose severe times have been abstracted by the most abstruse constitutions. The stars, this supposition, intact, a strict and exchanged search. To burnt this thought, as we stood a stranger and a shelter ob it was the faries of my eyes at\n",
      "the top, and a first passage, there were a strong\n",
      "surface, and a crew of the marvellous man, and so assuming the\n",
      "profusion of argument.\n",
      "\n",
      "    Their former an application that through the case which had been chiselled in three minutes after the companion-hall with the first suspicion. We saw that the considerations of the place was so completely upon the portion of the same sense of surgically church for the\n",
      "consequences of my depressed masts. There were two or three seamen, a series of precise arms, instealthing, with stones and travels of the frequent,\n",
      "and shadow floors of the field. The forecastle were obliged to recall the party\n",
      "through the wounds; when a limitless tremble of the\n",
      "crowd of the shifting on the present circumstance of\n",
      "a stupef all that was not thrown off into singular changes and superstitions as the personal sensation of the source.\n",
      "\n",
      "It was a sea and stationed perceptible object which they would said nothing that the chasm, in which the passage of the child had been close at the stone below. These cases had been came from the whippoorwills and shine on the cruce of a colares and corridor and painted peaks—which such structures were fungous black spines of creaker strangely shaded.\n",
      "     Was a plunge into a stone steep, and a personage committed stranger about an hill, and the first thought of such arrangements in the arganism. When the day was an anomalously sume to whistors, with a faint stir-light antique and intermittent practise and shrieking stones of the method.\n",
      "     Of course it stepped the strange and alien extremely source-bureles and surprise to the castle within the darkness where the galley was crawl in an abruptly rather perpecuated figure, all about the plateau through an open stars where his head would be of a cold and sort flight. All who have they sat, and a stupendous tree- tolan among the camp, the same signals that had been a peculiar archaic shore and statement of the planes. To any of the curious mounds of dream which the same conception he said that his fear was transparently palpitated by the massed structure of the solid stairs.\n",
      "     To see moments while a carven spot which staled behind me to the blue general stone words of some stupendous signal, though none of which the primal mass of metal case became acquainted with the disclassion because of him and talked at the second, and that shewed silence concrete shaped cloud that was not far from the same, so that the patient could reach the cracked path to the stone; and with tottering course of catesten in which was the conversation which he seemed to survey the men of matter.\n",
      "\n",
      "We dared to take through this significance that I was at once approaching it, and that she had so suggested by the moss as the power of marvellously altar absorbent corpse, but there was an anternal decidence, and the curious carvings on the shelves and at the steps he did not suspect. It was only a madman as the clouds of that stark as to the train of country, and the course of the counter-ancient railway became very summoning a strangeled antiquarian of the monstrous things that survived the court and shewn and truly actual childron of the party so thoroughly, with the accepted man would not have been still so farther in the surface of the position. In the meantime, the penguin was truly determined to start through the railway along the floor.\n",
      "\n",
      "It was a marvellous cipher, in the sole object in which the shock of a frightful and absent friend had been concerned, and then, the shirts of the\n",
      "southwest, while those farther corpses shewed me with a set of stern party, which, at the same time a last soul withthe exception, and that we were as first as this startle and a million years of organic school outside a few weeks; so\n",
      "that is some probable conclusion, there is no object which is impended, and the constant considerations. He had the light of a sun and the sail and the former the same state, that implicitude of such a cord, were seen on the seventeenth sea sufficiently driven of the principle of the animal. The brain was all the bedile and\n",
      "searched state, but had the same strong, as\n",
      "were in the cabin, the sufferer his hands outside them in the course of the most present, or\n",
      "three straight as if with so such a masquerade by my face and the savages throughout the pallage on the police, and who, thou we have already made an our almost\n",
      "human building. The bulk was thus assumed, and a former end of the police. The power of a few moments were so far displayed that the marked stark came a smooth flambiliar sensation, and that it had been the arrangement which the salien-streamed canoes of ancient stench and a crown was shifting on the tent called on its following young woman and a station on the close suggestion of the pensagr mation of their own passage and clumpily around them; and there were many thoughts of such a motor to the summer's doom with the crucial archaic crypt, and sometimes brought by their archaic faces, and the things and shocking domes in that days.\n",
      "     And that was a light breeze and alive talk with his fine powerful precipice on harden street and two feet wide and flung at least one of the cases and the caves of a mere doctor, while the stars were crossing. They were fully and figured; but nothing more than a century of the sentence had come to any such cheeks.\n",
      "     Without thinking of all was three o'clock on man and a few woods and the background or their feasting and cryptical work whose dark characters should not seem to be the subject.\n",
      "     When the trance were night-gaunts. The shelter of the storeroom, were stealthily closed the clouds of a mullions of terror which seemed to suggest. After second he could not have been subjected to his steps. It was a presenting on the claws of the discharge that sometimes seemed to see the sharpened peril and design. We could not see a shiver in the country all the stranger. The gods, he had a strong company which had accustomed to any summon for a moment before his chair. His companions had nothing to be there, but I would not discover the signal—whose drowsiness and a sinister method of speculations were absolutely serviced and sorts of that constructional secrets; though in all departures of the strange stretches, and the crashing farmhouse and all the farmyose strange archaic and measurably surprising distressing theory in which he doubt the monstrous surfaces of a murder of a few million years ago—but something within his concoptaon was fearful. And it was, he had not been able to retrace any road. All sort of steps, he was so great that the post of my senses was that of a long dog, those wholesome party were the same condition.\n",
      "     The sonastic attic windows were that of his prime structure through the chamber was the one or many acquaintances of men and dimensions which so surging that the catacombs were sufficiently solid and immense and abaldable that whose sources would seem to be talked and sheer that has succursed the strength of our position for the person who were to the conclusion. I concerned, however, what I saw that the stream of somewhat developing abomination at the three or four forthes. These, at last, at length to such as my friendship and position around her who had a strike succession. He had the soul of a monstrous sensation which we had thought them to be a few moments of steps.\n",
      "\n",
      "    In the character of the departed station of his caurish company it was by a climate of the sensations, without a second time in the surface of my head within the corridor of\n",
      "Peters; and, in fact, which I saw that the stenth of the praying and searchers were\n",
      "succeeded by a simple power.\n",
      "\n",
      "The solution of the seame is the secret often we had a strange settlement, and that only\n",
      "one of the senses which could not be described. We also filled the farther\n",
      "struggles into a last feeble feeling of cargos, that surviving mad arrangements for the suspicion. Had he said that I could not return. After the music presence of my precoutions I saw the\n",
      "mind and foreign parches. Throughout the solitary place, there were no language. We comprehended the present, too,\n",
      "that the change was a very light, and in the extravagant compulsions of the murder. The brace was the loathsome and unconceivable part of a long and forty-sea beard or laster and their\n",
      "purchases; for their conduct is sufficient to see the subject of the bulwhouse above the shelf in the stronger.\n",
      "\n",
      "That this whispering was once made in modern and many chairs, thus: 'The 'Greenfie descende?\" \n",
      "\n",
      "\"I went a gentle and expression of sensation and a man who should be so ascentance of the metapopres and tremulous and production of the same person in what I have said before, and the four face was now five million years ago, and the change, in my desire; but it seemed the simple and absent from the farmhouse; and, at a convenient distance, as a sendance from mere cares, this second and the fearful suspicion of the most articulate point was so suddenly disturbingly continued. The forecastle stood over the brows, which should be exceedingly pletty, and in their moments, we could be sure from a more stately altitude breathing of some sound, there was an abyss of fact, and, in the condition of the stern peaks\n",
      "about the character of the angel and papers, the fact that he was a great agency of centuries and the family and most intimate bed, and there could be a general consideration of some mere temple, and the sound of which the strength of the beast was a perpetual peculaation of the chasm, where a letter was an immense and sounding about the marvellous caves of the door and the collateral passage to the cellar of the hill. As it was a marvellous signal of the sort, which the folklore stepped at least the larger shelving below. Busttes of the stone change of crude spread outside an altogether ploughing, sole places in the rigst thousands and prisoners as well as that substance was close to the tough or closely stackled and confused telepathic local polished stone children, whose stream showed and tentacled footsteps at the same time in a planet sound. In the sea of the failure of those thoroughly expectation stone of which all the detachers had seen their faces of a store of an entire supply. Then a smoothed lamp and the sea as he shranked out toward the deeper part of the board we were now some thought that most of the planes. There had been the southerly district where the crew, which had breathed in the first side, and it had been displayed between the morbid castle of Cape Maria Rose. The traveller stalked as the streams of this story with a large species of cracked aptrophy and their chest, where no strange and unknown, and an accident take me alone at the structure. The songs of the moon became mare to the foremasts and the dreaded serpents of the precipice that had a thought of the same strange captive discoveries, but was thinking that these can be natural and discouraged; terrible disturbance of the presence of secrets and their peculiar tortors and their fears and doctors and the sanitarium of a strange and meriting or companion. The stone world of secret structure is those which had been thirty feet in his son and something forced to carry throubh the cavern and display where need be one of the shelves was borne. And then I set out in the trible of the carven pale on the well-nigh preserved storm of Stan wherein colour was a castle along the chest. Here to bank the sensitive stars, and the sailors and children with a small bown and still continuous one of the same period. The things were the first and the mutileers of the desertion.\n",
      "     As it was, he did not call it to be able to come from the body’s climber. I had seen and conventionally on the taber, and a single line of design, so that we were sightless of some stars. I shall say that his correspondent and substance is not sufficiently resembling the more so thing, and without his conduct at the same manner as well as an excited search, and worked, he was supposed to have been a clustered and secretive form of the sanity. And then he help that structure was somewhat delivered, but these appeared to be that of the churning and uncanny position of an eater. The palmarithd carven country had not been a call of far blue-hole candle, and on the considerateoos of the superstitious stones of the daemon country.\n",
      "P. But this—still a man was still then in a series of difficulty and strigtling and unpersacted significance that he would be to a comprehension of short, almost evil spote and minute. They have been a million of four sinking, and a long conversation within an open stone, and the corresponding students were far borne of folly. The final attach and distant apparently disturbed men of the dead ship had been deposited for the same point.\n",
      "     At times I would then think it some of the tortures of his substance with their perfect terror. What the doctor concerned, that that terrible source was a mere sensitive place of the same muscular specimen. At the farther end they commanded a loathsome part of the higher grey tinge where the greater figure was absorbing their finging the three shelving specimens—but no monster had a sheer discertal final captive; some of some countless abyss strongly and mercifully, as he can also seeming to have study the same side of the contrary stream of the colony of that place. They had a second tower at a strange city in the camp world, but whose top it appeared, but surely seemed to make the sun and the child, a dark stair were fresh bodies, and all that had survaved me to still force on the praptice, a stealthy patient and drawing of a lashing prayer of missing monstrosity is only wine on the consect of them in an early space with its distant farmer, still shaned at the time at on a long plain by the case, and seemed ti hard travel in a crowd beyond the stony.\n",
      "     The sunken parties of modern and sounding section and the chimney-white speculation, the considerable comparative points of a fresh and unpleasant suggestion of church and pastevolen windows in the grey strange city of Canton, and her face of the grave to a steps, and were the only curious primal strangers. To which the displacement of the man’s camp, we saw it who shoutage the matter which the corpse is to survive that the carven carven stone hall doom wanting in the faces of the past and deaths.\n",
      "     What he would have had a correspondent and stranger the more sensivites than in the case of a frantic nightmare and the farmhouse of a little strange descend. They had all sheer subtle and uncannily absurd subterranean chief that the tree and the shadow to the fishermen should be delivered. The sound were such as their organs could have come about it, and to the camp above the straight city whose case had called up at that portion of his sile structure; the decadent specimens of course over the same point on the taverns which seemed to be a creature of the supreme memory. As the steps were too seek to be able to assign for me the submerging places, and which started myself about the seventeenth century, an identity of still stenched steeples, senting a smuggening of the rock, the clang in the darkness of the great domes and thereins; the firture through them all over the ship we doubted a great running farmheary, and the places of my few conditions said the substantial and superior of terraneousness and survivors that lived, and indeed shot that this was a gossip fallen from the stench of the farmhouse.\n",
      "     Then there were numerous steps we were able to stay to the cloud of that crumbling shop where his feet we were so first thought of staring crowd and shaming way to being on a steps as if a small abyss which they were no more than office whose desert of south set it, and the mere dark clambering seemer all the decisive present darkness on the steep roof. He was a street the most dark, and almost expression of a constant strength at his finders.\n",
      "     In a sort of singing stone time, though stone blue-flagged and strange colour shewed the prodigious source of some colloquy to discouraging horror. If the colors were as soon as possible in a distance of this person, and to all was some strength or construction there being a mass of ancient cavages that shivered where the broken passes of the stream, there was not a multitude of cloud of stone which such thoughts had seemed to be a personal research. There was never a monstrous passion of their formulae and precisions of a morbid prich and the son of the closed-door departure. He was taken in my feet and stopped at the time of a companion’s body and the mile. His passage from all. There were their face in that canning bulk of the glow of the state of some one or two senses in the antarctic sight.\n",
      "     It is the marring of the flowering corpse in the direction ofth several months, and holdous choking and clearing the distant stone specimens which they were sure, but all that was the lurking fear. All wishin’s fancy was a policeman, where the tall carriage of that city shewed a short time to accompany them, but it had not encountered\n",
      "an ancient rumour which sunk at a second and a strangeness. I was all atoosiced, in the servants of their crude and steamy finding. The class was now becoming assumed. The tempests of a friendly seasiness which was still the men from the chimney of a studies and this, though he had thiuteen my body to bear about, though the shrill lands and clerk told a short time to but seeing, and a few storidows the same state of thirty-five days where the terrible practice was an abyss which there were no part of the path. One was an astonishing compast and stealthily steps that sort of more change or starts would be always an absurd conversation of the cheeks over the theored of the cheek. The chanted flashlight show the stars and the green stone with men on the sea, soot of a complete connecting polar on the potter's field's shelf, and his former supports of the profuseous supplement is no less than sun, and terrible triangular stony stone stands would hear, for the present condition seemed that this monstrous artificial performance can exist to the second degree of the camp, but they could have seen her accompanied by all other planes and an almost police bone, and it was of an assimilar poric of the surface. All around their colonial delvings there had not been a self and corridor that were not thought to clawed it into a captive mind into the product, such a primal state of secret course with summit on the table, architecture of the many maddening face to the transferring and strange and more passive fury. One of the most countless and intoluse and possible supports, and a morbid alienage with a complete arch thrown on the sea, as if in crowds and precipices and charms with an enormously rampart cliffs.\n",
      "     On the seventeenth of Joe Mazurewicz was crept about a moonlit point that hold human breezen where the wooded streets and drens of something had loomed absorbed and disarranged the substance of the same monstrous and unhull out of some other. There is no doubt of any of the other parts of those of the terrible door or two or three fragments if a single minute part of the stars.\n",
      "     The ship was so fitting something about their chambers, and as the only proper concrete of the plain shares, and the frest structures of the police. Then, while I had been a little before some sign of the manner of stone which had crept in a carven region in the dark. At that time my dreams were to the profuse state and carven and marving which still landed. It was that of a feeling of delicate corner of the dead stilln since the legable to the cold waste, whose palace and strangely and sounded cases have already survived only in his crumblings with the fact that the steemer of the soul, a strangeness of that steam was nearly explained than another and unpracticable of them. The final shells which whispered, though he spoke of his soul. These things were of a strange figure, and the men were nearly thoroughly constantly possible to be able to comprehend—and at length arrived. His anger would have been a series of characters; but the fraction was not, however, a signal that the searcher was not a strangeness from a stricken spot; but this was something which I saw and purchased to the particular course of the surging and shrinking white trees. The south and their fresh cryptic streams held it to a more drumbled stone bore all at length, with the sound which had also been absolutely recognised by that prince of a common stone survival in the archway wherein the telephone floor was badly possessed, and that the summits of their former casual cause of solution and pry such an extremely prepared sense of crowded stone stone bulks of a shalphely barrel space at the stars and crawling stowage.\n",
      "     In the country and decay, showed the paths to their rows and tent the bent which the sound of two old which had bought out to their only thin part whose part of the change was found in the caverns of a smell, and whether it was something surely able to tell it would prevent. They had a good second, but after different and substantial and almost examples on them. The thread of its foundations strained or dark background to the sea on the bridge of the courtyard when the doctor continued, and when he was something manifest, and had something to be a marked spirit of an alien electric low story to the southwest; but was all that the property of many called menaces. The plaster confusion of subsequent dialogues was always indecapitably from whatever properly pleased messenger of those old men who found it to the peaks of the sound and the fiendish stranger set a far-bold shadow below the strange face of the country and an old lady whose place was never sure. In the storms we could not speak, and he had brought with a shift and passing far off the wish, and a great glimpse of the dark being there had any concervations of the patient was so clue. The present strangely served with monstrous tour of a college folklore to see what he had seen in the more; for they were all absolutely ninety-five or fifty, and where the corner was set off all too sealed at the cr\n"
     ]
    }
   ],
   "source": [
    "generated = sample(checkpoint, 50000, lstm_size, len(vocab), prime=\"THE NIGHTMARE IN GUATEMALA CITY\\n\\n\",mode=mode)\n",
    "print(generated)"
   ]
  },
  {
   "cell_type": "code",
   "execution_count": 58,
   "metadata": {},
   "outputs": [
    {
     "name": "stdout",
     "output_type": "stream",
     "text": [
      "characters\n",
      "Tensor(\"rnn/transpose:0\", shape=(1, 1, 768), dtype=float32)\n",
      "INFO:tensorflow:Restoring parameters from checkpoints/mcharacters_i8801_l768.ckpt\n",
      "ONCE UPON A CREEPY NIGHT\n",
      "\n",
      "All saints eve magic was mysterious. I won’t shew there has they called at least, such a thing, threw it on the best the stars with such an idle rouse. The country followed beside the black stairs, as if as secured from all sides of a frequent seclusion. Then there was supposed that they were first alien to strewn an almost increasingly professor. What intimated the principle of the student and time shank the pale and counters from about to supervened and consumed with things that come on the sea-barn wall of the distant bare. In the morning he had set him in the fresh time the creaking office were almost tho order through the distance. The fantastic cases of the salt surface, and a carded candle which had shewn already establishes of the moon-to the southward or sight of the dreaded child. The sunset canness of the strange dark stairs and ships taken away, because those three clouds of arman man terrests our sort from our party with a sense of country. The sound of many a prime archway which had been a loud stone, with a glimpse of a monstrous past beyond all state of carvings, with which he could not be tremendous for the same. And then the flured discovery of shadow broke through\n",
      "stones which corresponded to the season, shapeless tents of staircase and the fourth moving instruments of the mountain carriage of the collige and staircase for this terrible corpse. The people of the masonry saw the possibility if a class and parts and a climber, and through their season shadowed far or slowly, was now for them when they had a single shock of self-mentioneon. There were somewhat so cload as an absolute perceptible speculation. The prodigious sources of the presence of stone brows, blighted, and strong shore and the southward army streamed and dead traces of the sanestone beard where there came a mighty steps and clumsily and threating to be successful or stupidity; and we could not have done the point of seeing that somb meaning below him, all searching through their presoned station, and when the mind had no limits to the dark case, and who felt that the surface of their stars and travellers seemed to stumble to see whose discovery we could not think.\n",
      "     I had not their credulous sense of company somewhere beyond all the parallel and ship of secrets and possibilities of the chimney, and alone in a century and a few words, such as those who seemed to combine the place on a stone stream of crowding city. And one discovery of the same period they could not but lean and marvellous an apprehension of the sealed urchangs whose somewhat despite the place we could have suffered so lately than any of the carvings. As we still lost, and at the mouth’s biser sole tight and desperate. His parallel occurr to archate wide monstrosities from setting forms of force and contaition. There had been a small and silent space, and subjected to the same student, though no supply of station, and to some studied and significant penetration was traced as a faint case that seemantly desperate about the solid street of the past might have conceived a single shadow and a stone wall.\n",
      "     Then the stars, the strongest agent and certain fear, and the continuously dreadful old contrasts of masonry which they were their actual realm of design to see that the supernal ration of some stars which he had not seen in my friend that they saw no one would be to be a story of mates and primal secrets and stared disturbed each other; but there was no mattee beyond the complication of all the men, and altogether abundant appearances with a former a daemon old countryside. He was glad that the text would be the sort of stones. He was, in speculation, howsel of the familiar alienists of the metal carved reverberations; while the thing they chues the surrounding surfaces and colors of their masters, and once thought of the police direction of their midst and dragged the temple of that chain which the thrunding of a great corpse stood, and the file of that fragment and precipitous chambers of the deep catter stood. It must be asserted to the abyss of another and dominant agitation of an analogous star-stoped steep chair where so far from a curious study of metal and matters of strange children and their plutules which must have been their own. Those of the mountain-structure and sense of a man’s common-stretthes in the direction of the harbour began to raised him where had seemed strange, for the parts of a faint scene of party was the source of the distant sea and disappeared in mass of dreams which had carved in the southwest were no sound. Then, too, the corners and the striated convincing of that semi-vision was too vividly arterite than their crazed.\n",
      "     The thread of its worldly strange accounts tied to the doctor's right eye was frequently convulsiveded, and the cryptic crypt of ancient and unknown tone, and terrible and sinister and unevil clearly changed pares of the pre-Cambrian space. They are not only that of the solution of my pocket, but he could scarcely be convinced if the paintings and more certain subjects to help him over the corpse, the sounds of all the dreams of them—too much train to so many difficulties to believe in a surface with the party which I was also called by the condettive. It seemed to have a fear that how the sailor's stranger are thu dead of the case. It is a few moments for more than a minute, and the savages were seen in a collactured statement of a carples and corners of a sight of a common containing madness of the sunset, and was the calm in the case. In so trancies of conviction was the sole more than twenty or\n",
      "thirty days. In this manner we waited that I\n",
      "chose a palm whome suffering was, that the pirchise of the windows.\n",
      "\n",
      "    In the morning I could start in the first place; but he\n",
      "could hardly considerable account of a sight where the feetings of the black granite had been carried on. At this moment, his soul and all management of confidence, and threw himself upon them all, through\n",
      "which, in all the much attempts to dispose of the senses, which suddenly came up for\n",
      "account of the socue of the second party. In this close stranger I had to\n",
      "say, with successions to rise to the southwest. That\n",
      "we were not that of a muleinu or show, and some of the mod arose, insistent form at our sinister, a passage on the bass. The caresses of the whole of the ship, which had no distinction with the\n",
      "secret construction. We supposed to be a seale and\n",
      "two points twrobled and settled through a strangely successful, and in this manner it was the source of trembling morbidity, while he was a stranger, and would not help begin\n",
      "in a fear of strong. The stench, however, was still astonished with a less absence of mathematics whose fungus in the minds they clear in their first antarctic course. An evise pain is not to be afterward, the most practicallent and startling of the\n",
      "churches of my former, indeed, and wondered in a solid region, a search of a champer, or which in a few minutes her father and dead signs of the\n",
      "free country, and the fact that I have seen that they are set out, but to such as my churched mind, which has so little\n",
      "born  of my supervalational signatures in the message. He said not a field formation of the shore. Through\n",
      "the many and successful and surprise that I shall naturally certainly determing a far boy suffering from some obstructed spirit of some success; for an exposed room it had been absolutely perfect in that proper marriage of a lightning flight of angular\n",
      "complex survey of matter and dark and unnight bearing a faint, stanting face with wine for this that I would have been caught beside his presence out of the ship, and that while ten or fifteen miles\n",
      "off toward the sea. I have not been so long ago that that tangle of fear of diary would be a midnight and irregular consultation of my footfalls at the story; and at this period the thing must be those whose strange and more careful things had been also absolutely consumed by a pencil of second size and temples. It was northward the more than file and secret sound—the fearsome crawling chaos Nyarlathotep from the church with the same secret sense of complexion. In this much mood according to the charg had been strangely ascending. There was no lines as seen in sea-business. There was a check the soul of my storage strong and climbing above the bodies the sun some strange and dashing of my strength. This was strangely arrested and cautious and dreaded one sight of the monstrous and mossing floor and positive churches where the doctor could start fastanic into silence, and a fairly relative passage taken when he was barring, and a steady figure was still linked by the things we had so firred as a channel and preparable design which could not be sufficient to be the long antarctic state. Then words of some corpse is a seat and probably subtly dreamer. That was all the sensitive patterns of the ground, and the shape of the stricken metal seamen and the sea where its face stalked its strange and shocking discovery of the crawling church which came far and deserted and passed the carven sprayes below. Thas was a short city for an opening which had all the secrets of the mad absurdet of the true man whose coming of the passage there stretched for their shark things as what those white merchants would be treated. A long and silent mention of all trouble had changed in a sentence from the print of a series of tenants, and of a still remultive fact that the tenant of such a company were faintly resembling a stranger. The four orgen wish to be a sentiment to the fact, and, in some signature, there consisted that there was a great sign for all the survivors and speaking of that ster wonder and case of discovery. He then spoke of a college spirit, whose suddenness as the men of the following structure, as if in time, the change, it was not the present. This ship was a portion of horror than any one of them were in\n",
      "things the body of the command of my proper made of the chief. He was a prressing or to both of the pendulum of the\n",
      "front, the wild terror was a field seeker to recognize the waistching of the world. As the surface of the stream alone all outside the whalf and the country, and at once see what\n",
      "we could discern the patients of the masonry toward this cases. The still stated things are always a caution of the chamber which was no southern or thoroughly described secrets of these perpendiculars; and one would not be them only transcending to the sunlight. I saw them in the realms of that season, and the sensation in my head is sufficiently creating for the second indity and a multitude of foothills, bulst about a sink of state on the black sky-pillar,, and, and the subjeit to a few moments had succeeded, and would have been date of the mate in whom there was the most partly front\n",
      "destinies. He had shipped a moment of confidence. I was started in the side of my bottes, and the final and a stopped brig, whose\n",
      "course out of sight, had been a story and instantly absolute case. He had brought the bottle without any proportion that the mind was nervously discovered; for there was an apsaration of that cargo and archaic shot which they were, there were no murderous trouble of any doubt, and soon found that we had sufficient to show that it was not a primal specimen in some strangely carved arter of stone and successful in those distant country; fell in an incident and decadent and decoration at his camp. The world had been thrown in some of the trees within itself stones, which seemed to borrow all another fastening of the galley. On the night of Joseph Curwen was of the clouds of a great goal which came to the steps; and at sea and frightful and successful beauty of true tiny coming fear. The shrill light stretched over the touch and blicketed-flights above a little planet, and that a certain secret case would be the somewhat loathsome time of sight and sharp and consultational pastures and shuffled common eyes. The case was almost extravagant calling of steps of a centre, a fear we shook from the bark battled stone towers and the glibbering peaks which had built a stirry of a glimpse of a great range, and the more second at once a second and incredible company they were. After a long light he went on two feet wide or a strange danger with a great black stone which was a certain superstitious policy of dogs. These were something which telephoned the things which must have been seen for a sense of possible significance to the strongest and master, and more passive than those one and the creatures had come to the sound; but he would not be disposed of any dark passages from some distance and we stood on a sound above the case with a strange fancy which he thought I could never even believe that he was a mistake. The wind was alive. Then any thing as would be succeeded; finding it altogether usually trembled to cover our flashlight and almost uneach bird, what had taken a part of master of the samples as to any degree of ancient and insidious are in a most unusual and unparticled body, and had not been\n",
      "sufficiently remembered but a series of determination brought forth, and wild buried into the right stone of the clouds of the summer’s end of his frightful correspondence in the arches which had seemed to success; but this merest proper mounts he had to comm now to some periodicy at the college leaves of her brain-way, and a sharply calling of men to an odd colonisal power of shining masonry and the design to the door and a few ships behind his face to the sound.\n",
      "     What they were a match for some many point or surface with the most remote and survival of the sun. The star-factory stars on the common water shall, and that he was an ancient road, and a party of all works about manuscripts, with a startling channel of a steadily discussion of my own. The thing was the constriction of that probable army with the ancient cases in which he so closely arrived. If this man who worked what traded there were those which could be discredeated. When the secret of some consideration had been consequently carrying out, and that that although there was an individual of the past, without the part of the descent. Through the throat of a pallor were, we could not attempt to do, and we should not approach to believes with somewhat torn of fromneasths or six form at once. This was studied that their closed face was a secret series of supposed capers. It is no doubt that the party which he had never come than fifty miles in which the most results of almost absorbed farmers, when the men had been so clashes in the mist that was any sumptuous secretiveness, we found ourselves when his proportions of the weather-board was about to enter into the back words of my soul. He appeared to be strangely ancient record and a silence, and a fact is a study of striking sufficient transportation over his family hands. He would not take the same statement we came to and sea in the darkest side. There will devise, but had all about the solution in that strange case be the most impussive stream. It is a pair of data beneath the shapeless raid of the strange cold waste from the stails. What they saw a crushed and utwerly staring spectrul through which they seemed only an intense and diffusely source of the stone and the floors, and the factaries of the dead boards were terrible in the southward windings. The surface of the star-heise spoke of the black parched rock and standard above the background.\n",
      "\n",
      "That was not a low, being a picture of the sea business, at a starfish-processe at once so far that they were surely possible to dispute our stare that was some of these secrets of missing specimen of delusion. The sun was too clamber, and a second start in what te cast was a change that the sun had long seek a fortening wall which troubled the belief to be a perverse of substance. The company had been too cold. It was absolutely alleved, though there would attempt a strength. An instant about those who saw the stone blue state in which we had sufficient in a careful discovery of something that we had seen ovil in his course a singular spirit and at the same time by superstitious prayers—and the precise trunk of terrible presences and chirersome shadow and that of tower all the place on the creatures. It may be seen that they have not tell the once thing of an expression of motivation, and all seamen at the correspondent of the patient's continued penguin was still impelse in any of the superstitious arrangements and promotery whose exact change was such enough to convey the planets and stone cities of the garden windows, and of the seal was soon time of actual design. The place had so little found that the contagious mansion commenced a strength and top and caused their sun on the southward building and shewed the sort of tripped origin figures; three of the creatures, too, and others which could not be done. And when there were many another assembled, six, and which seemed surely to a prame of madness. The shadows of the soul was then to take in a form in the company, where they were freely ancient and probably the progress in the dreams of that distant charnel window and the thought of the crag and the country there was a good dreamer at the morning of the Great Ones to the chines.\n",
      "     After all, he had sure that has the some steed region had been constructed by some few days as we found it a minor size. It may any other sights we had not seen or say, as this subtly recollection of the men had not been distressed. When the strength of the morbid and searchers of his company were seen in the abyss, and it was an indescribable thing and successful antition, of the premature serias of monstrous and unaccountable suggestions of a struggled able to descine himself.\n",
      "They had a language from the climate and two shining floor on the carpet of the steep. It was not the same thought, so that he would not stop out and carved and cristed and studying as if through the same size and diamonals as that of the party rather they should be done to the creatures of the strange shore whose excavations where the papod hinded their seamen was so common than the fumbled bones of the multiplied waters. A case, and the chief of the police fantastic and step for their post-holes had lifely strange tension beyond their sturces, that their minds were stone with the convincing case of her body. When they have a door till I could not have dragged them all the confustation of the group. A long and dressing peak is a field-child, but the man at the concealed enemy was seng again in a sense of death and curiousity. Through the dark sides they drew nearer, and he was also said to be their source and tore into the carven face of the creature which streemed off in an instant behind it. These were shortly afterward the source of the shifting spaces outlined and shrilled in the south of the past. The second time he was burned in superior terrors and anomonomed chemical servants.\n",
      "     And thick in a frozen peak of desert suggested with hall some sinister record on the shelf or the same meaning and a clammine shipped and firedly stained, and was sure. It was too much from the surprising survival of their clouds and throughout the searcher camp on the child or the same time—that succession of structure and action are continuously articulate. The characters of these ancient camp and their passage was still above an almost perpendicular complete region of a case which we saw a class of glass spaces from the desert silence with stone beighs as well as the sea. These annihilations of a frantic and master substance of all tightly starfished mental beings shuddered above our contents.\n",
      "     As he was in the street a considerably checked planet whose conditions abode he detected that he was at the stage of higher slopes, and seemed to have to do so the children stretched at the deep and archaic stone windows of the stone slope on all the body-like things, though sufficiently successible transportation of the massive pattern. The shining periods, and this private child, or a more than a call for the stead of acrid toughness which somehow come as they are never seen to be seen. It was only frightful or figured astonishments where those men had been toward the first of his party that they had been so much traced that he was so mudderishly think.\n",
      "     The steam was still alone, and it had no doubt before dawn. He said now the man had come to my closely studied blackness and coming contents, steps over the river, buts in the time of stained countryside of that planet’s floor. And all the time burst from the descendants of the pallid shadows, and its strongest and insidious fancies criefly associated with its fruntic and parts at the camp and was below. There were any terrible ancient city as I stood, and was all since each as a long arrangement. That this whole best place was so fire, and we were now strough within its passage with him the countenances of a few of the strongs and the details of a street stone surface, and the fact that he was noo still overwhelming, and a palled and street-bone struggle with strange circular clouds. There had been surprising compaliances about the secluned blond with the archives, too which their mists were falling instantly after his former presences of ancient and invantages; and a second light of a glancing conversation with with some composed, and it was not so much that he had always become constantly so mentioned,\n",
      "and the proper doubts are the only and universal chimney of strangest incantations of the great corner of the stairs. The traditional construction with whars ones, and the creatures and sight of the present carven planes streams of shelves out ofctions of a mental aspect, and seeming the best of his secret, that this thing was an angry custom of driver, and still the minute shadow in the case—which had some terrified servants that she would have been done at last; and, while another police was a monstrous peril and claw of mystery, and the cases of a certain sense of plumying malign and second and seamen a made as they caused by their familiar torches. It was all the desire to settle the southerly darkness overhead, and the thought of a fantastic fatal call and ancient and unknown, and which had stolen and convictionably to brooden space, and a shark article with the solid spot where the strikin of his hands could be the long sea above the summits, and the people almost seemed to see the practic bottle of a sensitive starting of the mate houses a mental disorge of the places. The child has no legs and an open stench which shan a chair of secret shadows and anthropologists.\n",
      "     I had a certain place of the men of his secret and character and profound some peculiar things. He thought he was in the direction of the ritual statues—and what they would show that he had never beheld our companions to the country folk as he stood. Once he would have been so far, for those shining fragments wore away and shuttered, which was stooping altogether in a print-carving and substantial country; thinking all the sound and dreaded, all arrangement of the morbid things with a steady ravenous stone space and coming to the friend and through the southward and, and when a stranger was too called at the same, and in a muscle of mere methods of disturbing danger and chesical specimens that old Charles had been doubtless suggested than any of the massiveness of the daemon. In 1777 they strong and animals with its silence, the stars, which seemed to charge a still sorry at the college. It seems to asserts and points of a metal basement sound—a mass of strange secrets and aberratts that comes to that common shortens few conception of trunks, that strange stench were so madia or frantic discovery. To be sent to the sought times that the shrill course in the country and sended stonewoul stratal cares which come to a portion of an ancient relation. The captain we haded at the top of a case, and the fall of the sounds were sometimes to admit. It was one to the crumbling of the monstrous and unplainably ship frankly as the world was a secret of the deeds and true cases and their fantastic corridors whose antarctic contitreds and summer spots on the thing things that fancies a captive mind who had been superindended by the tension of his own and descend. All this we had at least so sure that it had seemed always buried and play in the distance, and the fact that some fountains we had seen and terrible some of our speech with more seasoly and more doctor and maddening character of the survival of the mindless earth, and others were sufficiently such a thing indicated by the most assistanted peculiar places of the stone, and there was some other figures of consciousness—a contact on the south weed. And the captain shot him a few monstrous stones with the stalled captive side. The clangour carves of a base of ancient singing blocks what had a great roof with a golden and the shelving lunes above it. In the end, and was the fact that the sound of strange shelves had come from the carvings whose sense of speed or containing was the carved fangastic statues of the mad wholly of a moment; but its features are not from the planet as the plankages of the decadent pit whose farms stepped out, and the case and artificially carven former of the strange cases of the crumbling stars. The shock of the south, and a four can barred time and studied that work was not so sacrificed as to a common stage of sucress, and in strange consideration this thoughtful surveyion of the continent could have driven them as a point-business and successful intervals, and that the stantaring spass were now stocked to the dispassable aperture.\n",
      "\n",
      "Then to this state, a sudden rough rambarts, and the frightful protracted shelves over all the surface of a street where the stream was not the final section of more and more sounds and palaces wheseed in the strings of the rock space and saw and lowed at once in the stars. A shapeless design where the town’s arm, and the sea of the sheet men were ascribed to my strange sunlight.\n",
      "  n  That was now the less search in a personally excited professional mad and somewhat background horror of the carven folk of Naham's sime. When the case and plannes and specimens were obstuded from his few frantic and dreaded portions. In a member of this thing the polar spectral orders of the dreams had come to the place to the soath.\n",
      "     It was shewh that the studious familiarity were all the summons in the determination sensations of his soul, which happened to the sound of those on the black stairs and the captain and down the rock and teering a grim interest and captured stone beings or substances which had captured an absolute death.\n",
      "     There was nothing our course; the section of confused planes were now forgotten by a cargo of stript on another titter of the starfish-breeze which the stairs and myths come to the following morning. Another seemed complex terror to the frightened paronal which the two were showled through was the sounds. It was a perfect disaster. After some fearsome space there was an intoxication which we were noticed, and the whole of the perpetrators were so thin an original fear. And then I strode through the flashes of the river.\n",
      "     “As this, he has been left to see the carvings and madness of my dreams and treasures; and these are the markings of a corner of allation to some of the sone of a mountain. They were only a chemsed shattered, words of the sensitive and mindless parts of the party and a household of such a monstrous signal from other resemblances which had been a memory of a somewhat malign flame after all the causes of the corridor of abla day when the thren children had given me successfully in the source of this sort; and they are not much looking darkly into the water and thinking to the solid precipice of many searches and the dark and marvellous superstitions of the great ruins. He seemed to be an apparent counterpart of singular shapes, and these temporary races of this madness of strange descend was absorbed by anyhos. I had no restore to stop under stones and traces of the shantak, andnotic and stately archaic man had all begun to cast and cause of the profuse things of some strength and dead became surrounded by the common familiar statement where some fantastic path therein, and a stranger still less a man with the crag which the cryptic city of the mountain city was nearith. It was then, and the stars of these things was came from a considerable cass of sense of poly. Then he stood of an apparent convincing desert as he was, and they arose as he stood on the best to the shifting street. And in the first time a change in host to the case of such statements when he could not study for hand. The figures, all at that time had been determined to be alive. And there is the time of a frightful conversation; and he found me as the singular-littling of a great carven picture and a steady case of some of the traces of the store the made manner of the steep stretchs of a strange chemical rushing company; but his accepted trip, on a century and the stranger shore that carved face toward the bowes which must have been strangely assigned in contention. The strange and most country so singularly things are consciouslessly showed of the place at the top of the greenish street; but the torn claw-bred stairs, and the sailors and the same proper clusters of madness and townsfolk startened in strength and thin strangenesses. What we had to seek the lower plateau on the side of this marble city toward the ship, overhead the seamen footpills along our exploting dominant abysses of monstrous corpses. On the same point the tenantless, whole figures of sunset streets strike their beings they stood in town. And a few months the most humples was a search of strangely alien presence; for those times who had seen a good prostrate in the studends, and when a little one which crowd outside into weather by a singular army which was about terrible their presence; the frightful shadow of stone came a street, and she could no describe the mad accustomed folklos of the discovery and present so suching from tracing or torn on the forechied black carven parts and passages toward the daemon-looked coult of a few monstrous substances and that terrible surface if all tignters or place of child. He was a college stony long diary andnet, so something about the first time. There were no somewhat angled shrubs and two of the stars on the students and comber writhing of that fantastic primal folumanes, and to alive, with some time observer. If he had not been able to discover as it was three strong rock, and some only sight of the solid people of the stars of sounds had not been dead to be a little\n",
      "moment whose destity the thing was too supposed to see if he had a constant continuous castle, but which took to the town he had been laughed without traces of summer supplies, and a calapation are terrible than the searchers. The sentence in whose farmy whole camp, without the mad to go over to the southward and first one, and he wretely dreamed of some terrible peculiar care and the summuration of the party of the chief state of an impressive power where the sealed form would staye the chance. And after said the time was only the fact that the perfume of sharp arms—and his country days all the surface was all about their former; but the feeling seemed to be only those, in the muddering of their considerable size, and the streets and capses of the days and the carven pall of a cipher bound fruntion. We were sures of the clouds of a faint case in transportation to the design of the steen floor. A large school will never confused to adverter their proportions, that the court as was still; the four feet after a moment after all the matter was seen. The choris of a meraliter could be descended. The sen of the country had no real anticipation in my own age over the sight of the police and secret absorbing stones of that direction; but with a final destroyer and a monstrous madness of a palace, burrow and a partial cardow, and also through stark and curvilinear ships in some of the sea above their creaking and disturbing plenguers from which they shall be found in a frotfict for whatever track of the clumch broaged me; and in this morning, I took a less complete studies in some moment offservants and supernal specimens of the subject to the south eastward, and a second and the cat came to the summer and mighty black and death. This was a precipice of serious dark tough sensitive sinister causes in the stream of marvellous chance. On the tables of Monsieur Maillard, a crude age of sunlight. In such case the cryptic church would have been so structure, though it must never have been a change in the story which was so from an antarctic sense; and he had succeeded beyond those who commenced my presence. To the touch of this man whose madness was still able to remain to such a secret care of my done beare. At first I must stumble to receive our passage, and a precipitous condition of the constant, or whoshed of the most profound, since the dark or attempted to serve in. The most surprising physicians, the master shifting a pinnacled pocket-window on the water and of which the curvilinear princs came from their secrets of a certain personage about a fearsome titter; overlooked below the seven particular ourselves. The stead lay along with his short terrible existence.\n",
      "     Then all the sterile and higher surface was at the same time the same spring, so the changing sea was no more than his son, and a few worlds had not seen in a claim to the familiar sort of things that was such an account for some time, and it stole a curious suspicion of sounds in the anterctic circle. To the door they had all the searches of a course to suppress the same sign of success. As I have said a start of things an accident in the clishes that sail to an accident of the mathematical stars which had arrived timidly up of streets through innocent and structure and distinctness of the case. It was on two or thriegs to see the stone floor of a small and ancient striking and stooting step which he thought they seem to have been studying at an old crumbling stone who were the somewhat linate time the strangely passed stars. As the sign of a stranter, though tension in the case, was a perfinally distarted position which he had never been to reach. In the class of detection we could recall the servants who shewed me and myself, though a letter of the mere could put out for the search for the company, where it was a persistence of minuteness as he could resign. There was no light, but although he was not many ordinary surprise. The shelves and previous construction was now secure, though there struggled to set the sound of human acquaintances with the church of crag before making a prayer if the cold present it had seen for the southerly discoveries of thin top, and without the carvings and told mines of some corresponded distance, a sensitive fragments of arches and distinctly discovered blackness. He saw that the stairs of the distant bearing other worlds of that fearsome and use of such cold was a store—a sight and sterner toward one of the subtlety whose ancient colonial planes appeared. All this was not a small different company with such a precipitous surge. The solid continents was the search of a mix trunks of man to his chamber arts in those windowless contains, back toward the crucial record beyond the barren and the fragments of seaman whose peaks trembled in their carvings ought to take it. This was the other chair as he saw that my stays and strangers and strange doors within her course those final dim and dead bored of strange contempt so fearsomely a shadow of surviving course. These senses had been a student and abnormal secret, and the more prompted than any other persons to be so for as to shining the rumoured castle of the shocking, and of\n",
      "the soldiers who had been set about the strange and secret absolute and accident in my dreams.\n",
      "\n",
      "    I called my position that I had seen him to have a season for sufficient seriousness to roughly seemed to accompany me, and when the front door of the community confessed in the most\n",
      "sensible division. That the color was so first as the cross they could discover with a seat and confusion of strength and current as if they\n",
      "still contrived; there was no one on one of the color beyond the passage.\n",
      "All the friendship of the windows in the deceased. After this we again started to a century and a monstrous company of a sense of distance. This the satirst of the book came, we were forced to remark the bate of some strength.\n",
      "\n",
      "    And now, whether they were set the clustered stone whose ancient large sight could reach.\n",
      "\n",
      "A glob of the floor, without a single state, to the carven stone with the arms and the\n",
      "statemones. A second stragger stood of feeble familiarity in the shot of my base at the crystal inclinable speculation, and, after an article with most purely a cheerful substance without attempting to be descended, and a sense of resolution. We should be only absolute, as if this was observed. While the face was a staircase, which I shot from the\n",
      "sea, and tristed weather back to the water in the distance.\n",
      "\n",
      "    July 20---- and a season aftord him an opprised reason which had been supply fell on the floor of the south, the shirt of some month by my examiner condition, and asked from the party of the strings and shrivers of the floor.\n",
      "\n",
      "    Jaluse Mayuans a midnam time the change in the midst of the shore.\n",
      "\n",
      "A struggle through the forechains which may have always been suffering from a person, and that of the crew of the practical servants of the possession of its beautiful stroke.\n",
      "     The figures of this massace was taken by some memory. The metal speculations were overwaken,\n",
      "and that it had been still interested, and there being the same point as a passion of silence or seaten words. These windows\n",
      "were allowed to a single mountain of casual and intense enough, where the body had been trickled with a prominent stowage. They crossed our preparations which I send and discovered in their search, the field-glasses and myself. There were\n",
      "serving to make some persons for the such condition of the solern steeples which seemed to stark the strings which have been so fearful, and that almost established its continuance to the summit of a man’s fergeners. In the morning he could not have distending those producing of the premature plateau across the child. And it must be something about the mesmeric conduct, while he determined to greet him to throw some distance.\n",
      "     The first mighty consultation of the sea stood on the bleak shadow bent a front state.\n",
      "     The three of the stantains were so singularly definite, and a certain storm were the southwart, because it might be enough to sat out of the same strange connexion with a closed descent, and a curved, and shot were the sole possibility of any of the old things whose size had been all the stars in the blackness of their stunent tones. One of the monstrously deserted times he had seen in the distance before something whose cornable was numerous to the seven men from secrets of the more crest and more troopers, the street which he had to suspicion,ly contrastable crowds of the chiefly convincing secrets of his peculiar consuspition, and they saw that the colour of my chairs and cats went by no sign of the secret-gallans; and the farmhouse would have done, they would startle far more than three feet of the death. He had shown them in a ship from what would be discussing. His humans were about twelve feet as the chimney, with the southeastern world in station that was a madmen seemed to be stumbled on the stars. And then I had succeeded to study a complete community which she told mad after he had seen and tremendous in the men of the distant fire. His hands, since the streeks had climbed to his head a great dark carriage or the started and more towers of an unknown contradictory please to the deserted stars, as well as our peaks, wide belief that and of such separate stars and times we found, was only thin a contactor. The secret stout party at the country would not be enough to lost my cases which the sunset occasions and sorts of somewhat lined apartments. One of them had been struck as the most disturbing trifus of a chief seemed sudden and most absolutely the foundation of the masked paners, but only a few monsters of traces of strange crags and the crystal both of them was sure, and the constant chantes were ascended, and a proportion so far as hideous survivols of sense of story was that of a chill, and the stupendous star would be suddenly commenced with a few minutes after my attention.tThey were so modificated with such strange and serections, and the cleared stones of an angle of anomalous and unknown spectral sound or crude and silent fell which made me almost immediately afterward that the shore was no situation at the calp of the creature, and that a frequent short tittering floor wouldly bare their moon-wine and the colour. I could scarcely have bone the same sight after help. We had never seen a set of town farmhouse and the top of the great black abyss which had been closed. The documents stretched of a mighty change in a ghastly and almost places. An outrage successful ob to associate there were no longer any officers who had been startled into incoherence. The crawling flashes of the cold was so asstracted when the sevenest-house was never survived.\n",
      "     Only a proper disarrangement which the door of the solid ground had been last street on the partition of the sound, as the strangeness was all the facts.\n",
      "     The dragging areas where the shrill chill wing were the other precise ten-strong race, there saw those others of his hands and thrown the praytrmal folk outside of the ground. Once he considered the checked blocks of a great ridge, and something of stone calling in a cload breaking off the stairs and clutched from the train still laboratory building; the candles of the strained choked archway had seen that solid composite corner of his studies, and this was not as may sufficient and display the college direction of the presence of the carvings.\n",
      "     The shipping was shrieked by the same artificial species of father than anyone so marbly astonishing a primal surface. This, too, were all the first traces, although they had the final doubthess was the choking of the deserted bulk and all this proportioned summer. The convulsions arrived, and a strong sensitive and a sign which could have come from his farmers who had been dark, and the message was a cloud of crowd walked out to some disturbing descent. Then there were those fractored manked at the country for his family. He saw that the secret of actual survival was no last strange, although insistent morbid missing singing whispers had attempts them. Will thly tell him in the street was the other point and approach of the same cold and partition, and that the crowd of servants had been talked at night. A few were not tho one and a curious sense of solid river and telling the body of the story to which the strong stone search had been constantly still and discovered, and which was not to shunned his evidence of my conclusion, but the converse was through a man of trial minuscules and discoveries; for they all taken an abnormal concupsion in the dead or the stars above it. But it should that is my present plateau in a coming point of things an outside, and what he could never express his correspondence, which would be suffered, however, than the case of the somewhat damp shadow of the second castally as the party successful for secret concernings and so fellows a start of more than a centre of terress on the southerly outer door insullen, and which most seemed to find the products of the man in the art out of sight or a crespende of familiar circumstances. And the man’s story store of the ground from that door of the south, and went only one to the other somewhat later past in their depths transmitted all the more disturbing ofounsit than three million years old—and it was the same terrible conception of supility through it, the memory of my own act within the summary which we were in the college laboratory. A shocking gleam would not be darkly called in our fourte-nar and silent child that was a menic fell. All at our spot where the distant mountain climbing of the woods overlowed the shore of the corridor that seared and descended to that frightful monstrosity. As I was the member of my sterile, and in that morning I was then a factory stealth which made his stupided short wearnarce outside the summits, and whether they mean to be a much age-old product of mind of the same space which had been the cold passes of metal bell as he had come; and we found that he had seen something to account for all our planes and their frequent appearances in the distance of the strange and strangeness of the striking and settled statuet, and on the floor of the cavern to that posture which set out to them a marvellous curiously alien primal stone country from whose college secret change told of the stars. The farmhouse of the church and mountain struck was not the common and archaic prisoners, and has a strange thing, and its cold and difaint shelter was a mere record, and then the case was to be delivered, and a clutching and sickly rock in the street tent to the shantak-birds and dragging town and the strengthening stratument of the gugs. Almost instinct that his clouds were about to set in the sentiments of his conclusion. When I had seen the brain to the ship on Miskatonic University of Delicate world, and of a former, starsly convented, while once as a monstrous stone spires of his head-and-some chamber were sufficiently discovered. The foundations of the stone spirits and the steamy archaic mountain. The steps were so fiend as to superstitious signs, the carven following darkness, and the fanals of those a small story, that seamen stone black mild tracks of the match within a lead deep black galley, and a proportional second thing that had so far as he had all the men that the leader had been conscious of that corpse. What had happened. As the detectives still lived, and the family shadowed outside the stone familiar whose sunsets he had been attended, but this man was no little discovery. There were such a surprising state of determination of accident which had a chance from the searchers to the second shelves, whilst all of the maniac of the ship-street that sunset sign of many and motions are somewhat touches in search of those who will die far down through trans and corridors of superstitious mathematics and artificials and to the distant madness.\n",
      "     As a curious sharp and abominable companion was not only by nearly two dreamlands in the daeming chamber. On the third thing they had some dreamed solid ranges of supplies; then a strange dark corridor lay all my assertions. Then he did not seem so called for six mansion. As the country a sharp track would seem to be tota throat. The strangeness was only frequent and more serious and unfearpodelated as the second tendance of the complex stark, and there were trees those curiously corresponding studies and travellers, sour found that he had been sufficiently restored to suspicion at the dreamland of my soul of the custional air. It had been strong fresh, and the facts aro transfecred the possibility. Then he had been able to study it; but the probeble entity was shot as the chamber, and the claw-light consciousness of many concluding metal-captists and concentrated spirit-sails and counterashing the claw-light with his powers of strange decay as an antiquarian and subdued palaeogean primal fame.\n",
      "     What it must be a few struck and buried fright to the steps. They were creating the secrets of my fear. That secrets are not to send its angled pre-human blue wings which he had confirmed an ascent of the man and the dome of the carvings, but wide not to help, he was brought about a considerable cause. As I shaked his three-shouted areas were first paper in the child whispers of a glass were that of hell, and set up the bottom to the shadowed channel of the stone—a madness and a cellar was no means of faciding height. His frame really constantly shewn on one or two miles abatted. In the second side of the crypt, the same stony statements were sufficiently five feet in stairs and contact of space being able to account for their second. There were strangely such times that he seemed to hear a mould bringing upon them.\n",
      "     It was noted from the college shore-sight itself, which many men concerned that the conventional and most propostional points were conversed from a similar starf shoring and fresh townsfopp out of his souls.\n",
      "     After a time he would not survive anything through those depths after midnight. Twicighat will now be described, we had the sanitarium of the things to be tried. A man was thought, they were now far down, and there could be no doubt. He was something less than a despricing and intolerable secrets of almost immechise spaces whirling the closes and countryside of the sensations in my old world and mankind in the door and a curse which might enter in the present servant of a continuous precipice to a story to belonging to the case, when that silent sunlange through strange and solid pale could not be so got to survived; and there were a little singular chest of dreamland, the feeling of surface, some still deathless and dark sharps in their steep. The clues of an infanty search of the depth-stone pillars are so delicately an extraordinary art above the chamber of a shantak-bearer of the prophes and toward the sea. She had close themselves trantitious and unknown and darted flexible stones.\n",
      "     When we was almost preserved, his former conta\n"
     ]
    }
   ],
   "source": [
    "generated = sample(checkpoint, 50000, lstm_size, len(vocab), prime=\"ONCE UPON A CREEPY NIGHT\\n\\nAll saints eve magic was mysterious\",mode=mode)\n",
    "print(generated)"
   ]
  },
  {
   "cell_type": "code",
   "execution_count": null,
   "metadata": {},
   "outputs": [
    {
     "name": "stdout",
     "output_type": "stream",
     "text": [
      "characters\n",
      "Tensor(\"rnn/transpose:0\", shape=(1, 1, 768), dtype=float32)\n",
      "INFO:tensorflow:Restoring parameters from checkpoints/mcharacters_i8801_l768.ckpt\n",
      "I have never been so afraid in my life. The trembling of the legs is uncontrollable. I do not think I survive tonight...think was a small construction on the ship without thinking, and as the murder of a face of mania articulate changes were assumed, and what we hoped to find that the creature was a seas, and studied them with a state of another fight. The\n",
      "conduct of this stern had a single start for more than fifty or five or six further worst, that is a curious ster or profound sounds, and which shewed the steep and spring in the cabin. The surface of the barrier cried our endeavour to do such a matter who, intimate was obvious that one of the futures were not a pair of so composed to belles and all the merchants were naturally discovered. To a singular\n",
      "procession aroused me as I was to tell of the feeling. When I reached the same time, there would be no decade that the mad arm is as much of the southward. It is somewhat more and more than any of the chief or on\n",
      "which the soletion of a spreading and a casual state. The seventy-fifth month and the window of the stars of earth’s great poly.\n",
      "     An attempt at least a perverseness and most of the student was a mere source and disposal of strong and somewhat merely dogs in an ancient rouse. He had thought of her family and hurs in this part of the hill, but he sat an irrages of dream seemed to shew out, a successful world of throat which made him to tell of the sound. He could not try to be a paper on him. He shook a chair from the body and there thought they wished to remove and recognised the perpendicul about the men from the stairs; but the thing was not always the most reality of the prevailing hall till something about the policemon. To his conclusions we had always power that the sea shewed the place at all sounds, and which they dared not shew the case, and that the tower was a present section, but who would also some of the conclusion where the past might be too place to the same secret secrets and constantly deserted size and present one. The creatures were torn from the proper stone blocks and carven and terrible specimens with his soul that she did not decay. The prayer of the sun, horrible in engineering claws.\n",
      "     The formula was too much from the most silent inside, and a small rat-like painted parts of those tittered mills and chambers with insane streams; but only a mile-car weed- although I could not have set at last, and told the secondast of a combovernos and dominant blocks of the ship at any day; and the corpse was so many times to himself to some other dimensions whatever. They came to the fantastic specimen of the account of the deciding fingers; but the doctors confidently without our course; the closed stars, husted at the top of the cavern spectral scatter as the country.\n",
      "     It had been a great poly of subsequent tread of madness. It was not many sort for a single which I had said, as if a possibility of tremendous ancient and indistinct blackness. His closest deposity was note to take place—though of a counting a more childy and desired from things that seemed to be the most astonishing case of an object as the passage. At last the transfer of shadows falling as plainest that the sea strained that he was sure that he made him take a complete sunlight. They were now from a found one and forming a matter through simple circular spring illustration; and when the sea began to reach the constant passage of his door and a side and a stonac from the distance of the deserted sea whereon range and death had been down through the stone city of signal and sentient force in an intense thing; but how sure he came to take the crucible following morning. And now, at langth I crusted the strange discovery of a cavage from the sharp tracks which the precaution to arouse them there. It had been then, and there were four on the country on the torch. A letter and the strangenesse and two sounds had been the same familiar stars; section to spectacles and powers of struggles and the stone flowers and corridors in the concealment of the gales, and set the sea which were oun familiar antiquarian, and that only stones were so solidly different to the theories of any stream of considerable pashed apprehension. The shelf saw the faithful sunken, the seven hills and clutches of things that began to go basement of the discovery of the changes whochanded the chemical opposite thing, with a measures and piles, and suggested that he would never-house take through the changes and distant silky. In all different stages of the sealed and most careful shock where they were somewhat like them, though at least faint peaks the stone shelves about the strong lowly account of the carven stairs, and the topics of mathematics and profoundly supremely shocking absence of men and a search for the first to try them, and saw that those steady ship intermed me fallen in candles; and the death was somewhat abnormal and unable to suspect. The struggles were about to remember a complete season and still larger and more terrible conversations of the mathematics and phantasmagical correspondences of thic strong and stratgered folklore. The town, and the courts of the people about, and the sound of his strange drivers are sufficiently crawling.\n",
      "     Once he did not leave that the design to which I then continued to confident and relieved it. The fact that we were obviously desprised and seemed to set out the most remembered characters of their feelings than whose death had become absorbed by the secrets of the man and the chimney; and that there was something in me in the light of the presence of the sort of ancestral and surviving and unaccountable corridors. The terror which they could suffer itself through a large and unhallowed primitive manner in which the shantaks which there have ever been the fourth miles when they were seen in the direction of the dark woods which made a chance of dragging.\n",
      "     The colaming or twenty or thirty million years ago the distance of a small stone window. On the seventeenth century, a storm of face would be sure that the merchants of man had not sat so far as that of the market of the prosperity. These things were numbered by the men and the shrill chamber. Then a charnel metal could be strangely convinced of the most unutterable things which stood there. Toward the source of the decayed circle of clutching space, he saw that she must not be touched before.\n",
      "\n",
      "The diary and more than the sun wese and a haunted surpass, and at the first time before his closed farmers told about its brief and perished panel. With a final passage, with a certain species of face-looking glass. The shapeless spots found that successfuled between my own prominence—shrieking in supernal racours that continued two on the records, but their soul and stretches of serious details and crackings which had called it out from the black and dreamer such as a curious caura fractory stone of almost impossible fellow-like archways and deserted burdens and clerks of torn of fresh and surpessed patches of the sort of desert. These sheet ships and transminted miles were absent. His friend all the stars of such a series of cult would be sufficient to confident and put off in the sea which had a soun would have been their starting of their distant, below cliffs. The town could see, the staring countryside to a child, as the more passive of the same steps shaken stones below me, and a certain district stroke of the shranken walls and towers were floating strangely from our farmhouse. There were the summer’s strange and designs were nameless senses that transferred its corradication.\n",
      "\n",
      "It was now the seven height of the chain. The flame that saw that the gloom and the sea took a sidel sigh after the tense of the ghoulish stude where the doctor reached the company with the gulfs of sound and descend.\n",
      "     All this thicket off the same time a fresh power and destruction of the marvellous sunset city.\n",
      "     In 1766 he called against the witch-like, since the frightful peaks seemed to be a shapeless alien, but then we saw only the truth of some particular strength of ancient staircase and a change. There were stennal faces a sign of death and teeth. The persons of the mad high asstinations were thorsing of the crazy archway there before him; but the fragments were always an occasional structure, were not only a string and the same crest of a firm, bestooped court on the shore the traveller walked about to term the sharp consultation of the great rain of strange peaks to be a length or time, that the most surprising finally of the case of the mad woman and the shelled mester-of hands on the polished chamber. The whole ofes and cases, and the stench as if they were so crashing from the passage. He called only a strange and painted farmhouse on what it was descending to a struggle, and when he could not half shudder than as the shelf was thoroughly started. Then I said he had seen all the farmers of my own fear, but those old men from the great black cornel of the great stone city. There were a man of distant strangeness. The frightful circumstance of the mongrel candle that seemed to be only a monstrous creature on a mental and most subtly pathetic fear, and how so many weeks having been seen to be the sort of stricter shift, and with a grade as those climbers and teeth methods of throne still and tremendous; and it was such as they were not absorbed by the convolved face of my own, this time the policy can be a state of matter and supposed thing. These was nothing who well of midnight, but when I stirred to draw me as that of a contour of the sunset tit of the black capera, whose state and panelling is a constructive study that success. There were any sensations from strange contemperations.\n",
      "     It was not my eyes and he would not bore the strange process. This was only this, and the strange corpse had seized, however, to see the more alamment of an electric forget it set off the body.\n",
      "     The shock of the same simple watch talk, with the many of the field of things that chosen the sun to the star-whar things which many miserable concerned might have ever breathed with his stock to a strangely constrained ancient region and the crowds of a fruits of ancient and indesigned planet city of flund contagions. It was never a sort of classified panels and communications over all.\n",
      "\n",
      "It was the last moment of his somithing of such personality. He seemed to have been sheer signs of some company and sensations as it could be serned to that we went in a proper assassination, where their persons is those within. The clampers were through the temples. The final colonistac of continuous sight as I could talk to him a proposed ruins, which the police came there both men and the glared sparsely dogs and survivings which the sounds had shone the frightful antarctic sense, the strangeness, outcombined windows and spining tentacles and people as he could not sens them, and the stone of the summer callers came from a lambent and undisturbed condition of the soldder places. When we saw a case and sound without any study of the dogs and some primal mind of every day of discal and sense of contemporary stairs and specimens of strange carven carven carven faces—whose sense of story and steady significance we set out to his community from a shrill, loathsome crampling which the credit was the final staircase. The traces of the most hideous and uncanny and uneasy and mere came are common to half-strong daemon outside. That sheer, while the classy camp still still was only first; but it is a companion of surface. The sentence in the masquerade and the considerable stranger were carefully disappeaded. Therein was a certain credit that another thing that shewed that the candle on the steep washes of the halls. Indeed, the daughter was not so far dead. When I saw that the dim memory of a shock stepping to such things about the college spectres, but the face we seemed expansing an unpotential change of preservation—bodies steadily diminished. He saw the shrouded rock-bearing catacombs and a point of allegory in the sea. The struggles of those figures were blotted out.\n",
      "\n",
      "The doom was the secondation which my uncle’s face in which I had sent an arms of such cases, and to turn over my books and seeming to bore the same street and stateless, with the sand-greatest districts. The town had so much as that of a mere man whom he was a madman to be observed.\n",
      "P. What was the mere country as they were sufficiently calm.\n",
      "\"I continued to mean the patience of a forbidden short terrible passage in the second descent, to\n",
      "the conversation of the\n",
      "consequences of the case. He still caused the substance of a case, which I found to have been conversant as we\n",
      "came. We were still in considerable through storeroom, and of whose articles in the\n",
      "proper policy of many persons should\n",
      "actually entertainebuld my friend.\n",
      "\n",
      "The servents of the first manner of my path with many\n",
      "and store to the southward, if it were then a strong\n",
      "serpent.\n",
      "\n",
      "\"It, is the power,\" said I, \"the master as well as as too, as you will be sure,\" he said, \"I say, told that there were the fourtern offices, and the corridor was suddenly possed against the building of the bedstead? And there is the ancient step of a few minutes, and a fresh sea of a more strange thing to the second; they came and shallon bound to the deck, and the sensation of characters, were now far both in the dark, assisted mires to a few of the countryside of the seventy-six and fifthet under the sea, and the crucifix were still in their sinustest and prepared form. The standard tower sailed at a small plaster room of the galley and the company windows and the right house to see him at his struckural sunset, and seemed to change the fact that he had succeeded against the same strange.\n",
      "     The sailors had never before stayed, three days was somewhat towever and there—and how the proper subconscious mental depends of the strongest chimneys, whose substances it seemed to be the same point as to be cannibated. As I have stumbled, were not of six must have encountered. I started out at the college legends and canvos of their stone bridges, and the captain saw the sands of a cordial cargo, and a street sheltered fangs of the columns and the steps of matter and danger and the month after a certain struggle things or corroborations of the primerval centurists or perface and secrets of a point and the country and the free of the monster as they were.\n",
      "     This story were of thought about the case of a gallen and collapse and a failure. To a complete, all tightner and thirdly distinct, but they were always the familiar thread of medical scraper, and a series of ancient trop-like prisoner to show the tenant and carving which was a man of a grandfather and frequent range, and a smell and the great stone pattern of the garden of their church-cheek. The fears of a second and the camp charred tower strode along something long enough not force of this thing, but which this sort of staircase a craze and the family are a single month, and struggles in the same monstrous size; through the things the subterranean panic of dreams strewn orts, where the basements were shadowed from a stare-lived stars of their fantastic corridors, and thinking the superfluous distance. It was only a certain subject where he did not lead us float in the dark. His face, though this wourd had come from the tentacles of maturity. The stars were full of their crouching crew.\n",
      "     There were much titters of a madman of secret policy formed the climate and part in the tiny of the creatures; and as they discovered a momentous age of striking and successful alien. It was a means of an intense fruits of strangeness as they suggested beyond any other presence. The contrast to the surface, the corpse was never before many places, the mighty stillness of many. There were natives that the munical surge of the shelter and sealed secret setting the there broke the spirit where I could not tell. This had a final result was a small prismatic stony whereabouts of that crucifix was the case of the solution. I was telling the time of chiefly, and mongrel pastor, and a first time in his person and a madman and the sole chain of that seaseness of my own sins is so far marked and perfectly dark and two silent and stout fastening of all the dissistered spectral specimen, seemed to have completely developed a man to come to the sea, and a mad colleague had been a signal from the pallid sunlight of those who were sufficiently dropsily composed, and the same spirit a crypt continued about. The mountain change we caused to time the channels of a point-books and a second and made chains of discovery. He was not susticated that I might help thinking of the sensations in the ancient tall with a small blue chain of two present images which he thought the rigutes were a force of about terrible care, was to be dragged to the southern primal passage. The supposed stone, and the minds of man’s feet weight or seem, and a monstrous sight of antiquity and a memory, or at least as soon as the primitive powers was a more strange collapse. They will a madmon should be to be the same as I divined it. Then I thought of him a church with the greatest period, but traversing as he could not startle that he had been clumiciful. He was a pale of security, and without searching one of this security, and who had seen a clear cloud of a few of the faces and the face and the brief point of command. This where I seemed to have told him that the thing was a fire-life in that foreign stone, and a fresh stature seemed to have been secreted to a century there. Having a thick spot figment on the floor.\n",
      "     As they could scarcely recognise as the carvings above the walls of sharp sun was a shocking. They were, then, have a care of fancied touch on a caution, with an old lady of doubledous surgrising characters we had secured a carrying of some of the monstrous things in the rampart. This stone could bring another time without presentation to the constant creatures. To see the telechoph and somewhat actually struck with sleep at all and few where the glances he seems to be stoppling. Then a continuous shock which they had to be a strange colour of them, and the first still-correspondents of the strangeness had accomplished through their survaviting hills. A great carven richestract and tangled chambers of a slab wherein that background of the domes over many and future and party stared by more than some proportion of his fear of solit. It was only from the present considerable college character, these contagions were not sought of age-captain such of the mad terror of the struggles of a corpse into which I had been at him to believe it worth a possibility of senious escape. The dead.\n",
      "     The former subsequently committed to them was through in a freemon-dead striking of the moonlight, and in their condition the most itemstitudes were finally stated;\n",
      "that I seemed absolutely relatively described, but to the portrait of a spirit of surface and surgranding statements of sensitive and stronger steps. It is associated, she was a small point in accidents in which he was a more suggestive presence.\n",
      "     At the second, he speak the science of my soul, and the chanted pass of the stones\n",
      "and consciousness which had been climbed and probably to be daily caused, then, through this spot where the country been shewed them out of a child to three of the\n",
      "blackest survivals.\n",
      "     I could have no doubt of the character of my soul, I shivered, although any of those others had been consterring in memory and some of the sections of the prominent advice, they have also a forbidden, a series of carpets. This train on expression was attained. This true servant were of a farmy resignation by the summit of me and the most prepared expeditions. At length, in the most present degree of previous solution; the chief passage in such place, and were set\n",
      "loose in a false sense of convulsion. Thus was a sound and the first species of conversation. There were all this companion-life, it appeared, would be their appearance of so madminess, instituted all times that has seized and reselted by the paper and similar seemert of the same\n",
      "considerable contemplation. The sound was all the fullest action that steeple and artificial rock, troubled him to set about his desperate cast. To the touch of the strial children hands were seriously alled to be seen about the mide and stained back of the dark bungalow and there, where they came up on themselves, but with such such primal schools of concertments or powers of doctor recognised for the portentous conditions of the chamber to the country, but he shrubbed in sounds and chosens of the star-boards of their black course and discovered.\n",
      "     The drawing of the secant and second discourse was at the same time the sandstone flame. They shook having been strengthened by the ancestry of the strange days of the moon-beasts. He was gone, I saw the construction of the murder, where they shortly afterward stood out of them. There were a continuous step, and a curious side which had a pointed point of corrobortine. The party, offered through the face answered the river and sat out of the sentence of an old storied spot on a passage from the gambols of the shambled spaces.\n",
      "     I wish I had come to any one to send any dark animals and we were far through their steps to the sentinel antarctic capacion and creating of the presence of that child he shook in attrosstrist and rational streams.\n",
      "\n",
      "It was at length that he had accomplished the man of more than a picture of second and actual suspect. The three months had been an able trach of foothills with their standing and shadowy season, aroused me. That he had a limbs, and although there were follows, and whose corridon we could not traverse as if their peaks to the ship. He took an antique thing about that portentous blind on the street tap whilst the slope of the sense of carvings was all seemed to find; but I did this seemed ague of such a shadow, but the country seemed such pole before they had attributed to movede to some other southerly conversation which he was still startled at the tremendous plan. There were many things that can be seen as the stars were taken into the sea where an express case of dreamlands around many were above the whole moon, and ones had built in shore-soulded material and tenantless bodies in them. Old Church hints shewed a second letter of them, and had suffered transferrus on their chambers on a substance or ten accursed cats of Charles's ancient streets and ancient, star-flashed peaks as it was tried to stick out of them the least conversation with water to such clumsion in the disaster; and when the music was of some distance, and that the terrible artistic screaming, instead of communication, and the figures of a shadow which he saw so far as a sound from a loud scar on abyss by the men whom they were first busied up to see in our stark, and and to the sound of the party. A shriek would have successful that the surface was successful. The castles of the columns had come from the thought of that death before me. It is not to be considered some places at the part of the river, where the men of that complexity seemed to be told them; for there were no longer and sort of corn all objects of mankind, which concluded the mass of several presences, and there are some convince of silence, three dreams and most still lesser times and the stars, or the servants for the college. I wish it is a substance of chamber and startling attention to the river, and in the most distant world. In the sure thing in the same throat they set out at the base to the window. It was immediately descendant, although in my diminished struggles, of an unexpected antiquarian who heard of the most distinct degree of both and fortilitable spirit, and the sound, a mental depression of the sheet.\n",
      "\n",
      "    On the morning, of course, the surface stretched, whither the patient's companions came for a second that he was almost\n",
      "expressed, and the striking of my exchanged fresh extremes of corpse, being not suffered to surmose the frequent chamber, and which were a second chamber seemingly in the ancient town of my social sight; there was a muscle of the most carving was that of transported stone shrubs.\n",
      "     What the death was an excessive sense; for these things at the stream is a celebrated spectacle and all a family to the centre of the child, and with many antarctic and impressiveness of my friend which has brought up the black galley of the gleam which was a smooth startling staircuse as surprised. It was surely the moter than on the firther of the carvings where his face came to a chance to shew the second college spires and shines of a glow outside the burrows of the sound of the door.\n",
      "     The folklore were still the lander and the cloudy race. It was only a stock. There were mountains that had taken this singular stone stone clambering structures which had soon said through the people of myself. In truth he could stay and stop wholly unconscious. As the face and close of the corpse was a few of the spectacled corridor which he was brandly an angle of such sensation which happened to be out of the great tread, and which were only from watch found in my plan to seem there they said. That thing I was sorry, and that I have never been a proper struggle to the change of such cases.\n",
      "     When I came from the truth and threw him out the stone will we hung it to both of the corner, when I turned to the south as interferent. It seemed starting in the sand to watch the prospect of a sinister chain-clear silk of such professors found and somewhat artificially departure. After a few deserts, the shantak-blanknest was a pieces of sort which had been sufficiently resembling the planes of the darkness. The shrieking and alliances seemed able to cheap that natural spell of an old striated plateau supplied by the town, and there had been a mounds to stark so far as their sounds called in concerts of mountains or at all about the study, and at all this time the men were assemtled, and always shewed a formidable depth of surface, so that the people were sufficiently convenient at once thoroughly touched by the second and massivengse of my fancy.\n",
      "\n",
      "And then, some of them so sound at once, there came a simple siding of the first situation. The supply of a considerable substance was thoroughly artificial to the other frail of the missing chimney which had come to the surface of the soul wherein the mad outlinea pows of a mile and similar tone could have been carried out. And all the of every strange cold were almost partially and unknown to him. They had seen alive, and something larger signs of space-blazen abidity and comparted space-trappding windows of the stone, and a morbid possible ruin were from an artificial student and army as we saw. The prime colonised shelf-light one were secrets in camp a classish scarcely at the bottom of the steps and came on the facal connecting door to the would basis of military contents and the men with a steep and sounding stone of the stone benches in the same steps. He had seen the great stone of the house toward the dark children whose sight of his stories worked so causelyss and such planes as the most deliberate cheap walls from a grass would perceive my surviving discovery that had been close to the doorway. The thunder seemed abaoring through a mundy and absolute subtraction and some sort of ancient tiled chimney when we had been campled with a confured current of this moon-world, as if a mild crawling, and perhaps an hour and sheet occupied spaces below it, and the three minutes of the middle of the proportion to with the present apparatus in the mid-like carved and most seriously carved factory. It may be a chandelier than the somewhat diminutive sort of some of the proportions as the same case. It is something wholesome of the perfectly crashing surface and the strangeness of my disorder as I stamped. A moot had seized and the clouds of a small black, secret ship whose darkest stage had looked like. Whar the corroborations and children and closed spirits and choked their consciousness trembled with morbid and money. There were trucks there at the charge, boarded horizontal friends with such an old collapse beyond any strange tent when a strange design shallow seemed forgutable to survey an ancient captive. He studied the sealed on shelves to conclude it, and somewhat thousand fishing castle of disappearance.\n",
      "     The final attitude could readily be fina large shape, and wholly fastening forth and the creatures who seemed a stout for sensitive and some of which he had been securely becoming the final speech of some of their servants and a control of a monstrous street; but the faint character of the surface was staning and different and placed for the lutter on the crucial line of the sea, and were not as the one to a state as it seemed to be in the arm. The fantastic parallel which they were not so much surprised, for the thing had come to the legends of the chimney and the sort of ancient ring of shadows, and an unprecable for the present of the steedle and stark shantaks and possible power and singular flashes of almost evil apparent supplying and incredible, and of the matter too, which he should be absolutely necessary. At the traveller struct with a continual antique titterer of the study and deceased, shewed blood all the southerly of the greater stage of ancient conversation, and watching the plaster attic lone of the steeple with the clearer tales of the sound of that crude coathable sides of a starfolk and called faced papers and those signs of a fine dooms and security around. There was no answer and surviving behind me, afterward wholly blanked and through strange and more terrible spirits of the passage with mere staring. On the first time the carpots were an obscure and something murilian of distrust. As it was, we closed the pressure of that stone and the corpse of the construction beyond the product, but the sentinel one of a cellar was found so marked that they had been dimined a torch from which the summit on the cold waste was to break and spoke of. Then they were the same and intricate call, but there were a great stone building in the dark stars. The faint storm of a carvings and chaos of specimens shewed all maniacs which had been so cleered and curious backward fraction. The three stars was something about three or four feet wide, being of some profound and surviving surground with their colony. The place was a madman and one of three feet and the black captain, some successful westward, but a pair of ancient river-bones; and in a strong anternative finel drove out the creature of the stage of the clear, and to be a constrainted and uncomfortable crag of the daelonish suspicion of his face and tendency to the castle of the darkness.\n",
      "\n",
      "I saw that the manner of travellers would have seen the place about three years, we found that his stones and still-later continents seemed tried to see the comprehension of the pattern. That we had almost sawd them with men or comen which I have successful. After all, had to depict in the face of a far above the river, through which the case was the first successful supply of cases, where we were seen to see, and to thi stormed sight of this muttering on the sea; but I felt more to all that the stranger had been stated as the substance of these\n",
      "facts and\n",
      "terrors aspect themselves. This were the fame and the stature, and on the crusteened world without blead, and sometimes, the churches which came on with its set from an iron railed ship with an image a rapidly subtly sense of corridors and antiquity; and the stars of a small-paraller stroke of capition in the door of the hills, and with the abyss and castles of the decrepit distant blood were still less than one or several concentrated mother which the decided truly shaded spice and train had crept a fourth day on the place, but had so lately really the only time and assuring the trumpets of a sendanted parts of their changes of discovery. There was a sign that we could reply in so much of her and so coloured figures at their own. In this moon we closed another monstrous shantak-bearer straining, and the world was not. Then a few moments were to be a low and modern shadow of his senses would be dared. There was the survivors, while the secret, the stream of the street and displayed a mountain of a prints from which the continent of the surface of the place around him. And then, human beings the shrieking of the sea-bottom of the body of the sail, and the marks and their powers which would not have been struck until a sort. Then he did not recall the strangeness of the passage of the peculiar passage. The pashing of the shape, which I could said that I had not seen the barrel to the street and searched on a level of the sone without the same more crossing and almost alternately preserved sculptures in the seven hours of his stony couch in many antiquity. I was at the farther end of the same closest and familiar period, a pointed and dearly distance from the same species of feathers. The shadow-winged memory of the place are so frequently curious that a marvellous sunset city. The third was too would trying to do them, and has soon beentable to comprehend that highly extravagant patterns of a certain crushed city of sounds and the first space and ships of a singular candle of treasure. Then the stern street oppostutes whose entity were sent in the dreaded cellar to where the stars shambered a messenger of some destination into a madman at the source-of that frightful and unknown peril of chimneys that were an infanty for such an accidents and croakings which seemed to fear and drag the shore and below it; but which they were at a man as they were the meating of their fragments as his common case. I could steadily half a faint antiquarian almost unknown statement of mind indeed a strengthening field. As it was a fine substance, and of a conscious of the most absurd series of abysmal spectacls. The san transformations and properties of mass of stone strata from the party of my organised powers. And at length the choking aped up throuwh the study as he staggered to her men for the farthest agitation of the carved flights of the dominant, sterile and subtly sterner, and only the musty bodies hung a cargo or to begran events that the traveller strode in a stricken plateau, and who shewed the sea and treeso neighbouring days and steeplaces—which telling of the shot about a single life of some of the party whose entrance would not be access to the croaking stairs—and the tale sprowled by a monstrous tene and the other stones with a long shape for miles about the sheed officers or the mountains, suggesting the source of marvials.\n",
      "     Then the leaning, however, consequently suggested the particular condition of the consuming trunk, whilst two monstrous shore and most sensively triangular discovereds trembled in the camp, there were no assembled and fellow-farmhouses. All the colonial screaming and the mould watched his feet and crashed and stretched as a sheer stone. He saw the stars of my steple of trees on the foothills. At this period the marvellous sunset city, the same strangeness and architectural periods of temporary sun. The surface and the fear at his farther she could scarcely, and what the constructions of these tows stretched and shallow signs of the monstrous perfect spot. The the carven farmers and the glummer was not first and so strangely present. It was not some of ours to the south and the garden sides, steps to the stars. The from the shock was a chuen, and to the original speech of the space and pair of pleasure. The shadows, of course, and papers or a pillar as he would have succeeded before trading of my camp, and was about to rest. And and to drag he had several leasteds from a place of fishy spire through the carven spaces above and of the sharks, the same conclusion we secured the massive mousus. He think they shuddered as they will be traced that we were to bear the structure, the survivors suggested a penguins of the same penguin continent or super-crothed stars. They were shrivelled, though no one could be so great a silver sensation which had been so fewer-storm on their pastames, and sometimes startlingly started by some case-like things and stantakes and superstitious strata loomed deadly and sort of seamen—was—a sound from the course of streets; fully incantation and the continuous constructions in the chance. It had been more and more in two structure than I can detect.\n",
      "     When the dim windowless stonieh of the window was thrown in the stern runged room, and the steadily disposal of the cold waste beyond the study. Its shadows were soon afterward and contanting the flashes of the sort; all subtler, and all our foresade to the balustraded, are always shown on the country and there beneath the graves of the sane, base to a struggle of a moment of captive.\n",
      "     Then I spent the dark studious and shocking room of the clouds, and that the staincess had so secondly after a long ancient space with common time. And tho crest that will be thought of a multitude of creatures in her father's storeres of transments, a danger and more decided to shrawk terrible all my testimony. I was not made to be a chance that there was a minds of deaths of considerable crysial subsequent tops and stone beings from a certain track and sheen and somewhat downtone from the continent to stark. There, was a marked part when she seemed to be thirty, and when the thunderstorms shewed the most thoughtful course of the stairs about the dark, but an open path, but the crushed hung charred shones of the steps, was not also considerably a degree of security.\n",
      "     The true massed stone stone carven mass and standing was almost somewhat absolutely sufficient for their own evil, born intense case and cause far below the strange and unknown personal possessor of some converget with windowless space-like. And over all these campaiges, and the steepers who sank with two moments as they concluded that a fear of the precoritions and positiveness was a madman whose change are excited with the searchers. He was a great walloo, and the servants who trembled to a modern place of an intelligent thing, and without a second through a confused repulsion and carving- wating for some similar size and stonichly outline of the subtle torch where the grey house and decorations of the southern ske they had shewn off the church in a few of the brain and set of tightly we had a soul which had come from themselves.\n",
      "     The thing that lay at the trip door on the stench on the farmhouse, and some of these absent crazy and many starting freshly are not so completely; so a care of the same time and thrown its formula born on one of my solid rives, the miles of a man in the anchered servang and crude and silver spectral and more strength of accident, and wholly unexpected to the cragina stack, and threw the country forever at the cellar for the great bridge to the water; finding a complete chamber that were several few who were set out by thickly secret-like and sinister, still sores, colouralish, and probably travellers in the same, things supposed to have been an architect and choked and troubled to attempt it. Willett was something most of the men on the shrewdness, and their shadows were shooting about the most intense formation. In time we were normily arranged to an encouragement which the claws were not beened over a sensation or clouds about highly secrets which moulded in such prospects of a song of a few monstrodities of the perfumery strange spots or seeming tracks of a mould of fright and presenting of a secrets. It was the supply of some one who formed the missing mountain of sensitive more strange and madness as well admitted a short time of the perfumed torch that had so fewer and strong aspect of merchants we will never be trodden in their first and sentinely right. His country had been a proper, similar condition that her shuddering mountains were fully forcibly plainer. The stone was only a point of shout or spectacled belief.\n",
      "     The dead wooded shock was still threw his paller from the bed. As I half come to the steep street, stirred in the bale, and were still taking faint from the shout, we found it within a side which took the first\n",
      "one as if in them, are chiefly as possible, but the few man would said him and there, in such case.\n",
      "\n",
      "    At length the supposition of this cheerfulness in all the more policetar then supplied the second trip, and its bottoms without so despite the carpet.\n",
      "\n",
      "    We have often resembled to make a strength and profused the chamber of a seven period. We stood in the wall of the carpet, where he had, in such an except whether they will,\n",
      "I thought, and there and the abnormal collection which the principle of\n",
      "the barrier, and the survivors of the cabin and foot, with that of our apartment, and\n",
      "still at the time. It was at this spoing, there are thought that has seen the consequences of the chest of the body; for, we could not study the put if a passage in the store, where an about several\n",
      "papers were found in sight, and others were nearly\n",
      "the full state of his feet. And we all calculated that a seat of man had been\n",
      "able to accompany him to the second. It would be of a close contempt, with a late stranger than the mutineers. In the stars the boat\n",
      "had a sort of policily abinitum as well as fastened in medical experience in which the mutineers were solely carried in, we should have been careful to reach the crag, that its work and some mere counterness think it with its assassination.\n",
      "\n",
      "The supplying touch of the fourth step of the same merciful conduct. This is the sale spot of the surface. The foot were assisted with a steping about the matter as the motion of the water where I had seen and so faintly, so to me as the stranger of the ship-shore, as the stars were singular. The story was a sign of the crowd, terminated by a summer condition of such surfaces, and would not descand these stations about all the points of the corner. The brack would receive,\n",
      "and the subject was so above the complete check in the cavern of tho compass; but it is still in the season that I set out in the\n",
      "facistic state of a superstitious modern chamber which must have entertained the sensations to the profound\n",
      "mental common stories of the careful principle arm induced to have been marked in an evidently carried arm at the source. There were never seeming sufferances and ten months by a farm and degree of seven and fierce and anchorage of many angles that shantak where no time to a gradual canoe was better, though it was not the first stories, but shuddered at the corridor, the talenss are almed and terrible in that primacy country; but when we could not have transfared by the man’s distant former persistence. They were of the gasoline steps of the great stone carven peaks that blasted up in this mind in the stateroom; then, as if in stark corning of the rest where the discovery. The stars of that startly domastic and unnecessary power to surprise. They were supposed towards and carven first trips. There were about shores of fright and standing and desired particularly activity of the primary, word of contents and almost-humans, but the secondary penguins were supplied with an almost point but some faint study of tinted forms were assembled of sight that he had already formed of such changes and southerly plasters. All this of a call, he was steering at the sandyt carved flame to their own party.\n",
      "     All three strange descendants were still as if in such a single hour, and when I searched a great stench and a few seconds when a legend old house had left the sea, and throughout the tent the steam lingered as it was a monstrous primal country in a scraped and sinister and meaningless start. The summits of the perfumed seamen stood so far as to secure the converged recent closed and there with a settled crash and dragged river without a second. This was a moment of stone, but with their following morbidity; so that it seemed that one of the steam had been shaped out, and where a change and some curious strange and dog-like steps were flung and dreamy and unabsurdable crawling. Altogether, however consisted of some strange and unknown and unaccountably fearsome plateau as in the cavern on the discovery.\n",
      "     When he had already strangely disappeared in comprehension of abstract cats and their paralleliams in the massive countryside and a certain state of case, and that all offers and decay appalled himself, indeed at all at the commencement. The thing thistered through a spectral strata of dead childroom formed one and through the frightful planet country; but a long delicate constructive flow believed the secret streets and country flames and their complexity.\n",
      "\n",
      "It is often seen that he was so frantically crude as the primary speculation, but a torch told about the sea before any person within its singular family, with the strangest of all mental causes of strange prostrations; a few world of spaciousness, talking at this point and sunk and camp and sent to his search in the ancient railway to the town of the dear to still stony stretches from these steps—the street-glanced factures of the region, there were times within the clurked suggestion of a glass and above-ported, lined space, and the almost-humans and subjects which had crazbled only a certain thing to be darkened.\n",
      "     The creature was a momentous studious and distressing column. The procession would have so followed, and the shadows of his chief specimen such as he spoke of a sense of crowd would be their accests to the discoveries is not for more than some facility. The solid people of our setting and the stone was the calm, for the sort of conclusion was tremendous. In a less actual character of the curious men had been called and to strengthening their stealthy periods and street at the print, and seemed sufficiently compretended by a simplicity of their onyx stirrings—there are things of colours and an archaic consciousness—or absolute dancers and toling changes of deceased were a point with a final spectacle.\n",
      "     I was an increasingly secret stone there arises, as I have told me, and afterward the fourdest police was seen far behind them, and had seemed to find it in the air of an unknown policially almost pervassive steps, the cause of men for some ten or shore another appearance of my structural direction, and he did not seem to remember.\n",
      "     Out from the door on the twenty-eighth of July 10, the claw of the moon bore started black and dogs that lay outlined. On the first place, the domes and motor talks to the town. And as that section is not to be a considerable angle of time; so that the most hardering mood were strengthened three men with a construct of throngs. It was a faint, sharp, and second discovery where his chest as had stuffed their cryptic and stretchs of fangastic leagues. Toward the stone, we were sent and dogs, and our siling realms of collap in the street warriors sat off the same clerk of the door, where the structures had been stooping in his soul. They were sure to the same police, and a strangely dreaming spot before me shortly afterward the lesser tradition of his progress were set of cloudy. They had not seen them, but he could see if a corresponding past and case a perfect convolution as the case of the sea, and they could not stray his stars of a charnel sensitive mind. He was no clamp, though there had been an almost unexplainable porter of several distant whumbness. And their springs, whilst the lower prayer was a mast which had been an older speed with startling gravily headlands which the sealed stone floor was seen to stone. They were far beyond the path and space which seemed to be a meteor suspiciously discovered in the antarctic stricken; for the sound of such contemped their surging lay a loud and passed background of compartment of a propec time till the students, where the seventeenth century had no deserteded face, staring above him an enormously strange conception of the decorum of a second study, both too actually accounted for infinite dark angals and country telling of the tentacles set that sorrow over the true marriage of a graveyard. The fragments of the great walls and trap-doors were falling upon a strange face in the standing paropolises of the sea which seemed to be surprised by a common transcript, the southwest, strange fear, and on the captain above the camp. It was now thought in the distance, and the sound of the faithful triangular stitua in solvents to the solid stone woods and still run as a careful passage of the great complex object as those of the sorts. All this time he heard a multitude of fire forms at the tomb, and there was no leave be seen since a solution of strengthened cats, or one coming the corpse in the clothes. At length a strong parent of an ordinary search had been to sufficiently discovery; for I was all companed in hand, which, insented as he crawled of such a man to a fear a treeso street for thoughtful dreams.\n",
      "\n",
      "    After the more distorting persons and the persons seen off as the persuasions of the substance. When I spear the chair, however, were still that I have been a least suffering of dark passages. I shall not feel that these, if still the latter say that he did not. And again, and a partial rock arose\n",
      "of a pair\n",
      "of students which I had almost entered the steamy portion of the carioss that began to reach it from the shoulders, as a possibility of the point of strictly and silently. Instead, he was so frequently as the followers were so far as possible a person or strong and fantastically drowned of the middle of the face of many papers with a momentary\n",
      "principle of a drawing. We saw the somewhat relative, through which he was so far as\n",
      "the conduct of his feet. A\n"
     ]
    }
   ],
   "source": [
    "generated = sample(checkpoint, 50000, lstm_size, len(vocab), prime=\"I have never been so afraid in my life. The trembling of the legs is uncontrollable. I do not think I survive tonight...\",mode=mode)\n",
    "print(generated)"
   ]
  },
  {
   "cell_type": "code",
   "execution_count": null,
   "metadata": {},
   "outputs": [
    {
     "name": "stdout",
     "output_type": "stream",
     "text": [
      "characters\n",
      "Tensor(\"rnn/transpose:0\", shape=(1, 1, 768), dtype=float32)\n",
      "INFO:tensorflow:Restoring parameters from checkpoints/mcharacters_i8801_l768.ckpt\n"
     ]
    }
   ],
   "source": [
    "generated = sample(checkpoint, 50000, lstm_size, len(vocab), prime=\"THE THING THAT SHOULD NOT BE\\n\\n\",mode=mode)\n",
    "print(generated)"
   ]
  },
  {
   "cell_type": "markdown",
   "metadata": {
    "collapsed": true
   },
   "source": []
  }
 ],
 "metadata": {
  "kernelspec": {
   "display_name": "Python 3",
   "language": "python",
   "name": "python3"
  },
  "language_info": {
   "codemirror_mode": {
    "name": "ipython",
    "version": 3
   },
   "file_extension": ".py",
   "mimetype": "text/x-python",
   "name": "python",
   "nbconvert_exporter": "python",
   "pygments_lexer": "ipython3",
   "version": "3.6.3"
  }
 },
 "nbformat": 4,
 "nbformat_minor": 2
}
