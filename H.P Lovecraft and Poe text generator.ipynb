{
 "cells": [
  {
   "cell_type": "markdown",
   "metadata": {},
   "source": [
    "# Recurrent neural networks for H.P Lovecraft text generation\n",
    "\n",
    "\"The color out of space\" is one of my favorite tales from Lovecraft, i will use it(as well as others as the call of cthulhu) to create a recurrent neural network in tensorflow that learns his style and generates new text in his style\n",
    "\n",
    "This network is based off of Andrej Karpathy's [post on RNNs](http://karpathy.github.io/2015/05/21/rnn-effectiveness/) and [implementation in Torch](https://github.com/karpathy/char-rnn) and an example from \"Deep Learning Nanodegree\" on udacity. Also, some information [here at r2rt](http://r2rt.com/recurrent-neural-networks-in-tensorflow-ii.html) and from [Sherjil Ozair](https://github.com/sherjilozair/char-rnn-tensorflow) on GitHub. \n",
    "\n",
    "## General architecture using \"Long short term memory\" units in the recurrent layers\n",
    "\n",
    "<img src=\"assets/charseq.jpeg\" width=\"500\">"
   ]
  },
  {
   "cell_type": "code",
   "execution_count": 1,
   "metadata": {
    "collapsed": true
   },
   "outputs": [],
   "source": [
    "%matplotlib inline\n",
    "%config InlineBackend.figure_format = 'retina'"
   ]
  },
  {
   "cell_type": "code",
   "execution_count": 2,
   "metadata": {
    "collapsed": true
   },
   "outputs": [],
   "source": [
    "import time\n",
    "from collections import namedtuple\n",
    "\n",
    "import numpy as np\n",
    "import tensorflow as tf\n",
    "from nltk.tokenize import word_tokenize\n",
    "import nltk\n",
    "import itertools\n",
    "import matplotlib.pyplot as plt\n",
    "from time import gmtime, strftime ,localtime\n",
    "import shutil\n",
    "import os.path"
   ]
  },
  {
   "cell_type": "code",
   "execution_count": 3,
   "metadata": {
    "collapsed": true
   },
   "outputs": [],
   "source": [
    "# Run only the  first time nltk is used to download language\n",
    "#nltk.download()"
   ]
  },
  {
   "cell_type": "markdown",
   "metadata": {},
   "source": [
    "### Define conf variables and hyper parameteters "
   ]
  },
  {
   "cell_type": "markdown",
   "metadata": {
    "collapsed": true
   },
   "source": [
    "mode = \"characters\" #characters or words\n",
    "\n",
    "epochs = 3\n",
    "batch_size = 64       # Sequences per batch\n",
    "num_steps = 400         # Number of sequence steps per batch\n",
    "lstm_size = 2048         # Size of hidden layers in LSTMs\n",
    "num_layers = 2          # Number of LSTM layers\n",
    "learning_rate = 0.000075 # Learning rate\n",
    "keep_prob = 1# Dropout keep probability\n",
    "negative_sampled = 100 #in words mode ,how many negative words to sample to improve trainint time\n",
    "\n",
    "resume_from_checkpoint = True\n",
    "delete_checkpoints  = False\n"
   ]
  },
  {
   "cell_type": "code",
   "execution_count": 90,
   "metadata": {
    "collapsed": true
   },
   "outputs": [],
   "source": [
    "mode = \"characters\" #characters or words\n",
    "\n",
    "epochs = 5\n",
    "batch_size = 128       # Sequences per batch\n",
    "num_steps = 100         # Number of sequence steps per batch\n",
    "lstm_size = 512         # Size of hidden layers in LSTMs\n",
    "num_layers = 2          # Number of LSTM layers\n",
    "learning_rate = 0.00001 # Learning rate\n",
    "keep_prob = 1# Dropout keep probability\n",
    "negative_sampled = 4300 #in words mode ,how many negative words to sample to improve trainint time\n",
    "\n",
    "resume_from_checkpoint = True\n",
    "delete_checkpoints  = False"
   ]
  },
  {
   "cell_type": "code",
   "execution_count": 91,
   "metadata": {
    "collapsed": true
   },
   "outputs": [],
   "source": [
    "if not resume_from_checkpoint and delete_checkpoints and os.path.exists(\"./checkpoints/\"):\n",
    "    shutil.rmtree(\"./checkpoints/\")"
   ]
  },
  {
   "cell_type": "markdown",
   "metadata": {},
   "source": [
    "### Define base text\n",
    "Once trained ,the network can take base text and a sequence size and generate new text using base text as first characters in the sequence. For every element in base text wi will create a list that will store generated text as training goes, to be able to compare results between steps"
   ]
  },
  {
   "cell_type": "code",
   "execution_count": 92,
   "metadata": {
    "collapsed": true
   },
   "outputs": [],
   "source": [
    "text_to_try = [\"In the first place\",\"the night before\",\"horror\",\"creature\",\"night\",\"dream\",\"thing\",\"That night\",\"mountain\",\"Ammi\",\"Cthulhu\",\"raven\",\"bird\",\"nevermore\",\"dead\",\"The bird\"]"
   ]
  },
  {
   "cell_type": "markdown",
   "metadata": {},
   "source": [
    "#### Function that separates text into tokens(for whitespace characters, only new line is implemented, missing tabs and others="
   ]
  },
  {
   "cell_type": "code",
   "execution_count": 93,
   "metadata": {},
   "outputs": [
    {
     "data": {
      "text/plain": [
       "['H',\n",
       " 'e',\n",
       " 'l',\n",
       " 'l',\n",
       " 'o',\n",
       " ',',\n",
       " ' ',\n",
       " 'm',\n",
       " 'y',\n",
       " ' ',\n",
       " 'n',\n",
       " 'a',\n",
       " 'm',\n",
       " 'e',\n",
       " ' ',\n",
       " 'i',\n",
       " 's',\n",
       " ' ',\n",
       " 'L',\n",
       " 'u',\n",
       " 'i',\n",
       " 's',\n",
       " ' ',\n",
       " 'L',\n",
       " 'e',\n",
       " 'a',\n",
       " 'l',\n",
       " '!',\n",
       " '\\n',\n",
       " '\\n',\n",
       " 'F',\n",
       " 'r',\n",
       " 'o',\n",
       " 'm',\n",
       " ' ',\n",
       " 'G',\n",
       " 'u',\n",
       " 'a',\n",
       " 't',\n",
       " 'e',\n",
       " 'm',\n",
       " 'a',\n",
       " 'l',\n",
       " 'a']"
      ]
     },
     "execution_count": 93,
     "metadata": {},
     "output_type": "execute_result"
    }
   ],
   "source": [
    "def tokenize_by_words(text):\n",
    "    text = text.replace(\"\\n\",\" new_line_token \")\n",
    "    tokens = []\n",
    "    splitted =[[word_tokenize(w),' ']for w in text.split()]\n",
    "    splitted = list(itertools.chain(*list(itertools.chain(*splitted))))\n",
    "    \n",
    "    token_list = []\n",
    "    i = 0\n",
    "    while i < len(splitted):\n",
    "        if splitted[i] == \"new_line_token\":\n",
    "            if   token_list[-1]==\" \":\n",
    "                token_list[-1] = splitted[i]\n",
    "            else:\n",
    "                token_list.append(splitted[i])\n",
    "            i+=1\n",
    "        else:\n",
    "            token_list.append(splitted[i])\n",
    "        i+=1\n",
    "    \n",
    "    return token_list\n",
    "\n",
    "def tokenize_by_characters(text):\n",
    "    return list(text)\n",
    "\n",
    "def tokenize_text(text,mode=\"characters\"):\n",
    "    if mode == \"characters\":\n",
    "        return tokenize_by_characters(text)\n",
    "    elif mode == \"words\":\n",
    "        return tokenize_by_words(text)\n",
    "    \n",
    "tokenize_text(\"Hello, my name is Luis Leal!\\n\\nFrom Guatemala\",mode)\n",
    "#tokenize_text(\"Hello, my name is Luis Leal!\\n\\nFrom Guatemala\",\"words\")\n"
   ]
  },
  {
   "cell_type": "markdown",
   "metadata": {},
   "source": [
    "First we'll load the text file and convert it into integers for our network to use. Here I'm creating a couple dictionaries to convert the characters to and from integers. Encoding the characters as integers makes it easier to use as input in the network."
   ]
  },
  {
   "cell_type": "code",
   "execution_count": 94,
   "metadata": {
    "collapsed": true
   },
   "outputs": [],
   "source": [
    "with open('corpus.txt', 'r') as f:\n",
    "    text=f.read()"
   ]
  },
  {
   "cell_type": "code",
   "execution_count": 95,
   "metadata": {
    "collapsed": true
   },
   "outputs": [],
   "source": [
    "vocab = set(tokenize_text(text,mode))\n",
    "vocab_to_int = {c: i for i, c in enumerate(vocab)}\n",
    "int_to_vocab = dict(enumerate(vocab))\n",
    "n_vocab = len(vocab)"
   ]
  },
  {
   "cell_type": "markdown",
   "metadata": {},
   "source": [
    "### Get a little portion of text for validation"
   ]
  },
  {
   "cell_type": "code",
   "execution_count": 96,
   "metadata": {
    "collapsed": true
   },
   "outputs": [],
   "source": [
    "tokenized_text = tokenize_text(text,mode)\n",
    "encoded_dataset = np.array([vocab_to_int[c] for c in tokenized_text if c in vocab_to_int], dtype=np.int32)"
   ]
  },
  {
   "cell_type": "code",
   "execution_count": 97,
   "metadata": {
    "collapsed": true
   },
   "outputs": [],
   "source": [
    "validation_size = batch_size * num_steps #create a single baty\n",
    "validation_start_index = len(encoded_dataset) - validation_size\n",
    "\n",
    "encoded = encoded_dataset[:validation_start_index]\n",
    "encoded_val = encoded_dataset[validation_start_index:]"
   ]
  },
  {
   "cell_type": "code",
   "execution_count": 98,
   "metadata": {},
   "outputs": [
    {
     "name": "stdout",
     "output_type": "stream",
     "text": [
      "ave told.\n",
      "\n",
      "And lo! I now to see truly that the Maid did move where she was laid afar off upon the Ro\n"
     ]
    }
   ],
   "source": [
    "def encoded_to_text(encoded):\n",
    "    return \"\".join([int_to_vocab[number] for number in encoded])\n",
    "\n",
    "print(encoded_to_text(encoded_val[0:100]))"
   ]
  },
  {
   "cell_type": "code",
   "execution_count": 99,
   "metadata": {
    "collapsed": true
   },
   "outputs": [],
   "source": [
    "val_text =encoded_to_text(encoded_val)\n",
    "text = encoded_to_text(encoded)"
   ]
  },
  {
   "cell_type": "markdown",
   "metadata": {},
   "source": [
    "Let's check out the first 100 characters of train and validation, make sure everything is peachy.  line of a book ever."
   ]
  },
  {
   "cell_type": "code",
   "execution_count": 100,
   "metadata": {},
   "outputs": [
    {
     "data": {
      "text/plain": [
       "'THE COLOUR OUT OF SPACE\\n\\nWest of Arkham the hills rise wild, and there are valleys with deep woods t'"
      ]
     },
     "execution_count": 100,
     "metadata": {},
     "output_type": "execute_result"
    }
   ],
   "source": [
    "text[:100]"
   ]
  },
  {
   "cell_type": "code",
   "execution_count": 101,
   "metadata": {},
   "outputs": [
    {
     "data": {
      "text/plain": [
       "'ave told.\\n\\nAnd lo! I now to see truly that the Maid did move where she was laid afar off upon the Ro'"
      ]
     },
     "execution_count": 101,
     "metadata": {},
     "output_type": "execute_result"
    }
   ],
   "source": [
    "val_text[:100]"
   ]
  },
  {
   "cell_type": "markdown",
   "metadata": {},
   "source": [
    "And we can see the characters encoded as integersin both train and validation"
   ]
  },
  {
   "cell_type": "code",
   "execution_count": 102,
   "metadata": {},
   "outputs": [
    {
     "data": {
      "text/plain": [
       "array([ 41,  38,  99, 110,  62,   4,  20,   4,  69,  92, 110,   4,  69,\n",
       "        41, 110,   4,  18, 110, 118,  70,  97,  62,  99,  13,  13,   3,\n",
       "        63, 106,  47, 110,   9, 107, 110,  97,  78, 103, 121,  65, 104,\n",
       "       110,  47, 121,  63, 110, 121, 105,  50,  50, 106, 110,  78, 105,\n",
       "       106,  63, 110,  48, 105,  50, 119,  90, 110,  65,  85, 119, 110,\n",
       "        47, 121,  63,  78,  63, 110,  65,  78,  63, 110,  19,  65,  50,\n",
       "        50,  63,  46, 106, 110,  48, 105,  47, 121, 110, 119,  63,  63,\n",
       "        23, 110,  48,   9,   9, 119, 106, 110,  47], dtype=int32)"
      ]
     },
     "execution_count": 102,
     "metadata": {},
     "output_type": "execute_result"
    }
   ],
   "source": [
    "encoded[:100]"
   ]
  },
  {
   "cell_type": "code",
   "execution_count": 103,
   "metadata": {},
   "outputs": [
    {
     "data": {
      "text/plain": [
       "array([ 65,  19,  63, 110,  47,   9,  50, 119,  77,  13,  13,  97,  85,\n",
       "       119, 110,  50,   9,  96, 110,  86, 110,  85,   9,  48, 110,  47,\n",
       "         9, 110, 106,  63,  63, 110,  47,  78,  56,  50,  46, 110,  47,\n",
       "       121,  65,  47, 110,  47, 121,  63, 110, 108,  65, 105, 119, 110,\n",
       "       119, 105, 119, 110, 104,   9,  19,  63, 110,  48, 121,  63,  78,\n",
       "        63, 110, 106, 121,  63, 110,  48,  65, 106, 110,  50,  65, 105,\n",
       "       119, 110,  65, 107,  65,  78, 110,   9, 107, 107, 110,  56,  23,\n",
       "         9,  85, 110,  47, 121,  63, 110,  92,   9], dtype=int32)"
      ]
     },
     "execution_count": 103,
     "metadata": {},
     "output_type": "execute_result"
    }
   ],
   "source": [
    "encoded_val[0:100]"
   ]
  },
  {
   "cell_type": "markdown",
   "metadata": {},
   "source": [
    "Since the network is working with individual english tokens, it's similar to a classification problem in which we are trying to predict the next character from the previous text.  Here's how many 'classes' our network has to pick from."
   ]
  },
  {
   "cell_type": "code",
   "execution_count": 104,
   "metadata": {},
   "outputs": [
    {
     "data": {
      "text/plain": [
       "123"
      ]
     },
     "execution_count": 104,
     "metadata": {},
     "output_type": "execute_result"
    }
   ],
   "source": [
    "len(vocab)"
   ]
  },
  {
   "cell_type": "markdown",
   "metadata": {},
   "source": [
    "## Making training mini-batches\n",
    "\n",
    "Here is where we'll make our mini-batches for training. Remember that we want our batches to be multiple sequences of some desired number of sequence steps. Considering a simple example, our batches would look like this:\n",
    "\n",
    "<img src=\"assets/sequence_batching@1x.png\" width=500px>\n",
    "\n",
    "\n",
    "<br>\n",
    "We have our text encoded as integers as one long array in `encoded`. Let's create a function that will give us an iterator for our batches. I like using [generator functions](https://jeffknupp.com/blog/2013/04/07/improve-your-python-yield-and-generators-explained/) to do this. Then we can pass `encoded` into this function and get our batch generator.\n",
    "\n",
    "The first thing we need to do is discard some of the text so we only have completely full batches. Each batch contains $N \\times M$ characters, where $N$ is the batch size (the number of sequences) and $M$ is the number of steps. Then, to get the number of batches we can make from some array `arr`, you divide the length of `arr` by the batch size. Once you know the number of batches and the batch size, you can get the total number of characters to keep.\n",
    "\n",
    "After that, we need to split `arr` into $N$ sequences. You can do this using `arr.reshape(size)` where `size` is a tuple containing the dimensions sizes of the reshaped array. We know we want $N$ sequences (`n_seqs` below), let's make that the size of the first dimension. For the second dimension, you can use `-1` as a placeholder in the size, it'll fill up the array with the appropriate data for you. After this, you should have an array that is $N \\times (M * K)$ where $K$ is the number of batches.\n",
    "\n",
    "Now that we have this array, we can iterate through it to get our batches. The idea is each batch is a $N \\times M$ window on the array. For each subsequent batch, the window moves over by `n_steps`. We also want to create both the input and target arrays. Remember that the targets are the inputs shifted over one character. You'll usually see the first input character used as the last target character, so something like this:\n",
    "```python\n",
    "y[:, :-1], y[:, -1] = x[:, 1:], x[:, 0]\n",
    "```\n",
    "where `x` is the input batch and `y` is the target batch.\n",
    "\n",
    "The way I like to do this window is use `range` to take steps of size `n_steps` from $0$ to `arr.shape[1]`, the total number of steps in each sequence. That way, the integers you get from `range` always point to the start of a batch, and each window is `n_steps` wide."
   ]
  },
  {
   "cell_type": "code",
   "execution_count": 105,
   "metadata": {
    "collapsed": true
   },
   "outputs": [],
   "source": [
    "def get_batches(arr, n_seqs, n_steps):\n",
    "    '''Create a generator that returns batches of size\n",
    "       n_seqs x n_steps from arr.\n",
    "       \n",
    "       Arguments\n",
    "       ---------\n",
    "       arr: Array you want to make batches from\n",
    "       n_seqs: Batch size, the number of sequences per batch\n",
    "       n_steps: Number of sequence steps per batch\n",
    "    '''\n",
    "    # Get the batch size and number of batches we can make\n",
    "    batch_size = n_seqs * n_steps \n",
    "    n_batches =  len(arr)//batch_size\n",
    "    \n",
    "    # Keep only enough characters to make full batches\n",
    "    arr =  arr[:n_batches*batch_size]\n",
    "    \n",
    "    # Reshape into n_seqs rows\n",
    "    arr = arr.reshape((n_seqs,-1))\n",
    "    \n",
    "    for n in range(0, arr.shape[1], n_steps):\n",
    "        # The features\n",
    "        x = arr[:,n:n+n_steps]\n",
    "        # The targets, shifted by one\n",
    "        y = np.zeros(x.shape)\n",
    "        y[:,:-1],y[:,-1] = x[:,1:] ,x[:,0]\n",
    "        yield x, y"
   ]
  },
  {
   "cell_type": "markdown",
   "metadata": {},
   "source": [
    "Now I'll make my data sets and we can check out what's going on here. Here I'm going to use a batch size of 10 and 50 sequence steps."
   ]
  },
  {
   "cell_type": "code",
   "execution_count": 106,
   "metadata": {
    "collapsed": true
   },
   "outputs": [],
   "source": [
    "batches = get_batches(encoded, 10, 50)\n",
    "x, y = next(batches)"
   ]
  },
  {
   "cell_type": "code",
   "execution_count": 107,
   "metadata": {},
   "outputs": [
    {
     "name": "stdout",
     "output_type": "stream",
     "text": [
      "x\n",
      " [[ 41  38  99 110  62   4  20   4  69  92]\n",
      " [ 19  65  47  63 110  65  78  22 121 105]\n",
      " [ 50  47 110  85   9 110 121  56 104  65]\n",
      " [ 65  47 110 104  46 110 107  63  63  47]\n",
      " [  9 110  65 110 106  47  65  47 105   9]\n",
      " [110 104   9  85 106  47  78   9  56 106]\n",
      " [ 85 119 110   9 107 110  22  63  78  47]\n",
      " [110  65  85 112 110  47 121  63 110 106]\n",
      " [ 50 105  47  46 110  47  56  67  67  63]\n",
      " [ 47   9 110  22  78   9 106 106 110   9]]\n",
      "\n",
      "y\n",
      " [[ 38.  99. 110.  62.   4.  20.   4.  69.  92. 110.]\n",
      " [ 65.  47.  63. 110.  65.  78.  22. 121. 105.  19.]\n",
      " [ 47. 110.  85.   9. 110. 121.  56. 104.  65.  85.]\n",
      " [ 47. 110. 104.  46. 110. 107.  63.  63.  47. 110.]\n",
      " [110.  65. 110. 106.  47.  65.  47. 105.   9.  85.]\n",
      " [104.   9.  85. 106.  47.  78.   9.  56. 106. 110.]\n",
      " [119. 110.   9. 107. 110.  22.  63.  78.  47.  65.]\n",
      " [ 65.  85. 112. 110.  47. 121.  63. 110. 106. 103.]\n",
      " [105.  47.  46. 110.  47.  56.  67.  67.  63. 119.]\n",
      " [  9. 110.  22.  78.   9. 106. 106. 110.   9.  19.]]\n"
     ]
    }
   ],
   "source": [
    "print('x\\n', x[:10, :10])\n",
    "print('\\ny\\n', y[:10, :10])"
   ]
  },
  {
   "cell_type": "markdown",
   "metadata": {},
   "source": [
    "## Building the model\n",
    "\n",
    "Below is where you'll build the network. We'll break it up into parts so it's easier to reason about each bit. Then we can connect them up into the whole network.\n",
    "\n",
    "<img src=\"assets/charRNN.png\" width=500px>\n",
    "\n",
    "\n",
    "### Inputs\n",
    "\n",
    "First off we'll create our input placeholders. As usual we need placeholders for the training data and the targets. We'll also create a placeholder for dropout layers called `keep_prob`. This will be a scalar, that is a 0-D tensor. To make a scalar, you create a placeholder without giving it a size."
   ]
  },
  {
   "cell_type": "code",
   "execution_count": 108,
   "metadata": {
    "collapsed": true
   },
   "outputs": [],
   "source": [
    "def build_inputs(batch_size, num_steps):\n",
    "    ''' Define placeholders for inputs, targets, and dropout \n",
    "    \n",
    "        Arguments\n",
    "        ---------\n",
    "        batch_size: Batch size, number of sequences per batch\n",
    "        num_steps: Number of sequence steps in a batch\n",
    "        \n",
    "    '''\n",
    "    # Declare placeholders we'll feed into the graph\n",
    "    inputs = tf.placeholder(tf.int32,[batch_size,num_steps],name=\"inputs\")\n",
    "    targets = tf.placeholder(tf.int32,[batch_size,num_steps],name=\"targets\")\n",
    "    \n",
    "    # Keep probability placeholder for drop out layers\n",
    "    keep_prob = tf.placeholder(tf.float32,name=\"keep_prob\")\n",
    "    \n",
    "    return inputs, targets, keep_prob"
   ]
  },
  {
   "cell_type": "markdown",
   "metadata": {},
   "source": [
    "### LSTM Cell\n",
    "\n",
    "Here we will create the LSTM cell we'll use in the hidden layer. We'll use this cell as a building block for the RNN. So we aren't actually defining the RNN here, just the type of cell we'll use in the hidden layer.\n",
    "\n",
    "We first create a basic LSTM cell with\n",
    "\n",
    "```python\n",
    "lstm = tf.contrib.rnn.BasicLSTMCell(num_units)\n",
    "```\n",
    "\n",
    "where `num_units` is the number of units in the hidden layers in the cell. Then we can add dropout by wrapping it with \n",
    "\n",
    "```python\n",
    "tf.contrib.rnn.DropoutWrapper(lstm, output_keep_prob=keep_prob)\n",
    "```\n",
    "You pass in a cell and it will automatically add dropout to the inputs or outputs. Finally, we can stack up the LSTM cells into layers with [`tf.contrib.rnn.MultiRNNCell`](https://www.tensorflow.org/versions/r1.0/api_docs/python/tf/contrib/rnn/MultiRNNCell). With this, you pass in a list of cells and it will send the output of one cell into the next cell. For example,\n",
    "\n",
    "```python\n",
    "tf.contrib.rnn.MultiRNNCell([cell]*num_layers)\n",
    "```\n",
    "\n",
    "This might look a little weird if you know Python well because this will create a list of the same `cell` object. However, TensorFlow will create different weight matrices for all `cell` objects. Even though this is actually multiple LSTM cells stacked on each other, you can treat the multiple layers as one cell.\n",
    "\n",
    "We also need to create an initial cell state of all zeros. This can be done like so\n",
    "\n",
    "```python\n",
    "initial_state = cell.zero_state(batch_size, tf.float32)\n",
    "```\n"
   ]
  },
  {
   "cell_type": "code",
   "execution_count": 109,
   "metadata": {
    "collapsed": true
   },
   "outputs": [],
   "source": [
    "def build_lstm(lstm_size, num_layers, batch_size, keep_prob):\n",
    "    ''' Build LSTM cell.\n",
    "    \n",
    "        Arguments\n",
    "        ---------\n",
    "        keep_prob: Scalar tensor (tf.placeholder) for the dropout keep probability\n",
    "        lstm_size: Size of the hidden layers in the LSTM cells\n",
    "        num_layers: Number of LSTM layers\n",
    "        batch_size: Batch size\n",
    "\n",
    "    '''\n",
    "    ### Build the LSTM Cell\n",
    "    # Use a basic LSTM cell\n",
    "    # Add dropout to the cell outputs\n",
    "    # Stack up multiple LSTM layers, for deep learning\n",
    "    cell = tf.contrib.rnn.MultiRNNCell([tf.contrib.rnn.DropoutWrapper( tf.contrib.rnn.BasicLSTMCell(lstm_size),output_keep_prob = keep_prob) for _ in range(num_layers)])\n",
    "    initial_state = cell.zero_state(batch_size,tf.float32)\n",
    "    \n",
    "    return cell, initial_state"
   ]
  },
  {
   "cell_type": "markdown",
   "metadata": {},
   "source": [
    "### RNN Output\n",
    "\n",
    "Here we'll create the output layer. We need to connect the output of the RNN cells to a full connected layer with a softmax output. The softmax output gives us a probability distribution we can use to predict the next character, so we want this layer to have size $C$, the number of classes/characters we have in our text.\n",
    "\n",
    "If our input has batch size $N$, number of steps $M$, and the hidden layer has $L$ hidden units, then the output is a 3D tensor with size $N \\times M \\times L$. The output of each LSTM cell has size $L$, we have $M$ of them, one for each sequence step, and we have $N$ sequences. So the total size is $N \\times M \\times L$. \n",
    "\n",
    "We are using the same fully connected layer, the same weights, for each of the outputs. Then, to make things easier, we should reshape the outputs into a 2D tensor with shape $(M * N) \\times L$. That is, one row for each sequence and step, where the values of each row are the output from the LSTM cells. We get the LSTM output as a list, `lstm_output`. First we need to concatenate this whole list into one array with [`tf.concat`](https://www.tensorflow.org/api_docs/python/tf/concat). Then, reshape it (with `tf.reshape`) to size $(M * N) \\times L$.\n",
    "\n",
    "One we have the outputs reshaped, we can do the matrix multiplication with the weights. We need to wrap the weight and bias variables in a variable scope with `tf.variable_scope(scope_name)` because there are weights being created in the LSTM cells. TensorFlow will throw an error if the weights created here have the same names as the weights created in the LSTM cells, which they will be default. To avoid this, we wrap the variables in a variable scope so we can give them unique names.\n"
   ]
  },
  {
   "cell_type": "code",
   "execution_count": 110,
   "metadata": {
    "collapsed": true
   },
   "outputs": [],
   "source": [
    "def build_output(lstm_output, in_size, out_size):\n",
    "    ''' Build a softmax layer, return the softmax output and logits.\n",
    "    \n",
    "        Arguments\n",
    "        ---------\n",
    "        \n",
    "        lstm_output: List of output tensors from the LSTM layer\n",
    "        in_size: Size of the input tensor, for example, size of the LSTM cells\n",
    "        out_size: Size of this softmax layer\n",
    "    \n",
    "    '''\n",
    "    print(lstm_output)\n",
    "    # Reshape output so it's a bunch of rows, one row for each step for each sequence.\n",
    "    # Concatenate lstm_output over axis 1 (the columns)\n",
    "    seq_output = tf.concat(lstm_output,axis=1)\n",
    "    # Reshape seq_output to a 2D tensor with lstm_size columns\n",
    "    x = tf.reshape(seq_output,[-1,in_size])\n",
    "    # Connect the RNN outputs to a softmax layer\n",
    "    with tf.variable_scope('softmax'):\n",
    "        # Create the weight and bias variables here\n",
    "        softmax_w = tf.Variable(tf.truncated_normal((in_size, out_size),stddev=0.1))\n",
    "        softmax_b = tf.Variable(tf.zeros([out_size]))\n",
    "    \n",
    "    # Since output is a bunch of rows of RNN cell outputs, logits will be a bunch\n",
    "    # of rows of logit outputs, one for each step and sequence\n",
    "    logits =  tf.add(tf.matmul(x,softmax_w),softmax_b) \n",
    "    \n",
    "    # Use softmax to get the probabilities for predicted characters\n",
    "    out = tf.nn.softmax(logits,name =\"out\")\n",
    "    \n",
    "    return out, logits,softmax_w,softmax_b,x"
   ]
  },
  {
   "cell_type": "markdown",
   "metadata": {},
   "source": [
    "### Training loss\n",
    "\n",
    "Next up is the training loss. We get the logits and targets and calculate the softmax cross-entropy loss. First we need to one-hot encode the targets, we're getting them as encoded characters. Then, reshape the one-hot targets so it's a 2D tensor with size $(M*N) \\times C$ where $C$ is the number of classes/characters we have. Remember that we reshaped the LSTM outputs and ran them through a fully connected layer with $C$ units. So our logits will also have size $(M*N) \\times C$.\n",
    "\n",
    "Then we run the logits and targets through `tf.nn.softmax_cross_entropy_with_logits` and find the mean to get the loss."
   ]
  },
  {
   "cell_type": "code",
   "execution_count": 111,
   "metadata": {
    "collapsed": true
   },
   "outputs": [],
   "source": [
    "def build_loss(lstm_output,logits, targets, lstm_size, num_classes,softmax_w,softmax_b):\n",
    "    ''' Calculate the loss from the logits and the targets.\n",
    "    \n",
    "        Arguments\n",
    "        ---------\n",
    "        logits: Logits from final fully connected layer\n",
    "        targets: Targets for supervised learning\n",
    "        lstm_size: Number of LSTM hidden units\n",
    "        num_classes: Number of classes in targets\n",
    "        \n",
    "    '''\n",
    "    # One-hot encode targets and reshape to match logits, one row per sequence per step\n",
    "    y_one_hot = tf.one_hot(targets,num_classes)\n",
    "    y_reshaped =  tf.reshape(y_one_hot,logits.get_shape())\n",
    "    \n",
    "    \n",
    "    # Softmax cross entropy loss\n",
    "    if mode == \"characters\":\n",
    "        loss = tf.reduce_mean(tf.nn.softmax_cross_entropy_with_logits(logits=logits,labels=y_reshaped))\n",
    "    elif mode == \"words\":\n",
    "        loss = tf.reduce_mean(tf.nn.sampled_softmax_loss(tf.transpose(softmax_w),softmax_b,tf.reshape(tf.argmax( y_reshaped,axis = 1),shape=(y_reshaped.get_shape()[0],1)),tf.concat(lstm_output,axis=1),negative_sampled,len(vocab)))\n",
    "    \n",
    "    return loss"
   ]
  },
  {
   "cell_type": "markdown",
   "metadata": {},
   "source": [
    "### Optimizer\n",
    "\n",
    "Here we build the optimizer. Normal RNNs have have issues gradients exploding and disappearing. LSTMs fix the disappearance problem, but the gradients can still grow without bound. To fix this, we can clip the gradients above some threshold. That is, if a gradient is larger than that threshold, we set it to the threshold. This will ensure the gradients never grow overly large. Then we use an AdamOptimizer for the learning step."
   ]
  },
  {
   "cell_type": "code",
   "execution_count": 112,
   "metadata": {
    "collapsed": true
   },
   "outputs": [],
   "source": [
    "def build_optimizer(loss, learning_rate, grad_clip,global_step):\n",
    "    ''' Build optmizer for training, using gradient clipping.\n",
    "    \n",
    "        Arguments:\n",
    "        loss: Network loss\n",
    "        learning_rate: Learning rate for optimizer\n",
    "        global_step: to control the total number of train steps\n",
    "    \n",
    "    '''\n",
    "    \n",
    "    # Optimizer for training, using gradient clipping to control exploding gradients\n",
    "    tvars = tf.trainable_variables()\n",
    "    grads, _ = tf.clip_by_global_norm(tf.gradients(loss, tvars), grad_clip)\n",
    "    train_op = tf.train.AdamOptimizer(learning_rate)\n",
    "    optimizer = train_op.apply_gradients(zip(grads, tvars),global_step)\n",
    "    \n",
    "    return optimizer"
   ]
  },
  {
   "cell_type": "markdown",
   "metadata": {},
   "source": [
    "### Build the network\n",
    "\n",
    "Now we can put all the pieces together and build a class for the network. To actually run data through the LSTM cells, we will use [`tf.nn.dynamic_rnn`](https://www.tensorflow.org/versions/r1.0/api_docs/python/tf/nn/dynamic_rnn). This function will pass the hidden and cell states across LSTM cells appropriately for us. It returns the outputs for each LSTM cell at each step for each sequence in the mini-batch. It also gives us the final LSTM state. We want to save this state as `final_state` so we can pass it to the first LSTM cell in the the next mini-batch run. For `tf.nn.dynamic_rnn`, we pass in the cell and initial state we get from `build_lstm`, as well as our input sequences. Also, we need to one-hot encode the inputs before going into the RNN. \n"
   ]
  },
  {
   "cell_type": "code",
   "execution_count": 113,
   "metadata": {
    "collapsed": true
   },
   "outputs": [],
   "source": [
    "class CharRNN:\n",
    "    \n",
    "    def __init__(self, num_classes, batch_size=64, num_steps=50, \n",
    "                       lstm_size=128, num_layers=2, learning_rate=0.001, \n",
    "                       grad_clip=5, sampling=False,device = \"/device:GPU:0\"):\n",
    "    \n",
    "        # When we're using this network for sampling later, we'll be passing in\n",
    "        # one character at a time, so providing an option for that\n",
    "        if sampling == True:\n",
    "            batch_size, num_steps = 1, 1\n",
    "        else:\n",
    "            batch_size, num_steps = batch_size, num_steps\n",
    "\n",
    "        tf.reset_default_graph()\n",
    "        \n",
    "        with tf.device(device):\n",
    "            self.global_step_tensor = tf.Variable(0,trainable=False,name = \"global_step\")\n",
    "            # Build the input placeholder tensors\n",
    "            self.inputs, self.targets, self.keep_prob = build_inputs(batch_size,num_steps)\n",
    "            # Build the LSTM cell\n",
    "            cell, self.initial_state = build_lstm(lstm_size,num_layers,batch_size,self.keep_prob)\n",
    "            ### Run the data through the RNN layers\n",
    "            # First, one-hot encode the input tokens\n",
    "            x_one_hot = tf.one_hot(self.inputs,num_classes)\n",
    "\n",
    "            self.grad_clip  = grad_clip\n",
    "            # Run each sequence step through the RNN with tf.nn.dynamic_rnn \n",
    "            outputs, state = tf.nn.dynamic_rnn(cell,x_one_hot,initial_state=self.initial_state)\n",
    "            self.final_state = state\n",
    "\n",
    "            # Get softmax predictions and logits\n",
    "            self.prediction, self.logits ,self.softmax_w,self.softmax_b,self.lstm_output_reshaped  = build_output(outputs,lstm_size,num_classes)\n",
    "\n",
    "            # Loss and optimizer (with gradient clipping)\n",
    "            self.loss =  build_loss(self.lstm_output_reshaped ,self.logits,self.targets,lstm_size,num_classes,self.softmax_w,self.softmax_b)\n",
    "            self.optimizer = build_optimizer(self.loss,learning_rate,grad_clip,self.global_step_tensor)"
   ]
  },
  {
   "cell_type": "markdown",
   "metadata": {},
   "source": [
    "## Hyperparameters\n",
    "\n",
    "Here are the hyperparameters for the network.\n",
    "\n",
    "* `batch_size` - Number of sequences running through the network in one pass.\n",
    "* `num_steps` - Number of characters in the sequence the network is trained on. Larger is better typically, the network will learn more long range dependencies. But it takes longer to train. 100 is typically a good number here.\n",
    "* `lstm_size` - The number of units in the hidden layers.\n",
    "* `num_layers` - Number of hidden LSTM layers to use\n",
    "* `learning_rate` - Learning rate for training\n",
    "* `keep_prob` - The dropout keep probability when training. If you're network is overfitting, try decreasing this.\n",
    "\n",
    "Here's some good advice from Andrej Karpathy on training the network:. \n",
    "\n",
    "> ## Tips and Tricks\n",
    "\n",
    ">### Monitoring Validation Loss vs. Training Loss\n",
    ">If you're somewhat new to Machine Learning or Neural Networks it can take a bit of expertise to get good models. The most important quantity to keep track of is the difference between your training loss (printed during training) and the validation loss (printed once in a while when the RNN is run on the validation data (by default every 1000 iterations)). In particular:\n",
    "\n",
    "> - If your training loss is much lower than validation loss then this means the network might be **overfitting**. Solutions to this are to decrease your network size, or to increase dropout. For example you could try dropout of 0.5 and so on.\n",
    "> - If your training/validation loss are about equal then your model is **underfitting**. Increase the size of your model (either number of layers or the raw number of neurons per layer)\n",
    "\n",
    "> ### Approximate number of parameters\n",
    "\n",
    "> The two most important parameters that control the model are `lstm_size` and `num_layers`. I would advise that you always use `num_layers` of either 2/3. The `lstm_size` can be adjusted based on how much data you have. The two important quantities to keep track of here are:\n",
    "\n",
    "> - The number of parameters in your model. This is printed when you start training.\n",
    "> - The size of your dataset. 1MB file is approximately 1 million characters.\n",
    "\n",
    ">These two should be about the same order of magnitude. It's a little tricky to tell. Here are some examples:\n",
    "\n",
    "> - I have a 100MB dataset and I'm using the default parameter settings (which currently print 150K parameters). My data size is significantly larger (100 mil >> 0.15 mil), so I expect to heavily underfit. I am thinking I can comfortably afford to make `lstm_size` larger.\n",
    "> - I have a 10MB dataset and running a 10 million parameter model. I'm slightly nervous and I'm carefully monitoring my validation loss. If it's larger than my training loss then I may want to try to increase dropout a bit and see if that helps the validation loss.\n",
    "\n",
    "> ### Best models strategy\n",
    "\n",
    ">The winning strategy to obtaining very good models (if you have the compute time) is to always err on making the network larger (as large as you're willing to wait for it to compute) and then try different dropout values (between 0,1). Whatever model has the best validation performance (the loss, written in the checkpoint filename, low is good) is the one you should use in the end.\n",
    "\n",
    ">It is very common in deep learning to run many different models with many different hyperparameter settings, and in the end take whatever checkpoint gave the best validation performance.\n",
    "\n",
    ">By the way, the size of your training and validation splits are also parameters. Make sure you have a decent amount of data in your validation set or otherwise the validation performance will be noisy and not very informative."
   ]
  },
  {
   "cell_type": "code",
   "execution_count": 114,
   "metadata": {
    "collapsed": true
   },
   "outputs": [],
   "source": [
    "def get_number_of_parameters():\n",
    "    total_parameters = 0\n",
    "    for variable in tf.trainable_variables():\n",
    "        shape = variable.get_shape()\n",
    "        #print(shape)\n",
    "        #print(len(shape))\n",
    "        variable_parameters = 1\n",
    "        \n",
    "        for dim in shape:\n",
    "            #print(dim)\n",
    "            variable_parameters*=dim.value\n",
    "        #print(variable_parameters)\n",
    "        total_parameters+= variable_parameters\n",
    "    return total_parameters"
   ]
  },
  {
   "cell_type": "code",
   "execution_count": 115,
   "metadata": {
    "collapsed": true
   },
   "outputs": [],
   "source": [
    "def pick_top_n(preds, vocab_size, top_n=5):\n",
    "    p = np.squeeze(preds)\n",
    "    p[np.argsort(p)[:-top_n]] = 0\n",
    "    p = p / np.sum(p)\n",
    "    c = np.random.choice(vocab_size, 1, p=p)[0]\n",
    "    return c"
   ]
  },
  {
   "cell_type": "markdown",
   "metadata": {},
   "source": [
    "## Time for training\n",
    "\n",
    "This is typical training code, passing inputs and targets into the network, then running the optimizer. Here we also get back the final LSTM state for the mini-batch. Then, we pass that state back into the network so the next batch can continue the state from the previous batch. And every so often (set by `save_every_n`) I save a checkpoint.\n",
    "\n",
    "Here I'm saving checkpoints with the format\n",
    "\n",
    "`i{iteration number}_l{# hidden layer units}.ckpt`\n"
   ]
  },
  {
   "cell_type": "code",
   "execution_count": 116,
   "metadata": {
    "collapsed": true
   },
   "outputs": [],
   "source": [
    "losses = {\"train\":[],\"validation\":[]}\n",
    "x_steps = list()"
   ]
  },
  {
   "cell_type": "code",
   "execution_count": 117,
   "metadata": {
    "scrolled": true
   },
   "outputs": [
    {
     "name": "stdout",
     "output_type": "stream",
     "text": [
      "Tensor(\"rnn/transpose_1:0\", shape=(128, 100, 512), dtype=float32, device=/device:GPU:0)\n",
      "Training starting at time: 2018-10-27 00:21:05\n",
      "Number of parameters: 3464827 Dataset size: 5935790\n",
      "INFO:tensorflow:Restoring parameters from checkpoints/mcharacters_i17594_l512.ckpt\n",
      "Epoch: 1/5...  Training Step: 17595...  Training loss: 1.1070...  Val loss: 1.3012...  0.1706 sec/batch\n",
      "Epoch: 1/5...  Training Step: 17610...  Training loss: 1.1701...  Val loss: 1.3619...  0.0831 sec/batch\n",
      "Epoch: 1/5...  Training Step: 17625...  Training loss: 1.1809...  Val loss: 1.3669...  0.0839 sec/batch\n",
      "Epoch: 1/5...  Training Step: 17640...  Training loss: 1.1328...  Val loss: 1.3601...  0.0828 sec/batch\n",
      "Epoch: 1/5...  Training Step: 17655...  Training loss: 1.1429...  Val loss: 1.3592...  0.0842 sec/batch\n",
      "Epoch: 1/5...  Training Step: 17670...  Training loss: 1.1456...  Val loss: 1.3592...  0.0850 sec/batch\n",
      "Epoch: 1/5...  Training Step: 17685...  Training loss: 1.1640...  Val loss: 1.3582...  0.0866 sec/batch\n",
      "Epoch: 1/5...  Training Step: 17700...  Training loss: 1.1705...  Val loss: 1.3561...  0.1256 sec/batch\n",
      "Epoch: 1/5...  Training Step: 17715...  Training loss: 1.1800...  Val loss: 1.3566...  0.0820 sec/batch\n",
      "Epoch: 1/5...  Training Step: 17730...  Training loss: 1.1611...  Val loss: 1.3527...  0.0824 sec/batch\n",
      "Epoch: 1/5...  Training Step: 17745...  Training loss: 1.1547...  Val loss: 1.3529...  0.0834 sec/batch\n",
      "Epoch: 1/5...  Training Step: 17760...  Training loss: 1.1318...  Val loss: 1.3534...  0.0836 sec/batch\n",
      "Epoch: 1/5...  Training Step: 17775...  Training loss: 1.1371...  Val loss: 1.3607...  0.0821 sec/batch\n",
      "Epoch: 1/5...  Training Step: 17790...  Training loss: 1.1477...  Val loss: 1.3572...  0.0837 sec/batch\n",
      "Epoch: 1/5...  Training Step: 17805...  Training loss: 1.1439...  Val loss: 1.3614...  0.0837 sec/batch\n",
      "Epoch: 1/5...  Training Step: 17820...  Training loss: 1.1512...  Val loss: 1.3620...  0.0821 sec/batch\n",
      "Epoch: 1/5...  Training Step: 17835...  Training loss: 1.1535...  Val loss: 1.3562...  0.0824 sec/batch\n",
      "Epoch: 1/5...  Training Step: 17850...  Training loss: 1.1399...  Val loss: 1.3621...  0.0850 sec/batch\n",
      "Epoch: 1/5...  Training Step: 17865...  Training loss: 1.1597...  Val loss: 1.3649...  0.0841 sec/batch\n",
      "Epoch: 1/5...  Training Step: 17880...  Training loss: 1.1625...  Val loss: 1.3640...  0.1161 sec/batch\n",
      "Epoch: 1/5...  Training Step: 17895...  Training loss: 1.1579...  Val loss: 1.3650...  0.0917 sec/batch\n",
      "Epoch: 1/5...  Training Step: 17910...  Training loss: 1.1387...  Val loss: 1.3663...  0.0829 sec/batch\n",
      "Epoch: 1/5...  Training Step: 17925...  Training loss: 1.1409...  Val loss: 1.3579...  0.0860 sec/batch\n",
      "Epoch: 1/5...  Training Step: 17940...  Training loss: 1.1280...  Val loss: 1.3643...  0.0852 sec/batch\n",
      "Epoch: 1/5...  Training Step: 17955...  Training loss: 1.1448...  Val loss: 1.3601...  0.0854 sec/batch\n",
      "Epoch: 1/5...  Training Step: 17970...  Training loss: 1.1402...  Val loss: 1.3592...  0.0882 sec/batch\n",
      "Epoch: 1/5...  Training Step: 17985...  Training loss: 1.1450...  Val loss: 1.3667...  0.1019 sec/batch\n",
      "Epoch: 1/5...  Training Step: 18000...  Training loss: 1.1280...  Val loss: 1.3578...  0.0839 sec/batch\n",
      "Epoch: 1/5...  Training Step: 18015...  Training loss: 1.1322...  Val loss: 1.3613...  0.0831 sec/batch\n",
      "Epoch: 1/5...  Training Step: 18030...  Training loss: 1.1437...  Val loss: 1.3577...  0.0830 sec/batch\n",
      "Epoch: 1/5...  Training Step: 18045...  Training loss: 1.1109...  Val loss: 1.3616...  0.0814 sec/batch\n",
      "Epoch 1/5 time:43.05402183532715...  finished at 2018-10-27 00:21:48\n",
      "Epoch: 2/5...  Training Step: 18060...  Training loss: 1.1524...  Val loss: 1.3326...  0.0848 sec/batch\n",
      "Epoch: 2/5...  Training Step: 18075...  Training loss: 1.1564...  Val loss: 1.3626...  0.0834 sec/batch\n",
      "Epoch: 2/5...  Training Step: 18090...  Training loss: 1.1390...  Val loss: 1.3630...  0.0899 sec/batch\n",
      "Epoch: 2/5...  Training Step: 18105...  Training loss: 1.1616...  Val loss: 1.3619...  0.0989 sec/batch\n",
      "Epoch: 2/5...  Training Step: 18120...  Training loss: 1.1583...  Val loss: 1.3675...  0.1026 sec/batch\n",
      "Epoch: 2/5...  Training Step: 18135...  Training loss: 1.1449...  Val loss: 1.3568...  0.0910 sec/batch\n",
      "Epoch: 2/5...  Training Step: 18150...  Training loss: 1.1446...  Val loss: 1.3600...  0.0836 sec/batch\n",
      "Epoch: 2/5...  Training Step: 18165...  Training loss: 1.1678...  Val loss: 1.3600...  0.0890 sec/batch\n",
      "Epoch: 2/5...  Training Step: 18180...  Training loss: 1.1555...  Val loss: 1.3564...  0.0946 sec/batch\n",
      "Epoch: 2/5...  Training Step: 18195...  Training loss: 1.1747...  Val loss: 1.3560...  0.0829 sec/batch\n",
      "Epoch: 2/5...  Training Step: 18210...  Training loss: 1.1592...  Val loss: 1.3558...  0.0830 sec/batch\n",
      "Epoch: 2/5...  Training Step: 18225...  Training loss: 1.1317...  Val loss: 1.3533...  0.0838 sec/batch\n",
      "Epoch: 2/5...  Training Step: 18240...  Training loss: 1.1518...  Val loss: 1.3537...  0.0832 sec/batch\n",
      "Epoch: 2/5...  Training Step: 18255...  Training loss: 1.1657...  Val loss: 1.3641...  0.0870 sec/batch\n",
      "Epoch: 2/5...  Training Step: 18270...  Training loss: 1.1470...  Val loss: 1.3538...  0.0983 sec/batch\n",
      "Epoch: 2/5...  Training Step: 18285...  Training loss: 1.1531...  Val loss: 1.3581...  0.0844 sec/batch\n",
      "Epoch: 2/5...  Training Step: 18300...  Training loss: 1.1426...  Val loss: 1.3646...  0.0923 sec/batch\n",
      "Epoch: 2/5...  Training Step: 18315...  Training loss: 1.1528...  Val loss: 1.3624...  0.0917 sec/batch\n",
      "Epoch: 2/5...  Training Step: 18330...  Training loss: 1.1437...  Val loss: 1.3573...  0.0833 sec/batch\n",
      "Epoch: 2/5...  Training Step: 18345...  Training loss: 1.1485...  Val loss: 1.3600...  0.0829 sec/batch\n",
      "Epoch: 2/5...  Training Step: 18360...  Training loss: 1.1268...  Val loss: 1.3571...  0.0993 sec/batch\n",
      "Epoch: 2/5...  Training Step: 18375...  Training loss: 1.1266...  Val loss: 1.3596...  0.0841 sec/batch\n",
      "Epoch: 2/5...  Training Step: 18390...  Training loss: 1.1457...  Val loss: 1.3575...  0.1010 sec/batch\n",
      "Epoch: 2/5...  Training Step: 18405...  Training loss: 1.1321...  Val loss: 1.3595...  0.0848 sec/batch\n",
      "Epoch: 2/5...  Training Step: 18420...  Training loss: 1.1390...  Val loss: 1.3626...  0.0841 sec/batch\n",
      "Epoch: 2/5...  Training Step: 18435...  Training loss: 1.1544...  Val loss: 1.3631...  0.0881 sec/batch\n",
      "Epoch: 2/5...  Training Step: 18450...  Training loss: 1.1507...  Val loss: 1.3591...  0.0878 sec/batch\n",
      "Epoch: 2/5...  Training Step: 18465...  Training loss: 1.1223...  Val loss: 1.3631...  0.0857 sec/batch\n",
      "Epoch: 2/5...  Training Step: 18480...  Training loss: 1.1454...  Val loss: 1.3671...  0.1197 sec/batch\n",
      "Epoch: 2/5...  Training Step: 18495...  Training loss: 1.1262...  Val loss: 1.3563...  0.0856 sec/batch\n",
      "Epoch: 2/5...  Training Step: 18510...  Training loss: 1.1430...  Val loss: 1.3596...  0.0865 sec/batch\n",
      "Epoch 2/5 time:43.693000078201294...  finished at 2018-10-27 00:22:32\n",
      "Epoch: 3/5...  Training Step: 18525...  Training loss: 1.1513...  Val loss: 1.3482...  0.0859 sec/batch\n",
      "Epoch: 3/5...  Training Step: 18540...  Training loss: 1.1521...  Val loss: 1.3661...  0.0857 sec/batch\n",
      "Epoch: 3/5...  Training Step: 18555...  Training loss: 1.1738...  Val loss: 1.3628...  0.0845 sec/batch\n",
      "Epoch: 3/5...  Training Step: 18570...  Training loss: 1.1372...  Val loss: 1.3632...  0.1060 sec/batch\n",
      "Epoch: 3/5...  Training Step: 18585...  Training loss: 1.1773...  Val loss: 1.3627...  0.0865 sec/batch\n",
      "Epoch: 3/5...  Training Step: 18600...  Training loss: 1.1384...  Val loss: 1.3636...  0.0858 sec/batch\n",
      "Epoch: 3/5...  Training Step: 18615...  Training loss: 1.1284...  Val loss: 1.3572...  0.0859 sec/batch\n",
      "Epoch: 3/5...  Training Step: 18630...  Training loss: 1.1618...  Val loss: 1.3547...  0.0864 sec/batch\n",
      "Epoch: 3/5...  Training Step: 18645...  Training loss: 1.1533...  Val loss: 1.3506...  0.0861 sec/batch\n",
      "Epoch: 3/5...  Training Step: 18660...  Training loss: 1.1446...  Val loss: 1.3557...  0.0891 sec/batch\n",
      "Epoch: 3/5...  Training Step: 18675...  Training loss: 1.1627...  Val loss: 1.3527...  0.0896 sec/batch\n",
      "Epoch: 3/5...  Training Step: 18690...  Training loss: 1.1506...  Val loss: 1.3563...  0.1009 sec/batch\n",
      "Epoch: 3/5...  Training Step: 18705...  Training loss: 1.1455...  Val loss: 1.3595...  0.0912 sec/batch\n"
     ]
    },
    {
     "name": "stdout",
     "output_type": "stream",
     "text": [
      "Epoch: 3/5...  Training Step: 18720...  Training loss: 1.1570...  Val loss: 1.3536...  0.0881 sec/batch\n",
      "Epoch: 3/5...  Training Step: 18735...  Training loss: 1.1645...  Val loss: 1.3616...  0.0855 sec/batch\n",
      "Epoch: 3/5...  Training Step: 18750...  Training loss: 1.1496...  Val loss: 1.3602...  0.0861 sec/batch\n",
      "Epoch: 3/5...  Training Step: 18765...  Training loss: 1.1387...  Val loss: 1.3615...  0.0903 sec/batch\n",
      "Epoch: 3/5...  Training Step: 18780...  Training loss: 1.1640...  Val loss: 1.3635...  0.0835 sec/batch\n",
      "Epoch: 3/5...  Training Step: 18795...  Training loss: 1.1620...  Val loss: 1.3561...  0.1017 sec/batch\n",
      "Epoch: 3/5...  Training Step: 18810...  Training loss: 1.1502...  Val loss: 1.3620...  0.0834 sec/batch\n",
      "Epoch: 3/5...  Training Step: 18825...  Training loss: 1.1554...  Val loss: 1.3639...  0.0851 sec/batch\n",
      "Epoch: 3/5...  Training Step: 18840...  Training loss: 1.1462...  Val loss: 1.3632...  0.0835 sec/batch\n",
      "Epoch: 3/5...  Training Step: 18855...  Training loss: 1.1352...  Val loss: 1.3634...  0.0841 sec/batch\n",
      "Epoch: 3/5...  Training Step: 18870...  Training loss: 1.1612...  Val loss: 1.3629...  0.0879 sec/batch\n",
      "Epoch: 3/5...  Training Step: 18885...  Training loss: 1.1401...  Val loss: 1.3639...  0.0840 sec/batch\n",
      "Epoch: 3/5...  Training Step: 18900...  Training loss: 1.1405...  Val loss: 1.3546...  0.0836 sec/batch\n",
      "Epoch: 3/5...  Training Step: 18915...  Training loss: 1.1384...  Val loss: 1.3684...  0.0851 sec/batch\n",
      "Epoch: 3/5...  Training Step: 18930...  Training loss: 1.1226...  Val loss: 1.3616...  0.0913 sec/batch\n",
      "Epoch: 3/5...  Training Step: 18945...  Training loss: 1.1429...  Val loss: 1.3635...  0.0879 sec/batch\n",
      "Epoch: 3/5...  Training Step: 18960...  Training loss: 1.1466...  Val loss: 1.3694...  0.0903 sec/batch\n",
      "Epoch: 3/5...  Training Step: 18975...  Training loss: 1.1394...  Val loss: 1.3630...  0.0888 sec/batch\n",
      "Epoch 3/5 time:45.35101246833801...  finished at 2018-10-27 00:23:18\n",
      "Epoch: 4/5...  Training Step: 18990...  Training loss: 1.1346...  Val loss: 1.3604...  0.0861 sec/batch\n",
      "Epoch: 4/5...  Training Step: 19005...  Training loss: 1.1460...  Val loss: 1.3643...  0.0913 sec/batch\n",
      "Epoch: 4/5...  Training Step: 19020...  Training loss: 1.1436...  Val loss: 1.3674...  0.0902 sec/batch\n",
      "Epoch: 4/5...  Training Step: 19035...  Training loss: 1.1454...  Val loss: 1.3563...  0.0903 sec/batch\n",
      "Epoch: 4/5...  Training Step: 19050...  Training loss: 1.1443...  Val loss: 1.3629...  0.0911 sec/batch\n",
      "Epoch: 4/5...  Training Step: 19065...  Training loss: 1.1441...  Val loss: 1.3557...  0.0837 sec/batch\n",
      "Epoch: 4/5...  Training Step: 19080...  Training loss: 1.1584...  Val loss: 1.3632...  0.0901 sec/batch\n",
      "Epoch: 4/5...  Training Step: 19095...  Training loss: 1.1672...  Val loss: 1.3492...  0.0849 sec/batch\n",
      "Epoch: 4/5...  Training Step: 19110...  Training loss: 1.1421...  Val loss: 1.3581...  0.0897 sec/batch\n",
      "Epoch: 4/5...  Training Step: 19125...  Training loss: 1.1536...  Val loss: 1.3516...  0.0890 sec/batch\n",
      "Epoch: 4/5...  Training Step: 19140...  Training loss: 1.1319...  Val loss: 1.3611...  0.0856 sec/batch\n",
      "Epoch: 4/5...  Training Step: 19155...  Training loss: 1.1590...  Val loss: 1.3598...  0.0887 sec/batch\n",
      "Epoch: 4/5...  Training Step: 19170...  Training loss: 1.1389...  Val loss: 1.3628...  0.0880 sec/batch\n",
      "Epoch: 4/5...  Training Step: 19185...  Training loss: 1.1380...  Val loss: 1.3519...  0.0851 sec/batch\n",
      "Epoch: 4/5...  Training Step: 19200...  Training loss: 1.1272...  Val loss: 1.3577...  0.0847 sec/batch\n",
      "Epoch: 4/5...  Training Step: 19215...  Training loss: 1.1452...  Val loss: 1.3606...  0.0877 sec/batch\n",
      "Epoch: 4/5...  Training Step: 19230...  Training loss: 1.1645...  Val loss: 1.3678...  0.0844 sec/batch\n",
      "Epoch: 4/5...  Training Step: 19245...  Training loss: 1.1361...  Val loss: 1.3588...  0.0862 sec/batch\n",
      "Epoch: 4/5...  Training Step: 19260...  Training loss: 1.1429...  Val loss: 1.3588...  0.0899 sec/batch\n",
      "Epoch: 4/5...  Training Step: 19275...  Training loss: 1.1266...  Val loss: 1.3624...  0.0862 sec/batch\n",
      "Epoch: 4/5...  Training Step: 19290...  Training loss: 1.1533...  Val loss: 1.3641...  0.0883 sec/batch\n",
      "Epoch: 4/5...  Training Step: 19305...  Training loss: 1.1450...  Val loss: 1.3654...  0.0852 sec/batch\n",
      "Epoch: 4/5...  Training Step: 19320...  Training loss: 1.1335...  Val loss: 1.3639...  0.0856 sec/batch\n",
      "Epoch: 4/5...  Training Step: 19335...  Training loss: 1.1320...  Val loss: 1.3633...  0.0865 sec/batch\n",
      "Epoch: 4/5...  Training Step: 19350...  Training loss: 1.1396...  Val loss: 1.3583...  0.0931 sec/batch\n",
      "Epoch: 4/5...  Training Step: 19365...  Training loss: 1.1768...  Val loss: 1.3600...  0.0884 sec/batch\n",
      "Epoch: 4/5...  Training Step: 19380...  Training loss: 1.1531...  Val loss: 1.3643...  0.0843 sec/batch\n",
      "Epoch: 4/5...  Training Step: 19395...  Training loss: 1.1400...  Val loss: 1.3636...  0.0851 sec/batch\n",
      "Epoch: 4/5...  Training Step: 19410...  Training loss: 1.1371...  Val loss: 1.3596...  0.0852 sec/batch\n",
      "Epoch: 4/5...  Training Step: 19425...  Training loss: 1.1494...  Val loss: 1.3665...  0.0856 sec/batch\n",
      "Epoch: 4/5...  Training Step: 19440...  Training loss: 1.1406...  Val loss: 1.3612...  0.0922 sec/batch\n",
      "Epoch 4/5 time:44.36805176734924...  finished at 2018-10-27 00:24:02\n",
      "Epoch: 5/5...  Training Step: 19455...  Training loss: 1.1441...  Val loss: 1.3551...  0.1025 sec/batch\n",
      "Epoch: 5/5...  Training Step: 19470...  Training loss: 1.1740...  Val loss: 1.3625...  0.0903 sec/batch\n",
      "Epoch: 5/5...  Training Step: 19485...  Training loss: 1.1412...  Val loss: 1.3662...  0.0901 sec/batch\n",
      "Epoch: 5/5...  Training Step: 19500...  Training loss: 1.1500...  Val loss: 1.3580...  0.0983 sec/batch\n",
      "Epoch: 5/5...  Training Step: 19515...  Training loss: 1.1288...  Val loss: 1.3642...  0.0845 sec/batch\n",
      "Epoch: 5/5...  Training Step: 19530...  Training loss: 1.1646...  Val loss: 1.3659...  0.0849 sec/batch\n",
      "Epoch: 5/5...  Training Step: 19545...  Training loss: 1.1173...  Val loss: 1.3631...  0.0892 sec/batch\n",
      "Epoch: 5/5...  Training Step: 19560...  Training loss: 1.1338...  Val loss: 1.3569...  0.0842 sec/batch\n",
      "Epoch: 5/5...  Training Step: 19575...  Training loss: 1.1495...  Val loss: 1.3637...  0.0841 sec/batch\n",
      "Epoch: 5/5...  Training Step: 19590...  Training loss: 1.1463...  Val loss: 1.3547...  0.0859 sec/batch\n",
      "Epoch: 5/5...  Training Step: 19605...  Training loss: 1.1274...  Val loss: 1.3583...  0.1020 sec/batch\n",
      "Epoch: 5/5...  Training Step: 19620...  Training loss: 1.1574...  Val loss: 1.3540...  0.0911 sec/batch\n",
      "Epoch: 5/5...  Training Step: 19635...  Training loss: 1.1386...  Val loss: 1.3603...  0.0865 sec/batch\n",
      "Epoch: 5/5...  Training Step: 19650...  Training loss: 1.1554...  Val loss: 1.3577...  0.0839 sec/batch\n",
      "Epoch: 5/5...  Training Step: 19665...  Training loss: 1.1379...  Val loss: 1.3640...  0.0861 sec/batch\n",
      "Epoch: 5/5...  Training Step: 19680...  Training loss: 1.1410...  Val loss: 1.3584...  0.0868 sec/batch\n",
      "Epoch: 5/5...  Training Step: 19695...  Training loss: 1.1759...  Val loss: 1.3606...  0.0937 sec/batch\n",
      "Epoch: 5/5...  Training Step: 19710...  Training loss: 1.1350...  Val loss: 1.3625...  0.0877 sec/batch\n",
      "Epoch: 5/5...  Training Step: 19725...  Training loss: 1.1454...  Val loss: 1.3657...  0.0860 sec/batch\n",
      "Epoch: 5/5...  Training Step: 19740...  Training loss: 1.1514...  Val loss: 1.3580...  0.0923 sec/batch\n",
      "Epoch: 5/5...  Training Step: 19755...  Training loss: 1.1485...  Val loss: 1.3567...  0.1000 sec/batch\n",
      "Epoch: 5/5...  Training Step: 19770...  Training loss: 1.1491...  Val loss: 1.3576...  0.0949 sec/batch\n",
      "Epoch: 5/5...  Training Step: 19785...  Training loss: 1.1250...  Val loss: 1.3667...  0.0897 sec/batch\n",
      "Epoch: 5/5...  Training Step: 19800...  Training loss: 1.1419...  Val loss: 1.3606...  0.1165 sec/batch\n",
      "Epoch: 5/5...  Training Step: 19815...  Training loss: 1.1527...  Val loss: 1.3636...  0.0908 sec/batch\n",
      "Epoch: 5/5...  Training Step: 19830...  Training loss: 1.1427...  Val loss: 1.3630...  0.0843 sec/batch\n",
      "Epoch: 5/5...  Training Step: 19845...  Training loss: 1.1437...  Val loss: 1.3603...  0.0850 sec/batch\n",
      "Epoch: 5/5...  Training Step: 19860...  Training loss: 1.1225...  Val loss: 1.3656...  0.0909 sec/batch\n",
      "Epoch: 5/5...  Training Step: 19875...  Training loss: 1.1692...  Val loss: 1.3693...  0.0880 sec/batch\n"
     ]
    },
    {
     "name": "stdout",
     "output_type": "stream",
     "text": [
      "Epoch: 5/5...  Training Step: 19890...  Training loss: 1.1469...  Val loss: 1.3673...  0.0932 sec/batch\n",
      "Epoch: 5/5...  Training Step: 19905...  Training loss: 1.1494...  Val loss: 1.3642...  0.0848 sec/batch\n",
      "Epoch 5/5 time:44.68613862991333...  finished at 2018-10-27 00:24:47\n",
      "Training ending at time: 2018-10-27 00:24:47\n",
      "Trainint total time: 221.57465839385986\n"
     ]
    }
   ],
   "source": [
    "#epochs = 1\n",
    "# Save every N iterations\n",
    "save_every_n = 50\n",
    "print_loss_every_n = 15\n",
    "sample_every = 500\n",
    "print_epoch_time_every = 1\n",
    "\n",
    "\n",
    "model = CharRNN(len(vocab), batch_size=batch_size, num_steps=num_steps,\n",
    "                lstm_size=lstm_size, num_layers=num_layers, \n",
    "                learning_rate=learning_rate,device=\"/device:GPU:0\")\n",
    "    #print(\"after model\")\n",
    "\n",
    "saver = tf.train.Saver(max_to_keep=5)\n",
    "print(\"Training starting at time:\",strftime(\"%Y-%m-%d %H:%M:%S\", localtime()))\n",
    "train_start_time = time.time()\n",
    "with tf.Session(config=tf.ConfigProto(log_device_placement=True,allow_soft_placement= True)) as sess:\n",
    "    sess.run(tf.global_variables_initializer())\n",
    "    print(\"Number of parameters:\",get_number_of_parameters(),\"Dataset size:\",len(encoded))\n",
    "    #print(\"after initializer\")\n",
    "    if resume_from_checkpoint:\n",
    "        latest_checkpoint = tf.train.latest_checkpoint('checkpoints')\n",
    "        saver.restore(sess, latest_checkpoint)\n",
    "    counter = 0\n",
    "    for e in range(epochs):\n",
    "        # Train network\n",
    "        epoch_start = time.time()\n",
    "\n",
    "        new_state = sess.run(model.initial_state)\n",
    "        loss = 0\n",
    "        for x, y in get_batches(encoded, batch_size, num_steps):\n",
    "\n",
    "\n",
    "            start = time.time()\n",
    "            feed = {model.inputs: x,\n",
    "                        model.targets: y,\n",
    "                        model.keep_prob: keep_prob,\n",
    "                        model.initial_state: new_state}\n",
    "            batch_loss, new_state, _ = sess.run([model.loss, \n",
    "                                                     model.final_state, \n",
    "                                                     model.optimizer], \n",
    "                                                     feed_dict=feed)\n",
    "\n",
    "\n",
    "            end = time.time()\n",
    "            if counter%print_loss_every_n == 0:\n",
    "                val_batches = get_batches(encoded_val,int(len(encoded_val)/num_steps),num_steps)\n",
    "                x_val,y_val = next(val_batches)\n",
    "\n",
    "                val_dict = {model.inputs: x_val,\n",
    "                                model.targets: y_val,\n",
    "                                model.keep_prob: 1,\n",
    "                                model.initial_state: new_state}\n",
    "\n",
    "                val_loss,prediction = sess.run([model.loss,model.prediction],feed_dict=val_dict)\n",
    "\n",
    "                losses[\"train\"].append(batch_loss)\n",
    "                losses[\"validation\"].append(val_loss)\n",
    "\n",
    "\n",
    "                global_step = tf.train.global_step(sess,model.global_step_tensor)\n",
    "                x_steps.append(global_step)\n",
    "\n",
    "                print('Epoch: {}/{}... '.format(e+1, epochs),\n",
    "                          'Training Step: {}... '.format(global_step),\n",
    "                          'Training loss: {:.4f}... '.format(batch_loss),\n",
    "                          'Val loss: {:.4f}... '.format(val_loss),\n",
    "                          '{:.4f} sec/batch'.format((end-start)))\n",
    "\n",
    "            if (counter % save_every_n == 0):\n",
    "                global_step = tf.train.global_step(sess,model.global_step_tensor)\n",
    "                saver.save(sess, \"checkpoints/m{}_i{}_l{}.ckpt\".format(mode,global_step, lstm_size))\n",
    "\n",
    "            counter += 1\n",
    "                #learning_rate*=0.75\n",
    "                #model.optimizer = build_optimizer(model.loss,learning_rate,model.grad_clip,model.global_step_tensor)\n",
    "\n",
    "        epoch_end = time.time()\n",
    "\n",
    "\n",
    "        if ((e+1) % print_epoch_time_every== 0):\n",
    "            print('Epoch {}/{} time:{}...'.format(e+1,epochs,epoch_end-epoch_start),\n",
    "                     \" finished at\",strftime(\"%Y-%m-%d %H:%M:%S\", localtime()))\n",
    "\n",
    "\n",
    "    global_step = tf.train.global_step(sess,model.global_step_tensor)\n",
    "    saver.save(sess, \"checkpoints/m{}_i{}_l{}.ckpt\".format(mode,global_step, lstm_size))\n",
    "\n",
    "print(\"Training ending at time:\",strftime(\"%Y-%m-%d %H:%M:%S\", localtime()))\n",
    "print(\"Trainint total time:\",time.time()-train_start_time)"
   ]
  },
  {
   "cell_type": "code",
   "execution_count": 118,
   "metadata": {},
   "outputs": [
    {
     "data": {
      "image/png": "[encoded data removed]",
      "text/plain": [
       "<matplotlib.figure.Figure at 0x7f5d6803bda0>"
      ]
     },
     "metadata": {
      "image/png": {
       "height": 250,
       "width": 391
      }
     },
     "output_type": "display_data"
    }
   ],
   "source": [
    "plt.plot(x_steps,losses[\"train\"],label=\"Train loss\")\n",
    "plt.plot(x_steps,losses[\"validation\"],label=\"Validation loss\")\n",
    "plt.legend()\n",
    "_ = plt.ylim()"
   ]
  },
  {
   "cell_type": "markdown",
   "metadata": {},
   "source": [
    "#### Saved checkpoints\n",
    "\n",
    "Read up on saving and loading checkpoints here: https://www.tensorflow.org/programmers_guide/variables"
   ]
  },
  {
   "cell_type": "code",
   "execution_count": 119,
   "metadata": {
    "collapsed": true
   },
   "outputs": [],
   "source": [
    "checkpoints = tf.train.get_checkpoint_state('checkpoints')"
   ]
  },
  {
   "cell_type": "markdown",
   "metadata": {},
   "source": [
    "## Sampling final trained model\n",
    "\n",
    "Now that the network is trained, we'll can use it to generate new text. The idea is that we pass in a character, then the network will predict the next character. We can use the new one, to predict the next one. And we keep doing this to generate all new text. I also included some functionality to prime the network with some text by passing in a string and building up a state from that.\n",
    "\n",
    "The network gives us predictions for each character. To reduce noise and make things a little less random, I'm going to only choose a new character from the top N most likely characters.\n",
    "\n"
   ]
  },
  {
   "cell_type": "code",
   "execution_count": 120,
   "metadata": {
    "collapsed": true
   },
   "outputs": [],
   "source": [
    "def sample(checkpoint, n_samples, lstm_size, vocab_size, prime=\"The \",mode=\"characters\"):\n",
    "    print(mode)\n",
    "    samples = tokenize_text(prime,mode)\n",
    "    model = CharRNN(len(vocab), lstm_size=lstm_size, sampling=True)\n",
    "    saver = tf.train.Saver()\n",
    "    with tf.Session(config=tf.ConfigProto(log_device_placement=True,allow_soft_placement= True)) as sess:\n",
    "        saver.restore(sess, checkpoint)\n",
    "        new_state = sess.run(model.initial_state)\n",
    "        for c in tokenize_text(prime,mode):\n",
    "            x = np.zeros((1, 1))\n",
    "            x[0,0] = vocab_to_int[c]\n",
    "            feed = {model.inputs: x,\n",
    "                    model.keep_prob: 1.,\n",
    "                    model.initial_state: new_state}\n",
    "            preds, new_state = sess.run([model.prediction, model.final_state], \n",
    "                                         feed_dict=feed)\n",
    "\n",
    "        c = pick_top_n(preds, len(vocab))\n",
    "        samples.append(int_to_vocab[c])\n",
    "\n",
    "        for i in range(n_samples):\n",
    "            x[0,0] = c\n",
    "            feed = {model.inputs: x,\n",
    "                    model.keep_prob: 1.,\n",
    "                    model.initial_state: new_state}\n",
    "            preds, new_state = sess.run([model.prediction, model.final_state], \n",
    "                                         feed_dict=feed)\n",
    "\n",
    "            c = pick_top_n(preds, len(vocab))\n",
    "            samples.append(int_to_vocab[c])\n",
    "        \n",
    "    return ''.join(samples).replace(\"new_line_token\",\"\\n\")"
   ]
  },
  {
   "cell_type": "markdown",
   "metadata": {},
   "source": [
    "Here, pass in the path to a checkpoint and sample from the network."
   ]
  },
  {
   "cell_type": "code",
   "execution_count": 121,
   "metadata": {},
   "outputs": [
    {
     "data": {
      "text/plain": [
       "'checkpoints/mcharacters_i19909_l512.ckpt'"
      ]
     },
     "execution_count": 121,
     "metadata": {},
     "output_type": "execute_result"
    }
   ],
   "source": [
    "tf.train.latest_checkpoint('checkpoints')"
   ]
  },
  {
   "cell_type": "markdown",
   "metadata": {},
   "source": [
    "## Generate new text from \"base\" text"
   ]
  },
  {
   "cell_type": "code",
   "execution_count": 122,
   "metadata": {},
   "outputs": [
    {
     "name": "stdout",
     "output_type": "stream",
     "text": [
      "characters\n",
      "Tensor(\"rnn/transpose_1:0\", shape=(1, 1, 512), dtype=float32, device=/device:GPU:0)\n",
      "INFO:tensorflow:Restoring parameters from checkpoints/mcharacters_i19909_l512.ckpt\n",
      "characters\n",
      "Tensor(\"rnn/transpose_1:0\", shape=(1, 1, 512), dtype=float32, device=/device:GPU:0)\n",
      "INFO:tensorflow:Restoring parameters from checkpoints/mcharacters_i19909_l512.ckpt\n",
      "characters\n",
      "Tensor(\"rnn/transpose_1:0\", shape=(1, 1, 512), dtype=float32, device=/device:GPU:0)\n",
      "INFO:tensorflow:Restoring parameters from checkpoints/mcharacters_i19909_l512.ckpt\n",
      "characters\n",
      "Tensor(\"rnn/transpose_1:0\", shape=(1, 1, 512), dtype=float32, device=/device:GPU:0)\n",
      "INFO:tensorflow:Restoring parameters from checkpoints/mcharacters_i19909_l512.ckpt\n",
      "characters\n",
      "Tensor(\"rnn/transpose_1:0\", shape=(1, 1, 512), dtype=float32, device=/device:GPU:0)\n",
      "INFO:tensorflow:Restoring parameters from checkpoints/mcharacters_i19909_l512.ckpt\n",
      "characters\n",
      "Tensor(\"rnn/transpose_1:0\", shape=(1, 1, 512), dtype=float32, device=/device:GPU:0)\n",
      "INFO:tensorflow:Restoring parameters from checkpoints/mcharacters_i19909_l512.ckpt\n",
      "characters\n",
      "Tensor(\"rnn/transpose_1:0\", shape=(1, 1, 512), dtype=float32, device=/device:GPU:0)\n",
      "INFO:tensorflow:Restoring parameters from checkpoints/mcharacters_i19909_l512.ckpt\n",
      "characters\n",
      "Tensor(\"rnn/transpose_1:0\", shape=(1, 1, 512), dtype=float32, device=/device:GPU:0)\n",
      "INFO:tensorflow:Restoring parameters from checkpoints/mcharacters_i19909_l512.ckpt\n",
      "characters\n",
      "Tensor(\"rnn/transpose_1:0\", shape=(1, 1, 512), dtype=float32, device=/device:GPU:0)\n",
      "INFO:tensorflow:Restoring parameters from checkpoints/mcharacters_i19909_l512.ckpt\n",
      "characters\n",
      "Tensor(\"rnn/transpose_1:0\", shape=(1, 1, 512), dtype=float32, device=/device:GPU:0)\n",
      "INFO:tensorflow:Restoring parameters from checkpoints/mcharacters_i19909_l512.ckpt\n",
      "characters\n",
      "Tensor(\"rnn/transpose_1:0\", shape=(1, 1, 512), dtype=float32, device=/device:GPU:0)\n",
      "INFO:tensorflow:Restoring parameters from checkpoints/mcharacters_i19909_l512.ckpt\n",
      "characters\n",
      "Tensor(\"rnn/transpose_1:0\", shape=(1, 1, 512), dtype=float32, device=/device:GPU:0)\n",
      "INFO:tensorflow:Restoring parameters from checkpoints/mcharacters_i19909_l512.ckpt\n",
      "characters\n",
      "Tensor(\"rnn/transpose_1:0\", shape=(1, 1, 512), dtype=float32, device=/device:GPU:0)\n",
      "INFO:tensorflow:Restoring parameters from checkpoints/mcharacters_i19909_l512.ckpt\n",
      "characters\n",
      "Tensor(\"rnn/transpose_1:0\", shape=(1, 1, 512), dtype=float32, device=/device:GPU:0)\n",
      "INFO:tensorflow:Restoring parameters from checkpoints/mcharacters_i19909_l512.ckpt\n",
      "characters\n",
      "Tensor(\"rnn/transpose_1:0\", shape=(1, 1, 512), dtype=float32, device=/device:GPU:0)\n",
      "INFO:tensorflow:Restoring parameters from checkpoints/mcharacters_i19909_l512.ckpt\n",
      "characters\n",
      "Tensor(\"rnn/transpose_1:0\", shape=(1, 1, 512), dtype=float32, device=/device:GPU:0)\n",
      "INFO:tensorflow:Restoring parameters from checkpoints/mcharacters_i19909_l512.ckpt\n"
     ]
    }
   ],
   "source": [
    "\n",
    "checkpoint = tf.train.latest_checkpoint('checkpoints')\n",
    "\n",
    "\n",
    "samples = list()\n",
    "for text in text_to_try:\n",
    "    #print(\"------------------------\",text)\n",
    "    samples.append( sample(checkpoint, 500, lstm_size, len(vocab), prime=text,mode=mode))\n",
    "    #print(samp)\n",
    "    #print(\"------------------------\")"
   ]
  },
  {
   "cell_type": "code",
   "execution_count": 123,
   "metadata": {},
   "outputs": [
    {
     "name": "stdout",
     "output_type": "stream",
     "text": [
      "------------------------ In the first place\n",
      "In the first places and the window we starely to a subterrane on the tower of oud she walked in all diety towards high body. As I have said they had talking to the far billow. And after a content in his specialised men or transparent crazed man, a constant setting stone on the fresh battles.\n",
      "     When the title a shouts of enchained my arm a mind the lights had been a start of an intent, telling that the courty or spiritual set of stone counters, was another passage of the most proved shadows. I was nevertheless, \n",
      "------------------------\n",
      "------------------------ the night before\n",
      "the night before.\n",
      "\n",
      "That day after that time the cliffs did any one that did grow soft sound for a strange language.\n",
      "\n",
      "Now, and I to be, maybe they had sudden the memory of the side, silent and strong and happy and a mighty way of a districe than a small paned side to the cholight of that which did make to have no sound in that moment; for I came out of the far-offired slope; and they had their feet in the end.\n",
      "\n",
      "And I made to come up all that we come again unto her face to me, and were the men to be set the Maid. \n",
      "------------------------\n",
      "------------------------ horror\n",
      "horrorgead which the contents are seemingly to see the world; so will be a very sorry we found all through which we had to come upon the lower larger species of sure that we saw; and then there were metal and the spots all about. And she considered themselves. For a misty minute of the title came the thickness of my sensible and sorrow and drunk with the full cold streets of a single article of singing. The middle of the\n",
      "climbing space, they were, and the sound of the table, and took into her, and likt\n",
      "------------------------\n",
      "------------------------ creature\n",
      "creature; but although I suppose the mystery was strangely aspect. Those\n",
      "explasuateness, a consciou of hopity of clinging timbers of extensive antiquated station whose commit and antique settle or thrilled things to a chance or at last to save him. It was a man in a significant and empiral suns. To think that it would have been my arm in the singular offensive and second and torture, and wondered a sound or careful reason that he made to stay home, and that he would have\n",
      "heard a sort of her supponent tin\n",
      "------------------------\n",
      "------------------------ night\n",
      "nightgent in the destinating spectator as any point, when her father and myself were to my rest and tend an art over the way. They had been able to act that hell the masonry, shaking with him the catacty. I thought of the strange arose with the stars. I went down to them. A moment a somewhat sense of distinctly completion; but was so steadily in the far back to the central doorwills. I should this hold of an even and stretch facial instead to them the south of the stocking of a belief of step. It was \n",
      "------------------------\n",
      "------------------------ dream\n",
      "dreament the manner to see him that the paper talk and shall rise thraughts. At a shrieking of season of time a monoled shake, and spent whatever he would be so matters in the cabin, without especially with high and point to the floud whale, we were so much toward my fingers. In the membranis had taught its former entity out of the same south, of the second. And the steed of some moment to be more.\n",
      "\n",
      "An hour had back suddenly, as if she could no longer an hour a certain contemplation when I had been a \n",
      "------------------------\n",
      "------------------------ thing\n",
      "thingy above my memories whence the most paint in his side, time an incredible age about the properness, and this monstrous men were not the strength of the columns, but when I was the steam which held me when I had to take here and went away.\n",
      "\n",
      "And there was a great security of the hideous man as I did speak. But I calling the weariness of that trade from the house.\n",
      "\n",
      "And the thunder of this moment he could not be always been through such a man.\n",
      "\n",
      "And there was a great way off for my love, and there was\n",
      "------------------------\n",
      "------------------------ That night\n",
      "That night. But what was the coming of this time there was a man must be.\n",
      "\n",
      "And this thing that went for a low and fright from this, and the gods and lone and horrid mountains, that I could not be an unwinding thrilling and arms. And in an angele washe to could may be succeed. And t some horrid disease to show him nearly the moss burn, and the second showed more one of the world. And always when they went thinking, and the ship of that dark, and the dogs the bounding of the stricken whippen there was so str\n",
      "------------------------\n",
      "------------------------ mountain\n",
      "mountain as I started and laid any thought in an instant, and I saw that I was some strew beso the wonder of the whirrings; and I went only that the monster was broken and to the heads of that place; for I was not the low monster and horror of that wonder anything seemed as surety.\n",
      "\n",
      "And the sides of soul, I was gone for a great way, and the cavern did be to be too belief to saverely at all that, when we had been a great way up from the sea-back and day, shaken so that I was so mind.\n",
      "\n",
      "And we were clear un\n",
      "------------------------\n",
      "------------------------ Ammi\n",
      "Ammined into mine armost ancient and horrid seasons; and I saw a cerased street whilsides, as I called my will in that far-off foolishly and strange and uneasy stone and hundrify; and I spoke to say a moment, the gate was commothed by the shadows of the moss-bushes.\n",
      "\n",
      "And when I had been left, and should hear, as I have needed not a speaching from that time, and the shoulder of the water into the Gorge, as it migha exchanged. But to see the strange and sendings of the Great Redoubt had been taken upon\n",
      "------------------------\n",
      "------------------------ Cthulhu\n",
      "Cthulhum, the shape, and to the water into the boy, we were curing, and whose sides of the mists seemed to hate the shadow out of the hole. All at last within two humble was this world that we cannot surprise. The second time I had now began to read the black gap they were calmer, and a fit of sunk bend to his head through the window and the shock of the senite soul and ships off all the worst. We were singularly embarked them with the midst of the sea. They were some thoughts in the land of an old subt\n",
      "------------------------\n",
      "------------------------ raven\n",
      "raveness of the walls and\n",
      "parties. At an engineer alive was almost intend to a dozen solid panting once mortal the church, the walls; things, shungy, troublesome from a prism. I shuggered on the savacation send of my head, and told healthily, tired.\n",
      "     At last the countenance of the cats, that there were nimbed strength which I had sufficed that the thicket would brought up with an acrestrill and stretry. As the cabin searching him the street where the shore had been called behind the cave, and I co\n",
      "------------------------\n",
      "------------------------ bird\n",
      "bird sleep when I had sent him, and had always stiffened it about the town of a day of the sea. All was in a well-condent over the bottom of her forest that he dropped the safe parts of horror and shining that he come across another shining and torrent and spine. The first portion of this health was about, shaking my story and stretching the cord waist, and sent him he had no possibility whater was not the world which he saw that it was never a convenient transparent communicative of him. But I did n\n",
      "------------------------\n",
      "------------------------ nevermore\n",
      "nevermore than to my spirit, as it was to think that its sense of another sonal tree.\n",
      "     It was the sore of all the single city when to be shouses that we called to the steep floor and the grave of the shivering and higher, and said to tell off from the creatures; and all they had not leave me to see the cellar world and stopped only at ten ornaments—for they who dream themselves that held me, as if it has none of the patches and despatching the monstrous boy or telephona. But at the savern weeks were a\n",
      "------------------------\n",
      "------------------------ dead\n",
      "dead you about my factory with the boat. I took the playing at that monsters took the monarch with his homology of merchants. Then, at the signature of the sea was not only intolerably. This was inconcluded that this, had breakfithed the steel when the farther head as there was a secret cup of\n",
      "some subsued; the first time a capital seament of an unknown solution. I would but awed his particular signature above alienages—except for me, was able to be a more able to read on the boat, and I saw this to \n",
      "------------------------\n",
      "------------------------ The bird\n",
      "The bird in a sheerily secrecy of the cloudy side. The chief sent is the steady paid the last mummies along without, thinking about his hands, and had a sort of almost-human masonry, the library was seen against the water. Hard the wings went back and told themselves to the second ten feet. The chamber, although they saw a grey stairs and colour, and to the surface of the doorway toward her frightenard, and the construction was able to certain seasons of signification. It has no power to hold to that, at\n",
      "------------------------\n"
     ]
    }
   ],
   "source": [
    "for i in range(len(text_to_try)):\n",
    "    text = text_to_try[i]\n",
    "    generated = samples[i]\n",
    "    print(\"------------------------\",text)\n",
    "    print(generated)\n",
    "    print(\"------------------------\")"
   ]
  },
  {
   "cell_type": "code",
   "execution_count": 124,
   "metadata": {},
   "outputs": [
    {
     "data": {
      "text/plain": [
       "model_checkpoint_path: \"checkpoints/mcharacters_i19909_l512.ckpt\"\n",
       "all_model_checkpoint_paths: \"checkpoints/mcharacters_i19745_l512.ckpt\"\n",
       "all_model_checkpoint_paths: \"checkpoints/mcharacters_i19795_l512.ckpt\"\n",
       "all_model_checkpoint_paths: \"checkpoints/mcharacters_i19845_l512.ckpt\"\n",
       "all_model_checkpoint_paths: \"checkpoints/mcharacters_i19895_l512.ckpt\"\n",
       "all_model_checkpoint_paths: \"checkpoints/mcharacters_i19909_l512.ckpt\""
      ]
     },
     "execution_count": 124,
     "metadata": {},
     "output_type": "execute_result"
    }
   ],
   "source": [
    "tf.train.get_checkpoint_state('checkpoints')"
   ]
  },
  {
   "cell_type": "code",
   "execution_count": 125,
   "metadata": {},
   "outputs": [
    {
     "name": "stdout",
     "output_type": "stream",
     "text": [
      "characters\n",
      "Tensor(\"rnn/transpose_1:0\", shape=(1, 1, 512), dtype=float32, device=/device:GPU:0)\n",
      "INFO:tensorflow:Restoring parameters from checkpoints/mcharacters_i19909_l512.ckpt\n",
      "The old folk have gone away for him. Then I should not hear me; so that he met off almost sure here and took it, and I wonder not to slip in a dreamland, but will be as to have an extravagance to her. At an old man will not be said, without happy in many positive man at the sheet in the desert and the whisker, and was so strong her fragmen when the dance was sufficient. Human hands horses had a clear single chain which held almost having marked thin to me to hear a third flagsticating and help of the cabed roofs, where they should be so comprehended.\n",
      "\n",
      "The side of morning, the tradition here were the matter to be a man. Then the feeble reason had been suddenly compariedly and almost set on an utter disgust the stars, but the sound of her meaning and a final surface, too free of horror, and he has been carried and shaken fright a chill and hopelessly and stern of som outsiding him and faint to held him as he should she thought thither of his fancying and sort, and the manner, broken at\n",
      "nither to help the second, she had seen so much as he was too direct to the facts. The strange column was a life which worse had a capacity and carry as he was near the south.\n",
      "     “Aheard and so month that it so happened for human and arms, she saw that he could not heed him some o’clock, all things that he was soon took herself in the strange faces on bathroom.\n",
      "     “You are yesterday—as he gives you find him from me to lie in here any other hair and the things.' Here and the whole thing was told. Tell me, heard all that wondering to drift those who had been in so far from the stories of the place where human beings are allowed to them.\n",
      "     “And what did I go to the water as have that store and a far as though all weak struck the while she clearly to say when they do sometimes help myself, and the soul was a sharp black granite fashionable size of the townshealms. He had strangely shivered that his firet hair to say when they\n",
      "came and loud toward the car with a sudden and a feet too much. At last I traced, were alone instruments, that they clear on the farther stone trees at any horrible shapeless transmission in the stone space. It was not a fire on the fact to be there was no more than those who had seen.\n",
      "He long against the prosecution of the hateful lateral space and shown to the sun. The streets were traversed, has burst for them, but I had a sudden catalogues of case, though archaic speech, it maintained with him, whose end to the sort of all my ordinary menthous beds of mind that the crumpling of that fires, shooting sounds and space, which had been absolutely through it, and all was to the cataclysm of mind and places. At least there is now, and the moonlight the whole of the stream familiar to my step by the cryptical creaking of the present blood and all the marvellous surviving minds. All and he will be the sand, but had suffered matters along the posining of the preservation. It much some change in hasty trouble in that corpst of his hand of solemn shadows and stare its blood, where the ghouls had been seen them in with a calloused telling that were some terrible children, though\n",
      "probably startled in the carven pool will be a cause of the world of the more sensations. I say to his sensations are often taken that I stopped them the letter all alone in the save me without sound.\n",
      "     After all, was the opening and taste that happened, however, wall their sea stomach and the mathematical sole in the distance, to be take too worst for the foreigners. And the sea stands the grass of that last sensitive, thousand out of the stones. Then turning those words and monoliths and cryptical shape and the crumbling creatures strucked it a mouth on the farmhouse and about\n",
      "uselessness and sends out of tense shocking white planet in their cabin. The family was not one.\n",
      "     The matter of the seas, who would have travelled in the days of the horns and the contest of the stored tombs. And in structure was a matter on the body of the hideous men who they had thrown in this mound. There was not the window at the shadows and closed climbing to hold the shrill valise and the carvings in the former stream. The sides of the terrible cold and stark stone crusticely at the books below him. He saw any thing had been cautiomable;\n",
      "they were not a little to the little body of the wall. Then, what has break warned by a moment to the summit of the streets which, after a shifting piece of dog ships which he was so future of in a wood of the chief peril who had seen its cult of her feeling alone, and the docks which had been stoned and shot a frightful stone starkwork above any other change.\n",
      "     In this portant off time and the men observed there were thoroughly and trees. Then I coming drinkin’ a small possessing of the stones. The streets of the same time they sea so thick about the war to a dead breech of clouded floor. Then, wash to come there, and they came to take ourself to the\n",
      "wall of the green trees. There was\n",
      "supposed to the savernished part of the same way there \n"
     ]
    }
   ],
   "source": [
    "generated = sample(checkpoint, 5000, lstm_size, len(vocab), prime=\"The old folk have gone away\",mode=mode)\n",
    "print(generated)"
   ]
  },
  {
   "cell_type": "code",
   "execution_count": 126,
   "metadata": {},
   "outputs": [
    {
     "name": "stdout",
     "output_type": "stream",
     "text": [
      "characters\n",
      "Tensor(\"rnn/transpose_1:0\", shape=(1, 1, 512), dtype=float32, device=/device:GPU:0)\n",
      "INFO:tensorflow:Restoring parameters from checkpoints/mcharacters_i19909_l512.ckpt\n",
      "The thing that should not bells. Then we heard an end of a material floor, and I felt that the sides of mind was sufficient to this shape. Bird of this trip, the marble and horrors and love of surprise it more terrible to the courty, and I shall scarce to be all singularly striking. When we came away the strange and that water. I have said, and that with himself terror to my fanatic and spirits an impulses to the mesmeric town, and we\n",
      "found a second of the winds and plan to throw once more than the messenger,\n",
      "and a gang of supplicable state opened to the shadow of madman, and they moved the ship of the crushes and tortured tension. A paid men when they were, there was a shocking straight light from out of that fire. And was too laugh and still rested to bear the barge of those tides of the centre and the substantial door who ceased to the dreamer’s bandage and the ship was startled and stationed,\n",
      "but to seem to me to move at all through all those of the substance. Bitto, however, a maniaca, the state of a greater survoyage and seal farther stupon, but all thosess than with its specific marvels than a partisive few whirles of the secret lanes. The shade the shock was strange and accounting and thought of infinity, or the strange and solitime which we were the sea we sat difficult or subjacent and architor that he might have been mentary to the left that all the travellers of ten thorough and shake of the hiddes of minds in the cellar. There is a corner of the most party, that, then the lost shapes of the many stoutls flashed indeed beneath that the older throb of\n",
      "those which had something so darkness, and as it was only whispers when they startled and chated and climbed by the rudder into the catalograme of the conversar. There was no more nightmare temples, and where the sides were supplentiless; and was a few fancy. In a stain, was all this is that there was a seat, where the tree, that they did not raven to the stone wall of the sea and the remaining cheeks. I saw in the doctors concerning their portion of the horrows and studen. The walls are of that fifty materialists with its state of antient four house. There were severe monster must have a sight of sea who had caught a pains of sensitive mind of traces in the cell. The matter is not to turn, or where to want to the common sailors in the moon.\n",
      "     In all that were a seas of sensation. They as well have told him and then, by way of fingers a small sight of the ship behind and shape the secret living well. This came was the stories of men of dreams and men, and that went out in the most steep farm for too more singularly the men of the cry of the marraad one who wore on a little, and the sea sometimes they did not seat there in sinks as the streets of their conversation are shaped to them it into the stairs. The farther of unknown Kinds or Bretche might not be so done and shunned then to thinking without handkercess, so that I must be the masses of tensity of men that was a certain time, where what I was taken fast as I had, and said that the servants were the comfort of the\n",
      "second ten feets and the drawing and all the steps, which had to be found in the sunlight throat. A party of them a low silently shock and travellers all than one darkened. It was a call offen day the teeth of the company, and the way of this descriped door which I spent in the sensible, there came to the tapestout things, and the churning statues he wanted to speculate, we carning away the water beyond any chance to\n",
      "a principle of the case, and the closed story was those to see where the torches are a gesture at any such an overhead. And the long penturiousness and terror were strongest and stoling about the point, so that it well depend on the first teeth celler. At the sent of the thing which was this.\n",
      "     In the sun seas of man the mere countenance of his hair and starting soul in any dim and spots between them.\n",
      "     I had to see what we made him source, and saw a large peaked roof and strain from the cold, the damage together. The color door the stranger, would naturally dead his feet—long as many story, and a flash of the weakness, and a little to the love of an unknown strange and unheard-of those\n",
      "powerlance. The distant struck had arranged the stark, another which went on the standard shot from the cavern of the mountains, stone blood, the shad farther to the countenanch which he had seemed. At length they had nothing broken to the father. I took the time I could take this time to this sort of such a minute.\"\n",
      "\n",
      "    As if the same way, the fish of this deal of an enormous sea, were taking the mansion of the subject. Then we rum over the streets toward my head against it. He spoke within the body of my father'd hypothetical process and so mutily above the place which had suffer of the darkness to sand. We child would be sure of a month of the carpet in the shadow of the perspective; and as the cloudy cipid, however, was about to myselled the steep first ten or twelve\n",
      " mattered on the brown old man. The found of the man was not attention. While the charge had crossed out a few of up, so that I had no more head fringing into the ways before I continued. Then I saw—six faint, ascending the ship of the story with which they would seek at hand was necessary to be a sort of middlet memory then set up all the conversations on the flowers of those of the horned lady. They all to tell me at once and stood by my ears again we wanted to have anywhere belief the chamber of a colos, whom the deaten following the careful and stone steps windowless and fearful of these parts were near the grinning who did not last the passage and the cloak, and thought will there could, as it was tall to have a secretive and under the blood of many supolites, some other torn farmhouse time and displying was such. The whippoorwills were taken through the star beyond the streets of the sunless the stranger and sent tall and starkness of the main book.\n",
      "     I creep the trees of the creaking at the seventeenth in its trouble to discuss of the way of my\n",
      "fellow. I don't go on the stairs, ask, though, though the merry story, there were almost a mere family who have alone into the world of my chance of the weeks. As it was a man to succeed. It was a strange, and terrible than was tale, and then then to be made to be fronting as having been three or subsequent aroual doorways and talked, burning almost absorbed of the careless army which helped itself.\n",
      "     At last I remember his feerily\n",
      "stood on the shine of a foolish, ten feels and the surprisingly elaborate river. The death was borne on me in terrible strange.\n",
      "     “I would have been a calculation. I do not know the people and looked at the shore.”\n",
      "“I have all over these windows and there wore or what you will go out of it.” Eleanor could say, in the\n",
      "signal to think of all them any cated steered as I sat from a sharp and to the carving, but the lady show them, began into the\n",
      "window as we had seen it won’r tell the second situation, at the sight of a chaos of the tarry one.”\n",
      "“I can hear you, by the sense of their movement.” Luke listened to stop they were two outsidious, and to\n",
      "pass, and sometimes the steps and satisfy nerves without even assuming all heavy. All the ghouls was nearly done, and we comes in my fingers. At the dirty shoulder and the last often house with an exchange, but in the land of the corpider of the high brides they was stone and then to the southern chill. This could be nervously deciphering that I can eltead its fare outside an hour,\n",
      "we all always aroused the column of waiting and clear in his solution. Since he wondered how to listen them to bother and stay, and to see them to be told the stars to be lit. Though he could tell me a men who why shall you have born off into the fire, but I would say that it was, and the winged lator sharp and deliriously through story of some of them weak to the horror tier. The two or farmhous below half they sent to see the same substantial oblight spickest and crush masonry of the shock were told; and then steeply when that through his shining man the creature was able to sat back from the wind and stream and choked the blessing old man and watch the street and the creatures all so children and came to an hour of the house, and translated the cold streets, and then the creek and the same case, he wooled at her\n",
      "calculation. And then the lowest cord and lighted and stars with his well. They cried a mattress fall at the car. It seems that she had been lovers many was surely thought; the steeded stone cries was almost as here, and that she had been seeming to come up a lurk often he comes. Then I thought of their drink, but I heard of them, by\n",
      "reaching these answer we had been still and to see the love of shocking and seas in the milky loft and taking a faint the mouth of the chamber; she had not less and settled him and lumbs. “It’s a last corner of her hand as I cannot speak to shout that service he can go over to stop here than two officers in any satantics of her mother’s horred gardens. That was still and the course to she to shape the danger of solid studies and tradition at her ten first head, and the streets the cold want out of the world and the door by anything should be aloud to speak, and we have been at last what we wondered alone with the gold and steps to the stairs would be any of unclean ships, which shrieked, and set our sinister trible angry. He had been chiselled or\n",
      "deeply to the study of the charm.\n",
      "     “It was indeed importance that you’re done in a few moments, I turned to the way yrily, to see here—and that is it was somewhat followed through it to\n",
      "the same state and terred that they was still solelying as any of the doors and the dead silence, and the low clue chapters which her so stoled sounhing on this shaft should they heard in this side.\n",
      "All the stone seas there, although she would succeened through the shadous sheller.\n",
      "     “You must have also say and the car,” she said to the\n",
      "little boy had left. Her frantick, and the steps he had shewned her\n",
      "from her bed, and thought, I could say, and shut the sheer pretty chance one of\n",
      "ten thousand you. It was obtained. Till he willed to her\n",
      "eyes. Yit a moment the house also, told her own hideous command higher, along the door, and he said, and\n",
      "then she had sent the door. “I heard succeedful helping an extreme lovely of the tree to be is.\n",
      "And this childishly spark chairs,” she said, “I’pleated he man. I conclude years against it,” Luke said sanity. “This must be a second place of matter. They have the deeps would bring, if\n",
      "only that in the since in shore and shaken shaking where the giants’ crags—and the lines of the door, but here she’s all his shrines in down to the hand at her. “I can’t say,” she said; she turned into a strait and sate and terrible the door, and\n",
      "Eltoned shocking, she thought, her eyes with small carpet round, black, and his finger was close by the doctor, “Today anything woke them.”\n",
      "“And I am going to hath make my houses that she would be hold, and anyway, thought that she said to hold anything, and the same time, and then, and when she saw that the doors, we went beneath the doctires, but they can tell out the house.\n",
      "“It many your seeking myself, you wit\n",
      "door and say ways with you a donster if I do not know\n",
      "her.”\n",
      "“I can’t do not stop to me,” Eleanor said to the secret. “If the cheasen peaked diary.”\n",
      "“A child, is in the doctor and I. After side,” she said. “I’ve had\n",
      "not things are now worse.\n",
      "She must\n",
      "stopped ill at any right herself from their account as a column on the size of the string. “I cloaked the classic intimate,” Luke succeeded and looked once, and stood brooks, she thought, she told me to star, and then she cannot tried to break happy incredibly so drink. I am here save at them outside.”\n",
      "“I wondered was those and the work into sounds of all the steps on myself, truck a food.”\n",
      "“All doubless, it seems with the door,” she said is pockettly\n",
      "and looked\n",
      "at them;\n",
      "but the cold street, however, and her head, and shaped things of cold and hanging and laughed at me when, and said\n",
      "silly the\n",
      "door. “I would be a condition of you,” she said. “Will around here and would have too large too, before, you know. I will be\n",
      "one night on the way of the door.”\n",
      "“I said so sing,” Theodora said. “I’m surely sensible to me, I am, is, though\n",
      "my candles and shining the wind,” Theodora said. “It is a fine of these time to be and the doctor?”\n",
      "“The doctor signed.”\n",
      "“Then, altogethe, at lusk is that you took me one of the time.\n",
      "“You’re this to\n",
      "send to me.” Theodora laughed. “Not arm is noise—”\n",
      "“The way there was on the brandy tiny one of\n",
      "the white and sound,” he said, “and\n",
      "thought I think you after all times, but I didn’t start for them and then then said the hard towe, and then\n",
      "seeked, as I stopped a sudden again. I can’t reach them who helping yellow way, busy to their\n",
      "ship on the foot, and I should’\n",
      "      “An all to get the whole thing of the waning later. They’ve been about the studying sidieus beyond?”\n",
      "“In this might be liktly take you, I think,” Eleanor said to those towers so they had struck and run to the car, and a little\n",
      "staircase of the dark wood of a happy and sometimes three of space and love and stick to stiff and ships how chances of an open room was an indefinout any custom of that carve and deserted. Thank and turn between the dark and sounds of the women search of south things out of the dined. Altimutuous roll of this party one beyond the tige of the daring-sparkling like and flew over. “We will be, another\n",
      "sounds, I can't imagine and then will tell you that I’m not the tombs’men find the box when I caught in the body.” The doctor saw the hallway at the deserted\n",
      "roof. “I am?” “To me?” Eleanor, and Theodora’s round the grass which had anothere out other, and the sending special\n",
      "she could think.\n",
      "“You’ll be them as the doctor to see a man with her foolishness about it and shout. I can\n",
      "explain.\n",
      "“I’ve believe it did I.” Eleanor asked, the rain-crowned trees and thicker which he had been\n",
      "something through themselves. “Are you are away to\n",
      "procee in and waiting. The wants took it because you\n",
      "called them for here to give a colour, stepped one of the house in the doors and lookered and laugh at him of shear, with a shall, she callers, however, and then, they were seen at the tower, and still the way\n",
      "was our steep\n",
      "and feet at the hole, and\n",
      "they were stronger to their\n",
      "species in\n",
      "their feverish. “It was\n",
      "no man if you cannot be a mind to say. I was another thing,” Theodora said and sleep at laborate three off from another and the dead crazy, where huge weapon was so few\n",
      "one of the cruds and the shingless city as an oldem seemed to last the house. And there was somewharled a litte of the world. “We as we will be on\n",
      "exhausted, and the doctor like to be surrounded on the house is one of the house.”\n",
      "The door was still blue and said.\n",
      "“In the doctor said taky to any one of year in the shore thaogh you which were she would stay hall you will be a very self-pended or event and say that I can’t read to him, and was taking this that I wonder what I wrong.” The doctor said.\n",
      "“I succeeded to\n",
      "meet himself at the house. I wouldn’t go over the start about her through the blue\n",
      "room.”\n",
      "“You must be an ancient pate to their days we heard them is a station of your dark. She may be the world of\n",
      "the windows? To me the trees and pleasure way and\n",
      "the shining old laughter a minute, take my face with the door wall them in some curiosity be supposed to say, the sound, as we\n",
      "has been a pretry changed from all the stairs on the san until he walls, and the sand, and and strove to say, start to ask her from the ships. “If I have been a cat.”\n",
      "“The mortals was still all this to speak. That’s on all little artificial figure, that wooded to the warm and through the bathroom door and his feet. I certainly not be dead. I cannot remember hard tellin’ that, I think that was the ghost stronger, and then as a good search of a cry and see himself and was shewed the desert of another. They have been taltered by two first that they who had come to them in the doorway. At the stone said strongly; and the sight had stayed the same sensitive than they heard. They are still to the death of Theodora buint to be\n",
      "excited for her. “I converse he’s not almost sater.”\n",
      "Theodora whisper was the other.\n",
      "“I do not stay where it was able to be the old second to the wooles in the letters of my care and thought we can’t affesiftener.”\n",
      "“You have said the shore,” he said.\n",
      "“And you are well is not that to let that you took the door.” The doctor held a servant which take me, that we can’t get throwing and striking to stop up the windows, the single beds and clear toward the doorway of find one with a class, and always to the drop and had truly standing over the rattling she shook them for a miracle and touched her feet wild trips.\n",
      "“Yes,” said they supply far away.\n",
      "The doctor said, beyond the door to shake her, she thought,h herself and shipled on to the crawl o’ the drinking of the house. The doors had began—to tell the strike and the door and so somehow the crushed\n",
      "dragged. Then she’d cross the\n",
      "red, likening with stars stone on the same size. “I’m, if you were all railed forward,” Luke said. “And your most personage where is only a corpse. It\n",
      "madness to me,” Luke said to her, although she\n",
      "thought, watching the bare figures tha wakefulness, “if they\n",
      "want to say; she went about this parious plan that. Eleanor came at her, she thought, almost in and to have transcended\n",
      "in a little tittering off alone and walked to be a little car to hear on the doctor. “Will anyway,” she\n",
      "said her soul\n",
      "to the hill of her ship, and that somethity gathered that her hand to the southernoys are\n",
      "still\n",
      "alive. “They a good penganing of the dead letter. I am a wonder offered to believe that, I suffer how to deceive that the lady she shall not rise, an air of things at all, but I will be asked. I shall never surv you to differ that somewhere would be.”\n",
      "“I’m set do you striving thing,” Theodora said carelessly, and leaped into the doctor’s creatures they work. “We wand the windows,” Eleanor said. “I’m sorned on this city of your morning.” The doctor tore angry and the deep ship and the sound. “I wonder hope that I say to say. Althought it is not trying to say.”\n",
      "She seemed, as the cold went on she would be a shiver and the dock, and\n",
      "she turned the\n",
      "doctor shaking the door, and then armished to a sudden against the radiotracted dreamer. “I am an endless, and something\n",
      "what is to say that I was going\n",
      "to shew as I do not see to show that I at leas,\n",
      "the stars and shaking her any one of the word we can’t get the harm in the higher.”\n",
      "“Yes,” he said, and then\n",
      "shivered, “and you\n",
      "are,” she said.\n",
      "“I don’t women would have been she’r as that you would thy evil facilis that have a search an’ look out at the doctor.”\n",
      "“In the darker than,” Eleanor\n",
      "said, and almost doubled, and looked into the side of that of\n",
      "the sea as a light that was\n",
      "thought, and anyone ever seen, and then\n",
      "spoke of closed rocky child word, “In all my fears are ye courage from a little brink,” Theodora said.\n",
      "“I hell has the second old Machia.” Theodora speak. “Well, you must go down,\n",
      "to see the house it seems to show\n",
      "us.”\n",
      "“Not, the whole thing—I wanted to me to see hope, and you see that I was to believe again. You may have\n",
      "a series that I went down on my carrie and then, sir afraid to see to see what I am one of this time.”\n",
      "“Not the steeples out of it that you all shouldn’t say that yourself and the stairs, I closed me. It was nothing with the height with marrising to say when you know afterwards we were alone. Things all things in the lunar\n",
      "timber of the distance of the sea where the chasms about his face and wind the way to the door.\n",
      "“I am not a low that we shall say, you know, without a delight that I am on a dressing\n",
      "come.”\n",
      "“Thereof,” the doctor said, she took that helped them and\n",
      "farther, the dogs armed and sat able to still ring\n",
      "something about the doctor and then at last those and laughing back. “I’m somehow she had to death have all the stairs. I won’t be home?” Luke asked. “I want them from the statue and I think, and stories there is not to bring alose.”\n",
      "“Ind a why to be a strain of tempest.\n",
      "I am tom is that I shall be an expedition to the state-room about it.” He spoke. “They would be an end of the thought, but it would\n",
      "be a summit at all?” Theodora said. “I can trust you think. And I come from the carven gong, although they will leaps if they stay. Theodora was the opening, she think that we\n",
      "should be alone within the leaden pipes—as secorded to the\n",
      "low grandfather’s farmhouse as the table by miles up and a ladies\n",
      "and the raised star outside strangers—three of\n",
      "them with all strips which she had been seed such a sole with a literary of this solution. “How little spells were nothing alone that they have hearkened on a sumprst in her mouth and the choic stone and hold it once the storm which had bore somehouch that cursed their stairs. They were they were an instant, and why they can’t\n",
      "be as well have able to believe it’s one of the passage. There are something to\n",
      "take the hand of man. It is see a fire tenderness that I was at length the way to say that I shine the same thin, and I will truly see the shadow business, beckoning the crowning shrines of the house. There were those splashs were long agail. I would say to the centre of the whippoorwills, being\n",
      "only a stupid constant sense, and this marked and cold and crowd all the stored stairs and planed masmers in\n",
      "tears, while there had been so lately they are a sentence. At the street of the care to take him to the states, they stayed on the footprint toward the towers of the top of a calculation, where he had severe men as if the southeen house, having discovered that they had the practical secret and decay occurred of\n",
      "the seventh-hitching others. We have been a fourth the matter which seemed to be seen. Though this sentinel were of this part, I had no mortal experience. It would be merely an unite the servants that I should not be.\n",
      "\n",
      "    At light it may welt those through the clock on the fireplace of the house. And when he had never seen the first the streets of the children of a medical school instincts. The second plain bearing with the surface\n",
      "was in the savages of his period of soul with a single sign of any attended. These cries of the most powers were not lit, was still some artistic and melancholy, with the sea in the cellar, there came a great secret life, from\n",
      "the man imperceptibly to the carpet in three-dimensions. This it had been a lot to draw from my own secret part of the stone who dame before the cabs wore several steps, and the southern sight in a farmer and this disturbance of the moon. Her features are shorter, and the most harmened, and the sea to satisfar of the most desires when it we had never down the churchyard of the sensation of the solid conduct of a seal or abstract. As the savane muse assign the most searching of the tongue of his mouths, and sent in my singular, almost undulating that the cataclys or throne off together, as Is with the sun heard in the stories of the cason-looking scene. The crowds, the damp marvellous statues. He had never did not hear the trouble of his concort, and as a champ to the left of their house by morning. It had been sent timid as a man, finally strong,\n",
      "when he would have to discourage them signifieator in the case that he would nevoke aliety that he was abandoned that some obtain arch stands talked of a complete wall. He took the talk of all things are assented and carried in the case. They held most objoying his mind when the drips of the shoutings of the traces of the mountain should have been somewhat sucks.\n",
      "     When he was none of her. He would not his stage. I was aware of the markets, but I went out on towar and howl when her main securing his midst of the wes head on body indeed. He did not hear there, till I heard the beautiful bright silence. At length he could never hear the state of thoroughfare that her sudden senses had seen the steps, and he could hear the froze of the death was almost sense to the hall in the dogs. Though he was nigh to tremble on his head when he seemed told the faintly overturning half of the shiver. This happy and mystery on to a light one’s a chance for a fear if his fate when he had a friend was brooded up the cold, busportance where the mathes of the crash and carved histordian appearically supplimited with his hundride, and the deck, where sorts of the presence immediately received an ancient and impressions or fantastic past hid on an height of human being, though never he had but hinted a shocking and handle which would not have taken been able to see the same time. There came thrown the cave now the carving shoulder he was earning the table. The water seem sank a summit and dark and self-deep and anticipating to see the first station from some of his fourth desperation. Having shewed a large sensation of the mud opploce in the monstrous barge and talking in any one other than he could not hint of the mental place; and was a forty one, and the continua of the way in the final cavi to the casual formate shocking. All his accusations and heart had been anciently to the wide polished face. The dark steamer always had an expectant consciousness of a sea and that he was not the shades of a commentation of the sea. The stain of the sinisters of the door has been brought us anywhere and the process of the house or pall of the crumbling wall. Shining was to the stars, went to the stairway of a stealte a had the feeble stench of something and wharfs. The day when the true which he sat up a shifted ruin or to him.\n",
      "     The other that they continued there are the shades of tracks—his first, and the tempest of the matter, a merciful spell of heavily. We would not be mentioned, but true, the moothere of the point of sound of the same moment, at looms were a shogging, and a firm in hands to sear old man and striving in the sink of the world. There was a second absolute conception, a little black stone step which seemed to have a clumsy slope which start with the cases of folk. One directly\n",
      "over the street on the storm of stones, andama as they all bruefled, and several fewir shipped; and the struggle forever and hollowed in his polite faces and souls whispered and splid that they saw that one managed to a shrinkle, some dank toward a hallucinations, they could some of that colossal stone faces of delicacy and decayed conceivable security to salt mental and stupendou could be a grience, whilst only in silent and silver cases of the men of an ancient secrets of travel for a marker of\n",
      "their dimination.\n",
      "     In hours I held the familiar or and out of the waving marking, the whole of the same most shoulders are seen; so far as he could dead me when I at least set on thrilling of the corpse, and he was something obtained of a corpse in which the doors of an instinct are so clear to him, he had no such an idiots.\n",
      "     Those six moon, who had almost bearing me, though he had seen, without he was a line or feeling to an open body at the steps when the darker sound countered away and the light was told; for this he found that the towns was an intervening stream. He had heard he saw in the\n",
      "dragged high right head in the distance toward the corner of the trees, and the sea, shat nodded it as the princons, and some calling those should now be able to and his cheek. I would hear the seven cut and attempt to have been a sensitive of\n",
      "them and who stopped to me to stay he wish to speak about that hope or shapes fartherly an all past.\n",
      "     The subsequent room, there is not a franting chair and carrying. It was now that he was still startling and coldness of the crass of a barrier to the statue. That to take him a trunk he had to chuck the tripods by the chamber which had sent in the hellish struck men of diminism.\n",
      "     It was a strain and the compartment at that his wistorical and hint of all significance. His excited heap was only as a sense of dark eyes without. The fire still heard the following spirits were always some excessive precipice than there, and they were never disturbed, and, asimious, and their faces and fantastic peaks, the past and almost surprisingly carven forms and plainly supples, still still an army from the dreams of that developminage of any prophy. To this way the second time had been seen, for these things had been trivel as he saw that the stones were all easy to trade tinted to strange foolish exploration. It is taking, and was attempting to deter the words. And what had been absorbed by all his song and distressed fear, and seemed to reach the persisting man through the book of the stuffed gulf of hungry. He shewed a fragment of his wall on the chair. He was not to dark to the wall.\"\n",
      "\n",
      "\"What did I heard him again, and would be all an evening of horror, but the stranger seemed to be the matter in which the pale streets of the dark corner in the fourth descent of the chance that I had no little chance to draw the character, and when\n",
      "attempts that they werened in the sea of traces at the castle far away from a shaken or so sharp concerning the stone. It was the same moment half a closed light. I struggle to the rays, and\n",
      "the wealth of the deers, was the far being, by the way had taken to have. It waited to send their companions and their supper are the sourch of the ship behind him, with a pair of closer. That will these feats were nearly a searable sound, but on every most, but we could see the shrieks and altar, and shudderedly, tealish in the descriptive surface and dropping a starting of the same way.\n",
      "     I half remarked the savages of many a strange man without the cave-mouths. They walked to speak of mine increasingly tales of more. With hard, and so telling the strain was an unknown three month which had been able to prove my head as I did not really say a man who took it a comfortable shore of the conversation of the same side, and started the light of the steeples which seems to the road shall added frogs, and the storm had been during the cabin, but that there were manifests. It was the oldest piered long search workmen by the monstrous pity of sight. They could have answered them in a mountain-people on a sharp and different to their formers and taken as surpassing from one walls which sometimes several storms formings. This temperament of our left was the saffinately places in the most period, while the sides or captives were not the longituding wound the cataclyer, while he would have brothered and think of a door as the black silent and significant spirit of this sound of splinters; and tried, with the same sounds of extensive colour which these shrieds were still crumbling with the common colonnes. And the true world had to catch the bottom of the same stately drifting southward, a college dropper it is not the peculiar remember. When he could have thought it is to case.\n",
      "     An above in the service were able to be freezer than anybody of the ways. A straight strength feebly shuddered in the masonry of any concerns of tealhing. That all the cases were seen to shew me and speak, and I was a small, shrieking spot towards the second above, and thought the staircase was nearly all the world, the whole things we had to be seen to be abrush both a proper sort of deep assertion at an unknown tendency. The second place wore at once an exact immeasurably beauty as we had entered them a past before this time by the whole antique stone booms of these sea of alien stone companions and their steps and the middle of some passion, and there would seem through the men of the comfort about him. After there is now he had to do it. If any thing was indeed. I was seen as a chair with my fortunes.\n",
      "\n",
      "    I could not help my car as wind, as I stop, too, that it had been a profound stenching of a search.\n",
      "\n",
      "THE HOGHT OF THE CULLING OF THE CASE\n",
      "\n",
      "I had been travelled by the company were absurd, and, it is to back again in the savernity of horror as all in the dog of the checked contemplation of my conduct; and as I say, in sight, the characteristic part of the man in the casomal-lustre of the possession of the submission. It was the most precise extent; and if now the chind was so clear of the change and the same. Thirty-shouting\n",
      "was mentioned it; and therefore, a ship of the cruddy accident. It was always what hideously disappeared. That thoroughly must have been too contained. There was a vent, a little crag was a study, a poll from a crypt age with the city where the floors had began with a brush above the shape of the crew; the struggle which we had been the strengthen mountains, and that there was there no longest of\n",
      "many attacks and chemical, and all that the whither of the camp was filled by the shapes of the sands were learnts of such a sharp tree we flattened and found its far-off and almost at the college side in spheres to the whole of the crowned. The cats alone and the weed casks in ornamen of some sea of rooms.\n",
      "     The meanwhile the short stones were so many of the men of St. John and Archuman and the stone countrysides of those who seemed cloaked at the contents in the steeple of the taboes of the human call of a man to account found their chiefly angles, and was a second an account of a mile before hunt of the mate, but we stood in the sea and divide him on the flood. State obtaining it over the seas. In the securely tower the shadows are always such to any can face the cold supremely arms and blind benefdly over the winds. The cracked antique strict wenders here are found in sights and shining ways. The trees are told and the police. The second passage on them were no light with whipper and dispelsed with a crucifix sealed as those on the storm slow in a strange than the men.\n",
      "     The roads or two men of an except to catch her country from the polishly low game of that lower tones of stone above the well in his face, they were still struggled out a comportance, though a path to the stream of the grey roof and a last things or the trunks that was a stranger start to their head and then about a few stone wholesome tiny peaks, and a stone car with thrill from their people anducht for their features to the stronger blood. And this they came to me to make our peculiar expression wheever we form a manner, though hereafeed altogether wounds to be sure that a lose in the corpse of about things on the boats, though it was the shortle of his wife with a\n",
      "candelating a strong stone file in that despite the shrugged mansion. Was this fact to whir she had commander in thirst,tandering over its porchas in some point of the hill thatmed of the second one had come and astonished that the from their solution and splictly and an ancient cores of some sorts. It spoke of the previous light half about his\n",
      "hair forever a pool, that the portent had brusmened to tell of making the sea when their statues how himself a large and house, and whose shelves which made the trees, sometimes seem to mind, and at the early sheets and things that standing steaming with strange and souls of the shore, and was the same to the second. Its parts of that cryptical persistence was noticed; but these things had never\n",
      "seen. He had seemed to himself to hidden the\n",
      "ship. I have alone in my hands, and had been a liken material from the second son which he see them, but when this chord of this pocket-head shrugged the cold. After a mere ship--with the foreigners of that chasms where the minds were no memovinces and crowds of the color, and one child stricken as all of the comment to beast and shiver as that only the tide of the sun, though they were now sorryous, and terribld the mountains ought to him; and after all thrusting in the draped miles of shapposed monolite about it. Then a feat of the country, an interest and a measure in that plank senting something of the steep stairs. The floor had come. Worrified that things were not somewhat about to temple, and I shall have the second to the shelves.\n",
      "     I have no recollection alone whose estrentities that the thing is only an unknown song on mine and anoble that. Wilbur Whateley was a month\n",
      "before.\n",
      "\n",
      "           The ship had been a second trust as it was so lovely anged by mortal and three seconds to their peaks of the waves. There weren's sound of the careful and memory was striking a little terrible case, as I have talked off the shore of that family who has been the same sort of mild talks of the high witches which the double human creatures had not a mist and pattetn with it, a change whale and the second of the horrors which would have alone, a table as they still remained at the bottom all at the place with a promise of seven, and which might be the one of that dream-living the town of their panel in the metal flowers were left. There are some manners were then to be thirteen transportations to the white panelling in that locative, the shadowy curse set the warm research, but at length saw they were almost under the river-bonian army of folks, with their power whose cruel study had been decidedly formed on the passage where the disaster of the care and searcher one or significantly at the bargement of the came, and it was sure of the sentence of the middle of shrilling. The final distance on the water seemed to shout the country flowers as it would be about the seventh of the priests whice a moment, so that the trunk of their colour had cold at the sea as the stormer from one or tricks of sundresses on the state in their peaks of the central. As the passage of the canoe laughed only a confinic and sounding subject of the moon-could name of what was saved for the police of the horror, and, in their friends about\n",
      "his horn and prisments and prodigious trips to an unknown side that shoulere set out of some one of the cracking and spots of thirty stone. We noticed a case of the war on the face of an exaltation which wasted out and then things who wisely recaped to and be touched the catace of sound at this occurrence, though it had been a lady with a central change of climbilg and places. The foundant, told had no foulot shiveringly substances, the whole of these the mind and the towers of the trees and the shade of the thought of the submic off and the stairs in the darkness of his\n",
      "charging ships. It would say that he had told him as I caught it. All that water, had been a step of a sudden and dream, and had also something to believe. In my engrasue seemed so seriously out of the seventeenth chamber, but that were seen to be so feeling, and a faint and unified trees about the sheet where he drew the days of hung down the croaking-pleasing raiding.\n",
      "     At long perfers of drene state in the stern was always at the terror; and the sea-bizaros of the man and midnight had soon remained on a confinance.\n",
      "     With a close prismaty—a passage of sensitivenous legend, and they came to assa out of twelve ship along, seemed a second, and, before the seven monotonous few words, which wondered, was now taking me to be that of stagging, their arrangement, was said and a shudder of date. I could see it when I would not say that the thing had been mentiffed in the men, and so that he had taken any comment the solution of them had stolen seen and were alive.\n",
      "\n",
      "                                               . . . The begans of time when I was still animal and did I certainly not any kind of cataract which I was starting on all, than the shapes which made him telling their fate of this source with significant superstitious records and seas in the commenced beings that was a singular curious exact world, still seen that there was a sort of the week as talk from the walls in the sea, and he spoke though in a seat back at noon the willows was now traded.\n",
      "     That near the fact that had shaped a curve of the walls whence he had stimply beheld and sand. He here the brig, all himsell and straining at the dead. His element was that a century one second and desert and, as was in an exact combination or to such provisions of the mountain-trace. It would not help here the cruelly entrances over his father. They were not as if some deeply structure, the muddy, and whose solid roct wasned once to see her, though, and spectacled with a second of the proper plane.\n",
      "\n",
      "It was that the present continued steps with the several of a failing.\n",
      "\n",
      "And the latter was off from the sea, and they called a danger of simple desertion to the change of his senses, originally to any other than he had noticed that the murder we had been to the cabin than his, that the man wasted on the woods, they are still thickly and discoursed whatever seeming things and solitude as a point which had so strong hurriedly into an evil thing. We could be moved to have been to be able to consist in the deck that the mate-creatures of the plants in the same case which would allow the counter, since they were the sorcering of my soul,alons, being cold and sound as ifle to the secret of the country form and spoke, soon, the stronger astonishment on the second of the stairs and the main characters and its cases of a mile or form on the figure of them and one, the crowd of a chandel or delivered front of a partial part of the supply. There came all that were a place of distinct silent path, where the college sails rolled up a great deafening cities. The stranger seemed to stea falls as an abnormally comfortable distance from the surgies and the stars at his speech at a single perfumer.\n",
      "\n",
      "That mattress were abouted in the sea where they did not think whether the power of an intelligible spirits of the same thing to the large shelter at some other points in the sides of the sea-tavern settled frogning of the patrier of the heavens.\n",
      "     What this thing which could not have\n",
      "belonged to make at least in the matter. Here is all supposed to say that the chances of the man will be a complex fragery in the commonic part of the process and matters of the party. The more hastening the cats and monstrosity and the shields and\n",
      "weeks of these things in strange, and of which we sat down in the distance that high in the sand and seemed chosen the storeroom, those the top a gods of frantic spectacled seaman. As the professors had been at once as if if the southwest, an indulgun--the more speech or could take off. Of the worst personal pale and individual to which has been composed, and would night the police of a fact which we had a carried atop of the continuation till the stones on two days, while, trembled a glisten dream which to a sharp artificating of the battery of the\n",
      "chairs there is not any solution.\n",
      "     On a wild sinister the whole of my explanation and struggles and the middle of stones were too double-like, but one second a deceased suggestions would not feel of the place. The shore, then they are alone in a struggling of succeed and attendant of actual explanations. Its seconds I came to tell that that cannon being at first out of such thoughts to the subject of a tree. History was sure to have brought their or to be tears, and that the sea was something about to the son and a stand as the shaps of startling abysmal curtains.\n",
      "     At last the chain, heard the stumbled front of the trees and the thought, at such chain-brilliant raisuines. And in the earth we came a cattlean civilize by this and all the search followed in spitation, and the marvellous cavern they might be seen at a lore of a chunge of difficulties; this tip we sured them to the cold and proprotcome, as to this person with its face, with their\n",
      "curious size at least that ten thin encroar of the cryptic large and motionless acides and the sea, and at the streets was seen from a course of the chance to tell heaving a surface which which he would not believe me. It was, howring there were the sound.\n",
      "     We were they say was the sand and splinters of a bad. The first time he seemed to be for the first temple that were also streamed, and almost at once in a while once more than the manner one of their secrets would be definitely proceeded.\n",
      "     As to see what we seemed to be troubled and set about that action from the beds over the cryptograph of the top. Several monstrosity, and the southward wall stood out from the sands of the staidless spaces of the strange decks.\n",
      "     As the same was myrrible slope, and all the wind soon seem to be stranger. This was already for suckness. The servants were now so many of the severe mingling of the conscription to me the masonry of the state. The point, to be a substance of an effect. It was triumphantly in this matter which. He was common to sailed titan monster man, without and for some thick apoth and a small translation. Why. I shall be result, how there was a still at that the minute, and had thought was not them for something, and which had been a large place, but was sail for miskator and discovered from the room to a seat a shaps of steps to the savage and stolen of the mouth at the deck.\n",
      "\n",
      "The sculptured point of some murder he dropped to the chief overhall the comment.\n",
      "\n",
      "    I have saying to seem some obscure mass of my creation, who have attained it in his\n",
      "conduct with the matches of the sort on the colors. Having seen at last, and still he had been a certain point of such peril fresh the candle and the perfectly labiance of my own senses than he was supplied; a fit of his sheer proper solution, and the sea securely to see the same calculable action, and as I looked at their horrible draughts at the counting chorus of the common streams of a prodigious age of his fears in the main bursting of hidden the cold and settled and ships, but it could not remove to be actually likely to the certain trees and converse its particular attentions and columns-back for to his sea as if together. Instead of the sternly and partisulance when the face of the cheeks of the most sharp existence there had been thrown upon. And in troibly, and the more I saw a feeble alliance of cheering the superstance which he had answered in the mailstantial dragement; but was not there in this engagement with the forecastle. This is all over his soul and mansion with himself and terrible sounds, and attempting to the surface of their doors in their own precocition. This moment, was not of most uniform, and was fain to a certain prison, and he had not seen and seemed tracted the body with things to see what he would be night attract on a fever. The whole contents of a little boarse sent mad night. His characters would be able to conceive along the bellowing walls of the ship who had come up the police, and that was the fair and sea- into the floor, he without hard space the cold space thankfully placed as all at last. To the carven rumor and the doctor's horde was stirred; but which she had not took threatened though the car body. The fire seen that the seven glen caught and triumphed in the mountains and things and tortones, while the family would be to be an inducent, stopped on the same time and distinguishing, and as in a long compasion was strown on the cellar, with these shewing with his streamed and starkness and pastures. They had been abstractive things in that only throngs in heather at me such as the tower they standing a sinister terrariage to the shadow of the prevailing credels of my friend.\n",
      "\n",
      "\"It is transfixed to thinking the beetle of the presence of the marvel. We are aware of my soul, and that the winding house was not a very sinister significance. There was a contradical space-like communion, strailed all along that counter-blood, whils all of the presence went over the stern or obsorved. The principal careful resign were some subtly, too, and some far and fate, at length at the chandelier of the stairs in the mountain, and the distinct, had the steady state of the creatures were almost in images of these trees of subtexns, and, which was, indeed, as the cliff while the morning, I studded more to a space as a great state, to the right ordinary tower worship on the stones of that stranger. The seat of the classical appearance were to ask me. The first to be free and the moon which were morally as their arms we found it is the contained surface on that case or a moment that taking a cards of the facts and thickest an effect in the most ancient rivid possibilities of their similar texts. Whenever the thing of the stars\n",
      "and a man was sealed by the sevente of a mark of million youth for those silence in my senses from the company. But that a careless morbid staircase id indeed they were transity—the person would be\n",
      "insurpounding a series of strange and performanced true topioss all as they almost terror that they cannot be said, being struck at any thing. This theory there had not been so closely about. It was so manner whence their seeking in the same. We could not suffer of the whole thing which had thus\n",
      "little leap their barren and a half-curtained cellar and despair, and at least into the shadow of the consciful, wholly in objuity were nightmare of the masked as home. It is so sorrowful as a frequent and more start to them a sending of the canoe, and wide and sensible though throwing in monkey was about only a second ten of the body of the comfort of his way to several mass of marble carven presence. And though\n",
      "had tauthed a sure whities of speedily bulk of the architecture. I was not as I dresseled with a start of angles of monstrous things, we forgotten on the brig was supposed of the sea-caved from witnesses to the water...it seemed that the thing is the sounder party of the common corpse was a death which would so heavily the world, they stood, being something about the passage whose sunstony of those stones were not sure to thin hand. The men hesitated, and an allegard flashed frantically to the thicket with anybriade, and with any part of twenty-fireplace who had competed and took the black galleys that seemed to be surprised together. Sudden and a single belief in the same wing below why they could see them, soon as some of the same sort of some of these s\n"
     ]
    }
   ],
   "source": [
    "generated = sample(checkpoint, 50000, lstm_size, len(vocab), prime=\"The thing that should not be\",mode=mode)\n",
    "print(generated)"
   ]
  },
  {
   "cell_type": "code",
   "execution_count": 127,
   "metadata": {},
   "outputs": [
    {
     "name": "stdout",
     "output_type": "stream",
     "text": [
      "characters\n",
      "Tensor(\"rnn/transpose_1:0\", shape=(1, 1, 512), dtype=float32, device=/device:GPU:0)\n",
      "INFO:tensorflow:Restoring parameters from checkpoints/mcharacters_i19909_l512.ckpt\n",
      "THE THING THAT LURKS IN GUATEMALA CITY\n",
      "\n",
      "The Sea, was surviving at me to some death with a charcious object, and the sailors of the servants cautiously saw a flat of the main hills and the strain of a charring they are such as the professors, as if sometimes an electric torch. The police, is a sentient,\n",
      "with the profoundest, and a significan monstrous civilize on the bodies of the hill that turneled, antedilactic starting their secrecy who had chest two thousand of the hills and converse in a mumber of despair and cloudy but old tonguing it would be as the story of the point of the ship and the muscy to a dozens of the high primal scattered steeples in the terrible chandelier where at their house the clouds to a devoid of sight on the box.\n",
      "There ceased to sense on entities of the three stones and steps, whither that other world of these sides. That now they cannot see a confinity of the summit-stronger, but we could not but the tenant of the company. I had taken a short of many minutes around and decided, and that, after a little way at that family and horrors of some of the cloudy silvery of the clocks belonging. Issedily, and mysteriously arranged the stairs and column of solution, and trader of the more than another, and they shall never see. But they were soon firmlated a musclu and the monarch of the passage as if so strengtheness, but we had been an application of mankind came upon a studies of cats at the tension of those who did not live and the southward of those trees, and with an entry, the farmhouse wit in a faint to crowd.\n",
      "     All they are now a mile to the flight which seemed to recutt home in and to be a common terrible tendency. The sun as where we\n",
      "concluded of secrecy and acceusion of the poler triumphan, and it seems to be as though they were terrible of them watching the window. Well, in order to take it through the crowds to those whole articles of the mouldering window who with the sea with their city with the steps and the mouldering open toward this tiger.aly lightning show to the town, and the comfort were the strangers with some drag a certain silence to the window and chin at our stricteness. One might have been madensome in a silken finger, as the cheerfulness of the moon, and the wind through the carven cave and stona towered above the strangers. Of the mournal shadows and pipings were supplied. And who have a feature of the wild farmers with the coming they all the shock of the glow of the diagon of the dark. A period was also born and police; and they were too double--the traveller was taken, and which the wonders of the chief seemed to countless thousands of thes lightest sounds and stares to strike a signal in a strong place at the circumstances in all disturbance where the thing was the waving of a countenance the marbrest of the creaking. At length I would some first failed. It would have been, was the sounds. A pitchily tradition was the well-known and a sensible, but the terror and attempt all the tenth came of the huge curve tower than this terrible fantastic corresponding, too, which had beem too late. In this meantime was a shade that. I transportained the solution at time in accord to my soul; and with a sort of mysterious portion of it. It was never for the formula on the faces. It was necessary.\n",
      "\n",
      "\"There are madness to shut me if I do so mutter as I commenced to speak in the man, and had been moved in my fear of heed of\n",
      "an angel that I had taken a last of some of which he had some anciently roumer to the last of all distant statement of the chimney at hid.\" He said in the side of his spectrum. But, he added, however, with many sentiments, which hung bringships traces of a marvel but a fearful obseable statue, and at another in all that moments assuming to the surrounging abnormal place. The white creatures, as if another heart of all six hours at the\n",
      "short country at least so situated that it would not have been seen and set on his first time, and the mad origin of his morning he was above the pre-range at the street, and was not a sort of a ship. The winds waited him immoved to\n",
      "the sense of the close by one of them talked over the rock, bearing which the gale of the shore he had sent to the polished reasonable stairs above the things about to an antique corner of motionless feet; but, at least not fit too men. The shelves, the solemn all mind he saw all the town was a man of ancient and species; through the countless mouth of\n",
      "them. All through the canoes were all that old boat-heined shock and steady tones that were stepped out to something. At\n",
      "long thing that might shew him a sense of stone attacked from a deep and singular cities; but his fact went out that the flame of thorough wall to the chasm intensively out of the street. There was now and that the shadowy room was not a mile where they could scarcely be such a thousand towers of the dreamer of temperists who should have differently been a stupon of stone and all the wells, and twisted and some of these which through the stark through the great river, black arms or substantiality that seclured the tempest of the trace of the colors and the stars and colonial country and the downward stai wall in the cold companian serious rest of any company at any cases which the sort of songs were another of the supern excessive city and strengthened feet its folly under an effect whose city seemed all that at least two other abnormallying and patched on, whils it was straight in this place about any destinaty and antiquarian whine that treatment of the planet was only the course of them whilst the line of lumbers, almost to say of a clear sigh, terrible settle by the stones in the course of that farther, and tora of all human backs are too much aside. Before the trees still behind the similar chains towered and drap in the stones that the door- and the strain of the terrical couphers as they could see it to have been soon a summer and some simultanic chimeen, but it was only a frain below that subterrene singular shapeless thousands of the handkerchief and the chasm tyget and attacked to the precise scenes on their\n",
      "horizon of monorable thing which happened to me while a few steps, when hands the some of the place, and the consequence of leng it is no chance in the most penetrating the outside of the party of their ancestor of more than\n",
      "that the moon, and the deeper window what had happened to be diminished when he hadnessed that he was to have a solar shape, for some of these till trained arts\n",
      "and crawling hills whom his stock heart and there and an incised sunset citizen and still room there were still creative and\n",
      "offensing that which the stars, but some creature seemed to steal a ladies of the sea of dresses they would so many partist in the staining of the cry as a morbid brook and commanded by the concepture at the tower.\n",
      "\n",
      "    The second and space touched, it was not only by accent of the sun who could have suspected to another trail before me,tion. That was at all convulsing the whole madman at all.\n",
      "\n",
      "The room was so freshever, for the bottle the college were not there,abolity was a character of the way. When the first words was a minute second on the falls of sea as to believe they so strong as an interest, turn only through all the supernal grey sealed series of solitude, and shingless sprang all of the course is to the road. His sensitive dead, and a mile or fourth seal and peculiarly impossible seemed to be stirred from our progressive. It was to make my soul, any of the monstrous patient was to be supposed to be as an evident patience which the parts of all the wide-prints of abnormally fancies that the seat, had been seen by suppressed and fifty stone shapes in some miles of features. This churchesion were at once, and were not long antarctical, and in a death of the absence of the plan of murderous singular powers—a large basalt company of doorways, and a man who has still beheld the sand- which was not to look; this frozen carpets were now straining their measurement. It was now as the prodigious and mosage and ships only one more than the crawling commutination of these terms, and although hidden without dark shadow of any other transportalnets, they superior a pleasa tower.\n",
      "     I was completed that any of these things in the door behind their practices increased. In the sea, a confined city of seamen as to be read in the morning when the trap-door was a single, so decided that I was too murdered the cold stood on the blue cataclysmecting shadowy panes.\n",
      "     I have sure that it was now\n",
      "darker to their chambers that have transcended all these frail so torn to starter, when the surfaces heaven and stories that were taking with branches, and trials of the stars were at their foreign-cavities which had been seen in any other peaks in which they were\n",
      "precipices. And in one morning the marriage at the past was an absolunt of a strain and the most calculating the walls and translet, and a golden station strength to cover the right hands and that which they heard the sands. The windows had not been the whisperer of the steps, and is a seemingly silver, and, with our articles too, and that had taught me from sound was sentiently in a frost. They all aggrew was she dared nettled in the manner of dream. The wide spectrals as the shrill brush of a mountain clothes, hands, to the carving towers and the danger of\n",
      "the head and he say. At the street of ten ferret, so still too muscles with mossy bodies, and too lare off into my hand. It must be something to do with the story of the struggles of her construction of the position of this again. At this treasure in which I have nothing to be seen, in the path of it will believe that I had still laid about it to be destroyed as an influence which the surprisingly regular sides of the preconders, and the second time in this period of the stour and the stone, which he had seen their condition into his commanders.\n",
      "\n",
      "The rich was an incerning of the water at the miles of a sentence into the stairs and hopelessness and tallered, and\n",
      "their powerful sounds were still, blasting together, with some strope to a shalt reading trouble. At length through this porten sunk to my rate, and set up as any comprehensible power on my friend, but it was not succeeded, and though, having been at once to this engling and moving,\n",
      "and I wanted to hangle the morning at the struggle of the death--would they had a matter all over his careform. The sixteenth deceased attained and dispeluted in the countryside, and throwing hands of a surprisingly short care. In the country where their\n",
      "heads sane to taste nervousness to see it...in the first past and much tread at all in the articles of the days and the substantade, too, at sending, when I still have thought of the surface of the miner and the design of his, and the carry ascending of the strange, and through a shrenk wharf and went simplified with the sea-born.\n",
      "     And when the thousand side with me the same partial real days where they moulded me to speak.\n",
      "     There was still strings, but the waves were always a great door, and then the drame of the dreary stones of the way to a certain town into the dinings which I can he naturally done any connected tread of southeast, and that it was a chimney that the most sun he held i to speak the black silence of hours which had been covered. The man was so stringing and windows, and their courtessed sight on the sea should be a shriek bushes; the shelves had been a shelter fearful in the dark side of ting through the door. And this in the dirty crawl were closed through the dreamland and humming and carelessly that a chance to caught a stone place where the three of the hold of the hints on the tongue increased and there, so that the shined shots of stone and their servant trades and clouds were able to place them to say; a steep station which had stretched for superstitio and all the seconds of the carven feet, and was possible. And was the ground where the same tinkless flights when the strokes above the things whisperingly suggested. It was, indeed, is notes and attention which the closed mental arched laboratory, the dominant beach whose evenings were to be so carefully brickstored and pale with a both or air.\n",
      "\n",
      "An influence in the continity\n",
      "of the case of his father in the city of artists.\n",
      "\n",
      "While the present descent of this, there was, indeed, was to read it, is sure that to say that the crew of the case, however, we consed of in a space to distinguish a passiving the cabin, and a second assassinated stones and a closen material of surpositious secrets to a masorre of strange left-hours, they were of the common who dared not belong to the prisoner.\n",
      "\n",
      "I had better confired a considerable fear, which were all surely tested, to show this terrible altar, an incornering desert, I say, is, in most strangeness of the pure and mortal build and struck themselves, and alterating for a few ordinary significance, and we should not be set in complicated astonishment, to break to such things at all—this time, alive and chant of some pendulum its surriet and except to say in the commentary and simple tow of one trace of the sea. It was always a singular signitive and under centre of sound, till he was than any of the point of my fancieus, than a sound. I have seen shorter than any torn off the cracked chaos of the place on the same timale to the patched wood of the sharp to the cemetery or those persons in the mass of the progress. And where they had no pointed significance of the stores on my fears in the cold and steady abandonment to say, in the most drowsing of the historical ancient arms and decomposition, and was to say in the sub-cellar; as if interpated by the most particular and so delightfully aroused itself with the centre of the considerible familiar things which convinced his studies were caught, and seemed to find it in a course which made him to discourse, where their mattresses, that its peculiar study of some of these crumbling story and tributes, and the paper itself, that they hid toward the trees arose as their attendants and periods and cargo, which had a colour was still all with the stone. As we were forbidden, though and fires of two small bridges of submerged conditions, we seemed to catch the crew. At the thought of mankind, however, they have been; followed the books, are tolly descried the blackened bands, with\n",
      "a season and specialists of the shades of fifty cast, and of that colossal floor was not as to that apparing which we had caught them, and in my own countenance was, though I could hardly surpose that the solu of that part of the time the shadowy ruins to an expressiveness and shocking articles, the sea of dreams are not a violent element of similar and uniform. I saw that the shewing women sailed to the creatures with a sight which seemed to be failed to be altogether into the way. They were all every case,\n",
      "and at once told the place was a sort\n",
      "on the body of some other ascensible season to see walking from that sight which we certainly resumed my way; and the same stream on the side of the walls of the chief mat about the sea outer way, blinding rightly on the stairs of the sea-boat as they came, and the lonely and speechless force the strains of an uneasy and merchants in the stone chimney and staggering to a strangely silent rou ner length. On the conscious ruin of respinal folk a series of death and all mental place in the stalks of the traders which set three steps, and the ghasts had been at the paper with the sea, and so structured the stones of more solid rooms that were above the trackled brick walls. And the fire he fled the way which was suffired in the safety, and then suddenly, and there, at the same thing on the corner, a callmon of an instrument that he had so minds, and seed they are through the walls of the surface of their singular and uneasy for the saffarers. I had a stared in a living companion stared, before this house was probably to see in the music of the\n",
      "foul of any desertion. The paralysis of such strangs, the strange colosyal concentriated cult, and with a column of frozen.\n",
      "\n",
      "    At timid the period of the most inconsequent to be talking of many as a correspondence of the present distance. There were many particuns from the second strics of some of the first supernature were thoroughly dogs. As if in some manner, the points are still to a soul over the river in the distance of the southern possible depth to the strength which the walls of this prints of the many polic confirmation of the choked dancer into the proportion, or\n",
      "throat. And a white spiry of the words with all second conditions, by means of the party on the same time, as a service of two honest idea which cursed it the sea, bulging around the bottom in the foot of the dream of the crushed- and there was no more or lean by the forecastle of torches. The croaking of\n",
      "the crazy waves were solemn and the clearly task of our senses, when the moon was night to strike the sandstones, but that we were seen,\n",
      "      There have breddhed, who stay, waste till something were so far beside a search for shuddly in the same, burst for\n",
      "some darkness. Then I\n",
      "was careful or all that was there was somewhat left about an entities on the window will seem to laugh out. They came again in the cases always along the wall of the directions. The star-secondary shede, and there was surpassed of all the circumstances and the shock of the start which wondered how it is one of the towns and delucting things, seated at once that the climbed specimen was a great distant shoulders of strange tribus of a state of dark sky. There was succeeded about the principle. It was that about the more than those who doubted them as a small tavern, but all all the passage tranelled by one who for some hour, with several matches and crossings to these things in a peaked silent and paper which made our provists as if we were all better, though a person sought to ascompital that they had all seen their failures were an odour as headlong as a man of ancient crowd and taste. They arose a mad Arab Aby ancient Coming—or the corpse in which he had been such times whose cavern was thrown the sea. The twalish hungry stage of desprice into a shadow, beyond desperate and several mansions and torture in which they held many cases were of a few secondariousness, by which were formed the propishment of another parchment among the matter of a chill organised and mistakes, and some day was any trance, but a sinister man seemed perhaps the first thatmed staterooms with imagination, and the stone pass on the crowd, and they sought that had seemed to resist it on the place, and it was all, of an abandoned whole considerable chairs, by the churchyard path and chimneys in the surface of those somewhat reality—that they had become a station of anyone was of mountain-possessation, whose significant letters, the mental area of a friend in the description of the principle of all the subsequent depths of mentality.\n",
      "     We had sente and the most distant walls of my creatures are about them out of the sensationalist.\n",
      "     The army of those walls, half-struggler weight of strange and unearthenance or constroring tentacles, and the downward sheet, and impassable figured toward their source of sights where stillness were crowded on the bacches and the strange air of a courtyard broodic and unintargeness which had still rested undoubtedly in the mourtile flame; told me whose sound of the sunset care to the least perplexity of the abyss to the surface, were several torn on, and they were of anything elsewhere. And it was standing all things of these things and mansion with an inconceivable silently fangs; since he were of such a consciousness than who had a solding of the flowers which was now strange to trying that the countenance of this time, asked me to the largest into the circuit of the cold and disagreeable a manner, but the floor with which this time had not been in simplications on the flooded floor, where the secretive substitution was almost surprised to traverse the walls of the place with which the continentiate were secured in this personal assemplable thing that sufficed a few works to clearly straight in station. When the far mortulus was about the castle of all time, to serve hitherto, and as the sight-head will be one of the thinners, an evening. This was in a street with the more strange thin, and a legion of traversing convulsive arch were abruptly about that the commic abour to another, and the correlative must having seen it by the straign of travellers to the rope. Wilder backwing and some fairly stream were to be thorough though to stone from the carpet at the contemplation of the clothing of the crest and provisions. This many states missing. All attendants of the more than end was all the transferring sounds of the peasants. And then we surpedled for a titles and there. The shell whispered somewhere before me whilst and the climbing of the\n",
      "water show in the method of hidden chambers; and that he would have supposed to recover in a certain throat of the stone watching blasted forests. In those we may have been anyone with the steadies. With the tables went timidly to suppose the soul, and whose corpse, although I sent it, and then they were the mists of the most\n",
      "pardon, but I do not tell me that the summer of the shore also securely seen, for the murder is not a stumbling about it. To this masonry and the short stationer stood on her. Then they must have had silent. I hope to send the breast. If I was standing in a case of me with all my fangs and curiosity and started, and to acquire to the long ago to the shadow of my head. The dance were any case where steep gods and the caves of misty sense of seventeenth, and then suffrest stronger, and wondered worst of all the ship was so situated. It was, I say the period of the cry of the man and on my dammel of a second startling abyss. I had said that the time were succeeded by the chamber which his fear of the chased form of the crew was\n",
      "not a foremast, and I had becoming exactly a small speckabl thrust any ration. I shall be already there with steerness and sense of sound from the men who had struck at the moon of the crag he had stand. We had been suffered into a strange particular partical plateau. I think of what I saw a little in a world.\n",
      "     The charmed garden of the white statue was seated by a bad state of subjects and ancestors which may be told me to me.\n",
      "     It were these manner. When I had to be a great pollitid figure of time.\n",
      "     It was now secured.\n",
      "     It was all the whole or thin shelves, but all the words was fallen at my ears. A soming alone in the dark antarctic light which had been the sea to the distance of a doctor.\n",
      "     Though it was there are strange, but at least\n",
      "no longer asked them as a small storeroom with a frantic laughing spring which started the truth of the same white breath and drawn an entrunt of the sea.\n",
      "     As we came to him, we were could be, but what thinking of heavings are assemble as the place of the shantak-past of the human and formation. Three of two as we did not reach the contegning of that shaff famity, that I had been tried to sat and struggled to see this party thoroughly carefully.\n",
      "     Of the sum-cave, was it a long settled face though this they had told me when they could be assumed to the left-house, and some street out of the batts of this plank there came at once, barely,\n",
      "waiting, with a careful carven city, and strange three or force in the castle beyond, and worse the soul or success of that only a portal of the mental cats on the friendly pallid beast and stranger.\n",
      "     “Why drawing anyone else, and went anomai, and will be the little garbating shruns he spoke with a search of heaven and say. It was all, to all my formulaer who would so had a means of strangers, and throughout, three humourest soul to stopped him into a distant passage there. I thought of an insinuation of my performered and-rock was there. Half his speech whose suports of this draw would be a pathway in the dest of the wall and a seek rather than of wind. And there was almost some temple.\n",
      "     The thing had a crag of sound of the street and displeased by the chamber was something which he could not have seen at the cord. I shambled the steam of tin himself and could not descend. It was the shadowy sent man was ceased for the winds as a small-box boarders and forcible sentinels, and white-framed and delusion which soon flowed a south to the walk of only time. Behind a police which had been to call upon that piercy thousand years ago. The colossal person were now and to spread a mile through all the southwest and their creeping and secrets of a substance that they did not remain its bed. That we had the sounded moonlight which I camel or within the morning. It was nearly a few seven desertion, but we came to sound from the window in the\n",
      "courtyard treasures was seen the common people which could not have commenced their persons. The clans sinkles links and more currents which he had stood back in such as he would have seen a complete corpse when the matter will now becoming sail together and found on the fields of a month and leaded only to the figure of he was the stranger.\n",
      "     The shore of a doorways shocked her at the side of a man of silence, and started to the hills. Severely things we chose he would step bale, wall to the\n",
      "surface if they say that this work out on the floor burns thoughtful against that stars and high primordic power to lie athabrit, was as well as the black side, staring the downt looking like a house, since those stiffered are newly found that the ghelant was, it was because it had been closed the witnesses of hands and trodled arms and an acristing when sounded and fewing an hour, an every monstrosity of the marked towers of the colour where so much of all the truth of men followed the polyrid class which he was so complexed in this side than the face of his down her habit of trees. The doctor was safe from the crest on those who have to be able to trace the pole in which the things had crossed the comfort of the ship, and throw out of the sheded she had sat a grim and starting of the commonest good on the lights of his half of the thing. The destroyers seemed uneforted in high attention was on the cavern of a black god. After that the shrieking one of the tidance, though not all the town, horrible, threw always at the common stones and the sheet and all their lefied home. It had been strangular and terrible tears of her surface. I will not did not recall that he had seen it. The beast lay an eason of that descending and his spice we was traced, burrowed by the fact in that condition. It must have seen it as a moss before the consideration of the procured time and climb before mouth all that of a subject; since the time was a sense of translation, and\n",
      "then shrieked with his father’s face, but a point a party\n",
      "of some surfound cores. This is an advantage of the whole trees which the steps we made it, and the state of the morbid schooner had turned on the collection the waters and thinner stood by the colossal footsteps. There was nameless, wareing a mischief and at all—the moundal sound came from the stupendous columns that could never before at the sea-bird, that a long cut of this strick with the companion of some point in the more days. After that it would be many thoughts and monstrously leganisms with a fair concrete world.\n",
      "There was a single shape that the tree, the constant arch there were nearly a series of thin steeple which was from some day by other parts the water wharves in the corpses, who had somehow shew himself, as if he was cleaned to the same time below the riggedihor of a steam of the sun on the crumbling bonnet wheezing on the steps, and the shoulders and then ships of traveling wings, while in the drag display on the college destroying of them.\n",
      "\n",
      "There happened that the mountains were not longer than the children of morning. I was thinking of the back to thad a colossion of the methods of my\n",
      "hand. The who longed was to the lifelong wall of the steeped and pilled by the sea, whilst they went out to the cheeks and the stone, and seemingly chin, and when the day on the same twild and filling all allusion and they stared in the day, the two walls of the mortulogers, and seemed not a legend from the boy when they spoke oft down to that lore on the lary whomy. In the corrysting walks of the water, where all humpture and columns of the day waved its state of the murderous foots are thorour. It\n",
      "was not a little or two\n",
      "or three orders of the hall by the same memories; but within a considered\n",
      "doorway in an admirable room. It\n",
      "was\n",
      "then that they could scarcely hurried himself and sometimes they crazly barely a sort of stages which the station saw in the centre of the house; and then an evenith of the side of the crude and more strange throne, and what was stood. That is the world’s fungous faces without search, a mountain of substance. As it has been canded too much about the whole son on that point of family. It was a thing what my clever mind was noticed with half-serving and more trees to set out a freely and foolish childish and misery which had seemed to stray a point of that ancient, a thing, silking and creature stood by my son to the formulae whose steps were thrust the correspondent of such pains. Any so day because it is near, and the merc tumbled reck and tall contents. An opening this mathematical perfect incredibodomencial scanning at the sailing and the most police who had seen there belief an enorable structure in the darkness, as if they are so solutely at the sorphilogous and soul of any stageanesses about the collussis overtave it and in the steep-pit on a few, but they had been come. The sight of the cliffs wert their articles.\n",
      "\n",
      "A few second and a disturbing tap of the main studyness, thanked him and despair it to serva, that I shuddered and stand out from a servener toward the riddle of the coming of the store. A little door will shewed him to be tremendous; and the shivering\n",
      "subtle part of them was the floor of the coustholy, and so far as part of the closes of the\n",
      "wild fever, we had to be conceived by the statemost of the massive mouth with an exceedingly short towns, and it is all the chest and our sensations of ever the presuma note and sharp collection of the diares would still have another personal planet. We were to tair the truth an earnest and indefinable chiest of the\n",
      "palpitation, with the cold whole whistled mountain of the stairs, but on this place was nothing, but were as the cataclysm came of the past surface impressions of the palace of a catastropical appare before the cryptic archesal. These consciousness and antiquarians seemed to begin so terrific effects to this destinotial appenda of the seventeenth, white and motion and trait on the farthermost at the mountain, the midst of outlines of expression.\n",
      "     In a fresh paralyzing transities of countless cryptical aperture we were so far as the soul which might be seen a certain preside to the luxed bedsteries through their studio in the account of the third.\n",
      "\n",
      "They were superstitiously and personal arms successing the wind, their folklore would be seen from outside or only a murdered personal fortune. They assumed the police and the creatures seemed to resolve an evil at once. I was that, and, after most acquantively with me, and was this, or that we were seen open into the subject, and was not all the whole thought, but with a certainly colase will apprehe beneath its sinister windowless stifred black colours of grimly, and our reserve and universes who had started themselves. Sometimes the sounds had been a plantered stories and shadowed dark calculating sounds in the cabin, and the crawling captain to a certain city of dreams there bound from some person. Impty, who crossed the danger while I come to such endeavour to so a complete city, and a great monastic parlook of subtrisition of the cry well-known to the soul assoried to a masked thronge between the thicket. That next tast-bearded and staggering conductor was standing the streets, and some stone stretched with greater necessary servants. Once I came up for a long sea to chest the peak of destroyer the whole as half a singularly abysmal construction of my friend in the\n",
      "centre on the same way. In a friend which I saw the sense of\n",
      "the same carefully fresh aspect that he had succulated by the week that is the posts of all hours and the countryside of a deep sensation of an interest and chanted books.\n",
      "     It was the chasm that was too much of the marshes and the sea where the time ought to help him in that fabulous and alliany mountains, and a little trouble or fancied whale, and he was no second a straggling and creature to stand streaming, and so far from the fourteenth of a fresh and more antiquarians and chimneys, but instead of the shock and the door able to spite her. There was still trees that was anciently and horrible at the plumping, which had become a sertation, and a strail, three or frightened stars and stona back against it from out. Then I was to a secret loom. I turned in more and stronger to me that the chasm the street, who had been caused his facure of his personage and thought as had all bulged along the window that it would stood a low bridges and clawing and an earnest later on the far power of the stalks of traditing the crowded. The sense of some of their fears was now all that seemed shot they wandered in one with strange terms they warned. In his place,\n",
      "also some secrctions of the cordia could be sure of the courtyard. The wild sense of the stone could have stubbert a cold westward thrown on the caves of the childhood, as it was not only a sharp consideration where the sea set out on the boarded mist of the case. And then there was a master worse and the shelter of subterrene.\n",
      "     In the time I was certainly they would sufte fresh the same care to be a point of few steep alien to those that he had never did not been in a few window in an individual to a dark party that the merchant of the more tenanted with a bearing sense of divinual, and then twenty years ago and say as the patients were stirred. As he had been the four head of the stones and the papers went out two of the summit. The presence of his spirit an odd sensations we had never before him. Was at all, to say this, however, and as to the same with so deep surprisingly side that we camp up troublesomely upon them. At the six of this time we ceaselessly discussed the stone bringing the clumsiat couples and tender above the centre of the substances along the trouble of the house, and when some terrible crush whispering work with these shediages that were followed to a menacing arched poilon crest while the sense of leaves who lived able to carried it; but at length die to break the flame of the mind heard an opposite sea-birth of the market to the sound of its brooding things and party. The fact that there were that world too muck, tales undenible thrice tree to composed out two monstrous archaic circles which had said harmlessly and then. And the sight of the same time the doctor and the strange moose and church said an excessive portal, in the discreping watch with the circumstances which shuddered at once in the doctor’s consuming way to this place to come to the prosecutious child of morning.\n",
      "     The people were all removed through the story. There are marvels assured me the wings were some of the moonlight of such cases and people whose sub-green sensations surprised that they are too drawn and sounds and all these weeds, and their commission as a canvas of struggle which we could not be often crossing is not that, in their own consequences of an advance to survey whom I called my wishes and disturbing the studded perforting to the countryside was attributed in the mould from what they were the clearness of the stricten side. The cataracters of the milk was at last off with the courtyard start to the drowsily; and though, at tangible section that the main raised man the men of the devil was passages of a greater peaks and a closely attic whirles and choked and plans, and the more than two men were tenantless.\n",
      "\n",
      "It was not sinking a significant occasionally ancient treasure, as were the sail of a somewhat rife of their fortune of the ancestors, to the seated family as a merminous stone stars, as if this who shall not tell of the professors than this way to save the past of the churches. I saw is the commutitious olive tale. At loss of the place impelled, as if in the singular corpse, a possibility to a service as to take of my feet around the flame of my own. The murderoor of the sense of the decaying chemical sources of the anticipation of the appearance, whose subterranean lights we found a far awain which were, and seeking to the struggler of our artists. In this time we could see the mortality in the darkness, and they have been torn of a famele at an ancestor.\n",
      "\n",
      "    The shocking species of the shifting structure of the strange and morbing this prayers and all that they saw the plantative and second terrible shrielity. The father of that fellows were troubled by the superiots were seen by the way about the same accuracy. The sea, the sea, ten thought that we had therefore burst of the match back, whose remarkabling organism, as in their secret loose truths with whom I had been able to strike the fangs and cats in many things.\n",
      "\n",
      "And thus astonished in my date and discovery of all months, in the cannibal motion of the seven city was the first time, and the crown conviction was some the ship, and was always such as hard than treading it a sort of a military person of something; for in these took me to serve it to the commetting and all dressed and shiver to the centre of these cases and three of the\n",
      "frame on the strange towers. A servant set it without a confinement, and then stared by the world dissolved to me in my figure on the marriage which had been doubted to take them when a series of connection to those of my friend when a series of commented foating and a few minutes and sunset aloft. The secret of a man or proposition we could not help him.\n",
      "\n",
      "And when they were not all three, and a lot of solemnly at the midst of the polianchian subsequent possibiloties that must have but touches, but then, if I could not be sure, waked, and we made my soul, as if hoping and a man of the sun hollow.\"\n",
      "\"Who did not return to the princess of the men on this access on the same sight of it. I have sufficient forth if I\n",
      "was so far, but it was that the men was to be the celect, or when the main between might be a multitude of this pleasarm is nearly the last of our speak, where it was the credulous soul-way and something, at a danter altogether aton the carve only a matter as I say to be managed, with a sudden strange substance at a presence of sorrowful cargo. It would have backed us in the accident of the casual passages. He was a motion, the courtedicular company of the deserted heavens. The whole of the sentence was struck them all over the whole conver a temple whose to assured him of ani had named, we were not little, with a child, will be made a counting of some probabilities on the frameway of the most sight, and, in the most drowned was in a dream. It was the chiefly dim end of the mercifest into which I have named the southeast, and saw that all the murderers who had seemed to hear and then a fragment of sound which had been, it made a sound itself to bourden the passage of many-steps and combinet to an absurd distussing of a madman of roll. These merges the gravest cryptically door was at once.\n",
      "     When he had sure sometimes included that he was not on account of those other than history to say that his whole positiveness, was a market at the third more in the face of his face. It was a strange and portion of my presence; and wore of all the wildness had an effort that I could not help things travelled, and I was think of this, and we were not so day, when I will be made me delayed, who had stopped it a letter in that\n",
      "first and sensity and stark that was now and tempted; but told-human height where the search was torrelled at her frantic stages than a loaded spectacular suggestive fragments of deeper than the stroke. This torch of the corpse-had beat hiding the beaten patches of the medical paths. He was now the will sand therhing was the only sea is night. Therthities of the dome of his shrinking heavens, he was still the strengthen and solid reckonings and conferenced with securely following and attemption of a counter-past to the flood to the stone on the shadows by which we had so far from the wood, and a few world of sunset city, and was forced to shew the shadowy light to the farth the corridor of his hideous thinking. It was so strange at this and all, and said the coroner of the tribes who have thrown about the private steeple togars. The consequence of truths had far from her antique celebrance where the seas of the cats say as the black silver knit well that they don’t hear the first terror in the moon, the thing that had a considerable staged clouds of the chamber which had confused to tell the warm rock-cup and his whole attempt to study their minds of the climb before, and so herbic that sort of a mental and master at this house at all daylight, and was almost searched on the brig often—the face offering the strange dreams of a little time because of the shaft slightly.\n",
      "     The spring of that catacombs seem the somewhere beneous that would be often the pleasure in the chair and the car and shall bear, and the weight winds are alone with a change in some lightning at the secret light to a discer table and a short shoulder, a positive speech which mistake, they were constantly, and the mental peculiar continents the sternest of the subject, were the summons of those wholly of the chests and shifting steps, but although the tomb text to the windowless paintered step out of the corner-lore as we turned out and come from the short palace of absences of sorrow-panes, and poison, and the true cult of any convictial corpse or tracks. Then the men of the stairs were the secret of some unknown. In this station they stayed at the lower time. They saw the thicket was attained of the second place, and as I shall not below me if it was a sombre-spirit when I saw it as the metal cases of every date, but then a shart thither a tenant of the wonder, some of the problem of doubt, and we should blow from the round of the summer in sight. At a short carving of the moon was chorus and the shelves into the cave with two or threw them in the storm. After a mind, I harm the choser in my fellow-fishermin was any more ancestral species, and a small period and terrible fitted and party of dark sides, and for many appealed frames and treatists, and where the seas with the ghouls and the stairs were sure that they were carved out of the gase, though though, as seemingly cure, that\n",
      "we said, and the survey of the creek and cryptic tongues off on the fireplace of many penguins, and the sea, too murmur together within the\n",
      "shadowy shot of the corridors of the striking.\n",
      "     As I have believed that I saw anything that was a collection; and to the waters were always stands and conversation for the character. Woods to busy imprimated; but the close archaise toward a centre of acute bathroom which was to be. And when the days of the shelf five of this temple had been still little insidious form of the hard and sort. But in distance when the shapes of my subsiter was a lightning with the stones of some stranger time, and it is so seriously than once in those form and driven in me, which when the penguin was not of this possession. Therefore was a part of the month. And the same moment of army was a simple feeling of a paid or dire by a mighty lock. The face of the care is not to trace one of the shore, but all of these and insane shadows were set out from. I think we were too land on to the cases of a strange surviving motor for many animals to sea and a seal of which we could not do it.\n",
      "     In this place the son that was never save all the world of this desire. I saw those of the stainless shoulder and then a street and carryally filled in half in the servant, as it seemed to be able to suppose their polish abnormalities at all. And when I thought he thought there are temporary steps and the castle, but they had through the great street with an alien finger. In these things was they are strange through the stranger so long above the stars, the grim and chise on the flame of time to the stairs on that staircase at the consciousness and the sense of the teeth of the trees. Horror the chances of a more settling sound whose district was strangely reached that the corner which he had never been able to command into the steast which curts the grave would be no strange plateau and attended in the dark and a stage of the forest in the sight. These singular lips over the point was to be all solemn into the wilderness of the hideous shore, and seemed to be some supplie about a spectator, while in the matter of the medical sun was about it, and which we had tracked the sought angle, and the mountain church the common poler to them the comfort on the stroke of three stones in the censer. Its supplies of damp ent in a fancies of stones were about fine figure, were no last consequences, though the papers of the sights ought to stopping boldly at the cold, which the college standing set to the substance which must be as about their own security, and the stricken controllation and shots of the surface. The substances were taken blue eyes. Those others seemed to be the same. We had always seen it, beating and sense of dreams; and after that the flood sent it to the crying with the most disturbing bleak friendly thoughts, and was a starting place which was an unknowing. In another coming, this trace of more train had to be anongouth as a few difference. All this is off from my fear, I saw him there were almost surveyers and chairs a point our supper into the staircase which shewed a galler of the fireplace. The document was to be the cold widnight, and was always thorough, and the mist took most of the second and stealthily and fragments, where the meant had been told the party of the mountains of sunk. He still lunched against his search of\n",
      "an obvious article of filoused specific man or silence. There would seem no consummating the back while the\n",
      "scream were about only a monstrous thing. There is this supply from my own portrayers who sat down the chill offices or surviving thick apparently fassion in the same period, and the sound are the operation of the masquerade. But as the claw is conceives, were acted the solid staircase of\n",
      "that their city of the cult. There was no message and the woman, and when I will tell you will still have excited me. How drawing the beginning of a fine effort that I had never been able to supern the surface of the way through such and forebode the whole torch and the completely setting powers of the same triporous secrets. The fact is, as well as to claim. As I think, and to be forgotten. The shadows were too lately an attitude. They would have frequently ready to be so characteristical, whilst of all thoughts in the articles of the shakers within his species. In a moment we heard. He spoke often the most divine men all the most deaths which she was able to stepp him from that one-dark. It was now said, the whole chin stony charge whose hands shook as they were common, but the moon shall have been so close to the wonder and space. As it was the sound of the cabin, a conference in water time, an interest instrument, and a series of strangely raise from an acristic chamber of a palazorous direction of captured chamber and contents the same time in the distance an intimate horror at\n",
      "an accuracy and attempts and tradition one that was secretly chanting the weeks which such a managing and a mere carrying cruelling stare, a leanehon, as I cannot be disturbed. We were, there could not have been traversed into any of those days of the consummed old bushes, and watched feared, and the memory of house are thinking, but the sound of the moonlight who lay surprised by a pertoral and second to be another so to add to a moment to allow a single whole other artists, though a first thing the gate to be so strangely southward against the ruined bone and an unknown place that shone through a could see what the temple of the shore in the centrinate devachea. And all that we had a very fail to carry all our\n",
      "silence and sent to them and therefore the more horrible times of the companions which had such sections intense that shewn a little wall which the ghoulish stone beings had seems to bear away from the caves of the ground. Our\n",
      "simples said within, settled tapestrous in a certain other planetas. That it was not the severe child of\n",
      "the case which we feared to anticipate with the place where the searchlight time he said, without all over his face which settled into the seventy of\n",
      "the hall.\n",
      "\n",
      "It was that this convuctation to wholesied at the tomb whose darkness seemed to remary. The close one of his shoulders was to the start.\n",
      "     When a common spasm of five years began to consun, by this three old descendants were struggling to him and then to be frightfully atmosphere. Hardy family, and stood searching to the strange casts and constant as the walks taken to them to the stone oppressive things. He continued to be the preceding. It was almost enough to have alone, but, after a large, following tha lined terribarism and see in the dreams of the palaces. The fellow had been a little to the south of in that platter.\n",
      "\n",
      "\"Ah, yes, at a single altar and although I cannoat as I have been a party of that accusatoly light of my possession. The front door was of a moment, the least travel that want in the middle of my heart to the \n"
     ]
    }
   ],
   "source": [
    "generated = sample(checkpoint, 50000, lstm_size, len(vocab), prime=\"THE THING THAT LURKS IN GUATEMALA CITY\\n\\n\",mode=mode)\n",
    "print(generated)"
   ]
  },
  {
   "cell_type": "code",
   "execution_count": 128,
   "metadata": {},
   "outputs": [
    {
     "name": "stdout",
     "output_type": "stream",
     "text": [
      "characters\n",
      "Tensor(\"rnn/transpose_1:0\", shape=(1, 1, 512), dtype=float32, device=/device:GPU:0)\n",
      "INFO:tensorflow:Restoring parameters from checkpoints/mcharacters_i19909_l512.ckpt\n",
      "THE NIGHTMARE IN GUATEMALA CITY\n",
      "\n",
      "I heard these any one came the southern curious shining section, and there was not any other tilters to the point in their own cliffs. The storm showed that she could recollect any case; only the change in the side when I could see it another side. His family had set in the heart and some of the candle, and that the forests he had never seen it. And the more I saw him to say the top which we suppose, so as to contain himself and shapeless discoveries. There would have been so far away. It should not help think, though is to descend, and was sure that the single seaman could not span. It was thing to be an event on the floor.\n",
      "\n",
      "A strange seaman was seen only that the sea of man was, a little boyhhood was from the shocking servants; till he holding it\n",
      "as the man to hold ourselves into the walls and the sensitiveness of human fear and dim remains than that the shifting floor of the car as a consciously left strange times\n",
      "though into the same thing of town the table, and the whomeo of that sharps was searched- all to the trouble over any distant sparkleton. This, too, higher the shrieks of her head and the damnable carvings of the creeping souls inscription, and what she held our dreams were not long dramatically to the power, and having shewed a familiar sorrow browery far belief that the sea, all the chains of the sheets were around his completion. The thing in his claws and spaces of a short city to the party at night and spoke. I considered that they had not been taking to his frightened men or seat and close before the same materiality and almost interlock, wondered it. There was,\n",
      "nevertheless all hopping and stones—while I have night a chris and studies and delirious.\n",
      "     I shall never know of the pleasuring trees, was all the straits in them. They stalked and thence that the continuingly westward sheer some surrounding time.\n",
      "     It spoke of the mind, terrible a sight, talking for silver six hours and through the boat.\n",
      "     I wants\n",
      "deliberately a shroud dead wholly on his distant realms, and the comminged monstrosity had been carefully abror to crumble off, and that which though he can have said, by the chanted castle which we had to hear any of the party of the mental and metal. I saw, it souls to talk with the family past memory, but held the crass were all the stairs, set more stories and distinction which had been somewhat about the pale facts of the place; the dark chain and taster of abarnants; but those performed and fingers had been taken and sat after the chance or secrecy at the chase of the country of the stars with terror, being always to be sent for the first curious, sights and\n",
      "places that were abour to trace it, a colored death of the shock which will staye the true whistler was fountains or candles; and when he seemed to resound him. In the flame of stone had allow his\n",
      "bosom. He was to think of all tracks, the walls of the summits sent his capture and harrowing speech with such cases where the sensations would see him; and the larger soul had a closely sterniths whenever me that I could scarcely have bands up at the story, ought to be taken to him. I took placid his position incredibly, but which had come up an artist as they were set out to a softery, so that I came up the shots of the murdless appearance; but it had been changed to such a careful cry with the sea when his penguin is the late and more than the first supposed companions anticapes that the sun shouldn’t some carved thinness and contained back as a man’s shadow and so a stone brush to an authority—that it is taken in a comfortable poign, though nothing of those strongerst sculptures were still large and three of them that a struggle from the growth of the constant and pensions which we stopped out at all, but of course he could stand and around the\n",
      "winds. Till his stone was still, and trying near to a carrying cloud of face, and who had a rigger than a minute, was along the windows and chiefly and somith surpassing horrors and soul in at once in\n",
      "with the sea steepened altogether to a dream-shadowed deep and all the matter. The dangers were new placidal farther and silent and sheltering, and was a street from a loash except wherein what they call toward the forest the closed conscious seat of that open rocks. At labor to\n",
      "the tangled and terraces with sixty of organ to save hours, a curious serus outside to the sane. They had almost seen the table. But a morbidly shelf was to stealth. Other characters was not told him to the lower port for him. It seemed a perfect police and antique bath of the shadows of the strange crouched cottage where the carven cavern, should rise to a short and penetrated, and the west and dim light as himself in the cave with the steep rider and talked so that the sides that seemed to his package, struggling buildings and colossion whose district was an idea in their own sea with what was intensely terrible to that official prayer as\n",
      "the studded graveyard on the terrible churchyard thing. So incredible there, all only a strong vacant roof to say who threw us thrown out of his commotion, with their background of the clouds who says he had never did not suggest even through the barry wind.\n",
      "\n",
      "THE MORTRE SADAONA. ATHONT OND HAROT ROE DOUSHITE OF MES IIMANG OF THE MESMES •IM THE OLD OF THE SAUNONATHOR.O HOUND AT\n",
      "THE MOUSE OF THE MARLE\n",
      "\n",
      "THE MAS \n",
      "THE DOOR COMTOR\n",
      "\n",
      "We have told, who could start, and the sailors had been a sound and their contents through the colors of our senses, and the multitudinacy, thail sealed the same moment at the tower, and the drunken stone window, there will be often beauving to the chest. And thus sometimes still behold the sand of his wife.\n",
      "     “All that I am send it and was too much leaped one of horreher, the whole three damp ground it had been sufficiently sent for some table. Then they was only the tree or flashes; but there were so dreadful things, whose shaff that was the greater material flagonial and tablet where the stony slept stood out from their head of those town. A sea the telephone stairs told out the sea, and a look which I have talked on a long time that see the great sign of this history, but which was noticed that the whole time seemed to be the seat and the steady rumors of my closs as weel to say. It was the solar tupped, and saw that they were comfortatingly about one to cattish and a few of the more difficulty that we have a precipitation the peculiar primal passage, though with a better depths of stone walls, which had been carefully appear. And its truths ares upon one so called the cavernous city. The stall of two or three discourses,\n",
      "heaping on the town for the case of the historical distance a secret lamplain with a fact, and to success that a choking second strange direction of the story of the masts and shadow to solly set on a breting and transladation and survival to the top, the sounds were not so many thoroughly travelled by the same treasure. They had been the face of the closed city and that time where they had been a mistinguished from the concluded book into a course and the somewhat pale and straight long beckos from the strain of trees whose tracks were set out, we had sailed all the tidal and shore and charge of commutication, as they were at our condition, the closent of the\n",
      "chief our crits and their statuments of some carving-place, and there began so far to send more of the chasm which had turning through indesigned and discolor and morbid columns of stroll. It was to them were a course of them. They had true the conclusion that heard of the deserted and trees that was that of a glow from which I should send a sort of absence, and the same momentor, a cautio older by a faint timalable-shadowed scheme in the case, and there is so lands, and the murder of the conditions, and the water raised at the pallid stone of the cat was come to some other that I had never sented the trees, and as it would have to do along it as I had. I had not seen his husband and sent trains for the man took any strength, and sent as we could not be done. It made his studies and desolations of truth who were makers, and at length himself there were signs of the supposition of the crashing of the start in the foresas of the cordiasy and shrewdly and ship. The shape of the streets of the third dogs are allows, and the source of that of them wants. We saw, lettingling-gracately and army of things above him the last outlines would leap through the sort of the houed that’s. Any of that cat, as I have set the sea with the mission where, of course. With all they say nothing on this thing that had thus thought we shunned the whole tasked spirit, where a straight as we walked, and the words to what to break their chimneys and controls and solid throats and spirits in the summit-side, shewing a longing of the sunking. They were the man without the shockiness of a consequent citizen of teleproucher. The corridor and the seniored strange cold specimens were not stiff based. And to be seemingly shew was the foot of age into the cabin before, but it had been a mile, and almost cured only one thing and carried a party of the cliff.\n",
      "\n",
      "I had at first sense that the chambers were as to carry the leaden sense as the study of those who say that alarmant which\n",
      "made out to meeting the suprising and a subtle, somewise of which he could have doubt all at once more true, as to bring mostly as the surface was such for the marshy of mystery in his dead little brains of sun and members of the particular perceptible chased degree of the perfuming bands. The southwest of a candle at the sanety in significance of the chain, which had atmosphere of the castle for the former seclusion of mysterious testimonies, and at the supe men were thrown, but in conceivable things wind in the application of the approach of the midst of the conversations and a harnatural crudiney of simple hope, or, implicit not met wholly above some trace of the metraristic cases. That which they were that of the sole point in most of the most delicate position.\n",
      "\n",
      "And the face of a masonry of things would be survived.\n",
      "\n",
      "    We saw that the man was struck and dreamed at the seventeenth and endeavor continually fairly attends. As the chamber was thrown over the roots, and to the state of the horizon. I think it seemed to be a gong from the sea with whicheong were not a conversation on the state of my first counteingeness at all the sun which the portion of the same contrary to the conversation. Allen to the pleasure of its descent of those of the party below them to see what their surgical churchys, where the men were never before, and we could\n",
      "not be decided at my superior third to the sole and acute trees, and, as we saw that there was a mad ancient and a sensational feet and send from the colors which sought their mass which something would be determined to power that I shought have been able to cover a few of the strange and assistance of months behind that an end of the cabin and into the same channel of months which somewhat survived for the cry of an enormous subterranean sun of tiny bulgness. The polichers had notes and there is not sometimes by which the condition their continued tales of the complete sculpture, and took only the power of any one of them a sole of bed, and woodless traditions were so clear the places of a sign on the strain of a senior dream. The six of his stone being there be no steps, and we seemed to stand the sea, stamping and a silence which they were suddenly about\n",
      "us an arms for that of the secret of the carpet, though they were, on the throat which had seemed near themselves in column of which the walls were an earth and fatigue of frogger and trips at once and trembles and distantly ascended from this day a distance, though no doubt that it was almost in alcoves and as the mercy of the door behind myself; and if not trying to be the last things at length, that they decidly receive one another which, to the pressure of this discomfirm, and overtaker his solarm and ancient stream of a frankly days and speculations of the cold stone curious and antique, which is the primal man or the convolute and instinct from their poison or power of the archway of, and too much as I hadn’t sure within them. To say now the sea about the terrible planned workmen they went over the whole assisted chambers. At the tipes of the higher door was a general thing that came to the world, and I shall not have the brains of the close of the high abandoned sight of a million years; and the tree were consciousness. West had brought ablore or sightless troubled spirits in the mainstic off this; but in these man would hide a following deciphering of that shore. How clothes were almost as to despair. As they were all the character of that place into the darkness, where they did not seemed call off this which had been all a picture to set it; but when a sudden reason we haste thou had been a less order to those of the sea.\n",
      "     The church which the proper mouth will be the source of the door, they had bettered the cold witchcraft from a seat the cliffs and the table at the centre of the crushed and torrential tenantries of an extension. This was not a vital block whose eye of sorrow and terrors at once, the shape and the steeped house at the tomb of the traveller’s field out of the carpet where the chasms and malign pain and crystal walls of malice. And it was a considerage white strange crying as terminated with an evil signific sort of things. These also seemed the chamber we had already. He saw that, the muskets, and, from the tertar section the stronger arched spectacle, and a going to the shelf over to the former one, and with men had attained barred on the back walls of the ground, but had no motion of my frightful strength or finally throwing from my hands, and the waving three sudden rumours of this patch of terror was the fresh policy of the shrub which could so far as the bright gargoyle of secrecs of all discolourably certain streams and a shrilling opin and actual state of carven forms and a desperate friend of this time. At last I cominged, a significance where the season of the prisent of a farther thing was tranquilly, but at a door of my own passages to be a secret one of the shock and the start at the burrow of the strangely recesses which had been closely to be described. It was a man of simile with an account. The prisome destruction of the shocking was steal, and struggling in a chandelier instruction.\n",
      "\n",
      "There was an antique certain course is not the pre-humanity as we had not supplored, its seats, and\n",
      "the memories of evening from the day at length ir at last, and that the companionship of human results with this summer with their foot of the contoned wind.\n",
      "     We had not such which the songs and mass and spectaces were stupendous bending along their search. They were stifled by any signs and a second place in the sea with the same time and the partial chanting from the river, and wandered in a monster, a peril, although at the top to short and arrangements and stared fiends are one and the senses of the columns on the shrieking of their four channels to the sunlight, to be a pasture and sound and dark above, but wouldn't set along the cold, so that an old child, though not to be divert intelligent in my studies and all tracks. Having should be no more than a certain principle in a sight of some pleasure, and at thatopies of mountainous canation was perfectly suspicions to soon arouse any set out, and\n",
      "with hide or some porer, that, of course, in that secret or trace of this dry wall seemed steadily descended in the mortal and metal castle of thin and all the companion, and there was\n",
      "only where we had anotherend and draw of some distressing strange stench with the sea stated to be discounted by our four head and an absorbing panic than as they collapsed as he clung to the subterrene shipped structure. The distant spicious motion on this planet where they had seen and consequently seen and displayed the doors.\n",
      "     The ship had been the sand, when, had been all these ancient fathoms were spaced. In the first of the place in the coming or end with sound or closed stones, which were taking the russe of an acrid officers. Heless, that which was some signal or stars of the most part of the colonial room which had talked on the floor. When I stared and speculated that his way at last, at two or time the least step, as it was the safety sight of such an opposition. It was a single breath, a strange and plan while the ship had come to the window of my hand, and when the chains there was never again behold, for transprouched the black wat farther and set aloud with a possible patch, would some account for him. In a sound, a castle, silkingular formed on a strange personal surviving sounds as those who stood away into the stupendous signal to connect and forgive in at other and unhallowed will, we had noticed at the channel of the cord of such treasuriousness with the several second parent, were now and thrusting their marvels of supency. The chain was obtained from outside shippent, with the street of some disapoth and ancestral chance, and so far that we saw only toward the weapons of still instruments in which the mountaits cases and somewhat likely an obtained. They were\n",
      "strangely foot at the city of an infinite circumstance, to a dreary structure of some of the chambing of the artistic atmosphere of the abyss, or two-point when we were climbed for them to taki we had sought on a farther spell of decaying chilly and driven cask impercently any concerninous citizens, and suggested the chamber over the seas of the stream for him. In this moment were now supposed to say, being stroked by the waving frequent streets wherein their cases of the chief proportions, without the morning, temple, and torchlight stealer. I was the whole and more than the markings of the way was an extent to the comfort with the cryptic particular consciousness; and in the mountains still seemed the little of the counters. The fact that had taken story was to the fate of a carpet in the story of the start th upon our position on the base, but on the broad station in substance when without here at the steps and sparked back into the subtace and shape and a shock again about them to shew the cave beyond all that task of an arrant the wind. Of course, however, a silence, a thing which those from the party desired were not a stern terrible care, and almost certain that the transcepts and classres had struck along waiting and space and spring its garress and a dream-hoens and dream. Over a chosen thought which had been so far behind the southward that was to all our senses.\n",
      "     Then the dark woods on the stone city several stone could be desired. There were a curioderous crime of all. One of these were too shoulders, and the strength of the main carvings would not pash our substitution which had takes him to the partitions, though it can never be a solitude of silence. An once more had\n",
      "been taking moss over in the sea of all that attentively to the state of the crag where and the cragged hill took the trees and settled me for the stairs and\n",
      "torn of any other chief pinnaccusable person. It was then this word- it was a pecufted benefit or two houses in a shrieks that was to sheer finding the shore. I could not sufficience he had not seen himself in a sound wholly unconscious were that of a force and things above the troughwardness of surpass. He cannot be sure to say, that this shriek had been the strength of a man of catching the days at the consideration of merely burnt beyond dropped dogs; but he said that has breath of me was to see the sea, and a shadow of the thunder which had hitherto been throw off thirty sprink. He would be most care, heaven seems, because of the shrill variance and all the most ancient tapestry which he commenced to make a fractive inches in the court.\n",
      "     After that these horrors were all evil, ancient cala of thin and space and stone crew to setting her at all, and the same crumbling of the companions tales of a signard headless leaped drawing. At length, at least her shape through the shores and talked the path on a state of the terrors as an answer to bear above the secrets of them has been becomes the plates. The cats all bringing towered with story and sharpedes-backward. All head he shall containing a picham at a cloudy shing sensitive minacular.\n",
      "     The shields. There were\n",
      "many angler and thirteen sensation. Any things I shuggdly suddenly alwout to a party the latter have given an arch of those portions, they seemed that they would be\n",
      "objegration at a drive meditation of those where his shadows wine of a close and sensetivery attack and cold as their brier speed, struggling over the creatures and the temples of the princess we call our crystalliness of the crowd. While the most season of deaths and an all at theirship was a longer observe of such colours of such an expensive cry of all traditional actuality; and he had no muscy-crowned chained peaked cataric towers and so feel a sensety, there could be a shuddered companion of time. Blocks of events always the cliff outside the gale had begun to give a large chaos, and all angled speaking, hearing atop and always a silhyard, burning foreigners. All attachments she remembered with her bearing shot outside the community, the document and shapes concerning his friends are often to stars to the coming of the way the floating of the first to be firelly standing.\n",
      "\n",
      "A serume so had a sort of morning—the mirror would busied him. After that having reared him over and said, we were three or to be a grasp to the paper to sea. As I was coming, I said has been deate, and as the street and takes me as a mother,\n",
      "so that it had been absolutely and so straining in a second time to search from the bricks of my reaches. The second place had been attained, she had completely person that the title of the stars, the statue we found in the consciousness at the torch of the strewal cities and specimen. It was, he almost seemed to be first that watching high clutched frenziedly, but the same man which thrilling out of the case of horrible and monoliths—the manuscripts of the countenance of the cabins, and a subtrictenence with their seamen staggered with a substantial black spot. As it had been stretched at the stonic they were traversingly sounds, and the men, without the manner; we seems to climb it with such an unchecked trouble of dark groves and plan and took the prayer of the most directly, and in my friend shewed in the diameter, and a second an infinitive column, anchored, weiled in sight as a lower party, the false conduct could seek to him and thought which was not at once that was still suddenly as they\n",
      "stumbled by the wall of strange things which we had cold behind to the weather and shaken. And these the made of steam to the dead canoe. The case were too might be about to be a very larboard and a mile with the mental and the street flame when I saw that the cats was the sun hideous throat. And at last they had the great beaches had been a month and heartened the sheltered church truths by the first time. They all cried, tailed and steadily to the centre, and\n",
      "therd as well as the streets of the married mouths of them all against the doom. I had not thorough clear than a sharp time a certain place which was, indeed, shone and stolen slight founders, and wondered that these poor stopph is an old studding-place in the daylight ofling, as afforded to the room; and the library was one or two of all. The desert antiquity of the cliffs had attained the windows which were two of the sea still climbed. As the same time, to the constrictions of mind have no less some change at a cold, but the men outside that way three man to a counter-bank in the master and set it in the false and laboratory, though there is not silk and despite the world in the chamber of the houses of the monolith. It my clothes on the morning of the same time, there were menaceday. A superstant supervision of them there was the crew of our possession. In trute meaning, I felt it seems, and I would nature our cheeks, but when we we ancient them out, by two smooth several medites in those of the police. Never were sure, to tasp of the crash and the southeally days when they met of what seemed to resir were the serious of the\n",
      "short, and in that place, and the stateroom doors sometimes they will. Instead, there were two sounds at this time before trail of the artist, but the carefully seemingly employment of my possessions as to the stories of this side, as is in a corner, and so shudderingly was to have been any of the measurous eyes and the dark stone courtiers and spirits which hold of its cold blackness which he saw the steps of the months of the shadow at the place where the day home and send from the pallid buildings of the cold off with\n",
      "its clothing to stop the cats to be the man with its ancestral specific true subjects to the star-beasts, and the people would have seen the south windows of three, all of an almost fanged one being at once. The figure of the shining museless door of this discrepint seaman was the one all. The placing was stronger through sight. And when the same time he had taken the fiend which might have thought them. And as a crowded thing was something to turn out. The shape of the sands when, to be turned and conceived by their death of the sea and the red of the face on a workmanship and descend.\n",
      "     To thin he had another hunter and famity—as in a few minutes and despair, the mere sight of he might be come across me, and who were never still to be sailor. She woole were not a care.\n",
      "     I was not a serious standardo thing, and to do in, I dreaded them to stark the startling and ships of the men to say the mountains, and was a corpse, the war the state of a ship, because of his hathering and more. He could not help mythics, built at highly, and all the whole madness and spaces outside with a precedent terrible and silence. It had begun to struck herself from the part of the\n",
      "cold waste and to see what the clock were at him. After the shade of the corpse were aloud; but in the multitude indeed at least into a state of successful charnel changes of the palaces. They are turned out one of them were the moon. And the later had sufficiently seen before the convulsion would not think of the thing to the cats and senses, to the plainer which the printing and that was\n",
      "wrought there, while the first wood of the morning we could believe them. And she could have been a sort of forehead, when the street was distress beyond the descent from them. Before I could not heed aloud, why he had strived to study the people which he cried out the steep room, but her eye-panthery had been at once anigh. Another marvellous devoid of his hand how they stood our sides of stupors were listened with a pair of sharp composition. I was still in her company. Has been driven away and terribly became about to me.”\n",
      "     I could not hear the can beat a throat, and the strict mighty the lady overthing without all. She could see a completion of these things—the crawl to answer to the southward, before. It was not that when his sea, and at least see it was the old time belongings. And then said they should be all over all the\n",
      "trees into sign and watched the cold washes of some surpair, and waterfalled, walls. On the sad great decrepit low colleagues of that day of the dreams about it, and where I was able to clear them and the words of the way; but this time there came now the witch one might have been a little child, and the shives though he toolbs him to ascend the company of a fairy moment.\n",
      "\n",
      "As I told me in a senior wind, but I heard the beauvable story where the strangely man claimed to me that the whole of the chase of his mind and present is thick such a moment, with my soul was studied in a mass of mome. I struggled to my back an old man wandered as a colonial residence into those of the same time to a merciful to be discovered at the contrariably long and shade about the panes and stately arm. I had been continued than the presence, I had a small burrow that he might see himself into my heart, altogether to me. He had not send there,\n",
      "we shall never be able to be stumbled by the same table. And all the long-covered man was soon before the seased far boyhood or two or the woman of heavens, without and above his strength to the woods of a trial and disposition of stone, stone wall of mortality with image. This were some passenge of the secret assistances and almost enclosations and personality, our features which must have been a confused space to the stolacity of the study. At another\n",
      "moment, to the crags of the most desiral, and was any secret atmosphere.\n",
      "\n",
      "As I half had traversed in a party of men altogether the sound of my convulsive. There was no diffirence and inconceivable crazy as I could now have complicably had, and that I heard a mile and\n",
      "perspective in the contesrible secret conceiving objects or senses of destinations. The mere morning had chose him from through the bottom windows, and seemed to believe the pertinacity of some miles.\n",
      "\n",
      "The state of a prodigious and severe struggle of stark, and aspect of this sea where somewhat struck as they have no man, and was found, and whose car was a preternatural and most possible tenantile the state of stained strong contemplation. There is only ought to be solid by these terrible as the southwest of this design of it, which we say, if I can’t go only that in the sub-boat was this intention institution. The most cries there is some families to the memory of this, the car went on. They were the murder, and was that the same was never striking and drowned of sound forthwith, and soon far as it seemed to be sometimes the carvings of that carvings over the cave-moubtf, and this that the thing was some trunk along the table of some palacan as the stars of things in the floor to the studio, with some doubtful shapes. The candle, it will not be described.\n",
      "\n",
      "    I went on the brighter sinister the memory-old devil-like. What madness of the primited month became so carefully. I was completely destroyed.\n",
      "\n",
      "   I could never have been the more than our disgusting and shall pined to the crowd. At first I sat that this was a constant a deep age, and all the myriad disselled a summit of many surface, as if sometimes woodland, with the sunset circumstances are so particularly in the courtyard of the stupidican. Analogue and secure worlds of the men often seemed as a small police and more than the shot of subjective and matter in their power to the sand- the planet were taking to an ancestor of myself. A polar or that twilight which had treally seemed somewhat to be satisfied to a struggling one, for they were not merely a statue or terrible stage. The corpse of a single partial record as if he would not see in my possession of time. If there is no distinct, they were a point on, and I stood with the searchlight, the shingles with though what was in terror of them. They were in a monster or mighty four moments, and at this silent secrets that made use of the person it allowingly supplied in a case of this particular. If, I allude that I was not long, and when I wish to be thought of its sight, and I found its first more than others, the words were so much as the wind to despart in the war to be set in connexes. I threw up the south beautiful ordinary apologeness in his chance with the shadow far at that party of their partial as myth, but they had barely recognised. It was a thing with a mighty pierc as the position of matter in the strongest passion. The first to whis are their conviction was something to take as several track, in substantial and ill and some service in that sunset city, a production that set a more the manner, before, and that the meantime of the closed mass and translations who clutched on my\n",
      "precipitous speaking, when the mate-way became to be found in the ancient tales of the preservation, while an opportunious surface with their personal propensities; and the peace in the archeal order to any others at their contriveness, but, imagined in the approaching of them a shrieking, still in the man of steels, but that of all were the fields and sincerity, imagiably subject to truth its owner. When the silver key was not so much as it was about the place, and the patient seemed to be able to be tree, but it stood in that casemosities of all to an artist and a mountain. They have tried to be a grinner or an individual, and the precaution of medishes, though he deny the checked, and which he had been compared that the clouded positive storage castle and cruds and their sought sooner than to take, that this seem they were all seeming to catch my eyes. Imon all lividness of sixteen shadows and motions and mate being absolutely drawn to tell, than who had stood in her house and soon astonished at the same time, and the somprosynct of the cases. Into things has stories of her men and an undestroy or distinctly shocked his steps. Then I continued, with more the stars hinted only on acquisition in the same part. Whatever was a sense of that of his feet, too arranged, and who went to the strength and the sea on the claws of a centre, and had talked with some curiosity who had fled alive, should an hour which I could not have dragged myself for some other things that seemed the water and talks, to these\n",
      "mensalling this, and told there was no\n",
      "longer a momentary agony to admit this solving was seldom an old follic aspect, and the stairs were not at last to that of a doctor and so stony age of that collection with the green, wonding some continent on a certain comprehension of the more ill-blackened player as the black garret carven crypts.\n",
      "In the sea was supposed to have been a stranger and stream from the rest of the frightful staircases, though to a man and stone bulging crawling attention.\n",
      "     What would have been my eyes astonished to bury more to an early different simple outside, but when there was none others would have saw a great brought shroudh with traces of the fireplace. The patter were any strength. He was an excessive conditions as would have been so much as that it was immediately as they were supposed. In the electric little objective of the common sands and time to be a policemen, although an opanions of the sunshipping order of this, but I hoped to be safe that he was suddenly at a doctor, and that in the mailst prisoners or specuavity to the central roofs,\n",
      "and at length, and a freed opening of dreams. Hillsdanded, all came at an angular in spade in the mists and flood. While the shregrish within him at length were troubled the solar titanic faces of the columns of a crowded strength tended to break and fleeing a greater far-banks of the sea.\n",
      "\n",
      "A few morning his hair, had been so like the state of a short palage of ancient, and a seat of the stony, and striviented their friends at the simple of the town, and trembled as head, and had seen the treistry were\n",
      "spoken of sunness one thing. When I was so much suddenly that of a face of the same, although a fresh as the corpse was there any other possible abyss with their superstition in the cold with some surely thing which took to a single slimm, and whose distant stimulativeness and the clefts traced them, the wild approximate distant poses of sevenges in the summer, while around her way through the weapon. The cold waste of the cross-stopping serves—had assured a cautious shadow. They were there seemed found in the same safety that held him in their heavy brief central porchments, and seemed to have standing my proportion. It had another moments had been suddenly devouring this laboratory, and the savages’ they cannot depart an impressions, and that the flood of an imperfexent or feet, through the source of any ories.\n",
      "     At the time he heard it in sigh from the chorus of the hundred and devils into the steel, with somewhe must be stood in\n",
      "the four pane.\n",
      "\n",
      "It will not stealthy to assistent.\n",
      "\n",
      "\"What is it is true. The diary as to be touched the paper and admit the beautiful thicket in the churation. Thing were nearly in supposition of a force again. At the terrace of man mentioned moonlight, and at this silence, is not altogether by the memories, at this particular, what we say on the business of my obstruction. He would have been in the absence of the course of a thoughts in which he would natural.\n",
      "\n",
      "THe creature the way of my origin, to the furtive intervals of a mile a man to their solitary structure; to where they wait frounded a countlesi of the portion of his silent dischosation. We were all three, and on which the whole of the top of ten men, who cut in this point of comprehension which had come to the profusion of their arrangement, were suddenly disturbed by the man in the crawl, along it to bring instantly a catalogue was never found in the surprise. All was tall at the period of that deep-sea was not the solar shapes, were now said that the sight of his most secret wavesomeholal parts of the period, we convey by the sun searched only by the money to word through the woods which moved, the plain room with the same morning. The streamshaphrides, and a still real event of the tempest of the mortuary. The floors he had been more alienable, and some colossily proportions of mystery and student itself to make the stricken planet-whereifthy stuffed, broken, and an excursing possible extent.\n",
      "\n",
      "    Wine was always back into the weight of the confirmation of the most articles over t earnest of the party.\n",
      "     In the sea talked of through a the condition of a marval studies. It was not the tower, to that of my own atmantment a subtle pity of tragic as to this past and damnably loathesmen for the first time, from the centre were of sights which they had seen a cast or the moonland. Walked with information and corner in the staircases of the crocking of the precipitous distant background. Three or collaters and matter, a singularities of tentacles around the superintendent of his people as though at the treasure, we saw a fitted conscious consumption of silence. The superstitious conversation of the parashl of the plains were also as to see them a capacity in the ancient time of their disastrous cases of some sort of antedious canoe and stately perceptible familiarity with the cabinest in the darkness the fluid antique, and a sight of man was not sorted on the base. Here, the folks it become a fancies of dream which had been a strange array of the cravel of the shrill black gulfs of determination and another in the cellar opposite to that obeaming, and the sounds—seventeen and proved the limits of the shore on the case will build all the trusted\n",
      "oppressive and terror on my regular stone and masonry, so as well as of the personal concerns of deceased forests. Hideous and studies of the antique contact were along the strength whose instant had been a consoling origo and the submission of my possession, because they had theirs of the accompanying an attempt. The secret were so different and personalities. The first positions that were almost indeceived by the sunlight when I thought the wind seen before the substance, bearing an incomparation of terror to a mind felt a month, and through this westward.\n",
      "\n",
      "\"Well, I with all me and a smoke of my present.\n",
      "\n",
      "   \"That why, I am sure.\"\n",
      "\n",
      "\"That is not, if todded, \"a most distance of the party of the mouth of it -- and I continued to my present myself. This arm was the same, and with a minute I had always dead, and I, with the breathing more it with a second, and always whippoorwilled, will, to a strength at the top of their moment, the possibility of the companion, and at last to humm bellably, and I could not determine to my bendage. As\n",
      "I made only what the meaning of the work I had to despand an hour.\n",
      "\n",
      "   \"Mose, the month, I had see to my stuff--and an exceeding second and my character, the mist as we suppose, if to be apprehended them; though I had the master, as I have suddenly don't look about to the peoples of his son. I shall have thought of these and morning the stones which hunchuragors have perhaps investigating it in their colour.\n",
      "\n",
      "In the far more sent of which it is the choked door with a single wife, and the men widely to appear to reasonably say where there was now took the cliff and the misty and mind and would see them in truth. Beyond, I say, the way which had so much like that farmhouse—the wind shewed the proclief, and though it had come to them the shores, and their memory in the candles that cluited his fathers about the weirders to their period and the stars and the stricken spaces with which their seemed shows and fleerly enough to close an encountering their features. Once another canoe would stand away twisted waste and sharpened, and the wistonist settled for all the gas-master outside which had shared there were, and they came the same they had still break as the ground of the trees—the stairs. The flowers hideous strike and dreaming them with the greenish sentence would be a sentiend splendid place of the second story forces that he had been driven into the same. In a second to body in the day of mine only first tree which had been thought of the war of an increase in which I could not stand there is not merciful. It was a terrible antique blood. As it has been an immediate arches and manner, how confession for some of the points to display a million years, and whom we had a clerk and clawed on them sunk to this\n",
      "seventy and sealed by that of my observing that there. At last the winter were the warm realities on the fall of the hidden spirit, had should call the course of the prisomed places as well as they should and be as though the windows of the drowned cave miles officed; and was the golden street and the carvings of the growing\n",
      "crazed roofs or singularity which struck me with an actual elder staircase the shores beyond the surface, almost a sinister secle out from the table of darkness the soul some serpent and antique and soul. These tongue, he was not some other presence of many principle, with the change on the beginning which she was a light from afar with him. How soon as the steps, are we started beneath, a thing which had never seen. All at last I had been chosen in a while, but this conclusion of the day to bear. At lant was not truly supply to ask the precision that I could see in terriform, and to dare twisting in the men for the southward and shape and terrible surprising man. Between my ears always went over the sort of sense. The seven days were always been a fancied white-light, was a chilling abrupt indeed as much of half-dislike. To the limbs the sun and of the started, waited. At the several stone was nearly in all, and that it was the fact to decisit with a chance of my child, which seemed to be the crowded slab in which the month began to sent me as I had stated that he might see that thirty-eightness taken to the street and a horrible shoulder of streets and close to the descent of the commother. Having reached me than the gas-famid one, and the whale-headed and treatments were set on the floor over them and wound at the barrier of the ground. Soon as we were still lower and strange and colossal and horse and the sun, when the moon sands are, and steadily\n",
      "shrieks, bushes stood in hands to cease about a lone flutes through the complete folk. And again and the words three digged off out a surprising, and from their part or the floors of the guard and they did not see the steps from wheef and the gods have anything whispered on the back of the crazy tables of the stone who firmly broken away into teadstops. He had not setal and seemed to hold the first time ought to leave twitch which through the dreamed salt miles and stones, and a startling abyss.’\n",
      "     After a word and then, since the marriages of the same matter of terror and state and apparent sharp and departure to the second the fish power of all half-remaining, and at once the whole of the cats was no profusion in a man. But the tempest of the communication of the canoe, however, who had seen trying to stay. A second some of our chill of an exce cast a dread of death in the centron of the house toward the sandstones.\n",
      "     When there were single grass shadowed about the seven customs on the college on their past sound. The shape impeded, was of a much astrict with a faith or two, the footskin seemed somehow out, and they sought to break the platforment of our progress. The death and so might stand the peak to steelly fashion. Inntantic is a step of a cloak of which I was, in the same tall time the sea stood a correspondence to the route to the fright on the same time, and set out all our little discovery, as if traded their collective measures of trap in the creatures; whilst these times and clouds who had been declaredus in his sea soozed through a moment, and so the object was presented their son to cravel as had supplenced the damnable police of comment, silent with an infernal stored by continents only over a steep speech and to the countless supernations of the companions in whatever secure thing, was, than the\n",
      "presence of crowns of that other contact at which I could have described the print distangled sound, and sometimes and almost excited me, that the child was a lunch and strain of some of the monomation of a sea was not a firm and provisions of absurdity as the party of her persons, to discover, was only as it was nearly a cellar.\n",
      "\n",
      "\"It was now I had been about that he was in a singular point of the strange care of the professor. The stricken while the sea-colon returned tows, the most depth, talking its hants as a greater sinister secretive horrors again and waterfront; and the features of heavens had been the possessor and marked the face, but he had not stand to herself, and the principled stage of the main high sensitive directions. When the side of the police, twither with idiomy vast coming on his possession. He was not too contiguing the possibility of the dreams—as they appeared, the footsteps of the\n",
      "sea which classes the close beamed a face that the carved state-looking steps around the power of miles.\n",
      "At that powers he said, were alone in a constant agentles and disposal that his person and personally shocked them to speak all a case of\n",
      "the final consequences and sometimes found a part of her and fragmentary state of the field, shews his parapets with them.\n",
      "     There at least the sentiments of his morning thinks would not found, in his fine- they can effecture in the mountains and converse.\n",
      "     And the street, had they saw that he was shunned from the portrait. It was intangible or a sense of stone, said that the sea, and were strange consequently the strained doctor wing in a state of the fledhian curse, which the shranks were at one point, blasting thickly in the croaking winds, blow frave out of that present door of the several moonlitmen. Those others the decadence of a larboard stooph histories and perfect and silence. He has been carefully confident on the perfect world.\n",
      "\n",
      "    To a certain three-old man was sufficed to be seen or distinct months or see whose expression was superfurity in the chair and addressed. The palace of the court of my companion was saw at the top of my friend and specialistic excitement; so that it was a collar, and was, at a special size and taken with steep angles which marked the stones and table a seal drifting or failed in the crumbling waves of manner and stateroom, and thertering the peculiar commit of steps from a substance, and several whine of the children traded by my friend in the moon, that it came against him. There was now a surrying about him with tears on the seat of the stories of the pathway to the cry three of a direction that some foothill that this wind bore the same\n",
      "part of the policeman windial friching me without anymalaimed them. I confess that I cannot see that a thicket in this time that which was traversing in some of this time that it would be seen and caused the wild and morbidly abatemon from some one on the state of telking off in the carvan galley of that of aid of the clear shadow which they were completed by a face on the fire and the dancers of the cold streets of the same thick and streets. The distant spectral man was now greatly at the\n",
      "tombs of the house with the same taperill of the sunken garbres, and the gheloped daemons which was for the cast it had been so language. In the dogs and mad forest we should not be such way. Our finging toward the corroccoor was then stood again.\n",
      "\n",
      "This accidental expectancy as I had not needed, and as that I was complete too much of the present dismal counterfels. This words had then tranquilly recognized its forbidden and accents which might come out of all, blinding it in the farmer. A prodigious servants of the contemptations had been spoken on the sense.\n",
      "\n",
      "It was the lasa of existence in their prepares to subsor.\n",
      "\n",
      "THE SILENMIEN AT ARA IVE\n",
      "\n",
      "It was the foreign who were the sea to the water, we saw that they were seen that they were absoluteless into which they could not have thought it was set on either of accurate consciousness. In tempering how many of this summit a mile was so done at the same mark, too, was threw one, flatten and chief and a dozen steeple with the same streets and shocking spins and could not have been an apparatus of a consciousness.\n",
      "     In the confliable spot was a catacry as any of them whispered to some of the many mind with the dismay all about the solities, though it had now arose anything of that wonder and solemn thing is off into the dark and shivering out beyond. It haves found at least, and anything went on sight or train only to a sudden region that the moon had caused. The severe mind of those of the stairs hill at the timb of disturbing archway that surrounded the chess whose chieldes had farmed and choked. I have adrifting to teach a sense of state\n"
     ]
    }
   ],
   "source": [
    "generated = sample(checkpoint, 50000, lstm_size, len(vocab), prime=\"THE NIGHTMARE IN GUATEMALA CITY\\n\\n\",mode=mode)\n",
    "print(generated)"
   ]
  },
  {
   "cell_type": "code",
   "execution_count": 129,
   "metadata": {},
   "outputs": [
    {
     "name": "stdout",
     "output_type": "stream",
     "text": [
      "characters\n",
      "Tensor(\"rnn/transpose_1:0\", shape=(1, 1, 512), dtype=float32, device=/device:GPU:0)\n",
      "INFO:tensorflow:Restoring parameters from checkpoints/mcharacters_i19909_l512.ckpt\n"
     ]
    },
    {
     "ename": "KeyboardInterrupt",
     "evalue": "",
     "output_type": "error",
     "traceback": [
      "\u001b[0;31m---------------------------------------------------------------------------\u001b[0m",
      "\u001b[0;31mKeyboardInterrupt\u001b[0m                         Traceback (most recent call last)",
      "\u001b[0;32m<ipython-input-129-38426084fd48>\u001b[0m in \u001b[0;36m<module>\u001b[0;34m()\u001b[0m\n\u001b[0;32m----> 1\u001b[0;31m \u001b[0mgenerated\u001b[0m \u001b[0;34m=\u001b[0m \u001b[0msample\u001b[0m\u001b[0;34m(\u001b[0m\u001b[0mcheckpoint\u001b[0m\u001b[0;34m,\u001b[0m \u001b[0;36m50000\u001b[0m\u001b[0;34m,\u001b[0m \u001b[0mlstm_size\u001b[0m\u001b[0;34m,\u001b[0m \u001b[0mlen\u001b[0m\u001b[0;34m(\u001b[0m\u001b[0mvocab\u001b[0m\u001b[0;34m)\u001b[0m\u001b[0;34m,\u001b[0m \u001b[0mprime\u001b[0m\u001b[0;34m=\u001b[0m\u001b[0;34m\"ONCE UPON A CREEPY NIGHT\\n\\nAll saints eve magic was mysterious\"\u001b[0m\u001b[0;34m,\u001b[0m\u001b[0mmode\u001b[0m\u001b[0;34m=\u001b[0m\u001b[0mmode\u001b[0m\u001b[0;34m)\u001b[0m\u001b[0;34m\u001b[0m\u001b[0m\n\u001b[0m\u001b[1;32m      2\u001b[0m \u001b[0mprint\u001b[0m\u001b[0;34m(\u001b[0m\u001b[0mgenerated\u001b[0m\u001b[0;34m)\u001b[0m\u001b[0;34m\u001b[0m\u001b[0m\n",
      "\u001b[0;32m<ipython-input-120-2fa44254ff95>\u001b[0m in \u001b[0;36msample\u001b[0;34m(checkpoint, n_samples, lstm_size, vocab_size, prime, mode)\u001b[0m\n\u001b[1;32m     25\u001b[0m                     model.initial_state: new_state}\n\u001b[1;32m     26\u001b[0m             preds, new_state = sess.run([model.prediction, model.final_state], \n\u001b[0;32m---> 27\u001b[0;31m                                          feed_dict=feed)\n\u001b[0m\u001b[1;32m     28\u001b[0m \u001b[0;34m\u001b[0m\u001b[0m\n\u001b[1;32m     29\u001b[0m             \u001b[0mc\u001b[0m \u001b[0;34m=\u001b[0m \u001b[0mpick_top_n\u001b[0m\u001b[0;34m(\u001b[0m\u001b[0mpreds\u001b[0m\u001b[0;34m,\u001b[0m \u001b[0mlen\u001b[0m\u001b[0;34m(\u001b[0m\u001b[0mvocab\u001b[0m\u001b[0;34m)\u001b[0m\u001b[0;34m)\u001b[0m\u001b[0;34m\u001b[0m\u001b[0m\n",
      "\u001b[0;32m~/anaconda2/envs/tf1_10_gpu_py3/lib/python3.6/site-packages/tensorflow/python/client/session.py\u001b[0m in \u001b[0;36mrun\u001b[0;34m(self, fetches, feed_dict, options, run_metadata)\u001b[0m\n\u001b[1;32m    875\u001b[0m     \u001b[0;32mtry\u001b[0m\u001b[0;34m:\u001b[0m\u001b[0;34m\u001b[0m\u001b[0m\n\u001b[1;32m    876\u001b[0m       result = self._run(None, fetches, feed_dict, options_ptr,\n\u001b[0;32m--> 877\u001b[0;31m                          run_metadata_ptr)\n\u001b[0m\u001b[1;32m    878\u001b[0m       \u001b[0;32mif\u001b[0m \u001b[0mrun_metadata\u001b[0m\u001b[0;34m:\u001b[0m\u001b[0;34m\u001b[0m\u001b[0m\n\u001b[1;32m    879\u001b[0m         \u001b[0mproto_data\u001b[0m \u001b[0;34m=\u001b[0m \u001b[0mtf_session\u001b[0m\u001b[0;34m.\u001b[0m\u001b[0mTF_GetBuffer\u001b[0m\u001b[0;34m(\u001b[0m\u001b[0mrun_metadata_ptr\u001b[0m\u001b[0;34m)\u001b[0m\u001b[0;34m\u001b[0m\u001b[0m\n",
      "\u001b[0;32m~/anaconda2/envs/tf1_10_gpu_py3/lib/python3.6/site-packages/tensorflow/python/client/session.py\u001b[0m in \u001b[0;36m_run\u001b[0;34m(self, handle, fetches, feed_dict, options, run_metadata)\u001b[0m\n\u001b[1;32m   1098\u001b[0m     \u001b[0;32mif\u001b[0m \u001b[0mfinal_fetches\u001b[0m \u001b[0;32mor\u001b[0m \u001b[0mfinal_targets\u001b[0m \u001b[0;32mor\u001b[0m \u001b[0;34m(\u001b[0m\u001b[0mhandle\u001b[0m \u001b[0;32mand\u001b[0m \u001b[0mfeed_dict_tensor\u001b[0m\u001b[0;34m)\u001b[0m\u001b[0;34m:\u001b[0m\u001b[0;34m\u001b[0m\u001b[0m\n\u001b[1;32m   1099\u001b[0m       results = self._do_run(handle, final_targets, final_fetches,\n\u001b[0;32m-> 1100\u001b[0;31m                              feed_dict_tensor, options, run_metadata)\n\u001b[0m\u001b[1;32m   1101\u001b[0m     \u001b[0;32melse\u001b[0m\u001b[0;34m:\u001b[0m\u001b[0;34m\u001b[0m\u001b[0m\n\u001b[1;32m   1102\u001b[0m       \u001b[0mresults\u001b[0m \u001b[0;34m=\u001b[0m \u001b[0;34m[\u001b[0m\u001b[0;34m]\u001b[0m\u001b[0;34m\u001b[0m\u001b[0m\n",
      "\u001b[0;32m~/anaconda2/envs/tf1_10_gpu_py3/lib/python3.6/site-packages/tensorflow/python/client/session.py\u001b[0m in \u001b[0;36m_do_run\u001b[0;34m(self, handle, target_list, fetch_list, feed_dict, options, run_metadata)\u001b[0m\n\u001b[1;32m   1270\u001b[0m     \u001b[0;32mif\u001b[0m \u001b[0mhandle\u001b[0m \u001b[0;32mis\u001b[0m \u001b[0;32mNone\u001b[0m\u001b[0;34m:\u001b[0m\u001b[0;34m\u001b[0m\u001b[0m\n\u001b[1;32m   1271\u001b[0m       return self._do_call(_run_fn, feeds, fetches, targets, options,\n\u001b[0;32m-> 1272\u001b[0;31m                            run_metadata)\n\u001b[0m\u001b[1;32m   1273\u001b[0m     \u001b[0;32melse\u001b[0m\u001b[0;34m:\u001b[0m\u001b[0;34m\u001b[0m\u001b[0m\n\u001b[1;32m   1274\u001b[0m       \u001b[0;32mreturn\u001b[0m \u001b[0mself\u001b[0m\u001b[0;34m.\u001b[0m\u001b[0m_do_call\u001b[0m\u001b[0;34m(\u001b[0m\u001b[0m_prun_fn\u001b[0m\u001b[0;34m,\u001b[0m \u001b[0mhandle\u001b[0m\u001b[0;34m,\u001b[0m \u001b[0mfeeds\u001b[0m\u001b[0;34m,\u001b[0m \u001b[0mfetches\u001b[0m\u001b[0;34m)\u001b[0m\u001b[0;34m\u001b[0m\u001b[0m\n",
      "\u001b[0;32m~/anaconda2/envs/tf1_10_gpu_py3/lib/python3.6/site-packages/tensorflow/python/client/session.py\u001b[0m in \u001b[0;36m_do_call\u001b[0;34m(self, fn, *args)\u001b[0m\n\u001b[1;32m   1276\u001b[0m   \u001b[0;32mdef\u001b[0m \u001b[0m_do_call\u001b[0m\u001b[0;34m(\u001b[0m\u001b[0mself\u001b[0m\u001b[0;34m,\u001b[0m \u001b[0mfn\u001b[0m\u001b[0;34m,\u001b[0m \u001b[0;34m*\u001b[0m\u001b[0margs\u001b[0m\u001b[0;34m)\u001b[0m\u001b[0;34m:\u001b[0m\u001b[0;34m\u001b[0m\u001b[0m\n\u001b[1;32m   1277\u001b[0m     \u001b[0;32mtry\u001b[0m\u001b[0;34m:\u001b[0m\u001b[0;34m\u001b[0m\u001b[0m\n\u001b[0;32m-> 1278\u001b[0;31m       \u001b[0;32mreturn\u001b[0m \u001b[0mfn\u001b[0m\u001b[0;34m(\u001b[0m\u001b[0;34m*\u001b[0m\u001b[0margs\u001b[0m\u001b[0;34m)\u001b[0m\u001b[0;34m\u001b[0m\u001b[0m\n\u001b[0m\u001b[1;32m   1279\u001b[0m     \u001b[0;32mexcept\u001b[0m \u001b[0merrors\u001b[0m\u001b[0;34m.\u001b[0m\u001b[0mOpError\u001b[0m \u001b[0;32mas\u001b[0m \u001b[0me\u001b[0m\u001b[0;34m:\u001b[0m\u001b[0;34m\u001b[0m\u001b[0m\n\u001b[1;32m   1280\u001b[0m       \u001b[0mmessage\u001b[0m \u001b[0;34m=\u001b[0m \u001b[0mcompat\u001b[0m\u001b[0;34m.\u001b[0m\u001b[0mas_text\u001b[0m\u001b[0;34m(\u001b[0m\u001b[0me\u001b[0m\u001b[0;34m.\u001b[0m\u001b[0mmessage\u001b[0m\u001b[0;34m)\u001b[0m\u001b[0;34m\u001b[0m\u001b[0m\n",
      "\u001b[0;32m~/anaconda2/envs/tf1_10_gpu_py3/lib/python3.6/site-packages/tensorflow/python/client/session.py\u001b[0m in \u001b[0;36m_run_fn\u001b[0;34m(feed_dict, fetch_list, target_list, options, run_metadata)\u001b[0m\n\u001b[1;32m   1261\u001b[0m       \u001b[0mself\u001b[0m\u001b[0;34m.\u001b[0m\u001b[0m_extend_graph\u001b[0m\u001b[0;34m(\u001b[0m\u001b[0;34m)\u001b[0m\u001b[0;34m\u001b[0m\u001b[0m\n\u001b[1;32m   1262\u001b[0m       return self._call_tf_sessionrun(\n\u001b[0;32m-> 1263\u001b[0;31m           options, feed_dict, fetch_list, target_list, run_metadata)\n\u001b[0m\u001b[1;32m   1264\u001b[0m \u001b[0;34m\u001b[0m\u001b[0m\n\u001b[1;32m   1265\u001b[0m     \u001b[0;32mdef\u001b[0m \u001b[0m_prun_fn\u001b[0m\u001b[0;34m(\u001b[0m\u001b[0mhandle\u001b[0m\u001b[0;34m,\u001b[0m \u001b[0mfeed_dict\u001b[0m\u001b[0;34m,\u001b[0m \u001b[0mfetch_list\u001b[0m\u001b[0;34m)\u001b[0m\u001b[0;34m:\u001b[0m\u001b[0;34m\u001b[0m\u001b[0m\n",
      "\u001b[0;32m~/anaconda2/envs/tf1_10_gpu_py3/lib/python3.6/site-packages/tensorflow/python/client/session.py\u001b[0m in \u001b[0;36m_call_tf_sessionrun\u001b[0;34m(self, options, feed_dict, fetch_list, target_list, run_metadata)\u001b[0m\n\u001b[1;32m   1348\u001b[0m     return tf_session.TF_SessionRun_wrapper(\n\u001b[1;32m   1349\u001b[0m         \u001b[0mself\u001b[0m\u001b[0;34m.\u001b[0m\u001b[0m_session\u001b[0m\u001b[0;34m,\u001b[0m \u001b[0moptions\u001b[0m\u001b[0;34m,\u001b[0m \u001b[0mfeed_dict\u001b[0m\u001b[0;34m,\u001b[0m \u001b[0mfetch_list\u001b[0m\u001b[0;34m,\u001b[0m \u001b[0mtarget_list\u001b[0m\u001b[0;34m,\u001b[0m\u001b[0;34m\u001b[0m\u001b[0m\n\u001b[0;32m-> 1350\u001b[0;31m         run_metadata)\n\u001b[0m\u001b[1;32m   1351\u001b[0m \u001b[0;34m\u001b[0m\u001b[0m\n\u001b[1;32m   1352\u001b[0m   \u001b[0;32mdef\u001b[0m \u001b[0m_call_tf_sessionprun\u001b[0m\u001b[0;34m(\u001b[0m\u001b[0mself\u001b[0m\u001b[0;34m,\u001b[0m \u001b[0mhandle\u001b[0m\u001b[0;34m,\u001b[0m \u001b[0mfeed_dict\u001b[0m\u001b[0;34m,\u001b[0m \u001b[0mfetch_list\u001b[0m\u001b[0;34m)\u001b[0m\u001b[0;34m:\u001b[0m\u001b[0;34m\u001b[0m\u001b[0m\n",
      "\u001b[0;31mKeyboardInterrupt\u001b[0m: "
     ]
    }
   ],
   "source": [
    "generated = sample(checkpoint, 50000, lstm_size, len(vocab), prime=\"ONCE UPON A CREEPY NIGHT\\n\\nAll saints eve magic was mysterious\",mode=mode)\n",
    "print(generated)"
   ]
  },
  {
   "cell_type": "code",
   "execution_count": null,
   "metadata": {},
   "outputs": [],
   "source": [
    "generated = sample(checkpoint, 50000, lstm_size, len(vocab), prime=\"I have never been so afraid in my life. The trembling of the legs is uncontrollable. I do not think I survive tonight...\",mode=mode)\n",
    "print(generated)"
   ]
  },
  {
   "cell_type": "code",
   "execution_count": null,
   "metadata": {},
   "outputs": [],
   "source": [
    "generated = sample(checkpoint, 50000, lstm_size, len(vocab), prime=\"THE THING THAT SHOULD NOT BE\\n\\n\",mode=mode)\n",
    "print(generated)"
   ]
  },
  {
   "cell_type": "markdown",
   "metadata": {
    "collapsed": true
   },
   "source": []
  },
  {
   "cell_type": "code",
   "execution_count": null,
   "metadata": {},
   "outputs": [],
   "source": [
    "generated = sample(checkpoint, 50000, lstm_size, len(vocab), prime=\"the creature of the night\",mode=mode)\n",
    "print(generated)"
   ]
  },
  {
   "cell_type": "code",
   "execution_count": null,
   "metadata": {
    "collapsed": true
   },
   "outputs": [],
   "source": []
  }
 ],
 "metadata": {
  "kernelspec": {
   "display_name": "Python 3",
   "language": "python",
   "name": "python3"
  },
  "language_info": {
   "codemirror_mode": {
    "name": "ipython",
    "version": 3
   },
   "file_extension": ".py",
   "mimetype": "text/x-python",
   "name": "python",
   "nbconvert_exporter": "python",
   "pygments_lexer": "ipython3",
   "version": "3.6.3"
  }
 },
 "nbformat": 4,
 "nbformat_minor": 2
}
