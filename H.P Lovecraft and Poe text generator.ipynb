{
 "cells": [
  {
   "cell_type": "markdown",
   "metadata": {},
   "source": [
    "# Recurrent neural networks for H.P Lovecraft text generation\n",
    "\n",
    "\"The color out of space\" is one of my favorite tales from Lovecraft, i will use it(as well as others as the call of cthulhu) to create a recurrent neural network in tensorflow that learns his style and generates new text in his style\n",
    "\n",
    "This network is based off of Andrej Karpathy's [post on RNNs](http://karpathy.github.io/2015/05/21/rnn-effectiveness/) and [implementation in Torch](https://github.com/karpathy/char-rnn) and an example from \"Deep Learning Nanodegree\" on udacity. Also, some information [here at r2rt](http://r2rt.com/recurrent-neural-networks-in-tensorflow-ii.html) and from [Sherjil Ozair](https://github.com/sherjilozair/char-rnn-tensorflow) on GitHub. \n",
    "\n",
    "## General architecture using \"Long short term memory\" units in the recurrent layers\n",
    "\n",
    "<img src=\"assets/charseq.jpeg\" width=\"500\">"
   ]
  },
  {
   "cell_type": "code",
   "execution_count": 1,
   "metadata": {
    "collapsed": true
   },
   "outputs": [],
   "source": [
    "%matplotlib inline\n",
    "%config InlineBackend.figure_format = 'retina'"
   ]
  },
  {
   "cell_type": "code",
   "execution_count": 2,
   "metadata": {
    "collapsed": true
   },
   "outputs": [],
   "source": [
    "import time\n",
    "from collections import namedtuple\n",
    "\n",
    "import numpy as np\n",
    "import tensorflow as tf\n",
    "from nltk.tokenize import word_tokenize\n",
    "import nltk\n",
    "import itertools\n",
    "import matplotlib.pyplot as plt\n",
    "from time import gmtime, strftime ,localtime"
   ]
  },
  {
   "cell_type": "code",
   "execution_count": 3,
   "metadata": {
    "collapsed": true
   },
   "outputs": [],
   "source": [
    "# Run only the  first time nltk is used to download language\n",
    "#nltk.download()"
   ]
  },
  {
   "cell_type": "markdown",
   "metadata": {},
   "source": [
    "### Define conf variables and hyper parameteters "
   ]
  },
  {
   "cell_type": "code",
   "execution_count": 40,
   "metadata": {
    "collapsed": true
   },
   "outputs": [],
   "source": [
    "mode = \"characters\" #characters or words\n",
    "\n",
    "epochs = 10\n",
    "batch_size = 128       # Sequences per batch\n",
    "num_steps = 75         # Number of sequence steps per batch\n",
    "lstm_size = 768         # Size of hidden layers in LSTMs\n",
    "num_layers = 2          # Number of LSTM layers\n",
    "learning_rate = 0.001  # Learning rate\n",
    "keep_prob = 1       # Dropout keep probability\n",
    "\n",
    "resume_from_checkpoint = True"
   ]
  },
  {
   "cell_type": "markdown",
   "metadata": {},
   "source": [
    "### Define base text\n",
    "Once trained ,the network can take base text and a sequence size and generate new text using base text as first characters in the sequence. For every element in base text wi will create a list that will store generated text as training goes, to be able to compare results between steps"
   ]
  },
  {
   "cell_type": "code",
   "execution_count": 5,
   "metadata": {
    "collapsed": true
   },
   "outputs": [],
   "source": [
    "text_to_try = [\"In the first place\",\"the night before\",\"horror\",\"creature\",\"night\",\"dream\",\"thing\",\"That night\",\"mountain\",\"Ammi\",\"Cthulhu\",\"raven\",\"bird\",\"nevermore\",\"dead\",\"The bird\"]"
   ]
  },
  {
   "cell_type": "markdown",
   "metadata": {},
   "source": [
    "#### Function that separates text into tokens(for whitespace characters, only new line is implemented, missing tabs and others="
   ]
  },
  {
   "cell_type": "code",
   "execution_count": 6,
   "metadata": {},
   "outputs": [
    {
     "data": {
      "text/plain": [
       "['H',\n",
       " 'e',\n",
       " 'l',\n",
       " 'l',\n",
       " 'o',\n",
       " ',',\n",
       " ' ',\n",
       " 'm',\n",
       " 'y',\n",
       " ' ',\n",
       " 'n',\n",
       " 'a',\n",
       " 'm',\n",
       " 'e',\n",
       " ' ',\n",
       " 'i',\n",
       " 's',\n",
       " ' ',\n",
       " 'L',\n",
       " 'u',\n",
       " 'i',\n",
       " 's',\n",
       " ' ',\n",
       " 'L',\n",
       " 'e',\n",
       " 'a',\n",
       " 'l',\n",
       " '!',\n",
       " '\\n',\n",
       " '\\n',\n",
       " 'F',\n",
       " 'r',\n",
       " 'o',\n",
       " 'm',\n",
       " ' ',\n",
       " 'G',\n",
       " 'u',\n",
       " 'a',\n",
       " 't',\n",
       " 'e',\n",
       " 'm',\n",
       " 'a',\n",
       " 'l',\n",
       " 'a']"
      ]
     },
     "execution_count": 6,
     "metadata": {},
     "output_type": "execute_result"
    }
   ],
   "source": [
    "def tokenize_by_words(text):\n",
    "    text = text.replace(\"\\n\",\" new_line_token \")\n",
    "    tokens = []\n",
    "    splitted =[[word_tokenize(w),' ']for w in text.split()]\n",
    "    splitted = list(itertools.chain(*list(itertools.chain(*splitted))))\n",
    "    \n",
    "    token_list = []\n",
    "    i = 0\n",
    "    while i < len(splitted):\n",
    "        if splitted[i] == \"new_line_token\":\n",
    "            if   token_list[-1]==\" \":\n",
    "                token_list[-1] = splitted[i]\n",
    "            else:\n",
    "                token_list.append(splitted[i])\n",
    "            i+=1\n",
    "        else:\n",
    "            token_list.append(splitted[i])\n",
    "        i+=1\n",
    "    \n",
    "    return token_list\n",
    "\n",
    "def tokenize_by_characters(text):\n",
    "    return list(text)\n",
    "\n",
    "def tokenize_text(text,mode=\"characters\"):\n",
    "    if mode == \"characters\":\n",
    "        return tokenize_by_characters(text)\n",
    "    elif mode == \"words\":\n",
    "        return tokenize_by_words(text)\n",
    "    \n",
    "tokenize_text(\"Hello, my name is Luis Leal!\\n\\nFrom Guatemala\",mode)\n",
    "#tokenize_text(\"Hello, my name is Luis Leal!\\n\\nFrom Guatemala\",\"words\")\n"
   ]
  },
  {
   "cell_type": "markdown",
   "metadata": {},
   "source": [
    "First we'll load the text file and convert it into integers for our network to use. Here I'm creating a couple dictionaries to convert the characters to and from integers. Encoding the characters as integers makes it easier to use as input in the network."
   ]
  },
  {
   "cell_type": "code",
   "execution_count": 7,
   "metadata": {
    "collapsed": true
   },
   "outputs": [],
   "source": [
    "with open('corpus.txt', 'r') as f:\n",
    "    text=f.read()"
   ]
  },
  {
   "cell_type": "code",
   "execution_count": 8,
   "metadata": {
    "collapsed": true
   },
   "outputs": [],
   "source": [
    "vocab = set(tokenize_text(text,mode))\n",
    "vocab_to_int = {c: i for i, c in enumerate(vocab)}\n",
    "int_to_vocab = dict(enumerate(vocab))"
   ]
  },
  {
   "cell_type": "markdown",
   "metadata": {},
   "source": [
    "### Get a little portion of text for validation"
   ]
  },
  {
   "cell_type": "code",
   "execution_count": 9,
   "metadata": {
    "collapsed": true
   },
   "outputs": [],
   "source": [
    "tokenized_text = tokenize_text(text,mode)\n",
    "encoded_dataset = np.array([vocab_to_int[c] for c in tokenized_text if c in vocab_to_int], dtype=np.int32)"
   ]
  },
  {
   "cell_type": "code",
   "execution_count": 10,
   "metadata": {
    "collapsed": true
   },
   "outputs": [],
   "source": [
    "validation_size = batch_size * num_steps #create a single baty\n",
    "validation_start_index = len(encoded_dataset) - validation_size\n",
    "\n",
    "encoded = encoded_dataset[:validation_start_index]\n",
    "encoded_val = encoded_dataset[validation_start_index:]"
   ]
  },
  {
   "cell_type": "code",
   "execution_count": 11,
   "metadata": {},
   "outputs": [
    {
     "name": "stdout",
     "output_type": "stream",
     "text": [
      "r genera of creatures are germinated) -- the spontaneous germination, I say, of five vast hordes of \n"
     ]
    }
   ],
   "source": [
    "def encoded_to_text(encoded):\n",
    "    return \"\".join([int_to_vocab[number] for number in encoded])\n",
    "\n",
    "print(encoded_to_text(encoded_val[0:100]))"
   ]
  },
  {
   "cell_type": "code",
   "execution_count": 12,
   "metadata": {
    "collapsed": true
   },
   "outputs": [],
   "source": [
    "val_text =encoded_to_text(encoded_val)\n",
    "text = encoded_to_text(encoded)"
   ]
  },
  {
   "cell_type": "markdown",
   "metadata": {},
   "source": [
    "Let's check out the first 100 characters of train and validation, make sure everything is peachy.  line of a book ever."
   ]
  },
  {
   "cell_type": "code",
   "execution_count": 13,
   "metadata": {},
   "outputs": [
    {
     "data": {
      "text/plain": [
       "'THE COLOUR OUT OF SPACE\\n\\nWest of Arkham the hills rise wild, and there are valleys with deep woods t'"
      ]
     },
     "execution_count": 13,
     "metadata": {},
     "output_type": "execute_result"
    }
   ],
   "source": [
    "text[:100]"
   ]
  },
  {
   "cell_type": "code",
   "execution_count": 14,
   "metadata": {},
   "outputs": [
    {
     "data": {
      "text/plain": [
       "'r genera of creatures are germinated) -- the spontaneous germination, I say, of five vast hordes of '"
      ]
     },
     "execution_count": 14,
     "metadata": {},
     "output_type": "execute_result"
    }
   ],
   "source": [
    "val_text[:100]"
   ]
  },
  {
   "cell_type": "markdown",
   "metadata": {},
   "source": [
    "And we can see the characters encoded as integersin both train and validation"
   ]
  },
  {
   "cell_type": "code",
   "execution_count": 15,
   "metadata": {},
   "outputs": [
    {
     "data": {
      "text/plain": [
       "array([ 98,  22,  91,  48,  36,   0,  15,   0,  62,  96,  48,   0,  62,\n",
       "        98,  48,   0,  88,  48,  84,   6,  41,  36,  91,   5,   5,  90,\n",
       "        55,  28,  54,  48,  38,  29,  48,  41,   3,  42,  58,  40,  45,\n",
       "        48,  54,  58,  55,  48,  58,  12,  65,  65,  28,  48,   3,  12,\n",
       "        28,  55,  48, 100,  12,  65,  19,  49,  48,  40,  93,  19,  48,\n",
       "        54,  58,  55,   3,  55,  48,  40,   3,  55,  48,  26,  40,  65,\n",
       "        65,  55,  20,  28,  48, 100,  12,  54,  58,  48,  19,  55,  55,\n",
       "        99,  48, 100,  38,  38,  19,  28,  48,  54], dtype=int32)"
      ]
     },
     "execution_count": 15,
     "metadata": {},
     "output_type": "execute_result"
    }
   ],
   "source": [
    "encoded[:100]"
   ]
  },
  {
   "cell_type": "code",
   "execution_count": 16,
   "metadata": {},
   "outputs": [
    {
     "data": {
      "text/plain": [
       "array([  3,  48,  21,  55,  93,  55,   3,  40,  48,  38,  29,  48,  13,\n",
       "         3,  55,  40,  54,  81,   3,  55,  28,  48,  40,   3,  55,  48,\n",
       "        21,  55,   3,  45,  12,  93,  40,  54,  55,  19,  47,  48,  87,\n",
       "        87,  48,  54,  58,  55,  48,  28,  99,  38,  93,  54,  40,  93,\n",
       "        55,  38,  81,  28,  48,  21,  55,   3,  45,  12,  93,  40,  54,\n",
       "        12,  38,  93,  49,  48, 101,  48,  28,  40,  20,  49,  48,  38,\n",
       "        29,  48,  29,  12,  26,  55,  48,  26,  40,  28,  54,  48,  58,\n",
       "        38,   3,  19,  55,  28,  48,  38,  29,  48], dtype=int32)"
      ]
     },
     "execution_count": 16,
     "metadata": {},
     "output_type": "execute_result"
    }
   ],
   "source": [
    "encoded_val[0:100]"
   ]
  },
  {
   "cell_type": "markdown",
   "metadata": {},
   "source": [
    "Since the network is working with individual english tokens, it's similar to a classification problem in which we are trying to predict the next character from the previous text.  Here's how many 'classes' our network has to pick from."
   ]
  },
  {
   "cell_type": "code",
   "execution_count": 17,
   "metadata": {},
   "outputs": [
    {
     "data": {
      "text/plain": [
       "102"
      ]
     },
     "execution_count": 17,
     "metadata": {},
     "output_type": "execute_result"
    }
   ],
   "source": [
    "len(vocab)"
   ]
  },
  {
   "cell_type": "markdown",
   "metadata": {},
   "source": [
    "## Making training mini-batches\n",
    "\n",
    "Here is where we'll make our mini-batches for training. Remember that we want our batches to be multiple sequences of some desired number of sequence steps. Considering a simple example, our batches would look like this:\n",
    "\n",
    "<img src=\"assets/sequence_batching@1x.png\" width=500px>\n",
    "\n",
    "\n",
    "<br>\n",
    "We have our text encoded as integers as one long array in `encoded`. Let's create a function that will give us an iterator for our batches. I like using [generator functions](https://jeffknupp.com/blog/2013/04/07/improve-your-python-yield-and-generators-explained/) to do this. Then we can pass `encoded` into this function and get our batch generator.\n",
    "\n",
    "The first thing we need to do is discard some of the text so we only have completely full batches. Each batch contains $N \\times M$ characters, where $N$ is the batch size (the number of sequences) and $M$ is the number of steps. Then, to get the number of batches we can make from some array `arr`, you divide the length of `arr` by the batch size. Once you know the number of batches and the batch size, you can get the total number of characters to keep.\n",
    "\n",
    "After that, we need to split `arr` into $N$ sequences. You can do this using `arr.reshape(size)` where `size` is a tuple containing the dimensions sizes of the reshaped array. We know we want $N$ sequences (`n_seqs` below), let's make that the size of the first dimension. For the second dimension, you can use `-1` as a placeholder in the size, it'll fill up the array with the appropriate data for you. After this, you should have an array that is $N \\times (M * K)$ where $K$ is the number of batches.\n",
    "\n",
    "Now that we have this array, we can iterate through it to get our batches. The idea is each batch is a $N \\times M$ window on the array. For each subsequent batch, the window moves over by `n_steps`. We also want to create both the input and target arrays. Remember that the targets are the inputs shifted over one character. You'll usually see the first input character used as the last target character, so something like this:\n",
    "```python\n",
    "y[:, :-1], y[:, -1] = x[:, 1:], x[:, 0]\n",
    "```\n",
    "where `x` is the input batch and `y` is the target batch.\n",
    "\n",
    "The way I like to do this window is use `range` to take steps of size `n_steps` from $0$ to `arr.shape[1]`, the total number of steps in each sequence. That way, the integers you get from `range` always point to the start of a batch, and each window is `n_steps` wide."
   ]
  },
  {
   "cell_type": "code",
   "execution_count": 18,
   "metadata": {
    "collapsed": true
   },
   "outputs": [],
   "source": [
    "def get_batches(arr, n_seqs, n_steps):\n",
    "    '''Create a generator that returns batches of size\n",
    "       n_seqs x n_steps from arr.\n",
    "       \n",
    "       Arguments\n",
    "       ---------\n",
    "       arr: Array you want to make batches from\n",
    "       n_seqs: Batch size, the number of sequences per batch\n",
    "       n_steps: Number of sequence steps per batch\n",
    "    '''\n",
    "    # Get the batch size and number of batches we can make\n",
    "    batch_size = n_seqs * n_steps \n",
    "    n_batches =  len(arr)//batch_size\n",
    "    \n",
    "    # Keep only enough characters to make full batches\n",
    "    arr =  arr[:n_batches*batch_size]\n",
    "    \n",
    "    # Reshape into n_seqs rows\n",
    "    arr = arr.reshape((n_seqs,-1))\n",
    "    \n",
    "    for n in range(0, arr.shape[1], n_steps):\n",
    "        # The features\n",
    "        x = arr[:,n:n+n_steps]\n",
    "        # The targets, shifted by one\n",
    "        y = np.zeros(x.shape)\n",
    "        y[:,:-1],y[:,-1] = x[:,1:] ,x[:,0]\n",
    "        yield x, y"
   ]
  },
  {
   "cell_type": "markdown",
   "metadata": {},
   "source": [
    "Now I'll make my data sets and we can check out what's going on here. Here I'm going to use a batch size of 10 and 50 sequence steps."
   ]
  },
  {
   "cell_type": "code",
   "execution_count": 19,
   "metadata": {
    "collapsed": true
   },
   "outputs": [],
   "source": [
    "batches = get_batches(encoded, 10, 50)\n",
    "x, y = next(batches)"
   ]
  },
  {
   "cell_type": "code",
   "execution_count": 20,
   "metadata": {},
   "outputs": [
    {
     "name": "stdout",
     "output_type": "stream",
     "text": [
      "x\n",
      " [[ 98  22  91  48  36   0  15   0  62  96]\n",
      " [ 48  28  55  54  48  40  99  99  55  40]\n",
      " [ 48  13  40  26  55   3  93  38  81  28]\n",
      " [ 55  19  48  65  38  38  99  58  38  65]\n",
      " [ 54  65  20  48  54  38  48  40  65  65]\n",
      " [ 55  40   3  65  20  48  13  40  65  45]\n",
      " [ 55  28  48 100  55   3  55  48  40  21]\n",
      " [ 93  48  40  19  26  40  93  13  55  49]\n",
      " [ 40  13  55  19  48  19  38 100  93  48]\n",
      " [ 54  40  12  93  57  28  48  46  40  28]]\n",
      "\n",
      "y\n",
      " [[  22.   91.   48.   36.    0.   15.    0.   62.   96.   48.]\n",
      " [  28.   55.   54.   48.   40.   99.   99.   55.   40.   65.]\n",
      " [  13.   40.   26.   55.    3.   93.   38.   81.   28.   48.]\n",
      " [  19.   48.   65.   38.   38.   99.   58.   38.   65.   55.]\n",
      " [  65.   20.   48.   54.   38.   48.   40.   65.   65.   38.]\n",
      " [  40.    3.   65.   20.   48.   13.   40.   65.   45.   49.]\n",
      " [  28.   48.  100.   55.    3.   55.   48.   40.   21.   40.]\n",
      " [  48.   40.   19.   26.   40.   93.   13.   55.   49.   48.]\n",
      " [  13.   55.   19.   48.   19.   38.  100.   93.   48.   99.]\n",
      " [  40.   12.   93.   57.   28.   48.   46.   40.   28.   55.]]\n"
     ]
    }
   ],
   "source": [
    "print('x\\n', x[:10, :10])\n",
    "print('\\ny\\n', y[:10, :10])"
   ]
  },
  {
   "cell_type": "markdown",
   "metadata": {},
   "source": [
    "## Building the model\n",
    "\n",
    "Below is where you'll build the network. We'll break it up into parts so it's easier to reason about each bit. Then we can connect them up into the whole network.\n",
    "\n",
    "<img src=\"assets/charRNN.png\" width=500px>\n",
    "\n",
    "\n",
    "### Inputs\n",
    "\n",
    "First off we'll create our input placeholders. As usual we need placeholders for the training data and the targets. We'll also create a placeholder for dropout layers called `keep_prob`. This will be a scalar, that is a 0-D tensor. To make a scalar, you create a placeholder without giving it a size."
   ]
  },
  {
   "cell_type": "code",
   "execution_count": 21,
   "metadata": {
    "collapsed": true
   },
   "outputs": [],
   "source": [
    "def build_inputs(batch_size, num_steps):\n",
    "    ''' Define placeholders for inputs, targets, and dropout \n",
    "    \n",
    "        Arguments\n",
    "        ---------\n",
    "        batch_size: Batch size, number of sequences per batch\n",
    "        num_steps: Number of sequence steps in a batch\n",
    "        \n",
    "    '''\n",
    "    # Declare placeholders we'll feed into the graph\n",
    "    inputs = tf.placeholder(tf.int32,[batch_size,num_steps],name=\"inputs\")\n",
    "    targets = tf.placeholder(tf.int32,[batch_size,num_steps],name=\"targets\")\n",
    "    \n",
    "    # Keep probability placeholder for drop out layers\n",
    "    keep_prob = tf.placeholder(tf.float32,name=\"keep_prob\")\n",
    "    \n",
    "    return inputs, targets, keep_prob"
   ]
  },
  {
   "cell_type": "markdown",
   "metadata": {},
   "source": [
    "### LSTM Cell\n",
    "\n",
    "Here we will create the LSTM cell we'll use in the hidden layer. We'll use this cell as a building block for the RNN. So we aren't actually defining the RNN here, just the type of cell we'll use in the hidden layer.\n",
    "\n",
    "We first create a basic LSTM cell with\n",
    "\n",
    "```python\n",
    "lstm = tf.contrib.rnn.BasicLSTMCell(num_units)\n",
    "```\n",
    "\n",
    "where `num_units` is the number of units in the hidden layers in the cell. Then we can add dropout by wrapping it with \n",
    "\n",
    "```python\n",
    "tf.contrib.rnn.DropoutWrapper(lstm, output_keep_prob=keep_prob)\n",
    "```\n",
    "You pass in a cell and it will automatically add dropout to the inputs or outputs. Finally, we can stack up the LSTM cells into layers with [`tf.contrib.rnn.MultiRNNCell`](https://www.tensorflow.org/versions/r1.0/api_docs/python/tf/contrib/rnn/MultiRNNCell). With this, you pass in a list of cells and it will send the output of one cell into the next cell. For example,\n",
    "\n",
    "```python\n",
    "tf.contrib.rnn.MultiRNNCell([cell]*num_layers)\n",
    "```\n",
    "\n",
    "This might look a little weird if you know Python well because this will create a list of the same `cell` object. However, TensorFlow will create different weight matrices for all `cell` objects. Even though this is actually multiple LSTM cells stacked on each other, you can treat the multiple layers as one cell.\n",
    "\n",
    "We also need to create an initial cell state of all zeros. This can be done like so\n",
    "\n",
    "```python\n",
    "initial_state = cell.zero_state(batch_size, tf.float32)\n",
    "```\n"
   ]
  },
  {
   "cell_type": "code",
   "execution_count": 22,
   "metadata": {
    "collapsed": true
   },
   "outputs": [],
   "source": [
    "def build_lstm(lstm_size, num_layers, batch_size, keep_prob):\n",
    "    ''' Build LSTM cell.\n",
    "    \n",
    "        Arguments\n",
    "        ---------\n",
    "        keep_prob: Scalar tensor (tf.placeholder) for the dropout keep probability\n",
    "        lstm_size: Size of the hidden layers in the LSTM cells\n",
    "        num_layers: Number of LSTM layers\n",
    "        batch_size: Batch size\n",
    "\n",
    "    '''\n",
    "    ### Build the LSTM Cell\n",
    "    # Use a basic LSTM cell\n",
    "    # Add dropout to the cell outputs\n",
    "    # Stack up multiple LSTM layers, for deep learning\n",
    "    cell = tf.contrib.rnn.MultiRNNCell([tf.contrib.rnn.DropoutWrapper( tf.contrib.rnn.BasicLSTMCell(lstm_size),output_keep_prob = keep_prob) for _ in range(num_layers)])\n",
    "    initial_state = cell.zero_state(batch_size,tf.float32)\n",
    "    \n",
    "    return cell, initial_state"
   ]
  },
  {
   "cell_type": "markdown",
   "metadata": {},
   "source": [
    "### RNN Output\n",
    "\n",
    "Here we'll create the output layer. We need to connect the output of the RNN cells to a full connected layer with a softmax output. The softmax output gives us a probability distribution we can use to predict the next character, so we want this layer to have size $C$, the number of classes/characters we have in our text.\n",
    "\n",
    "If our input has batch size $N$, number of steps $M$, and the hidden layer has $L$ hidden units, then the output is a 3D tensor with size $N \\times M \\times L$. The output of each LSTM cell has size $L$, we have $M$ of them, one for each sequence step, and we have $N$ sequences. So the total size is $N \\times M \\times L$. \n",
    "\n",
    "We are using the same fully connected layer, the same weights, for each of the outputs. Then, to make things easier, we should reshape the outputs into a 2D tensor with shape $(M * N) \\times L$. That is, one row for each sequence and step, where the values of each row are the output from the LSTM cells. We get the LSTM output as a list, `lstm_output`. First we need to concatenate this whole list into one array with [`tf.concat`](https://www.tensorflow.org/api_docs/python/tf/concat). Then, reshape it (with `tf.reshape`) to size $(M * N) \\times L$.\n",
    "\n",
    "One we have the outputs reshaped, we can do the matrix multiplication with the weights. We need to wrap the weight and bias variables in a variable scope with `tf.variable_scope(scope_name)` because there are weights being created in the LSTM cells. TensorFlow will throw an error if the weights created here have the same names as the weights created in the LSTM cells, which they will be default. To avoid this, we wrap the variables in a variable scope so we can give them unique names.\n"
   ]
  },
  {
   "cell_type": "code",
   "execution_count": 23,
   "metadata": {
    "collapsed": true
   },
   "outputs": [],
   "source": [
    "def build_output(lstm_output, in_size, out_size):\n",
    "    ''' Build a softmax layer, return the softmax output and logits.\n",
    "    \n",
    "        Arguments\n",
    "        ---------\n",
    "        \n",
    "        lstm_output: List of output tensors from the LSTM layer\n",
    "        in_size: Size of the input tensor, for example, size of the LSTM cells\n",
    "        out_size: Size of this softmax layer\n",
    "    \n",
    "    '''\n",
    "\n",
    "    # Reshape output so it's a bunch of rows, one row for each step for each sequence.\n",
    "    # Concatenate lstm_output over axis 1 (the columns)\n",
    "    seq_output = tf.concat(lstm_output,axis=1)\n",
    "    # Reshape seq_output to a 2D tensor with lstm_size columns\n",
    "    x = tf.reshape(seq_output,[-1,in_size])\n",
    "    \n",
    "    # Connect the RNN outputs to a softmax layer\n",
    "    with tf.variable_scope('softmax'):\n",
    "        # Create the weight and bias variables here\n",
    "        softmax_w = tf.Variable(tf.truncated_normal((in_size, out_size),stddev=0.1))\n",
    "        softmax_b = tf.Variable(tf.zeros([out_size]))\n",
    "    \n",
    "    # Since output is a bunch of rows of RNN cell outputs, logits will be a bunch\n",
    "    # of rows of logit outputs, one for each step and sequence\n",
    "    logits =  tf.add(tf.matmul(x,softmax_w),softmax_b) \n",
    "    \n",
    "    # Use softmax to get the probabilities for predicted characters\n",
    "    out = tf.nn.softmax(logits,name =\"out\")\n",
    "    \n",
    "    return out, logits"
   ]
  },
  {
   "cell_type": "markdown",
   "metadata": {},
   "source": [
    "### Training loss\n",
    "\n",
    "Next up is the training loss. We get the logits and targets and calculate the softmax cross-entropy loss. First we need to one-hot encode the targets, we're getting them as encoded characters. Then, reshape the one-hot targets so it's a 2D tensor with size $(M*N) \\times C$ where $C$ is the number of classes/characters we have. Remember that we reshaped the LSTM outputs and ran them through a fully connected layer with $C$ units. So our logits will also have size $(M*N) \\times C$.\n",
    "\n",
    "Then we run the logits and targets through `tf.nn.softmax_cross_entropy_with_logits` and find the mean to get the loss."
   ]
  },
  {
   "cell_type": "code",
   "execution_count": 24,
   "metadata": {
    "collapsed": true
   },
   "outputs": [],
   "source": [
    "def build_loss(logits, targets, lstm_size, num_classes):\n",
    "    ''' Calculate the loss from the logits and the targets.\n",
    "    \n",
    "        Arguments\n",
    "        ---------\n",
    "        logits: Logits from final fully connected layer\n",
    "        targets: Targets for supervised learning\n",
    "        lstm_size: Number of LSTM hidden units\n",
    "        num_classes: Number of classes in targets\n",
    "        \n",
    "    '''\n",
    "    # One-hot encode targets and reshape to match logits, one row per sequence per step\n",
    "    y_one_hot = tf.one_hot(targets,num_classes)\n",
    "    y_reshaped =  tf.reshape(y_one_hot,logits.get_shape())\n",
    "    \n",
    "    # Softmax cross entropy loss\n",
    "    loss = tf.reduce_mean(tf.nn.softmax_cross_entropy_with_logits(logits=logits,labels=y_reshaped))\n",
    "    \n",
    "    return loss"
   ]
  },
  {
   "cell_type": "markdown",
   "metadata": {},
   "source": [
    "### Optimizer\n",
    "\n",
    "Here we build the optimizer. Normal RNNs have have issues gradients exploding and disappearing. LSTMs fix the disappearance problem, but the gradients can still grow without bound. To fix this, we can clip the gradients above some threshold. That is, if a gradient is larger than that threshold, we set it to the threshold. This will ensure the gradients never grow overly large. Then we use an AdamOptimizer for the learning step."
   ]
  },
  {
   "cell_type": "code",
   "execution_count": 25,
   "metadata": {
    "collapsed": true
   },
   "outputs": [],
   "source": [
    "def build_optimizer(loss, learning_rate, grad_clip,global_step):\n",
    "    ''' Build optmizer for training, using gradient clipping.\n",
    "    \n",
    "        Arguments:\n",
    "        loss: Network loss\n",
    "        learning_rate: Learning rate for optimizer\n",
    "        global_step: to control the total number of train steps\n",
    "    \n",
    "    '''\n",
    "    \n",
    "    # Optimizer for training, using gradient clipping to control exploding gradients\n",
    "    tvars = tf.trainable_variables()\n",
    "    grads, _ = tf.clip_by_global_norm(tf.gradients(loss, tvars), grad_clip)\n",
    "    train_op = tf.train.AdamOptimizer(learning_rate)\n",
    "    optimizer = train_op.apply_gradients(zip(grads, tvars),global_step)\n",
    "    \n",
    "    return optimizer"
   ]
  },
  {
   "cell_type": "markdown",
   "metadata": {},
   "source": [
    "### Build the network\n",
    "\n",
    "Now we can put all the pieces together and build a class for the network. To actually run data through the LSTM cells, we will use [`tf.nn.dynamic_rnn`](https://www.tensorflow.org/versions/r1.0/api_docs/python/tf/nn/dynamic_rnn). This function will pass the hidden and cell states across LSTM cells appropriately for us. It returns the outputs for each LSTM cell at each step for each sequence in the mini-batch. It also gives us the final LSTM state. We want to save this state as `final_state` so we can pass it to the first LSTM cell in the the next mini-batch run. For `tf.nn.dynamic_rnn`, we pass in the cell and initial state we get from `build_lstm`, as well as our input sequences. Also, we need to one-hot encode the inputs before going into the RNN. \n"
   ]
  },
  {
   "cell_type": "code",
   "execution_count": 26,
   "metadata": {
    "collapsed": true
   },
   "outputs": [],
   "source": [
    "class CharRNN:\n",
    "    \n",
    "    def __init__(self, num_classes, batch_size=64, num_steps=50, \n",
    "                       lstm_size=128, num_layers=2, learning_rate=0.001, \n",
    "                       grad_clip=5, sampling=False):\n",
    "    \n",
    "        # When we're using this network for sampling later, we'll be passing in\n",
    "        # one character at a time, so providing an option for that\n",
    "        if sampling == True:\n",
    "            batch_size, num_steps = 1, 1\n",
    "        else:\n",
    "            batch_size, num_steps = batch_size, num_steps\n",
    "\n",
    "        tf.reset_default_graph()\n",
    "        \n",
    "        self.global_step_tensor = tf.Variable(0,trainable=False,name = \"global_step\")\n",
    "        # Build the input placeholder tensors\n",
    "        self.inputs, self.targets, self.keep_prob = build_inputs(batch_size,num_steps)\n",
    "        # Build the LSTM cell\n",
    "        cell, self.initial_state = build_lstm(lstm_size,num_layers,batch_size,self.keep_prob)\n",
    "        ### Run the data through the RNN layers\n",
    "        # First, one-hot encode the input tokens\n",
    "        x_one_hot = tf.one_hot(self.inputs,num_classes)\n",
    "        \n",
    "        self.grad_clip  = grad_clip\n",
    "        # Run each sequence step through the RNN with tf.nn.dynamic_rnn \n",
    "        outputs, state = tf.nn.dynamic_rnn(cell,x_one_hot,initial_state=self.initial_state)\n",
    "        self.final_state = state\n",
    "        \n",
    "        # Get softmax predictions and logits\n",
    "        self.prediction, self.logits = build_output(outputs,lstm_size,num_classes)\n",
    "        \n",
    "        # Loss and optimizer (with gradient clipping)\n",
    "        self.loss =  build_loss(self.logits,self.targets,lstm_size,num_classes)\n",
    "        self.optimizer = build_optimizer(self.loss,learning_rate,grad_clip,self.global_step_tensor)"
   ]
  },
  {
   "cell_type": "markdown",
   "metadata": {},
   "source": [
    "## Hyperparameters\n",
    "\n",
    "Here are the hyperparameters for the network.\n",
    "\n",
    "* `batch_size` - Number of sequences running through the network in one pass.\n",
    "* `num_steps` - Number of characters in the sequence the network is trained on. Larger is better typically, the network will learn more long range dependencies. But it takes longer to train. 100 is typically a good number here.\n",
    "* `lstm_size` - The number of units in the hidden layers.\n",
    "* `num_layers` - Number of hidden LSTM layers to use\n",
    "* `learning_rate` - Learning rate for training\n",
    "* `keep_prob` - The dropout keep probability when training. If you're network is overfitting, try decreasing this.\n",
    "\n",
    "Here's some good advice from Andrej Karpathy on training the network:. \n",
    "\n",
    "> ## Tips and Tricks\n",
    "\n",
    ">### Monitoring Validation Loss vs. Training Loss\n",
    ">If you're somewhat new to Machine Learning or Neural Networks it can take a bit of expertise to get good models. The most important quantity to keep track of is the difference between your training loss (printed during training) and the validation loss (printed once in a while when the RNN is run on the validation data (by default every 1000 iterations)). In particular:\n",
    "\n",
    "> - If your training loss is much lower than validation loss then this means the network might be **overfitting**. Solutions to this are to decrease your network size, or to increase dropout. For example you could try dropout of 0.5 and so on.\n",
    "> - If your training/validation loss are about equal then your model is **underfitting**. Increase the size of your model (either number of layers or the raw number of neurons per layer)\n",
    "\n",
    "> ### Approximate number of parameters\n",
    "\n",
    "> The two most important parameters that control the model are `lstm_size` and `num_layers`. I would advise that you always use `num_layers` of either 2/3. The `lstm_size` can be adjusted based on how much data you have. The two important quantities to keep track of here are:\n",
    "\n",
    "> - The number of parameters in your model. This is printed when you start training.\n",
    "> - The size of your dataset. 1MB file is approximately 1 million characters.\n",
    "\n",
    ">These two should be about the same order of magnitude. It's a little tricky to tell. Here are some examples:\n",
    "\n",
    "> - I have a 100MB dataset and I'm using the default parameter settings (which currently print 150K parameters). My data size is significantly larger (100 mil >> 0.15 mil), so I expect to heavily underfit. I am thinking I can comfortably afford to make `lstm_size` larger.\n",
    "> - I have a 10MB dataset and running a 10 million parameter model. I'm slightly nervous and I'm carefully monitoring my validation loss. If it's larger than my training loss then I may want to try to increase dropout a bit and see if that helps the validation loss.\n",
    "\n",
    "> ### Best models strategy\n",
    "\n",
    ">The winning strategy to obtaining very good models (if you have the compute time) is to always err on making the network larger (as large as you're willing to wait for it to compute) and then try different dropout values (between 0,1). Whatever model has the best validation performance (the loss, written in the checkpoint filename, low is good) is the one you should use in the end.\n",
    "\n",
    ">It is very common in deep learning to run many different models with many different hyperparameter settings, and in the end take whatever checkpoint gave the best validation performance.\n",
    "\n",
    ">By the way, the size of your training and validation splits are also parameters. Make sure you have a decent amount of data in your validation set or otherwise the validation performance will be noisy and not very informative."
   ]
  },
  {
   "cell_type": "code",
   "execution_count": 27,
   "metadata": {
    "collapsed": true
   },
   "outputs": [],
   "source": [
    "def get_number_of_parameters():\n",
    "    total_parameters = 0\n",
    "    for variable in tf.trainable_variables():\n",
    "        shape = variable.get_shape()\n",
    "        #print(shape)\n",
    "        #print(len(shape))\n",
    "        variable_parameters = 1\n",
    "        \n",
    "        for dim in shape:\n",
    "            #print(dim)\n",
    "            variable_parameters*=dim.value\n",
    "        #print(variable_parameters)\n",
    "        total_parameters+= variable_parameters\n",
    "    return total_parameters"
   ]
  },
  {
   "cell_type": "code",
   "execution_count": 28,
   "metadata": {
    "collapsed": true
   },
   "outputs": [],
   "source": [
    "def pick_top_n(preds, vocab_size, top_n=5):\n",
    "    p = np.squeeze(preds)\n",
    "    p[np.argsort(p)[:-top_n]] = 0\n",
    "    p = p / np.sum(p)\n",
    "    c = np.random.choice(vocab_size, 1, p=p)[0]\n",
    "    return c"
   ]
  },
  {
   "cell_type": "markdown",
   "metadata": {},
   "source": [
    "## Time for training\n",
    "\n",
    "This is typical training code, passing inputs and targets into the network, then running the optimizer. Here we also get back the final LSTM state for the mini-batch. Then, we pass that state back into the network so the next batch can continue the state from the previous batch. And every so often (set by `save_every_n`) I save a checkpoint.\n",
    "\n",
    "Here I'm saving checkpoints with the format\n",
    "\n",
    "`i{iteration number}_l{# hidden layer units}.ckpt`\n"
   ]
  },
  {
   "cell_type": "code",
   "execution_count": 29,
   "metadata": {
    "collapsed": true
   },
   "outputs": [],
   "source": [
    "losses = {\"train\":[],\"validation\":[]}\n",
    "x_steps = list()"
   ]
  },
  {
   "cell_type": "code",
   "execution_count": 41,
   "metadata": {},
   "outputs": [
    {
     "name": "stdout",
     "output_type": "stream",
     "text": [
      "Training starting at time: 2017-10-25 21:55:34\n",
      "Number of parameters: 7475814 Dataset size: 2563420\n",
      "INFO:tensorflow:Restoring parameters from checkpoints/mcharacters_i2670_l768.ckpt\n",
      "Epoch: 1/10...  Training Step: 2671...  Training loss: 1.3990...  Val loss: 1.5394...  0.3608 sec/batch\n",
      "Epoch: 1/10...  Training Step: 2771...  Training loss: 1.3505...  Val loss: 1.4831...  0.2723 sec/batch\n",
      "Epoch: 1/10...  Training Step: 2871...  Training loss: 1.3284...  Val loss: 1.4912...  0.2723 sec/batch\n",
      "Epoch: 2/10...  Training Step: 2971...  Training loss: 1.2620...  Val loss: 1.4818...  0.2800 sec/batch\n",
      "Epoch: 2/10...  Training Step: 3071...  Training loss: 1.2822...  Val loss: 1.4816...  0.2726 sec/batch\n",
      "Epoch: 2/10...  Training Step: 3171...  Training loss: 1.3120...  Val loss: 1.4835...  0.2728 sec/batch\n",
      "Epoch: 3/10...  Training Step: 3271...  Training loss: 1.2855...  Val loss: 1.4810...  0.2739 sec/batch\n",
      "Epoch: 3/10...  Training Step: 3371...  Training loss: 1.2524...  Val loss: 1.4784...  0.2739 sec/batch\n",
      "Epoch: 3/10...  Training Step: 3471...  Training loss: 1.3044...  Val loss: 1.4903...  0.2729 sec/batch\n",
      "Epoch: 4/10...  Training Step: 3571...  Training loss: 1.2643...  Val loss: 1.4839...  0.2744 sec/batch\n",
      "Epoch: 4/10...  Training Step: 3671...  Training loss: 1.2504...  Val loss: 1.4892...  0.2758 sec/batch\n",
      "Epoch: 5/10...  Training Step: 3771...  Training loss: 1.2516...  Val loss: 1.4810...  0.2721 sec/batch\n",
      "Epoch: 5/10...  Training Step: 3871...  Training loss: 1.2356...  Val loss: 1.4906...  0.2727 sec/batch\n",
      "Epoch: 5/10...  Training Step: 3971...  Training loss: 1.2673...  Val loss: 1.4849...  0.2734 sec/batch\n",
      "Epoch: 6/10...  Training Step: 4071...  Training loss: 1.2487...  Val loss: 1.4764...  0.2733 sec/batch\n",
      "Epoch: 6/10...  Training Step: 4171...  Training loss: 1.2453...  Val loss: 1.4751...  0.2783 sec/batch\n",
      "Epoch: 6/10...  Training Step: 4271...  Training loss: 1.2621...  Val loss: 1.4849...  0.2810 sec/batch\n",
      "Epoch: 7/10...  Training Step: 4371...  Training loss: 1.2545...  Val loss: 1.4894...  0.2732 sec/batch\n",
      "Epoch: 7/10...  Training Step: 4471...  Training loss: 1.2069...  Val loss: 1.4941...  0.2736 sec/batch\n",
      "Epoch: 8/10...  Training Step: 4571...  Training loss: 1.2266...  Val loss: 1.4913...  0.2813 sec/batch\n",
      "Epoch: 8/10...  Training Step: 4671...  Training loss: 1.2271...  Val loss: 1.4845...  0.2751 sec/batch\n",
      "Epoch: 8/10...  Training Step: 4771...  Training loss: 1.2380...  Val loss: 1.4928...  0.2749 sec/batch\n",
      "Epoch: 9/10...  Training Step: 4871...  Training loss: 1.2299...  Val loss: 1.4958...  0.2731 sec/batch\n",
      "Epoch: 9/10...  Training Step: 4971...  Training loss: 1.2231...  Val loss: 1.4984...  0.2909 sec/batch\n",
      "Epoch: 9/10...  Training Step: 5071...  Training loss: 1.2089...  Val loss: 1.5019...  0.2734 sec/batch\n",
      "Epoch: 10/10...  Training Step: 5171...  Training loss: 1.2055...  Val loss: 1.5093...  0.2742 sec/batch\n",
      "Epoch: 10/10...  Training Step: 5271...  Training loss: 1.2112...  Val loss: 1.5087...  0.2777 sec/batch\n",
      "Epoch 10/10 time:74.06262755393982...  finished at 2017-10-25 22:07:55\n",
      "Training ending at time: 2017-10-25 22:07:56\n",
      "Trainint total time: 742.0028877258301\n"
     ]
    }
   ],
   "source": [
    "#epochs = 1\n",
    "# Save every N iterations\n",
    "save_every_n = 500\n",
    "print_loss_every_n = 100\n",
    "sample_every = 500\n",
    "print_epoch_time_every = 10\n",
    "\n",
    "with tf.device(\"/gpu:0\"):\n",
    "    model = CharRNN(len(vocab), batch_size=batch_size, num_steps=num_steps,\n",
    "                lstm_size=lstm_size, num_layers=num_layers, \n",
    "                learning_rate=learning_rate)\n",
    "    #print(\"after model\")\n",
    "\n",
    "saver = tf.train.Saver(max_to_keep=5)\n",
    "print(\"Training starting at time:\",strftime(\"%Y-%m-%d %H:%M:%S\", localtime()))\n",
    "train_start_time = time.time()\n",
    "with tf.Session() as sess:\n",
    "    sess.run(tf.global_variables_initializer())\n",
    "    print(\"Number of parameters:\",get_number_of_parameters(),\"Dataset size:\",len(encoded))\n",
    "    #print(\"after initializer\")\n",
    "    if resume_from_checkpoint:\n",
    "        latest_checkpoint = tf.train.latest_checkpoint('checkpoints')\n",
    "        saver.restore(sess, latest_checkpoint)\n",
    "    counter = 0\n",
    "    for e in range(epochs):\n",
    "        # Train network\n",
    "        epoch_start = time.time()\n",
    "        \n",
    "        new_state = sess.run(model.initial_state)\n",
    "        loss = 0\n",
    "        for x, y in get_batches(encoded, batch_size, num_steps):\n",
    "            \n",
    "            \n",
    "            start = time.time()\n",
    "            feed = {model.inputs: x,\n",
    "                    model.targets: y,\n",
    "                    model.keep_prob: keep_prob,\n",
    "                    model.initial_state: new_state}\n",
    "            batch_loss, new_state, _ = sess.run([model.loss, \n",
    "                                                 model.final_state, \n",
    "                                                 model.optimizer], \n",
    "                                                 feed_dict=feed)\n",
    "        \n",
    "            \n",
    "            end = time.time()\n",
    "            if counter%print_loss_every_n == 0:\n",
    "                val_batches = get_batches(encoded_val,int(len(encoded_val)/num_steps),num_steps)\n",
    "                x_val,y_val = next(val_batches)\n",
    "                \n",
    "                val_dict = {model.inputs: x_val,\n",
    "                            model.targets: y_val,\n",
    "                            model.keep_prob: 1,\n",
    "                            model.initial_state: new_state}\n",
    "                \n",
    "                val_loss,prediction = sess.run([model.loss,model.prediction],feed_dict=val_dict)\n",
    "                \n",
    "                losses[\"train\"].append(batch_loss)\n",
    "                losses[\"validation\"].append(val_loss)\n",
    "                \n",
    "                \n",
    "                global_step = tf.train.global_step(sess,model.global_step_tensor)\n",
    "                x_steps.append(global_step)\n",
    "                \n",
    "                print('Epoch: {}/{}... '.format(e+1, epochs),\n",
    "                      'Training Step: {}... '.format(global_step),\n",
    "                      'Training loss: {:.4f}... '.format(batch_loss),\n",
    "                      'Val loss: {:.4f}... '.format(val_loss),\n",
    "                      '{:.4f} sec/batch'.format((end-start)))\n",
    "        \n",
    "            if (counter % save_every_n == 0):\n",
    "                global_step = tf.train.global_step(sess,model.global_step_tensor)\n",
    "                saver.save(sess, \"checkpoints/m{}_i{}_l{}.ckpt\".format(mode,global_step, lstm_size))\n",
    "                \n",
    "            counter += 1\n",
    "            #learning_rate*=0.75\n",
    "            #model.optimizer = build_optimizer(model.loss,learning_rate,model.grad_clip,model.global_step_tensor)\n",
    "        \n",
    "        epoch_end = time.time()\n",
    "        \n",
    "        \n",
    "        if ((e+1) % print_epoch_time_every== 0):\n",
    "            print('Epoch {}/{} time:{}...'.format(e+1,epochs,epoch_end-epoch_start),\n",
    "                 \" finished at\",strftime(\"%Y-%m-%d %H:%M:%S\", localtime()))\n",
    "        \n",
    "            \n",
    "    global_step = tf.train.global_step(sess,model.global_step_tensor)\n",
    "    saver.save(sess, \"checkpoints/m{}_i{}_l{}.ckpt\".format(mode,global_step, lstm_size))\n",
    "    \n",
    "print(\"Training ending at time:\",strftime(\"%Y-%m-%d %H:%M:%S\", localtime()))\n",
    "print(\"Trainint total time:\",time.time()-train_start_time)"
   ]
  },
  {
   "cell_type": "code",
   "execution_count": 42,
   "metadata": {},
   "outputs": [
    {
     "data": {
      "image/png": "[encoded data removed]",
      "text/plain": [
       "<matplotlib.figure.Figure at 0x7f06d00a8550>"
      ]
     },
     "metadata": {
      "image/png": {
       "height": 250,
       "width": 373
      }
     },
     "output_type": "display_data"
    }
   ],
   "source": [
    "plt.plot(x_steps,losses[\"train\"],label=\"Train loss\")\n",
    "plt.plot(x_steps,losses[\"validation\"],label=\"Validation loss\")\n",
    "plt.legend()\n",
    "_ = plt.ylim()"
   ]
  },
  {
   "cell_type": "markdown",
   "metadata": {},
   "source": [
    "#### Saved checkpoints\n",
    "\n",
    "Read up on saving and loading checkpoints here: https://www.tensorflow.org/programmers_guide/variables"
   ]
  },
  {
   "cell_type": "code",
   "execution_count": 43,
   "metadata": {
    "collapsed": true
   },
   "outputs": [],
   "source": [
    "checkpoints = tf.train.get_checkpoint_state('checkpoints')"
   ]
  },
  {
   "cell_type": "markdown",
   "metadata": {},
   "source": [
    "## Sampling final trained model\n",
    "\n",
    "Now that the network is trained, we'll can use it to generate new text. The idea is that we pass in a character, then the network will predict the next character. We can use the new one, to predict the next one. And we keep doing this to generate all new text. I also included some functionality to prime the network with some text by passing in a string and building up a state from that.\n",
    "\n",
    "The network gives us predictions for each character. To reduce noise and make things a little less random, I'm going to only choose a new character from the top N most likely characters.\n",
    "\n"
   ]
  },
  {
   "cell_type": "code",
   "execution_count": 44,
   "metadata": {
    "collapsed": true
   },
   "outputs": [],
   "source": [
    "def sample(checkpoint, n_samples, lstm_size, vocab_size, prime=\"The \",mode=\"characters\"):\n",
    "    print(mode)\n",
    "    samples = tokenize_text(prime,mode)\n",
    "    model = CharRNN(len(vocab), lstm_size=lstm_size, sampling=True)\n",
    "    saver = tf.train.Saver()\n",
    "    with tf.Session() as sess:\n",
    "        saver.restore(sess, checkpoint)\n",
    "        new_state = sess.run(model.initial_state)\n",
    "        for c in tokenize_text(prime,mode):\n",
    "            x = np.zeros((1, 1))\n",
    "            x[0,0] = vocab_to_int[c]\n",
    "            feed = {model.inputs: x,\n",
    "                    model.keep_prob: 1.,\n",
    "                    model.initial_state: new_state}\n",
    "            preds, new_state = sess.run([model.prediction, model.final_state], \n",
    "                                         feed_dict=feed)\n",
    "\n",
    "        c = pick_top_n(preds, len(vocab))\n",
    "        samples.append(int_to_vocab[c])\n",
    "\n",
    "        for i in range(n_samples):\n",
    "            x[0,0] = c\n",
    "            feed = {model.inputs: x,\n",
    "                    model.keep_prob: 1.,\n",
    "                    model.initial_state: new_state}\n",
    "            preds, new_state = sess.run([model.prediction, model.final_state], \n",
    "                                         feed_dict=feed)\n",
    "\n",
    "            c = pick_top_n(preds, len(vocab))\n",
    "            samples.append(int_to_vocab[c])\n",
    "        \n",
    "    return ''.join(samples).replace(\"new_line_token\",\"\\n\")"
   ]
  },
  {
   "cell_type": "markdown",
   "metadata": {},
   "source": [
    "Here, pass in the path to a checkpoint and sample from the network."
   ]
  },
  {
   "cell_type": "code",
   "execution_count": 45,
   "metadata": {},
   "outputs": [
    {
     "data": {
      "text/plain": [
       "'checkpoints/mcharacters_i5340_l768.ckpt'"
      ]
     },
     "execution_count": 45,
     "metadata": {},
     "output_type": "execute_result"
    }
   ],
   "source": [
    "tf.train.latest_checkpoint('checkpoints')"
   ]
  },
  {
   "cell_type": "markdown",
   "metadata": {},
   "source": [
    "## Generate new text from \"base\" text"
   ]
  },
  {
   "cell_type": "code",
   "execution_count": 46,
   "metadata": {},
   "outputs": [
    {
     "name": "stdout",
     "output_type": "stream",
     "text": [
      "characters\n",
      "INFO:tensorflow:Restoring parameters from checkpoints/mcharacters_i5340_l768.ckpt\n",
      "characters\n",
      "INFO:tensorflow:Restoring parameters from checkpoints/mcharacters_i5340_l768.ckpt\n",
      "characters\n",
      "INFO:tensorflow:Restoring parameters from checkpoints/mcharacters_i5340_l768.ckpt\n",
      "characters\n",
      "INFO:tensorflow:Restoring parameters from checkpoints/mcharacters_i5340_l768.ckpt\n",
      "characters\n",
      "INFO:tensorflow:Restoring parameters from checkpoints/mcharacters_i5340_l768.ckpt\n",
      "characters\n",
      "INFO:tensorflow:Restoring parameters from checkpoints/mcharacters_i5340_l768.ckpt\n",
      "characters\n",
      "INFO:tensorflow:Restoring parameters from checkpoints/mcharacters_i5340_l768.ckpt\n",
      "characters\n",
      "INFO:tensorflow:Restoring parameters from checkpoints/mcharacters_i5340_l768.ckpt\n",
      "characters\n",
      "INFO:tensorflow:Restoring parameters from checkpoints/mcharacters_i5340_l768.ckpt\n",
      "characters\n",
      "INFO:tensorflow:Restoring parameters from checkpoints/mcharacters_i5340_l768.ckpt\n",
      "characters\n",
      "INFO:tensorflow:Restoring parameters from checkpoints/mcharacters_i5340_l768.ckpt\n",
      "characters\n",
      "INFO:tensorflow:Restoring parameters from checkpoints/mcharacters_i5340_l768.ckpt\n",
      "characters\n",
      "INFO:tensorflow:Restoring parameters from checkpoints/mcharacters_i5340_l768.ckpt\n",
      "characters\n",
      "INFO:tensorflow:Restoring parameters from checkpoints/mcharacters_i5340_l768.ckpt\n",
      "characters\n",
      "INFO:tensorflow:Restoring parameters from checkpoints/mcharacters_i5340_l768.ckpt\n",
      "characters\n",
      "INFO:tensorflow:Restoring parameters from checkpoints/mcharacters_i5340_l768.ckpt\n"
     ]
    }
   ],
   "source": [
    "\n",
    "checkpoint = tf.train.latest_checkpoint('checkpoints')\n",
    "\n",
    "\n",
    "samples = list()\n",
    "for text in text_to_try:\n",
    "    #print(\"------------------------\",text)\n",
    "    samples.append( sample(checkpoint, 500, lstm_size, len(vocab), prime=text,mode=mode))\n",
    "    #print(samp)\n",
    "    #print(\"------------------------\")"
   ]
  },
  {
   "cell_type": "code",
   "execution_count": 47,
   "metadata": {},
   "outputs": [
    {
     "name": "stdout",
     "output_type": "stream",
     "text": [
      "------------------------ In the first place\n",
      "In the first place.\n",
      "\n",
      "II.\n",
      "\n",
      "A cription had accidentally reached the best, before he had befluxed those excited, and, as well as at a moment at the fear of see what we could not receive any death.\n",
      "\n",
      "    I am a sea continued to tince a lot in that fearful imploying to attend on the figure of the particum to make a marble observation. We will not met offen it, at once the street was not the frequent poise or place to the\n",
      "patient, this portray of all the place. I had no\n",
      "blood, and the problem of many surface wondered the\n",
      "------------------------\n",
      "------------------------ the night before\n",
      "the night before these apendaress off in the deceased and tormed their strength.\n",
      "\n",
      "    On their securely and convaced through which I hadned in the things with the strange conformal motered structures in the sea which were two of this thouganours. It is new last that we could seen a post of the climate and threatened to say his hold of a person to the sole character and made over the mulmils that treated a glimpsed bolts of the seconds of the case of their comments, and when a sharp contemporary sea-bill of a per\n",
      "------------------------\n",
      "------------------------ horror\n",
      "horror and a striking shared strates, of what we soon climbed me was a straight and, burning and princible than any setting southwardly with taking about, and at length the words of his mind was itself, and he woull be this thing whose day was the mind to the season. He was necessarily stupidisted on the conversation at the terror of the distracising memories. All to the facts with work a part of this time of the street and singular-hang tigarity.\n",
      "     Inname the starting was three things. His mistake,\n",
      "------------------------\n",
      "------------------------ creature\n",
      "creature and twice is all the crowd of medical, and toose on the fact wine and marvellous abysses of the core at their entering, and that they can be never trandicled by the southerly and merchants of his head.\n",
      "\n",
      "    When a lots of the strange hunter had been satisfiedly fifty-maisone course, of exposed mortality are not to forch all these significance was induced there in the primal mass against the perfect called speed takes, and their states were seen temple of means of all that he had built the blesti\n",
      "------------------------\n",
      "------------------------ night\n",
      "night in his persecusive to the case. The temporary character of the countenance were suffered in some of the placid men of his pendulum to treav window, and the primal cases, telling to the power of this planet which had been meat as a marble, which they can be nearly taking himself.\n",
      "\n",
      "    The tenant of the tenth must be im what was interruit.\n",
      "\n",
      "There windows he see only\n",
      "to be the primordial special ferge of its dark corridors;of into my\n",
      "head as the same time with me. He was to tend all the place of th\n",
      "------------------------\n",
      "------------------------ dream\n",
      "dreaming that he had no line of her direction, and at least a singular-conclose and fathomanaced breath with the clouds of the distance and dogs.\n",
      "     The contents of the trees were now transportating it as if a shrill courage abouthy found in attention with some portrait that I was able to resemble myself a few moments, and thanking in that of the parts of the starboard streams of the shadew than to the farm or three of the cargo which was anceyondering and thrilled above the bright, and of a great m\n",
      "------------------------\n",
      "------------------------ thing\n",
      "thing to me that the sturn of the shocking or first weethered toward the tempiration of the passage that widelets of the cry talked about an intimate appearance, and a faint signs of this pennilive with terror was able to be the beautiful points of their ship on the common consequenism of that sucted bearing of the drug behind my ascending shame. I had so tended to my song any power again. In a sharp time the boat was a secreciaais one of the chillate. It seems, and his fearshoud comfowness, and all t\n",
      "------------------------\n",
      "------------------------ That night\n",
      "That night and horti and tresses ofe tried to think it, where the moon had seeks of the stages and pretaining way. We seemed to believe any teeth of the place. The peauling senses were several clutched carvings our paralleless on a pointed and chief or fifteen minutes, and touched by the stories of this place; and when I had no largercalle tentacle of horrible chorus and singular powers were set to the cabin chief of any of his marvellous vasterchange.\n",
      "     It had set not for the sea with times of the cham\n",
      "------------------------\n",
      "------------------------ mountain\n",
      "mountain--about me a statter and at an anturnent, but, in the state of this terrible chief in all morting an enormal shrubs of my own. I saw that, after the choked hours, the familiarity of the breaking through teephances in their memory worked out for the body. At air of a short of his whole companion were not before that of his maskers and tremulous stench of the mists. Iffest to top or our obstruction about midnight. The chair, with a second, as although in the manner of hope of the considerable desir\n",
      "------------------------\n",
      "------------------------ Ammi\n",
      "Ammita in their sea before a singular point of days, with all along the primornial bulletins. The second had caused me in the first of his prisoners, and that terribly organisments and tented ship had been ready; and when he heard his preferction was in the first stationer and missing a party whose causes and shelves and people, in my own proportion windows in myself, the sound, or something was secured with the bearing in them and seen in a great cargo of able to trust it with the creature, been inc\n",
      "------------------------\n",
      "------------------------ Cthulhu\n",
      "Cthulhumate to their hatred, though it would not take it wide that they had been to think. And this I took the priest therefore to the careless surface of the cabin, and the sound is not to be station in the peculiar and tied apociation. The singular conversation of the seasaus on a caught contemptate houses, a cased time told me to the world after his friends at the fortune to death and special. In strength and concealing an easily coming, it was in some period with more than huge and cargo about a far\n",
      "------------------------\n",
      "------------------------ raven\n",
      "ravened to be a memory of all that with the bottom to the frequent prisoner.\n",
      "\n",
      "The faintest discuss of making the sealed channel her family apptiveness and step being ovaraely before that of the painful minds of its matter on the clothes of his parents of a cloud. I had next to do, that the compence of this things were set off a seated priests of taste was the bottle; but the shelves seemed to few the season, and that, as the sharp thing was absolutely stone; but the shocking stone was a postrite with \n",
      "------------------------\n",
      "------------------------ bird\n",
      "birdened by the first old moment at length, and succeeded by their morning to bander, and the mountain-like captive minds of the same times, and were nine of any personal beach where a powers of the bare or tales was considerable; and, for the mutine issuated as their mounds of those others and their sea-somewhere beyond that of the cold. Another hathful interests was too late to the straight and tremulous that.\n",
      "     It was a steel a discoveries, of what I can access them altogether with the box.\n",
      "\n",
      "It\n",
      "------------------------\n",
      "------------------------ nevermore\n",
      "nevermore, and the shore, though their company with which the collage, are now, too, in some of their secondation of each\n",
      "of the chamber. Althoush be to say and some dreadful times to believe\n",
      "of about to receive him and at that morbid older and firsined short, works of\n",
      "an efforts, though it is not been to be absentially perceptible. As ter signs of those who had altogether raven by the from my boding respects in their formst the course of my fruiters, as incedent wide fright. Whether it seemed to be touch\n",
      "------------------------\n",
      "------------------------ dead\n",
      "dead without things, we failed to be all merchantled them, and the short shock wished, as idea to lead the strange and telling of the planes when he spoke of the sharp cargars; and the frightened minds were obtaining to all the charnel of a canoot a people as it was never, through the stone beauty in that paper to be those on the same strange and partiture. With the second hill-crawling credible coat from the manner in the monstrous and destroyed sea of the southward and have a greater cryshicast spa\n",
      "------------------------\n",
      "------------------------ The bird\n",
      "The bird twelt brought about the strangers. Then he was some of a mere good current which the chain of their heads, were murmuring at the passage of the characterism. Then, was in the places of stone with surroundings. With the chief of the crawlings, and as we will be stopped and perilous to be to see what to make me with human and cleaking twistings to the catacombs of their process.\n",
      "     In this time was seen to my state, the first time which seemed, the chair in the captain of the topic.\n",
      "     I have \n",
      "------------------------\n"
     ]
    }
   ],
   "source": [
    "for i in range(len(text_to_try)):\n",
    "    text = text_to_try[i]\n",
    "    generated = samples[i]\n",
    "    print(\"------------------------\",text)\n",
    "    print(generated)\n",
    "    print(\"------------------------\")"
   ]
  },
  {
   "cell_type": "code",
   "execution_count": 48,
   "metadata": {},
   "outputs": [
    {
     "data": {
      "text/plain": [
       "model_checkpoint_path: \"checkpoints/mcharacters_i5340_l768.ckpt\"\n",
       "all_model_checkpoint_paths: \"checkpoints/mcharacters_i3671_l768.ckpt\"\n",
       "all_model_checkpoint_paths: \"checkpoints/mcharacters_i4171_l768.ckpt\"\n",
       "all_model_checkpoint_paths: \"checkpoints/mcharacters_i4671_l768.ckpt\"\n",
       "all_model_checkpoint_paths: \"checkpoints/mcharacters_i5171_l768.ckpt\"\n",
       "all_model_checkpoint_paths: \"checkpoints/mcharacters_i5340_l768.ckpt\""
      ]
     },
     "execution_count": 48,
     "metadata": {},
     "output_type": "execute_result"
    }
   ],
   "source": [
    "tf.train.get_checkpoint_state('checkpoints')"
   ]
  },
  {
   "cell_type": "code",
   "execution_count": 49,
   "metadata": {},
   "outputs": [
    {
     "name": "stdout",
     "output_type": "stream",
     "text": [
      "characters\n",
      "INFO:tensorflow:Restoring parameters from checkpoints/mcharacters_i5340_l768.ckpt\n",
      "The old folk have gone away. The conversation of the samplight had seen them.\n",
      "\n",
      "    As I traved his calling of those heart was an open abyss, talked in troubled hadly a deepender and a strong peak after a single collection at the first attic of my face to be absonbed before it, and though there were two matters of a manner within the points of the clouding odour, and which were incident of a tinked profinity. This was the tale of the storms on the back of the moon. He seemed to be chiefly in the care of the caverns. As he stumped these thoroughly that he started, the main start at the think of the matter on that case was the trap-door and when the strength is to be seen; but the taverns of these must have been much as to remone more able to steam; and what had complished the boy where he say, while impression there was a great candles of material. The prisoner in the mere corrog-rank which might hav invossel all my househisth made all thinking of the contact in the cherish cities; the marvellous cinctual, which tages off on a thousand terror and and figure to the steam carrisue which many obstruck several masses of invaries with the seri and pointed and teecious truck, taking in his head to a single continually ancient points of three-horror, and why I have saw another infancy in the consect with the steady fatters and stranger. The town of a man would be the farther terrible descent to my stone--a king of different solucies of explanation in the place; and there was a farmhouse, the facto was indefined thate about a monoment. The struggles of the travelled height of a strong shaping ring of antraverncious, shape of thousand arrangements were somewhat about him. Thus it would have been securing about him in a present to the countenance of some prosecy in his careful incidents. It had been taken them in a mind, without time, I could not be neered in my own tigers and prints are still storm and the faces, we found it to a persuad to suppose for an excellent archive, and only by the stone black stone and the whole of the period. The shining almost--with mention of the state of the massage of my soul, and, in the sea was clussed as the formations of his pass of the box. It was one of the shoggoths.\n",
      "     It was able to my bosom to this party water, as in a childhood fragments of earth and the sea. I had studied them of the blow in by access, the canoes of the murmurs of the secondary stream threw\n",
      "degrees see in streets in the meteor of the mate was a strange brooding of the plusion of the same inches as if his foot of the stairs. Touchment and provisioned thing about the blight-so concrete interest of this complete remaining coloure in the proportion of the column and their province. The thought of the men and a croaked change of the dreaded secure with sea-bottom to speak. At the table and three moon-beasts, wholesome ancestry are more recognizing the powder, and their shades and the caverns his secrecisal midnights as the fright of anticipations, and sight of a presence of that contradiction of all the southern sea terrible belief. They are not a particle of pleasurable penguins. The trees throughout this mistake was all shadowed about the creatures too much as a cloud-room of mysterious a fancy; for it would of an animal with surprising metal, and which he could not be a matter of the corven and memories of tenantless and massively conceivable and dog. He spoken of story station in sight in the marvel who had carefully dreamed over the correction of the miles to the tongue. The fact the trees was any other antarctic monstrorable elder ship.\n",
      "\n",
      "The second tone of this matter had been called. He spoke how however tood an opportunity which must have they would have had travelled the traimed situation. And the first of time Innsmouth are more than a stages of their concreteing the case that he had been begun beyond the secrecy of the morning—both of mental conclusion. When I threw or to think the feeling of the precarious part of that strokes and danger, which this had begun to dispose the chimney’s cracking of his characters, which had been shaking out of the boat with his creature would profess my ordinary torch is to be the sands it at the far to any person of the state of this top tried, and the terrifus at the frantic well half the town wall and tried on the path too memories; with timidly terms of that, and on a change is able to relieve the sailow although they are now forgotten, but in six mental stone process of that point of thirst to search himself with a conflection of my streets of the containing and almost about. It was one of the terrors than were the singular. Obriaging the cloud of the mind was almost to streak. It was the first of the character, bringing, and shadowed all that sounded on half-prints were the sort of tense archaic specimens of accidents on the mate of his favority and simple wind. At the police strainliar height on the tenden character, is a part of three floor in searcily to be classed only to the cargation o\n"
     ]
    }
   ],
   "source": [
    "generated = sample(checkpoint, 5000, lstm_size, len(vocab), prime=\"The old folk have gone away\",mode=mode)\n",
    "print(generated)"
   ]
  },
  {
   "cell_type": "code",
   "execution_count": 50,
   "metadata": {},
   "outputs": [
    {
     "name": "stdout",
     "output_type": "stream",
     "text": [
      "characters\n",
      "INFO:tensorflow:Restoring parameters from checkpoints/mcharacters_i5340_l768.ckpt\n",
      "The thing that should not behin my part of two points, and a stream who consulted on a members about which his mistakeas which high heard, and then, with the strange world, and some of the start of the senses had contented the personality in the desig of thronging things about her the mind which was so finally; then, as I turned the carded stars, with all-currents of torch, and though the most stooped about the precipious mountain that was absolute in this side, and to the second tower source of a corpse, and the steps, were its chill of my burning and steppe about to time himself, but only the chamber of two walls if terrifies are again. The primal tine of the steps were clear or provised to say, attempting to think of the chorus of the propiding. At all these ancient sounds have becomes a clear to the country insteadous mental steady by the silent and the concern of some moments, and the first strange of the temperator could be so seen to me that a glass which there are some measure, and about as possible and aliening it to the firm that we may have been to be made one antient surface, and had that, as I hav instaited a greater secret of the breathing- if at all, to me that he would be surprised to make at this stretching, and to mydelf. I had seen only the myth head, where it, and the storeroom became a great creature. The curious stranger of the chaoner secured. They were so many of the most\n",
      "extrimate subtractible conditions and the fire. As I had better now applinated that, to the torch was in a few of the matter was\n",
      "too, in any other mountaed baterious masonry. He assiminated the seconds of a great dealing with the same above alluder, but there were not, a singular portion of my brain at a casoligh, which he did its crawling cords, and with an excessiveness immediately sent a stench and of the principal steps to their examining.\n",
      "     These\n",
      "and a man of telling our possible seven mental company was abroat. The crags of ancience, too, all over the book, and the significance was so taken, a time of the ship was soon as a black. I had not filled a strangely peringituent of the murches of the sea at at once, the thinner\n",
      "would be no\n",
      "permit of the same absence.\n",
      "\n",
      "It was abandoned in the mountain, with a powder of plainly; and the more stiffed at the prisoner of the cavole in attain that we could not bring. I said I was able to date an intent of my own in the moonlight of ancestor and membraneous terraces.\n",
      "     I declored a great bodies\n",
      "of the back of animals. He was at an aged barking of two otherwise that I had now should have been increased. I could not take to the ten million, which, a surface, it was never,hing, and\n",
      "was throow off in the person. Third of the\n",
      "countresid of the most distance, his mind into\n",
      "past were solemnass of immidotial case. Then, as if the primagical stone- I have said that it was a single suffering of my poisted, and\n",
      "a minute and sentiment\n",
      "waited at the morning, but which must have ever thinked them with three manuels; the fountain of meditations of thirth waste of his parentance were almost, and shortly\n",
      "afterward he saw through\n",
      "the first of the proffing watchers of the maise and about them; but which would be anyone with stranger whee there was something with the better attended as a fresh, or meres of the same similar motionless suggestions of the street.\n",
      "     We saw only on that peaked plain and the wind, and was in the matter is that\n",
      "of a heed, and,\n",
      "impressed,\n",
      "indeed, we had been took up at the single\n",
      "treal of the matter, been to contrive the same time, into the\n",
      "sound of my\n",
      "own\n",
      "excessive things what this walls was not only a man of their curving an infinite experiment. The passable heavy catacombs and store of\n",
      "the matter, and attempt to trade the features of the morning of the cabils and a man alone.\n",
      "\n",
      "    Of weather had a subternation of the beautiful sense of subtic trapperition, and thing, and this particular cross of my fatueaus and meant from\n",
      "me to be so strong, and then. The corrisor, it was a merinion of matters of the blasphemous membraneour in the sound, and so actually apptied, were in the\n",
      "chaos, the beginning of my business, and instantly, were strengthenished by the\n",
      "proper sides,\n",
      "and were two prevailings ofered, and terrible thirst, as we arched the struggles of a few wilbolm into the crowding. In this precise survived were\n",
      "only only weeks of more than\n",
      "fragments at\n",
      "the\n",
      "considerable perspective, but of which\n",
      "the fine way, and attempting her with statement it\n",
      "could bring it upon his presence, and it were tottering over a probable towers of the box, and it is the pardness, while the blace of the most immediate daylight shoulder as a blancht in the progress of\n",
      "the south,\n",
      "when his whip was sufficiently, as if if these casting three singned was there, although there was\n",
      "a month the witd our sound, with me without any\n",
      "tincoplagitant force or the static occasional steps in the\n",
      "couch. He was an intellect\n",
      "while the sounds of the brig the couctic above.\n",
      "\n",
      "Thus the faintest people was,\n",
      "\n",
      "\n",
      "\n",
      "\"I nobody arritately w\n"
     ]
    }
   ],
   "source": [
    "generated = sample(checkpoint, 5000, lstm_size, len(vocab), prime=\"The thing that should not be\",mode=mode)\n",
    "print(generated)"
   ]
  },
  {
   "cell_type": "markdown",
   "metadata": {
    "collapsed": true
   },
   "source": []
  }
 ],
 "metadata": {
  "kernelspec": {
   "display_name": "Python 3",
   "language": "python",
   "name": "python3"
  },
  "language_info": {
   "codemirror_mode": {
    "name": "ipython",
    "version": 3
   },
   "file_extension": ".py",
   "mimetype": "text/x-python",
   "name": "python",
   "nbconvert_exporter": "python",
   "pygments_lexer": "ipython3",
   "version": "3.6.3"
  }
 },
 "nbformat": 4,
 "nbformat_minor": 2
}
