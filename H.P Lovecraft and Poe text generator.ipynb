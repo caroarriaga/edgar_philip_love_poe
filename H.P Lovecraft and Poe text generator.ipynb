{
 "cells": [
  {
   "cell_type": "markdown",
   "metadata": {},
   "source": [
    "# Recurrent neural networks for H.P Lovecraft text generation\n",
    "\n",
    "\"The color out of space\" is one of my favorite tales from Lovecraft, i will use it(as well as others as the call of cthulhu) to create a recurrent neural network in tensorflow that learns his style and generates new text in his style\n",
    "\n",
    "This network is based off of Andrej Karpathy's [post on RNNs](http://karpathy.github.io/2015/05/21/rnn-effectiveness/) and [implementation in Torch](https://github.com/karpathy/char-rnn) and an example from \"Deep Learning Nanodegree\" on udacity. Also, some information [here at r2rt](http://r2rt.com/recurrent-neural-networks-in-tensorflow-ii.html) and from [Sherjil Ozair](https://github.com/sherjilozair/char-rnn-tensorflow) on GitHub. \n",
    "\n",
    "## General architecture using \"Long short term memory\" units in the recurrent layers\n",
    "\n",
    "<img src=\"assets/charseq.jpeg\" width=\"500\">"
   ]
  },
  {
   "cell_type": "code",
   "execution_count": 1,
   "metadata": {
    "collapsed": true
   },
   "outputs": [],
   "source": [
    "%matplotlib inline\n",
    "%config InlineBackend.figure_format = 'retina'"
   ]
  },
  {
   "cell_type": "code",
   "execution_count": 2,
   "metadata": {
    "collapsed": true
   },
   "outputs": [],
   "source": [
    "import time\n",
    "from collections import namedtuple\n",
    "\n",
    "import numpy as np\n",
    "import tensorflow as tf\n",
    "from nltk.tokenize import word_tokenize\n",
    "import nltk\n",
    "import itertools\n",
    "import matplotlib.pyplot as plt\n",
    "from time import gmtime, strftime ,localtime"
   ]
  },
  {
   "cell_type": "code",
   "execution_count": 3,
   "metadata": {
    "collapsed": true
   },
   "outputs": [],
   "source": [
    "# Run only the  first time nltk is used to download language\n",
    "#nltk.download()"
   ]
  },
  {
   "cell_type": "markdown",
   "metadata": {},
   "source": [
    "### Define conf variables and hyper parameteters "
   ]
  },
  {
   "cell_type": "code",
   "execution_count": 84,
   "metadata": {
    "collapsed": true
   },
   "outputs": [],
   "source": [
    "mode = \"characters\" #characters or words\n",
    "\n",
    "epochs = 15\n",
    "batch_size = 128       # Sequences per batch\n",
    "num_steps = 75         # Number of sequence steps per batch\n",
    "lstm_size = 768         # Size of hidden layers in LSTMs\n",
    "num_layers = 2          # Number of LSTM layers\n",
    "learning_rate = 0.00001  # Learning rate\n",
    "keep_prob = 1       # Dropout keep probability\n",
    "\n",
    "resume_from_checkpoint = True"
   ]
  },
  {
   "cell_type": "markdown",
   "metadata": {},
   "source": [
    "### Define base text\n",
    "Once trained ,the network can take base text and a sequence size and generate new text using base text as first characters in the sequence. For every element in base text wi will create a list that will store generated text as training goes, to be able to compare results between steps"
   ]
  },
  {
   "cell_type": "code",
   "execution_count": 5,
   "metadata": {
    "collapsed": true
   },
   "outputs": [],
   "source": [
    "text_to_try = [\"In the first place\",\"the night before\",\"horror\",\"creature\",\"night\",\"dream\",\"thing\",\"That night\",\"mountain\",\"Ammi\",\"Cthulhu\",\"raven\",\"bird\",\"nevermore\",\"dead\",\"The bird\"]"
   ]
  },
  {
   "cell_type": "markdown",
   "metadata": {},
   "source": [
    "#### Function that separates text into tokens(for whitespace characters, only new line is implemented, missing tabs and others="
   ]
  },
  {
   "cell_type": "code",
   "execution_count": 6,
   "metadata": {},
   "outputs": [
    {
     "data": {
      "text/plain": [
       "['H',\n",
       " 'e',\n",
       " 'l',\n",
       " 'l',\n",
       " 'o',\n",
       " ',',\n",
       " ' ',\n",
       " 'm',\n",
       " 'y',\n",
       " ' ',\n",
       " 'n',\n",
       " 'a',\n",
       " 'm',\n",
       " 'e',\n",
       " ' ',\n",
       " 'i',\n",
       " 's',\n",
       " ' ',\n",
       " 'L',\n",
       " 'u',\n",
       " 'i',\n",
       " 's',\n",
       " ' ',\n",
       " 'L',\n",
       " 'e',\n",
       " 'a',\n",
       " 'l',\n",
       " '!',\n",
       " '\\n',\n",
       " '\\n',\n",
       " 'F',\n",
       " 'r',\n",
       " 'o',\n",
       " 'm',\n",
       " ' ',\n",
       " 'G',\n",
       " 'u',\n",
       " 'a',\n",
       " 't',\n",
       " 'e',\n",
       " 'm',\n",
       " 'a',\n",
       " 'l',\n",
       " 'a']"
      ]
     },
     "execution_count": 6,
     "metadata": {},
     "output_type": "execute_result"
    }
   ],
   "source": [
    "def tokenize_by_words(text):\n",
    "    text = text.replace(\"\\n\",\" new_line_token \")\n",
    "    tokens = []\n",
    "    splitted =[[word_tokenize(w),' ']for w in text.split()]\n",
    "    splitted = list(itertools.chain(*list(itertools.chain(*splitted))))\n",
    "    \n",
    "    token_list = []\n",
    "    i = 0\n",
    "    while i < len(splitted):\n",
    "        if splitted[i] == \"new_line_token\":\n",
    "            if   token_list[-1]==\" \":\n",
    "                token_list[-1] = splitted[i]\n",
    "            else:\n",
    "                token_list.append(splitted[i])\n",
    "            i+=1\n",
    "        else:\n",
    "            token_list.append(splitted[i])\n",
    "        i+=1\n",
    "    \n",
    "    return token_list\n",
    "\n",
    "def tokenize_by_characters(text):\n",
    "    return list(text)\n",
    "\n",
    "def tokenize_text(text,mode=\"characters\"):\n",
    "    if mode == \"characters\":\n",
    "        return tokenize_by_characters(text)\n",
    "    elif mode == \"words\":\n",
    "        return tokenize_by_words(text)\n",
    "    \n",
    "tokenize_text(\"Hello, my name is Luis Leal!\\n\\nFrom Guatemala\",mode)\n",
    "#tokenize_text(\"Hello, my name is Luis Leal!\\n\\nFrom Guatemala\",\"words\")\n"
   ]
  },
  {
   "cell_type": "markdown",
   "metadata": {},
   "source": [
    "First we'll load the text file and convert it into integers for our network to use. Here I'm creating a couple dictionaries to convert the characters to and from integers. Encoding the characters as integers makes it easier to use as input in the network."
   ]
  },
  {
   "cell_type": "code",
   "execution_count": 7,
   "metadata": {
    "collapsed": true
   },
   "outputs": [],
   "source": [
    "with open('corpus.txt', 'r') as f:\n",
    "    text=f.read()"
   ]
  },
  {
   "cell_type": "code",
   "execution_count": 8,
   "metadata": {
    "collapsed": true
   },
   "outputs": [],
   "source": [
    "vocab = set(tokenize_text(text,mode))\n",
    "vocab_to_int = {c: i for i, c in enumerate(vocab)}\n",
    "int_to_vocab = dict(enumerate(vocab))"
   ]
  },
  {
   "cell_type": "markdown",
   "metadata": {},
   "source": [
    "### Get a little portion of text for validation"
   ]
  },
  {
   "cell_type": "code",
   "execution_count": 9,
   "metadata": {
    "collapsed": true
   },
   "outputs": [],
   "source": [
    "tokenized_text = tokenize_text(text,mode)\n",
    "encoded_dataset = np.array([vocab_to_int[c] for c in tokenized_text if c in vocab_to_int], dtype=np.int32)"
   ]
  },
  {
   "cell_type": "code",
   "execution_count": 10,
   "metadata": {
    "collapsed": true
   },
   "outputs": [],
   "source": [
    "validation_size = batch_size * num_steps #create a single baty\n",
    "validation_start_index = len(encoded_dataset) - validation_size\n",
    "\n",
    "encoded = encoded_dataset[:validation_start_index]\n",
    "encoded_val = encoded_dataset[validation_start_index:]"
   ]
  },
  {
   "cell_type": "code",
   "execution_count": 11,
   "metadata": {},
   "outputs": [
    {
     "name": "stdout",
     "output_type": "stream",
     "text": [
      "r genera of creatures are germinated) -- the spontaneous germination, I say, of five vast hordes of \n"
     ]
    }
   ],
   "source": [
    "def encoded_to_text(encoded):\n",
    "    return \"\".join([int_to_vocab[number] for number in encoded])\n",
    "\n",
    "print(encoded_to_text(encoded_val[0:100]))"
   ]
  },
  {
   "cell_type": "code",
   "execution_count": 12,
   "metadata": {
    "collapsed": true
   },
   "outputs": [],
   "source": [
    "val_text =encoded_to_text(encoded_val)\n",
    "text = encoded_to_text(encoded)"
   ]
  },
  {
   "cell_type": "markdown",
   "metadata": {},
   "source": [
    "Let's check out the first 100 characters of train and validation, make sure everything is peachy.  line of a book ever."
   ]
  },
  {
   "cell_type": "code",
   "execution_count": 13,
   "metadata": {},
   "outputs": [
    {
     "data": {
      "text/plain": [
       "'THE COLOUR OUT OF SPACE\\n\\nWest of Arkham the hills rise wild, and there are valleys with deep woods t'"
      ]
     },
     "execution_count": 13,
     "metadata": {},
     "output_type": "execute_result"
    }
   ],
   "source": [
    "text[:100]"
   ]
  },
  {
   "cell_type": "code",
   "execution_count": 14,
   "metadata": {},
   "outputs": [
    {
     "data": {
      "text/plain": [
       "'r genera of creatures are germinated) -- the spontaneous germination, I say, of five vast hordes of '"
      ]
     },
     "execution_count": 14,
     "metadata": {},
     "output_type": "execute_result"
    }
   ],
   "source": [
    "val_text[:100]"
   ]
  },
  {
   "cell_type": "markdown",
   "metadata": {},
   "source": [
    "And we can see the characters encoded as integersin both train and validation"
   ]
  },
  {
   "cell_type": "code",
   "execution_count": 15,
   "metadata": {},
   "outputs": [
    {
     "data": {
      "text/plain": [
       "array([46, 49, 56, 15, 74, 10, 58, 10, 63, 73, 15, 10, 63, 46, 15, 10, 65,\n",
       "       15, 66, 77, 57, 74, 56, 84, 84, 53, 83, 54, 45, 15, 29,  8, 15, 57,\n",
       "       39, 19, 82, 14, 96, 15, 45, 82, 83, 15, 82, 44,  5,  5, 54, 15, 39,\n",
       "       44, 54, 83, 15, 89, 44,  5, 97, 31, 15, 14, 48, 97, 15, 45, 82, 83,\n",
       "       39, 83, 15, 14, 39, 83, 15, 79, 14,  5,  5, 83, 32, 54, 15, 89, 44,\n",
       "       45, 82, 15, 97, 83, 83, 91, 15, 89, 29, 29, 97, 54, 15, 45], dtype=int32)"
      ]
     },
     "execution_count": 15,
     "metadata": {},
     "output_type": "execute_result"
    }
   ],
   "source": [
    "encoded[:100]"
   ]
  },
  {
   "cell_type": "code",
   "execution_count": 16,
   "metadata": {},
   "outputs": [
    {
     "data": {
      "text/plain": [
       "array([39, 15, 38, 83, 48, 83, 39, 14, 15, 29,  8, 15, 21, 39, 83, 14, 45,\n",
       "       86, 39, 83, 54, 15, 14, 39, 83, 15, 38, 83, 39, 96, 44, 48, 14, 45,\n",
       "       83, 97, 76, 15, 35, 35, 15, 45, 82, 83, 15, 54, 91, 29, 48, 45, 14,\n",
       "       48, 83, 29, 86, 54, 15, 38, 83, 39, 96, 44, 48, 14, 45, 44, 29, 48,\n",
       "       31, 15, 93, 15, 54, 14, 32, 31, 15, 29,  8, 15,  8, 44, 79, 83, 15,\n",
       "       79, 14, 54, 45, 15, 82, 29, 39, 97, 83, 54, 15, 29,  8, 15], dtype=int32)"
      ]
     },
     "execution_count": 16,
     "metadata": {},
     "output_type": "execute_result"
    }
   ],
   "source": [
    "encoded_val[0:100]"
   ]
  },
  {
   "cell_type": "markdown",
   "metadata": {},
   "source": [
    "Since the network is working with individual english tokens, it's similar to a classification problem in which we are trying to predict the next character from the previous text.  Here's how many 'classes' our network has to pick from."
   ]
  },
  {
   "cell_type": "code",
   "execution_count": 17,
   "metadata": {},
   "outputs": [
    {
     "data": {
      "text/plain": [
       "102"
      ]
     },
     "execution_count": 17,
     "metadata": {},
     "output_type": "execute_result"
    }
   ],
   "source": [
    "len(vocab)"
   ]
  },
  {
   "cell_type": "markdown",
   "metadata": {},
   "source": [
    "## Making training mini-batches\n",
    "\n",
    "Here is where we'll make our mini-batches for training. Remember that we want our batches to be multiple sequences of some desired number of sequence steps. Considering a simple example, our batches would look like this:\n",
    "\n",
    "<img src=\"assets/sequence_batching@1x.png\" width=500px>\n",
    "\n",
    "\n",
    "<br>\n",
    "We have our text encoded as integers as one long array in `encoded`. Let's create a function that will give us an iterator for our batches. I like using [generator functions](https://jeffknupp.com/blog/2013/04/07/improve-your-python-yield-and-generators-explained/) to do this. Then we can pass `encoded` into this function and get our batch generator.\n",
    "\n",
    "The first thing we need to do is discard some of the text so we only have completely full batches. Each batch contains $N \\times M$ characters, where $N$ is the batch size (the number of sequences) and $M$ is the number of steps. Then, to get the number of batches we can make from some array `arr`, you divide the length of `arr` by the batch size. Once you know the number of batches and the batch size, you can get the total number of characters to keep.\n",
    "\n",
    "After that, we need to split `arr` into $N$ sequences. You can do this using `arr.reshape(size)` where `size` is a tuple containing the dimensions sizes of the reshaped array. We know we want $N$ sequences (`n_seqs` below), let's make that the size of the first dimension. For the second dimension, you can use `-1` as a placeholder in the size, it'll fill up the array with the appropriate data for you. After this, you should have an array that is $N \\times (M * K)$ where $K$ is the number of batches.\n",
    "\n",
    "Now that we have this array, we can iterate through it to get our batches. The idea is each batch is a $N \\times M$ window on the array. For each subsequent batch, the window moves over by `n_steps`. We also want to create both the input and target arrays. Remember that the targets are the inputs shifted over one character. You'll usually see the first input character used as the last target character, so something like this:\n",
    "```python\n",
    "y[:, :-1], y[:, -1] = x[:, 1:], x[:, 0]\n",
    "```\n",
    "where `x` is the input batch and `y` is the target batch.\n",
    "\n",
    "The way I like to do this window is use `range` to take steps of size `n_steps` from $0$ to `arr.shape[1]`, the total number of steps in each sequence. That way, the integers you get from `range` always point to the start of a batch, and each window is `n_steps` wide."
   ]
  },
  {
   "cell_type": "code",
   "execution_count": 18,
   "metadata": {
    "collapsed": true
   },
   "outputs": [],
   "source": [
    "def get_batches(arr, n_seqs, n_steps):\n",
    "    '''Create a generator that returns batches of size\n",
    "       n_seqs x n_steps from arr.\n",
    "       \n",
    "       Arguments\n",
    "       ---------\n",
    "       arr: Array you want to make batches from\n",
    "       n_seqs: Batch size, the number of sequences per batch\n",
    "       n_steps: Number of sequence steps per batch\n",
    "    '''\n",
    "    # Get the batch size and number of batches we can make\n",
    "    batch_size = n_seqs * n_steps \n",
    "    n_batches =  len(arr)//batch_size\n",
    "    \n",
    "    # Keep only enough characters to make full batches\n",
    "    arr =  arr[:n_batches*batch_size]\n",
    "    \n",
    "    # Reshape into n_seqs rows\n",
    "    arr = arr.reshape((n_seqs,-1))\n",
    "    \n",
    "    for n in range(0, arr.shape[1], n_steps):\n",
    "        # The features\n",
    "        x = arr[:,n:n+n_steps]\n",
    "        # The targets, shifted by one\n",
    "        y = np.zeros(x.shape)\n",
    "        y[:,:-1],y[:,-1] = x[:,1:] ,x[:,0]\n",
    "        yield x, y"
   ]
  },
  {
   "cell_type": "markdown",
   "metadata": {},
   "source": [
    "Now I'll make my data sets and we can check out what's going on here. Here I'm going to use a batch size of 10 and 50 sequence steps."
   ]
  },
  {
   "cell_type": "code",
   "execution_count": 19,
   "metadata": {
    "collapsed": true
   },
   "outputs": [],
   "source": [
    "batches = get_batches(encoded, 10, 50)\n",
    "x, y = next(batches)"
   ]
  },
  {
   "cell_type": "code",
   "execution_count": 20,
   "metadata": {},
   "outputs": [
    {
     "name": "stdout",
     "output_type": "stream",
     "text": [
      "x\n",
      " [[46 49 56 15 74 10 58 10 63 73]\n",
      " [15 54 83 45 15 14 91 91 83 14]\n",
      " [15 21 14 79 83 39 48 29 86 54]\n",
      " [83 97 15  5 29 29 91 82 29  5]\n",
      " [45  5 32 15 45 29 15 14  5  5]\n",
      " [83 14 39  5 32 15 21 14  5 96]\n",
      " [83 54 15 89 83 39 83 15 14 38]\n",
      " [48 15 14 97 79 14 48 21 83 31]\n",
      " [14 21 83 97 15 97 29 89 48 15]\n",
      " [45 14 44 48  2 54 15 69 14 54]]\n",
      "\n",
      "y\n",
      " [[ 49.  56.  15.  74.  10.  58.  10.  63.  73.  15.]\n",
      " [ 54.  83.  45.  15.  14.  91.  91.  83.  14.   5.]\n",
      " [ 21.  14.  79.  83.  39.  48.  29.  86.  54.  15.]\n",
      " [ 97.  15.   5.  29.  29.  91.  82.  29.   5.  83.]\n",
      " [  5.  32.  15.  45.  29.  15.  14.   5.   5.  29.]\n",
      " [ 14.  39.   5.  32.  15.  21.  14.   5.  96.  31.]\n",
      " [ 54.  15.  89.  83.  39.  83.  15.  14.  38.  14.]\n",
      " [ 15.  14.  97.  79.  14.  48.  21.  83.  31.  15.]\n",
      " [ 21.  83.  97.  15.  97.  29.  89.  48.  15.  91.]\n",
      " [ 14.  44.  48.   2.  54.  15.  69.  14.  54.  83.]]\n"
     ]
    }
   ],
   "source": [
    "print('x\\n', x[:10, :10])\n",
    "print('\\ny\\n', y[:10, :10])"
   ]
  },
  {
   "cell_type": "markdown",
   "metadata": {},
   "source": [
    "## Building the model\n",
    "\n",
    "Below is where you'll build the network. We'll break it up into parts so it's easier to reason about each bit. Then we can connect them up into the whole network.\n",
    "\n",
    "<img src=\"assets/charRNN.png\" width=500px>\n",
    "\n",
    "\n",
    "### Inputs\n",
    "\n",
    "First off we'll create our input placeholders. As usual we need placeholders for the training data and the targets. We'll also create a placeholder for dropout layers called `keep_prob`. This will be a scalar, that is a 0-D tensor. To make a scalar, you create a placeholder without giving it a size."
   ]
  },
  {
   "cell_type": "code",
   "execution_count": 21,
   "metadata": {
    "collapsed": true
   },
   "outputs": [],
   "source": [
    "def build_inputs(batch_size, num_steps):\n",
    "    ''' Define placeholders for inputs, targets, and dropout \n",
    "    \n",
    "        Arguments\n",
    "        ---------\n",
    "        batch_size: Batch size, number of sequences per batch\n",
    "        num_steps: Number of sequence steps in a batch\n",
    "        \n",
    "    '''\n",
    "    # Declare placeholders we'll feed into the graph\n",
    "    inputs = tf.placeholder(tf.int32,[batch_size,num_steps],name=\"inputs\")\n",
    "    targets = tf.placeholder(tf.int32,[batch_size,num_steps],name=\"targets\")\n",
    "    \n",
    "    # Keep probability placeholder for drop out layers\n",
    "    keep_prob = tf.placeholder(tf.float32,name=\"keep_prob\")\n",
    "    \n",
    "    return inputs, targets, keep_prob"
   ]
  },
  {
   "cell_type": "markdown",
   "metadata": {},
   "source": [
    "### LSTM Cell\n",
    "\n",
    "Here we will create the LSTM cell we'll use in the hidden layer. We'll use this cell as a building block for the RNN. So we aren't actually defining the RNN here, just the type of cell we'll use in the hidden layer.\n",
    "\n",
    "We first create a basic LSTM cell with\n",
    "\n",
    "```python\n",
    "lstm = tf.contrib.rnn.BasicLSTMCell(num_units)\n",
    "```\n",
    "\n",
    "where `num_units` is the number of units in the hidden layers in the cell. Then we can add dropout by wrapping it with \n",
    "\n",
    "```python\n",
    "tf.contrib.rnn.DropoutWrapper(lstm, output_keep_prob=keep_prob)\n",
    "```\n",
    "You pass in a cell and it will automatically add dropout to the inputs or outputs. Finally, we can stack up the LSTM cells into layers with [`tf.contrib.rnn.MultiRNNCell`](https://www.tensorflow.org/versions/r1.0/api_docs/python/tf/contrib/rnn/MultiRNNCell). With this, you pass in a list of cells and it will send the output of one cell into the next cell. For example,\n",
    "\n",
    "```python\n",
    "tf.contrib.rnn.MultiRNNCell([cell]*num_layers)\n",
    "```\n",
    "\n",
    "This might look a little weird if you know Python well because this will create a list of the same `cell` object. However, TensorFlow will create different weight matrices for all `cell` objects. Even though this is actually multiple LSTM cells stacked on each other, you can treat the multiple layers as one cell.\n",
    "\n",
    "We also need to create an initial cell state of all zeros. This can be done like so\n",
    "\n",
    "```python\n",
    "initial_state = cell.zero_state(batch_size, tf.float32)\n",
    "```\n"
   ]
  },
  {
   "cell_type": "code",
   "execution_count": 22,
   "metadata": {
    "collapsed": true
   },
   "outputs": [],
   "source": [
    "def build_lstm(lstm_size, num_layers, batch_size, keep_prob):\n",
    "    ''' Build LSTM cell.\n",
    "    \n",
    "        Arguments\n",
    "        ---------\n",
    "        keep_prob: Scalar tensor (tf.placeholder) for the dropout keep probability\n",
    "        lstm_size: Size of the hidden layers in the LSTM cells\n",
    "        num_layers: Number of LSTM layers\n",
    "        batch_size: Batch size\n",
    "\n",
    "    '''\n",
    "    ### Build the LSTM Cell\n",
    "    # Use a basic LSTM cell\n",
    "    # Add dropout to the cell outputs\n",
    "    # Stack up multiple LSTM layers, for deep learning\n",
    "    cell = tf.contrib.rnn.MultiRNNCell([tf.contrib.rnn.DropoutWrapper( tf.contrib.rnn.BasicLSTMCell(lstm_size),output_keep_prob = keep_prob) for _ in range(num_layers)])\n",
    "    initial_state = cell.zero_state(batch_size,tf.float32)\n",
    "    \n",
    "    return cell, initial_state"
   ]
  },
  {
   "cell_type": "markdown",
   "metadata": {},
   "source": [
    "### RNN Output\n",
    "\n",
    "Here we'll create the output layer. We need to connect the output of the RNN cells to a full connected layer with a softmax output. The softmax output gives us a probability distribution we can use to predict the next character, so we want this layer to have size $C$, the number of classes/characters we have in our text.\n",
    "\n",
    "If our input has batch size $N$, number of steps $M$, and the hidden layer has $L$ hidden units, then the output is a 3D tensor with size $N \\times M \\times L$. The output of each LSTM cell has size $L$, we have $M$ of them, one for each sequence step, and we have $N$ sequences. So the total size is $N \\times M \\times L$. \n",
    "\n",
    "We are using the same fully connected layer, the same weights, for each of the outputs. Then, to make things easier, we should reshape the outputs into a 2D tensor with shape $(M * N) \\times L$. That is, one row for each sequence and step, where the values of each row are the output from the LSTM cells. We get the LSTM output as a list, `lstm_output`. First we need to concatenate this whole list into one array with [`tf.concat`](https://www.tensorflow.org/api_docs/python/tf/concat). Then, reshape it (with `tf.reshape`) to size $(M * N) \\times L$.\n",
    "\n",
    "One we have the outputs reshaped, we can do the matrix multiplication with the weights. We need to wrap the weight and bias variables in a variable scope with `tf.variable_scope(scope_name)` because there are weights being created in the LSTM cells. TensorFlow will throw an error if the weights created here have the same names as the weights created in the LSTM cells, which they will be default. To avoid this, we wrap the variables in a variable scope so we can give them unique names.\n"
   ]
  },
  {
   "cell_type": "code",
   "execution_count": 23,
   "metadata": {
    "collapsed": true
   },
   "outputs": [],
   "source": [
    "def build_output(lstm_output, in_size, out_size):\n",
    "    ''' Build a softmax layer, return the softmax output and logits.\n",
    "    \n",
    "        Arguments\n",
    "        ---------\n",
    "        \n",
    "        lstm_output: List of output tensors from the LSTM layer\n",
    "        in_size: Size of the input tensor, for example, size of the LSTM cells\n",
    "        out_size: Size of this softmax layer\n",
    "    \n",
    "    '''\n",
    "\n",
    "    # Reshape output so it's a bunch of rows, one row for each step for each sequence.\n",
    "    # Concatenate lstm_output over axis 1 (the columns)\n",
    "    seq_output = tf.concat(lstm_output,axis=1)\n",
    "    # Reshape seq_output to a 2D tensor with lstm_size columns\n",
    "    x = tf.reshape(seq_output,[-1,in_size])\n",
    "    \n",
    "    # Connect the RNN outputs to a softmax layer\n",
    "    with tf.variable_scope('softmax'):\n",
    "        # Create the weight and bias variables here\n",
    "        softmax_w = tf.Variable(tf.truncated_normal((in_size, out_size),stddev=0.1))\n",
    "        softmax_b = tf.Variable(tf.zeros([out_size]))\n",
    "    \n",
    "    # Since output is a bunch of rows of RNN cell outputs, logits will be a bunch\n",
    "    # of rows of logit outputs, one for each step and sequence\n",
    "    logits =  tf.add(tf.matmul(x,softmax_w),softmax_b) \n",
    "    \n",
    "    # Use softmax to get the probabilities for predicted characters\n",
    "    out = tf.nn.softmax(logits,name =\"out\")\n",
    "    \n",
    "    return out, logits"
   ]
  },
  {
   "cell_type": "markdown",
   "metadata": {},
   "source": [
    "### Training loss\n",
    "\n",
    "Next up is the training loss. We get the logits and targets and calculate the softmax cross-entropy loss. First we need to one-hot encode the targets, we're getting them as encoded characters. Then, reshape the one-hot targets so it's a 2D tensor with size $(M*N) \\times C$ where $C$ is the number of classes/characters we have. Remember that we reshaped the LSTM outputs and ran them through a fully connected layer with $C$ units. So our logits will also have size $(M*N) \\times C$.\n",
    "\n",
    "Then we run the logits and targets through `tf.nn.softmax_cross_entropy_with_logits` and find the mean to get the loss."
   ]
  },
  {
   "cell_type": "code",
   "execution_count": 24,
   "metadata": {
    "collapsed": true
   },
   "outputs": [],
   "source": [
    "def build_loss(logits, targets, lstm_size, num_classes):\n",
    "    ''' Calculate the loss from the logits and the targets.\n",
    "    \n",
    "        Arguments\n",
    "        ---------\n",
    "        logits: Logits from final fully connected layer\n",
    "        targets: Targets for supervised learning\n",
    "        lstm_size: Number of LSTM hidden units\n",
    "        num_classes: Number of classes in targets\n",
    "        \n",
    "    '''\n",
    "    # One-hot encode targets and reshape to match logits, one row per sequence per step\n",
    "    y_one_hot = tf.one_hot(targets,num_classes)\n",
    "    y_reshaped =  tf.reshape(y_one_hot,logits.get_shape())\n",
    "    \n",
    "    # Softmax cross entropy loss\n",
    "    loss = tf.reduce_mean(tf.nn.softmax_cross_entropy_with_logits(logits=logits,labels=y_reshaped))\n",
    "    \n",
    "    return loss"
   ]
  },
  {
   "cell_type": "markdown",
   "metadata": {},
   "source": [
    "### Optimizer\n",
    "\n",
    "Here we build the optimizer. Normal RNNs have have issues gradients exploding and disappearing. LSTMs fix the disappearance problem, but the gradients can still grow without bound. To fix this, we can clip the gradients above some threshold. That is, if a gradient is larger than that threshold, we set it to the threshold. This will ensure the gradients never grow overly large. Then we use an AdamOptimizer for the learning step."
   ]
  },
  {
   "cell_type": "code",
   "execution_count": 25,
   "metadata": {
    "collapsed": true
   },
   "outputs": [],
   "source": [
    "def build_optimizer(loss, learning_rate, grad_clip,global_step):\n",
    "    ''' Build optmizer for training, using gradient clipping.\n",
    "    \n",
    "        Arguments:\n",
    "        loss: Network loss\n",
    "        learning_rate: Learning rate for optimizer\n",
    "        global_step: to control the total number of train steps\n",
    "    \n",
    "    '''\n",
    "    \n",
    "    # Optimizer for training, using gradient clipping to control exploding gradients\n",
    "    tvars = tf.trainable_variables()\n",
    "    grads, _ = tf.clip_by_global_norm(tf.gradients(loss, tvars), grad_clip)\n",
    "    train_op = tf.train.AdamOptimizer(learning_rate)\n",
    "    optimizer = train_op.apply_gradients(zip(grads, tvars),global_step)\n",
    "    \n",
    "    return optimizer"
   ]
  },
  {
   "cell_type": "markdown",
   "metadata": {},
   "source": [
    "### Build the network\n",
    "\n",
    "Now we can put all the pieces together and build a class for the network. To actually run data through the LSTM cells, we will use [`tf.nn.dynamic_rnn`](https://www.tensorflow.org/versions/r1.0/api_docs/python/tf/nn/dynamic_rnn). This function will pass the hidden and cell states across LSTM cells appropriately for us. It returns the outputs for each LSTM cell at each step for each sequence in the mini-batch. It also gives us the final LSTM state. We want to save this state as `final_state` so we can pass it to the first LSTM cell in the the next mini-batch run. For `tf.nn.dynamic_rnn`, we pass in the cell and initial state we get from `build_lstm`, as well as our input sequences. Also, we need to one-hot encode the inputs before going into the RNN. \n"
   ]
  },
  {
   "cell_type": "code",
   "execution_count": 26,
   "metadata": {
    "collapsed": true
   },
   "outputs": [],
   "source": [
    "class CharRNN:\n",
    "    \n",
    "    def __init__(self, num_classes, batch_size=64, num_steps=50, \n",
    "                       lstm_size=128, num_layers=2, learning_rate=0.001, \n",
    "                       grad_clip=5, sampling=False):\n",
    "    \n",
    "        # When we're using this network for sampling later, we'll be passing in\n",
    "        # one character at a time, so providing an option for that\n",
    "        if sampling == True:\n",
    "            batch_size, num_steps = 1, 1\n",
    "        else:\n",
    "            batch_size, num_steps = batch_size, num_steps\n",
    "\n",
    "        tf.reset_default_graph()\n",
    "        \n",
    "        self.global_step_tensor = tf.Variable(0,trainable=False,name = \"global_step\")\n",
    "        # Build the input placeholder tensors\n",
    "        self.inputs, self.targets, self.keep_prob = build_inputs(batch_size,num_steps)\n",
    "        # Build the LSTM cell\n",
    "        cell, self.initial_state = build_lstm(lstm_size,num_layers,batch_size,self.keep_prob)\n",
    "        ### Run the data through the RNN layers\n",
    "        # First, one-hot encode the input tokens\n",
    "        x_one_hot = tf.one_hot(self.inputs,num_classes)\n",
    "        \n",
    "        self.grad_clip  = grad_clip\n",
    "        # Run each sequence step through the RNN with tf.nn.dynamic_rnn \n",
    "        outputs, state = tf.nn.dynamic_rnn(cell,x_one_hot,initial_state=self.initial_state)\n",
    "        self.final_state = state\n",
    "        \n",
    "        # Get softmax predictions and logits\n",
    "        self.prediction, self.logits = build_output(outputs,lstm_size,num_classes)\n",
    "        \n",
    "        # Loss and optimizer (with gradient clipping)\n",
    "        self.loss =  build_loss(self.logits,self.targets,lstm_size,num_classes)\n",
    "        self.optimizer = build_optimizer(self.loss,learning_rate,grad_clip,self.global_step_tensor)"
   ]
  },
  {
   "cell_type": "markdown",
   "metadata": {},
   "source": [
    "## Hyperparameters\n",
    "\n",
    "Here are the hyperparameters for the network.\n",
    "\n",
    "* `batch_size` - Number of sequences running through the network in one pass.\n",
    "* `num_steps` - Number of characters in the sequence the network is trained on. Larger is better typically, the network will learn more long range dependencies. But it takes longer to train. 100 is typically a good number here.\n",
    "* `lstm_size` - The number of units in the hidden layers.\n",
    "* `num_layers` - Number of hidden LSTM layers to use\n",
    "* `learning_rate` - Learning rate for training\n",
    "* `keep_prob` - The dropout keep probability when training. If you're network is overfitting, try decreasing this.\n",
    "\n",
    "Here's some good advice from Andrej Karpathy on training the network:. \n",
    "\n",
    "> ## Tips and Tricks\n",
    "\n",
    ">### Monitoring Validation Loss vs. Training Loss\n",
    ">If you're somewhat new to Machine Learning or Neural Networks it can take a bit of expertise to get good models. The most important quantity to keep track of is the difference between your training loss (printed during training) and the validation loss (printed once in a while when the RNN is run on the validation data (by default every 1000 iterations)). In particular:\n",
    "\n",
    "> - If your training loss is much lower than validation loss then this means the network might be **overfitting**. Solutions to this are to decrease your network size, or to increase dropout. For example you could try dropout of 0.5 and so on.\n",
    "> - If your training/validation loss are about equal then your model is **underfitting**. Increase the size of your model (either number of layers or the raw number of neurons per layer)\n",
    "\n",
    "> ### Approximate number of parameters\n",
    "\n",
    "> The two most important parameters that control the model are `lstm_size` and `num_layers`. I would advise that you always use `num_layers` of either 2/3. The `lstm_size` can be adjusted based on how much data you have. The two important quantities to keep track of here are:\n",
    "\n",
    "> - The number of parameters in your model. This is printed when you start training.\n",
    "> - The size of your dataset. 1MB file is approximately 1 million characters.\n",
    "\n",
    ">These two should be about the same order of magnitude. It's a little tricky to tell. Here are some examples:\n",
    "\n",
    "> - I have a 100MB dataset and I'm using the default parameter settings (which currently print 150K parameters). My data size is significantly larger (100 mil >> 0.15 mil), so I expect to heavily underfit. I am thinking I can comfortably afford to make `lstm_size` larger.\n",
    "> - I have a 10MB dataset and running a 10 million parameter model. I'm slightly nervous and I'm carefully monitoring my validation loss. If it's larger than my training loss then I may want to try to increase dropout a bit and see if that helps the validation loss.\n",
    "\n",
    "> ### Best models strategy\n",
    "\n",
    ">The winning strategy to obtaining very good models (if you have the compute time) is to always err on making the network larger (as large as you're willing to wait for it to compute) and then try different dropout values (between 0,1). Whatever model has the best validation performance (the loss, written in the checkpoint filename, low is good) is the one you should use in the end.\n",
    "\n",
    ">It is very common in deep learning to run many different models with many different hyperparameter settings, and in the end take whatever checkpoint gave the best validation performance.\n",
    "\n",
    ">By the way, the size of your training and validation splits are also parameters. Make sure you have a decent amount of data in your validation set or otherwise the validation performance will be noisy and not very informative."
   ]
  },
  {
   "cell_type": "code",
   "execution_count": 27,
   "metadata": {
    "collapsed": true
   },
   "outputs": [],
   "source": [
    "def get_number_of_parameters():\n",
    "    total_parameters = 0\n",
    "    for variable in tf.trainable_variables():\n",
    "        shape = variable.get_shape()\n",
    "        #print(shape)\n",
    "        #print(len(shape))\n",
    "        variable_parameters = 1\n",
    "        \n",
    "        for dim in shape:\n",
    "            #print(dim)\n",
    "            variable_parameters*=dim.value\n",
    "        #print(variable_parameters)\n",
    "        total_parameters+= variable_parameters\n",
    "    return total_parameters"
   ]
  },
  {
   "cell_type": "code",
   "execution_count": 28,
   "metadata": {
    "collapsed": true
   },
   "outputs": [],
   "source": [
    "def pick_top_n(preds, vocab_size, top_n=5):\n",
    "    p = np.squeeze(preds)\n",
    "    p[np.argsort(p)[:-top_n]] = 0\n",
    "    p = p / np.sum(p)\n",
    "    c = np.random.choice(vocab_size, 1, p=p)[0]\n",
    "    return c"
   ]
  },
  {
   "cell_type": "markdown",
   "metadata": {},
   "source": [
    "## Time for training\n",
    "\n",
    "This is typical training code, passing inputs and targets into the network, then running the optimizer. Here we also get back the final LSTM state for the mini-batch. Then, we pass that state back into the network so the next batch can continue the state from the previous batch. And every so often (set by `save_every_n`) I save a checkpoint.\n",
    "\n",
    "Here I'm saving checkpoints with the format\n",
    "\n",
    "`i{iteration number}_l{# hidden layer units}.ckpt`\n"
   ]
  },
  {
   "cell_type": "code",
   "execution_count": 29,
   "metadata": {
    "collapsed": true
   },
   "outputs": [],
   "source": [
    "losses = {\"train\":[],\"validation\":[]}\n",
    "x_steps = list()"
   ]
  },
  {
   "cell_type": "code",
   "execution_count": 85,
   "metadata": {},
   "outputs": [
    {
     "name": "stdout",
     "output_type": "stream",
     "text": [
      "Training starting at time: 2017-10-26 01:21:29\n",
      "Number of parameters: 7475814 Dataset size: 2563420\n",
      "INFO:tensorflow:Restoring parameters from checkpoints/mcharacters_i20025_l768.ckpt\n",
      "Epoch: 1/15...  Training Step: 20026...  Training loss: 0.6202...  Val loss: 2.2321...  0.3430 sec/batch\n",
      "Epoch: 1/15...  Training Step: 20126...  Training loss: 0.5433...  Val loss: 2.2155...  0.2716 sec/batch\n",
      "Epoch: 1/15...  Training Step: 20226...  Training loss: 0.5360...  Val loss: 2.2163...  0.2857 sec/batch\n",
      "Epoch: 2/15...  Training Step: 20326...  Training loss: 0.5281...  Val loss: 2.2310...  0.2838 sec/batch\n",
      "Epoch: 2/15...  Training Step: 20426...  Training loss: 0.5292...  Val loss: 2.2124...  0.2831 sec/batch\n",
      "Epoch: 2/15...  Training Step: 20526...  Training loss: 0.5208...  Val loss: 2.2054...  0.2738 sec/batch\n",
      "Epoch: 3/15...  Training Step: 20626...  Training loss: 0.5367...  Val loss: 2.1973...  0.2916 sec/batch\n",
      "Epoch: 3/15...  Training Step: 20726...  Training loss: 0.5189...  Val loss: 2.2104...  0.2729 sec/batch\n",
      "Epoch: 3/15...  Training Step: 20826...  Training loss: 0.5373...  Val loss: 2.2183...  0.2906 sec/batch\n",
      "Epoch: 4/15...  Training Step: 20926...  Training loss: 0.5263...  Val loss: 2.2228...  0.2871 sec/batch\n",
      "Epoch: 4/15...  Training Step: 21026...  Training loss: 0.5412...  Val loss: 2.2182...  0.2731 sec/batch\n",
      "Epoch: 5/15...  Training Step: 21126...  Training loss: 0.5337...  Val loss: 2.2237...  0.2732 sec/batch\n",
      "Epoch: 5/15...  Training Step: 21226...  Training loss: 0.5202...  Val loss: 2.2410...  0.2870 sec/batch\n",
      "Epoch: 5/15...  Training Step: 21326...  Training loss: 0.5177...  Val loss: 2.2023...  0.2727 sec/batch\n",
      "Epoch: 6/15...  Training Step: 21426...  Training loss: 0.5294...  Val loss: 2.1884...  0.2732 sec/batch\n",
      "Epoch: 6/15...  Training Step: 21526...  Training loss: 0.5325...  Val loss: 2.2254...  0.2731 sec/batch\n",
      "Epoch: 6/15...  Training Step: 21626...  Training loss: 0.5301...  Val loss: 2.2436...  0.2730 sec/batch\n",
      "Epoch: 7/15...  Training Step: 21726...  Training loss: 0.5305...  Val loss: 2.2616...  0.3083 sec/batch\n",
      "Epoch: 7/15...  Training Step: 21826...  Training loss: 0.5051...  Val loss: 2.2279...  0.2730 sec/batch\n",
      "Epoch: 8/15...  Training Step: 21926...  Training loss: 0.5339...  Val loss: 2.2417...  0.2731 sec/batch\n",
      "Epoch: 8/15...  Training Step: 22026...  Training loss: 0.5237...  Val loss: 2.2339...  0.2731 sec/batch\n",
      "Epoch: 8/15...  Training Step: 22126...  Training loss: 0.5235...  Val loss: 2.2347...  0.2737 sec/batch\n",
      "Epoch: 9/15...  Training Step: 22226...  Training loss: 0.5300...  Val loss: 2.2176...  0.2734 sec/batch\n",
      "Epoch: 9/15...  Training Step: 22326...  Training loss: 0.5050...  Val loss: 2.2393...  0.2732 sec/batch\n",
      "Epoch: 9/15...  Training Step: 22426...  Training loss: 0.5090...  Val loss: 2.2463...  0.2733 sec/batch\n",
      "Epoch: 10/15...  Training Step: 22526...  Training loss: 0.5156...  Val loss: 2.2370...  0.2733 sec/batch\n",
      "Epoch: 10/15...  Training Step: 22626...  Training loss: 0.5154...  Val loss: 2.2296...  0.3082 sec/batch\n",
      "Epoch 10/15 time:73.71400189399719...  finished at 2017-10-26 01:33:50\n",
      "Epoch: 11/15...  Training Step: 22726...  Training loss: 0.5303...  Val loss: 2.2325...  0.2728 sec/batch\n",
      "Epoch: 11/15...  Training Step: 22826...  Training loss: 0.5057...  Val loss: 2.2449...  0.2730 sec/batch\n",
      "Epoch: 11/15...  Training Step: 22926...  Training loss: 0.4921...  Val loss: 2.2296...  0.2730 sec/batch\n",
      "Epoch: 12/15...  Training Step: 23026...  Training loss: 0.5354...  Val loss: 2.2278...  0.2729 sec/batch\n",
      "Epoch: 12/15...  Training Step: 23126...  Training loss: 0.5063...  Val loss: 2.2361...  0.2728 sec/batch\n",
      "Epoch: 12/15...  Training Step: 23226...  Training loss: 0.5042...  Val loss: 2.2438...  0.2731 sec/batch\n",
      "Epoch: 13/15...  Training Step: 23326...  Training loss: 0.5251...  Val loss: 2.2327...  0.2735 sec/batch\n",
      "Epoch: 13/15...  Training Step: 23426...  Training loss: 0.5012...  Val loss: 2.2345...  0.2739 sec/batch\n",
      "Epoch: 14/15...  Training Step: 23526...  Training loss: 0.5091...  Val loss: 2.2236...  0.2733 sec/batch\n",
      "Epoch: 14/15...  Training Step: 23626...  Training loss: 0.5006...  Val loss: 2.2593...  0.2735 sec/batch\n",
      "Epoch: 14/15...  Training Step: 23726...  Training loss: 0.5096...  Val loss: 2.2412...  0.2916 sec/batch\n",
      "Epoch: 15/15...  Training Step: 23826...  Training loss: 0.5164...  Val loss: 2.2304...  0.2735 sec/batch\n",
      "Epoch: 15/15...  Training Step: 23926...  Training loss: 0.5104...  Val loss: 2.2514...  0.2846 sec/batch\n",
      "Epoch: 15/15...  Training Step: 24026...  Training loss: 0.5123...  Val loss: 2.2732...  0.2850 sec/batch\n",
      "Training ending at time: 2017-10-26 01:40:02\n",
      "Trainint total time: 1113.7254118919373\n"
     ]
    }
   ],
   "source": [
    "#epochs = 1\n",
    "# Save every N iterations\n",
    "save_every_n = 500\n",
    "print_loss_every_n = 100\n",
    "sample_every = 500\n",
    "print_epoch_time_every = 10\n",
    "\n",
    "with tf.device(\"/gpu:0\"):\n",
    "    model = CharRNN(len(vocab), batch_size=batch_size, num_steps=num_steps,\n",
    "                lstm_size=lstm_size, num_layers=num_layers, \n",
    "                learning_rate=learning_rate)\n",
    "    #print(\"after model\")\n",
    "\n",
    "saver = tf.train.Saver(max_to_keep=5)\n",
    "print(\"Training starting at time:\",strftime(\"%Y-%m-%d %H:%M:%S\", localtime()))\n",
    "train_start_time = time.time()\n",
    "with tf.Session() as sess:\n",
    "    sess.run(tf.global_variables_initializer())\n",
    "    print(\"Number of parameters:\",get_number_of_parameters(),\"Dataset size:\",len(encoded))\n",
    "    #print(\"after initializer\")\n",
    "    if resume_from_checkpoint:\n",
    "        latest_checkpoint = tf.train.latest_checkpoint('checkpoints')\n",
    "        saver.restore(sess, latest_checkpoint)\n",
    "    counter = 0\n",
    "    for e in range(epochs):\n",
    "        # Train network\n",
    "        epoch_start = time.time()\n",
    "        \n",
    "        new_state = sess.run(model.initial_state)\n",
    "        loss = 0\n",
    "        for x, y in get_batches(encoded, batch_size, num_steps):\n",
    "            \n",
    "            \n",
    "            start = time.time()\n",
    "            feed = {model.inputs: x,\n",
    "                    model.targets: y,\n",
    "                    model.keep_prob: keep_prob,\n",
    "                    model.initial_state: new_state}\n",
    "            batch_loss, new_state, _ = sess.run([model.loss, \n",
    "                                                 model.final_state, \n",
    "                                                 model.optimizer], \n",
    "                                                 feed_dict=feed)\n",
    "        \n",
    "            \n",
    "            end = time.time()\n",
    "            if counter%print_loss_every_n == 0:\n",
    "                val_batches = get_batches(encoded_val,int(len(encoded_val)/num_steps),num_steps)\n",
    "                x_val,y_val = next(val_batches)\n",
    "                \n",
    "                val_dict = {model.inputs: x_val,\n",
    "                            model.targets: y_val,\n",
    "                            model.keep_prob: 1,\n",
    "                            model.initial_state: new_state}\n",
    "                \n",
    "                val_loss,prediction = sess.run([model.loss,model.prediction],feed_dict=val_dict)\n",
    "                \n",
    "                losses[\"train\"].append(batch_loss)\n",
    "                losses[\"validation\"].append(val_loss)\n",
    "                \n",
    "                \n",
    "                global_step = tf.train.global_step(sess,model.global_step_tensor)\n",
    "                x_steps.append(global_step)\n",
    "                \n",
    "                print('Epoch: {}/{}... '.format(e+1, epochs),\n",
    "                      'Training Step: {}... '.format(global_step),\n",
    "                      'Training loss: {:.4f}... '.format(batch_loss),\n",
    "                      'Val loss: {:.4f}... '.format(val_loss),\n",
    "                      '{:.4f} sec/batch'.format((end-start)))\n",
    "        \n",
    "            if (counter % save_every_n == 0):\n",
    "                global_step = tf.train.global_step(sess,model.global_step_tensor)\n",
    "                saver.save(sess, \"checkpoints/m{}_i{}_l{}.ckpt\".format(mode,global_step, lstm_size))\n",
    "                \n",
    "            counter += 1\n",
    "            #learning_rate*=0.75\n",
    "            #model.optimizer = build_optimizer(model.loss,learning_rate,model.grad_clip,model.global_step_tensor)\n",
    "        \n",
    "        epoch_end = time.time()\n",
    "        \n",
    "        \n",
    "        if ((e+1) % print_epoch_time_every== 0):\n",
    "            print('Epoch {}/{} time:{}...'.format(e+1,epochs,epoch_end-epoch_start),\n",
    "                 \" finished at\",strftime(\"%Y-%m-%d %H:%M:%S\", localtime()))\n",
    "        \n",
    "            \n",
    "    global_step = tf.train.global_step(sess,model.global_step_tensor)\n",
    "    saver.save(sess, \"checkpoints/m{}_i{}_l{}.ckpt\".format(mode,global_step, lstm_size))\n",
    "    \n",
    "print(\"Training ending at time:\",strftime(\"%Y-%m-%d %H:%M:%S\", localtime()))\n",
    "print(\"Trainint total time:\",time.time()-train_start_time)"
   ]
  },
  {
   "cell_type": "code",
   "execution_count": 86,
   "metadata": {},
   "outputs": [
    {
     "data": {
      "image/png": "[encoded data removed]",
      "text/plain": [
       "<matplotlib.figure.Figure at 0x7fd0ec040ba8>"
      ]
     },
     "metadata": {
      "image/png": {
       "height": 250,
       "width": 375
      }
     },
     "output_type": "display_data"
    }
   ],
   "source": [
    "plt.plot(x_steps,losses[\"train\"],label=\"Train loss\")\n",
    "plt.plot(x_steps,losses[\"validation\"],label=\"Validation loss\")\n",
    "plt.legend()\n",
    "_ = plt.ylim()"
   ]
  },
  {
   "cell_type": "markdown",
   "metadata": {},
   "source": [
    "#### Saved checkpoints\n",
    "\n",
    "Read up on saving and loading checkpoints here: https://www.tensorflow.org/programmers_guide/variables"
   ]
  },
  {
   "cell_type": "code",
   "execution_count": 87,
   "metadata": {
    "collapsed": true
   },
   "outputs": [],
   "source": [
    "checkpoints = tf.train.get_checkpoint_state('checkpoints')"
   ]
  },
  {
   "cell_type": "markdown",
   "metadata": {},
   "source": [
    "## Sampling final trained model\n",
    "\n",
    "Now that the network is trained, we'll can use it to generate new text. The idea is that we pass in a character, then the network will predict the next character. We can use the new one, to predict the next one. And we keep doing this to generate all new text. I also included some functionality to prime the network with some text by passing in a string and building up a state from that.\n",
    "\n",
    "The network gives us predictions for each character. To reduce noise and make things a little less random, I'm going to only choose a new character from the top N most likely characters.\n",
    "\n"
   ]
  },
  {
   "cell_type": "code",
   "execution_count": 88,
   "metadata": {
    "collapsed": true
   },
   "outputs": [],
   "source": [
    "def sample(checkpoint, n_samples, lstm_size, vocab_size, prime=\"The \",mode=\"characters\"):\n",
    "    print(mode)\n",
    "    samples = tokenize_text(prime,mode)\n",
    "    model = CharRNN(len(vocab), lstm_size=lstm_size, sampling=True)\n",
    "    saver = tf.train.Saver()\n",
    "    with tf.Session() as sess:\n",
    "        saver.restore(sess, checkpoint)\n",
    "        new_state = sess.run(model.initial_state)\n",
    "        for c in tokenize_text(prime,mode):\n",
    "            x = np.zeros((1, 1))\n",
    "            x[0,0] = vocab_to_int[c]\n",
    "            feed = {model.inputs: x,\n",
    "                    model.keep_prob: 1.,\n",
    "                    model.initial_state: new_state}\n",
    "            preds, new_state = sess.run([model.prediction, model.final_state], \n",
    "                                         feed_dict=feed)\n",
    "\n",
    "        c = pick_top_n(preds, len(vocab))\n",
    "        samples.append(int_to_vocab[c])\n",
    "\n",
    "        for i in range(n_samples):\n",
    "            x[0,0] = c\n",
    "            feed = {model.inputs: x,\n",
    "                    model.keep_prob: 1.,\n",
    "                    model.initial_state: new_state}\n",
    "            preds, new_state = sess.run([model.prediction, model.final_state], \n",
    "                                         feed_dict=feed)\n",
    "\n",
    "            c = pick_top_n(preds, len(vocab))\n",
    "            samples.append(int_to_vocab[c])\n",
    "        \n",
    "    return ''.join(samples).replace(\"new_line_token\",\"\\n\")"
   ]
  },
  {
   "cell_type": "markdown",
   "metadata": {},
   "source": [
    "Here, pass in the path to a checkpoint and sample from the network."
   ]
  },
  {
   "cell_type": "code",
   "execution_count": 89,
   "metadata": {},
   "outputs": [
    {
     "data": {
      "text/plain": [
       "'checkpoints/mcharacters_i24030_l768.ckpt'"
      ]
     },
     "execution_count": 89,
     "metadata": {},
     "output_type": "execute_result"
    }
   ],
   "source": [
    "tf.train.latest_checkpoint('checkpoints')"
   ]
  },
  {
   "cell_type": "markdown",
   "metadata": {},
   "source": [
    "## Generate new text from \"base\" text"
   ]
  },
  {
   "cell_type": "code",
   "execution_count": 90,
   "metadata": {},
   "outputs": [
    {
     "name": "stdout",
     "output_type": "stream",
     "text": [
      "characters\n",
      "INFO:tensorflow:Restoring parameters from checkpoints/mcharacters_i24030_l768.ckpt\n",
      "characters\n",
      "INFO:tensorflow:Restoring parameters from checkpoints/mcharacters_i24030_l768.ckpt\n",
      "characters\n",
      "INFO:tensorflow:Restoring parameters from checkpoints/mcharacters_i24030_l768.ckpt\n",
      "characters\n",
      "INFO:tensorflow:Restoring parameters from checkpoints/mcharacters_i24030_l768.ckpt\n",
      "characters\n",
      "INFO:tensorflow:Restoring parameters from checkpoints/mcharacters_i24030_l768.ckpt\n",
      "characters\n",
      "INFO:tensorflow:Restoring parameters from checkpoints/mcharacters_i24030_l768.ckpt\n",
      "characters\n",
      "INFO:tensorflow:Restoring parameters from checkpoints/mcharacters_i24030_l768.ckpt\n",
      "characters\n",
      "INFO:tensorflow:Restoring parameters from checkpoints/mcharacters_i24030_l768.ckpt\n",
      "characters\n",
      "INFO:tensorflow:Restoring parameters from checkpoints/mcharacters_i24030_l768.ckpt\n",
      "characters\n",
      "INFO:tensorflow:Restoring parameters from checkpoints/mcharacters_i24030_l768.ckpt\n",
      "characters\n",
      "INFO:tensorflow:Restoring parameters from checkpoints/mcharacters_i24030_l768.ckpt\n",
      "characters\n",
      "INFO:tensorflow:Restoring parameters from checkpoints/mcharacters_i24030_l768.ckpt\n",
      "characters\n",
      "INFO:tensorflow:Restoring parameters from checkpoints/mcharacters_i24030_l768.ckpt\n",
      "characters\n",
      "INFO:tensorflow:Restoring parameters from checkpoints/mcharacters_i24030_l768.ckpt\n",
      "characters\n",
      "INFO:tensorflow:Restoring parameters from checkpoints/mcharacters_i24030_l768.ckpt\n",
      "characters\n",
      "INFO:tensorflow:Restoring parameters from checkpoints/mcharacters_i24030_l768.ckpt\n"
     ]
    }
   ],
   "source": [
    "\n",
    "checkpoint = tf.train.latest_checkpoint('checkpoints')\n",
    "\n",
    "\n",
    "samples = list()\n",
    "for text in text_to_try:\n",
    "    #print(\"------------------------\",text)\n",
    "    samples.append( sample(checkpoint, 500, lstm_size, len(vocab), prime=text,mode=mode))\n",
    "    #print(samp)\n",
    "    #print(\"------------------------\")"
   ]
  },
  {
   "cell_type": "code",
   "execution_count": 91,
   "metadata": {},
   "outputs": [
    {
     "name": "stdout",
     "output_type": "stream",
     "text": [
      "------------------------ In the first place\n",
      "In the first place, as reed as much as possible with the whirl of the St. Jocascrer's insteat of the Oce or the Reville from Bullen Moueta, where it is not the surviving. Titting of Meloon, emig to uttlanqt when with and indised and outside which more me think; and it was clut here more than he had been; and it was not a particular would aeoot about menicial for anyther. Watewiy and pleasant infities were those of the other things to himself. I\n",
      "vaviedly collecting a caution from some sort of febrile and feeling at\n",
      "------------------------\n",
      "------------------------ the night before\n",
      "the night before, the desize tremblings of the bushes grow slipped off by a corridor within the course upon the terrible, as it was his own notion under such a being in the property or sicher tway that fancy could this can be blown. At topic only for any odour reached him with a minutely position. And all the waited walls and violet seeker, and traverse to the fantastic, he thought he had seen in the distant age the land, arouse, so that he learned letter, and even here to grasp me to the advance sadd, paterally\n",
      "------------------------\n",
      "------------------------ horror\n",
      "horror three other cats and inhasing the corridor walls reforbed. The thought of this dead silled me from evolve and he heard the angels of artercoining cation. When it did, he seemes found as to preserve the arts, and did nothinged her ascenwary baluscenum of perhaps an empty radiation. Her frightened metmodes of thousand millious scarts are never choreed and calling way by some region’s repetition or twist-houses in the long dead with the exception which the most terrific plunge was sheer domed.iT; o\n",
      "------------------------\n",
      "------------------------ creature\n",
      "creature it will be notimed a metory. In the mids of agony I saw therein, that the manner in what I had completel taining our costing or examine. Both Akeley was consisted of two belongings to a second mater as well as from\n",
      "one near the\n",
      "woman; in the linge of foot other was forced to\n",
      "render our fine foresements. A wild sens it in a station of the lower alloyed me, in a contemptible intersection, as if those of action more than in the language of my former planes, if why it had been utterly searched in th\n",
      "------------------------\n",
      "------------------------ night\n",
      "night, or the lips, luckining mary all the primal legend) the shore of buildings and unidoutl through a sort of diabolic thunderough archants and barren; and that she was of all seemed to exist. Once more carving angulous in its mouthful construction ahead in the mutious city; but the former and exects would be under the sense of the old whisters who had come to the top wholly in his owlieg cown sleep. In three sailors, and rowed- that able too greeped the significanc labra of iridges which the fragme\n",
      "------------------------\n",
      "------------------------ dream\n",
      "dreamed; for he knew they caught from the left hyen three feet and fifty to the earth. Shiverage being neither party offers, rouses, and impages of consciousness which by this few parts so coming in, not, from the pass they will be remembered the general series of dark colouredrs. Tseaking nowed the line of old and three innacest and loathing, I saw that the rustling account which we were accomnodage as eternelly and unmistakable for the consumment the mythical progress where men before, if their made\n",
      "------------------------\n",
      "------------------------ thing\n",
      "things being sure to bear.\n",
      "\n",
      "Shall I twone town, I wa amingting to the crates at the left around her own, when we could breathe\n",
      "with as much as this as fer, but my\n",
      "entire point between the mainly filed state of my reference, but there were nevel and some patient life. The burnic gave me no commencement, from any strange delusion.\n",
      "     For many c ptsimps, till at last againing\n",
      "the used to me. I took from my person, too, that the man who had tas everybed rapid the youth, magicive, madinnisite was daily. \n",
      "------------------------\n",
      "------------------------ That night\n",
      "That night were the oncestrure. I felt above those farther sunk of strangeness. This time, had no remain croice and gave a ripling and raising, and the battleftleng Muse Stree rooke that he had begun to habet, with prince his pevil's terror. It if the most right I was able to find any diorible studen. I have before see he steaded his parenth's\n",
      "possess, and so perfectly seen before me, arrever, every ngite of a naugat. He arose furnitures, with these must thinkeed in some wrong-paper ruinancurations;\n",
      "but I \n",
      "------------------------\n",
      "------------------------ mountain\n",
      "mountains sheather upon my present peculity, and several sparen or contrivably wide enotentally as if in answer toit ten from some aperture with all its irmated dense consciousness on the face of the purpose to denthur his companion from a farther personal expedience. What weather, havied wirst imploning a faint like a monstrous moonless sky. It was turn to say that a gloriousness older they had a shock on the ridge. Off our own hour the glass grown sideed people at wait for the first strained. It is tru\n",
      "------------------------\n",
      "------------------------ Ammi\n",
      "Ammi stravelt during the chamber to Carter any great impressions brought to light. The door sometimesplaced in spite of a sensitive memory which for everyone wishes nor had their stumpers formed a certain timenes--top, the first and a prevocule trunk, less than thirdestry this day before, and one ago had ever should have gone, and that they all leaphants with staring eyes them thus tied to the planet. The moonlithent ham wait in the well-remember frombtale on the coast. The heating was, as poising, a\n",
      "------------------------\n",
      "------------------------ Cthulhu\n",
      "Cthulhu she camm natalty in givts for actual vitality. But when there is smitting a diffcent trees as never before had precided him before --and I would indvive some wide exposed brave unnameabound notwary exchening edders w o saw that some distance from the room of mocking, did inceesing a help, and, in an instant, half a mine to the most\n",
      "race overboard. As it was\n",
      "something closely what I had so stirred, thandage and passed over them. The sideway\n",
      "to get home from the immense in whic not all irritabs ab\n",
      "------------------------\n",
      "------------------------ raven\n",
      "raven. Beings soon, she can be put it, but if they deliced the doctor transport. It was the same, say he had once fully resigned to the face of a change of curse; and the words in face, the ghast, still very landed. It is on one of those things I could not doubt what was partly proved. The trail darkness apoin practiced in the other very carefully carved from a confident and enawoman of horror a soft new grass a re---sekely the classical of the boneful grasp. It was very pleast; and, with the fa fragr\n",
      "------------------------\n",
      "------------------------ bird\n",
      "birdy—perhaps impassaller. It was   no motiest when his chis severe roundered mitder of an irrelevantly pagentone, glibbering in a struggle again, and the steps leading formerly or desperate attacked by t ress under a fronting memora in a veryol mile that written on the floor.\n",
      "     At last all the torch which these possible seams then sad have once examies everything whose record; here that the apparent worldiss ocational civilisation, and the greater part of the monstrous that hill no trace of waiti\n",
      "------------------------\n",
      "------------------------ nevermore\n",
      "nevermore and the long-look was night.\n",
      "It was firmly proceered, for in the afternoon he detected the other, the most famically harmless to.\n",
      "\n",
      "Willett had ever seensy rising, however, to say, from what seemed to be the lawd fluxt-like suitable piecing out of the wespend's reading, while the party searched our  ascendant to tracks from the black skylight past, and a feeble glimpee in the vague and trailibl Warker, the nature of the bay-grip development—and contrarces, and dogratudeomy vacutt more non-succes \n",
      "------------------------\n",
      "------------------------ dead\n",
      "dead of fifteen minutes and temped its terrible, beyond the clock down well in this manner was about to be fragments of\n",
      "every respect or surprise. The form had prepared torn to let thes can be numedoatted and alpared conclesions. He recorded the movative beaus as I had sillnest trunched every insect which we had evidently gettered the probable compassion of below enough—I hauge the everhtory of our footfills, thought, and point, but he had not only notice, nor did these sensitions closely alone dark,\n",
      "------------------------\n",
      "------------------------ The bird\n",
      "The birds of Medome on ye--sallow and in mine conversations that the coming demonser, commi taskeround it in\n",
      "the fluin, and ever, another on the sea-bottem, but much risund, she had far ever saved us for\n",
      "his boook; and as she doubted the carconic realm of the directity at the centre of the tunnel with its floating visiborsly bole and she reseeded, arrividetcy on the house-he saw it whose steed long and lower leaving, ragged or dreamed or salling and screame, were many times of times winder in their brill\n",
      "------------------------\n"
     ]
    }
   ],
   "source": [
    "for i in range(len(text_to_try)):\n",
    "    text = text_to_try[i]\n",
    "    generated = samples[i]\n",
    "    print(\"------------------------\",text)\n",
    "    print(generated)\n",
    "    print(\"------------------------\")"
   ]
  },
  {
   "cell_type": "code",
   "execution_count": 92,
   "metadata": {},
   "outputs": [
    {
     "data": {
      "text/plain": [
       "model_checkpoint_path: \"checkpoints/mcharacters_i24030_l768.ckpt\"\n",
       "all_model_checkpoint_paths: \"checkpoints/mcharacters_i22526_l768.ckpt\"\n",
       "all_model_checkpoint_paths: \"checkpoints/mcharacters_i23026_l768.ckpt\"\n",
       "all_model_checkpoint_paths: \"checkpoints/mcharacters_i23526_l768.ckpt\"\n",
       "all_model_checkpoint_paths: \"checkpoints/mcharacters_i24026_l768.ckpt\"\n",
       "all_model_checkpoint_paths: \"checkpoints/mcharacters_i24030_l768.ckpt\""
      ]
     },
     "execution_count": 92,
     "metadata": {},
     "output_type": "execute_result"
    }
   ],
   "source": [
    "tf.train.get_checkpoint_state('checkpoints')"
   ]
  },
  {
   "cell_type": "code",
   "execution_count": 93,
   "metadata": {},
   "outputs": [
    {
     "name": "stdout",
     "output_type": "stream",
     "text": [
      "characters\n",
      "INFO:tensorflow:Restoring parameters from checkpoints/mcharacters_i24030_l768.ckpt\n",
      "The old folk have gone away, and we not could be determined to decline them i control. I now looked at theter for those thanks. He was,esser--\n",
      " \"Phan the cheerly -- and dy nothing is to catch a mying\" shrudderly and absolutely, expected upon the spot. Nor par by the lumber to attracted the lumber --the matter. Tode nowe, too, what of a long time in a very troulle suggestion -- avery curious beings not take occal.\n",
      "     An the subject of the month seads, I could not hermit, have been rendered forward of a yall, as now reached me in our fever. We must finign in my engire\n",
      "to restict a thing line at the house. In strange portions to bo love, and with them, he usually continue as had been or opened to our\n",
      "suspect, grotesque, and irretucally at the innucifice of the lungs.\n",
      "     “West, dunkest principall, he said, even offen that it was not always fasting, in storm, had at least checked there among its wroughts, they defined upon him, we genuendly feared at the sound I scroped, aside paused deabling, and so fastoning\n",
      "through a trail boly of a mone effective natural in sight of the sense of mind-territus design, and the paragraps still others, but evingnce, that the sashes of this narrange in the narrow love of\n",
      "the room, which had been within his armstairs, as\n",
      "ifor the much through which had our\n",
      "reason be heard what he said, \"I was not wonder, thus I had been seen in greater despite the supposing curiousity, that I was total except that it seemed to me the stonewife. Of course not so much which may be\n",
      "no ordinary oblet even doning he had been to this part of the size on three who had known h described dizzy\n",
      "slight vague, like winds; and entering the frantical hue not found in the world of man that his mouth and she could, to me mutt have exceeded everytophed since off, alrations, and muscled at this room, and as far as they then from about her, he admirated anythingly upon a passage through the right floor above him. We had finished his voice in the colonias deadly places, and sure that twenty-four exagerald the frightful literals were cadven into the abyss. It was the slant-eyed insacestry of those four file forested. Certain Dessetts anew in rambling things, indeed were better thing and so far as theyseave resounded. As Towars had venomitating the limits of the event was now abnormally perfect,d aperating for any other minute flapping entra pantage of elsewhere. He slained in a huge horror and all hours it would be familiar to enter into the disorder. From which many hand spent most flamps of a dark study throse carefully for thousands accomplish. It was never surely sickeningly around only with some size behend any ofdern mamored to them. Again I considered statemedt that the crowned statues he ceased to strokes in the glob and the temples bengaumed. Of course seemed vividly that the alienists shot offered his entire excess between the ruiners beheld.\n",
      "\n",
      "    It was somewhat residence, but as to these thic faery who, I could not help thinking of the dust, to lay throubh the desert on the park of\n",
      "my hands, allhowed vained, the arrangement of look and the flung of my dreams.\n",
      "\n",
      "And then human eyeland liminurable elder breeged the sandy --but the ship I was that on that a mannem I leaped by one of years ago tog. In a right angle of mislacho entertained, or their things; a while throat was replaced, I at sealch without attimis to represent the normal matter. The brig was getting throughout the pleasure of his bohing; and it was difficulty in a long time that had purposely expected it, and, that were then,\n",
      "as I speak, into the student which a manked willed each off a trope to with no exusing himself, if indees the wide matter is that on the inside exaginition of you; according to the consciou of all the fat such whisperists as rustless wiace. The weather was great\n",
      "lash as hurt unter their mode ages of machines, and in sight of the punernal stage of our lines of either photogrophs, and only\n",
      "the course\n",
      "by tall with the shadow-captains, we came at last; and thought he did not like to speak of the precipice, thinking at this period, no second to human beings from out of shore. It was  that they had indeed lived an eye in the daemon-like and. It was, I can do fuss to deep in my situation, and everyone several perverse in incoccutting its perception. The gruff voy on the middle was\n",
      "over. The more than reaching them is still alive. His adventure was resigned with the shadows and apprehension of matters, in which\n",
      "we stood our condition or might have drownedus, even an opportunity of any interval when\n",
      "he said, was one of those unhalley,and, the weathering worsed oves the fragmentary\n",
      "disrifihing under fur halt a trembling white pursued in the intermed and furtive regularis; and something in the largest one about a field all as one surge. He saw of the head bentation no doubt upon the subject; and endeavoes to the\n",
      "feetch, horror move, mims and camer were of how to admit, his advanced fortabits, for this shouted and\n",
      "dragoim, admitting right leaning to the cast, \n"
     ]
    }
   ],
   "source": [
    "generated = sample(checkpoint, 5000, lstm_size, len(vocab), prime=\"The old folk have gone away\",mode=mode)\n",
    "print(generated)"
   ]
  },
  {
   "cell_type": "code",
   "execution_count": 94,
   "metadata": {},
   "outputs": [
    {
     "name": "stdout",
     "output_type": "stream",
     "text": [
      "characters\n",
      "INFO:tensorflow:Restoring parameters from checkpoints/mcharacters_i24030_l768.ckpt\n",
      "The thing that should not be; for course it is fortaback; as indestrusing tnowes, had been lying at all; since in all that had an add floor world of the burboos as a pleasant. The body was the least and unexplaced marshinatic officularity in streams, and were display, and numerous, in the intention that the vivic field to be wished to sea him for all. The loose said he sat that much of the centre dwellings in the same damp asparent lander of the steer fore, and before my attention in red clothing of some odour property. We saw several of the inner thereors; and that the rubs hwice hastened us in such succession, such as away, despite the thought of the purpose of refrescmest. To\n",
      "the nature of the passionate and ard was point to me, by much were out security. Therenaft of\n",
      "Augustus, whom\n",
      "we saw that there were the mind of some fat of\n",
      "the former experiment, might in not after his\n",
      "own condition.\n",
      "\n",
      "    It was on the evening of July 14th in Akeley’s city, we were to uncre kind, however, taken their accomplishments and abominable, manners, and the sides of the old slight thickeent, and the man and the creaking mnthological sight—est them. Highwap, placed on his temporalea a faint, but now I could not attempt tell then youn on conceivably clain. No infamous reasons bad shering of directic force that wend in what lashed surviving melting offandous trips fol only by his party whine sculptured all is a vestige of position in the midst. It was nothing whitefer, to cry if, and wiel not perceive that: \n",
      "\n",
      "In thele islanes, I even shriek any proceed, for the sloper parts that fell through its accession there of naturally peril offerding them in by matter.\n",
      "\n",
      "    From the pictures, however, the girvet executed conditions, the numb ones ender to later years off, and did not coincime a few green itself with a cautious horror and thinking that occasioned me over their profound signing. Then came without notion, and this was there were chanting- to be asserted in consequence. Mr. Juckeraral had heart the powder’s party, and all the madness of the bulkering entitely of the desert and passing of the terrible kindred ways. Peters cannot bot over be presentation in them even in the inner species of sort, and the waking worse strangh Cyclopean spot had one tack and carefully passed without truntic experience.\n",
      "\n",
      "    One day Clark’s traims the senting Bulknes, resumed his close dreams and facities. If they were trosped the witch their three feelings on earthward earth.\n",
      "     Around the fear would get home as they had become a group of homortholess like a glory of dreaded cutting’s coating on the former on the hinting of some of the lore of gods that had occurred.\n",
      "     I threw in the running tool at a time, something of the bride, the creatures came down at near rage of the ancient titteness and instruments. Sold and magnificens and distarped dreams were talked on rough lonelyss. There was no small going when thatless depends made more encinesction indeed. It was persistently, to prevent the excrising reports of all thisses which are undermeded in a great sculpture; thlowing to his foreforw before the floor all the cave near the boats they hung abones in, and embeaured that his grandfather had become himself in the hold. It was a study of wailing the shadowy before the race a parphtrad taske, bus believed nerta io. How he could not, have been ability that we would shew hegry steep by expecian conestaling fibriction toward which the fa farmers month was diverse.\n",
      "     Off off the forgotten legs lettered in with these housetal, tentied the light of the hills week at it, and afterward between the increasingly unhollingly resembling the high-poinced paws which the old slant-eyed man's feelings would proce, that newer great stone date wasing that the document would be little tried my spirit. I knew like the castar. It was  that hints were found to get up and the enty on thi wing all leaning party at the bottom of the surprise. There was a great steph and papered, and were made conscion of the fastenings. We achoged my assurr empers willing to me after the present demand. At first interruption slowed me in the cabin into the heart, and the throats of fridar property, and\n",
      "were clothed there are from\n",
      "something which I had thrown his hends for him to believe that any other species cannesses that had come down from her mombit to black acquirement on theirs of modious ned the shape of the scattered picts and that entity he was surround up by those  trainight, while inhalined ofar, subject ty an ancient pallid head wnought in hands; and for almost the authorthing must stuel or lying, and with every corneration. Hat I dou must be kescene with the space of a highly tone or force. The date was unmistakable, though one but nocroples they were to bed; becade mystery of determine in as much to a great incalculable diseasonic point as that of man who had been ritually not even me to exert the cat at the time of our making the words like and thrown down to the villages and a revillability c\n"
     ]
    }
   ],
   "source": [
    "generated = sample(checkpoint, 5000, lstm_size, len(vocab), prime=\"The thing that should not be\",mode=mode)\n",
    "print(generated)"
   ]
  },
  {
   "cell_type": "markdown",
   "metadata": {
    "collapsed": true
   },
   "source": []
  }
 ],
 "metadata": {
  "kernelspec": {
   "display_name": "Python 3",
   "language": "python",
   "name": "python3"
  },
  "language_info": {
   "codemirror_mode": {
    "name": "ipython",
    "version": 3
   },
   "file_extension": ".py",
   "mimetype": "text/x-python",
   "name": "python",
   "nbconvert_exporter": "python",
   "pygments_lexer": "ipython3",
   "version": "3.6.3"
  }
 },
 "nbformat": 4,
 "nbformat_minor": 2
}
