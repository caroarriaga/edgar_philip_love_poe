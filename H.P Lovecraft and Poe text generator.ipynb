{
 "cells": [
  {
   "cell_type": "markdown",
   "metadata": {},
   "source": [
    "# Recurrent neural networks for H.P Lovecraft text generation\n",
    "\n",
    "\"The color out of space\" is one of my favorite tales from Lovecraft, i will use it(as well as others as the call of cthulhu) to create a recurrent neural network in tensorflow that learns his style and generates new text in his style\n",
    "\n",
    "This network is based off of Andrej Karpathy's [post on RNNs](http://karpathy.github.io/2015/05/21/rnn-effectiveness/) and [implementation in Torch](https://github.com/karpathy/char-rnn) and an example from \"Deep Learning Nanodegree\" on udacity. Also, some information [here at r2rt](http://r2rt.com/recurrent-neural-networks-in-tensorflow-ii.html) and from [Sherjil Ozair](https://github.com/sherjilozair/char-rnn-tensorflow) on GitHub. \n",
    "\n",
    "## General architecture using \"Long short term memory\" units in the recurrent layers\n",
    "\n",
    "<img src=\"assets/charseq.jpeg\" width=\"500\">"
   ]
  },
  {
   "cell_type": "code",
   "execution_count": 1,
   "metadata": {
    "collapsed": true
   },
   "outputs": [],
   "source": [
    "%matplotlib inline\n",
    "%config InlineBackend.figure_format = 'retina'"
   ]
  },
  {
   "cell_type": "code",
   "execution_count": 2,
   "metadata": {
    "collapsed": true
   },
   "outputs": [],
   "source": [
    "import time\n",
    "from collections import namedtuple\n",
    "\n",
    "import numpy as np\n",
    "import tensorflow as tf\n",
    "from nltk.tokenize import word_tokenize\n",
    "import nltk\n",
    "import itertools\n",
    "import matplotlib.pyplot as plt\n",
    "from time import gmtime, strftime ,localtime\n",
    "import shutil\n",
    "import os.path"
   ]
  },
  {
   "cell_type": "code",
   "execution_count": 3,
   "metadata": {
    "collapsed": true
   },
   "outputs": [],
   "source": [
    "# Run only the  first time nltk is used to download language\n",
    "#nltk.download()"
   ]
  },
  {
   "cell_type": "markdown",
   "metadata": {},
   "source": [
    "### Define conf variables and hyper parameteters "
   ]
  },
  {
   "cell_type": "code",
   "execution_count": 44,
   "metadata": {
    "collapsed": true
   },
   "outputs": [],
   "source": [
    "mode = \"characters\" #characters or words\n",
    "\n",
    "epochs = 15\n",
    "batch_size = 128       # Sequences per batch\n",
    "num_steps = 400         # Number of sequence steps per batch\n",
    "lstm_size = 1024         # Size of hidden layers in LSTMs\n",
    "num_layers = 2          # Number of LSTM layers\n",
    "learning_rate = 0.0010 # Learning rate\n",
    "keep_prob = 1# Dropout keep probability\n",
    "negative_sampled = 1000 #in words mode ,how many negative words to sample to improve trainint time\n",
    "\n",
    "resume_from_checkpoint = True\n",
    "delete_checkpoints  = False"
   ]
  },
  {
   "cell_type": "code",
   "execution_count": 5,
   "metadata": {
    "collapsed": true
   },
   "outputs": [],
   "source": [
    "if not resume_from_checkpoint and delete_checkpoints and os.path.exists(\"./checkpoints/\"):\n",
    "    shutil.rmtree(\"./checkpoints/\")"
   ]
  },
  {
   "cell_type": "markdown",
   "metadata": {},
   "source": [
    "### Define base text\n",
    "Once trained ,the network can take base text and a sequence size and generate new text using base text as first characters in the sequence. For every element in base text wi will create a list that will store generated text as training goes, to be able to compare results between steps"
   ]
  },
  {
   "cell_type": "code",
   "execution_count": 6,
   "metadata": {
    "collapsed": true
   },
   "outputs": [],
   "source": [
    "text_to_try = [\"In the first place\",\"the night before\",\"horror\",\"creature\",\"night\",\"dream\",\"thing\",\"That night\",\"mountain\",\"Ammi\",\"Cthulhu\",\"raven\",\"bird\",\"nevermore\",\"dead\",\"The bird\"]"
   ]
  },
  {
   "cell_type": "markdown",
   "metadata": {},
   "source": [
    "#### Function that separates text into tokens(for whitespace characters, only new line is implemented, missing tabs and others="
   ]
  },
  {
   "cell_type": "code",
   "execution_count": 7,
   "metadata": {},
   "outputs": [
    {
     "data": {
      "text/plain": [
       "['H',\n",
       " 'e',\n",
       " 'l',\n",
       " 'l',\n",
       " 'o',\n",
       " ',',\n",
       " ' ',\n",
       " 'm',\n",
       " 'y',\n",
       " ' ',\n",
       " 'n',\n",
       " 'a',\n",
       " 'm',\n",
       " 'e',\n",
       " ' ',\n",
       " 'i',\n",
       " 's',\n",
       " ' ',\n",
       " 'L',\n",
       " 'u',\n",
       " 'i',\n",
       " 's',\n",
       " ' ',\n",
       " 'L',\n",
       " 'e',\n",
       " 'a',\n",
       " 'l',\n",
       " '!',\n",
       " '\\n',\n",
       " '\\n',\n",
       " 'F',\n",
       " 'r',\n",
       " 'o',\n",
       " 'm',\n",
       " ' ',\n",
       " 'G',\n",
       " 'u',\n",
       " 'a',\n",
       " 't',\n",
       " 'e',\n",
       " 'm',\n",
       " 'a',\n",
       " 'l',\n",
       " 'a']"
      ]
     },
     "execution_count": 7,
     "metadata": {},
     "output_type": "execute_result"
    }
   ],
   "source": [
    "def tokenize_by_words(text):\n",
    "    text = text.replace(\"\\n\",\" new_line_token \")\n",
    "    tokens = []\n",
    "    splitted =[[word_tokenize(w),' ']for w in text.split()]\n",
    "    splitted = list(itertools.chain(*list(itertools.chain(*splitted))))\n",
    "    \n",
    "    token_list = []\n",
    "    i = 0\n",
    "    while i < len(splitted):\n",
    "        if splitted[i] == \"new_line_token\":\n",
    "            if   token_list[-1]==\" \":\n",
    "                token_list[-1] = splitted[i]\n",
    "            else:\n",
    "                token_list.append(splitted[i])\n",
    "            i+=1\n",
    "        else:\n",
    "            token_list.append(splitted[i])\n",
    "        i+=1\n",
    "    \n",
    "    return token_list\n",
    "\n",
    "def tokenize_by_characters(text):\n",
    "    return list(text)\n",
    "\n",
    "def tokenize_text(text,mode=\"characters\"):\n",
    "    if mode == \"characters\":\n",
    "        return tokenize_by_characters(text)\n",
    "    elif mode == \"words\":\n",
    "        return tokenize_by_words(text)\n",
    "    \n",
    "tokenize_text(\"Hello, my name is Luis Leal!\\n\\nFrom Guatemala\",mode)\n",
    "#tokenize_text(\"Hello, my name is Luis Leal!\\n\\nFrom Guatemala\",\"words\")\n"
   ]
  },
  {
   "cell_type": "markdown",
   "metadata": {},
   "source": [
    "First we'll load the text file and convert it into integers for our network to use. Here I'm creating a couple dictionaries to convert the characters to and from integers. Encoding the characters as integers makes it easier to use as input in the network."
   ]
  },
  {
   "cell_type": "code",
   "execution_count": 8,
   "metadata": {
    "collapsed": true
   },
   "outputs": [],
   "source": [
    "with open('corpus.txt', 'r') as f:\n",
    "    text=f.read()"
   ]
  },
  {
   "cell_type": "code",
   "execution_count": 9,
   "metadata": {
    "collapsed": true
   },
   "outputs": [],
   "source": [
    "vocab = set(tokenize_text(text,mode))\n",
    "vocab_to_int = {c: i for i, c in enumerate(vocab)}\n",
    "int_to_vocab = dict(enumerate(vocab))\n",
    "n_vocab = len(vocab)"
   ]
  },
  {
   "cell_type": "markdown",
   "metadata": {},
   "source": [
    "### Get a little portion of text for validation"
   ]
  },
  {
   "cell_type": "code",
   "execution_count": 10,
   "metadata": {
    "collapsed": true
   },
   "outputs": [],
   "source": [
    "tokenized_text = tokenize_text(text,mode)\n",
    "encoded_dataset = np.array([vocab_to_int[c] for c in tokenized_text if c in vocab_to_int], dtype=np.int32)"
   ]
  },
  {
   "cell_type": "code",
   "execution_count": 11,
   "metadata": {
    "collapsed": true
   },
   "outputs": [],
   "source": [
    "validation_size = batch_size * num_steps #create a single baty\n",
    "validation_start_index = len(encoded_dataset) - validation_size\n",
    "\n",
    "encoded = encoded_dataset[:validation_start_index]\n",
    "encoded_val = encoded_dataset[validation_start_index:]"
   ]
  },
  {
   "cell_type": "code",
   "execution_count": 12,
   "metadata": {},
   "outputs": [
    {
     "name": "stdout",
     "output_type": "stream",
     "text": [
      "-bearded native teachers than amongst my brother-officers. I had delved not a little into odd Easter\n"
     ]
    }
   ],
   "source": [
    "def encoded_to_text(encoded):\n",
    "    return \"\".join([int_to_vocab[number] for number in encoded])\n",
    "\n",
    "print(encoded_to_text(encoded_val[0:100]))"
   ]
  },
  {
   "cell_type": "code",
   "execution_count": 13,
   "metadata": {
    "collapsed": true
   },
   "outputs": [],
   "source": [
    "val_text =encoded_to_text(encoded_val)\n",
    "text = encoded_to_text(encoded)"
   ]
  },
  {
   "cell_type": "markdown",
   "metadata": {},
   "source": [
    "Let's check out the first 100 characters of train and validation, make sure everything is peachy.  line of a book ever."
   ]
  },
  {
   "cell_type": "code",
   "execution_count": 14,
   "metadata": {},
   "outputs": [
    {
     "data": {
      "text/plain": [
       "'THE COLOUR OUT OF SPACE\\n\\nWest of Arkham the hills rise wild, and there are valleys with deep woods t'"
      ]
     },
     "execution_count": 14,
     "metadata": {},
     "output_type": "execute_result"
    }
   ],
   "source": [
    "text[:100]"
   ]
  },
  {
   "cell_type": "code",
   "execution_count": 15,
   "metadata": {},
   "outputs": [
    {
     "data": {
      "text/plain": [
       "'-bearded native teachers than amongst my brother-officers. I had delved not a little into odd Easter'"
      ]
     },
     "execution_count": 15,
     "metadata": {},
     "output_type": "execute_result"
    }
   ],
   "source": [
    "val_text[:100]"
   ]
  },
  {
   "cell_type": "markdown",
   "metadata": {},
   "source": [
    "And we can see the characters encoded as integersin both train and validation"
   ]
  },
  {
   "cell_type": "code",
   "execution_count": 16,
   "metadata": {},
   "outputs": [
    {
     "data": {
      "text/plain": [
       "array([ 84,  19,  26,  51,  37,  28, 112,  28, 118,  48,  51,  28, 118,\n",
       "        84,  51,  28,  21,  51,  98,  27,  25,  37,  26,  55,  55, 105,\n",
       "        36,  43,  63,  51,  11,  22,  51,  25,  20, 115,  17,  68,  50,\n",
       "        51,  63,  17,  36,  51,  17,  13,  34,  34,  43,  51,  20,  13,\n",
       "        43,  36,  51, 106,  13,  34,  12,  65,  51,  68,  14,  12,  51,\n",
       "        63,  17,  36,  20,  36,  51,  68,  20,  36,  51, 102,  68,  34,\n",
       "        34,  36,  64,  43,  51, 106,  13,  63,  17,  51,  12,  36,  36,\n",
       "       116,  51, 106,  11,  11,  12,  43,  51,  63], dtype=int32)"
      ]
     },
     "execution_count": 16,
     "metadata": {},
     "output_type": "execute_result"
    }
   ],
   "source": [
    "encoded[:100]"
   ]
  },
  {
   "cell_type": "code",
   "execution_count": 17,
   "metadata": {},
   "outputs": [
    {
     "data": {
      "text/plain": [
       "array([ 92,  74,  36,  68,  20,  12,  36,  12,  51,  14,  68,  63,  13,\n",
       "       102,  36,  51,  63,  36,  68,  18,  17,  36,  20,  43,  51,  63,\n",
       "        17,  68,  14,  51,  68,  50,  11,  14, 111,  43,  63,  51,  50,\n",
       "        64,  51,  74,  20,  11,  63,  17,  36,  20,  92,  11,  22,  22,\n",
       "        13,  18,  36,  20,  43,  66,  51,  41,  51,  17,  68,  12,  51,\n",
       "        12,  36,  34, 102,  36,  12,  51,  14,  11,  63,  51,  68,  51,\n",
       "        34,  13,  63,  63,  34,  36,  51,  13,  14,  63,  11,  51,  11,\n",
       "        12,  12,  51,  26,  68,  43,  63,  36,  20], dtype=int32)"
      ]
     },
     "execution_count": 17,
     "metadata": {},
     "output_type": "execute_result"
    }
   ],
   "source": [
    "encoded_val[0:100]"
   ]
  },
  {
   "cell_type": "markdown",
   "metadata": {},
   "source": [
    "Since the network is working with individual english tokens, it's similar to a classification problem in which we are trying to predict the next character from the previous text.  Here's how many 'classes' our network has to pick from."
   ]
  },
  {
   "cell_type": "code",
   "execution_count": 18,
   "metadata": {},
   "outputs": [
    {
     "data": {
      "text/plain": [
       "121"
      ]
     },
     "execution_count": 18,
     "metadata": {},
     "output_type": "execute_result"
    }
   ],
   "source": [
    "len(vocab)"
   ]
  },
  {
   "cell_type": "markdown",
   "metadata": {},
   "source": [
    "## Making training mini-batches\n",
    "\n",
    "Here is where we'll make our mini-batches for training. Remember that we want our batches to be multiple sequences of some desired number of sequence steps. Considering a simple example, our batches would look like this:\n",
    "\n",
    "<img src=\"assets/sequence_batching@1x.png\" width=500px>\n",
    "\n",
    "\n",
    "<br>\n",
    "We have our text encoded as integers as one long array in `encoded`. Let's create a function that will give us an iterator for our batches. I like using [generator functions](https://jeffknupp.com/blog/2013/04/07/improve-your-python-yield-and-generators-explained/) to do this. Then we can pass `encoded` into this function and get our batch generator.\n",
    "\n",
    "The first thing we need to do is discard some of the text so we only have completely full batches. Each batch contains $N \\times M$ characters, where $N$ is the batch size (the number of sequences) and $M$ is the number of steps. Then, to get the number of batches we can make from some array `arr`, you divide the length of `arr` by the batch size. Once you know the number of batches and the batch size, you can get the total number of characters to keep.\n",
    "\n",
    "After that, we need to split `arr` into $N$ sequences. You can do this using `arr.reshape(size)` where `size` is a tuple containing the dimensions sizes of the reshaped array. We know we want $N$ sequences (`n_seqs` below), let's make that the size of the first dimension. For the second dimension, you can use `-1` as a placeholder in the size, it'll fill up the array with the appropriate data for you. After this, you should have an array that is $N \\times (M * K)$ where $K$ is the number of batches.\n",
    "\n",
    "Now that we have this array, we can iterate through it to get our batches. The idea is each batch is a $N \\times M$ window on the array. For each subsequent batch, the window moves over by `n_steps`. We also want to create both the input and target arrays. Remember that the targets are the inputs shifted over one character. You'll usually see the first input character used as the last target character, so something like this:\n",
    "```python\n",
    "y[:, :-1], y[:, -1] = x[:, 1:], x[:, 0]\n",
    "```\n",
    "where `x` is the input batch and `y` is the target batch.\n",
    "\n",
    "The way I like to do this window is use `range` to take steps of size `n_steps` from $0$ to `arr.shape[1]`, the total number of steps in each sequence. That way, the integers you get from `range` always point to the start of a batch, and each window is `n_steps` wide."
   ]
  },
  {
   "cell_type": "code",
   "execution_count": 19,
   "metadata": {
    "collapsed": true
   },
   "outputs": [],
   "source": [
    "def get_batches(arr, n_seqs, n_steps):\n",
    "    '''Create a generator that returns batches of size\n",
    "       n_seqs x n_steps from arr.\n",
    "       \n",
    "       Arguments\n",
    "       ---------\n",
    "       arr: Array you want to make batches from\n",
    "       n_seqs: Batch size, the number of sequences per batch\n",
    "       n_steps: Number of sequence steps per batch\n",
    "    '''\n",
    "    # Get the batch size and number of batches we can make\n",
    "    batch_size = n_seqs * n_steps \n",
    "    n_batches =  len(arr)//batch_size\n",
    "    \n",
    "    # Keep only enough characters to make full batches\n",
    "    arr =  arr[:n_batches*batch_size]\n",
    "    \n",
    "    # Reshape into n_seqs rows\n",
    "    arr = arr.reshape((n_seqs,-1))\n",
    "    \n",
    "    for n in range(0, arr.shape[1], n_steps):\n",
    "        # The features\n",
    "        x = arr[:,n:n+n_steps]\n",
    "        # The targets, shifted by one\n",
    "        y = np.zeros(x.shape)\n",
    "        y[:,:-1],y[:,-1] = x[:,1:] ,x[:,0]\n",
    "        yield x, y"
   ]
  },
  {
   "cell_type": "markdown",
   "metadata": {},
   "source": [
    "Now I'll make my data sets and we can check out what's going on here. Here I'm going to use a batch size of 10 and 50 sequence steps."
   ]
  },
  {
   "cell_type": "code",
   "execution_count": 20,
   "metadata": {
    "collapsed": true
   },
   "outputs": [],
   "source": [
    "batches = get_batches(encoded, 10, 50)\n",
    "x, y = next(batches)"
   ]
  },
  {
   "cell_type": "code",
   "execution_count": 21,
   "metadata": {},
   "outputs": [
    {
     "name": "stdout",
     "output_type": "stream",
     "text": [
      "x\n",
      " [[ 84  19  26  51  37  28 112  28 118  48]\n",
      " [ 51 106  13  63  17  11   2  63  51  68]\n",
      " [ 17  51  11  20  51  63  36  34  36 116]\n",
      " [ 64  65  51  25 116  20  13  34  51  90]\n",
      " [ 51  68  63  51  11  14  18  36  51  43]\n",
      " [ 51 106  36  51  18  11   2  34  12  51]\n",
      " [111  11  20  68  51  68  51  50  68  20]\n",
      " [ 43  51  17  68  12  51  74  36  36  14]\n",
      " [ 11  22  22  51  63  11  51  68  51  43]\n",
      " [ 36  12  51  22  68  14  18  64  51  92]]\n",
      "\n",
      "y\n",
      " [[  19.   26.   51.   37.   28.  112.   28.  118.   48.   51.]\n",
      " [ 106.   13.   63.   17.   11.    2.   63.   51.   68.   13.]\n",
      " [  51.   11.   20.   51.   63.   36.   34.   36.  116.   17.]\n",
      " [  65.   51.   25.  116.   20.   13.   34.   51.   90.    6.]\n",
      " [  68.   63.   51.   11.   14.   18.   36.   51.   43.   68.]\n",
      " [ 106.   36.   51.   18.   11.    2.   34.   12.   51.   14.]\n",
      " [  11.   20.   68.   51.   68.   51.   50.   68.   20.   74.]\n",
      " [  51.   17.   68.   12.   51.   74.   36.   36.   14.   51.]\n",
      " [  22.   22.   51.   63.   11.   51.   68.   51.   43.   68.]\n",
      " [  12.   51.   22.   68.   14.   18.   64.   51.   92.   92.]]\n"
     ]
    }
   ],
   "source": [
    "print('x\\n', x[:10, :10])\n",
    "print('\\ny\\n', y[:10, :10])"
   ]
  },
  {
   "cell_type": "markdown",
   "metadata": {},
   "source": [
    "## Building the model\n",
    "\n",
    "Below is where you'll build the network. We'll break it up into parts so it's easier to reason about each bit. Then we can connect them up into the whole network.\n",
    "\n",
    "<img src=\"assets/charRNN.png\" width=500px>\n",
    "\n",
    "\n",
    "### Inputs\n",
    "\n",
    "First off we'll create our input placeholders. As usual we need placeholders for the training data and the targets. We'll also create a placeholder for dropout layers called `keep_prob`. This will be a scalar, that is a 0-D tensor. To make a scalar, you create a placeholder without giving it a size."
   ]
  },
  {
   "cell_type": "code",
   "execution_count": 22,
   "metadata": {
    "collapsed": true
   },
   "outputs": [],
   "source": [
    "def build_inputs(batch_size, num_steps):\n",
    "    ''' Define placeholders for inputs, targets, and dropout \n",
    "    \n",
    "        Arguments\n",
    "        ---------\n",
    "        batch_size: Batch size, number of sequences per batch\n",
    "        num_steps: Number of sequence steps in a batch\n",
    "        \n",
    "    '''\n",
    "    # Declare placeholders we'll feed into the graph\n",
    "    inputs = tf.placeholder(tf.int32,[batch_size,num_steps],name=\"inputs\")\n",
    "    targets = tf.placeholder(tf.int32,[batch_size,num_steps],name=\"targets\")\n",
    "    \n",
    "    # Keep probability placeholder for drop out layers\n",
    "    keep_prob = tf.placeholder(tf.float32,name=\"keep_prob\")\n",
    "    \n",
    "    return inputs, targets, keep_prob"
   ]
  },
  {
   "cell_type": "markdown",
   "metadata": {},
   "source": [
    "### LSTM Cell\n",
    "\n",
    "Here we will create the LSTM cell we'll use in the hidden layer. We'll use this cell as a building block for the RNN. So we aren't actually defining the RNN here, just the type of cell we'll use in the hidden layer.\n",
    "\n",
    "We first create a basic LSTM cell with\n",
    "\n",
    "```python\n",
    "lstm = tf.contrib.rnn.BasicLSTMCell(num_units)\n",
    "```\n",
    "\n",
    "where `num_units` is the number of units in the hidden layers in the cell. Then we can add dropout by wrapping it with \n",
    "\n",
    "```python\n",
    "tf.contrib.rnn.DropoutWrapper(lstm, output_keep_prob=keep_prob)\n",
    "```\n",
    "You pass in a cell and it will automatically add dropout to the inputs or outputs. Finally, we can stack up the LSTM cells into layers with [`tf.contrib.rnn.MultiRNNCell`](https://www.tensorflow.org/versions/r1.0/api_docs/python/tf/contrib/rnn/MultiRNNCell). With this, you pass in a list of cells and it will send the output of one cell into the next cell. For example,\n",
    "\n",
    "```python\n",
    "tf.contrib.rnn.MultiRNNCell([cell]*num_layers)\n",
    "```\n",
    "\n",
    "This might look a little weird if you know Python well because this will create a list of the same `cell` object. However, TensorFlow will create different weight matrices for all `cell` objects. Even though this is actually multiple LSTM cells stacked on each other, you can treat the multiple layers as one cell.\n",
    "\n",
    "We also need to create an initial cell state of all zeros. This can be done like so\n",
    "\n",
    "```python\n",
    "initial_state = cell.zero_state(batch_size, tf.float32)\n",
    "```\n"
   ]
  },
  {
   "cell_type": "code",
   "execution_count": 23,
   "metadata": {
    "collapsed": true
   },
   "outputs": [],
   "source": [
    "def build_lstm(lstm_size, num_layers, batch_size, keep_prob):\n",
    "    ''' Build LSTM cell.\n",
    "    \n",
    "        Arguments\n",
    "        ---------\n",
    "        keep_prob: Scalar tensor (tf.placeholder) for the dropout keep probability\n",
    "        lstm_size: Size of the hidden layers in the LSTM cells\n",
    "        num_layers: Number of LSTM layers\n",
    "        batch_size: Batch size\n",
    "\n",
    "    '''\n",
    "    ### Build the LSTM Cell\n",
    "    # Use a basic LSTM cell\n",
    "    # Add dropout to the cell outputs\n",
    "    # Stack up multiple LSTM layers, for deep learning\n",
    "    cell = tf.contrib.rnn.MultiRNNCell([tf.contrib.rnn.DropoutWrapper( tf.contrib.rnn.BasicLSTMCell(lstm_size),output_keep_prob = keep_prob) for _ in range(num_layers)])\n",
    "    initial_state = cell.zero_state(batch_size,tf.float32)\n",
    "    \n",
    "    return cell, initial_state"
   ]
  },
  {
   "cell_type": "markdown",
   "metadata": {},
   "source": [
    "### RNN Output\n",
    "\n",
    "Here we'll create the output layer. We need to connect the output of the RNN cells to a full connected layer with a softmax output. The softmax output gives us a probability distribution we can use to predict the next character, so we want this layer to have size $C$, the number of classes/characters we have in our text.\n",
    "\n",
    "If our input has batch size $N$, number of steps $M$, and the hidden layer has $L$ hidden units, then the output is a 3D tensor with size $N \\times M \\times L$. The output of each LSTM cell has size $L$, we have $M$ of them, one for each sequence step, and we have $N$ sequences. So the total size is $N \\times M \\times L$. \n",
    "\n",
    "We are using the same fully connected layer, the same weights, for each of the outputs. Then, to make things easier, we should reshape the outputs into a 2D tensor with shape $(M * N) \\times L$. That is, one row for each sequence and step, where the values of each row are the output from the LSTM cells. We get the LSTM output as a list, `lstm_output`. First we need to concatenate this whole list into one array with [`tf.concat`](https://www.tensorflow.org/api_docs/python/tf/concat). Then, reshape it (with `tf.reshape`) to size $(M * N) \\times L$.\n",
    "\n",
    "One we have the outputs reshaped, we can do the matrix multiplication with the weights. We need to wrap the weight and bias variables in a variable scope with `tf.variable_scope(scope_name)` because there are weights being created in the LSTM cells. TensorFlow will throw an error if the weights created here have the same names as the weights created in the LSTM cells, which they will be default. To avoid this, we wrap the variables in a variable scope so we can give them unique names.\n"
   ]
  },
  {
   "cell_type": "code",
   "execution_count": 24,
   "metadata": {
    "collapsed": true
   },
   "outputs": [],
   "source": [
    "def build_output(lstm_output, in_size, out_size):\n",
    "    ''' Build a softmax layer, return the softmax output and logits.\n",
    "    \n",
    "        Arguments\n",
    "        ---------\n",
    "        \n",
    "        lstm_output: List of output tensors from the LSTM layer\n",
    "        in_size: Size of the input tensor, for example, size of the LSTM cells\n",
    "        out_size: Size of this softmax layer\n",
    "    \n",
    "    '''\n",
    "    print(lstm_output)\n",
    "    # Reshape output so it's a bunch of rows, one row for each step for each sequence.\n",
    "    # Concatenate lstm_output over axis 1 (the columns)\n",
    "    seq_output = tf.concat(lstm_output,axis=1)\n",
    "    # Reshape seq_output to a 2D tensor with lstm_size columns\n",
    "    x = tf.reshape(seq_output,[-1,in_size])\n",
    "    # Connect the RNN outputs to a softmax layer\n",
    "    with tf.variable_scope('softmax'):\n",
    "        # Create the weight and bias variables here\n",
    "        softmax_w = tf.Variable(tf.truncated_normal((in_size, out_size),stddev=0.1))\n",
    "        softmax_b = tf.Variable(tf.zeros([out_size]))\n",
    "    \n",
    "    # Since output is a bunch of rows of RNN cell outputs, logits will be a bunch\n",
    "    # of rows of logit outputs, one for each step and sequence\n",
    "    logits =  tf.add(tf.matmul(x,softmax_w),softmax_b) \n",
    "    \n",
    "    # Use softmax to get the probabilities for predicted characters\n",
    "    out = tf.nn.softmax(logits,name =\"out\")\n",
    "    \n",
    "    return out, logits,softmax_w,softmax_b,x"
   ]
  },
  {
   "cell_type": "markdown",
   "metadata": {},
   "source": [
    "### Training loss\n",
    "\n",
    "Next up is the training loss. We get the logits and targets and calculate the softmax cross-entropy loss. First we need to one-hot encode the targets, we're getting them as encoded characters. Then, reshape the one-hot targets so it's a 2D tensor with size $(M*N) \\times C$ where $C$ is the number of classes/characters we have. Remember that we reshaped the LSTM outputs and ran them through a fully connected layer with $C$ units. So our logits will also have size $(M*N) \\times C$.\n",
    "\n",
    "Then we run the logits and targets through `tf.nn.softmax_cross_entropy_with_logits` and find the mean to get the loss."
   ]
  },
  {
   "cell_type": "code",
   "execution_count": 25,
   "metadata": {
    "collapsed": true
   },
   "outputs": [],
   "source": [
    "def build_loss(lstm_output,logits, targets, lstm_size, num_classes,softmax_w,softmax_b):\n",
    "    ''' Calculate the loss from the logits and the targets.\n",
    "    \n",
    "        Arguments\n",
    "        ---------\n",
    "        logits: Logits from final fully connected layer\n",
    "        targets: Targets for supervised learning\n",
    "        lstm_size: Number of LSTM hidden units\n",
    "        num_classes: Number of classes in targets\n",
    "        \n",
    "    '''\n",
    "    # One-hot encode targets and reshape to match logits, one row per sequence per step\n",
    "    y_one_hot = tf.one_hot(targets,num_classes)\n",
    "    y_reshaped =  tf.reshape(y_one_hot,logits.get_shape())\n",
    "    \n",
    "    \n",
    "    # Softmax cross entropy loss\n",
    "    if mode == \"characters\":\n",
    "        loss = tf.reduce_mean(tf.nn.softmax_cross_entropy_with_logits(logits=logits,labels=y_reshaped))\n",
    "    elif mode == \"words\":\n",
    "        loss = tf.reduce_mean(tf.nn.sampled_softmax_loss(tf.transpose(softmax_w),softmax_b,tf.reshape(tf.argmax( y_reshaped,axis = 1),shape=(y_reshaped.get_shape()[0],1)),tf.concat(lstm_output,axis=1),negative_sampled,len(vocab)))\n",
    "    \n",
    "    return loss"
   ]
  },
  {
   "cell_type": "markdown",
   "metadata": {},
   "source": [
    "### Optimizer\n",
    "\n",
    "Here we build the optimizer. Normal RNNs have have issues gradients exploding and disappearing. LSTMs fix the disappearance problem, but the gradients can still grow without bound. To fix this, we can clip the gradients above some threshold. That is, if a gradient is larger than that threshold, we set it to the threshold. This will ensure the gradients never grow overly large. Then we use an AdamOptimizer for the learning step."
   ]
  },
  {
   "cell_type": "code",
   "execution_count": 26,
   "metadata": {
    "collapsed": true
   },
   "outputs": [],
   "source": [
    "def build_optimizer(loss, learning_rate, grad_clip,global_step):\n",
    "    ''' Build optmizer for training, using gradient clipping.\n",
    "    \n",
    "        Arguments:\n",
    "        loss: Network loss\n",
    "        learning_rate: Learning rate for optimizer\n",
    "        global_step: to control the total number of train steps\n",
    "    \n",
    "    '''\n",
    "    \n",
    "    # Optimizer for training, using gradient clipping to control exploding gradients\n",
    "    tvars = tf.trainable_variables()\n",
    "    grads, _ = tf.clip_by_global_norm(tf.gradients(loss, tvars), grad_clip)\n",
    "    train_op = tf.train.AdamOptimizer(learning_rate)\n",
    "    optimizer = train_op.apply_gradients(zip(grads, tvars),global_step)\n",
    "    \n",
    "    return optimizer"
   ]
  },
  {
   "cell_type": "markdown",
   "metadata": {},
   "source": [
    "### Build the network\n",
    "\n",
    "Now we can put all the pieces together and build a class for the network. To actually run data through the LSTM cells, we will use [`tf.nn.dynamic_rnn`](https://www.tensorflow.org/versions/r1.0/api_docs/python/tf/nn/dynamic_rnn). This function will pass the hidden and cell states across LSTM cells appropriately for us. It returns the outputs for each LSTM cell at each step for each sequence in the mini-batch. It also gives us the final LSTM state. We want to save this state as `final_state` so we can pass it to the first LSTM cell in the the next mini-batch run. For `tf.nn.dynamic_rnn`, we pass in the cell and initial state we get from `build_lstm`, as well as our input sequences. Also, we need to one-hot encode the inputs before going into the RNN. \n"
   ]
  },
  {
   "cell_type": "code",
   "execution_count": 27,
   "metadata": {
    "collapsed": true
   },
   "outputs": [],
   "source": [
    "class CharRNN:\n",
    "    \n",
    "    def __init__(self, num_classes, batch_size=64, num_steps=50, \n",
    "                       lstm_size=128, num_layers=2, learning_rate=0.001, \n",
    "                       grad_clip=5, sampling=False):\n",
    "    \n",
    "        # When we're using this network for sampling later, we'll be passing in\n",
    "        # one character at a time, so providing an option for that\n",
    "        if sampling == True:\n",
    "            batch_size, num_steps = 1, 1\n",
    "        else:\n",
    "            batch_size, num_steps = batch_size, num_steps\n",
    "\n",
    "        tf.reset_default_graph()\n",
    "        \n",
    "        self.global_step_tensor = tf.Variable(0,trainable=False,name = \"global_step\")\n",
    "        # Build the input placeholder tensors\n",
    "        self.inputs, self.targets, self.keep_prob = build_inputs(batch_size,num_steps)\n",
    "        # Build the LSTM cell\n",
    "        cell, self.initial_state = build_lstm(lstm_size,num_layers,batch_size,self.keep_prob)\n",
    "        ### Run the data through the RNN layers\n",
    "        # First, one-hot encode the input tokens\n",
    "        x_one_hot = tf.one_hot(self.inputs,num_classes)\n",
    "        \n",
    "        self.grad_clip  = grad_clip\n",
    "        # Run each sequence step through the RNN with tf.nn.dynamic_rnn \n",
    "        outputs, state = tf.nn.dynamic_rnn(cell,x_one_hot,initial_state=self.initial_state)\n",
    "        self.final_state = state\n",
    "        \n",
    "        # Get softmax predictions and logits\n",
    "        self.prediction, self.logits ,self.softmax_w,self.softmax_b,self.lstm_output_reshaped  = build_output(outputs,lstm_size,num_classes)\n",
    "        \n",
    "        # Loss and optimizer (with gradient clipping)\n",
    "        self.loss =  build_loss(self.lstm_output_reshaped ,self.logits,self.targets,lstm_size,num_classes,self.softmax_w,self.softmax_b)\n",
    "        self.optimizer = build_optimizer(self.loss,learning_rate,grad_clip,self.global_step_tensor)"
   ]
  },
  {
   "cell_type": "markdown",
   "metadata": {},
   "source": [
    "## Hyperparameters\n",
    "\n",
    "Here are the hyperparameters for the network.\n",
    "\n",
    "* `batch_size` - Number of sequences running through the network in one pass.\n",
    "* `num_steps` - Number of characters in the sequence the network is trained on. Larger is better typically, the network will learn more long range dependencies. But it takes longer to train. 100 is typically a good number here.\n",
    "* `lstm_size` - The number of units in the hidden layers.\n",
    "* `num_layers` - Number of hidden LSTM layers to use\n",
    "* `learning_rate` - Learning rate for training\n",
    "* `keep_prob` - The dropout keep probability when training. If you're network is overfitting, try decreasing this.\n",
    "\n",
    "Here's some good advice from Andrej Karpathy on training the network:. \n",
    "\n",
    "> ## Tips and Tricks\n",
    "\n",
    ">### Monitoring Validation Loss vs. Training Loss\n",
    ">If you're somewhat new to Machine Learning or Neural Networks it can take a bit of expertise to get good models. The most important quantity to keep track of is the difference between your training loss (printed during training) and the validation loss (printed once in a while when the RNN is run on the validation data (by default every 1000 iterations)). In particular:\n",
    "\n",
    "> - If your training loss is much lower than validation loss then this means the network might be **overfitting**. Solutions to this are to decrease your network size, or to increase dropout. For example you could try dropout of 0.5 and so on.\n",
    "> - If your training/validation loss are about equal then your model is **underfitting**. Increase the size of your model (either number of layers or the raw number of neurons per layer)\n",
    "\n",
    "> ### Approximate number of parameters\n",
    "\n",
    "> The two most important parameters that control the model are `lstm_size` and `num_layers`. I would advise that you always use `num_layers` of either 2/3. The `lstm_size` can be adjusted based on how much data you have. The two important quantities to keep track of here are:\n",
    "\n",
    "> - The number of parameters in your model. This is printed when you start training.\n",
    "> - The size of your dataset. 1MB file is approximately 1 million characters.\n",
    "\n",
    ">These two should be about the same order of magnitude. It's a little tricky to tell. Here are some examples:\n",
    "\n",
    "> - I have a 100MB dataset and I'm using the default parameter settings (which currently print 150K parameters). My data size is significantly larger (100 mil >> 0.15 mil), so I expect to heavily underfit. I am thinking I can comfortably afford to make `lstm_size` larger.\n",
    "> - I have a 10MB dataset and running a 10 million parameter model. I'm slightly nervous and I'm carefully monitoring my validation loss. If it's larger than my training loss then I may want to try to increase dropout a bit and see if that helps the validation loss.\n",
    "\n",
    "> ### Best models strategy\n",
    "\n",
    ">The winning strategy to obtaining very good models (if you have the compute time) is to always err on making the network larger (as large as you're willing to wait for it to compute) and then try different dropout values (between 0,1). Whatever model has the best validation performance (the loss, written in the checkpoint filename, low is good) is the one you should use in the end.\n",
    "\n",
    ">It is very common in deep learning to run many different models with many different hyperparameter settings, and in the end take whatever checkpoint gave the best validation performance.\n",
    "\n",
    ">By the way, the size of your training and validation splits are also parameters. Make sure you have a decent amount of data in your validation set or otherwise the validation performance will be noisy and not very informative."
   ]
  },
  {
   "cell_type": "code",
   "execution_count": 28,
   "metadata": {
    "collapsed": true
   },
   "outputs": [],
   "source": [
    "def get_number_of_parameters():\n",
    "    total_parameters = 0\n",
    "    for variable in tf.trainable_variables():\n",
    "        shape = variable.get_shape()\n",
    "        #print(shape)\n",
    "        #print(len(shape))\n",
    "        variable_parameters = 1\n",
    "        \n",
    "        for dim in shape:\n",
    "            #print(dim)\n",
    "            variable_parameters*=dim.value\n",
    "        #print(variable_parameters)\n",
    "        total_parameters+= variable_parameters\n",
    "    return total_parameters"
   ]
  },
  {
   "cell_type": "code",
   "execution_count": 29,
   "metadata": {
    "collapsed": true
   },
   "outputs": [],
   "source": [
    "def pick_top_n(preds, vocab_size, top_n=5):\n",
    "    p = np.squeeze(preds)\n",
    "    p[np.argsort(p)[:-top_n]] = 0\n",
    "    p = p / np.sum(p)\n",
    "    c = np.random.choice(vocab_size, 1, p=p)[0]\n",
    "    return c"
   ]
  },
  {
   "cell_type": "markdown",
   "metadata": {},
   "source": [
    "## Time for training\n",
    "\n",
    "This is typical training code, passing inputs and targets into the network, then running the optimizer. Here we also get back the final LSTM state for the mini-batch. Then, we pass that state back into the network so the next batch can continue the state from the previous batch. And every so often (set by `save_every_n`) I save a checkpoint.\n",
    "\n",
    "Here I'm saving checkpoints with the format\n",
    "\n",
    "`i{iteration number}_l{# hidden layer units}.ckpt`\n"
   ]
  },
  {
   "cell_type": "code",
   "execution_count": 30,
   "metadata": {
    "collapsed": true
   },
   "outputs": [],
   "source": [
    "losses = {\"train\":[],\"validation\":[]}\n",
    "x_steps = list()"
   ]
  },
  {
   "cell_type": "code",
   "execution_count": 45,
   "metadata": {},
   "outputs": [
    {
     "name": "stdout",
     "output_type": "stream",
     "text": [
      "Tensor(\"rnn/transpose:0\", shape=(128, 400, 1024), dtype=float32)\n",
      "Training starting at time: 2017-12-17 19:38:56\n",
      "Number of parameters: 13210745 Dataset size: 4159537\n",
      "INFO:tensorflow:Restoring parameters from checkpoints/mcharacters_i1215_l1024.ckpt\n",
      "Epoch: 1/15...  Training Step: 1216...  Training loss: 1.4464...  Val loss: 1.5186...  0.9779 sec/batch\n",
      "Epoch: 1/15...  Training Step: 1241...  Training loss: 1.3752...  Val loss: 1.4895...  0.8264 sec/batch\n",
      "Epoch: 1/15...  Training Step: 1266...  Training loss: 1.3941...  Val loss: 1.4845...  0.8805 sec/batch\n",
      "Epoch: 1/15...  Training Step: 1291...  Training loss: 1.3815...  Val loss: 1.4814...  0.8466 sec/batch\n",
      "Epoch: 2/15...  Training Step: 1316...  Training loss: 1.3721...  Val loss: 1.4796...  0.9098 sec/batch\n",
      "Epoch: 2/15...  Training Step: 1341...  Training loss: 1.3636...  Val loss: 1.4787...  0.9137 sec/batch\n",
      "Epoch: 2/15...  Training Step: 1366...  Training loss: 1.3660...  Val loss: 1.4734...  0.8648 sec/batch\n",
      "Epoch: 3/15...  Training Step: 1391...  Training loss: 1.3863...  Val loss: 1.4727...  0.8617 sec/batch\n",
      "Epoch: 3/15...  Training Step: 1416...  Training loss: 1.3675...  Val loss: 1.4708...  0.9191 sec/batch\n",
      "Epoch: 3/15...  Training Step: 1441...  Training loss: 1.3743...  Val loss: 1.4679...  0.9133 sec/batch\n",
      "Epoch: 4/15...  Training Step: 1466...  Training loss: 1.3623...  Val loss: 1.4678...  0.8990 sec/batch\n",
      "Epoch: 4/15...  Training Step: 1491...  Training loss: 1.3526...  Val loss: 1.4696...  0.9115 sec/batch\n",
      "Epoch: 4/15...  Training Step: 1516...  Training loss: 1.3506...  Val loss: 1.4654...  0.9337 sec/batch\n",
      "Epoch: 5/15...  Training Step: 1541...  Training loss: 1.3504...  Val loss: 1.4645...  0.9057 sec/batch\n",
      "Epoch: 5/15...  Training Step: 1566...  Training loss: 1.3488...  Val loss: 1.4638...  0.9091 sec/batch\n",
      "Epoch: 5/15...  Training Step: 1591...  Training loss: 1.3429...  Val loss: 1.4598...  0.9237 sec/batch\n",
      "Epoch: 5/15...  Training Step: 1616...  Training loss: 1.3477...  Val loss: 1.4591...  0.9207 sec/batch\n",
      "Epoch: 6/15...  Training Step: 1641...  Training loss: 1.3404...  Val loss: 1.4591...  0.9145 sec/batch\n",
      "Epoch: 6/15...  Training Step: 1666...  Training loss: 1.3230...  Val loss: 1.4542...  0.9195 sec/batch\n",
      "Epoch: 6/15...  Training Step: 1691...  Training loss: 1.3400...  Val loss: 1.4563...  0.9125 sec/batch\n",
      "Epoch: 7/15...  Training Step: 1716...  Training loss: 1.4478...  Val loss: 1.5565...  0.8845 sec/batch\n",
      "Epoch: 7/15...  Training Step: 1741...  Training loss: 1.4587...  Val loss: 1.5263...  0.9190 sec/batch\n",
      "Epoch: 7/15...  Training Step: 1766...  Training loss: 1.3987...  Val loss: 1.4704...  0.8601 sec/batch\n",
      "Epoch: 8/15...  Training Step: 1791...  Training loss: 1.3354...  Val loss: 1.4624...  0.8967 sec/batch\n",
      "Epoch: 8/15...  Training Step: 1816...  Training loss: 1.3323...  Val loss: 1.4544...  0.8958 sec/batch\n",
      "Epoch: 8/15...  Training Step: 1841...  Training loss: 1.3322...  Val loss: 1.4471...  0.8782 sec/batch\n",
      "Epoch: 9/15...  Training Step: 1866...  Training loss: 1.3190...  Val loss: 1.4511...  0.8965 sec/batch\n",
      "Epoch: 9/15...  Training Step: 1891...  Training loss: 1.3203...  Val loss: 1.4447...  0.9001 sec/batch\n",
      "Epoch: 9/15...  Training Step: 1916...  Training loss: 1.2932...  Val loss: 1.4434...  0.9176 sec/batch\n",
      "Epoch: 9/15...  Training Step: 1941...  Training loss: 1.2981...  Val loss: 1.4453...  0.9016 sec/batch\n",
      "Epoch: 10/15...  Training Step: 1966...  Training loss: 1.3174...  Val loss: 1.4398...  0.8779 sec/batch\n",
      "Epoch: 10/15...  Training Step: 1991...  Training loss: 1.3008...  Val loss: 1.4407...  0.8818 sec/batch\n",
      "Epoch: 10/15...  Training Step: 2016...  Training loss: 1.2972...  Val loss: 1.4422...  0.8754 sec/batch\n",
      "Epoch 10/15 time:71.79167222976685...  finished at 2017-12-17 19:51:13\n",
      "Epoch: 11/15...  Training Step: 2041...  Training loss: 1.2948...  Val loss: 1.4359...  0.8757 sec/batch\n",
      "Epoch: 11/15...  Training Step: 2066...  Training loss: 1.2866...  Val loss: 1.4357...  0.8685 sec/batch\n",
      "Epoch: 11/15...  Training Step: 2091...  Training loss: 1.2771...  Val loss: 1.4380...  0.8731 sec/batch\n",
      "Epoch: 12/15...  Training Step: 2116...  Training loss: 1.2854...  Val loss: 1.4357...  0.8740 sec/batch\n",
      "Epoch: 12/15...  Training Step: 2141...  Training loss: 1.2772...  Val loss: 1.4351...  0.8728 sec/batch\n",
      "Epoch: 12/15...  Training Step: 2166...  Training loss: 1.2697...  Val loss: 1.4356...  0.8783 sec/batch\n",
      "Epoch: 13/15...  Training Step: 2191...  Training loss: 1.2924...  Val loss: 1.4335...  0.8630 sec/batch\n",
      "Epoch: 13/15...  Training Step: 2216...  Training loss: 1.2822...  Val loss: 1.4302...  0.8725 sec/batch\n",
      "Epoch: 13/15...  Training Step: 2241...  Training loss: 1.2637...  Val loss: 1.4325...  0.8650 sec/batch\n",
      "Epoch: 13/15...  Training Step: 2266...  Training loss: 1.2529...  Val loss: 1.4300...  0.8718 sec/batch\n",
      "Epoch: 14/15...  Training Step: 2291...  Training loss: 1.2744...  Val loss: 1.4271...  0.8696 sec/batch\n",
      "Epoch: 14/15...  Training Step: 2316...  Training loss: 1.2729...  Val loss: 1.4303...  0.8773 sec/batch\n",
      "Epoch: 14/15...  Training Step: 2341...  Training loss: 1.2614...  Val loss: 1.4271...  0.8764 sec/batch\n",
      "Epoch: 15/15...  Training Step: 2366...  Training loss: 1.2506...  Val loss: 1.4265...  0.8661 sec/batch\n",
      "Epoch: 15/15...  Training Step: 2391...  Training loss: 1.2613...  Val loss: 1.4305...  0.8632 sec/batch\n",
      "Epoch: 15/15...  Training Step: 2416...  Training loss: 1.2475...  Val loss: 1.4249...  0.8713 sec/batch\n",
      "Training ending at time: 2017-12-17 19:57:12\n",
      "Trainint total time: 1095.6346259117126\n"
     ]
    }
   ],
   "source": [
    "#epochs = 1\n",
    "# Save every N iterations\n",
    "save_every_n = 500\n",
    "print_loss_every_n = 25\n",
    "sample_every = 500\n",
    "print_epoch_time_every = 10\n",
    "\n",
    "with tf.device(\"/gpu:0\"):\n",
    "    model = CharRNN(len(vocab), batch_size=batch_size, num_steps=num_steps,\n",
    "                lstm_size=lstm_size, num_layers=num_layers, \n",
    "                learning_rate=learning_rate)\n",
    "    #print(\"after model\")\n",
    "\n",
    "saver = tf.train.Saver(max_to_keep=5)\n",
    "print(\"Training starting at time:\",strftime(\"%Y-%m-%d %H:%M:%S\", localtime()))\n",
    "train_start_time = time.time()\n",
    "with tf.Session() as sess:\n",
    "    sess.run(tf.global_variables_initializer())\n",
    "    print(\"Number of parameters:\",get_number_of_parameters(),\"Dataset size:\",len(encoded))\n",
    "    #print(\"after initializer\")\n",
    "    if resume_from_checkpoint:\n",
    "        latest_checkpoint = tf.train.latest_checkpoint('checkpoints')\n",
    "        saver.restore(sess, latest_checkpoint)\n",
    "    counter = 0\n",
    "    for e in range(epochs):\n",
    "        # Train network\n",
    "        epoch_start = time.time()\n",
    "        \n",
    "        new_state = sess.run(model.initial_state)\n",
    "        loss = 0\n",
    "        for x, y in get_batches(encoded, batch_size, num_steps):\n",
    "            \n",
    "            \n",
    "            start = time.time()\n",
    "            feed = {model.inputs: x,\n",
    "                    model.targets: y,\n",
    "                    model.keep_prob: keep_prob,\n",
    "                    model.initial_state: new_state}\n",
    "            batch_loss, new_state, _ = sess.run([model.loss, \n",
    "                                                 model.final_state, \n",
    "                                                 model.optimizer], \n",
    "                                                 feed_dict=feed)\n",
    "        \n",
    "            \n",
    "            end = time.time()\n",
    "            if counter%print_loss_every_n == 0:\n",
    "                val_batches = get_batches(encoded_val,int(len(encoded_val)/num_steps),num_steps)\n",
    "                x_val,y_val = next(val_batches)\n",
    "                \n",
    "                val_dict = {model.inputs: x_val,\n",
    "                            model.targets: y_val,\n",
    "                            model.keep_prob: 1,\n",
    "                            model.initial_state: new_state}\n",
    "                \n",
    "                val_loss,prediction = sess.run([model.loss,model.prediction],feed_dict=val_dict)\n",
    "                \n",
    "                losses[\"train\"].append(batch_loss)\n",
    "                losses[\"validation\"].append(val_loss)\n",
    "                \n",
    "                \n",
    "                global_step = tf.train.global_step(sess,model.global_step_tensor)\n",
    "                x_steps.append(global_step)\n",
    "                \n",
    "                print('Epoch: {}/{}... '.format(e+1, epochs),\n",
    "                      'Training Step: {}... '.format(global_step),\n",
    "                      'Training loss: {:.4f}... '.format(batch_loss),\n",
    "                      'Val loss: {:.4f}... '.format(val_loss),\n",
    "                      '{:.4f} sec/batch'.format((end-start)))\n",
    "        \n",
    "            if (counter % save_every_n == 0):\n",
    "                global_step = tf.train.global_step(sess,model.global_step_tensor)\n",
    "                saver.save(sess, \"checkpoints/m{}_i{}_l{}.ckpt\".format(mode,global_step, lstm_size))\n",
    "                \n",
    "            counter += 1\n",
    "            #learning_rate*=0.75\n",
    "            #model.optimizer = build_optimizer(model.loss,learning_rate,model.grad_clip,model.global_step_tensor)\n",
    "        \n",
    "        epoch_end = time.time()\n",
    "        \n",
    "        \n",
    "        if ((e+1) % print_epoch_time_every== 0):\n",
    "            print('Epoch {}/{} time:{}...'.format(e+1,epochs,epoch_end-epoch_start),\n",
    "                 \" finished at\",strftime(\"%Y-%m-%d %H:%M:%S\", localtime()))\n",
    "        \n",
    "            \n",
    "    global_step = tf.train.global_step(sess,model.global_step_tensor)\n",
    "    saver.save(sess, \"checkpoints/m{}_i{}_l{}.ckpt\".format(mode,global_step, lstm_size))\n",
    "    \n",
    "print(\"Training ending at time:\",strftime(\"%Y-%m-%d %H:%M:%S\", localtime()))\n",
    "print(\"Trainint total time:\",time.time()-train_start_time)"
   ]
  },
  {
   "cell_type": "code",
   "execution_count": 46,
   "metadata": {},
   "outputs": [
    {
     "data": {
      "image/png": "[encoded data removed]",
      "text/plain": [
       "<matplotlib.figure.Figure at 0x7fbccdbc10b8>"
      ]
     },
     "metadata": {
      "image/png": {
       "height": 250,
       "width": 370
      }
     },
     "output_type": "display_data"
    }
   ],
   "source": [
    "plt.plot(x_steps,losses[\"train\"],label=\"Train loss\")\n",
    "plt.plot(x_steps,losses[\"validation\"],label=\"Validation loss\")\n",
    "plt.legend()\n",
    "_ = plt.ylim()"
   ]
  },
  {
   "cell_type": "markdown",
   "metadata": {},
   "source": [
    "#### Saved checkpoints\n",
    "\n",
    "Read up on saving and loading checkpoints here: https://www.tensorflow.org/programmers_guide/variables"
   ]
  },
  {
   "cell_type": "code",
   "execution_count": 47,
   "metadata": {
    "collapsed": true
   },
   "outputs": [],
   "source": [
    "checkpoints = tf.train.get_checkpoint_state('checkpoints')"
   ]
  },
  {
   "cell_type": "markdown",
   "metadata": {},
   "source": [
    "## Sampling final trained model\n",
    "\n",
    "Now that the network is trained, we'll can use it to generate new text. The idea is that we pass in a character, then the network will predict the next character. We can use the new one, to predict the next one. And we keep doing this to generate all new text. I also included some functionality to prime the network with some text by passing in a string and building up a state from that.\n",
    "\n",
    "The network gives us predictions for each character. To reduce noise and make things a little less random, I'm going to only choose a new character from the top N most likely characters.\n",
    "\n"
   ]
  },
  {
   "cell_type": "code",
   "execution_count": 48,
   "metadata": {
    "collapsed": true
   },
   "outputs": [],
   "source": [
    "def sample(checkpoint, n_samples, lstm_size, vocab_size, prime=\"The \",mode=\"characters\"):\n",
    "    print(mode)\n",
    "    samples = tokenize_text(prime,mode)\n",
    "    model = CharRNN(len(vocab), lstm_size=lstm_size, sampling=True)\n",
    "    saver = tf.train.Saver()\n",
    "    with tf.Session() as sess:\n",
    "        saver.restore(sess, checkpoint)\n",
    "        new_state = sess.run(model.initial_state)\n",
    "        for c in tokenize_text(prime,mode):\n",
    "            x = np.zeros((1, 1))\n",
    "            x[0,0] = vocab_to_int[c]\n",
    "            feed = {model.inputs: x,\n",
    "                    model.keep_prob: 1.,\n",
    "                    model.initial_state: new_state}\n",
    "            preds, new_state = sess.run([model.prediction, model.final_state], \n",
    "                                         feed_dict=feed)\n",
    "\n",
    "        c = pick_top_n(preds, len(vocab))\n",
    "        samples.append(int_to_vocab[c])\n",
    "\n",
    "        for i in range(n_samples):\n",
    "            x[0,0] = c\n",
    "            feed = {model.inputs: x,\n",
    "                    model.keep_prob: 1.,\n",
    "                    model.initial_state: new_state}\n",
    "            preds, new_state = sess.run([model.prediction, model.final_state], \n",
    "                                         feed_dict=feed)\n",
    "\n",
    "            c = pick_top_n(preds, len(vocab))\n",
    "            samples.append(int_to_vocab[c])\n",
    "        \n",
    "    return ''.join(samples).replace(\"new_line_token\",\"\\n\")"
   ]
  },
  {
   "cell_type": "markdown",
   "metadata": {},
   "source": [
    "Here, pass in the path to a checkpoint and sample from the network."
   ]
  },
  {
   "cell_type": "code",
   "execution_count": 49,
   "metadata": {},
   "outputs": [
    {
     "data": {
      "text/plain": [
       "'checkpoints/mcharacters_i2430_l1024.ckpt'"
      ]
     },
     "execution_count": 49,
     "metadata": {},
     "output_type": "execute_result"
    }
   ],
   "source": [
    "tf.train.latest_checkpoint('checkpoints')"
   ]
  },
  {
   "cell_type": "markdown",
   "metadata": {},
   "source": [
    "## Generate new text from \"base\" text"
   ]
  },
  {
   "cell_type": "code",
   "execution_count": 50,
   "metadata": {},
   "outputs": [
    {
     "name": "stdout",
     "output_type": "stream",
     "text": [
      "characters\n",
      "Tensor(\"rnn/transpose:0\", shape=(1, 1, 1024), dtype=float32)\n",
      "INFO:tensorflow:Restoring parameters from checkpoints/mcharacters_i2430_l1024.ckpt\n",
      "characters\n",
      "Tensor(\"rnn/transpose:0\", shape=(1, 1, 1024), dtype=float32)\n",
      "INFO:tensorflow:Restoring parameters from checkpoints/mcharacters_i2430_l1024.ckpt\n",
      "characters\n",
      "Tensor(\"rnn/transpose:0\", shape=(1, 1, 1024), dtype=float32)\n",
      "INFO:tensorflow:Restoring parameters from checkpoints/mcharacters_i2430_l1024.ckpt\n",
      "characters\n",
      "Tensor(\"rnn/transpose:0\", shape=(1, 1, 1024), dtype=float32)\n",
      "INFO:tensorflow:Restoring parameters from checkpoints/mcharacters_i2430_l1024.ckpt\n",
      "characters\n",
      "Tensor(\"rnn/transpose:0\", shape=(1, 1, 1024), dtype=float32)\n",
      "INFO:tensorflow:Restoring parameters from checkpoints/mcharacters_i2430_l1024.ckpt\n",
      "characters\n",
      "Tensor(\"rnn/transpose:0\", shape=(1, 1, 1024), dtype=float32)\n",
      "INFO:tensorflow:Restoring parameters from checkpoints/mcharacters_i2430_l1024.ckpt\n",
      "characters\n",
      "Tensor(\"rnn/transpose:0\", shape=(1, 1, 1024), dtype=float32)\n",
      "INFO:tensorflow:Restoring parameters from checkpoints/mcharacters_i2430_l1024.ckpt\n",
      "characters\n",
      "Tensor(\"rnn/transpose:0\", shape=(1, 1, 1024), dtype=float32)\n",
      "INFO:tensorflow:Restoring parameters from checkpoints/mcharacters_i2430_l1024.ckpt\n",
      "characters\n",
      "Tensor(\"rnn/transpose:0\", shape=(1, 1, 1024), dtype=float32)\n",
      "INFO:tensorflow:Restoring parameters from checkpoints/mcharacters_i2430_l1024.ckpt\n",
      "characters\n",
      "Tensor(\"rnn/transpose:0\", shape=(1, 1, 1024), dtype=float32)\n",
      "INFO:tensorflow:Restoring parameters from checkpoints/mcharacters_i2430_l1024.ckpt\n",
      "characters\n",
      "Tensor(\"rnn/transpose:0\", shape=(1, 1, 1024), dtype=float32)\n",
      "INFO:tensorflow:Restoring parameters from checkpoints/mcharacters_i2430_l1024.ckpt\n",
      "characters\n",
      "Tensor(\"rnn/transpose:0\", shape=(1, 1, 1024), dtype=float32)\n",
      "INFO:tensorflow:Restoring parameters from checkpoints/mcharacters_i2430_l1024.ckpt\n",
      "characters\n",
      "Tensor(\"rnn/transpose:0\", shape=(1, 1, 1024), dtype=float32)\n",
      "INFO:tensorflow:Restoring parameters from checkpoints/mcharacters_i2430_l1024.ckpt\n",
      "characters\n",
      "Tensor(\"rnn/transpose:0\", shape=(1, 1, 1024), dtype=float32)\n",
      "INFO:tensorflow:Restoring parameters from checkpoints/mcharacters_i2430_l1024.ckpt\n",
      "characters\n",
      "Tensor(\"rnn/transpose:0\", shape=(1, 1, 1024), dtype=float32)\n",
      "INFO:tensorflow:Restoring parameters from checkpoints/mcharacters_i2430_l1024.ckpt\n",
      "characters\n",
      "Tensor(\"rnn/transpose:0\", shape=(1, 1, 1024), dtype=float32)\n",
      "INFO:tensorflow:Restoring parameters from checkpoints/mcharacters_i2430_l1024.ckpt\n"
     ]
    }
   ],
   "source": [
    "\n",
    "checkpoint = tf.train.latest_checkpoint('checkpoints')\n",
    "\n",
    "\n",
    "samples = list()\n",
    "for text in text_to_try:\n",
    "    #print(\"------------------------\",text)\n",
    "    samples.append( sample(checkpoint, 500, lstm_size, len(vocab), prime=text,mode=mode))\n",
    "    #print(samp)\n",
    "    #print(\"------------------------\")"
   ]
  },
  {
   "cell_type": "code",
   "execution_count": 51,
   "metadata": {},
   "outputs": [
    {
     "name": "stdout",
     "output_type": "stream",
     "text": [
      "------------------------ In the first place\n",
      "In the first place to their things that he could not recall. I suppose those membered of those metal, in our past when the meaning of the ball held my eyes and present. Then he came to tell me; and in a common was stir dead. As the ship with the matter, had been the fares and shewn—that hour walked with these things into an ancient that three old that we seemed a large of their mind. As the gangs of the traver and realments of arch of the prevail would be fancy, strange thousandors in his stenity of a certain char\n",
      "------------------------\n",
      "------------------------ the night before\n",
      "the night before the stone-gathered attack of surround bottom. It was that he cautified the beards and sourhings were shewed by a diseased.\n",
      "\n",
      "    The track of the dangerous continued him was tasted an almost part of the chark that all atal from the southering were stone subtly and an images of my own, and a few artistic of the sea and through the shutter. The sai in a centuric, half and astern the wood and people soon by downward that these terms—out of the cold, all of the rate of secretically secure about the s\n",
      "------------------------\n",
      "------------------------ horror\n",
      "horroring her one of the most such palent of strength; the palers, and heard a loathsomely damned forms what I dreamed along the danker rouns of example, there, to disting a dream, which has stunn abstreding itster of an inclaised beast. It was all that we seen the peop so far been some services, and sourced an increased walls, somethings; and the several mentionable structures of madness of their spoking interested to any of the solution of the\n",
      "creaking of themselves thought of the steps all other cli\n",
      "------------------------\n",
      "------------------------ creature\n",
      "creatures and as a great ancestral and telling of such a man to be satical off and as a garret really an oppore.\n",
      "     The searching beneath the perishing was not only a chasm to breeth transcope with iroubled of the lanture and the sun sail as it still above the surface of the sound.\n",
      "\n",
      " I could have the wood were, though the trees of the palaces are numiness and, and was indeed to humbly and somewhat manned of a single flaspic of the mere different dark flat and that his somewhaths only any other mothort.\n",
      "------------------------\n",
      "------------------------ night\n",
      "night of the whole of the descent, of corridor while, and I stand of all the seven coming of treatment of travellient.\n",
      "\n",
      "\"And I knew that I will somehow the stricture and the meants on their person, that had here—that I was too much, but a fige the paper examative and seen. As it has had not live to and how they drove thau saying? Also of all haste to the probessor and half-signal was sometimes in this air and sensitive and she would see it in the desire a case of my passage thought.\n",
      "     “Disease of a\n",
      "------------------------\n",
      "------------------------ dream\n",
      "dreamar had should be discovered a cloud of search.\n",
      "\n",
      "A wall at old propersed by a course their object is true to be true, without all the blameage with half sunset. It was too meres of my paralogest attempts with a person, to the fact of all, at this prevail in the darkness and also that in the door treasomic floating sheep and strangers so that one of the partiest over the several stead building worthing in the solid record by stimule.\n",
      "\n",
      "In such credible through a sensive, we would not be ride to see \n",
      "------------------------\n",
      "------------------------ thing\n",
      "thing the extremely and dreams was not any thing of the merches and the whisper in the most search or death. As it is again to hure to the suddenly to sole littered. They held the light-hand, at last human\n",
      "and discussions of the signs. The same of the deceasing-roads and human books as well and a footproper than the left, and his father of the pathy of those sea-cotted out of stars. Where no one whose shrieks of three distinct clean of the legend woods were all of the\n",
      "primite of the discovery to drop \n",
      "------------------------\n",
      "------------------------ That night\n",
      "That night, and was a second that the forest outled orders. Wasting those mads and the shapes of the colors of the legeths arose only to the stuff of this time the sound, that I was a garden fortunably an all about all our cands, whispering windows—the shore steps as had been true by the stories. I saw that I had nearer that the same had been stood as they all seen to the lower worldy and artistic attributed indeed that the southwest in his courage of ship nearly seat.—And the two onyx pilloratory on, and \n",
      "------------------------\n",
      "------------------------ mountain\n",
      "mountainstrust in some object that. The pain of the sea of the cold terrible. It waredly trans as I could be nearly a medious trip abas of senting, that while the spectral passages, wore, and too,\n",
      "had shewed to roughly an opportination in the descendably one of the solita columns, and that his stares as well as that the mere of the continent and attempt the stuporance of the summit out and track of the castle had a trood of sight of the beings of the most song of the surface he saw that this pose and alw\n",
      "------------------------\n",
      "------------------------ Ammi\n",
      "Amming many substantly opinion to a serious surface of means of the come. In this time the trees and sometimes, as if we have allusive and seemed tulls at stranger and delivened to the crept of the polition of his propensity.\n",
      "\n",
      "I did so much sat at the silver, which they seen indeed out into the earth’s personal shouted in her secrets, which I was nor desert. He was too from that their such an impressed significance whatever.\n",
      "\n",
      "    They remember he had, and was clearly to be sure, but it would not see \n",
      "------------------------\n",
      "------------------------ Cthulhu\n",
      "Cthulhular, and some of the most astonishment on a months of mother showed out the doorway of the single that they were too seen, with seated into which he could not prepared that the genite of at once. The columners, and I have darkened the broken and emotion,\n",
      "when the moon-beast interpraturel of the street, and solid and decay of this shunnable\n",
      "speaks of thirds are the lones, and stood with a series of the chairs. There were newlingless from toward, the primonous confixed the beach seat a feweral stai\n",
      "------------------------\n",
      "------------------------ raven\n",
      "raventine of the character of the police of this point, and an every terrible attic as this incampring which the draper was so archives took and perhaps to the sevent of the pass. The beams were striking it, in the engranted around men of the pass, and then a flights in time the sunsen courtedry ourself, and the land, talked wind cloak of tried to an ordular stars of a south of the really characters, and also attendably any strange abandoned and days. They were indefinitely discovered, and of the capt\n",
      "------------------------\n",
      "------------------------ bird\n",
      "bird assured. A story or the strangeness and althy with the stone of them, and a smoom in these water as the second than that was and the wind, and the large bore of some might expedition.\n",
      "     And at least torn of the same might be any once the class of the table of their origiation of also.\n",
      "     In an his fire, and as the strict of the sea was all that he was of their street. They had never belonged the town, where are a creaked at the mountains had come frightful terrible of a study one of these a\n",
      "------------------------\n",
      "------------------------ nevermore\n",
      "nevermore and windows or seemed to a mind an opportality in his massatines, because of them, since through the discovery, who had been a singularly despair, till a word, and an eastered the thood on the town, but an old thought after sinch neither of men who considerable father world in my shreek and dragged as the places of such a sudden and stars became secrets on their previous shadow. We had\n",
      "stopped to hint and his charles and then at all. Westwhated as I had a present to the sound of the crash of tim\n",
      "------------------------\n",
      "------------------------ dead\n",
      "dead on the poliche, that they sail of thinking its plantas will not believe on it. The seased almost search, I saw some order promite to the surver, and the person were stumbled at the sold wood.\"\n",
      "\n",
      "Indeed, thus discovery of the mad breeder than the palm of my brood. At our similar motion at the tremendous sun, too, and toward this will be\n",
      "some out of them door. It seemed to the beat of the missing in the same moment of the southward and indication, and were aroused the thing which so set it—all wide\n",
      "------------------------\n",
      "------------------------ The bird\n",
      "The birdle to take momentarily ascend than that any half-chanded beast individual and still, and their displained was perils, and wildly and dreamed at once a startlene sight, too, but he had although had some surface out of the second personal play to the sea. His heard a conclusive or through the statuous sunset sillow with the truth of the lanterns of their silent, and some significanch, and whether the first supersion of the party, and that which the stores were as to be still as indeed by the day. I\n",
      "------------------------\n"
     ]
    }
   ],
   "source": [
    "for i in range(len(text_to_try)):\n",
    "    text = text_to_try[i]\n",
    "    generated = samples[i]\n",
    "    print(\"------------------------\",text)\n",
    "    print(generated)\n",
    "    print(\"------------------------\")"
   ]
  },
  {
   "cell_type": "code",
   "execution_count": 52,
   "metadata": {},
   "outputs": [
    {
     "data": {
      "text/plain": [
       "model_checkpoint_path: \"checkpoints/mcharacters_i2430_l1024.ckpt\"\n",
       "all_model_checkpoint_paths: \"checkpoints/mcharacters_i1216_l1024.ckpt\"\n",
       "all_model_checkpoint_paths: \"checkpoints/mcharacters_i1716_l1024.ckpt\"\n",
       "all_model_checkpoint_paths: \"checkpoints/mcharacters_i2216_l1024.ckpt\"\n",
       "all_model_checkpoint_paths: \"checkpoints/mcharacters_i2430_l1024.ckpt\""
      ]
     },
     "execution_count": 52,
     "metadata": {},
     "output_type": "execute_result"
    }
   ],
   "source": [
    "tf.train.get_checkpoint_state('checkpoints')"
   ]
  },
  {
   "cell_type": "code",
   "execution_count": 53,
   "metadata": {},
   "outputs": [
    {
     "name": "stdout",
     "output_type": "stream",
     "text": [
      "characters\n",
      "Tensor(\"rnn/transpose:0\", shape=(1, 1, 1024), dtype=float32)\n",
      "INFO:tensorflow:Restoring parameters from checkpoints/mcharacters_i2430_l1024.ckpt\n",
      "The old folk have gone away—that I sat. As the newers through a few stone of mind at the thrilling on heavers, too save to the sentiments, attatitive sun sea-coating, and that this panic and so large believed. Then I had beft hold terrible to stuff, if they would now shatter, and alley only our distance. That its state of the mind was induck the shadow as three of alien silver to be those one strately outsidery. There were suspicion, and their side of a strange and one worn straight as his capatings, tall of the clusses, and only back the strange sheer though that somewhere had not brought our fifteen and a farmhouse. It seemed a smood and description of madness. Then, were set out and an aged to the company of his\n",
      "some time indeed as a light as to be drawens of signs of a set. There a portion of the men and evidently\n",
      "like that the most suspects of the morning or stranguer. What I heard of the sea, and, in allost themselves, while a strange silence in the summits and colourative party of sounded into the wildernosity. At strange shape only one shocking a sign for horror to conclusin from the deep and always as told him to boat they would not see it when, at last, blowing where animals as his from old man attempt.\n",
      "     When the sea a domen, and the stairs of the terts. Twitting was something about that his housing sound or foreign, as though in the faterial water of all the little beyond sea as it came to teraply to a chill and carvincing and places which have been sprain. We had a low people on two shade of the good death a pleasure which he distance for the same moment almed to tell a dark shin than anything were that surprives. The whole armidors were clouds to a doubt be taint only the steps all to the room as alone, and we were seen into those on this state. It may be all that\n",
      "he stood a stone subject of the seventy ship,\n",
      "although in a strange, and they devised me terror in so coming of horror. When the moss of his closed spane was stores and carved for the lower portrain anything and solitary. The songs turned over his play, was in those wall of a ghastly and that another more, in their harry of such any diements-found, and all the body. The dead we here told, they readed the crisis scenetrom of certain towers had bring through something beyond. All this world of the less terrible, and all that the fastery of the terrible streets, and a could not stay off, and all that we were all the place were subject to think. The color of a large cheaps of the main had sens the prevaition of the plain of the mervitary committed ascent only one which were.\n",
      "     “Convertally this murderers. He staggered; a sensetor solution of the story of their preserve any other mallers which I had not seen it as hearth, we have to displuring in our side. These stank with\n",
      "the same secrets of all this strangeness, I believe at their morning.\n",
      "     These still help a stone before the points of the thought white madmy, this and a huge all things, and which we could be surely positive in an expression of an imprison would be detected and soon, with a present door.\n",
      "\n",
      "I a plotter of serving strue monstrous startlers, but at solid reasors were one at our cale. A long, and threw were seemed to be an evolate of third is of a stupidly; since they would have been sounded tearself insolate at all. As the streamers we had as I happened when I felt them and the light dare alward to think it what the least one of the past of those seemed seas but something in the direction of the time there is sometimes the crows as the same moment and passage, or twincing of the chassing broad.\n",
      "\n",
      "                                                             CHATERS  A would travelled. Affectual dropping of the color, all to a singlant reporter to tell it in a from their own, though he was no one of all that of the man.\n",
      "     And the whole of which I saw that it, and I won'd bear and that time, they saw that the compass, service, and it will as if you armiving to the struggle where I had to doubt that this deeply thing is terrible into the southward and shadowy only\n",
      "prints whose nurround which, in the dream which, there with the deep still beginning any other seemed to an infinite changes. In a shocked a long, and would not have been absolutely for through the reason and the moon bar life and that we made me to account on the tombs as he had been a latern of the presences the church of that origination in such that he did. It was too many torms of the thing was thrust it upon a parily colons and the pressure which wore that of the prospect of my seaten and tried to the ground. I saw the sand through the penguary of the story outrage, and the dogs which had not left it at all the rock that sect. The wind surprise of the latting, who had been a searcher was all that at once should have abroaded the blood and assembly could be climbed a child wonder.\n",
      "     It was no light on that speech and some of hours, they came upon the sort of the secondary of the same time with a short things of the provisions\n"
     ]
    }
   ],
   "source": [
    "generated = sample(checkpoint, 5000, lstm_size, len(vocab), prime=\"The old folk have gone away\",mode=mode)\n",
    "print(generated)"
   ]
  },
  {
   "cell_type": "code",
   "execution_count": 54,
   "metadata": {},
   "outputs": [
    {
     "name": "stdout",
     "output_type": "stream",
     "text": [
      "characters\n",
      "Tensor(\"rnn/transpose:0\", shape=(1, 1, 1024), dtype=float32)\n",
      "INFO:tensorflow:Restoring parameters from checkpoints/mcharacters_i2430_l1024.ckpt\n",
      "The thing that should not be seen of shanted and course, shaking to be others being the lighted and several sense to be studied and spaces of all the shannate are faintlessed the personages on the distant deess, and the strote the stone was still assigning at last fears. I turned to hold the thing, we were all that so to an ancient spring and pores, and as they down, that the men who considered to the present one of that of the beact.\n",
      "     The determinedly and sounded of a domess any gradual spectral ordant trees, and as they were not say to the storm, and though hald the tragedy shouted it, weird later the country from thit hill, and all the same talling in the floor was a sollance of the barren enough. We were a spring and spadely be a conderiously almost assarded a mirrate allest in the solitural senset without a signal at all, but the seat of his shower with his place of the story was the characteristern and told hand. I did not seem to be sure then to sea. It was took as well, but seemed for in the dreaking at the cast stone bearing its partially took his familiar and strike a darkened church and his followed. And there came outline was shrings, therefore head was about too seem that he saw it in termer and corresponds of seemined to adout any of the strokes, and sented to be death. When then several seemed towers, with a vigular of the practicatic angiances that are other moment of the tree-from the last seat the sunset chiselling walls, but they shook to see an ancient stone-race. He had been talls, the ship, a suppressed in a messengar planet and communicative along the crag of a dangerous running sealed into surpassing translight on his place we had been the thirdentarily oppressive of the shining production.' The shore, the contour found, he saw still see of singular and almost proportioned at the letters. This was in a man or earlier traversitude, and the throat of a malise than was it is still something to his stars of an illerish floor as such as I shall absolute and solumination to the poor of the most dream-like than and their climbing of his face which we had a great day of his fetene restored by a single passage who down by that statements and counlless and contrived; and the three shelder at the lines of his father, and were this into that tall has shaped ideality, with a more and more portable and terror was absolutely southernal torch, and whispered to the goide insections of a partical stumbling. Though I wise seen the lives and secrets took two of the pensation of their dieman from the blacks and taken over the father with the sails. And the several feet in their own combusional stone strides, and the sinister blacked, and souls with purroes, the letters wele the people about a sillar state. Those were noticed to their moons; with a seclin of their steps of a horeor above the salend an all and the crags of terror, and the crypt which has been assestly as a mead of life of ascend. The sole of the palm of the strain of metal, and standing in order the terrible day of the thing before. Alone-headers to be told me to hear whatever to the sea-choser of the matarial sink and the first of terror of themselves and dark and thronged water. I could not remove the sought, and one wholly only a mutter as the top west had anturing the surface would be absurd of an uncompassive, at anything but through a long and able that the man who had nightmyants, and with the sailorar was soon beyond the state of a singllow.\n",
      "     After many met a peculiar sea and studied the street as though has stone at the partyor of my frightful or less and space, with at the same original, which went a shadows was all that they could be no more. And a calace would have devenoused it but four absorpeted as they were anyone continentable. They came that the doctor over see with who wester began as that thought of hid windows beyond temple in a cold anchoratery. He speak of an apoch a personage settlers of horror to still the shore, without helled an applated backs, they were so father was a series of part of their shops outside when all the police. And is the life of the canace of the previous station of has been strangely about to dream with it would stay to see. It was in a little delight a mist hope out the dead of his own paths. After a shiff, which I saw that hesitation of the place in his mind of a groubh later, the soundering so far, to the greater place as well as a stoop of the solitude objects as though and the point which he heard the less than the plane was the morning, and all of the change, and of the suggestion of their plunges of the mean of their relight and tapping to any of this reasulant. Then, and at look out it was, as all absolute saw and was a disturbing top with some dark and thread imaginable attic light of their strength fears. The method somewhat moment at the combring had been once and all the terraces of the care as they did not cross another took\n",
      "passed by three other steps. It is all the steps within the rats of the merciful passage there in the most creatures of magnifulian and ancient and solid too stranger. And thence of himself a little of this mathachuse there was surnetted in sunsetic blot of an accustomable distortable stread, this implied a desser. And its speaking shock the secondarior at the countenance of the distrects of the lateral acrept with anytsic bricse, and stopped that the man hordinary secured in the streame toward something before me as in threw, true. The fances was through the death, and the greater prevation in the throat, which seemed to serge the ships before the summer horror.\n",
      "     This was a stormars they heard in the southwait of the case whence the confixed to the left of the company. Her fiesh, which the million barned, and which had\n",
      "not have a fliet of such talistic outstress, and a front disapperents was beautive the clear, and the weather all the shock tarded and shelter at lasg that has still been seen and tortunated myself before. The choke trickle was there were three of those supplies, but a sease that the changes of all to whose beauties who had beginned in the mesmon, the castlement with silent, and the standing passed whisper in these previous and the greens by dim of means. After this was the proportions were some of the crowned ways which were to testified at the street, the gast subject which wenter there are not stringer of the matcheast. Another days, and we commenced the company which Irrows a large speciel will be surely too meaving a fool path before, because of this titanticl or incredible considerate survant shoulders. He stild all elaboration, there is improbably than an importan winds. Then, that these talked a dark tinteled in the same excited plantary of a leaving this aspect of a coloured and dragged chances to the polless of this troubles and a sudden disers and reasons and stupended, and said his belief the colors would be a strong any other right, and in the evil secure for the think of the strains succeeded at her being only; and had seen the town of the tiges out of the temples we preparted few from the diely past a second and presive mansion, and was seen on the laboration when it was a little topps of a shudder back of the passage of the sea cannel had been an obstradity and\n",
      "spact or twenty for helping. This assertion where he when he came our except that this centual regionatine was not a figure from this surpassion. He said, but stimler we drew nights, and all that the two searer standing following was the thoughts and colours and a desigious confusion of the short was some stages and cloud. Well always the letter was they at least that he would be sufficient as treating in startling both about, a distinct shannoted bottles of the stars—articles are travelled and previous expression till it wisher never like the black could be determined its few of the sea or any traced the body of letted by the sturior of a shortonic and tradition of some other spring houses above his proportrable from whose shorter and shrieked and taken to ancient time; but he would have been took into streated altered by\n",
      "determined me, for some time to the part of above the peace as the summotical produced the door and the study, where he drewed as a matinity which I had a spaculate steep and discovered off. The characters which they was an unconsciousness and character and more than the strange caverns of the substant searcher stone, and they answer so shed of the conduct of mad before truth,. He had seen, to see a glimps with hideous persons into the strength traditions in the habitual relief stephered. In any one-sight, and the world, the shapes is at over my face in them took and chair in the heart. When the graneful of the great stone signs of all, the meanings of the moon. Its form too sent to me that I was never different from the precaude with the stranger base itself of his period. Instead of his college, the mathematics of the charge and palaces overheard a bottor as I could, he dared to the room. In obstect or two, we werrible of sompheress which had been competing the books of stately and deld intracted the strangerous remembered, the fire training seemed that this thing we would come to tell the ship were a pate fear.\n",
      "\n",
      "    The loose of the stairculsive of the married or surregs, they work our doubt with the marbour or the steadiers of the most insuspairing a palaces and palling of my senseless anomalies of that state of the rock.\n",
      "\n",
      "The destruction of the man as he said, a little time that we\n",
      "stoop there had been abarets at a pendacal material.\n",
      "     It had an effort any so fangary to do no more over a similar might possible that I had a surrive of history in the fields of the peaks of paping or tear that a sheet. He could not recrise, howling in a plear would be on account of the proving, and whose stone on their sound of stone or a mean moon. And the more period of the matter is abysse, and with a silent sensation. It was, and I\n",
      "was some sound, and almost succease to make the eventured that we will be done by that wish. And a few silence would have brought in that of the brig. The sunset city of a stoot, but the black galley and sound of a sort of that rise which secrets to a presence.\n",
      "     Of these things in the conversation of the childiencous, or the chamber over the possible of any shottes. Wou desert it some sufficient a grasite print, since it was, and the somat and a smoke of the tenant, stood in our day, and wondered with these cities, and of his story, body, and the seen the lest secured myself animal, of the stone of the rear times at at a delibity things. As whose ship shaltward was the strangely since the mose about forces, and was that though here thas the princes of this had committed that the post of the moon about as it work is now seemed any the wild match to succeed what he was that we could not be put out at the sea.\n",
      "     I have to do well his really for all his hideous into a second all that they did not stretched to the shore in the mountain of the contracting their primal scrutiny; the toppose of the mountain conditoo and sometimes altars or the stranger of a common sever. A propored some deeds as the preservading of the solid rained flash of the delay than or elevation of the stars of antique scarching in a stiff, and seen at my deserted manner, and whose present with the merchouch at the police indeed and things and postrait of such thought to supplayed as he could not. It is a speciders were that terrible struggled to any perfumed than the chill warn on the presidence into a thing. And to the faint tower and deserted in the city of the companions and terror twenty for any combines. I could not still high will be absurded his, till the case there are the same too much make as in that terrible shrended bygims till the placid stone and the story.\n",
      "     The glowing of the primitivion as I have been secure maddening all the most strately aspective on that chase. His feet or something of the sound who was nothing of that silk of the carven spoke of some of that walls of that rose a bore learning silently to speak. I had telled all a single would, when they were care of half some difficulty in old and along the whole over to think of still locked more and allowing in sense, and so as to be all at the treat to the fruit of their monstrous raised. The wood of survey the moundar with hills and readity of the party which were now remained in a feeble. The little wooded as an unknown bower, and a flowed of all shocking with an ancient cave beyond the cats and shape of mere the book agies assumed in a castle. And the while to arouse the bed, and some pairsed man to antarctic torch.\n",
      "\n",
      "    We could hear twice, he had to speak, the primal priests arouge in all ascertain that his\n",
      "customar stony of the restrated streets in the hall of the most settle. With a sensition of the beast of sentiment to bring that the gentlers, the west and half-chairs. He tolded decaded the life of suddenly attempted and dreams which wourd the light about a stood and a story that two days which he had lately stone alone and taken the sea-challer spectral patish attracted. There was a gale, and so looked at that of the paper of their persons to a lonely third of a shifting.\n",
      "     Then, he had nother and the contravaged this last seemed the structure and ship from a strange or transfilled with her songs to the cabin and the precent different about at the same ton so lifted by the change that of which these characters would be a stalkers, and he common anthropology which something. At the time, and the great case, their prayer was stated a servant shock traces of torch at least in so and all of two second toward without attend to the prins, was the closed sign were not as if something about the sight. He death at the trancemen of the door, but this tenerations, were all still and creating one aroused more in the side of the strange outlite organism of the rooms to tell one or the flames on analysor. After saw an adventure which had been crushed all the silver, but was not that a gang of the crew of them and all their fortunation of a cold wings and probably atmosphere and characters, the dreams was a strange condition of them. They could be nellow for the surprise. I wad, improvily terrible a condition with a series of halls and principer truck, and this trick and tree ordinary study, and saw that the clothes of stones—and his fear or casting of the merely broke as the haunted the place was the flood of torch, and the seventel particulate, had been suspicient an age. This matter, here in this sentry tradition that I wid let his brighter or first stank as he was alone—a longer discoveries; and that he said of their conditional course was also perspocted their frignd. This in his fatedies were coming to be despresed to the creature was to be like a single one on the rock, whose great streets, while to be detailed, which I can’t take difficulty of many southeast of mine on a clear of the most disturbing organic rather there was searched than madness of sight of the sea. The old waste, and the most signification of the mould had a gal a secure a perfucality, but of the temply; and the cries about a single terrace of tracks of their shadow of stars original organs, so thought of things in their ships and stated with the sound at the sealed, and there was somewhere to those walls and the gods short all those of the street balls. Though when we have been a fain at one of the secondly through the watching consciousness, and the sun and displusion of the chill drew himself which had come to a stealness. On the cold the doorwich outsine whirl was almost period on their senses that which I saw an arrangement, and sturbing than of a time of themselves—which seemed could not real closely than another room. Askurd of higher wanter was thought, and, the frightfully whench dry we did not look and belonged a stones are succeeded. In all story hall the going downward the shapes of horror, with a sole far all that of the proper persons and pulling of\n",
      "that can in the farther and the languagest at the town from the sides. The waters had been dreams of steps to the riggernal signification of the street of the chasters, attacked the strength before their drunk and doubts, and so fear and hould attempted by the stared the whole order than whose dogs of a shakean shock of the tears.\n",
      "     In his present and the origl and a great spane of the primal weighed at the party, it was solidence, but thinking the carger place when he shall the too legend of the contrast time as a low and seemed through the barge of a line of the searching beneathing the place of their six were a second study and to assign, and then an arround hope the flows the blacketion was all things which held into the galley at the tops with the true, but had the sea.\n",
      "     But, whilst it any other side of the savignare of their prosperity of that clearly confermace as to see a large body, and then all things to the son of the creature of the sea, and a memories. I hoped of the strange original allage full sensions, though we had took found the sea, the country flow on the folklwisk. And tough they were not a past morning above the\n",
      "flame through the windows of two possibility and a sight of a cheapest street shapt from the stretching to the trees and dreaming while tortune the shantaks which was they caught to laught over and trust. It should not be related as the share saw that the crowded at the condition. The least their body had no level instrutes as well as the entire poise without existing at aband of alless. These ancient straight with suddenly things or passing to the line ages alone in the late of the straight that the stories of the mate he seemed to be some minute perpetring sounds in that court and care on the sight; so the family shews soon below from the disposition and tremended by some of the care and solieth of the time a porture of subject; and the will along the well of maties in the southward of a strange stational placid person. There was all the organ cities of a sharp side, and without the stairs were almost the sea-bent of his chest. In this mournal stood themsely tracks and statustiasely that we were not be an understand that he had look over the stream that we had not the searcing any practical passurely. As this person was now took only the pater of the doctous orders, were the roads of the hurry such possible. The seat between his fathor to wingous and draw of his ancient alien three of the course, brought, and shewed his struggled out in some description of the search thickly aspect of their crads, the tangles of their most sailows, theyed herd all the party of the trees and distant steptically; for some minutely coloured out of a shadow stil and domes and people and sturched with some high going which, and which has been sonatic fourns which shaped beneath altogether. We had been several as he day now well thought and trade off and within the late was now fragments, and the doctor of the stuperood. At lightning which had been so farmen of a place of hishor a few ourselves, although to those of the cleam sea-captures of the receness of my far across the sea of the close tales. We sat through the large silent, begained her favourions of the longer whole old steeples; and\n",
      "sometimes. I should shewed the portioner around, the masonry watched a perfect and spires into a strones, born with a voice of their cheers, all at their own incidents; for they were shewn the concoreral person into the sea and sentiment. Those walls in the letter it appeared andlessled almost and static, seased to the company that the mouldes of a chaice of the countryphedic object and police. When a few drussens to a clunc of the sights all, that the store of the day to strength of his features of the precise of mercifully chances, with only fears to be death and their eastern on the condition of the throat. Then how he did not attempt to addred the last colours as were several old palaces which had been attended—by the story on these attless and artistal in shock, and on the same throng a distant shreams of the seven ascent into the college and a windows and clump of that thir caressar one beging. In this stronger and specumen of the patience that there was so tales of the crace into the south, and in all of simely one of the sense whether its house had been\n",
      "upon the steps to stirt barnest in a loates while the stunned stricken on the clisperian endsant thought which were the power with some dream cast asterior. In the most drankless reared as he discovered at the sea of hesitation, and as this determine secure mathemat courage the water and spectacles and acquaintions of the road, and often his father and some streams of the trees and dreaded on the penetrants went out from the brains of his right such a serviced material case off. Here they came to a stupe-fore than the sure the rain on their plain, and soon risk of any sea, and they were the sea-folk with the paper of this spacial sheed of a climbers of the tangured condition. It is insisted on a shifted than I had not seen but long ago have prevented the sent mentioned, and the stairs of those tracks who had been a graverated anglacked with anceets that he had sentinged to the sourage abyss of the library, they were at large so much for some motion in anything about them. Those only armival organic and altial precipices of a greatest silks, they were the prevail of the shadowy lights who droped them interval than the traits and took through some play to the lower less senses, and in its power of superant and delicate ornary than that which might have been struggling and stood the past thick and the last confideness and teeth of his ancient shouts, too-happiless to any persence of a second-ribrary, who also peaced that that the sensations were so trace of a mental stone bases, and savates than once had always a sudden silver to the less. Afterward the ships of this mother and the sea and heard of the lose of his plaised faces of a discoured desperately cleared before a few one of the sun and the wak. In a vague solitude from the common, but startling sones of that did, with of statement with surprising their own stones on the strain.\n",
      "     In the man had, at the mass its post as well as they were the shadows on carefully bridge out of the church beyond the treates and too let making the secret of somehow a search in his old till.\"\n",
      "\n",
      "There was a massable force of any tormar in the matter on the libration. There were not at the sense of the strange shipped, the several fire, dry and the superstitious silent capter. The damn one of the collab of the shaded was the men terrible in this millight of sea-whiles with a little serebratious ruined that harment itself was a great prevait of all out of a managed time. How venered the blood store afery I saw the posson of that an ourselves in the darkness and stone surely purpose whence their seemingly wared on her first gran something which was sure, as in their processes, and thus by the leasted shork, would reserved the seen in order and scream which I had such as I could have told me to load where I completely such assert to say that that where it had been closed to the sea. They was finally a veside to\n",
      "roor that I did not creater one sound we had an odder ruins. When he dared not so met at least and so that I was absorved on at last as to a sharbs of some lightest in the sounds—and their sounded as a place in the sambled morture. This car so say, and we had then the middle opened an age. When the tree, wholly struggled in a glunitable charchy and crossing the papers of the carvers and position which they were all things travel of the letter which the store and manified. We carry the blind of a clock with manner, which he had altered at haste was strong surely and a human crildiands.\n",
      "     “Carter soon as he had tell that I at lady as told at least, with twally stood there assested. I was alwhal things to be there are since I shall been soon anything and sight; and was somehow strange something, and set to the ground on any living seen tellings around the dark. It was nearly to struck of the statural strong, and alto by seemed to be surelus and coloryant stratchine and article there is never large as well design. We were the short, the shoulder, as the train of the path astonishing on the men and the stone of all their sending of monerel weaking to the streets. It was that those minds was any of that polication of all lause, but that the thus could steap to real aroused the countying. And the whole properson, whilst window whatever that I had talked to speed alive, the sole thoughts, with such the doubts were the stranger, and assisted over the cross and secrets and taste on the clouds of the genians of his\n",
      "face with the body. Tellest they were not thin into\n",
      "the great all the life of stone, but all with the lights from the stench, and when I shuddered the common liess a descending toward this surface who could see in the pale of the dreams. And the wind and churchy all strong through all the stealiness were of the provils of stone whosely replied, and that he had long at length only a labband were an especials were all so door. With one mountains, altered lock and astained an indifferent of my fraghening sounds and portion of the careful. There were a death of the towards, and seemed to be found in a coloured of a lured, as I dwelt an early as they had been several of the press with their pentures of hour, will he shelves it is almost an all. That I was at alaxial or stars and dead around the raily antique beast, that Ingland stairs into their part that he should have been some tropen of suggesting the body of hope than this clanks to the tarnity of their seemitable contents. We were telling at once—she grawed. At last his host of the stone winds, that this time I had attenties of that opperition to the task of mind of the memand of atation that the discovery; and tolk him it had seen so friends of their speet walmed byfore to the room.\n",
      "\n",
      "I did not see where I was seen a second sense of their endless. I saw the strange stood, while the shrial words, the seen beyond, that I could not hold of such as took they come upon. When a long shunnel of town, they went in the life order to the proper conclusion that time his sufficient supplice beyond themselves in the last walls whose distance of many devoid of man.\n",
      "     “That which he could hantly distinguis it is that the terrifle that I came to think of my sense. I say—that the tempest hands, had thought the town’s anomisquarters to a cellar was the tell which she could not seem to my fellow and so like a thing. They have to the passage was ancidental space in that anything was naturally for the terrible course of mother and it appressed with her on beyond that of this parents. Its were steady the surfectle of travels, as a milleted station, and we shall not to be a climbing is that which the spired and some still had come back in our confluntancy which told to say the case on thril benches are thrower. The bottom of this planning of\n",
      "serious states, trough the scene, and and that was the foreces where he said; bellin, and were a later world of the barred and hideous and south, and in my sense of those who had contraded be ponsible.\n",
      "\n",
      "In an evil tinted as I have been stand of several and declinent dead. In a section of this tinceleys and spokes of the crowds of temple. I saw taken the stuny way as well as he stuffed the best of the corpse indefination. He was there were also serviced a farther traded, and some place where the base of men of her few second, but the perily’s shrieking creatures was seen; and his doors and deal wither we had seen a sense of allowing points.\n",
      "     Then, and that I would have been so finished all assured us anyone with a stare of the close and a certain older terrible. And what he seemed to set the loss, this well, we all this was absolutely an archaining sturbanic survivor, and, and a preferch of the crowd of the going over the sea. Many was a ferling work world was now fainted; and shew that was in a sudden vising or sound, all had some pleating the back of that such also told man, at last freedom at the time, and thought at the stench of the towers of their place ago them; but a first partly at the stuff converse which lay have a stars and decay and supplimination of his collage to the time to tell a terror where the transperal searces—were incredibly flase in the capacoments and connexting trips in the bared of the strange and the least persons of the principal part and pales.\n",
      "     This imperies as the temples alteral probable on their death. How the madary of the many ribestest we glimmed, and then onl that it was the place and processed by him west in the through old montess, the confencent wasted free as to permit him to a cold, stold on infinite. In another mere and meant any spare that whatever an opportun was the sun any silence. At this master and the shore through a lately power than the most state them in sigged his ships one pailings. The bones of their older trip too, the shopes of the horror was so attempt at the mind of the chantel of an eyes of mark and did not see what it it say. Were the dog of all the changes sucere the realm was such as it had felt a secure. It was still such profused from such as a marbour older ports of the pole and tall of such asperting the personal accenstants, and sometimes in the last the shrible of his ship, and all three talked of all. It was none to shewe to trail that the thought which was those sides. They shall near my commanding dripping, there were only streatth and shadow trome basem outside.. What haster than the strange and taken was not seen as it whom I saw that the directed widels to those or acquaintances and things in sudernaly single and rites it them them for the grave which could be so heaved. All the secreted substance with the bodies they were too stunned whether the living metal of the man had been tare at his door of strangeness and south was an incomare and colouse and perception of the penguin spect of the south. He had to read more than that offsed continued of the stoppened and past the mather and accidental topics over all the subsequent. The shadowy carried, when he would have been too with him thrown in his story; the corner and the stairs intervals were no longer of myssition of horror of that one. On the state of the signify warn at last suggested at too much in the latch and the cloaked course, and taking all over a letters of his shaky and antarctic shapes in the sort of strange and the streams face of the subterraner, that the frights had astonishing a realm of the structly atmiracters of the part of the declaped that hands overboat. And they’d laws were some sides, and they calm the policement altar belief an its sillating. I have seen any damage treed as a manner of trouble with an organishs. Here there were still long,\n",
      "but one some time, there could be soon at little to be seen a lood about twenty. And they\n",
      "saw that I fancied a could scarcely a myself altogether alive of the shannard of madden of his high and borally seen.\n",
      "     The seventh hanged his position to secret broke one beyond the senses, but he was always an alial bore of tells, and the same of their murder, and a farmer traders which clutching being apparently downward a little to succumbed, and to the seat brain, but only be sufficiently in the drutting the crimsancies.\n",
      "     It was so this, and what the stating depths of materal abruptly of the characternations that of the streat dangled station that the characters that was almost interpretable. Those hardly through instincts instantly clamberists—or a stouting cruch, and an events and humang madmen the crusted sorts of his faring at his throne to the sunset cold well when he was at the tall and things. This, and then a loathsome of the stars at all that this indivise a little base with his coal. And the dogs of the come from the passion of those trues in arone, but then a worship of a longettes is to shad walls, and though mouths of the task for the four castle was communication. I could said that my own houson have been miderous and realms of her faces the pretting towers that the three monghology had bothered till their protestive. It was the doctor of the shell work, and with a shudder claster of a man had startling and so darge and for some of which we didn in spiech.\n",
      "     It was never so follow that I shivered to the strange and alter a mountains to be sought with the struct of the many attention and drapering about to stop. These things an entire species and terrific things in their curiosity their darkness, a cargoear stone. At length, I saw that I saw the same midnight\n",
      "is a specient of a dayless street. Many resistages took things white horries when a line walked with the strength of the pales, and all had the rushing the cases of a morble. The others of the stenied will an unchery of the sensitive things were stones. There were the steed with the streets of the most dark,, and whire he was nights in the last trees. What was something and around the strange of the steering where is attomated some far floor, and it, they were all of the sea-scare one of the person shaning a particle of ancient, and we had been. It was in a storper, and so that he was off one or two dogs, with a venged at the planters. There are the sensitoden hood of those whole door to the consequences and reason from another drawn of a strange brais. A weight strange till, and the sea whoseless roof will be remarked, and which may be though, as it wandered and seemed to be that he was now. It is a matter to the shore or conception, and a certain dismal, beyond his\n",
      "hope is one antarcting the rest of his body to a shelt and action. We said he saw that I had seen as I cost an earth tower had filled into the world which he had so shouted the place when an human black shape at the southwest the called block one of the sharp and the same toward the converse thought and stores, and and the door of the transmouth. They reasoner, and we had seen interested there are at the topes. They had talked a fermerty, by a climbing of streets. To be, although the way within, and a food of the sorce was, in the letter and the land wheth at least indeed by the signant of the sank, and the shadic and sixtherer specimens was now, and other memory.\n",
      "     William as he saw, and the same moments he settled the proportions are storm and subtly tale above the desperately street, some of which was all took there was no poss indifficulty of the story. At the thought, and I went a person this through the door there was a solide and creations of man are the paper and means of the past the second and all the same to the therote and steps to the star when the steady faintly sight and the grance would be all the tops. And what he had seen it was a peckolench of the salt which thore we saw that I could notice the southware attacking the rest of the luministic shapes above of all those other times. I altertation, although the tears were lay about it. They would hevel, and we stood a gentle and plan a strange ragence than an old mengather and a falling of stained and more than that he might see the shrine of secord.\n",
      "     All which had not see his haunted hole it is the strict and some terrible, but the constructions of secrets of all that the from some proper into a pole folk of their escaped the least and creature tales of that time his face, where they were should below a dark of the police of several preternal room as the ligeral place and drival and prived in harbour a ball, and stumbled and proving a part of the line of the shore of her little and although one which stumbled.\n",
      "\n",
      "    As the monsters, became materials which had shuddered as it was nothing but for as he could not help a mere person. The bear of a pillar sea was than the silently and drove of a shruggle rigging our floor above their place to a precipice. I started to about, I was noticed that the place were langurity with the means of\n",
      "a start black, and the station would be so grown of that convey. And they as we had to less he was things at length after the lightning of the day-through their sinister and ascent in the doom and all stone. The most significance, I struckly stened one of the sun search of mind and three of the servants in mouth of a pire was noon of the sea at the cabin. He had not live as I had started they had now set. To the several design of my fate in the moon of the chain whose dark. The wind of him, and I was three struck of him as he was a strong and so disguss with an every state.\n",
      "\n",
      "\"I have told him that I hade they were in time the pale to the woman which we have been in the most of the part of the steephon of the most intenditions and strength,. It was a secogning, I rool, andly all the sensation of marked of somewhere is so much in the capace and difficult, as terrified by some of the black sentiment, and seemed to made a security, being insufely, when their sea-bight of man will a thought and heard a strong order and presumptive on. I know it was in our drughty of\n",
      "some obscure any consistence.\n",
      "     “Terranded a dazed strength the worst, but it is the tenels of their bed—them time and settly them is through the silent deserted panelled. With the mistaking stop to a serious laborator, and started, and taking the channel secondary and a stronger and stories of an article which has been as made material on boarding an unnatural species of a storms of the chains. The stripped house, as it is a person of some marbly and starting and arrangement in search and tribbe by that some of that of that condition. We had thrown and section which he saw there be no point surery structures and strange intocarate straining, till they shewn to the carpest of the doctor of the sea. And that this son was new so part with his short that his founder to see was a story time to the water than this pain of a metace. Had been those shortly feel to be sail over with the store that he had not tremely the columns and three in the commenced that the morning to the southward world by mind the last of the shelvon. We was reself to his own end, survey the metalitors he was talling to the time. The carvings were sufficiently from him in the materious and through the studded on the landles. The stands we some of story when an almost had a granith beard through the corpse, and the point of his own desert of the seven andest to any one points and persor at a ghastly of the mishatic settled wind and distorted by others. I would came to a most studies of many of a corner on a stragged\n",
      "look on the playity, and a half succeeded blasphemous right was one often to be sufficient allowed the cliffs in the sole parding strange towers and stretching and streaking the speechman of sinister stringences, and the people of the sense of the grain by the hellish things. We thentill we did not always been ever and transpose. I do not know however a carroual removed born that is in the merchantid come; and the shrill, were shall be a shall of his stretcholy of all the shadows. Indeed, than the steep of telling six is the latter on this infinity as had been all that its forced the box of such a frightened shadows. He had not all at a least of such past, and the dream of one by over heart of all the belonger and studiously always off their fatter.\n",
      "\n",
      "The four monster was suspended to say before my soul, or at the failisticule, and their nimed along that truth of his door at shadow wishey till and the last shriek in their dregs of tall. I was the later learned in a might lead alone with the toongity, their most and the shorgery cargoer and the struggle was a sort of the store, and insane designs of that connexional attraction of this correct of means. Ward had been consciencished to many trying the realore of his propensity and stopped by mere rooms. And it may say has passaged that it is the top of an ancient point that here water. It is telled a day, the delance had seen to an archion, and were more things in the little world of hope for human being on the feet. The seate clings of things they were something and they heard of his foot of moosed and all on the closers was true, and there, the survived in the cold waves and tiger areas, and at last storing the really age other and solicting, the case, and the surviving about silent and transides.\n",
      "\n",
      "It was too met him in that time, but soon and safely, but had been serving the summer of her curo. The southernors. They right, together with his senses where the graveyard the proper town, the fresh one of horror, and on these certain thoroughful parts and all that the ground from the shadowy collecting of the peculiar stone. The secluded of all shotters, almost as the streams of dreads, and as thou are the letter was telling. I aw in those one ancient start, and a simply perils and deck, though they were not sole stirred a certain tonsmes of the right. A sid of a lurge, and set up a few preparing thinking another. They had never been coming on the carver or any of the stans for the silver sea and who bats, though they were almost hordsory of stees and streets—too of at the delent through a degree of their stars above the low case. They were started far born of some contairance was this that we saw that the said the second and district and the blasthouch. In half in the house of an age of the merely steps were the strange story steady far, had so faced in the anterious wirst source of the conclusion. The wonders were at least the belief of such than always and reasonable condition to testimory it still holding, hideously about almost in his father overhang boats. His cases and thick and the fourth an usual space has not such a shadowed on that seat, the scatted and deserted slulk as the murdue things on the plan had be northwest the shadowed off and secreter at all. At this long single is another would sailors in the soul and oblige and their creation the procession will be at all that of hile-returned whispered on their beats with the crawling and a man would be sure the rude and sight, till his darkness was in those deaders. Those house than he saided in a stregge and always as mere of an arthur case.\n",
      "\n",
      "    The ghastly collected one of the confessing highest of them where the diminiscress terrible search was anough which had beened me that had traded in my soul, and wead the story in the darkness on the linker, and state was images. This mutter of the more peculiariam as is that of the second an activation of the throats, and also being of his far the lands. I have serviven it had not been an interruption of a left of that street steps; and the profound solitudes so sane that state over his chambers. Then he seemed to round the deck and dances of his\n",
      "heathern clouds. The province was a chair words; for he would be thenselves that it was took in the barrell glass, and thirstense of a masives the monories of climbing, and those things as time had better boldly bassing the consciousness of highly blasphemies. At this lowes old man, a proportion of these things the late and a half-brad and dreaming that heard it was, and stronger the room we soon believe. As I discomeredly as a moment and shanking all distance was the low positive possible chance of at any care through the stuff. The people came ascent only as a light artisticle what I could have took telling a startle, while, in that of others of the plane would be. After water than that I had not see outlined through the fact at all the corpidor at the study of substance. These shocking and court was now seemed the baries west a certain city to say of manian seen.\n",
      "     I am always and subjeck for the forest trunks, strongering from the desert both had been discussion.\n",
      "     The shattering horizon was in that an approarce of the thumbers, alone, that these monsters, although he was always displain to superstitions, asserting that the same timb of wing, being down the search of a material in immediate specialing that the doctor rays and spanions of house and a single light array a drawing the breath. Hast this walls and their distant devils were nearly consigner. When I stood as he stood the wind well that it was seen the steeple- too, although the sambs as the secret solution was now to be a carves of mothor. It was the morning of the mountains, the linisment of an inferition the black cat of the they and a collocoment was the tomb the back of sight. In the locking, and were sure that an anger of a clothing off time.\n",
      "     This thrance was not some one madness, some of them went alwoke to three deep significant that we must never have been a minute palace of ancient. Thereal study, and should have still and collegents were to resemble with marvellous streets of taking producitely parts wash one old but along the darkness, and the season, was the southeass.\n",
      "     I shafly at once before the marking subsequent raigranch talers, that the spanish, had that in the longie touchest were still sufficient.\n",
      "     Assort the frotnstard seat whose thought with this monthers without any came to be about his face were that he had been found in the fair of half. He had, told him altogether on the side of their own cough of desperation of men from me and force to a solitary peaks, and the last hunt well, and saw that him, and were so full assured, and would be less three,\n",
      "and trom only beyond the strange ones at the sinister work office. To outs darized the locality shelves that heardly from the cliff a had of a more remote thing, but he saw that he had not fainted the close to the shrieking any creature into his outline than one of that crypto within the rain and the low of the surfaces. They were seen to the stone of ancient thing and sounds of specialism, and things if they were into the south as a point is its feel through some path of those other and aster or one passive tine and a moment. The same tither of the primation of the marvel secure that I was suffered to ratel a cloud of a path.\n",
      "     That an iriging blue or remain to his actual, and as in the same manner would be told, and strength, and it was the meridians of mind was in a memory. A concluding such as he surprised this, and wele all the traveller was a display stept and discoverity the reach and all that of all the low-four present ones. The boy was the paled stern lusic, through the most soul through were some dragged by the ship in his spectacle. These stated, hanged him, and was a signification of mind. It was alley alled, and as the moon was the sensities and crouded to the storight which had being any dread with the place was settled the period in the lood or through. The people how succeeded in the forbidden points\n",
      "of the most death.\n",
      "\n",
      "    As the fire stagger was that the sunkem are now and had thought of the delivered antiqua bulks of three differences with these things and the shore. The shadows about the while the stranger planes and distortude and the shake warn in harbours which he strailed at once a serious weathered to talking in their direction of her and sides and hid was soon find a course, and saw the ground impersives in a gold agony in ancient and the body.\n",
      "     The steps of all their tarted outside which soon they was found a pale-black, that the grinnias almost handed over all which he could not recall his countails.\n",
      "     To the warm and a corridors as he whose talling the sounded and stuperous dreams, till the bottom and stations of hideously. The past one secord, that they decided to the comparative collapson and day about them to be listered, in truth and the peaks and parks, and would survey the bases before all thoutable at once a surges which had an alley on account and a search of the peculiar clothed climb. In his hopes, and a shadowy liver wall had seen by him in histerns of thing we had thereable or sing and stations and perfused. The speech shifty for some mattered, and the lights of the seen the luggest of such ancient pale, some or stages of the claw- and then than had then the shuttering of the towns of a sense of spatch. He did the thing the garret and the right on account of the stone stairciances of two door and horror at the cabit. At the same of hint as that time he saw, both and traders that our part of the shop of a signs of had there. There seamed the pole was new solit to the comprehordity of starent which would not behold in the hand. The patring of his faint stream was almost persons. Will the farthee on the late a carced balf-crues death, all those wild be strange, and so franciel at the consequence of the manning and a chincing as to the present of the tone. They had none of a certain sign of arches of the late things and people and stone was no longer to the proportion of the country into the pealised of all life. It would\n",
      "prevent him when all who were they were touched the same memory of the sail, and the sign and labinity in the stand in the car. Throw my away of the morning that I could not steady so great toward the books and the body of the trads of that some subtle and other. The pale oftentry as the tree were speak off at almost pures of the mists on at last to the time we had seen that the great stature of their ensested sleeping seemed story; and then an using the students of the most actual temperature. They were ourselves, we seemed to this sort. It would be sure that he had seen to the sea with the streets of stone which it was not only assigningly into the drawns who was all that through the doorways should be discovered them in the horror are all an obtaining and delivered where their present description of the polite of the sensity. It was the truth were struggling and the lightness of the men from their organismers. The faciliss in that table, and they he done the gree too san the seven came and spared bathing in the river.\n",
      "     Our less measure with all our \n"
     ]
    }
   ],
   "source": [
    "generated = sample(checkpoint, 50000, lstm_size, len(vocab), prime=\"The thing that should not be\",mode=mode)\n",
    "print(generated)"
   ]
  },
  {
   "cell_type": "code",
   "execution_count": 55,
   "metadata": {},
   "outputs": [
    {
     "name": "stdout",
     "output_type": "stream",
     "text": [
      "characters\n",
      "Tensor(\"rnn/transpose:0\", shape=(1, 1, 1024), dtype=float32)\n",
      "INFO:tensorflow:Restoring parameters from checkpoints/mcharacters_i2430_l1024.ckpt\n",
      "THE THING THAT LURKS IN GUATEMALA CITY\n",
      "\n",
      "And yally a lowled and through. They were not told my fearful at any intended and traded on the part of the traged the local expression. Thore are alone of them also, at a certain, beyond mosely that the merchantion of the storm the lines beyond his steeples as the frence of the place. As the trad on the peculiar could be said to seried\n",
      "seen the searchled which they were at last a period of all times and classes of an illenger. And these was to make him terrible any terrible about the windows. And all the other throats and courts stare the tomb to the some of two or two of the place and paralvel, who here an old heroward was persons of searched blow of other three-dreams and peculiar spread one which the police of a sense river by sures or stones. We stood a shoppe in the moon, by the loader precountings that we modern the sounds of struggled beyond this serretting that it impossible, one of this strains, and a certain drink the glorious channess where a candle as we shalled any part that is the time and although I wouled at once the late and solid case. The time will half at all was a drawing imprising broad as the tried, and spent all that their experiments of\n",
      "the circum travellers of altance we heard a preserving time, the street, and the bodin a series of a dark fat a little corner of a call dark of thought them. I was somewhat to the true, still he had, in the dark and three ordered, the design of hards of sine and a cloudy-corridors. The power was also board, and soon, than a carven couch of a straight all of the most of the marble black ancient spectral studies. The pattern of this penion of this distress of the glance of the trageries of sight in the factory course, and sectional and diabys to some time for months of human station of the stripting, and that it is any of the clouds of his respect of the signa subterrifeed at an every of the patherations arout the doorway in the savage cross and part of the strict of the lower of the cabin. This was they shewed him well as they saw that the doctor off the complexing persons and closcers of the house and common, where two insept the strength. Too man as he shivered; but strongly so matter, a mere and all of attic point, but had there was of their delical ancient about it all tore. The door was the most stones of that sight; and a faint as their out and dreamer was not all along, and alternate through the last ovic and, but they shewed at times what he said, whose burrest such antertains of the temples would any seas a detained. What I will serve to the whole seen the steence of a dark stopping shapes that the stars which seemed to lay on anticled backgrown at a mad whatever. As a portionar, and through their proportions were anywhite whispers, and we saw a great catest and the livelity of the door, alorded time, and were not instance, and streats of any of all above the way of straightence. Here if thus to the care, and somatest it suggesting them in the light, before his changing of the sea well than whole absolute and presume one by the steep shewed healthy on a few many ribnarial carven searchingly intering in all damnable. And when the trouble on this tilent and the whole path on the right of two he would have told he could scarcely and some titting only to take in the street they had been associal that struggling of a shadow would be a chimney of the salant. What he rapigle its throwing that had not seemled or disand over the black call the creatures, and the galgoners and shippherence of a shall shewed the shrieks on the forces as he depocuetive, though on the stock, and the walls are souther speculated all times and character within mench the ship toward his first things ofthir humpous seemingly attainest of stonishing with any similar space of their curious. We himself upon this plane, and that the dark wind was notioned, and we call is the last such an approlacity of the town at a capacity of the most shoptors. In all had not his final space was surely doubly days arm that all the light, and the delucare stone of the great books to bedon from the lutching sheers be fallen in the stars or steps. All the trees tower had taken an opportunity of the present out of their earth profession, attendations in their decestatives of theil profession of the dreams as if any prints to some one think tribly at the mood a body of the place. They had been anywhere the stones would several from the black something which he remember was, to settlements along the straight which were structure. In they help as he had none for treating and alle of the stranger partically one of this period. And the several malone of his apparently carving to my sure than any manifier are to say the whole any other real shortly and searcing to concern. Then he saw all the distance of a suspinion of the dogs, as if thought I seemed altogether a closing the probable several antarctic was stury in their surfates was nearly form. In almost hours of almost of statement of the substancy was the close bodies hige was allow all wid long again. I would now determinally to the penguin of the bases to think on the city where they were not below the sheet. There was sufficient resembling himself far from overboat down when the galace had already side their endless of the pretty of the colour of the stormed of the river. The battre of terror the plains of seven were not before, and when their possible counters. In the most could be the secret pale did not remained that armistings was a foot-day behind the shadowy chest child started strencted by some of the subtle taning to his senses, and so far assured that the patient of against the changing assigned of tops would be. And the deaths of the search of many old steam of the place which had been seen to seem of a mortal late and stunged as a sound from antarctic black about the peace agones are at all sounds of all once the prints. The one arms of crouding things, as it was, in spite of the salts of tanging over the water-lade onlied as to them. The patiently had begul doods as high such always.\n",
      "\n",
      "In the seventh lined out and the great strange sealed black stone was that he was corridable and secrets of any town was the glormy that stretch. Its succession of the path disturing abnormations agos why some draggerable dimportunes in the streets of actogation of their shot and decarative the charge, and the steady an addraged at the street subtly through a chaos, thence one were\n",
      "loudly around his faces and thirder. It was the lower stars a line of action was not straight in the marble and stranger at little of the cruding on the hard which contents of the hall, during mouth, success of the greater, and however the titan countraning the states and the door of their hange.\n",
      "     At lengther with strength of her of their consumplishing outside most\n",
      "ship had, and had set a past more than fine to try to death. I had told only of the sensions; but this continent came of whisper the words and the dreams in onyx could have the rattling of terror, their prosersish and subject. In this protraction of a sound is the sea the glass of the mind we decided when the deeth and also and a huge things—an antiquation he did not let the tead course when this suggestional stands of some high-priest of this peakagers and churchlowing the corpses. There were in their conversation of the sea, I recovered to my fathen it were all the place which so metalited one are terestip. All the matter the climbers of these things were not to be an instant. After the starise tales were strange patently, so that I heled solutient of the seventounder parts of half a vision. It was such things which said that the monarch shipped as well as the sound, and a sea-post as told. Then the dark white persons were such all the seen the search with a continuous respects. The party of the collager an oblived antarctic angles of a lear of the strange condition of any of a merely.\n",
      "\n",
      "I heard that it is now a smooth little of the plain there was alone, and the carest of those were and all that he had a thing which morning in all. In a child and haspens,\n",
      "but he had so place. His eyes were taken up as a plays in the evil, and the shot of the tenentous still althrop of all things, and the disturnable growers had a slan were steeplight off to her foothil is that of a dead, wholly and the light of such as the man and space was not other impossioned. The feagned one of my hill conditions of their strained, has folding anailishing the resistage. He had seen a land of things things, and the streets of things areas whispers and desolate roars and stumblins of the gorden rate of a fewing and talled walls and the stopes was infrequently. And one who here all wharnoughough of the climaxed and drawnitie at the street and the collection of the change of stupicative and the ridgle wild and struggles and toward on the streets.\n",
      "     Then I shudder the floor sallow toward a monstratable street alone which had crept sense of her friends were survived.\n",
      "     They running off the sea standers of the traged in a stony road. In a large of all the shrill of the great path, and tridites in storely seed to a there or tished firm alone to the chilling off a thing at the sea of stand. The stearion was a staring time the sea-fiends went of suddenly archated spreading of survivs would say. His fell as I sailed in the single and the cold corpse at the second towers on the hidden seemed almost on the cartival restruces was attested in his pall which seemed to live a good from the\n",
      "senses of a started as they were none dread. I saw those other came the state of the crowding arts as the suggetted along the librery on the shew words any care. At length, for those of these world with the mate is that he had been the fatcher stone signs of monstine outlines with those other and altered to my seemed to convey and starts. They saw that he was alway fresh, and san as had been dreaded to astead to the called and as a mad what he would be destroused its planted of them. And opened to the passion at the trees are to the left of that since at his face was to and fresh aston substance.\n",
      "     In his possible contention of the wild spocure the change and accidently and somewhat soul with a later than this stale of his short of a sort of the late assarced forming in a cough- in the dark wardle sleep fell fasconatures of the crew to men wandened and trees of a certain sea at the track of the same trees of presence. A murder and something about in any of my fees. The low should be sure, andlogether any of them, and all tilluable shots and condition, and a time, and the doubtless or security of their enseless carving attention which the gradually arraught it without tones; and all which he held and readily close to the window which the sense of a labbled and tale of this stone. I would hardly, and the peak of the shiff which should be so grave. And in the steps, was a moment of the case of the temples of some penetic lonal performed before the terrific and the shore, the world of mysterious, thus so trace in my spiris little streak figure of malls of the strenction, was a little backgrounders and savages towered in this meanwhing the realm and sailed a cloud and space of some of them while the steen and talked which straggled bare of about the store of the chosacter. The collegress caused it would second black steps, where the primal shadows through the personally, but horses horded of all deports of all the light and dragghaps of the strangers.\n",
      "As the church is the same diminity were so work to a fresh wale from the desert and shednest and closely deserted to the steeld whose possibility or so stacked up the follow of the people of the prayone stones of mood the seeking and passed by carried the party with a madness of the course to look at the party. They was a shad within and something back increased from a certain other than allowed plans and a clow burd. We had never set to an exceeding from the peaks but necess of my familiar city, so fare and the white head and then a great sensations of the sunset could sayed them, in all of his board. The cold alone the steeple of hope of the horror in the roof, but to the powers in the forecastle. West, both, and the gardet in so said that the stories were the stone was, and we had thought of the strain.\n",
      "Thirr are white this morage was all that an incastage and probable world with shadows at one of their endeled—and whence he was this doung of the mass and a complete delard to see any other spitch, thought to hope the floor three studies and a cracked back to anywhere an old men though their features or to seciely serious so much and stopped. Here, all wonded the splet of any depths of my particular of the conflustions and actual tried to sear for this cry of these peasons to this people. And too light had a general signsome sounds, and this tell was, sigh and the strickly coarse the standard and streak farth of an admy of a grass and town. The three subterreness in the roots was alle of the men would scurrying in this minuterances of the street.\n",
      "     It was a momentary, in their\n",
      "visited station, and there were improved in the store of such planes were, what it was on those whose railing wonder in here, and tried to leave the palaces of mere driving a distant attractive spot of hill and persons at lacking and strangeness and songs shapes of that order and point of the same emborn there were surelating for the pruced of the sun who came to stopped to themselves. This were all the man said well than the most structures of the sea. There appears of tense and aspect and the glances, the search of stone, whiled a sudden and tree. How, on those shoppers seemed solemn stops the steep, had to the tound of that chain which came to thiant of the position of the base of a submate the plan to sea of some of the morning of a dead, but an apparent a single tine and sent and the lurking of the strange depths. At length the sea, which I would not have been sooned so that a more than any of the compassive board and spot where in the little; though had been left the sound and the carvings, and that wondered the remarks only a force stone beyond the sea. It was a shore, though its strowned at the part of a senious antiquity.\n",
      "     I shall not the proved, and that there is to be and other resolate throat, and that they didness the crumpled on each of the sea and the dark, where the date of the presence of his contals and saw translards which he was an earth of his steps of sender and dream. When the thing which he must be they were to the thought, a shadow of the cold and a sendet of hints about to distens. He did near the town while the stranger, as I would reached my expiritions, but he was altogether threated out beyond some sea which, in the colours of the disturbed, and alook a carved on their prevents where a man wholly shone could be suspected. They would soon half conversetted holding it, in the evil flatters of the colony of the person of alleased and more plants, and we should have beauty of the stares an original right. Then their setulation was all alarm white hold of a secord of another place, which had now remained, at all the suggestion of the monologythes, they was through the shaped steps as we said.\n",
      "     I wall sand on the southwest as well toward the brighter cornidous rough. The colo afore, had been seen so make plainly straight anythe whose possession to the descriot of the steps of the door. Its reading along\n",
      "the suggest of some minds of his song, there were always of his crussy, and tangly dreams to the great specime flashed only a stealness; four lusid at any of the son, and the creatures were are tried their features; and that I shadeable, while so light that the roared the legions of miners were clussed that he was seen and that they were there inside the stars to the general peaks and accompanial times; for in the constructions of a large and sinkly planstouse and confised all a character of all the restore. It was, home to the patients which thought they had always highles and a hours when I dared to drop heavens. At length to distinct a place to his own period, the thought of them to a strangely and drunkand thin, of with the companion was. He had been crowded of to be thought it were in the trees, and thereforture had no lurious tows of the little at the side of the come from the seventel. In the speep, had shivered of intellowing searched, seemently discipsed their steeply as a glimpses as they were springly and shrieking of the strain. The peaks to be allasses, we waited its human seemed sleep, and at length thought the saw their crowned andless deseated stickingly all the light or such secrets which he could never bare steal of disappearation only.\n",
      "     As it over the fire told the rest of man was an all, the filled on a statements and secret and points to his preservation, with their disturbable straight and taken the strong and strange spareller would be between the bast and the steps and dinnished the lumberiness. I shuddered at the men for some desparable from one travels of the palary was in the darknels and dreaded by often strange brateratory; and if he would at leg to be thrown a window was throth the things with a hushing beasts of traced inspection. I turned to a condition of my flushes in the desirt that he could should be transpart in their days. After the strangers as it masters as a child state of a secondar of my pole and assistance to the clothes of morbid throathotten. This idiom the sort of the most pethingent spectral or any other manner with all astoring and arrest shoulderings while buried at those ordinary stars, and a huge picture of the sea. Trove, but was all of those who had beened the straight to the study of a great strange and to the last care three doorwill as that old, and the pressure of such servicate. The time was a mere a did he could have sent frightfully suspected all the situational shore, and would be decapse on the store strange place; and a modern sensations of some stirrors of those streths that of a partient and the strangely strain of surprising outside being beneather the last things at the sea. I was closed to attempt to him whetever had never believed. They had no longed hand while at light had the left harfores or remember that they had now personally to that of this work with the design of trains.\n",
      "     I did not speculat what they had brought a few mixed and crossed, and\n",
      "of an intense of his fear and did not retain out of the dark flink instinctic against as they around them out. In a place of the sent me on one strange toward the case, where it is often to a picterio only the body of missage where all that they have taken to try to the sea work. They\n",
      "had been told as the eye were too tarrow, it was not as the earth-foler peculiar state. They were an ordinary of the manner was town. Those were treaness in the meantity one of the steps they resigned to serve to him they were some parsoned to those atcentur to harm on a living resistance with a shadow and street of the most ancestors. In seemed seen, and there a clum of his whose expetain conditions, and the whole artists of a candre of my professinably deeply to that sight. We had bettled the course to the whage in 1800 being at the soul of the disent of terrors. On a party of my fold off the bridge bulged that that I called and dreams and the point of a secret profurbed were natural at our of the sense.\n",
      "     The cold alone, and were soon a completear and strain, was the muse abstraches and roots where the thoughts to the steps of their pale of the met a state. And the disappeared strodes of an intenses of more reasis of human and matter, and testimated, and would see the peak, and in the sea was nothing and spots in the\n",
      "shadow. I chose a material would not be made only a shall both of that time, as if I saw only the second to the tale of the particulars was the sharpel spotter of superstities in their sidn. There was one, when, all he was absolute to be and crussing that hanging surpose in his corrop of a draggetter, and the clow-grim and a strain and the shrinking of a life that they were they had\n",
      "occused to be any time to be about, it was.\n",
      "\n",
      "The another rooms and stars were not often two inspired or from them a concole. And in the savages would be their point to be a touch of his fetter and there was such as time his packing. With these time there is the laborial plants as the morbid inflict in that supplying that of merchants at a load strange cleaker and peaks.-- which he was so far before that offed the peculiar thing of their foot-fiftel which I started thoughts on the stars, and and things this planets, before had been things alone with the desertion of the sease on their party. A few passing the part was that its such panely seemed to be sanity, there are still the processions of those things that the mere practive anthrophological. In one shewed and terrible station would be all, undeall with a shade battless of an advisable signs. The obly that I can steps there an each species had been received their early through order assigned;\n",
      "but there in a single trees, and a few darticle around the days. The people have song it was not to the state of terrestra. I had all speedle, so far as well, while they darkly sourced behind his forest itself as the paper. I will ten a low and speculated, though the sound, while the specifice had connected the stars think its entered with the danek of the desire to speed and close of an adjecture.\n",
      "     It whilst they were they certains they had athamed a dark sillet before homes.\n",
      "     The distance was all the sea where the common racen windowless, altogged to the ship. It was a second of the materials of the character of the case, we had been loosened to such children of the three third things, and he saw instinct to procue to the store of a man and drawn from the carrier of his shallow and delies or that old ship, and there were the prevanity of a good age. It was that was\n",
      "sure that through wait to the cavern was so lateral and strong ran orgen steep and an observe and any stronger ports. The green sheel of the cabine and accuptantly camelant whispers of the stone struch involved the carps and though the busckes which was abandoning. And as the letters in this part of those who look to be alsome imminent traded, should be described by starting, by the food period of the peaks of the strangers and such a stricken and some mansion of the distinct care and doorways streem way. The day went of the sun any spade, but all alient and sorry they struck another shore of the creature was choose of all the base which southern concern to the sea and evident titan battle. The left terror on all, with whare the last charms, however, having started. The top of the propersion of the most about, to attic milly and as though I care no obliges of speciling which the first time they were the come of the beld marship. I had now\n",
      "listened to see the town and shows to the policy when the sea tater for an intorth.\n",
      "\n",
      "    There had been all these times, and we saw the place at the flew to be in a more surpestion where the thought of the destructionable paralyse on which I could not brink for a fragment and thing which had seen him. It was it, and to the summer and shuddering. It was stir down in a struggle when the\n",
      "seated, and tried, at at last the senses through the shadol of this madlith where the doctor of the continuous any object or desprinted. I then there were, things were several or less store of all the peaks; till I had been too large placed to an almost is try to bed and did not real, and what we where their rood at the faculties of the staircopers and althrality; and I had somewed an old him with an intruce myself into the wild any other anomaly.\n",
      "     As non and of the throat, the subfare that I had nothing of a mirrow can of their main coloured, and whise her off there came to the store of the moon. Toward the toppost, so that the wind terrible part of his friend into that simple of miderel would be stil the more outer winds are altions. This, with some one was new and dreaded in a fainces of a storm of human ancient course; so that it was somewhere but all effared to an incrock in the deck. And its clerished menosophers that I weagged in the stenches, and he and there. I did so such as I shall secure, a significan stecchologo, the pulsual castle and the world of the greatest resolution. Will had came a partic walls of marble and temporarys to his diercing serving the place in his frame from some straight inconceives of that one of the time to lead and the several recessive at the crag, as a most of antical speciality. In mankind of this place of these words, which, it was nearly along the doorway on all times and downward while the fortune alienage was not a memorable characters in the dangerous. All, but a secret took plather or lost which I still still stairs in the bloods of a stone body at the top of that ordinary stars were consciousness.\n",
      "     There has been about her, an irented to him all three feeble seven winds, and some stories and colors was before three steps with its connecting and articles and spectached only and spectacles of him we had actoon. All engaged\n",
      "for the merch of the power of an interess on the thin sure that he sat a long again of the sight in my hill, and the shape of them. Here in state shop is straggle, the professors such a solative struggle and resolver at least to reach it as the cablet of the coassified broke on the stories of such all things of the carven more that of the trembling of the cold again. To still been ansteries of the steady spectral circle, the lightning an up of seeken pitied off. The ghospical species and spectral cated with an anthorousness formed things of the some peaks—bore at the most subsequently, and that the subsettle and too loath water, and so much of the tree of a complicat and secrets of the crude sea with so from soliter. This thing their missing was some only almost the ship, was some of the party we could not read. At a longer point to trair than these things were a section of tempers of the strangency of his father, that it had some moments. In the sallit of occasional despairs of stupe another son who had come to be a chaos in the darkness, and it was at light, at the people hudders, with a large pations were and the cold and a columner.\n",
      "\n",
      "And then the man have he had seen a curious posite thing that they worn the firestal wished over all other. Then we hasty for any other to a shudder at the sunset cheek to the face.\n",
      "     I was some other position were other them were the flash fellows: and when he was too should be the letter had a species of stone, and then having constingly stumbled at the sense of moral, and whom shewn one change to the changs of the door at the true of the similar corner we should have been sometimes to the study in the limbs. I can, it spread of those who have sussed to sail there were suffered it; and the matter, was said the stone. The sunset, as we were in a singular stout of sounds of a mere points a bug with these thing, but whilst ablupt as the profession, at all experience which he had now some of the mind was torch, though not as the surface was shew at the lonely ruin at the purpose of all of their spanishers was tracklous and stone of some services or father, being the lightning of these weeks\n",
      "at face of the stranger which seen at length beforted beyond the ship of trees, which were told and confusing there was. Then the wanes on this, but a construction of the state of his statue, and it would have been so talled at time the senses of any older thic letter.\n",
      "     They would have told them to give me to descend,\n",
      "and we say thought to the studies with which was a dim as to stince. It is all that their silver a past of the crisace and stared back, and have not all at any death. It was nothing over me the portrair, but none assuming to the reach, at last alize a subtler and despite their committed out in my secret, and they\n",
      "save on his characters he had been abroas a struck in the room, but the perfectle of the perfoon of their own castling as the sea, that is still became seemed to break.\n",
      "     Although I heard on this terrible stages and deserving him there with a mad always there is a secret one of the creakers. The creat shape the party of the trees of a country, and they wore the more of sea some officity in his fathione. And as well have been to the raiden, as included, set in an inconsalous cold steadily point which we came a frightful alien to the starking-power of tentacol and his acchanation to the prime. Order alout as heart, I had never seen so far beauty of things and driving of the\n",
      "crude as to a share which step leaves of the crazed sillic with the prevail aspointed and across the sumple as a small of some caborath. The companition of such as he said home above hours of suck sense of all the regard the seventoms of two heart and damp displorted assertiants. There was an instant at the brother white apprearing and a stifting or the place, and almost the least stages all ends. Willettless trink in har spent and raised to the seven castle of the time the whither of all the lightning and a hand of mankin walls. They has been asserted at the stars, as the same such somethic delicerations of the rested, allowed transpressed the basis sounds of absolute so let of their own freedoons.\n",
      "     As he would be stifled, and the dispose of the streets the life of truth in this means and the sunse of a sensition of the\n",
      "bodies, and heard them at least one outsides that they success of mistaking and perceiving into a steep fragheration at all. The cold was none we saw his father with harm rapes of those words and almost souls were all otherwise to be loathings. There were all the spectacle of the\n",
      "strangeness which\n",
      "startled only always be the palaces of supperents of the captured of the light of the sunset collars and seen to him from the black strange theoring about sundounged in the large cast. There were not the flowers were, with a stralgery arch at last and templed as a man of\n",
      "thing which the last the whiteness of the strange desert of hand and then an alternal annar as we stopped a frenzy. I had set and have sail, a tendating of the dogs, should notever, and this archaic assemblance to antwart widely beass. It is no deep in a carge of mother things is the same tomble and midely an actuan and an adjoing to call at them, and the towers with why itself it strike twils all accupted of all there was no desperately before he said that the front of a gentle recalled bort of horror. Then, and would have almost dank of them sever assured as the profound one of the strange surface belone. They are the chamber of his realms and conceived to but, there are sense on the spectic of the sea, and this time the little of that some of the correspondings had seen a few of consciousness. I did not classine fer a sintle and the singular surviving and forget the stranger, whose door best as the mistaken to seek our\n",
      "old blasper to the sea-but the face to thir cord. Whateley and spectre above the recollections of their most through the fiendish sounds alone and terrified me along the sense officially faint. The fan like tortures was not lifteent on the lase was the farm they were flow in the significance, and the stepping surprioring of the principle on the shanead. As I have trutted the same monorable, whereout them with a partious teleph of the marble seamanes of matter and the blass bore or so lass. The shiftering was night, also batchers of the place battled intangibly and cateress to the family. With his presence of a massand which were the party half which move of the terrify a propoution of the chasm. It is no serious to the woods who had suppasered it so lovely, but the town will be satisfallows. The best mass, and the shadows and subject a down frantical annalent and to save that all.\n",
      "\n",
      "It is not in a solutian, and as ho follet they were as such as at the soul.\n",
      "\n",
      "    The crouching sturged of stones that he had no pearles of a strange and moss to that of that which he said, than that I was now perhaps it the man was stone of mate to the wood. And that was shifty for the precises to stail and all the most surrounding a passages the pretence of a galley of the point which were always stretched by the powtral of a glows and particuation. Though the far too direction of the same distingum things that they did night when his hideously descent and closely distant, and when in the sense of more sitting sources around these arrassed by all stones of the stranger wholly the face, without purple parents the farther paths of supposing organisms.\n",
      "\n",
      "Wilborate is a more dark, southest some terriforous distant, her littling search that the morning, by oneas of sight.\n",
      "     With an one poor would seem out toward to secret, alone of all those attract of an infinitably distracted and palace, and a thought we had not\n",
      "seen than as the superstition was compleces.\n",
      "     It was twilight the solis of the latter of the\n",
      "places which thought, had blast, by the colleaguar and more than on the dog-cry whicinger. The sea-folkless relied outside, and street driven in the lands of many and the grey passences of those arrivers. In the sonstite attent to his feelief and all this which we coulds of the trutine was the straignter onchors that with the sounds. I recorded them a special secoping only of traces of the southering ancient palaces, here and the lightning flooderings of mannities, but which they cristed. He was now always, but there is only at almost shelter and stone, and the sense of the primale on thin stratal its farther accurtedinal dress. Then, and the seat his peril by the striking shuddered above the storm of tower the pretence or musical supply where a police. There is shewn to that thing, we find over ano musician stones, and that which seem to as to be discovered by sufficise the patting. On the tangler-shocks of the same other the matter of the start altogether well of identical, and the door of his fatching and drawns are such a portion of all. Well as I had been belonging upon the singular shapes and decided the clear where they were orders of deep, but these had seemed still be discovering tall of their plane, and something absorburing the pole of their steps and properture. In this time seven labor was at the terror from three disgange on themselves in a statue of all the beginning as its. He still the preferred orderable power which had been supposed to account a tracer for some other cold to the great story at once by deceptions as well to the strangency of the same thought to that thought of the power of his ordially and sea-bearded meteors thing in my own, sparing head.\n",
      "     In the months was strange, and all the tall of the doorway they crowded himself and sease and the class, and thus through seven lifty of the shadowy. Those of the tangerously stories and churchyard to start would be a spirit like a shadow stock temples in a madman crimit on his\n",
      "precent of theirs. In this periods had been all was informed to the strange carpose, and shouted to have told at the tomble of the trees. They things in the letting of a portion of the singer with the meaning was something burials over the brond at the chamber of her. The stream object of these temple, hours and straim, this investige and soletrics were now there all depages. The peculiar shewing and steadily and dread solus frighteness; and there some dreams of the deep, there car been or drugg more than ourselves. Then their philosoph he shalk of his work, they as we didden danger, and there had been a store of the gargeous and sentences in the seemed to that things what with the mut of this mustable desenting the shocking commences in the distance to think to me to lead of the common wholly things when the matter till it had been. In this post were seemed, telling that the strong chess. We had been strate and space a family stridge to the strength tile on home, the community of the presence of the madness of a change, or the land of such things we had almost tough to their forty.\n",
      "     But he did all this we secure my esciot was no one character without a stare open. His parently and the doctor of the tracks were southes were not objects at abysses and taking over along the strain, out of single pried consecute. This mill of men whose but learned of my solities of any strangely always whom I was examined to save to the southwest traces. Ship it was not like three intellection of my death--and a head and distance and try to be different seeken and down that he was clearly. He would have\n",
      "said, that this place was distanted to say a large ator as they saved into at once as to search.\n",
      "\n",
      "It was all that the faint surval we prepared to lumb of the common, and space that the case of an ancestore was the missing and pastain that the stil common things the black green, of a continurate and indescribed a shot of a second propped in the seasons and to a case, why stare the plan of the\n",
      "mouth of a side of the pecular of this state, and should be able to see a very sorn timbue. It is strange failing, and to the train at this spaces in the single another side time when they had no reased before my fear. This wonder and sold of my senses, they were the sight before in the collage, and a fresh of the prospectric place, but sailed or settling sinister sides in this planes that he had little backgromic of the stories to an abstract the positive and sort. And only two often resolve and changes attentively above the scene of the desperately, but had been any subbrering and the lightning below, as the personality. At length they were not seen and superstitions of the capper creature which shum our forever the breath by the gate itself. The crevious shartly darly seemed a plattaring outlines of that shriled, whilst what these walk one of the men as the country felt as if trembling, and were secured that the touchern order only though in the deeply tales, and what they was all easily peased and dark to the person weather they were shadowy far about fied or for the portions and cutting and somewhat and manner. Itsence of a huge thing which I have said the shalter we had no roof that the station was at our planness, the marble coast from the sea, and the sense of horror, who was toward the founds are fainted and short which there was no sand and the closing alternate abyss of the same moments of his although, and a cast of the stript of solution to space.\n",
      "\n",
      "The time I had been came and flattings in the animal stopped ancient panellest things. This thing where the same moments of the dream of madmen of the tomb immersive of the precipical streets than\n",
      "indistinct. He wish to be thrown from the higles of the crudity of that part of thoses and shore which had been to restors the table of the share state of superses to consert theor of its heretic effects and possessed and shaped into a shrong of the lanter. If the music objects and rushed to to say the shopes, over the ball had seen holder, bothings toward to be the primos of that charactless shelith toward the searchernous steading from the cabin, and taking on the corridar old tonestops through this possible clothing beam again that while the fourteen hangs which we greated, but the thicket was always of streams. The most of all that we mutch offeners and thrown astanging it a way to the precise of a distance of the complete. All this sentent with the methow taken to the sole than we had seen some time and thunderingless story of the side in the marked outs.\n",
      "     It was a straight of my assign the record and more of the colonyant old within truth only a state. There was not feel in their foothilleness of a delient surface. We had not sound a strange shrive-gill mouth all the door were an increase and paints was that of the second disturbourd, would be borned to see that the shore than the sharp of start flames, and the southern survivily to the street to the steady.\n",
      "     But the dead signs over that he could see the first had been a stranger of some part, and saw to beg none of the series of my sea-most describe. When I had told him to a frightful shorming securing the treasure with herelable place, had terrible as we presenced to an ancounted surprise. He was so tarely a moment of terror was a professor and places are still and all thinks; found a species in that off in the dreamers were traced by a danger of making the stones. It was in the deck and presing and solution off to a detail. He walked up to a search of my feet. This time I, is in the morning of the sense of the steps as the sunset changed than an an advalua decoraite and although last which they resumed their main between treast in strange arms well,\n",
      "which we could see when I saw his shiftles for anything. And there was no dispose of thousands he had not that while I can be toldred.\n",
      "\n",
      "The proportion were a stroke which he was not before the sea-shocking to be able to the profession of that substant archways between their confidence, the wharvels of the graceful the ground. There is not that time me in any thing of shuddering over all the second alormood in the stare. The observing was stingue to the greatest secret of dark face of their planstant streative of an intrucutancy, whose southward and domes without the country of the precise some of\n",
      "the previous antiquaria lived and speak at the crow, and this way. It had not have death in the days; and wanted out or some of the study of that came of my stuffed; a sharp-learned and delirium. Many careness that I seemed this complexed and their statach what it was in all things, by sufficient despite and presence although to altogether.\n",
      "     It was not to diver him and a companion was still alone at the steep still rines. And when I had seen and see what I heard his group or as to advertures to see that it was an instant and a memerance.\n",
      "     In this tince there came a man of sundity of surman when I was a signal particular of a little door, and at the temples of the mountain.\n",
      "     Was to see the charnel sailors, all, being to rose at any condition of my feer and terrifor to be the particulate intrivite, and, to an opportunity they whire three dangers as he searched a substrace of making a party thing in the minute door that they had found, and with an ireaster well, and attributed to the sea-breeks of the poor days, and the later or so far been so that hideous imporded on the street. All of the storm of the channel of a man had been the line of the proper toward on the southwest at all.\n",
      "     And then the tradernows were no legend through in the box of the broad to one which half heart from these we something a sharp or search. The same of the desert, and were some or overwalling\n",
      "some of the public throad which he had been stairly decided. There was then only the fire to the steed points. The party-he wost what I had thus all the thirting or out to the children head. This, I had not large to have been a single flactic palling of his forgotten, those of their monstrous concerning them. I tooked all the terriby, so attacked at times which had been lower always aspect. It was no singular passage the surviving shelvous sleep and the shrines of strough for so it alarmed to strain; and when the days should not too may have been mostly to the\n",
      "seventy off its there could not floater absand for the presents for the southwards. In the time he convinced to the southward that he was sole my onyx strong out and saw the sub detected at the silver the blast with a steep of his story, the mast felt that the sun around the street and the straight and terrors where a thought which mound there was only only the sea.\n",
      "     Its steered town of all where its colours of the seeders, although its pieces too, in the solemn was absorbed the south and consents. To satis shrial stone would no one of\n",
      "it the fluidence, the old blasts whose ship trick or seemle chimney and predicted officers to a consents of the portions were, or frughted to the prevailed top of any city—one of a time and as held him. At the thing which have said the blasphemous short was natively terrected the passage of the second through a controvers or covere. When I wonted that stained the plenty and strange dreams with several seen a flacks and past there are panels, where the saller of them, but now several principal outrages. The candles are on the same stranger which should have been their chimney. With which were strathers, and would acquired along the\n",
      "catch of the countenant sector. We had seen and deceased to brink, the previous string somehow at their easy told; so, as I saw his stone passage them to believed the sea, while the person at a lost time to lie tine when the lightning were seased botto to tell-looking\n",
      "perishing at last they would seem itsteade. They roofs in the most passages of thints to tract treat trach, his cardients as well about that thirts, and an archway on our some timber of a certainly around the deep on this part of about a great riftle and stars that all alook at a shelven trees and possible. It was a commiction of supernable stared whispers to a sudden roof, and at the the course was nothing but is imagined the crustless star of those which the corridor of the monstrous communication of the house with some places of the see a strong and solden toward to strain the precated the backs of account from a convention workmandant. It was now that the figure when they had sole day as to a cride. Anguised the brig till the door to conceal a lander of his sorts and charge on their bridge over and searching the struggles of this alled a mad and fragments of abroad abome the mountain. The chair, a doubt of their cheen on the suddenly thing which were something and sourced in the stranger sides; but the farmhouse of their searchlies and the great prane so sensation. He did not life they caused the stars were seen of his stretching abooty the same simelities of that wearder assess they had an iditting of that that of the colleague,\n",
      "was about the paratory and all the solit and tents and arm and then hours that of the sound, he was some of the close of the tense surprising about the doctors of an increasing and town weather of his spirit arms, as the same tries alley and the dark stores and companions, and the captains in the different survivots only, and his way where there were all alarded belateness; and if he could been here for to search of a shrieking preparesteneral of stones; and in all days and solid and shot by their clumpes in the air of the sunstantial roofs which came a secret. There\n",
      "is a groves on the crustled harmlier closely as they was instant for some of them.\n",
      "\n",
      "I donned the provise of the signs of the legend of the rough of his stumbling compens only to transports which had been the secrets which had a simple pormal and the chast studied. He came those who when he now seen the sea-sand was a since it mistake that he was not fall of the more and man and carven stone still there was then. It was neither and the time had no searched by one of the sure than a defrie of those silent close.\n",
      "     And when I had no determity of those positively climb, in a most of any chant by the long-dead without poliering alienisls. The thought is the light where the passed met cross the sea-comind to the son and the doubtful. He with the stopping is so companions, almost the solemn courage is no long and drop down on some desertions of the soul show indeed.\n",
      "\n",
      "    In this time I was terrible in the camp of some of the strangers and provated without things in the seven contemplations. There would be no relead in the case of material and spade of the story, the sensation of the town, and was alone, and I felt him in a shortly of a merchant, a shall soon of that one, still all the rest open what I was alleys this most intervened by the studios. Those which had been took their beings with the day, and-ladded ancient and sheet of the senseless, seven pain through the commit of ablusing its foundages of some strangely comengrance of think of his companied beyond the plaid castle. His passage he climbed a supreme agents—there had been courage in his faces which had said, without things a subject as the comments with his shore, and alone that he would have had been thinking them;-but there can so muttered the plane of some of the thin old pale and the\n",
      "strength and carvy stones of shadows where surrived in the same tongs at all the shellow of the previous and prodours and clothing, and his horrible beast that he had learned on an organic and accursed abundance into the scartiness. The other shore well seemed to the latentified of the stench and had scrawled a sound. This warning toward the where he was all the tided some there were now and indeed as the rest.\n",
      "     Ones went at this strange character, than old centre, and was the light the precipice of the prefacted; and then too, tands, and the steeding partially to the lower stupends than a complex. The while only a terestery above the surface of the shadow of a mighty and a specimens we had seen and some secret and there are or somewhat an ancestor of the coming of several occasionally seat and savagely sound and there were an univers with all the best streets of the later language. The goated was too, was the trip outline, alls and seems, and which were name whispering about the sounds of the surfases one to search and palace. We declinating it in their still room from the dark face once the cold and spot whether there was a long peril of the sea of her and the cats beyond a definite. He had an hour, since which would had set ut on an old delivered and thought of the steps of security of at last a signal process. The mort toll hills, with an endles, it wish hopes who watched tasking a pictures, and that I saw not took the shadowy from the decadence, we set until it i\n"
     ]
    }
   ],
   "source": [
    "generated = sample(checkpoint, 50000, lstm_size, len(vocab), prime=\"THE THING THAT LURKS IN GUATEMALA CITY\\n\\n\",mode=mode)\n",
    "print(generated)"
   ]
  },
  {
   "cell_type": "code",
   "execution_count": 56,
   "metadata": {},
   "outputs": [
    {
     "name": "stdout",
     "output_type": "stream",
     "text": [
      "characters\n",
      "Tensor(\"rnn/transpose:0\", shape=(1, 1, 1024), dtype=float32)\n",
      "INFO:tensorflow:Restoring parameters from checkpoints/mcharacters_i2430_l1024.ckpt\n",
      "THE NIGHTMARE IN GUATEMALA CITY\n",
      "\n",
      "TI then set in the peculiar of the dog--the sourch. Herror had heard it\n",
      "before my soul, but I could not help of his presence of solements, the finerrow of the\n",
      "business are thirst this thing which had come to me tranters in that only of his shadow. I should have seen it would be like a grave before; as I had she the shadows and archivers were this: that the street, a point with the crossing of its secrumer, were to percure that the barnels aroused the season of the same of its being stated. In the eastward walls and traces of those sunset is objects and through its another. These wanderers had at far doubt of traveller. As trod, by the story or sea of the methal of chimney of some mouth that his own bonds. Then we would not be standing\n",
      "that they were it was now too contact that I could not be resembled in the savage. The straight of the distinct here as and the mate came as he saw the producers. They say not altoom three, alls, but never seen that I had seen the mists were there were still, but succeeded in a few of twist of all whispered. The local execustors of signifurant of the matter, together an adound wooden which I could still lay be fancy in orderly able to an all the southward when sure, have been the shadowed stranger would bands about that stone and striking. It was about that had talked to think of any thing, taking out, and a heaven iron in the ancient corresponding about to a time of sighing both the store, and which hand to the fright of the deck.\n",
      "     At one even though-like massary attitution, the pressing sound through those cryptom stood of the present seven conscious shaped beyond all he would not branch and also a perpendarary point. I turned the point seems when the street to the truth of sole the conditions toward the town of his race assimistic lives of time and a set at the loothal step was to be a climber about his feet by\n",
      "the same meature.\n",
      "     One name that the mouts as a consum of a mile as time, except in the memories of the place of some story, the deserted right any silving stairs of angage and paintants of the change in search of some case which we hand a letter would so to seek the fact of that college and some of the common and chains. It was not land with a fielish placid part of the sea wholesome carefully about to see in on the disards, attraded into the descent, and, but a learnom that the left high restless to the light or drught and rusters. There was no sound a partials of anticians—had seen a legion, and, fact was a greater stone steps and course without earl entiments which he had been and a cemeral and delivery imagined. The conclusion of the most distinct companioned the capt of the black cats and the gods which stolled our stars and sold that all wild brought them of subtained that only they say their portionation of tops all.\n",
      "     While all the other round thought we had beet to see the shadow seemed to the profussion of a monster on the sounces on the signs of the same plating and ascent of the close of a stern old mine.\n",
      "     There is all the moon beast, and the portrait terror them the stone of a most and dalments.\n",
      "     Then he had alrained trembled. They were all the strangers which telling that his resolver which were at last he was changed their security as a constress of their seasers at the college discoverable signiful sharply stars of the party from the bearded motionless, and a composition important silence. It was it immoniach, and at last he had should some of their seathered trace of the shells---there as I recall whilst the child of the previous roofs—all that the lady again and spectral and titless. There was so secretly there was necessary and preserved the stare attendating it. This man talked in a great door being sounds as tood as it was\n",
      "untouched these were stalk by the\n",
      "sea.\n",
      "\n",
      "              CHAPTER \n",
      "I have true of the temple, I saw that through a featusinstations of the same primitive of the clerk and the proper and secret to the weaker.\n",
      "\n",
      "    It. I discurred to the crumbling world about the latter plateau, some still, and the marks at lives, but to be so much is not. There were almost his solemn as its pictures. I had some directed over me to my substinct in the markself out of some of theme are for some of the struggle of a great abyss of marvelled towers of such evil whose run and shock of a celebrately bearing their seated silence, which some few profess toward the brief study of the river, but the month was that the deed would be straggle of some persons and primal character. West they shrieking to him, but this charce of a day, but he crespect and secroted with its since the sentable craced. Whatever they were nearly to the living space. They shived there are seen to trie thing of any settings as a ships of stone and the bloods which shored or reminded. An old at the dischargings we had been still help and some frantic and a steepher than one of their mutines and splendical ascends. And there were searching a stragged black glowing body of the men at the chasm that to be thought in an indicated place, which had seen to tring in his other pocket and dampalled, and the parts took it. I could not saw, or as the men would be a college than the weakened or again when I did for a members of arrivage about the stray before the past. It is nothing of some hidden, and he would succeeding to a more than monstrous plocision, but that the mort of stairs, and a faint out the shocking carved me the sun and the little and trying above; and a peril, and talked. As the mose than they would not rave what I could see the soluttering wall at one points were a stunted by the precise of the characters. And they are now had so far a sonth of my eyes of the place of a certain citiant world in the chanches and the struggle strangers; and this thread of the summer with which they could hear the profutions of that polished aloud the beloved strangers which made me to the peak of passic and assists that state and pleasure which he staged it barely treamlessly, and of still description. Without some soonlish watch the chimney and spring was now closed to read them an ideat be only the brightens to the deep steps and carefused face. There was the gambrel whispers and the chueld including thing and too from the characters was about thinner or four of the town. The should carven together would shut the sole of the dir assord before the street at lassion of the met himself. How heard to dour own monstens that I shall his particism whose shelted of the crude as at the same traded and a fact of any sea-bort to be that which was fertiveness than all of their accidentation. With that had true, the drugs, at length at that of the being an home and a side that they were that through here as too much ourselves. The presuse was a driver a proper secret and displayers were in a man of that continued on many plain and astonic entirely to the ground floor at the clumsily\n",
      "and the great persons story of an alien.\n",
      "     As the flow was this spectacle of the place, at the shewing,\n",
      "he said of the croakings would not be think, and at the stared towns who wes had been some one by one of the strange, half-blacked source, and through the things will narrow shockingly in a sort to seek by the shapes of them we had the same moment was a groasity of mattress of media and strange treasured, which was attomed altaracies artastic flest whatever the boat will be drove. I would be from whose patishable patching terrible sorts and space was painted to turn a curious and their party will such a seeken all that whose thing with seemed the past matter, as if the marvalling hand was in the catagonoments, and stopped at his far more impalsate sure that would have the litter to the shadiarism. I drew more that what they had a lower record whetere in the father and discovery which stunk forthward at all shaking of their chiefs. It was a second was to the party of seventy, and we had all the proflight and the drench in corner would be an every one which shelves in all this sail at the tracks of the trags of a street and called of an old men was a frightful or commerce. He witned me in till that the toper rough its hand or reminded by the door of the sank and stench and some terror. The wind of the corpse of the most door beyond and probably been things wele freely still struggled and state at madness of things that within had tried to be that of their of maticated maded, and all the church, and the strange of a marvellous cut upon my\n",
      "deak and stately from a curious. Anowhere, and the streets of some heavy, and was supposed. We worn sure, while he doubted as it is tales that they can be many of sorried the struggle where he was not. The massioge was about the three sureless all that he had not the seemed took of time to and the possession of sine was case. They\n",
      "happened that I felt him into me it seems the shore of the straggerys which his somerated cliff. At these he had suffered an easy was indeed in their plans and seen in his close to be the same of the clane and the shocking, who knew the wild his remoss the cold and discovery. Those white had to devealed to the pathed and the place would above the black and man of the construction to the stars in the fire which has\n",
      "been a few dreamers. Was born and the sea was ten the steady a wide and almost shaded by this mortal, and they could shew in the heavy gase. It hastened the station of the sub-dame and seventy suppressional specimens, and they would have been consciency. He high still ranged on the stars which he dropped, but he was close of servivor, and in the stupends had breathed out to bank from the particle. All this time a vaulted, and were never been priest and currest tops into their streams. I shouted overshaving a dark shout of that section to the speaker was a steel of the stars and contence and the street and shunned, but or chained from his planet were seen to straight any once a dark shope through which his corriers. In this tale of the cases of subjacts arose as the secret case and askaided back against as it something why did not he would have been always and charchead for the primal planes. The pare was the cloudy strange ascertains, and as well as high to the called senset, and inditation with the doorway and there will stood alive below.\n",
      "     At length almost that such was secrets on the locality, and was steadily from an old delirient repeation of the cold terrible pealants, and as they had attained. A shoute often didn’t terrest a suddinion of the second parallel in that shalow and charges of the steps or two into the corner to be the shrill of a stranger places and claw-carge, which would be suseen his party. The othository, and as I handed a chill have been coloured one before. Time had thinned a cellar and distangled and the moss stone states that he had seen the thence could now collet heard the chains. Had been any of the sold of his from the sea of mator arrive the stones of a mine which mad to details.\n",
      "\n",
      "There has been some of the most and me our case, both hard straight another one of the\n",
      "seedingly of the blood which seemed to be the cleft. The wood as the content, and the study that was instruments of the colous, the bank of shivering colour to have been the more completely thirty-forms are stook the stronger almost incessive. They remained a country and distinct stone stones, as had been transposton, and was franking other on the spectacorations were alternated thirds of stones of the studies whire that their searches attroation which startled insplicated by the chase of things of the roof, and as he did see a great and sound was an ancient sentingly stony days, and after a far from all the dead of that oftantal attempt to have been an approact recent atto wall and professor.\n",
      "\n",
      "                                                   CHAPTEMOV\n",
      " I can at anythouse, we were now assigning to the fact through it will at the mountain. In my felt that the mates of the precidense of the structure of a long peculiar bloss or round, were noticed the mouth. It was too shirst the back of a shunne an incalcered and marvellous as to save this information of the direction of the charge. This was seen to ask the strong of the right, and that however, were to structures on the steer and senses, but the bare and seen that see is to them as to the sea. Willett about there in his face, was of great deel took a cloud sight in my cast,, and a firm it was out again attendant. And there was not see he had been that the peaks had noved a chante where the dangerous rumours, were treasurish of humour of the table, of the family, and the passage of their shell, before the call which had collected home about the mountain strange and chincidate speediship of any came. There is no deep sound for a streak fact is that they were all that they can dirle seemed only in anyidols.\n",
      "     “The named stand to ascertain secrets of my deed and could not a street for some sounding fro to the world of an evill it or since there were not as the traces of mortial surprises where all the start of a greaterness and palping and profised, and asked my fifteens. They were not least to a pander off the complex. The same time, was in all deeply to the waking of an unknown town, then the gambure of them.\n",
      "     There in their hold of human months and despatinally structures in some other clats- were draped in the store or sent the reason which had been something in them when I dis that we did\n",
      "not take possible to his final strain.\n",
      "\n",
      "                                    And now a denure was not anotephant as a serrible ascend. To the rite around out of thin, in time I articles the stars of the some person of the bells, and at all the steel stuncise. At some of my head. I sailed the strangers would be no person at a madming to the sea-concerned to and framer and took a sin who had been so that his blood.\n",
      "He had seen it. This and thus breathed off astonished by the same metal induring our position where the field of an unclutce of my feel of it. There were that I felt them will be absolutely an unnatural man he seemed our river when a live of any thing on the sounds and searching of the portinet. We were, whose despiration to broad in his thing short of the place. There herrort to a great masonrapary, and seem to the cavern of shadow of streams town to the cards, which this, below the deep at their captain of the preserving plans of his own spring such thoughts of the great above the fortunity, as is that they were thing which the lower last supposed one of which allowing to stop a common talking feature. Alone, that I saw the strange ancient crowded was no places, but a search flowing black silky, we have saw that hidden the walls of stone one and she put that the ship of three out of the docth oper thour or silent sides areas and commences. There were and merely a mines through their distant and arts of survey that those of the plan spirit. It was it had somewhat parent as if an ugher before that, is this man who seemed to talk of sea wholes alone alone in the day. And the difficulty was touchest it, another of the sense and\n",
      "filled, and seeming to see have a strong of the restore of a looking of the dogs. In the summer occasionally only and hillsing my own prisoners in the horror.\n",
      "     What dead whire old hint, was seemed to remove the stunend. The sentiment hearth and had settled into a chimney within the couragion. He was now seemed thrown the strange absurding marbles which shoned to be a single difference was a singular allain which has been curious to an its and traces of the pale of strangers and seeming to soration and told me to the presence of a milaltial and the point of altre. Those stiff of a mass brough their deck, they should happened to the walls and discovered to the tree. And that I were scrambling\n",
      "that to the high warn and stroubs of anterior of some of the same million or from the strangency of the terrible.\n",
      "\n",
      "    And a will never bect he heard of my floor, too the sunset contents of the commence of material incredible secrets are search from the blot of magacity; and all that they were in my studied that I could not discover all the loom.\n",
      "     Observe it was a powder than terrible attention from thrilding interval which had been and shunning what they saw that at the body and terminated myself beyond their station and come in the lower reserve of the marvellers. With strail was at a conditional special lyings of all, but why should his failed to anticipate the plains and the stone beyond shelter attention to those city. Only these he was too was the larges, but the steps of an ilar alley and thing in the stupendous coansionated stiffingly and taling with impade.'\n",
      "\n",
      "There as the sevented side of the moulty had a son, bells, belaving animed, and the dreamer of at the country from the dark again.\n",
      "     In this matter at the time to think of his frames, for in terror of a deliberary that the shock was survived on the patitud objects and persons. The gree above the brig called out of the dead and the shrilers settled only the pressure which toward sease them told the clumpers was near the seniter. I had three out of this steps were struggling to their originaly trapping to the bodies of hope or conclusing the paper. It must be departed the winter stone strange traves which had sufficient, though no assembled there. We say that I could have been castle at the too from highly considered and sensitive arts, and the crazy and trees thing, it was too check to them by two arougn forever in his carried and telebrathe thanked shape. They came to anyless cats out the strangers, and the corpse of the sea and events attained animal into the sail of the plate of the stars from the remiter of his felloon. The titan case was not seat and so fashing fignt things that another heads there in a most churchernal shotes and carven to that thing, they came a certain peak from some dimes and all other and arrived a collected of a mere persons to come, and afterward wallettles and tormants whar a temple and stertheasy, the crawding of the man, at less as well a stunned stretched only strengmer spectacle in outroms. The progles were as the tends who could saw this claws to this probably steader or convey to sound. The grotesque ampassing and shadows, attack of the samewhite and always and secured in his space had because in such palers and place, and assisted by the sun who looked dark from the head of the lines of the storage of her lands it three observer. Was in townre, a sharp solebner was a short point is surely place, and temporar to their folts a fourth days of half of the sheer the monate to the store of his remember. That the mass is the stars of the counteant companion-breath. At any madness, and so many of the summit wish told to be seen it our despite floor at the some distinct sounds, and was seen to a passage in straim which this extremes were the sever of those or through the secondary stails. We served through the passage of an exceller which they were no stunning out in and the dragged books of the channey with a charce which the floon, where his dream were\n",
      "allaring to be so much in all the master of those with hideous impressed studiabst altassion, in the stars. It was implored by the struggle and attempt an universes, and work of some days of an usual, and as a previous condition a cluff of surpost together in his place. The short of this period, though it was the dog still thinns had the trace of heaving means of such peoped a milited bearded in the strike of more respoisons into a climber. This ways with all at oncas of the crowned walls of the concealant corropsion which he had always the little carvings of mongrants in the cassia and all over the street of having been astonismed on all the shining manner and shapes. Instinct the moon was in that suphime was one of the severate and steeples of this painlister toward a lonely and trading.\n",
      "\n",
      "It was no prodoct or sentinel in a long part, and sheet in that sevenal sin martless things or solution of their portability and supposed with their cursed and always and routed at the souther of motionably, and a shode and shippont the great bedgan a discovered a partial room was the forest thook of the search was absolute for the chamber of some time the structure of astonishment which he sat searched the stern locomity. Their person, was still lived; and I could seen him a words of hold that we seemed to retrete. This manner of the mining of the princes in the savages and precisely that the detail was not all the southward or subsequently and touch interior and\n",
      "lurkens at observe the rigging and pray in his clothing beams in a meant. It was a mode, the darkness of his capitation of sight ago, this mother, who had been those will better would have a search from an inferceded promite the shelter. The practic characters to the full spent and could seen the strength or all stated terraces at the bluerer around his habitural spectuality of sounds were so feet from a shrill came the sea too survoise their occurrent, and we did not read about. This\n",
      "conversation was nothing through it by a famble anome a minuriant alternatingly things. It was at an ancient spot of a damoniac pattern of chranger than we could sufficiently terms, to the train as they were natural and danged securate or grasity at the\n",
      "crude of those on the southern to compart alone. In such a hugang terror, the stout similar hideous intraction,'ed strickly drowned beneath their direction and searching the brain. Thereasted at the fruiterance of the crack of their seat where the moul desperate seemed hopelous spirits. And there were—and it is nobody which this madlied points of the members of some silintry thing which made and the splendoully of the papers that tremonismer world, and he came to the patt of the destrainers on the gardens of his body of a completion which we within history. It was the top of a galley of an idea of the sand times that what it was seen also, where the shopes of the cliffs of sharp that we and the stillings of time to the sheed atee or objects official things. He did not deceive the moon was always, all this arm and the sea, were not sorg. As\n",
      "I dared natural leg things without any of the drugs of anceston were almost incombeired instingly incarations and abyss. I had nearly, the strigs indeed things thing that he had no least stones of a distant person with which the sanity was neigned and an ancient crudical stone brown few or tentacles. He had not shewed the first time, shewed that of the passengers things were to still have been a single obscure and paled soon lands of silk and permissed wooden winds. Norery was the failt it what they were no died in summont. It was not like to a large plunge the penetral of the solied where the deciding of the thing which the fact is indeed to terror them to the farm on the craw were to the sheet was no land. Well he was no longer about the watches of those things of sight before me than the contrustic hore, although they had some delivered a desist world. As if stopped to this, in the land, while hus alle were the doctor and passed bott of my son of my surprise, which were to do with his preserve and to so matter at the brain, which I saw what has said a good condition. To stop of a point that I had seen that whatever, however, and when he said that the region I shall not so far allowed the singular shapely surface. So that in the sang, but there had left us a mad of stonace, so that they sand if there army to mind that the mists of the post was that a most countryself the streets of a story off out the tempest will at length in that. He heard, and\n",
      "see this moment and to recognize me to a suddenly public of army from tho ought influence where the desertion is traded in the day it of the tonals and pleasinary space. Then the summary, and a few was not a steppers of the most drows. A foetorie and a gloomy surface to them, and it was the comes and place on the fire. It was a thirte thinne, when truly they had been the murder one atroic of shall beam and the crawl, they seen him over to say on account of that sense of detection. It in all accursed things at the strength would shore or toward the resemblances whose\n",
      "drew was the south and for the meaning, and there were so that which held a sharp as a straining off was the shore of the top, and he wanted to see hint which shewn a certain difficulty of success of the sea.\n",
      "\n",
      "                                        CHAPTER   \n",
      "         T EpHYOH. And who although I considered the stories of his plantakin,\n",
      "thus, as It leanness on the path, I final pleader and any shoulder and himself was a charte and days.\n",
      "     The stars a whireth that was and at least to a low as he determined to be several seemed forms and threw, for the men were spring as when this story of the presence of this pecket--the belief and daylight and the monstromous blood. They ame dead and almo to sabel tried, that they have still strode in a might be merely a please that the persisto say. At length, when it is a man was sufficient as a matinizent; though he did so little of my fate. In a studued and shocking of their own seet suggestion, and one suggests of across and shannels, to some spread of a steps, and a single sure the ort of the wail. It was no printed bulle of all of the day.\n",
      "\n",
      "    At length this come,\" I saw a stract colours of the men were drug and two, that the same, we had a monster allesis, and the lone peculiar to the southwert beard whose points of the sudden stars and that of the same moties which they acrosites of charces of the past a sight of the partition of a figure, and the changemen while any matter of carry, the singular shops out of all things about the letter the cliff and strange senses in the dreams but a cry the dark stringless claws. They had study had been to the start of the datages of surface, and some of the state of some passion. It was the steeping whire who was seen at their remains of the deserted, which haddered of all or after a stark of his croption there in the horizon. And the whole stending walls and secrecy of an entity, but or carried it a few surging. And an immemoring of these seemed reached in his studies which they were, and stealish discortained out again ascertially always only, seat there stairs of temples on the lips were still and clushed being almost of their present of mental and secree intervals tell of shipselessness where in the more of my soul which as a grove with the black spot. He was all of their continct of the progrest which he had been tripled the presentional persons and disapporations. In a sighwest one place, and stood to ask the strangers in the right, of the sold man accossiby and places.\n",
      "     But of his discovery always in shocking over them into the exploration that I disperable of strange things were, and the caper to calm which might be a few shortly sendomance. They were something absolute death, and all the lives of secrets to the whole obscuent strains of manner and doubt. It was soon as those who studded by the sea-cast hour freely at two hours and possible beyond to say of some storm of a centuries of the last sound of the brig was the river, the morner was found to be coming to be. His feer and set all about the streets intended by ancient tonaborate our. The doctor an endless distances at the sam here, and were not so lume upon the fourthes and thankel. But when the lower dreams he was the story stern side was a partly looking fear and spanned and spanels, and as a man in a man of ancient and almost stricken and spokens of the languages and completed and penetally stood of secrets of a signs of somitation. This proceeded the long sea was to believe its hands of the stores; and still have noty of mad be decided me to the whole attracted being also to have early alien. My relum of a stars of high and the lower strength, into my positive laberable in the late took the bells, would rish one of the several occumed on the ruins, we had seen that their present of the patient and spot of the sea was secure and door. These terrible place the superside things with a certain one trutten with heaven of high, beating the strangeness and dragged.\n",
      "They were, with its solemner and shocked fallies and saw a great different sense of the sure, werch of the charge of the stones, and the cloudy and the great score were to be so roared, and should not be some on the stone shelter and planing, whilled too porting is thirty, thick seemed the passage and peculitions of some degree of the past which troubled; but the samples—and the principal streams with such sinistan and their statement,\n",
      "and shortly of the peak with the dreams of the monstral possible, and all the lines of the patience in the manning of a march beloved in the comes on the precipical things that all alient talks. The mose of their progress will relate the shadow of his faces, as if such as they seemed at the course that he could had been strange.\n",
      "     There was a frantical oceaths, as the town was so far so distinctly we fer of time. As th seemed to shall her and shocks in the third on the stars and stone sense of the chimneys. And so me somewhere in that conformation of the southern stort, and that we would be so composed; the progrest to the world was still startiness on the light indusage which so like a tangiber on other significance. Then he heard the glow fer fact of the gleam, and all, having made himself tell the third only to descend and the storm was now far from the stratise and that a startless order of the conceal. These were to recognise illumeral designatual stones which have seek disalted the lightness are assailed at the paller almost in the shade and the low threw of the point of his strange. All their lower ones stores of stone stars as if he had sturn to track the perfields; that it is as it\n",
      "not explone this time their suggestive angurately to the crowded and accounts of surflement of the clumpision of many other presence. I think they could bet upon his person aloft a firm and commences at the sea-citated and the little of that little or all who had been those of horrible surviving broke. And when the display whose resemblance of that sundryly stood the ran stranger have athweed and tried in this cases of transpressible and depth or origin, and a cold party of the place where he secondless from them all stronger to the source. He had not been an old pale and the charm. The crevation of man had not been superily too clound an all those whispers. We were one of the preservain, and warnh able to the shadow some of them whatever had tried in his spectrary sound of their senset to the creature of the dank. This was indeed, tell their might be a steam of all myself and having been there caused the trooding overlooking and case to the solemn securals, but at length of a cliff. We have sometimes and raise of morbid its in the circhesins was not the steeple of tre brown. What was a fear the party-face of the primal way which a large corpse is a single treasure; but he strange doublest cloak and passage, they were the last was inserted in a startly one of the braining of any old. It see here of the truth and sawed his face, and this was a sounding once sounds, and a substal well as putriening the dropping on all action that hideous character of an ancient share had not the particup tradians had the place the chies. Who was not learnts they came to the subterreners and distorted or sets on the leastic particulars.\n",
      "\n",
      "    The weirs, why It is some minutes the ster the third walls of myself that we may before my done of somewhatoustic present or every things at time a shadow at their priests. The choking sound of that crags are called of steps to the contracting out of a desire to the prime induced to the black castle to clear that he had been so clinking in the steering, although the same manner of the street. It is some heart tell here\n",
      "prosected from their mind. I was seen theme, the lastered second the shadeways approached the little closes, a shriek or feet in the cabin call that we shew when they wontered to him. There, and I shall took at the terror of the solial, as they all alone our disposations without earth. And a windows, the stone well and shock off the things it had paid of a peculiar to the present mountained the streets, bolders to see the surface of stones which somehooved a climber thought at the characters were in their disastrous. All those help in truth the door because of the sunset crapit was told out a smaggrene which had set out of sending through a primal scattered subjects in the solt panes of the path of the measure.\n",
      "     In the late at their streets of the solution of his soul whose bays, and a second court were not been another to the stupends of stathorial, and so that high surmut organic as with an exchange. The scaterial color and clumbility to the side, the world of moulde in their origne which they had conceded to antage. We heard that their moutht and terror a strong of the rack, strained trail it was now and the position of all the material ship from that signs; a little of some of tentinal were all stairs of a confesses. That night and dream was this period was the solemn characteries; and the shortly was a large and position, that where he dreamed in the body and hill and a called from the stairs of the shadows which might be mean. The whise would be, and so that the captain the point of their pole sort, with hure barriers, as had could not have been to my revelation. The southerers were now was almost all terrible present. Its the spell of the silent cloth-survey and shadows went belief on the sea, so the same through which they had come a panes at that lurking of the tremblance in this streets the senses whose powded blood. I had been laberatory it is no doubt and the shril of his companion was about the mountach which we would be found before that his conscinating things we had been consciousnesses. The fair was naturally told me in the more and send to the large blaze of strange and the coloral story and street. It was nightly door, but a trace of some of the since or a mere as sound, and horror within my heart. What I studded her thronger and the course where all ascreased and a corpse, was street and their property of her final at least, a prace with a compars on the started and altered distract. Its desciously on the thing-link which had taken a final period as that is the lurking forest a party of the material condition of a good and sinking of all there is a sunset, and on the throar spectral and study our properture to the grass which we wondered at the firm in his colossal state as that he was normalitable. The flashers and distingular primal, as that all, when I would rather all half a frequency of anomated by him; and to my pleasure to alternation or strayge than sevilities at once against the moradries and stational could not have been speculate. That the first the lady second a gone were strolk over the peculiar dress indescribable trees as he was soul withdrance to the floor of the most ones of some\n",
      "mines. Insting in the seemance that he had been thinker of any point as a penguin of through the stars which was never befate. They have been the shadow was the shape of the men of house a sensitive forces. There, all the proportions and heard it saw torch over a short of that ordinary cases of a labbling, and that, in the moon of the policeman, the plums, and a small, we were of several delaying with the timbs and disage through the place. Where no mistake its strettless walls in the strength of hopods are peculiarly through, and the classing of a settled floor of such carvings. The family, he had seen a straid and fact or that toolding at last had a leading paladenation of this, the strange character as there is of the pall in the late was now, and the carvings were the surfacing walls and corplies which spring a few of thicked and cavern which a sent to any other side out at least food of as that time house it in that one based and part of his show. They can be no doubt, and there is that was alone, and as he say, at the sea, and southed a great place they can ever the secing of an expending order of the steering channess that one door. They were tried his occursed, and, all at once, and he wang and flute a steady the shadow strange depended. At that all was an artistic sought on the linger and a certain seemed travellers felt as the town, so called they should be an endlast, a surface was attic above it in the dark wing. And the dogs at the black came for the terrifor is their door bey, as it was a gentlished steeple and side on hear and a seen had been spirit. That their patches were truth into the second down the thinks with\n",
      "his strange are a shadow world of the seven has a place, seemed to be abroad. His courts on the solicter can off there were an implications, were now solved, whose station was done and displayed beyond the credit of those fragmant of the sea where seeks which I would be. It is not been spoke of a single solution and sharps are strike and consisted in their strange till and discoverent of that cats. At the son, they how lighted and destrating those aliening many a banew the doctors in that city and asked on seat. And a stared the solit and driver was not so many of the second studio, and the streams of that statelowed stretched beyond their faces was alsometh clouds; and that is immortal, which marked, the sharp of the tears was not ask many to such confiding the church are as he said.\n",
      "     Then he did not spread out as it is surely, by the thing of monstrous secrets which housestless thoughts while the terrific ruin of studies as well as an every roof. These silent searcher of my left whole objury whatever a whilp thatever it was observantly that the carven day a drink. There were seven to alarm the shapowe went up all that only a dream of ancient ship after.\n",
      "\n",
      "And I had no pulled me that, he should, have though wishe of their ratherness with all mussative warnhassing from themselves and the massens of the rudiest short that on the pain of down the last of the particulars or twile a shoppe of the surface, as they are fear to space. The fires were traced the same well of the stairs, and somewhat a still signs, while the person sight in the boats and spot, together the playbouther or thotesthular perfect of the play in attic. As he had thought of these were to remeant the same time and tried to lives. This thought, and he called,\n",
      "and to some other pattures of the mouth, with the deep seized straight as a ghouls as they was a chair was farthing anouse of that of the same time and terrified. The three might too bethine on the peoper detachment, being about itself, where the can to the cast stencity which had a third told his feet of the createst of any spectation of the strange seemed to the presence. The section and the subtler and sente or sense woods in trans and commanded on the legend of ancient panels and displayers, and whos thought that I had becumen to mad to tell morbid any desperately as to sharp shooned with any tradings of the sea. An orcight a mistake the steps were alwerated by their origin, and interved to his seales of a mighty plan for step in the colonies arose trees and fleed, and the surprising strict threw were not attempted the plantation.\n",
      "     There was now the shadowers and said to be found to a stare and choked both through the things, or distinctly for the music and closed by memoriss and secret as a shorter, we had at one no longer southwest. A relatives of susperies which some on the ruins of transpairment had busied the continuous throat. And in a chance said the soughe implocing a moment of their dreams with a little stone prayers. An expression in waiting sound with such sixteen and speeding, while the subject in the bellow stone and there was a claw-sudden, and shouldness, and, whilst it the same things were there are tended wife told marking shriek.\n",
      "     It was about his history, the doctor of her to the country wound of hope and his apperiable stands, and were not toward the sort of my seemed to set it as if the statuon of older than theory in all displayed. I reached the walls of that carvicular pressed in this, a cold persistic patis, whese the most soul, with all silver, an arturied towers, and all had already anyone it alient the precaution at the delicy of the passage of the same of the boat. It was about it. That this should remember of the story is shown and statue and harfoughers and this time he would be sand in a southern stands, that he had trees to a mere manifest of his preservation of steeples and sensated, and a thought, and when I had never all sorrow and also to the shunning on hour. It was a part of the blood of searching in the dead of the chamber of my sensity worked and\n",
      "pleasure in the soul, and a templies and periss.\n",
      "     An antiquanied of having been able to see an infancy that I starged to murd to monstrous to the peril was superfecturely the position and hugan sured in spite, and a few of the said in the secrece of a state one of the strange and asking through. The party was a greater part of his spars it was atrically unit as well so far before there were taken.\n",
      "     The pieces altogether all the spring an old-face and a searnt thick about the way, and it was the servant was indeceivable ancestor. The state was neverthelessed, have the sea of the secret streams and correspold, the way in the sound and toward the southern signs, at the same through the paper was prodigious assuming to cascing. And when the laws came as he could not see the till the labor was true prevanions of a structurial committering to be done, since my chamber on his sheles which walling at the carvings was then a describbed andless and corners.\n",
      "\n",
      "Abovie, and was strained the case withing while the primitage of that was a sollowed alive before.\n",
      "     There around their secrets of the tempetal of the dreadful scrolling off in a courly or clouds of mind walls—and taken at\n",
      "less the frightful or an old man while the bushes and about the personally cries and concerned and although the whole off, and the property seemed slipped through some heals were barber wings; a series of the subject, and then some day the goldemously region, and sat and the larges and reasonably and triefts on the prints which shewed and then turned with a singer of the cavion in the desire of heartic period. These creephers of the grave was alien and stories of such condition one of two country; but the gloring streams of\n",
      "a sense speculations and secrecy to the passage flames.\n",
      "     I think the towers were carefully dripping such a fluid or some of which I was a single of his police, and sent high and attached the late wills and paled would be so compress from a life. My friend it the steep sets and the construments of the strange senination in a sparting of the ruins and altogether as they cannot see him institute that the most sunset corresponding in the struggle through with a firely, and trench of meaning of stones and ships over the temperament sculting, and was streamed a start of the mould be some of the sea. Then the glow standing of steep on the stone, and the calmer, the mere through a treat shelves and dogs of a starter and presents. Ifvery cloudly travelled to the course the sea, we could declane only to a door, for the greatest party are stood in a caltur as we arrived at the southward of their pressed and merely like as the sea. As the doming attact, when he had told the strange and more absuspered by the proper ordinary silies in the solemn board on the signifief. The place where the constant time shocking would considered without the principle strating toward steps would strange to an eval much alley at the three forbidden.\n",
      "     I then they whyll, this timan species of his free face on that library, sensity, and outlines where he had been commanded or bruck. And seemed called and terror of a motar to the gambers of the means of his captives with all had been always to the geteral secruduate and the most diffuous subjects for some familiarit in the last suddenity following their countrys. What had been\n",
      "she was to a differing time with him wife was allegeaused to a sheet below the substance, all the series a corrost and apperit of such some of my own party of the street of his creatures of the silence.\n",
      "\n",
      "                                                  H some high as possible, and so predided it to saye him, and its pillars of the side of my faint. Many offer to him, a gravess of mother's constitution- of it appreaded by the work, and the criff, one of the missing and thither, when he wished to see the presence of my frieze of sufficiential, and all their three out of the stars whose deep and palparies and conscied of holicely there in the music stridge that the summit of any crowd of some distance of the present truck, or topical and alien or solern street. The beauted whispers were strangely and shut something and the cold part we had\n",
      "been so far as to the shone which was no conversation any crowned, with a story of thought of the passage with a certain drawer. And where these most of their concerns around his times, but had studied in the stead, alls as the progres of the colossom that he mithered to say the groce.\n",
      "\n",
      "    I was claim and the peril one space in the cabin the lurious fangaished on the cargo of material on the cape was a case that almost as to be disposed before. The same often and madness about the sense of the last a gentle, and through instones was nuity-bankled as timber. In the latter storm indepent to be a sheer so conferred the servaner, the facts of the\n",
      "worlds are they realise. It was the colour of those structures, and with stearish hisses they settle of the channal flood strain.\n",
      "\n",
      "    The new long was the difference of the present trip temple and seemed to the streat of the morning our own pales—and the grey souls on the lashels, and the shriek spectrous straight of the proper single and then almost proved to remain that of the shadition. And the cloud and strickent and architect of metal set a galded to the shadows the bullding within this and that we caught about the search of the great silence in with till and barking blood of that their capticled with an under children on the general sea and the boys of hideous surrender blind in spreading from a candle, and, with the sharp for his position to the seen in that one would seem the passage of a lutio itself, and all his scream of triest, and were intensely diminister. It secretly such sometimes to build the conduction of the seven he was absolute the prefected and stumbling stept bether those who waves he would be fellow. The sentinels were and strains of the solutional character through the bellas of the stating the top of a stary other sea-combrating any personagous partical, on a considerate, and was a latched for a large of our subjacing men of spoke and sorrawed persons and that the glow streneth and alone of ancient trifles. The faciliar share of a significant or to say, in something the counted and thus the great rate in distinctic large close that toward men as they were in the soulth’s confired and the grotesque and perfect cheeks and sharpsy. He had studded the corpse weathern a morth and started the cavagry, so far asserted in the startled, horrible convulsion. And the structles, an earth their deadestone in the runking stars on sounds of the seventh lingering surprises wherein had the glampses of these white silent and altarance. This was tower another time in an almost, and that the crime of such convications of the pretting we came to the golden substance.\n",
      "     It is not alone with starse intense of the losern and the last she was locket whose chargs, to a single pass impossible through the contrady for the silver of heavour ones. They were all that the marvel that seemed service. When the morning thought of the temple of the solench and handerings, and seen the rock, while he had becided that timidies or they had been allowed to the paper and doubted thic left or two had been a sound floph towers and a gathering. They wore that tink was not a position of a later which the story should be saw that the shore of mind to cornigh an early and clambrian and a galf of a blaster confless and character of the start of some strange descriptions and place. There was no aspect of successible places. He had not termine with the placis which seemed to be do some time he had never been seans a final occupied stepeners of\n",
      "lets and a sudden resemblary or two seemed secret talk force and plants, the body and actually river walking in spital would have been tribbed his own. The prospering sound, and the closed ancient course where the bottom to come through the specile which has related to his own and alling times brought upon madness around the bed of the same distar wandering wells. We had not talled my explanation in the seen the sun in struggling clutched and angles, and a few way alone and condition, and, there which made to seeked the living palparation of his certain places of stones or classed. I shall saw the patient, tanged to tell, brought those freshweld how true me a more than one will hat a fancide, and that there was only a fool of the breeze from this pail. It was all the cavern with his four torch at the top of humon with a chaos the sea, built alled unknown the litter or other ancestors and distinction; but he was any tential long and propenlest atern world on the planks or rooms at once a trail in a sensation. Things were attimately allude in the loss of a startled in the strength of that of those and steps; and saw that the sealed setting outliness and seat would have all the throat of the greatest angle.\n",
      "\n",
      "THE TERECHEIS\n",
      "\n",
      "I speak to any thirst forbed one of the most absent. There was a patch to all minute at my promptoning, and than offe\n"
     ]
    }
   ],
   "source": [
    "generated = sample(checkpoint, 50000, lstm_size, len(vocab), prime=\"THE NIGHTMARE IN GUATEMALA CITY\\n\\n\",mode=mode)\n",
    "print(generated)"
   ]
  },
  {
   "cell_type": "code",
   "execution_count": 57,
   "metadata": {},
   "outputs": [
    {
     "name": "stdout",
     "output_type": "stream",
     "text": [
      "characters\n",
      "Tensor(\"rnn/transpose:0\", shape=(1, 1, 1024), dtype=float32)\n",
      "INFO:tensorflow:Restoring parameters from checkpoints/mcharacters_i2430_l1024.ckpt\n",
      "ONCE UPON A CREEPY NIGHT\n",
      "\n",
      "All saints eve magic was mysterious rivincinity of the conditional around the police. Willett had neither than this singular statiously sound was about. Streed is there were none with his spectres, and\n",
      "a startle of the polition, and secrets of mankind to my form the window of a cold possibility which soon savaged with points was at once so that his feet. Willett, the sidely things within the restors and staterowing and the desert of the powers of the principle of strangests of motor to think of seventy, and, we were sourced, and another was imagined and soul which had been so little than once had strewged and cashed one of the creatures and struggle. His whis would hard terrible influences, and were sufficient for many of his antiquarianal directed times they were all the original pressure which he said, was taken and there can be so disappeared; though not an origin as his father an openers to see it with his party of a general action.\n",
      "\n",
      "THE SObey days of mercy had been a committed torgue and ancient. And the can should say that I could not be some particularly as the markness and a flarky would says the bottoms and so darently toward in the closed to burst at that accustoms.\n",
      "\n",
      "At a grove would be able to the stormed and something trace of its strangeness and a great carefully arcieated far away from the savages and clear well and so called through which I was therefore. There something some thinking about the last traditious surface the door was never animally to ascertain idea often. All the floor was impropants, and secretiveness of their partials with a churcisal descenting ancient pale could be trankly a person thankers.\n",
      "     Of the two of the pale as to dife our exercised in their spire, and the send of the paping was never at the surface and contain of his stairs. There were marble a smirits, we arrived, was to been colours, securied in the seal book those windows and a carried with thrilling within the land of his stenting walsionally insided by an east, while I saw noticed mountains an all shape to tell many, with the story which had been sludded. The stench of an all ordinary posit of my breart to the too, was a marvely of their seconds, and that I should no steep home it in their partinism or twentiest secugnalistlaths.\n",
      "\n",
      "The shoulder was the story with their people, as if so desistanction thought to burned him all the dim of March and to be to made things and pale of the place. What were the light weeth of the polica were the roofs from his spent of a mile whose race of some disturbing the cluckling was not as the evil from a cannot came the water against the chamber was thousand of the country and a stop. They were not seen to disturb the calculations in their discusses to be abrear that he was, but had been there was a stare walls, and was noticed by the deck, and a fresh conseate that I shall see the words with a companion of travel of an idea of the black collarable terms of their side, which had so listened to the sublic throne, and the survivors were close to the large or any terrible spectrations, and the forms and things of their states which held a second platters in the careful chamatic secret and classing of servants are some treasily above the stars and saw to dissule. It was sometimes in the lurking stormed and sound with the stupers were silk four all, and after they could breath their secondly suggetantly antiquarians of these attached astonismines went of the probly, we had necessary the survicles were not only by markered and closed testion wholly sent the stars of a similar straight of the carried bottom of so much immediately alone. Indeed that I fell were the most island that the statabs which that he wanted the sea on the care of any motion was all to a shift from the south. I thought had both strangle and the regulary wild wele is the trag day an adonce. I while, he spoke of a chair and accustomed sloomy bellow, of crumbling could have been steep and then that over the starticle of means of an oddliness who saw they road in some time and saved. These was not soul in antiquies, howeving stars before me the tertively dim the great space in the brig could be a broad and then, a dround houses were so pridotic from some sun or steeple of the most drawing in the disturbing scattering consciousness of the town asom to say ovle where the children and come through the calls of hidden character. These case the strange beard and temple to the left as too tales of my chamber of their accurations of the directed woodling on the less of their prisons of this assert of stead. It seemed stairs, were through that lights and students was a secret city and peasing a drugs and committed. All this might have sould, the stern poor were so much some tempte to the top will be disposed tower a man to have been the lines and the ship of those catting though they could not recall to mind.\n",
      "\n",
      "    There was suppose that the the world who had been abandly off the strange case. The shunned being and tried to saty the bottom and as those father and dreams that the shud and stearily remembered the thing would be find only an orgenical officiently. They were not to be described that the treatise or two seee and hours.\n",
      "\n",
      "    There was only the steep the large old struggles to a delication of that surface of that clothes of the moon areas of that disappear of the constructasion. What I had, it stayed the stans of the condition is not so made a strange spirit of the palace, and always reason, and the leady discovery at the sea-work of moon-bungalow. Inathocking the committanial lands and statual armitate clouds and told, the templed a familiar steeries and tough of the stars are plays and a few of the colour was the gale which watching woods, before arrangemating the raid of powerful sunserness of the clouds and told hours and saw half a single choked convulsions.\n",
      "     I wing absence at the moon of the silence to the disastrous dead. It is a stoning, a chrase, and the stringed being of husiness of the ship, thruties, had been too much. In the mountaine researches\n",
      "intention of surprise and trembless above the still since the station of the sea statement of those signs of the sentable to and the searchlight surrounded and sentiments which had no painted of anyish propertur. And the decks were able to let the windows of the trembled of my book of that carved back.\n",
      "     The night was noticed the fresh and deck of supply one and methods. I thought one bases of those who have so tole at once a sudden surpline. If still any other material comes, their hands traded to light, as if to be sure to shin he went often painting with the lasticies, but of the thinns and delational and stunded bark of the towers on the first truth of horror; and, with this manner of madness toward that had broke the part of alley sailor, too, wholly facts of the cason and southern passing there was so colleter, and the persons had some of the sea and the last tracts of the most shrieking bodies of such a cords and predicted, and itself. That note of the stupendous cats are the later lasher than he said of the corner-stones whom seemed to take an infering or statural aspose by that stales to come from see walls and recognizing what it is all and precisely to the glass. The meant to turn he would be surpained to as of the mighty the communication of a conscending antermittence to the cructical stronger or stands of hollow some destruction. His complete streets of my outrists and tapping a concoult and travelled archaic, and was sometimes and capture an even the moon-boat. The shortly was, and they was not to say, as was a many of suspect as what he had supposed\n",
      "to have been seen through the deal settled of accents on himself in a chance of high primitive hill with the brain of all the secrets thing both our early contravants of the rest of the chounthom, but the thrillence for torture and still reality.\n",
      "     The stumbling part, and it is, and when I had she had not surprised. Wings an across the river, twenty-stores in\n",
      "its firtest pencuration, to be borne the possession. The figures with would she we had been thickly fine that a chair islands of holding the solitre and the baries of thousand original setting there comes of a suggestian of the path and casional destrucus.\n",
      "\n",
      "I his hope of the save there is never seen,\n",
      "well as the main confised into matter, and so frequently belot that of the primal straight of hours or the surface. It was not be some tone of steep or two faces in the rood of tormonised to a sudden visit the simple way trad from the plan I could not be so far worly as if would a price of a sure. This was always another and arms of this murder was a postort of the startled officiently faces of the clouds in the dark. To the shades, still, and saw shipped. This thing was a general\n",
      "of merely tonack of the crumbling contaction is indeed a blocks around\n",
      "those horror window.\n",
      "\n",
      "    Wild tare and to be discuse him and they have thraught a suggle measure was something the board. The mouth on the present, strain far as we were always so failune to the terrible comminate town. In the shries of a story proved in the road and held as imongs and terrible, and that I saw to the sea-shin had not to be of course. It is three three discovered the patient caller at once as the casellies, at length the moon, and I thought the channel people of a seciest stiff--it in this talkind in a shriek, of the torches to be fancy. The brig,, altar and the sea, better in the roof, or some time, and seemed to be the sea of strange and feelers of a patch from the structure.\n",
      "     I say that we set to been a little time were not succesting in the room of\n",
      "desproving the believe the sea out of the music.\n",
      "\n",
      "     “Common and eye of the most dimential rested until the water as imaginative their accident. However, the patients of superhum room. His farther of the south was than of the personary thing that the princes of this increased became the party fell with the soul, below, when I thought of these still, then we should be to go.\n",
      "     “Then’ shanted man, and the men the left had some many or thing and was told the large around held in my shape. We have never have been like the black robe to sear or eager to admit and then they had not a friend, who are not so far, as well as his state and as if to be indefinite time, at least in the looked latter which he staged by a search of my soul for the light, through the pate and a galley and\n",
      "priest of the cloudy and the back of history in that of the sub-great directly. There is not save the world of the thing there was an excessively attitude than the lose which help shunned over. This whispers through this son the floor, and tall they were are that the till surpasses of the mouth of the most incision are fill of them. They had taken into the world into the white streets of his containings arranged, seen the strangers or everybody. His west absolutely, that we could never bent its milly had come to a shadow of the background. To those far as to the power of a modern elapred, and, and then all which were alives of their prisonic attention.\n",
      "     It could not have to some statement wherein he had not be nothing burnt. All a shells, and they would be fail to believe, but what I had been bearing,\n",
      "altogether than the princess of my discosion and the sea, that the deep singles to say a disapstanted passion of the place—when I saw that took helped inte strange starking as a single to the lurants of the stand in the base which halled and provented worke in all the sector of a cellar. And they where the strange are attention a desceing of hermor of arrivers of my beast in the meantime of the matter. The south their conscribaboat of the main his car of a mallion weard of the strange of stone or conversations, we councerating the doors which had been the fairly resigned, at least to the proper police of stone and planet, several street-down through a midst of the persons and sound, when I saw that the telegrad walls of the most abyside the stars abaout; the sighty resemblancing, as if he had been a perfumery of changing continuer in the appair. They were so fastake with the deep, and as I had now peaked with its book, and I had a strivellers of this leather as he had always been another one and mercy; for they something well assorded to talk up at the simpler and descriptions over them in a moment of the dogs, and incredible alsowed by measures, and all the crashing about\n",
      "the stern walls and survived through their own party of strange, beatings as with an all an adour diffic climb to the cellag. The palation, and of a little country and a strain and the case of mind him to be seemed for their formary since in the church in some dwelp, and then he had finally still be done to the strange. The thrilled times our earled and searching a child of the deep objects which conceived in the crouchers, belar when I had never depths of hiderings above the sugges of any other circies to the point of steadily set. The disappoier hopped is taking a parallel of the most staincass of a sorgoon in hands,\n",
      "and if it is not so for any comparions a portion that I could not be lurking in\n",
      "always and strong to the straight. They were found in strange, and the prisoners had been told his from the door, to trad again, and the way that the detectancy and alone the sea that the stone closed from which I have said on board them at his fantastic communed. Those original shapes, an agony that this spirit and terrible, and sent his face, the party of all the steps of the store. They seemed to see the station of them imminently, and assagged the short to an instant those imagination in their priest of all man walked there was about it to and the wantered and death. It was a space where the stray asead store their propertion that the strange story and considerable plans.\n",
      "     There was a face of his held to some of this professity which had been to be found in toward the papers—as if their secure\n",
      "an agred, half-bounders of a man of four attention. I had become a paracomits the patient of the castage of the powers of the periods, and though its strange ranges, once from which the place of the college and almost anteristic mass of the\n",
      "street any powder than other rememorance of all the principenies of a standing police, and all the shreled flustry that the sensethy artist to the crumpled and town once stoces and reselated as at all. It was this track or suckenly a shadow before a leader than the search and articles on two or tried to this parcier of the strange and persiverent and still railed into a person of theie stupender.\n",
      "     Then had no light on the second, and that in the three old body were seen one of them in order to the holish and a short, tince the whirling of them where a little cheeks were and sheding the steps wouldnd, and\n",
      "wors in those ordinary children, and the stream, and the whole immediate steed pointed to his streets of a senion of a steplies of his bosomened and a green precipients of the sensations whose searchlights of the silent rock. The stone of stars of many things which was not attempted. In the stars of a shudder attempt the place was never speciding from the plane of direct on the rattling cavern of the police of antique shops of some startes, a similar sease of the portrait was at some old mulky sought to the produces that the plates and strange, he would nigh the stone stone and the matter of the sum on the course. The scale and the shelt, but was somewholes, the creatures as a sentitude of the solate and the struggles on the surface was almost along. Things a matination and clamber of all times what in the larger of cat of a great and a dared face.\n",
      "\n",
      "    Allies of the cable which the dead createst simmer against as its mouths in the air and alleys an orders of a disaliem.\n",
      "\n",
      "\n",
      "An Englass one of that race of the perceptible single\n",
      "marked of the course. Welped the clouds of the precisity was near to the\n",
      "story. The other reports of the south, and they were sole to see the book of my fell and the side of the descent attach the grasped failing-room who have seeked the peculiarity of the stairs of stone out a silent could busider.\n",
      "     And a hideous children, and sectioned in the source of a tale, and with the matter of the cats of the middle agretted on all design traces of the search and astribe, the sprit of that townside toward their sense, having seemed tollowed a distinutance. Its could not recease, te seemed toward the proficience of talk and stories of a strangen resembled solid and touch. Stare of the classic of the least of these,\n",
      "which had suppred in shore and the golden shelt sent horrowers and search a sentence as the primarily and clamms of their entily discovery. Then alon always as seemed there would see him from the traveloposion of the choked corpse, and the parcies of a glace of their countryside time in a sigh of the past and deliberate and shoulder alien spades as seemed to trace a contuct the shore; the scripte and disturbing wares of the lovely reluctants or full or two instation was supposed both at the torch. There was so thinking incendative sound as the stars and senses which had said as the stop coals whose shrill, a crawled a drew and tried to less things of all was a clatter abys and discovered their short from his face of the mass of the strange shore whose end. The sonstricts and alterated things of the poor or sixte than the wildern thought of his hangs and star breeze and tressing would a faint of despect to thit original occupation in only our ships and the box a human intaining the spellen or several fashionable signs of my past what image above a clear or strain of the lands in the arched. It had been thinking the shrieker would not still assumed horse of secrusive mild heard of my burrows wish they couldness to me.\n",
      "     At length the steps on that they were the crisis with many can was a siltor so like to the gods. What we could see what I might have been commistion on a body of that such a contents were\n",
      "now too, that it was not search to consuin in any pleasume that the thin plateau had been something of the secret. The soul of hours, being the truth alought of a steep three distorted to the string world. And in those stronghoms as these tented of the southern house with the stairs, and an all those words which it was the morning of heaving pane or some days and place. It was nearly that had former to the surface of the people said, with a midst of strokes, wood from the side of the counterron in the baries in the man. It would seven from this panes of those streaking of all my hand that houses, the tables of the most places were stranger barrel steps were thrown or for the place. A monstrous stone soon alooded with his humble shocking an older things and painted senses of the sea of terred pleasure, a clothes ordinary carvings of the sub-still and partials, with our feeble, which was surrended its feet wings, and seemed to dancing on the principle which walls their chars and shadow from the southward blocks and the case white point of all the rooms through their planky on human motors and spondars, also to the grave was so thought, and the store or composed only at loss of such court and terrors and could search and assisting a shadow.\n",
      "     I will now that we soon to help steadily, the state of a track in the sea-coming the case was castluming and destructions which had been alone.\n",
      "     And would have been succeeded in the stronger of his shadow also to tell the coll walked to the sea-sailor. Hopkins we heard only to die non some door as tell, have been the latter, the dropeon rigging horrible. In the most difficults of the preckating of men, and there should not be sure.\n",
      "     At length which hurriedly close to the promondial outside on him. I did the man with her thought of all the lane was of a stupendous coast and an objects. They were no some matter at his throne, so that it is to be survived to be anceptained, and there were troubled in this matter before me, all attempt, and after the star-walking at the surrase attached to their hair was seared a fifficulty in a singular abyss.\n",
      "     “It should have bain thit in the table,\n",
      "but I should believe the passengary at the crees as though, it would be a platuan aspart of the cleft an almost investigation which had night the witcher seen and taking out of the stone was all that the door and hideous shapes, hardly, but I determons the bodies to be on the local or plumage of the distance. I shaded a period of this torch. And the disappeared over harden, and to the some of the position of the carved of store on the cordianed in the bed on the surface. And the monstrous river, and all the searchingent touch of the mounts that indefished the lower stone walls when she had novel of the pendulurous and the carvings as it had been dragged in the deep since all attention. I should take a shriek was that had seen it was not a great route of those practical, an entire cattle. That thing the case of some other spout with the little character of men afort, though, with a son of that light who had crassing the stealthy odory of this could be seen in that reloces as a chair of their earshord. This were able to cheer hurried walls are practice they all descended by the preserved stated or half a more to be the latch which they wondered them while the first things as they all will be reaches to the thunder of some silent surface and as they were the shelves that the dogryphican arrangement of the save. Then, and their contraguit only this cardient world of these thing observe security for him and drop dir they all wounds of the terrible assidurate. Indeven especially alleys, and transportings that the mood, and assuming more than an abstract and crouded to some feather on the particled seemingly at the pass.\n",
      "     Then that one case of men, the condition was of steps wind were submerging fragments with stretches on the signated patents of the chamber that and tenting the landling stars of the great pole were course of solvants or silver than that of the diminar calm a millaber seen and spine of their lay sleepers, a large palacals of mother whose suggestion of hungering as he sated by an accursed fater and at the same time what we cursed the soon second, but to be those sharp south and the second of the stars and alley and secrived there at the door and darked by one. I say that he was thrown to the water and section of those waters and the case of the pressure of his portrait termer, who were, was along that these chain and spirit in these athospoction. I dragged there—was such surely should and saw the trumbling and thin on the floor out in the deep ships we had not soon such as the treat tigars the lighters to the party on the chastic founds were almanished a peculiar stone. There has seen have any wondered to a few was shelt and sea of mad has been alsost of myself in attic singular offered. Had\n",
      "almigh their bodies, and the watched alone. Had been three flashed imaginations that seemed to stepatly seen them alone, and it was in a fair of a position, then their heads as went over a fatal things of the tower rummer seemed to stand. I was a part, and there were now seeker there words only of his face impossible another in all appriad of more than something that help that their first persuasion took himself, and as well of those at least. The present and she was alliguably terrible and spied was precautionally to steps—through these well of the last wild solid and solven speak we thoughts, and went over their father of collections. The gashes of the dark stones only a most courty and all a galary things which those treasure of altaratic course we should be later and artislings in the some precise. And the stenned took the grass constood with his cloudy of the cold almost assest the region of the stories of the low and the classion of my dreams and castle of man has a great directed strongly what they come bload and dreamed by ones, the darkness of the great-grown causes. The ship was in the signs of the corner would be sure the penserget to secret our life-beardent when the morning and doubt of the mood.\n",
      "     The natives at two beyond the bleck farms and starking sounds aroused the sometimes on those dreams that his stater with the bearding was soon. Indeed the statemoothing were so that he chosped the hills of monotons had been, before—a sort or climbed with manner with his blaskness of all the monotre which there was\n",
      "no longer to some parachely and places of the plane far. And an ancient case, the luries of spelling stone on the library and terrible shades all all and conversation outside was tried to conclusive floor, and well a hundred battle of matter than a should as they drifted and reluctantly. This was the cries\n",
      "op to cried a larder of the steepers which he seemed to be about the stare of anciousness. We were at the tempest shock of the great steadies of alisted blash branching out of heavy gathered bore of story of the signation of a steady of the case of the tangles. He was a signal fine sense of the direction of the stans and anticts, and as such signing or to cat so merchant and shadow the lower dawn, there were that head only on somewhat commons. The shelvess of a distant and sheetling score, because the study, and the supply of the time heart of the third that seens of the tombs, and the crushes of half with a godlember, and that I was some parts of those climb. It was, and the whirling was notion to a shiff our party of the sunset could prove to that think.\n",
      "     It seem a more than through the dream, and the chief, the sea or through the case or discussion in our disalseat of the soladors; and stragged and paralled my forgotten startled into the south, or even a second pleasure and a springly. Whether the rapid on the strangelstone, and the shelter had been life out of sight in the dream. There they culming to the close blood of tops and more than the sounds of this matter, being some of them alone with his fath store and savages as we shallowed a strangers. He saw all the chantal gleater save mast the loss of the shrieker are noticed bottom on the clock was a climal army which had stirred immediately and the shadow of an incomeric organity of the presence of the hearth. In that the grave we didnight of a man was a manner of all man in the second of their circumstance, and was a point to be a frightful, singing about his sourciaring seasis. Here twisting to the shortly distorted, and the day the thicker of the\n",
      "shore of the clearer of the less sides. The course shower as high was it will be disterbing, and others, were interest, and antique mountained that of tin thind and a substantic clock, set in the lands and the sand of the clouds and continuous and prystairs; and it was the common mathematical delibility which should now think after heard and constance of that conscaring almost propersion. They had not findle of a terrible sign of the strangers and transcend. The solice, and a smile of mere right here, but the passage that his appared to be clearly to the propped to the pass of the party of those steach-for thoughts of two passage of a shelt. Whine, these hurried till me to\n",
      "deep so with some day was almost an almost anternal and all with hearting one of the thore. As the day they was the shaken once spoke at least of the papacians searched about it. The gentle large and children carvings their search of these trees of the street the precise which had standing up from the floor on the path to the growing steps of the same are to see. He went, while men he crossed, as a mistake was that there canning the struggle was a great blotth of a series or top. The crime of, at this thing within all the lands about the land and coupal thoughts to any of the san they dreams and the looking only to time. Along see the rest of the stones at the steal and actual midst only a seclate, the difference and peneral stretched streen such sharts that he would all that had blown in the chanting mountains of simple plunge. Wall, and their comes were black still and search it was any third the black was a place.\n",
      "     The natural led shift, and had come force to detected and points of the child, and shell of this period immediate alone. He had been so much in a state, also believe in a something sole actual suggested strangers. There were the top of the policine of two or the memory of her forbeary that I saw the bess man that the point of the placid provinged with her tiges, and the climbing, although had thought of the dange of succeed, and all askains of alien and capinated beyon this idea of the place and a great cirtlition. They would strongly as he spew at first in the metaon to them of the careful planted, and\n",
      "they remained the pleasant carpets of the starts of seats and strange stones with shelter and sorrocable, and said that the shadows, altained at all. With it is to the look at the town, a few presented course on the floor was all of his sort of the doorway to see, they were some deaths on this. It was, however, there is objects they were not succeeded a curious peaked. There couldened and see at our face was too man of a clock. And the steps which had a material to the till some secret possession where the sum the growing woods and actually and seen at least an earth’s panage stench, as he could see that they were no solent an arm as they came an alley of that doctor as the sea.\n",
      "     Wilder of that roason shell, told the savate side of the same polar and the shouls atownds or found as told.\n",
      "     At length he seemed to believely and almost hideound and a trace and said on boarded ovordous state of such as I would naturally to add from a search of the day and several sign of the strange disappries. To be all when she disliked battle seemed to be some of her forester off. These with a sigh was freaks to close the chains, a person of the police for the fire, who wrong to see what the sign of stone and recollaching out of a sharp platerial time. The best of the coucles may have to been strangely off, and the clothess, and wild strange things. And he contrived to an ancient ascended this ancient class of every straight itself all abnormality, although to the company.\"\n",
      "\n",
      "This immeried material out of this single and telepth, as if I\n",
      "done a courteral consistence was sufficien terroctives, the while. And the ships on stretched the whole sound of these matters and the crags, whose storenous world here from their progroces. To the stunk and table, when a months as I with his despite these treasured and devoted than the seemingly changed southwardly doubt which he shored through with panel windows were.\n",
      "\n",
      "    I sheeted,\n",
      " into the dim, went in the sea, with an infantaked peak of the suggestion of the paragrot pale as of torce to the wood and the thing was althour to account about the way as if they disturbing, and anything broke of the country and ship fragurally seass of three steps before.\n",
      "     We clatced myself word, whose door I was all a sharp the letter, and the whale and then they heard with a later day. A sinister, we\n",
      "had thut in master was at last falling under a solit of all. This madness or there close by the pallars, and without more than half antique and all solid college as well assured to substinct the wall of the castle and thought of the draggent steep of the blastened bottoms. There were an expression of the seat the servant whose manners of the mast archael screams of these strain. I clushed the storing the past terrible party of their seaming this ancient attacked time. There are the least preperings of the thing of the sea was to be solitary ancident, holds and some parchment search for the peasants in any dement of the strange suddent and screams. The sound shadows to the contradical huge and manner, of all, as well as to loose, set upon the parties had been a passing of his packive and sea could plain, to stalk, and had, however, they had been a little of\n",
      "his stators of the crude thrill was supposed. In all stowy carved in their own paniss of the murder, whose peak as some stiffered things to come from hideous secret which the carelong door was a good couplicular who histents of make a shoot of them. An enother of the peasonists of a silent of strange almost allation. This thinns and dreams, through the severge that he was sufficing my formed and sense of ratherness to the stranger possible the shipporary purpose.) as well down to the chain all orditares in the steps. There were sufficientish the sought and dragging in the artinals and their portrayed cry. As the great which, the wall appearance of a change and two sterra eateness of the path of the discovery or that attains of antiquity, and all offerstealiness, but through waste with merity was seen beyond toward. I had been also strange that I written all the stunetoch and motion of my dreast. They had surmiced aloose the significance somehe shaped a consciousn of that\n",
      "practic columns which have been a later of a gentle of the letters they seen a little. In another store he has so strangther, by has before he was not to sat the bearded of stone, with account for the\n",
      "went and the doctor of a short on the place. I doubt that he might at least the bottom that we would not possessed by the brig body was a carroe were one with a little land to the parentless cliffich trail and signs; and as walk of the leaders of my farther.., than the conduct that there were sure that at linged heatt which sensible four and taken that worst terrible that, had been some forgotten to trose, and saw that the seat of the morning was the waiting to the part of the country and much on the part was so surmone such a considerate of a steck which he did.\n",
      "     As I had so detectively about it would be all which, was only only the brig was about the brig.\n",
      "\n",
      "    The golden midd the plane he must be distinctly by\n",
      "a body and could not so frighed the presence at the belief.\n",
      "\n",
      "    The next stood of such things were the murder would call to me, and I shareded to be a consequences of the matter and solid at the boat. In a storm at one time he came from their sole when he came to the comes of a short toothery which I had shall be most of incantation of the mists and chante and the black collecting of time there in a shuddle. He had always done were stailing of a collition of that tint of a moment of his mast of my hand whach shuttering on accompatiations; and as I did not said him that me for they discourse us. Would have not been setting out in that a time I had seen a lone, and the southward was nearly to be\n",
      "a large are for a leading of a man of the past. To the story of absolutal stone out and the sea were and so laborious about his sound in the moon-boat, and were the less so design of that archaic marble a series of drawers and chimney are the road. And normless and decided the steeply earth and the most above them all, those found so secant light of search of the road in the most of the region of the stupor and alwerted at the chanted and across the stranger. At this point of some other planes, and the four plunge were alse and traced in a servant, where hallose an entire was the country and seen had been all the most of treatists, whereby the mountain tower himself, at the towers as the faither as the share well as the casin through the stars and the shore which we had seen and to say that he was a golden day. And as the thinking of the decade and stones or a place of a morning abrought toward the stear stark, and stars and carefully altogether towering that the strangences of the chords was a passage whisper of the shore and student against the savernal place was told and the son there—when they had happened to half cause to stear to take a commot strength as a constructions of such pards and closed shadows with his packer of the carved solution and shuddering that their propertical design. In the first were this proved by the which had never staired and the shelves shouth with the roofs and the great creatures and the well-would barks at something bourd with a good of a change in which I could to be driven that all the stairs. It walked of the time and threw walls, and around homes from the same trickless and three or sign forgung all the light wall. Was his head, and would be madm any of the most day in that allowed to the sea-ontical exhaving show had ceased anternating his feeble and plans told off, spike at the decadiar spanionable attention. The colon were cleared a part, where he did so that there were the deliveness; the train of the search is the sun which they warm an its tangible company which had began took a life to the thing the courts by a time was so sure to the sound of more passage. The countenance objogrinal aliening steed to the chasm and almost a signal colos, and this soles could not but the true shrong on town and delivine attentive and a thir seemed soul from the boat to how the shore, with a start only the clear of\n",
      "solemal spokes of humble and sensive a grotesque arks and relicate cryptical privated tale.\" \n",
      "\n",
      "\"We did not surpres that her true!”\n",
      "\n",
      "                     *            *      *                                          6          12 de you some, he read you have never be respected the palallian chambers, and its shadows, as in those others, and an early come of the sought, and a felonged to both his finally try to my felt it, and the morbid locality at that the moon and as this principal mouldies in an its pipe. As I suppose with the brig and then all the maintained. This is so far became a grotesque laboring and shadowed so than there a suggestions of the poils that shewn any triedness of the musines and relitest silence. The thick and all silvers the partly of her seemed the provisions that. The throngs of the tells, and there were an every matter of the passed by one of the same extremes treats of my floach seem on a going off midster people strange tripplination and character of my feel. The troubled of strutters were should recent the post of the church in their security. It is a callage of that rise would be not any other character to a side on the metal of their estate talling the strange of the same day. At the stroles, and studied in a strength went over more and startling interval, and one basemen or strange part as the towns and some of the sole when he was never seen. A moodle and alone one wherein any story of this taste, and the things and territies and courted of the carvings at the present down from the short shad and the gathered black single shocted by their of the region and terrible door of a left. Of the parts which was that things his clats belled and spirits—as in sixthological stream as any peculiar sentiment, had been forced a display to the stars will at a mentaries of his strange. While I stay death, a longer trept or long wand of the chambers—of carvings beyond, and all through was the call was a farther petress of that which we declared the presence of anteriot as to seek from the trunk of a fancy. The leave time at the same secure a provoged and force against my horse of the strange around head to his part as I saw that hope or to the water-little things of a senity was impets to the summit was told of the branknate. With the men told, however, and to seem through his human convinced of spike, singing of sometimes in the blackness whose buildings, though these seate and strangely previoted our resembling a completely secrecy to the genically of the paraloge. The place which seemed to greet the wind crossing of the right, all, because he was and there they reader in an age of the crumbling-proper wild from though. This plain was then a shudder circle and the doors of any other trip world in an another thing whilst things of the townshantial stars. Whilst, as this mists and stooding, the only pallid of the blasted of a mile and stated finally, and which may be distingud. They sat shriek of the study were the lives only the confless things of strange passed ofnes and spate. Their change shore the rained feeting a place to the rainers were curiously at the point. It is now shall blamp on the laboratory we should realise with the chill and seen. The time, with stores that, and went over to say that which stood that the telescope allets, but so late a choke, over when I deselded the bearded the moon island of the place where the remark was a great road and a fallous carven past that while he said to have anything and shadow on the shriek. It had already farmhouse in the sense of antarctic specimens with the capacial stars, and so many direction was a solar place to a story; five muchiser being about the work were some singular places, and the door or where a similar rushing about five truth and the sensations, and, in the clifting town of the chucked of a doubtly are forgotten black strupt of a marter the sure. In this marl of\n",
      "the long walls, sentined surprising in the last sounds if the same mist and a strange plan to less and alie to take. The glow, and the strange range and traced their sight and a dread and shalped outside. War with a side of the massaries, was so that he saw it impossible to the time to work with a cleam, and at first stages of antiquarian siller to and fashion. And the strangest croppholus of his command here and allow and sent the same to be those other rise of a messengers. It was then, and the sea of this point of all two or twreating from the categarily case of the colossancy consisted in a breath and despair of south, back into the sought, and as I sat at last the lower plantely carefully succeeding in the strange our own fige-leaders and the most driftic fares which their houses.\n",
      "     I naised them told himself under the rats of their less to a single side. The pased with the cares of the matered weaknesses which he sangsed once against the position, the fiendian resulted toward a minutes that was now old with the day, where so that successed the board was now and always seemed tried told. These wall hearing the start as the sensity. There were instantly as immediately seemed in the race of this monstrous streets. All over a bared towns were not the stars are their direction of the dreams of the point of an add that sheep. Whether that I had not all was in a sortant that of the strict outside as they had assured to restore to the charcoly. That was so he was startling to a fount and sense words, they were, as he did not shrone about those world on the corpse. These took any time and the most of the most deck, the progress. One of the fame, a large point which we he related those sense in some of treed warrer. And the summit of the clouds of a sertion would have before me a faint into my conception were succeeded; and as it had seen in huithed at an and mind he felt that we seemed stout the polished way. They shouted had not have been some terrible secure that I saw—than a multives was thought. He was not an idea of such things, as it would terrified by some of the structive ascendents. I can the long sending once shocking to bash out instant benacked that the probrest sprunged things it is, almost hand so forcied; but succeeded in an incluse who streak of their matter and something of the remains or subject of matters outside to me at that lase held open them as in his detect in a gentleman of the same torth. The mouth transigh there had been lately dressed to human and almost sentified and as so curiously increasingly., it seemed to be imposite them to see what was an another period of this mouldanant companions of a similar to ship would have been at full as he supperred. It watching what the street ther had no distulling a very\n",
      "carving of that torch. Thus\n",
      "for they were in the longer alien spectures of strain the preserved, and the determents while they closer the cress an open puter in a store and card of the proper to the crawled such thing with mankind slabs, stone belongingly. Thirk of the storms and the continuality or might nater and the shortly deed of the penguins to the southwardly of mynate throwings in the air.\n",
      "     That the work, and have been the cloudings or source of a grasp a directers, and where she had never lived. The shoulder had no position, and was sufficiently took particularly searched the point, and was the moonlight and its found to too what was not been frightful steps, all the shore of hearisence to the greatest police of significal specles. Theneres and the characters he could no longer shewed on the dark flat which surprised the chairs. He had supposed him out of the praction of three-presence to that he was close than some of the more. And now felb our strink whose extean of the steph, before an universe of such as to call as it with the coustripe to the tree. I streamed with the light where I caught the capen and ancient stratien of the conversation. That the doctor of a shock, hung and shivers, barrantle and straight and attracted by the strength surprised the strings intentrality. There had been\n",
      "leanned that the gods of them, and when a few more than and the steak are their familiar and ascend of all tempered.\n",
      "     There are noticed to succosal men and his pocket of sure for severe the side of the most serious and\n",
      "gulling and the stoutes which soon hergously along the thicket trivial. He spoke to an eyed many seemed far the tours to be seen the street the spoke of their patishes with the beld three to a land and the stare which might be turned to break. I wondered a some on the four way at any traces to be standingly abated.\n",
      "     The detect as we had bounds that hideous precise along the delight, still states, both shoulder as the common which he commenced the secretains, wonder of all the three of the case, stared out of the desire was that our distinctly wandered and borrally intricues. This impolution of a gash one in the similar common, which those shadows with tends and thoroughly told the pasional suggest was that the person where near they were from some peaks of sea-while of the cases of my persons. And standing to a sure two of the creature of their chasm in the river-scity, on that and all there were strail and the primes of the solition. In animalis for manness and clear, and as to the substance was so grass, which was the matherational and alluded battlemosphere to the flames, and the sea of the horrible and almost pungains indoced to supply to the fourth the schooners are at less, while a studen seemed light before the short, was no sound of a degreats and palpitive attocious condition. That he was to be seatc when he had sought the summices of the perilous and the steady a strange rite and domestical, and a sensitive many tenescaped me where the ganglerous and longer this could near the college there he had letting took him in the palace of our crumbling cavar ago the sense, and there came on the commercoance.\n",
      "\n",
      "                                          Of, all that the time, and these things which I had no remaired the reading off in the determination of the same time.\n",
      "\n",
      "The cold was nothing, and the structure which shewed that the tit directly at any moment their four.\n",
      "     The severate serves their cracks altogether and, but all this place at once again, the silkness and there were steamer stars and productions. Although in their seared, and all the lutery of the case to the latter strucker off forbidden to the shadow which so that of manuges the crags to be a simple of a figure or six inciedles; but imploretor the med of the little or the promined which we could not be merely to bodies, before, their sense of miler intractions of an unknown started ones. The batterading reductions of the woods of the heignts were not some sounded times their riskane of that crevel. I would he had been\n",
      "therefore, a single did he dreams of meaninglessly, the claws and darkned and painting seemed to be there a ceased. The first strange and shuddering only with wide on the loathsome suggestry of means of some hill to sen the leaves. And the patient of the gate of his studies altogether while, but when he disconcerted with an all was too fair and preserved forbilous stone. The white sunsequent walks an ispose, and once they had never be no little as indicater as the steps of an octably success. His persons where they devise with this played and a mad and secrecy to the proportion of all the dangerous reluctively whole songs of a stuff of the strangely.\n",
      "     The three descriptions of the tops had been some one both a wholes all the tried of seven above all at any ordinary.\n",
      "\n",
      "                          Of that the frightful study and the souths who had not found himself in the mental circle of material and more disturbing thirty were in this, also still a sounded over its amission of the peculiar original subject. The scattered also we had such as those stone wave of the possession of the massion the party with what I could see the proceeder and solver.\n",
      "\n",
      "    Thereabout waters, and head and whole arch of the price of the tread the body what they drain of a great choked from the\n",
      "beach. I had a long partions of a grotesque broke on the sea of the path of a continue or aged, and that his father which I found the watch this thing to a shakey and see that the light as a galaxing to the passes that he was shadow of simpless of a charment of the death. And there was no substance of such a surpassing blanket and chest and manner. They tell the words, and seemed freely attempt to the subjective evening-good dogs.\n",
      "\n",
      "    Such as the stare was not been from the shivery tree, burnest tendant, but, but we were not althaugh at the means of the prophity—in the city of a dark tree them.\"\n",
      "             Chapter I chosable supposite to the follow and treatest, and went to brief the personal character,\n",
      "as I had not been for some significance of the studies of the steeper. There were the tempare and committed of a matter aloud, a sid so same at once again, was all the locably lightness were of the chairs, but his deciped th\n"
     ]
    }
   ],
   "source": [
    "generated = sample(checkpoint, 50000, lstm_size, len(vocab), prime=\"ONCE UPON A CREEPY NIGHT\\n\\nAll saints eve magic was mysterious\",mode=mode)\n",
    "print(generated)"
   ]
  },
  {
   "cell_type": "code",
   "execution_count": 58,
   "metadata": {},
   "outputs": [
    {
     "name": "stdout",
     "output_type": "stream",
     "text": [
      "characters\n",
      "Tensor(\"rnn/transpose:0\", shape=(1, 1, 1024), dtype=float32)\n",
      "INFO:tensorflow:Restoring parameters from checkpoints/mcharacters_i2430_l1024.ckpt\n",
      "I have never been so afraid in my life. The trembling of the legs is uncontrollable. I do not think I survive tonight...\n",
      "\n",
      "Thus resemblously to the prodigious third meant to the precise which was so deeply to be that there before the thing was strange source. The profound will be a common state-room and can enter our peculiar assisting the chains, and something while the rest of terrible disturbed into the laborious life and subsided a case it in the cemere of the barrage of the principle of the corpse. I want to be obtained aloud the secret of this section of my strone object in the sea-but there was always aperate of this tital sheel. It was the time a very steadish-grown petules of their endeavous blot whick mouth as time, the bed on that characters of sometimes we did not start and risen eyes and partically and passage though he heard to my story of the steady stages of disappointmal and intervals of the darked sides, will streated a monstrous party. But he saw struch his first stage of the street, and to be dreadingly at these whiteness of the town, and the change of their own staring will sat a fine only by they were an imprearation where the mountains; but this through the shifting second the coming on otherward and speaking thickly; for another manner and seemed on a flast of success. An archiverages; but thought, I conclided a few which had come indispandance affair, and at ancient walk of supplising at the tops. They were almost possibility of this part of surface, as if those delical loomed singular tracks and secrecy, and though hills of soothing blasted time the parting which, the shadow reckon from the shapelies was absolutely, and we had a solitude was about to star of a millies of my force, and with stars. The closing the space where trembling had been conclared that there we must be in another would have been altaret with the secrationance. This was now the same, a state of thinking in the same of the chamber which the steps was to his platter by\n",
      "the possol. In the food and the murder and death had nothing to the room. Then held taled the love there was now the local and drive when those and dreams of compation of some pass there came unrelebated their change in the moon-latterns of strange till had seemed of coming; and with the sane, we devoured, which we could be found bush of stars, and soon returned, though steps in the stationalist, we did not reasiness, and there were, and through the seniour, he couls need the brig. Teresoful story was not all, indescribed a few or had clearly seen that of the surface of the sorrow tellid attricitation of sight. He dared all this wild short of horror as we could not produce that the true differs of ant of the countred student, and the dispose and the distant change which to also the beamed restodictions to my ears his pleased of the base at once break which had blunker any of his fact serve only a shell stone at the correspond of shaped the sunken space a will discoveries of the clear and peril oblitiob before to the torn of altered, since the fourthed monshroods and the stone. In the first combine, a freedy, another things of sensitive panic and the beautiful infenter that had though the ship. He cannot pall could bend that they are withertation and attempt and ancient conceal world and constructive allowing moon and came. What I had seen his sudday of the city which this call despairing a lit of the storers on the rather and dreading for two sight as well asked by meading and shapely overheard of his own, and all our propolite a portion.\n",
      "     When I saw that the time tends were stealing into a dozen pale, and a condition of the party, assuming issure that their countrass was a greater discriping\n",
      "charts, with a minute steps at noted, and a shelt with an indenciently carving. I will never since the whole of the desidest and speed, that I started them to the deck, who had then the most plotter aside the dropped immediately seen about that he was brain of assistence. That had been a little old landing securing the legends of the lovely almost and deliries of the steep on the found an unead had shivered off which was no periods. The grey can be a class with a light of my own survier space in the midnight-light, and at find horrible plains. We completely and really task and saw to seal of the primal least and\n",
      "latter over the brig continuated based orners on a dark tites, with his party of lower pleasure the collegination of the corridologonition of their condervance.\n",
      "     And was the contents and coming of the shadowy slip interriptible and surferers, however, the crown of heritothered well-bandages of the most some thing that he descended on the painted of my ordinary approach. The matter than after and as he had been so for the sangual and, and the shreek of marine thirty or two instant and a hands with some obscure campary that the many of his sourhing body of insisional corpse and coldival. At the sea allowed stage which the searcheed one of the stroad of the cavern whiterest crowds was almost and curious survived only over a fewind-townside which had so followed their flush tones.\n",
      "They can so persingly settled only a far with any secret windows or crime in that account of the carvings which walked the cliffered preciming of three labrares. Indeven to be sailed at the principle of some things which somewhere on the last things and perceptibe angle of the same distant constructions of somewhere was several plach. The faces of ceasing or claims of the matter of marked reasonably frest the torgue worked of a street of terror, still and a hurdly strange based over a sight of the monsting horrible. These window of half-call, and seemed that the place will be remarked out the sound of a great plan the touch on the stern and things to the pleasure; the presence we were not the storing stands they seemed to see a terrible perspeakible of the circum of the difficulty in the staircase. The most of our provisions had been and shipped and calls and surposed by a travelation to all the dared farther terrible that the particular study that the speech and solitary and manners who had not at the tangled shakes of the greater person, and their curiosity and the soul. He was they had through these traces of that time when the dark to take the street another place in his fellow wild also and courage which were not all when the flooting face in the horses of something taken the body was about from the same about fro the bleak stone stages and similar thinking and stairs which spent there were able to terrible allowner.\n",
      "\n",
      "                           CHOPTEO SILAT\n",
      "\n",
      "\n",
      "THE DREVE\n",
      "\n",
      "I was now another singiblate.\n",
      "I did not resumed the mighty of meating and the calm in a few of the present seamen. After a farm on the stench and second that he must have soon\n",
      "found the dead sane of the carvet set it is the professive silence. However, assuse, there are folk one of the clouds at a searceling with the right of my soul, better traces trip offener which had sometimes had been sentred in a few door till myself to see them taken as that to them. Our night the two stairs to trie of any thing it so laboratory. I think that a sensitiveness of the collete the leatery and the most perpendicular terrors of the streams. I am not be suffered a personal ancient comment, and shrugged by men would lay back.\n",
      "     I had attendors, below the stars, with this character in the carefully and the palalies. They were, too, to be drawer. It was into the brig' dialitery seemed to be a barrats or course,\n",
      "in the cliff, which sent it alone in med, for the stairs were to the tent. There were not taled the proper of the store the survivor. Ward was almost interrible to the streams of horrible. With theie days, and trims into a month word a could be noticed. The two description of these accidents, and of attending the time to say, and it was an intelliner beauty of the crumbling cloud will. Was only a few of a shocking circum was never before the roots which started from sheer bodies. They call in the crew was the less and reluctant shocks which took the left of his power and dangled times beyond toward the something woundly doubted our eyes again truckless arched with an enormous stories, and several second-room which the deserted silent at length at the camp.\n",
      "\n",
      "                                       CHAPHERI \n",
      "WHE SEING OF\n",
      "OF ELI OF THE CEALEN HANRAR\n",
      "\n",
      "\n",
      "    We pourteded and range, but then I went to discover. His from the dreadful signs -- the neighbore, a sighter of the surface, and after discovered, and a sense was nuch a can be thought; as I could not have seen the something of the\n",
      "body with seemed to tradition.\n",
      "\n",
      "    I have been a luminous relociately endurged to his pleasant.\n",
      "     In the drive would see, till\n",
      "it was also stone sime transfied that he would be sure the precious contracted office an engressable armed.\n",
      "\n",
      "    In the moon was the crew was always on the contacoman cherioring on the\n",
      "cards, where the deephion that once is destined it a figure that the many of the same time, and\n",
      "the mashes of his sensation. All the thin specimens he was so left fire of this more and tests and procubel was subtly.\n",
      "\n",
      "\"It was sometimes they shut what was no longer, and almost early to see it.\n",
      "     “Yes—will not say to shall not still like this impressions. You know, thar arm was positively safety and studded as is order as a cheep and thirty. Why had happened to be all that I could discern the water to the land of seventy and the\n",
      "shore-boom’s care something about a time, I have that only therefore, a portion of the third door, and, and at length, wholly and arrivious exceeded by the sank still distress of mentioning the realm. It was through the meas rushudable towald on the principal danger withowless resting the seventy of my background feering wall of more than a sont of manner. While tell them altogether infruneratures in the solid article around in their ruins.\n",
      "     There were all here to the point, a fellow was at this primal letters was stumbled out to be all to the pattern of time. The baters of things were the discorners toward the search and sentraliet and a clear of the probestion of his open there was some pathering abloved me, but a made of the stone. To this man who had been believed the lost an excessive. If had no distinctly to set them had a marvelled only were nuighing of almost earth’s glancy and the stones of the sea-save them were noticed the person.\n",
      "     And not of all the lone are to his fresh force that I said her wourd and seeming that one of them altogether the conversation, of cliff, such as a second and disappearance of the seventy than his object. Watch tasteness and strangely rolling and studying and seemed to be living to seek that a stoop of and the langer with horse and solitret wild, but as he sate as they had the mound of makine any partially strongly asses. They, there is night in the laten of my sons, and the strength in a dispose it and those and all of the sand of the places of a senious cases, and a stranger seven was a perior, holling of marine were as we saw, which mided it sail death. Stept at once shown a lities of men who has frighted the some distant delay which the great cater and the leaves of the moon bare to the subjodd their seen the splathate. Whitever in the light one would have been so had a patient room when we could not have something a well of him of the deserted calculations. And their chains of a mortal changes and retal and the stars when they had a long belline which modes arased and consequence as we concuremounted, and of some of their cases of all dogical sinister and man in the cabin the carven ones were a great river-light and stars been strains.\n",
      "     The next days where the space was the less screaming, and shewed the creatures are mighty caused into a portant story. And then there were still to me as it saws in the sign which the sight and trailed hour and shed to spraye a proper and the collage to beside the procect of transcroud ourselves senses, shineded by the precisitive parts and the choken build another of thought itself. With half servants in this apparation and drivings, and to the portion of my stars along the sharky to the figure of a strange abyss of tangible brass where the land, and the gate with a greates and castar,\n",
      "was above the doubts and child of the thunderstick above, but the steeph step, and the series was too light and a hundred and an instant of an occasionage to say of any streets, but where it is of all west as he was not surpasses. And the decks was one of heaving mouths and the steps was to the words and topples with the store, where the thing would be so chased thrilling and planned only their climatics. He had they had seen in human cavernation, and severed of a count floor, brounded the langers of a confesses which made them the stair-roases; and would naturally blasphemously into anything touches of the papers. As I learned with strange and a seas which spone to do the stars, and seemed to return to take my heaven assistance.\n",
      "     In the strange stories of those water although if the proceering of the collie were to the similar of shocking succetton of traverse on the state and characters; and with send to the shadowerers which had been set above me that the must have true they had so much of matter. The some of these any sound and consults felt a common record too man in the dime. And then I had not being alsh is struck about themselves, and to say, but huns the sunset parally doubt in the flame, when the master and he goulds; but this time that they can below the character of the storm of the more than human to shadow\n",
      "               And then I considered the police at the stranger, single steps of my brack, the finging of his whole arched that I had been true that the searches of my security; a particular speakers and town, andlessly andles, but noticed a short of a sign from the soul, beyond the river of\n",
      "the perfectian parts, and willess reased at all though their closes and painted. The old late one thick-getted the sort of his hands as they could have all tentarly\n",
      "pointed than he could sail of a sonatity. That it was not a man of a simby whippings of suphical parts too while the terrified party of a good, and the complete decales were always the shelter soon above the diaryson of his principle of three a place. It is sure, with a certain senseth from that offered intoxicancy. I would, and I have no mortality to a storm of inseasing as to prevent a long person and strange places. It was thinks, in some day and trees, bearing to the fruit or persons which was a straid. He\n",
      "had found a loud out of the simely the lure, and were the laboration of his charge around the cliffs on the gase. It was the southward or the silked spats of his police, indeed, and whispered the church on the legity of those woman was image in a doom below as it is.\n",
      "     We were now shadow whether I was suffered that he were now call to a glace or the place. It is the life-three she thinking an immense assisting heaven with the blow sounding of the same planets and combination, and this tint a mount of my fragments were sound when those who has still pleasaryless and shallow, but soon foldowed the window was all the sole of their crumbling of the stars.\n",
      "     In a certain thing through the top of the paraly to stumbling the considence of mental scarceless of the cliff of a struggle in a sight was the college. The whole coarse seemed to the seas to do which he speaks a present one of these momeless stones of this particular. The candition of his from a last shantle of the door, a chosphouses and the story and seemed.\n",
      "     By nightmare thisper of the muscipation, there was not alour above the fields so tecles to the portain or object with these walls, they related any throat and spassing that twilight and the pecuriarise as the shriek our supersatic manner. This was shrinkly and dreaming over the letter and hours would come furnitues, and the struggles were along the black spectral survey. The streets, the long stone of the going over the strangely cat a shelt burreer bodies of several mind. They could hardly stated to ten pale and deciling designas was the palled of still door asternally as if its streets.\n",
      "     And natings thranted the lates of heaven, that I found his front flight, those one of this power had seen bareless on a party or familiar transfices to such a modelow weapt all this steps and the sounds and stone black that they were in the fierds.\n",
      "\n",
      "The mad mother was a soul of the person shewed only the ship is all degrant and palmonshords, as the tempest wind gray to the warm insanitated timbers, and there was a forms with the dimantician state, and the struggles of sheek fall is the last to the sun of cellar and the stars well on the look-pair of dome, streaming and speculation of the clouds of almost tenders of the mail-stones.\n",
      "     In the large senticed things in the charage into this police with their difficulty it is as all overthist, for all severilants of time and stark an explanation whole take the three means of an adventuable of servives and their curious running at all the sea-walk. This were sheard, and the character of stees abroad of sight of his ship had been blood. In any disepse would because his really susposity of these piplish, the world and the sternor after thicker shapes with one of the sense of a dangerial college of the rock. They were not, which might have had that only the patt of a final stunned from things and the deck, and tended a sudden distant accustomed familiar articulty of the murder. He had became all shadped on all stoutly an outlines and pale a personal straight and captor declare of star-broodery. The wind all the secrets were also back athacked with a stupon of succience of this stench to see the staters of towers and some as tranquines, to be sure, in secret portion, and were in their disease. Almost-readingly supply is the farther remonstrous panic buildings of steps by the less and all windswed material and carphery to the corpse wandered basellings on the solitary to solial straid; the ground had brought to remand with the pencil bory alm to the fill through is the part often to be some murder of the part of accountable trees. And the pensation of their stones which he was somewhere the great contrature of the precise-stricken farmhouses and the striggly over home on the firestone shade of their course by the same. The palace was a golden and splender about which was some anyonic and unhimable, and shaden of trees of that all the terror with hideous seasant, since this time which might still as he had not been all of the sea. The faced matter wat the men will be such an articlary things which those was about the subjantly of the strangers of the less that somehood and calmed to stay terror of the most of all that he was tought them, and the whole property was to bore two officer with strange seas and prevated—any of what was in him. He was no doubt of a struggland, too, the front of monstrous man as herrors, that they walked them at simple and somewhat mullets, and the stars their beat strains of humple of his accident of the sailed torch and all sharpledges which were a mist words to save the leaves on the stone of the charces of the matters of supervise to the line of a sold court of the sea. The steps with her face of their rats in his care in the solid beard. In the door therefower has glating them worse that my clatter and space of their childening, with the collegents world and approach. The tall of the man who saw the latter of this methal discurches west all the limpse doom baded and starsen or correspondened by the deep. Indian spirets than and wish things was absurbed to live by mistings and startled which we could have been definite trip it. The too succeeded when the glor bellett some possible conscions of absolute stumblins of the staggered stars. He had later wisked all we heard by the sub-clused slattered at the state of thought which he had been doubted and property of some period at once at the soul.\n",
      "\n",
      "It was alwarder, while it was this time the seed into the second storms, and all things arose a secondly to having showed that I had never seen at to the fate. And a thin was supplied him of that, at the finister or clust the beds and the sinking as they were than what was supposed. And in this spectral side of the state or tangle there and then terror was nothing of some stars which shaped to broke the seemed on the study of a condition which he heard only far as we had not tainted him that the dark truth was the less and ship. What was so clustered in her or two on short, and sought him in his deep suspens in attentions toward to the sea, and there is the flain in tormer and titanitude. It was a seroous chair to their humanity of the palpable diflentth of the change of travellers, and a considerable life and searchild at the possible bands. There were in those that shocking from anywother worse than any the great rouse while the sharp forms and that the lockeners were still and the sheds of the colo.\n",
      "\n",
      "There was a large of some dreaded and the locked stattering of the story to and although had been tarrible, for they running an artistic archaic as his past meaning the legend of terrace water with a many huteful instand and drown second. There were the long and terror of had commenced to the prine was surpries. Therefores their region of solver man was so firmly implore in a gale of taste on the\n",
      "perception. The mather shanting over the craved trembled and shelling of strange and simple shone that which seemed to remeated a servant at the strange. It was the landering was they some steadily seen to a church as walking the spot which he had long to see to have been all the ship trul, but he said; and to take perching that the stop we saw. Had their shipses to anything was not only a climber delicious and delease of an oceanish of a great rather one of the survived than a flought. In the matter was the calmer along the brig talies which their pressure of supperers of succenss of the secret streets and proved on their formalls. I could not be such singularly at the tempest and the court of the sea- and ones of these point was their blinds which had been chinning the ship. There were soon a walk to the southeast, and then only another realms of a sudfaces of that circles again and delighally completely such an approached the cave of the strong and arrived.\n",
      "     On the murder and the lights were speed and shore, wholly also or speaking in the southward were. The flashed out of the same period of the plain, which had a low still removed it in this could now securely to a start in the table. The secret peased and although that which had been learned the place, and shone things with a forefully subturnal still those of my body was supposant or long despite. It was the point in the some the stars, and almost the line of mother arm said the paints and deliberable and sound with some delicative peaks that the street of the dooms and things, at this memories at the strange pleasure, and traded on a gollation and caller and the chucklindly angles rose a path whom I learned them. The place had almost danger of the latter that we were all these moonlight. It was not that the path distant was the leature of the thirds were nervagsed from a sound in the stansing angles the primal containing of attentive torn. Though, as tell only in the dark and absorpal stairs of those tradition and developed into their flight of stone of a stricture or to an old motion and all too who trees states and along sure they were took all that something whither. It we were thir sound, as well as the thirtic waves or furnt shadows were beauty, a very caves, of an old cold along that had a carved bodies and tenting the people about so far as the sea. It had been so much of to the same time out forth the shaded consequently to try to the steed of allest thing was a passers of\n",
      "the same about some time a fastened by the break-green one of infixt. I came to the crawl was in the side to the students of his customary and the street, and the dreaded to sheer or town.\n",
      "     When the storm have proved them by the sea of the steady of my southern substance of certain period. I shall back their familiar and deads around the changes submortaled into the strange companies of a common superstralised to be a patient or constance, black within it any other cater which implicatively success with the street world. He had never been recalled the people of any they did not some insulted foolights.\n",
      "     It was a streets and any of the carven raised than their resigned to the world. They clutched the could not read a complicate throngs were now seemed as his self-sure which he recognisable into a single distinct which I thought I comprese to be discovered—an events of sure to the gods of shocked at the crag tall. As the top of the metal-boat, belated the second so far a signifieancy from the people and stood, and they would be an opportunity.\n",
      "     I saw a figure with waling, a starking of an excloping from the sail of the\n",
      "savages. The mouth far as to see to account the whole degrees suggested before a left as we had failed.\n",
      "\n",
      "It. At fact is at some lifelations of the procession of the sea by a surface, and spanned and formed the creatures,\n",
      "and was a few mistakers, and a single of the propidation of the same time and seen by struggly of the sun sank, but the track which weight understood outlines and secret of difficult about his own.\n",
      "     It as the time was the fact, and the ship from a conde would see of monarch of the telling and ancestric scene. What the characted so wholly double of his feet, were ablow and leading it to seek the sea where. Only we had the pressed its subterred the boat was never locked or so later. That was straight of the language and casting another, and would now recognise face that the most southern, and we done. They we were not before the ramps or their desperation. It was the thought, and that the shock, and attempted the chamber wanes, a table clumbice would have been a care of the creature for the than and to busholded those strain. The specime or afternation that I had noticed a shorter plain, and then climbing its throat. That is a good above all was necessary of a delueiting-room, they were not been; but they were no man to take the real thanket at the soon with a little officers which had some of the third perise and shadows which was someworked, and the whole second-roll was that he could descend a hull beauty. Beyond the worst weakness or time in a dim and disappeared without to the gentleman at the complane who had been to me had been serreted or sufferent shappled, a surprise was not the soulting suddenly and temple which they drive me into the common police of has number of all that such things.\n",
      "     At last those which spendingly with an increasing mass this seamen to the stuff will had at the san that some material and strange countenation was sernible for the matter. He went too much, to an observations are such an exists of an adventing moon as alresiting a few mould. An old castle or conceive the day alwarded overlooking at the seed of madness and accordiness strained brains over any other sense of their penest of mind.\n",
      "     The time they had to some description were not of a members to see an another so far astonished to be some of the sea that the farmer stone. The terrible-looking seas through his fainted passest into the scheme, although it altogether the gate, alone and told and the colies, and they had never an evellounder. And had secondly shocking town as half with the careful work, and allowed based backginess; anthough a sharp struck winder or contrally and carved through the sentain and cold waste where it was nervously than they wondered its almost suggestive at the stone wandered through it was ablord. I walkeded to saty the source of the same, that I had strong about had before the stop which the sunset dream and alone and attempts on their origin labours of antarctiance, and a stone. I had left it to traders of the leaves of that ones of strange rain and shelves beyond wines and true of some state. And now told my\n",
      "strained some other seased by one of the contement of houses, between the story; and then, too, all the sea-well as the crusive of a moral could belong about tormost of my arms offer that they could not pull to see the fire, whilst statement, and at last, but this wispers of the strange of hurried constrast to starrow of a stairs. I died to these state to the resumeral ancient whispering water- which had been set out of thither the prince and towerfolk to thinking us this. And these sea off the present dealing tall of the same time by a singing abstructions, which somphing them, and he had burning in search which was absolutely decased interestic throng.\n",
      "     When we were looking treased in the severals and could say to a shape of terror of the crips, and the most incordency, the substauchtes of the doom and all over and stationed stone store still. Whispered the light walls and stone beat time and the sertrance of their palace. We say, we are told more than thrown and whose beings and drugstives and people to confounder. As I have been alludia at the side, the stone of all this passive of these strongly of a secrative mind that the gentleman had been singular concerning any othing appared through his own subjects or destruction and proceeding altar-awares of the stouted and allowed blood. This was a clear that the poor was always another pleasure was not that his choking aroused by the wall, too, were served to be an inderect to strange or standing the roof all the solid of the student, and the subsequent off his face was almost increased. Will tree, and what seemed the most of all has never always seemed one of the crumbling perfect of his stream. When I had continued to the greatest impressiverest seass on hall the lights agread by an acquaintant about the record and speed, and the dead was near more than a condition over highly burst of a study that thoseow, and along the straightened silent, and the corpse-like the shadow which he had been that the ground floor was not as that some hideous chorde of the shocking. It is a cloud of his hands of some spiral sharment walls of so laborath which had been a first torch, which was chosed all the rising stars were not an open in the corridor world. In the sea-collection without design, but here a glast of three disturbed. The paral stores was to the strip was no marked the clood wind an alither than all the summit of the servant and dominant passes of the place of desert.\n",
      "\n",
      "    Then I should not built outs, but in my head and that it had senses that I dared to be about him as the street, and he were not at side of servers and posting thought to be as a long personal. Then he would nater as that he was a fact there were a particularly colours, and at our similar to the sea-city of man as hard to struggled an unknown worlds and the surgery to sensation. I had been as did necturied, and secling to the courty, startled altogether, trouble as all hussed both strain of the character, and sandstrought on the formle which should shape and dogs were blost a very later organs of stood only forms and sounding along itself. There were the first walds are, the merchants of the strangers though several farther on the descent we did not lifted taken.\n",
      "     All navies and arm when I had no seconds, and some oft the watter which has made the trace, he stood in the companion or alone, and seeth in the formula of a sort of deckarant words and artificing flights. Out of that thought of allowed that had halled it and the streams, but a shorting aboth by, and the sea and then he should never told. The peaks which seemed to say a slapp thick, and\n",
      "the floot was the cases of the pole to changing at this places, though shrilined and shapes and penguins was the tomb and shades to strange in signs of door. What they were, by the weeted, and his children of such things were seems an instant of a clain and planet. Then, as well all alive over the clouds of the huther of them, and were no stead of the lead the seventh and a clear which took them as such as that tince thrown themselves through the blowing whisper with an old man of the character, and along with a solern condition of thought of the place which were all then their praised and domes of silence and\n",
      "stales. There was in the dark wall of the stormen work with some of the search of a sharp deported-planes where the credible partion of sight and startled, seat a longless dismil or there is a south of his faculated by stanies of all the readous and silent and trains. It is all shadow of the sentitular stars of a single form of a stand, and soon both only tried to say, the stranger had stricker through\n",
      "what it isseluting an intentive. It is seems aloud the cortins of a million years of the torch of the thing as he saw to a time of two period of a sheet being so death of means of the left around the locked presedver.\n",
      "\n",
      "    I had true de describe those substance of a could be a stit inference and almost ined to the southern being appeered to makes and then an ancestors of the death. They had no longer though they dreams of metal assomption and probable a few doosed the specimens.\n",
      "     As the man to seek he see, although an old marine memories of the catacely with the torn of the place which held to remain in this percepting and sen with the dreamers ones were one which he set on the possession of his manifus of my solitude.\n",
      "\n",
      "    Andly there at length at ourant settle, and at once by any single, as it is not, though through his own are along the conditionative precisements of thousands. It must be subjectly through the limbs of a shall natural signal change of surelight arm so throws wind all the party of his own plaguess. And three hideous shadow were shedsing his fathering which were sough and shady or suspected by their food and that the mate horror at abselves into anotable. Time a vagations tale was told more so followed the black store. The blearish direct of a short day on the carpestrips and dreams of his couch, secret and charn all their sort of a latch wall in the dark face asome of the most\n",
      "abysses, which I had been the strange part of this door and spare of meating any others in one of his sorgers to attach. They have been the matter and the case of her face wholly at lashing to the saneously, while the sea and dead to which the whole offending harders and pressive and dog was absurdenels. It sent it a similar receiveration. They shrunge the steepland and dreams of any others still resemblord.\n",
      "\n",
      "The wind dropped malignitys, as well as the multile of them where the belief of the thickled windows without alike on their shops in the remember. It was in the samely as tried tribs were not all things at the first of time from the straight the blackness. And there was the more sitty, and seemed and strangeness. When the touch was at the trees, and the coarse of her child of the street which I was forging a locker off others on the suggested struggles to the search of the single day. We saw that the stars stored on and the long, but a groups, he was no lander whercond, stood at once, the thing which were there were not intelligible than an inforcally streths it was not an attic little to be apprehende. The second threst the land, to space the survey as its than any thread by such, is in the land of hands, by the first of the shape. All teles through whichly shelves that to detect the brush of his search the brain of his collected chorges. All or anomalous wonder, she while I spoke on all the lofty sensicals, and three to treme and the massive on the carvings of those stouting and the diminution was not often to remeas in his own public and terribor and all all the long and shadows, and which he did not like them. Was their soul, he had an undroad with the party and the peculiar state of the stars observer, bearing which had been discuddingly into those whom within the sane of that old climbiness of the plants of hurrence of ancient tripating at all attaining their surface, and we would be from the\n",
      "polician and ancient strange chief search was conceivable, at time the remembered with the clouds of their stretting the last titer to the ship had seen.\n",
      "     Of the distress world in their different point of the period of the stags, and his sons sensitive sellow canels one of the teter of solution of sight of subjects.\n",
      "     At lengthed the conversation of masists by dark assemblance, though it came of most hill, did that they would have been called and the latter trades of take and silver and dreams insole through the door were an attempt of sounds were not seemed to be a content forms of the stars on the town of a dready form and some of the peculiar person.\n",
      "     Once moth methom, was the cases of men, of the\n",
      "star-districal stone ship of a shadow of these who house and clutch, and to the party walls, and why did I saw, indeed, however, though the south we had never some path their depths of the senses of magnitudes and steepless ones. Of his seniof of thought was alouded that I had seem to the something where the stars or so care of a mornings and stars and the black madness. These was a dark steaping side and strange, but told me. The latter was so darely to the contertion as a memories at the preshy point would stir the same silence outside which they were, in the late of the crumb at the savage struggle of it through the sensative of the doctor was all as has asked them in the sensation of the crew. The mad he sent more through which the first their corridor search to the storm of that colony. They were solutively as will remembered our sunk pertible of some struggle, and walls or belating in the stone of dogs and a straighter which was need in their bridge that the thorgo were seen and atcestion. It is in his paleanths, that he had not been to see the crossion and dimndiant constant and probed out. There were sure now to be a stone stone doubt of a mile of such asperce of an use of a shartles and the sea.. Thing stouted as home too, that we would still all this antiquity and an observations was in the clushes. However, they had a cellar of those continually clutched of some crife, and their charabils in the sea-bold speaks of the letter, and seemed at the like a certain one of the party of solitude. What we had been survived a far had been real that there was that of a drives at all, but no mad and why the sea and all this momere where a general city or through their signs of the man had all things in the course battered that terrible determine. In the morning of the principle of the towers, and the children or dissolve and the trees and the cavern on the produce of a ship. He had shewn there at any thing which has now, but that morning with harm those who have been counted at alitted forth at times of\n",
      "some destinction, and it is taught all out for thouragne abandoned, and something there, the will winged with several prese of ice-rigging shelter on the place to see when this distant change of his clather was a place we wine on high panely part that he would have that such as always reached in the steader of her presently, but noise their steps of the heavy bones and shopts of the second some of the day that the greatest peculiar towns. The sharp call to the forms, which would be sailors and starting subterrane of the story of hurried to any passage it an almost sea-called of strange sorrow. In this there had lived to be the corpse of these winds above him a shade behind himself alturately survived the stairs. When he saw the shorely all the truths of seasing of tem an against the sea, but however, with the sunken, the others on the standing about five origin. At a glished human strange, and the carphering was the case farther side and specimens. The fantastic straight of strange abandoned manished and a singularly the bottoms and the deep, which had still deliverate too light. They were of a low, and through an idea while arrogstry at once though it created itself in the heart of a story of the same tip of chasmee disturbed. The battered to them while the savages and the conditions of the tiges of this partial assic like the light individual, although like the well again and called one who lasted the concerning human pocket and spaces on the heart. The provided would be thur was those we have narrow shelves of a profised and a hind, all comes and proceeded in their plane, and that he doubt with them indefinitely darkered at their calm out and discovery and strange and as we could struggle of that statach idea it with a man and sought our original plante on him, and some intomanally susposition, and the men of care of a clear. It was the mass of secondary off they as a gold that we could. The this party of some subject of the crime which they should hear some thicketic conditions of that corneral designs in the second. The clouds and had altogether at all attenned, when I stared the roofs and pallids out of secidence to the second time. And I had brought the bast of stone black gate at any observing along the surfaces of the day, and all offer a terrible case of such an old mame in a cleft.\n",
      "     It was something wall out of charactant sunsets, and wints, but all the shalefore, and saw that he had already door. All it started, heading for some mild of that sensitive silk of the company with words of mother as a countenance. They took them as the summal orour which I was still forget a cries of the sensitive. These persiders on my percipical, and the stupends of the closing at the day would be strange and placed the stairs and\n",
      "strange till.\n",
      "     At last when they were seemed to be lay brick, but well kept only by the traged of such a storm shewed that of a long books, but what steady found themselves to start sounds at his flate. The missing of the course them to the whirled one or remarks one, and wanting and tematication which had a special party. What was the personalt terming to a chill can collect that I saw that these sented about these cases, and have sand of their plane in his consciousness of the course. They are three did not left that the task we study what he did not heaple with the dogs of the convulsion or other time. I saw and a call of solititive leading the struggle were arcestral our storms which were always over a barelence that are not surely thing of mousneas. Old Ofn. Hid actual drip see an ancombanded almost peculiar persons if it were, assuming, and saw thought of some time and all this should be. And with the matter of strange and stating, and sheet traced its carring a half thoroughly angurge which the beginn to this point of steppled boundary of the right.\n",
      "     Willett shuddered because of them settant the chamber they had been strange out by difficultile words to the story. There was no one of the principal stone without all discorner that this past, when they were traces to sea-cater with his\n",
      "companion,\" resudd to the grotesque or twange in the sole or a deep astonish outside, when we could not proceed of some only things as I childled their first other sight of his stretch as having so profession of standing and anchorable dark touch.\n",
      "     They was nor and the sunlight on the last, and with a mighty ring and can be delight that the shunned ancient chisel with a seath-orge on this is the last sooner. That the great close to the same time been the continue of a place where the shrieking was fould at last to read that a distant fantastic and an open pressing. I thought I saw these moral of their masser, by a chaich was a perpettial less thanking on a far with a disturbances on that stairs, and still, and a clear well and one of the thing and the characters are the river and so from the threats of the darkness which had seen booksed its the warmings of the streams. It was an old persing the chances of such as they stirred the light, and which somewhat and\n",
      "therefore in the shortood of a cold could having at look almost event over the sea. The sunken suddenly is shape wished and persible to the solitary of the blasted on our send and dready though in the leanest or different all soldion or propections. The sense of alliating trader, and on accins of my fancy to the steps of his arrassatory with the\n",
      "speech of a closed books. Of the polate island had belief it is at once to the steep of the same tends. Two sounds of the chasm of the clothes of huge and absurdly corridors of matters whose pastles of some of the sunk which well as some others and thought and clothed bearing inspired by a company folk wands. I had noticed the presence of those world of all the streets thought, while hose tale when the sea works wholly despite to be survived by the stealtery since the places which was a previous times or contents. The the limils in the decker of the ways standing in the stonage, but we served theme were closely and straid, and the sounds which would be forbidden allations of the present and combaning was that affording the surface of transport where the first oneal differate and a distresse. When I had started, he had all the place were this strange reased before mentioned in that castle to their obvious stailling out of a memeating piece. That he had not been supply to the sorrible subject of a design which we had always sentry to stane and seemed and prospertical towers or fastitional day, single, the progrest walls, and still recent us, an organic care, went on the deck individuals of\n",
      "the mate and the seventh he did not look out of his hand. What there were the storig was tool they saw the light of the same tower had never been crowded into the shapes of the thirder.\n",
      "     And they heard was noticed alosome pattering and perhaps once had been almost talks over a fact and shrubbering the dress on the shorky-ground would seem a signifilench of the trees and all that on the poly and dominant combitto his parents that\n",
      "there was showing to do broke that their hair secretive as a found of trees, and a shrang and the late was always an accursed bones or farther penguins and disturbing out of the lanctic school-captain into that throughout the palace. We had to leave the stars again and displayers toward the thing with those around him that their stone of that steeple of a shocking rolls of the stranger along and perhaps and plunge inspired transford; and it is not tell a secure. Soon as the time we had been a colourn and more the local ourage of an altor one of the distant stones.\n",
      "     In their compulse high and half-closed the less stones in the articles, but therefore, the laboratory outside. I saw that the large spring from, was so dared for two or town transity of them when the first strutteness. This telephones of the three mouth which I had the glacied stopels to take why the touths well as he saw. I was glad to say immediatedly to tree food and the door outward such a sheet and dreading on the part of the dead. The battered silence had been left their flame of such an ease shadow well with in an almost sun shot of some of their presents and drowned incandiarity, and the master was an intervals of the mists belled in a steeple, so terrible to anythire. In their near two serful scattered beneath-shadows—on transcripts of man, and the way where the fortelves of that long and trembled story is substanting attained to speak of the partical part tales. The scarcely race and the southeline of the desertion of the shadows were stumpliness ancient and propusitoon, but now was the penic and all the secret of the stars and all as there. The blasphemost seemed seeked, so that which he did not sucher all the thought of an influence whose table throne. Through a fragments has been streamed and colonic clost all doubt their pressy things is necessarity—white superfle white-sounds we whole object woodened by the light of the southward timbles, walls they reached awritted; and shuddered to make me to their personal space and triumphorests.\n",
      "\n",
      "TI not as I care their study on account of a shud their past waters of cosmos of those where it would not recogsent of the chamned of the racker places. The shadowed of those widely archaic to a child seeming that he had nothing them their feet. Had and another cloud coming over the lumble arts where hopeless a proportion of the tracks were sometimes cartained by the winds of his seemed so dizzy. They had attempted. In one camplish they saw three to the track and stands and sounds in sheeps of solern clouds, and the great rate at all the tremblands where he had been defected by the farm of those worly. There always death he had stillinesses. Is a lotting concealing him and, as I had term it was, whether the resistenings he did not late and the large far all the ratisfus of a suspois and stract. And if I closed it in our pressuve to the probably took the sea,\n",
      "a formed thronged at the palaces of his shelves and columns of matter. And when I has shewn that they could not be aged along the realiture. He sheet are sign only a shadow at the mid was starting at the marketic seasants, and were now printicated a moment of that sending that thirk out to the sound of their elder madness of his far a distast. And the time we were ordered the since his horror what it was a sertien of such circumstable, for though something the severely one of the manner on the light into my sense of his stalied and storm on the rope of themselves in the chantes or thronged our surflux of a dim closed only a dane a side. The lone of the strength of an unspire and shewed them all the source of a particulor of their depagration, as if all, at all of some starting solutisters of the sea, to the formants aroud with the templots, assertion of the tetestable. Almost incidents the sea-surprised shed to the secret off a vast of the dark to offician one of the stricture which held, and had been surpriated. It would not be mode, when the stranger sea whom they w\n"
     ]
    }
   ],
   "source": [
    "generated = sample(checkpoint, 50000, lstm_size, len(vocab), prime=\"I have never been so afraid in my life. The trembling of the legs is uncontrollable. I do not think I survive tonight...\",mode=mode)\n",
    "print(generated)"
   ]
  },
  {
   "cell_type": "code",
   "execution_count": 59,
   "metadata": {},
   "outputs": [
    {
     "name": "stdout",
     "output_type": "stream",
     "text": [
      "characters\n",
      "Tensor(\"rnn/transpose:0\", shape=(1, 1, 1024), dtype=float32)\n",
      "INFO:tensorflow:Restoring parameters from checkpoints/mcharacters_i2430_l1024.ckpt\n",
      "THE THING THAT SHOULD NOT BE\n",
      "\n",
      "T  A Suydam and the progress were searchling and practly up to the window of a search. Without horrible to the personal occurred the later, who was a point. I could scarcely abate for some drinking powers in the soul-by one which this time the seemed and at the coming, and, in a carching a paral wall which I felt that I could not burry in me the penduch on the street. It was never below. The portrate space and prints overhapse, taking to me in antique son at all. That I considely that I say so more thankel to these straight as to\n",
      "say, and I shudder an excestious final of sight and space in the solitures against the window, and seemed to stroke about to that one boy experimentaile, and at that thin and man of alternation was northward to the restore. It was one, and something obviously and so frightful than once interstroit of the second and their own, that the main hour sign of the man who here struggled by the story, and,\n",
      "arous allosed, and its condition of the most stretching secred stoot became a gathering at hour farther trunk of town. A stranger and more places as they was no diffice, and as the most sensations and secretive of the subterrent which horror an engled sea to a mass of some old markhele of menace and the second stricken astonished black shorts—and sounds with the sub-like towns without the will worde. His poor were, almost\n",
      "detection of the propouted particity of since of monstrose and artifices of the crossing of all, it would, and was told him to have been the ship food of the languages.\n",
      "     It had seen that I had never all think this wall to thick the first times that we well-fancy and told him their brains of hours like the burd. The whole island was thrown of the cat of those tonds, and allow strange, and\n",
      "was no longer a cargo of all at a shall probabilitable distant. Assugining that the war stalkers had a greater silence will startish such a marvellous antiquity of them, too life only, and one of that chase, though he was about fatteringly shock on a statemer of abyss. All the titingers or mind was our little atmost-looking slope to horre of the door of attic life. Was something, had been an anoised to some disorder and state over as a particle shock family was that our sent on board and portion on those whome face of them said.\n",
      "\n",
      "                                       All the shed to the read spoke to their restrained friend as I comparen to antique feet into a point afraid, and there is, whilst our own common shewed to see a lurrer on two singing the sea.\n",
      "I did not hear on one of the passage of the most day, there was the least are terraces. It was an existence. At length when they were served in\n",
      "spite and attract that sheers there before him. My farther portrail to be terretter of the pease of means of some of their raise, within terror which were seet the peal of a small organic storms of all which he started on the colded objects. This morning it to the stars are forming a long, and were no positive almost powerful and possible an ansities tends. The stead and the tremendous shifting sunk some of the boats of still around a propriet, athacked with the point, although took and a heavy spectary second trees would be soon of the stern in the strong portion of any perceptible. In that touch, of the distant character of some substance with attacking me almove, and that the country was never. His way the several large chamber as they was not told a cargian story of an ire artifice. An arrangem travel work and palent secrets were tried took to be least become off an intervent, and there came to their place, which had created the tells a sorts, but their had seen and accordant combating and conditions of the deceasing, and other powerfrous, and the dead of the same time beyond the tombs and stares that the stone of waring which mysteries and recorks will be all that the sea above the long abstract. They were only that was all at all, but half shivering stared to bushones their constriations of these shops of some place of the long throliels and roofs and the creatur working all the lowly one who had set only took a short conceptible stract of solern stuff on a consequence of strange presented several stotters, the desert were old common tormer tracks there was the last one of her sea.\n",
      "     The song where he grey means on two dreams which they were in their cases of his own imagening whar the cholly they suggestive in his sourably arms of the sungean and persence of a man was this antique rock, and the chamber of the southward apparent a cerrant other party, the shoulder of the moon when they came that they were this is the private and artistic off instant and the streets on the stairs—they had been seen been fallen. The climbers of hid of the consistent courts for something by the abyss a defrection of the stars of stans, once more and thought of the three-blazen barker and secure trip to trace of his own spires in the arched-from of angles of\n",
      "their excitements in a certain steps; and a stolenic stars of that right blushed the spectral pall of all transmitted insenaries or such a secret which would be seen in the dread of titure and astonished thousands were, a deep of almost shocking of the past of the massable points. The place, time these strangers all, in tensele on these wholeson for their foots of the cold toplow of their own, and touch the profusions and days. They had never seen that had been stopped to anyony soon believed that they were or stone something before. Then he had not lived it as imight on the silent bold of that leading of the steeple and trips of things in the\n",
      "carven again.\n",
      "     The shoulder cases of some of the strength, which shrouded the fact of the mountain was always some of three secret on the fierces and power than the forces of the same time and fragrith of a security that or to see this. There were all a grey blood of shelt, story of shipplanded since old for mossible and propostions of the sea of the street. The fatter, he depected the worst was tried into the dimension in their plastic strength of a similar towers we were and clasped in a deadly attent. It is a carried male of the stairs, and he would not recomp disandly sight. West they were of a second sornigns that wharf in the sounds of this mountains and the shelter.\n",
      "     As the town walks he would not any see where the sea, with solet of the same panellence when the man or perchined to think of this they say.\n",
      "     What I have seen a complate as a stirle of the last, bearing when I drew that they had so stated to broat at two still and a mad hours they had seen it as he had a power to the bearded. There was not thought the three beneath the mortage of some senses floor.\n",
      "\n",
      "    We had took the latter of the street which had study with a ceriously arch or through the boat stood as if which I could hear had been assonia to days that a centrol the short, though I was tortule. We said we could so far along the world and height of the trouble, and why in something which he came to drues than the life were some of marble about him. And the mild here, and that sure the strattless and carring on the steel of starks as it had seen it at least to the southern solit down that ancient to be lost the long-planded millions. Indevold, and when the damp world in his post of transpletery so falsely unknown outrance and discovery instant. It is no lone, and at this time the perfaced seems that was\n",
      "surrived almost steeply, and the same\n",
      "concluding through the sea of human sea-beet islands. These was should all the stairs, and howl for through a low ones they were offers, the wind and all taken outward as he words at an arme would have been sparelled. This task of the great resemble high and his forces and reasons to a policience and passed, since a close wonder as he was about a great antact of the last so off of their endees, a lurked, he seemed to be\n",
      "the steadier or speculation. As hear should no spring as the struggling crassing himself over the sea a sound comprehent which spokens of the principal passight. The place—the walled met which the most singular character of the sea cast the shriek of ship which seemed that one thing would be discovered, and that the most determined an imply on all whose barrages all that shellow hope that he had been all assocition a peril stocks, background his partly.\n",
      "\n",
      "   \"I am such thought I whispering out of the concentrice of any other presence who surrounded a great scraps, and his storm, the propined with the diables and the whole sheets of a street ant absolute points. This is a mothetical and\n",
      "the westward, and the country of the chief and the chain of his\n",
      "spattoes, transled my fears and there was at the top of stricting in the roots of the trembling last, which were till a fire and stated by the whisperers—it was a seator- about to thought the left, but there was suppose itself. If a sleck of his fact to strange that I found the began to see what it was if into a stranger box of steader, sheering myself with horry and strike the barnighs with the beauty, and the ship, for their room to me a crown, and his shocked hideous sign whose subjecket of the strange and the lightning was almed allow only a mind. He described in sudden difference, I head as they seat, and those other moment that I cannon the plockee and caves or studies and the child through and have been surged dingitation; and which had been crowded of conveys on the hideous, and we had sought they relation to ask of my preserving monstrous and the moon at the tops and strated abysses arone, we at the morn beauty of sounds hellished to the\n",
      "barren and most through the world wall not only an instant. With how hundred and solid cast this played it was the floor, and a single sought trackly damneble rumours. In his companismage and rolling study thore were the whole artique which had no down, thenes there are telling and so pater of an adjate all the temple. Was no stars of this search against the southward of the crudition and all of twelve man whose struck on those ship with the southern back off. As has alluded it a spiral of those finals and prodigious chilings which were incredenced to breathes of their own passage were sufficient to the place.\n",
      "     As they decided to see the great any casacitue talking the points of the mouths for the musch of that times alands which he came to him the same people altitate at all times, back and the struggling way of triglly chambers and source-crossing throughout them with the\n",
      "steading of the horror.\n",
      "     Then three hills, and all this cheers and things a character, with an inflicted point where he had been a glore impluing and possible only any thing that their powers of the deaths. I shudden the little think, did not respect a milliancy archway that the well, and seemed to human its feates in this play at once in the\n",
      "contemplot. Indeed the water object intense any period of sounded with the more than an intraciation attend on this idea to the carved than a military subject through a callerin’ conversation at the sound of his remarks, which would have been a fewling of antique meant at length in a gently open to the shore; when he doubled him of course because the spectral aspectivated many that such as and drill dissolution of his stone, and he could not remain at once in ancient than this case. They hillest help in this period of the solitar who had so surprised any person on the stone.\n",
      "\n",
      "It was twinting as the shape at least to say at least.\n",
      "     What somewhat stoom was settled in more\n",
      "descunding a scelling of him about the moon in titation, and all the strange peoplide or aged to his oln passage of several sternes and always an eyes. The death was only one of the sea about the solid and spectalosing table, and at fire and impatress, where to the late flame and altar-tones along which they are\n",
      "begon to do with he could be a particles, that this serious councidence over analysis, alaphood of the cateral strain clungement. The content outsedves that I had should relegred to be the clerge in shape, without their face and the looking. At any struck her hall in the house was not believe that he would have been of the strangeness and careful in characters in the ropts. This taste to the soul was not to shad. The profinite spotse as much at the stone before who had brought horrible as the sight is they said to something over his own brain to wonder that the passage of his first spartled absence or several places; but was in my far alienally in mine who had been disappearance and the sentine and seeking the shippreed. In the collage we was about firepable a period with all that her thought he saw that higher recognised severetoly.\n",
      "     All as the skill was shadowy, and at those strange pleasure of the body of these stones of the presses of his face. They held, which he seened him to hese and a climb by the stone andless sense of human breaster and almost\n",
      "alleviat the blind doors in the change, as ifter seaths, well of an its sentance, while the songstain feas their suggestion of the perfect or other twilight abysses was sure that he had come as thought, and seemed to be different and class of mountains; and told me fraged in the cape to the several secured seemed things. They ceeted to the sound waters and the conversation of the same time and all over their positives, and hus hiderous that were of their second people searched their similisor. This color as had tattered to be a shore through the sea and the crawled supperately and dimeds, and at all of the methor a persance of the precession, and sometimes the place of succeeding a rats to the catacomb to thought an endless and species of almost intervals. As I saw thought it, and spect all the stars, beyond words, and the party we shall be seen at least—and at a sentimated pass was a chance and shall bore the sunset course side of sheers, the both of this specimens and shadowed rearon with horror of the shopes of the climaliar stepping one; and the place with three heard and paralogically dead when the life that she sat and should be failed to be a mate or a will roof that had told of the pathway on the stens of my speculate care only to dream. Those those which was the farther plinning whose sungestives of their own particular occupioding shot the staggeres of absence of the perild.\n",
      "The ordidial races of such place, however, whirling and spirit of the drapped the black shocken expectations to the part of the shapes in the south to the patic could see his being. We stood and thit of whether I have stricket a cleft at once because I had no regarded out to hee that there were not been some ones of hope through the struggle of the mountains of the shadow which influences and the mountains of the course. That we had cannot be danked to the precise sound and the lock world of some harving about the trace which had any danked steps of a child, there was absolved in a strickeness of the solemns and steadily seek and spent in the life. And they have so far his strained stores aloom and desertions, though the local and man seemed sound wild house and seeking within, as he had an ordinary course. What he had not feeling of his court to the contraster primitive or to the professor, as these accident and the black clothes was such as the less thorough the wools over a perily of the sever lines sudden south campling about the stared the soon forever. Iffulthe the lady-still roud that the sand of his recoveries the senteen dianetern incredable throathing on the side the sun day along the leanest strength of a man who were the past many descent in the same of several flees of mine. How far him into him, and this well as to bele about that they was clear on the tarrical streets, that its conditions all tinted and the grave of the mountains or simple or far and solid below. I stoody were stairs when such terrible startively walls of truth and the stunding and later a shock of all they came to a light day at that tomb with his stall back. They he saw it will be relate wors into the founds one of station and ascorping as its whately clambered at the strict, the level with the life-collents of the most of hornside.\n",
      "\n",
      "    The northward and spadelous about the terror of the same dim, and almost some more and delivering wind the passage were narrow an entered that her badly and the condition of the more commentable assestion which caused from any other places. And the series in shore to which I had learned it to term the middle of the detailing off the lunking about its specimen, the paison, of a very literal and damnably attection when his frightful castle on the\n",
      "strength and the ground off. Then a large string of dark studies in his sons, and all whose stupical couples in the largery outsides, the forest, which some of these terrors of a shall baneating and almisting a brief peculations, but they sank and traved the solid rappet into a time and transphrate of the letter which had somehorror so far have broken, too with an alarm that they were their events of motives, and they had so good as the light surprise alone and disturbably. He\n",
      "seemed to take that makes were number of the concerning the specimens of hands to be called me on a companions and altogether. It was the trees to the water which were increased and still above the wearth and sea of the stunders. The same moments and took a little treed was a sharp of the soul. And as while I thinked the cliffs of the southwards of a moment to the lower little of the paths.\n",
      "     That it would be desperately submission and carried to decks and chance of their character, and told and the deep stearist character without sunset in the altaration aloud. The wind, have been some thingly anguisher body. In the morning was lain and linescent and persons of strengths aroused the leaves stares, and that was the meathome of their corpse or a cases of his shinted secrets.\n",
      "     A mannar seams they received, and that the strange old mather. The change of the street was so that, and all the towns which so longer into the statemal subject of the top. In this store of shade of the characters he had thence he was near the complete stone by the remote and simple the primal and the courty-severet and storied as a sensible struck objects. The closes were this feelings and dream and change of the crucisher. In thorougher to drink the student of alloyed alore that an allight in one shewing trove whether the worlh was. It was not all specialised in the mansion of a pathing, and of a fiest, and a closed and true account of seas of those ancient panelly strings of the stars, were then. He satised those harbabrously and thorough the darkes of their season which had they could nat no more.\n",
      "\n",
      "    The storm in the lights were starent, and in the mostless throat, as well as think at one brought the targh of the sea- and the damn a sudden something sending before he determined to ancient specimens without the place of an ancient sugled streams and a cast be one by the work, and whose extended and that thing they had been stood a few world. In shape we drew about his point of cases, and alone was submised in an almost\n",
      "appressively beyond the ruins of the\n",
      "samages. When truly mouthly traneflice we could not, if it is all of some tort in several marborach which had not been something tower and deceased, but assured to the largest of the torman some often, and insining in the same time and the seemed stone of a period of their seass. I would not hear the shewing special surprise the student stars the sea objects and she heard off their sensit of the house.\n",
      " \n",
      "   The marks one winter at linatic effect or disappearances that it will be drew from those things would close a doubty to have some of topper one of the policial worlds and an old loast seet not to be seat the crees of his polite to the care. It is not been a cross a momentaring thus eyes with the carved sensitive positive alled me. I shadle there went over me to ten we were, the frughtful spirits with the town.\n",
      "     The sea- of a mall of the library touch, and at animal was too, with his dark attempt beyond the cleer of myself as truly us. The towerine of his, and the steps and their prinction of his seem, and as well as I really shooting in a play to could have\n",
      "been them to the southward was it all strature white things which I should be no possess. The builded, a terrible pole the walls in the route beat of the charge of substance. I saw that he said, the dreamer of the stars which indeed by the shade a few solemn ovory thing of the steen along within the rational passed and spanked, but seem the shadow folks of marks, and was all the price, and\n",
      "that, or overheard on the deteemed southwardless artificious, and always that I would have been, though to his strange trip of a comporting. And was so far, their progenses of those was indeptions in the clamps on the captain of thick of innumerable personal, as the place was propertially situation; and hoped in the sea and as they dreamed a ship, and he came under the change, and one became sternly resembled, we comessent fearful our former pale, with an illusions of\n",
      "his short and sunset, and set into the tribr to see that this concealed a sense of the carele, and the west roaders who was not a little top of the place they walking a shop. All over madmen and stated on some of the blind, and sent that he wished that they had told his healthy frightful throng of that cordinors in the samage. Ind had been less to sail, and all the surrounding strains of his fell was shews that the shore or contain that water whose palogerance of such a moment to the carven meet of a cheap and the brain.\n",
      "     I was at all those to see a lower delusion was all to claim about to any pail was nearly so though flatter to traverse his sterner and state of transprevality in the room, and when, faltingly doubt, we weeld so labour of solemnating and statues, are this tita and a common loud lanes which may be made our strange stratien or all. I dragged the straits and although out the detected close and spectures and passingly only before a shocking survey. As this seat, soon though the strangeness of a capacity and cource of dreams that he was consequence the streets and church, or several and searcheatings tharkshered an old myth of a great subtle through a thin. He settended the last and the stared condition of this streams, and sometimes or suspended to the steps along the dream and several supely on the stention. They stared and the town we definded and properity in his record and searchlessly river. The grotesque specific grave and the dreams that they’ve been and had been throughout the sun. Had thoroughly the store was the little book drawed the lost of those shriek of an impulsion of those fright was not assasting.\n",
      "\n",
      "    Then there he said, within the rain rougher of the difficulty ought to behold at length the singular praction to the frantom.\n",
      "     It was a livel and plain to trace of men with the black clothes were being suplet, and the looking stratings of help, however, had been secroded as sorgues of a strage and thought a sign and the sea and a features within, and\n",
      "to the same terraches, with any other schill, state of them, and starks of half-place was strange seath and sendiness, bearing takes or since had suddenly a mass of the clothed-boat wound and a succession as if some corridor when the flament recoveraters. Time, all as the strict and racked at the sense and the mountains of the thirde which the morning and seemed capeless and the plateau, and instant altaral town flash to the long watching of the house, and all the tells that they donners of a multuse whose day an ancient and trees. The seek had come from strange and formation in the captain of a places—and some time flee of the pasticulate spoke, and a musinate armitious exact and assumed with high stronger slopes of centuries of the steented seatherings was now taking as they were all out of substance. The fluctures of a studder wind which I had\n",
      "discovered their seemed so long the steader call pain as we saw that the golden life in the solethip that he cult or dreams.\n",
      "     I are precisely superities in serreth to astemne and fuller sounds of the corpse, and those horizontality. In the still said through the creatures and shewing this there was something\n",
      "tigars and positively crypt strange and articles were\n",
      "suffering attacks; and in the sounds of some silently and despite and arched and almitter as we alsudded as something all their plains. What I should should be a selfair seen to the rock when the splattern sense and than toward the sailors sailors, and a spectacles were lay that old through the steep walls. The ground, as I had seen into that seemingly. He had no sankly soled aloud to as out of my hand, a surprise and chamber with this partimatical place. And all have the soot sense, and then were in their fingers we solided alive. I thought of his chanted beings were seen the sea chored and spired to and the whence they did the shelf an almooder horns and a might she was all every fright. Inly shedies and so wand of the last signs and strangeness arone, as, was a moders and the spot which he dwade only assumed the steps. Only the form of a state place, and the captain in that shaking form which\n",
      "my deaths to the great regions of a survivating through the\n",
      "shrank. Then the weiled along the shadewound would be so closely at this life of long-lovel, although fantastic person showed searchation in the decepacion, and the deserted sure when all that of this held me him, and was not to be sure the shocking of the ruins.\n",
      "     The marks which the columber was attempted to take the store of the possibility of top and the words of hideous plateaughters. The great shock of some season, although he was not altorace witcousted by of the despite. A discovery on the coal shot gale assing the conclude to the shift of the mere passes of horses and the means and their sea-bottom and sected mountains of attribable character.\n",
      "     The three books whisper, and with many crass.\n",
      "     I shall his had below the left man as would be deathed in the lights of the country of myself always in hope out of the stricken spectral trip of some temple to see the shining thrown of the meaning of the pracklies only as seems. To their hands were all the pash and some obdued through the break or forever a point which such a perfect on the fach the line of these things. All the death beyond, and which made the lights of the transpers we have seen into the first late. The whole shelves of the study, of clambers was not survey in their sensation with an ages of meaning tomp, and with a facts; but the weak of his possible, with a church, which Invested we knew that the most of their outlines and took the loss on that of those shapes with a fact of a momance. It was now along the letter and alone the shadowed ones were steps that the great sounds which this placed and mass of the stones or ruming on the foothills, and to the sterbores, and they all descriptions. The ship one charted and records of spelier and species only as they had becume all accomplish the shadows. The palled surmining the strange placed attentions and to standing attempts to ascertain those shock of the space with the churnishs, and allowed and calls of strange barred; and walm a shell of his son there could backgating the strange, and their precisitaters and the moss staggered together and stirred at the strength and stone. In this camp the sea, I saw to the professiol thicket which held indued a master was surviveded to see what they seemed to have been sound. This time had been and trenciality where they related to the room and the bearded so far as to the peculiaring was suffered that the seement and spots in this pain. His palery of his conduct, his sounds were state of ancestable set on the foot through an idea whose days which to see the light in the light of the shadows of supplied by the hateful recovery. The lady, a tain of their settles, and a can only soon, than the crawling claw in them in the corridor and shorget at the top of a singop in the desert. And these were their familiar screens were loosely and dead and carefulless around, and was a disturbed compriments.\n",
      "     But the toward old half a study house of a silence we had supplated that his sealon of all the clumpilal reasons that seemen were still lines of a firm and their sound with horry than the courtains was always and survivols the blasped organs of them. His fasting had become all the stared things as it had been attack this through the sun disturbanes. With them only only thinking that was their crywage when the spoke and shock three out in a clock in the detish or to any which it would be discovered that the stars of the theor of the similar and secrets that the pleasure tracked on analogy convicing thrown to the place. What they so words were our encounterness of the crawlisant areaster or two, of a circumstarces of the monstrous and despite the bodies, withow he saw a disaster counterance.\n",
      "     The nameless reality as his short, and with this leaderstood in the dark, and the starking contines to the life and solid tops of the shornoon. Had stout was in an insisted thing there was only to satting on the folk as the storn of the boasts and climb down frant of that change when we were strakely astomishing over. And in a disturbing wood and his far outward in the double of mind was intantly, who called his powerful and tree which he had been all one word of healthing could start. I have not tradery a portion of his first whose shadows of the silkens whose songs of their constilite and this well and delivered as a mile of the cold assignation. It was, as they hidees of the short, but of the temple of the sea-beloverines, but they’d a chilling one of the men with its the spectrul of an infinity before the doctor.\n",
      "\n",
      "II.\n",
      "     “An in the terrible supplies we were something it. The latter had shedder to see thin such a stupendous and mind as it was an observed; for the place was then the bottom with attempt without ease and the woods, and why they had not seen it. He can bathing- an indistingual cases that hall spirit is. An instead, an eyes tower it is that,\n",
      "and this possible to be soon for into the ration of the place and story and too fancified in the brink.\n",
      "\n",
      "\n",
      "A fish in the savage in the sentral, but I must have hearth of a surface where then of her complete horres.\n",
      "\n",
      "     The description thus descended at the coming startling attructions, at his double through his\n",
      "fearful colonial anticipable of a doom with a different and all of the common lay and tempt. Its cases that this presence had been able to life a few white alled or almost about a closer and strain a frightful conference.\n",
      "     In the face of the secord was standing to the churches in whom were the subtly shouldener while the services and palliana end through the wine. They reached the precaution of the most stirs them and which we dogs the conductive presently and consideration.\n",
      "\n",
      "The contratuous drow fertuse would remothe of her letters that I could not be a black room aress. In the faint was at a gate of the damplishments—to the later we such ascending to have enaguety would surrended to the crumble anything and spasmer and close as wise. The passage through who was all hope, hold that myself as he should not startly as all.\n",
      "    And the startings had called before it shept better which the steady, although to see the thought of house as the proportrous to as he had not also stearily to a person of the solar man. He went on a change and pleasants and a monstical death, by a cloud.\n",
      "     Once I had concealed to mind only than a gentle alter that the foreverance of three of the desperate of the moon of the story.\" The tower of more above the captain obstacle in the memmiliarity, and the change of the perforal character, somehow here and its conturate sounds of all, into the earth and secrets of the dimentary person of stone. As a supernine or concluse in their companions\n",
      "of the street, and at last would be seeken a serprise of the clerge of the town, when, for her forese was another woods, such are a solitary period which would never seen to the shade. That its motion, were trusted, but in the silentlessness seeking worlds it all. I saw the later, and the winds in his corver which I still the choking to a strode of a marked or two sound without any spate or solemn by the searching beings. There was no startlings and dready and superited, and alligode, and the dreams and steps an unknown slaves, and of the caston received tine of his own. He would have take the supply over with what had been the pale of a man and see there appearance. All the deep shalves were they said as a prevailous sease, too, we were all that the possible state of train. At the damp incline of their surroundings which had crising the sentance of heritions which certain through a bar and terminate astories whose flash and succepsingly ordered with the hillsides of able to see the prime stifling that he had been slinded by the car. That is twilight a long at least dead to say, and then, were not of a light or two or the solage. The stars older thoughts, through his old catchant of the total animal speed, and all highered was sometimes in the stars oround and the beart would not sen. And it\n",
      "was absolved, but had naturally attached as it was also before, and a shocking way tool it formed in the ritute. His still distracted original was the stars of made it that our cry that it was no life to tell an earth, who wake our fatile as a place in the\n",
      "crude as a prevering one who saw the trippain of the house when it was the strokes of torching. It was an upical from the carvity and a damnable delight that there were nearly, so that a few walls within the lower stumble signal breatheants abyond outside of the same earlier strange and any distonal penguin in the could see at the sound.\n",
      "     And in this partitus as the same thought we fourned to be that sometimes the companions. On the carves of the matter with the sane of these sense of a sudden voice of the peopled what is that shocked uncle said the southwest on thin situation of shadian ancient and then, with a startled paper, their chimney of the people struggle to stopped beyond the principle of horror of the party and peculiar decayed—and the shores whose baying of statumes and solid side the lives. The great water state and the steady and some other perceptible of things as a spout of the\n",
      "some position of hours of mention of those who knew only the black glow any other course bore. In their cases we stoucd their horse was the professors of the path, storight that he had some drawers of huge and the whole clumbed and thrown or fourlessly to made me so leffle it will belond on the property of the saveral and unknown passage in his memory of such tight. It was to be some dream and any tips of the people, and sank their child of the methods which that wellow would be so madness. The worses of this mathematicular, with trees of abodies of account of sight of through this morning.\n",
      "I developed to as we were all the place in time the present collection of a strange destruction and their contants of the chain was second that other time by the lost tracs. The face had came their body of more a stails and a great ruin than there it will be that. There were the reports and the murders in the sanity of the whiteness, and some time to the sound of my damp, the maintus of the considerable large antiquarian, and this was the less reaches in hostilities. Timagable, the tower roofs, tisting into a little city and ancestrous tried, which had curred our fig wholly formit out of the present day, and sands, and the stated mouth of his strows or four off there had an adduce and ratse which had seen him and delay. He was also to the tomb to their pales, and only of his angles as that head and the greatest search to this sentiment.\n",
      "     They read that I were secured the particulars—and the sea-can be no moment and spent or experiences in the leave who walked indeed.\n",
      "     At late in which I had been an evaller of the direct or sing, although he came that so that one master on the stars and the college deep of men and contemple. There, we displayed on the rage, and had been theyed the bast that there was not to believe the principal agents. The press which had noped the ranges and conversares to the course, the stares beyond a dispose of the subjacts about the battering was the matary of my fruitian captain.\n",
      "\n",
      "Tha weather and the side of the strange planes, and when he dwept to the steed of the sun when the moon afour had beet. There was the stateroor and sending the brig, sole dark, and what have been strange thrown as we should not a few strides the best of the corpse. The mere we stroke a sudden village and terrify to the shranks of a steal of all of the matic and dark, and impetaoned to an interptate of those of the sound something to so stone of ancient and present for would be done. Its pleased was the light of his resent such a condition of the steps on the floor. I done, they could help speech had been seen about a laughter about its side, and his passagabouts were nearly\n",
      "a farther discovery out in should believed on the lower than one or ofthnem when he sat help sheerd on to the head of time; for a first parts alone when I discovered the servants or seamen, and then all the revention of alley wondered by a darken strange ball on their plane and the left. His apparently sharpered an impression at a construction of all the sea was now probably formations which were tombs that somehow thought they chanced and thus and the solides. And a weaknooms the great cat and there before the sorrow, and through heard them withins and those struggling and alient town and sinister parts. The crest impossible three stains with the crudely riding a strain of somewhat discussions; the capture when the light of his horizon,\n",
      "                                                    CHAPTER VOUN\n",
      " In human and as It was sure that we had no little streams and surface would plain as he was. And all the light, and it\n",
      "was the matter at the throats and thirds and steeples and all action which had assurted myself. Ward he could not he disturbing inflequently instinct that I had no made him outside. There is no doubt a small strold of attracting one seconity that they seemed. At length, would help sometimes which wrat only a patterness in the failing we were all stone of all the winder and his pocket ancestors. To the same treatures, as he sat to think of the tanes, but which I had not later itself; for I hope would thinking these a cargo, I would not help stayed to be such a child and soon tell. It was a low planes at the sea. It was it will be a consideration and attend, for the strain walks and cheskets were there in myseigners and the later contribution which they sang all signs of steps would be no more them. He had said to shin cuss of my other round and prepared, and was to secret into the chess, and had been seen, from this period, and as the gentlemen shock which made the solidling a straimed and spots as well when he had all the play of a shape with which would be a country and absorbed for those their catacombs before we had not took the forbidde alien source to the chief and about it. This in the cold around the scrangular carples along that he would not be absorbed a shocker and solid conditions. At any on the show whom seemed to still alone, and somewhat manner to the\n",
      "woods which more their she would be likewise. The peans and torches to the stars of the same diring and creatures in the larger surfase to have because we set out indefinitely at the sides of a missure was at last above, and the present ones shocking only a few of this pain. Its cut attendously danger, we suggested the source. A mighty till that has never had told of their own power, we saw a double old shore, and, with the threshing was not and clumat to counteneat to the stared stray and articular winds. Willent realish and shadow of the latter round insane, but was once in a silent distinct and probed scaterical as the corpse brought unnatural aroused in state of stone around most and ancome between this plate and state. A momentaring to rise an aped the second panic or two heaving wall had been the deels of traces which they climbing to antarction forth at the pattern of his remains; from the sea, but had no servants of the stone spectral circulars. Ward of ablong windows of the cabin floor of a startling. And the structures were something all their climbs of the middled spades which strangeness on at length he would some intinate and all the sea wind.\n",
      "     After that I had seen so those on the stage-wornd, and which has been a since the secrets and antarcing toward the best of the silent and porthure strange perishing which surprised. The back and some forbiditation of the closed a direction which would be discovered. It was not the learness in his chast faint some stare to be found by the sole of the possible one of the three later towers of a compression, and spadelous with the little of the some places of human spade, the court of the plain, and we stopped in truth and their course, as in a conduct of his although to them dared to hand, but at least, and studied her spirescest weathered to stranger penguens. All was if nothing before the particulars. They werch the missing of the\n",
      "woned in the breathing being of the stared to hard on the descendage was neal off and ancient and clear of the masses and days.\n",
      "     The thront of the south force for means thougagotten stones of the common rolled man, and always he thought of mind a midst of a place and the moon-brass assured the boat. The present on the steep, they could blee that the crime of surprises, watched by this seat or trunk with what I weaking a light in that secult tittering, all was sureayed by any thing the stones of the strangers. In this marle like along the catached things that whatever had spoken all the long and dragging to thind the time to stank whether the shunning was not shaded to seek the later landscape from some dark. It was strange them as thought the letter ten he never seen a more than the sky them altogether than when\n",
      "they dark their condited and mother side of the change of any trace to with sea-shadic and choken, but a charge of histower and dreams. The specimens would not to survived to have been took provision to a paragrap splending one of the classificulling of allest that we had taking with him was the less of the study or torth. The lurk was coldible and relentless changed for their corner and a dark of the seeking object. They had somehow have sometous the thicken shot of all house and the post of a sort of a specular slight. At length I had seen it in the sea the speculation as till the precisute road was some of the missand of some hideous, and the solitudes and stational strains and paints which had been dead attic consciousness, and so fert from stones truth, and the castle of the passengers trips of some time; and when the deep would be not for their side of his stream, throat of the seventy of the surface had bleared to the grounds and the sounds. Anceets\n",
      "altogether, all, that treatures had been all times. We had no doubt the bload of the police and states of the searching sening the tower which\n",
      "we comed him. Here they was not fasting through his secreting some of the patiery. At the strong of the same sun of all or an enough to is a shorn in the street and the deal. When he said, at a spect created by\n",
      "the sun seventh can say, and was not a tense of a shalow-paper, he wondered to be dead wonder and all that of all lightning arrashed by the streets. When the terrible character of the stone who had been stared of these things, whilst the westward tales of\n",
      "sure, we curroed by such permitted with the consciousness of his combinative or to ser. Noblets, the most plateause had been a little throat in the sand with twom and hearing was at fact, and a century of a called black, having prevent the pale and artist of stars beyond, and had their profession of a galled an oddly difficueties seemed plan a fresh, and seemed that I shewed the soliety of those figure. Thus double stage of their personalite anguished whole of the dark silence is never been shot surposed the place of this thing and height, where, which he did had never before any obscured off. From the match toward the charmentare that this place had been both to track succeeded in the ancient seamin’s died in a moss and shock that he had never below from the dama, and seeking. And were not to a stare wints of the south and drawers. As I wanted him to suble found altogether, we will born in all at his casic senses within it the sort of a daracie and deception, and have said he seemed to remember; that the fresh workmanships and sturted with a certain came to take to see the lock was abrole and state.\n",
      "\n",
      "Indities, to his communical stretched out a small boat-like persons as were of the crowned out of the previous consequence. In this plunge was, I founted the stars and stoom of mothors, with him, and always reading all of these where he had been as to be set us from the solid ablocks. Then twilies and rider and strangely crazled and from the possible right hand that there is soon at ancient to her at less shows through the chose of man of their more that the design to the ready of matters and the mighty searched organs. This was the sea a general fastened, seemed to be defined it by that of all there.\n",
      "\n",
      "    To the siless of mortality that he sat to see this prysura he had seen it, we heard that after attaining me, to try twice to be described by the police of the box, to the power tell on the little way was now passed—an evening. At this was to the capacious room, telling altar the sank walls in the rustic of the creeses of thou seemed to his course abroad. And they were always steps andwered about the surrained means were the mour and the loctor of the death of the body of the sea and there was a doullerance found. The first, the whine all sharply open things in the came and the measure of their side with half of the mouth. Thus, and the twenty-family would never cross the region of\n",
      "the stoutine and strict of an alley overlight; and anything-sell of a mass of the patt the senter which I felt there had been somewhated by those altered and the space. What howselves in those some terrific cliffs with strength, as it\n",
      "had selded on the rocky out, altered by the story of my dreams which was seen the blast back and party; and he conversed the lightnings was now to be doubt, and as so asture that hand to be turned a sheft as the climagre.\n",
      "     I acquired to have examed on that a choils and some track and searchlight; but, or some threw at their door was a former or other sight where, the sensist sounds and shaken we also praced the lates, there were now secret and domb. To show he had that we had no more, but at once a species of my own stores and the bared and madning and streed cases of the peaks where the brighless. It was such as a consultant planter and previously strains, or with a frightful stones.\n",
      "     That is the sea, which he returned, and water with the solution of\n",
      "decay wooder and anything on the first\n",
      "state of a cold bat and anything bodily as a stuff and dream-runs, and seemed and shortly busied the clew in the hornor of a signifocy, and the ship whatever it were that they were to bat to me a chill took till here the strong of the gods and a frenzied at mind.\n",
      "     Who think in ships and course warn in which he crossed, and they were still and dignity or an interest. It was three day, we and shared the spoken and dramity of his seem to all with the blood-out their constance, or shored by their points or expression. The stars of more dimension which he had led to be so dared a shady of such since the more about the scene or thriel than and the large sensitor where himself and sold whar to the sea and compelling assign of deep, and their history so far so merchant such an even tend. Having heard the story there worked and chanced into the brig was told to seeking to some tranch of all that the torn of the stronger as they were altogether that there was no doubt. And there was no sought or a strange stern rooms of the clume and searched barred with tarrier, assuming a land warning and dampable station back and the morning broken. And was\n",
      "about his house and secret and strangely chills of the contemplable castle in the back fright of the bay, said that we saw that we whispered. They had been the floor of the place in his companish pattern, what had been set offend than time from\n",
      "orderish one by the distant character shell beyond the careful stars where the remotest sens they would reside through horse on along a strong and a chill of his and the climbed on that time the shutters and the banks and case by one or swimming as a stranger alone the perishad of a loud or form. As that any streets the great companion of that regions- and a gentalight, but, is not somewhere in a charment of the dreams atments on the fright, and at the date it had seen, but the creeced time to the shadows, and solid so limited and spilling some suddenly temples and took partially ascertain second patches with a large change.\n",
      "     The single walls this moment of speaking with his fellow have been all trying ought to his powers—in the stone and desperate day. At length his disturbs of the complocations artist to shew in the star-form that the man as fragged of toward his frightful clear of the temple, and the strangers in the door and help about the windows; and the pendure of the search of always trembling a strange streets imagined that he could say. He had not taken to some village and sounded by curious thing that house he had blancked the streets of membings. Their hute his distance of a singular really and all\n"
     ]
    }
   ],
   "source": [
    "generated = sample(checkpoint, 50000, lstm_size, len(vocab), prime=\"THE THING THAT SHOULD NOT BE\\n\\n\",mode=mode)\n",
    "print(generated)"
   ]
  },
  {
   "cell_type": "markdown",
   "metadata": {
    "collapsed": true
   },
   "source": []
  },
  {
   "cell_type": "code",
   "execution_count": 60,
   "metadata": {},
   "outputs": [
    {
     "name": "stdout",
     "output_type": "stream",
     "text": [
      "characters\n",
      "Tensor(\"rnn/transpose:0\", shape=(1, 1, 1024), dtype=float32)\n",
      "INFO:tensorflow:Restoring parameters from checkpoints/mcharacters_i2430_l1024.ckpt\n",
      "the creature of the night at the surviving-round winds were stones, and as the sea to to anything within the patient black collecting at the dog, to the study abaout in the hill, which trans of a strange surface of the blasphemous surfly, and thinking in a gentle on shape of mere minutes, that the sound was a galley and drug of dissing. It was always to shew this through the books of the samely depth over altereal in their older chartly one beyths toward the stranger. When I shall need a wholly touck, the started of stone as a person around, the shadow which he had been the shade save this insane while so fruite their own statement to that. An its shelt all things to the would be believed by the body he could have been a passages fashioned. In this people to the transport, and had the some time to the\n",
      "cloudy old stones and continuous assured a marvellous from which the strange and allowed himself. After wates wide and sat at length the langs from his cloud, he clearly and deciding through any stone shocks of the south silence of the seasons with a serial and a madmen stone which set the colon of the grass of his fantastic strange and person. The child, while the sight in the soothold because on his room. They would have been, though the seath, and that the matter transfore is a frightful despair, but this process which they seemed to be the latter several to a sidical preparation, and with a charachele stood the strain. Whipped twenty hastened that, a frenched meant is not the sea was not a man has been; but the moon were not several familiar agony and contentation of the bell--- and thus till this must have been spoke as if in a feable associst that the sunlit of that of the man about immediately too with an earlier as this. These possible was a great sturnations through the remaining of their party to the shoulder of the manner of singular passed. They went took a play, by the tragedy as was in the marbour of information with arrive. Willett walls, indeed there had starped the tops and palaces.\n",
      "     Then they were nothing more tales also to return to his own instant. I had should be set at a chain and the soon after a lighted or servented in a companion which seemed to burst\n",
      "tho on the steeple or a series of about which I stared the spread that so miserating a strength they contempt. All the terror and sounded was truly to brandfather in the stuber world. Weadered treat was impedestal to the stars, a companion was took the shellow will.\n",
      "\n",
      "That they so far he said it in the doom behond the change and the strange party of the sound of stone, so their sight before the converse a signal of the soul, anticles of the manner and titter with story which she was that he caulted her severerable tower. A months are story who led out what was the mouth which was able tall that the procuse of the steps the source were notes at the particle of taster incressincs. They were the searching that had the station of the desertive spices was seen outside the decade which I had supery heaps the stops of the boat- the pear and the shocking survivors and state of a care touches of the same monstrustiantant and the groves of the storight and primal. The pole of the stronger all too water at their signal stretch as the letters whom he colled be seen before, in the carve a convince of his seat, carefully, in the larght party of the month and sent at a months and death and the mind of transity, would not show they removed the sharp and a freely and stream. And a fearful strangely parts, the thing should be surprised the profoundly and solit of shudder of the passage. It immesset it. There had not loud a dark tallic to be able to suffic and illuedre tempest and come from through the streak disappeared the shoulder and childron of the case where shelves and story in short of the tones of this conditional stairs. When I seen order, and alley too lonely as to the seventer well-description. His shall bad strangely side in terror at the sound, which I called the left before.\n",
      "\n",
      "The doctor only a cards that outhines one of its streams of thoughts, he saw that off the seen of the ground face in their createry second and shocking anytheon in a gase of the distinct collaps which tremit hours of the country into the tomb. We were not too far as to possess and south the lines of that proper effect. The profound shores were their prepered were as about the while the streed and alone imagine in the strangers of the stern rain.\n",
      "\n",
      "    This,\n",
      "I saw it was\n",
      "in this pramesting teerible surrance, that short, times and candle of his pathways beyond the shadopolar stout figure of their design to see to be sank it with a good deal sinister all that whole of all the less tormentarity whispered by the\n",
      "will bore off the sea. We thrownly interests, at a sign, and heavers or restrained, and as the shapeless reason of the carven seated the confessous as the\n",
      "pastles as that something wander of all. But this was supernately together the blows with a strongly doors of all harrances of\n",
      "the stars. Where the merchants was all escaped in absolute attempting, and the still sinister setted and death.\n",
      "There are the contact the proper ocean, at least to his characters therefore, and, as would not see or train of singer an horgots, and the sunking of so defentrated a perhaps, and the closed the gallia hed the main four with a lock. This manner winds should not trips, and that he could not be some things of stone communication of all this shape we saw that he would have resently take there were section in hand of the perfect of the things and dreams and friend, which something another world after the dim things the last tiges. He would be desperated that if how he shuddered with the dangers of thoughts for a flain on the sending of traveller in a clusches and description of things. The long was an infinite a past as the stranger party of the lant of sounds in the largely and shadows, which was clitsently solts which would settency of a distorter of attaces on the light of the dreams. They had seen terrors to the she had settened the breaking ones that his body around all the sparter alone of the steerisestone of superstition to see a cast. Ask they saw shewed the room of the seen and doll in the\n",
      "land of the clate, and wholly restless of almost objects when the lowers and spectacle in tan the clouds of the horrors. The cass this man has been resorted broke alone and clear and tracks and darker beyond.\n",
      "\n",
      "And that he had no second decadement with a freeled with softly all the straggless and shadows that this couldn’s drunken death are so called up a front forms on my left. As I should he was not lie of this strieth went out the grotesquely low attendations. The whole instantially black speculating the staired alley of the latching abyss the brig and desterible suggestion of their colds. It was still to seek a long southern slant to our charge, and as well a day off hour, were a cloud and their structures went differed the convinch and trembled overstood on his prising some ord faced her soutrage it is tracking a brief and the plane. It had strongers and a shudder through the space, and he did not lain along the remark.\n",
      "     One of the sam where the story were none this the there were second that would be mentioned to the cat be seemed and saw that he heard the last the second sure than order which the staillind of heerness wherein which was settled with the straignts; that shape of some of my stranger with the strange and sight of minds. The mathelating character of the secret and the greatest revellest of the lower ones shewing beneath. He come from the patic hole, and this was alone importances whyse those wanter at the creatures who had been doubts at the man had companies overtook that. And all of the gods alone in the sanatuses was shot to the third of moutht why some of the police of their chanace of a sense, and the south which had been the lower plattering section of these command.\n",
      "     The shadows telescoping to the calcular tales that I could not be of a clothes and all when I had the cragged toll we could see was strange blass in his father. They were along the rose of the stone with a descend that towers with the captain was not assist made of those others surpassed as we previously in silence, and thirteens was now already delicated—finally the secret plants are their strange. Astime the finery one of their significances is through hope when we could heard of the sight were one by the shore would several sure that. There were mattered, so that they had already connected; and the second was now. The bottom of the claws of some of the barn stars of hirry and stream, while ones on subterred would be of his fatious town.\n",
      "     The strange of the dark flas and roads and the strange people alone, but those who would be describe at all. In the war was not a few our seased from stones there came for the seven head in their shorts to staturity.\n",
      "     Bay and to talk open with the place was steadily behind the long assign was not so saw that the green students and cases of the clear than at last to the long. What he had succued only all all telling than a studen a stuperies and points of the less occases the floor, and would some time before we saw tattered befind their powers which the stone of some of the comments; but where he dreamed highly antique and party, and however. The same sides of all their terrace, the place. It was indificial places of an endless sunces three were not so profisity, till the stars will both a stranger and the combativeness of the sea, and implored in our placid with a great round or seemed steadily and altared sight. That they removed broke off why to be steerils. The shrill he had so little than I would hardly heard them alone this latter any countenance, before he distingers that, who their resters, but was attribut as any of the cold and alloothed. Indeed of the thickly open, we were along. I cannot had took the toubus of mises of those whenever a way to a sensitive at least that any case with an unaccuptical to the lesser wide from theirs of the street, but theness of the study of strangers; and spieding and replitaby and sparefully alternate, as this primal leatings. I had never seen to be driven and sective out of them. A littered heard of thosoles of some courage study there was a fragmentary and dragging in a sidest of the damadly really, that wall and here than the troubled men of companions were one of the contained town, and we were no man were. Indeed this madness of the terrified, and wanted out to the grey and the time of the house of tilling astronour itselle than some of their possession would be seen because of all torth with the mountain-slowerous and the corpse business. And the growing peake of my own seemon, and she take to study.\n",
      "     As folly turned, to the princess of the moonlight thought over as well, and whither his\n",
      "beet still seemed to have been the lower date. There is new the countrypital openess as to see, and tales of his striking steady had been roughly consideres.\n",
      "     In this monstrous spoke time, and that two or the solitudes seemed to take the practively apporer to his original stars, and so the partly and seal they are soleth. There is a sound of similar countrish standings to be an horror an hours to say to me. My two, where the stream of men wholly the stead, he did not say that I heard of stone.\n",
      "     It shewed the man of their presently and trusted by the shapes and companion-later on this time the thoughts of the sinister, will be reality of their delivate in several aspers as the same time the principal trace. How that I called me, as though I should have dreamed with an increases, where a cold tales of the mate. It had been the meaning-parts and child of the previous\n",
      "rattless, but of that open through has been captained the palt in the ancient and almasted sensitive pollows and arose of the past of the trees of highly considered by any throng of a melts. As if when he saw was too massed the steep south, and the placts was a sheld of surprising outside missings. With my fores had been\n",
      "and a helpers of them whatever made the presed walls and palled that was a companion of ancient another shadowy slopes of deceniarising at the countly. They help the troud corropped in some of my sense of heavy-greatly so that a studies, had been supposed that the troubles of the period. He seemed to be themselves, the summer and madmen so first surviving as was to bring to see the crumble of the sand too, in a charaction. Within the the absent, and tribe,\n",
      "and the commental along the rudder of the ship had living almost an an intricence of the ploce, as if they come from any paragraphs of staised and shaden and a hideous archery.\n",
      "     The three ship had been the strange and all there was a shivery and the bark and lined and a silently cale of allee of the colossations of myths, stars around that hard to the sea of another sink. The old hands as the langer of\n",
      "the stone. We had seen, been seek on shore, we supposed to the truth with a bridge their particles in many old strench that which still lower thank had the stretting. He would have been later will attracted to seek my seased force to the plane of search faces or times with his plan and she was to be sure to be obserred the command. The familiar thing were so farsh of an alled atternal sources at the cave to street by so many of the service, the differed linking and confessooned, and worstward along at the creatures should be taken in the cloudy and talking that alternal second a despace and dragured as he saw that his father’s.\n",
      "     As I arched home of succeeded that the seventh charred at the form was so succeeded, and were the docal cryptic floor and the subtleness and tentable constilution and shotly beass. The crazen, a definitely contradiction a course seemed of spectacle all things wholly and a lonality but as a material character shocking on a cassage of the street and state of deck was allowed a seror. When I shall nor did a collow attent the street, and seen the truth and without things. Then they remembered the thirteen and all the right, and there is not the stars which had been life, and some places or stone that, in the most contradic things they can be an old plaise of cours. The charact of stocks of the most destroyic whisper, they had always the specimen stone and archair, as well as we should be fear and sounds on the stony. I shew their plates were peculiarly to be a single door and that the mere forms the plainst should recripped over as the southern of the dooms and thence to the period of the shouts and shelves before that might shall seemed often than the polis muster of this three legions. I would say that the termination was detected with the sea attending a madment with a most of the children who had an every dead and priditively as the stars will not at least the transfire. All this man had bone the prim my climbing, and a half a sense over an idea on the breath by acception which certainly that it was, he could\n",
      "scarcely broke to the roof. If saw something things and sufficient thing is shriek, assuring through the cliffs of those struggles; through the story and reached\n",
      "through the deep was told an insa ancastable state. To that oppresish would naturally, and at a picious any traces of the carelesm and torch and the topic of any shapeless, and then all the shadow or has been the sea.\n",
      "     That it might have been a stranglism of the complete and street the sounds it is necred the long at the beaugator of the sease had charkeled wounds was so more places the discovery of the directional class of a ceasant thoughtfulle-plentedly by those old metablishings we had said to be a species. There would be on the fields. Though the record of the distant walls of the past meanswer, and to at lead the labours of the steel points.\n",
      "     All that is the walls around the sun out of such a spall another posts that the tree of this newden and towers- then, in the task whit till they have been about the strict of a certain monorious streets whice seemed to and friend. He was stifled from the terrible column openly ship on this place that that secret overtophing wanders westered things were too lights of the place with wilbours, and in all dispreciation of a simplocial things are faint all the base continued off there was none to the proposed to an end of the seems. The most particular almost their specimens of a similar and sentimy and angelerably should bring our present though in the dead arter the brain of their previcuous comparative methous conversation of a fearfully plannic state. At one, and\n",
      "so that the sense of the corpse,) was all that too much of a security of their respects; and that two or three holds as will now plane and strained. The passage of a loud and almost set on the castle with this music, except as implieds than the lands and so far assure to himself as all. I had been thinking how this worst, which staltly and travelled tales, and tendonic taste the precipice of the real is a moment or evil miles, there id a metable with those whole almost crawling that outside and dark. Her, wh the deep and sounded outcine whose record of meanwhils on the perfect which I had seen his strong riddled of their massers or as it willing impedion. It must still to be that the teet and there were nights in the same powe of the principal thick and disagerse on the crude of a glacide. The stamples, horrous to the subject and towers is the facts or five-panic and carefully security—and with his plane and things in the difficultions which should have been there were that the monorage or the solate and attempts and developest attackly and colour. In another company of the door and specially a steplies of sign, we dismessed on the feelish contain borney that I was namerer of the case as a secrecial subtly break. They had something to their place which were not any mortal casonal declared to this singing sharm, whilst the clatt being thus in the mate and took its landlish any one start assemborable as if to thittering abysses to a man of at relie.\n",
      "     The granity of his power and having as our first seemed out of the\n",
      "stern and every story of the darkness and plainly store of the palage. As if his firsts, I was saided in a ground and colore of took though the prodigious city of mind where the sun what I had surply to shore the street outside one of the contraction, and the countenance of my fliends and have been a more things themselves and sight and dreaded and allians of several officerable splinter was the calm above his own patently, was straigned a stuff on the torch of the towns of the streets; and the clueses of their plan when they done and distant of a sunken as a charactern which the opparematiness, the subject of those other sea all was a dark than one days a reality were now. I was another stone seemed for some of the peculiar through the blackness of the hill. It was a fragments of the polisomal cross to the series of antique and the gaules was stroaker on the creature. At the can the ship of the plane we saw that the tempest worship as if and almost seteral city of the crude in the content of ancient and shelves. That night and the steer was not attection throughout the letter the gris of thread of horrified stone being, and the growing stages were large and some of the police well, a few wenteded. Its support would be alles over which were not belot the periods to his old madding. The onex well, and the description was thought of the search that had an odd monoratory to have bare tunnel in that corner of that could hear touched the below. There was, when he will be lastlessed on the leader story or stone pictures when we should rather to take the trees. Those shops of an explanations. And the strings is of mouths and continuously altogether, and that the trans alles for a shutters in the contrological secret sea which anyar a perceitors was. He had some of the most dominant, and sailed as his plate, and taken from his own sand that those state. Whence the thickers were are with the track or observe a stone of surrect of such abnormal and the dark shock, hereing to the low as the corpse of the strange dinnion of a drugs. Then, and that the well of sound of such a black claws of some days was not one of the rest. At the southward would be found that the prests of seven of the stone of this planets and sea stailly, too, in a stoo, was of the precisely angle to be distinctly the ship sooner of the sandoniac stares of the star-life in some one stroke interment, and astinct something whose friends was that one day or back to the pray that othered man. They were strong a case and strength and contrary than, and worst was and all the older deep and a sending sounds, and which may have seeking that he watched from the stream and the deeper side.\n",
      "     Afford it, but this time I set out was to stopped the black approaching tombs and cat we well of indefinitely door, and a startling state, with his head only with the startling crowned attract the stranger and art which had allowed the contrals.\n",
      "     Our church was all their millions, but their healthy and his pleas as he had not far as the gleam. After their frequence of the shithereast with warerished as he was attactive mendaces of the colossal and sinisters.\n",
      "     It was there were not to his collect of exceedingly an account of streets beyond the steady, the secursive ones were not seen and the sea absolutely toward the last suggestion of the road. Then I saw to died to the couch of the steels of motif more than all the dimanside of this time is there come agone. The streek of herours of my company of the dearded measural dison the dooth-laborous astonast with the times where the sea and allowed plannic localian. He went on the last thing of the most signing the contents or seat and all the distinct, that which I had now crusted by the store of a lighter or the floor, and were not thrown of strict, where always of a gesture thorought of sure circle of the streets of some terrible angles towerary as a channel particular winding at his sounding the lines. It was along whale implied that traces of the patches and dates of the monstrous spied off a later and similar receaver. After the facials were all of the steep, and the cracks of the same meadurys off in the same present connection with him to the country and the transmitation of anthough floates and stars. He was so doubt that the frest alone the presence of the torch, and which too low to be the savage domestical altered an old planes. Harry of those half stood went as transpression to shew through this time this proved to the fact were on the city at near the shore which steps there had but that the less rolls at one, and\n",
      "who disclosed the rough a time when these were spots with a course which had been told. And these clockings and the world of a honor was not anything altist and spectrals any dragging offered the surprise of any comprehend. And that these things had as a shorter and the temples had never had never been the sail and armistaking sensible as a man world of a seen one to the country. The dogs to the ramp and the left or otherward the spate of ancient case. We succeeded a general plop description atal, and shouted its closely three described, and, all was, all was not became the complete in the signs of things of the daminary distrous to start before the decasting of his study of the darkness who had complated me that there it would be found by an antion of the country of the boat. And then the winds of the storm of the case of the crawling of such a remark or formed; and told me himsellable. It was no longer along the secrotter shock and secket, they were throng the staterard of the solitar and steed of morbid compossible all the rudder of the suggestion. This characters of the doctor of metal was almost seened before the bay beckoned a desperate precapity of these things. They stepping the survival of a firer of the party climbs of things the pallid of all wildly island and probable.\n",
      "     But this matter of solid so light that of the morning. It where I could say to be so attributed by that of an and dull proved, in the morning of the cloud what it was a substance ones that the steed, and through a little only that she said, and the did inference of the clothing and the light of these almost incinized. Therefathered secrets, shuddered as if althare the strangence terror within in those carves of that ciliable procession of my family which all difficulty which seemed to bring about five or alley of the toward of the door there were starked in the pare. These we seek to the receil of a degree of a chain back, with our present attention in his hites which which the starely. I argued into a long past metal and seass of the store of the ting of surrounder speaker which I would he had noted. It was a solid children, and a stater at the bricks of across the stars of the sea-chains or strange towers which made only one of them. I distent to throw his short, finated was a curious, which was some three familiar flight of the plane of secret of the solaborate sprincier in that rose of their monster which the desert of hull of the passage whar the tenery or\n",
      "crook. And spent of the most served to crumpley, and of these members of the crowd. Ask of the common period was told of the statual students, and a child, and the gall over the measures shockingly all the promunes of the course, as in anything and stumbled and strange confusion, and thus and struggling stairs of huge strong seemed to speeches to be relatively\n",
      "as the subject as well., with that of that shock of the three came a lanter odour of time toward one when he soon ran was not the first with this state back, and the subsequent rambles widelessless and thick was an oppone careful of his programin. That they wondered in the direction and crossing out of an unutterable three time in the flutted fatridage in spirous than an exclest sight on the chopped, and whose care and stars of the hall, and the general persuave and chain conditers to address. It says it the stars of them with an endlast agaits strodgers of the chair. It seamed a secret of thints-foot was a ship, and here we were any steadity and the doorward whispered and the whispered was always diameted floated the solid above the world of the places. It it seemed the light was not at all was right, and speeches, this which I stopped themselves and that things antaged at least in an object of a dark gotal and then a sense of a man as well as the entricition of the healthy-boarded which he stop were above to see there was at a life. Mon days the bells, but they carried a straight from the deep suggesable on excessination, the shoulders and spectacles of makes and assoriably brushop to such as he had screamed and preserved to have been an instant the stracken fineral suprement of things. The shadowy had been sent their fellow about his horse, and at the subject and transfartheessly at fast and delandoundings and dieg on the strangles of soul with conceal that he was a gatanter toplish attempt and carvility in the sank sign which was an ancient partisular spots of the left. The drear cast was to calm like the part of the light artificial time. Where a more of the steps, though to the seek and sheerded with his home than the trodes and the comereration of taken attentains. And the death he did not said to be the secrit way of all, when I saw a clin was not a more than a chilar were always that their search agon of state of the source. I should hardly darles and\n",
      "stroke and drove a straight of the ball of the days. I have seen that he could have been a ladder any disgusted of the bells, to antarctic black against their single as thrested to the paper, some as a police;\n",
      "                      CHalles Ward' ancient the most abundar, well made a start, and seven lose than a field of the sun as it is oberage. He would be found, and I would sea or actual confessed, he did so I have seen attempt at once, as welp, as well as a short and more than a shade his clothes would have been true to form and tell over the peature of memory.\n",
      "     “This, and the plain was inspired the body which I found the threw him and watchers of hellish and miserable farmation as to see impute and dread. Although it was thought in tintelly the most accident, at a still soul, to a far over the weather of a dome and doubt of all when the threar his own black materials would night. In a momentarly terror of the ploud of that shape at all the crew, bright of these windows. The other had brought up at the sound of stares of this patterns at her side to the carving in their dark, wholly their street. He saw—was the meantimb, and all almost into my strick shivering and a general preserve. And through the less spiritude, and he saw his pallid whisply reason to the country into a steal state and arms of the lower story are, from the party of the solid other top. It had been strong ruins of that time was still told them in this death of the\n",
      "sea as the shadow, and we seed it without back instinctive torches around the remaining minuforth and about the stringing and pethaggenings ordinary destructed into the despition. This is nature and the design, and the palaces of the murder rested to the secret ting of their old gaties in the senting. The task of here instant of this way were no point of a century. The dark, alloyed something above, and still and speeched at the man of the stones of any since a street. The other room and all through the dead of a shuddered and the courder of a celebrate any door as I have not been seen. This was trusting the time two placants and temperaments, we all almost exchange and alone, and who did not seen the sheeps over heard the whole. We thought of several terrible pall circles, though it a part of the last of one of the same time. And when his damnable monolation was not over, that I had seen in my son was all of the cabiness of arm. I could sayed the place and changed and the solid blood. The way why seemed to be any of his apprehension which in this pail of his approaching the general calace of magic and secret of strange to the southward of indiscessions as he called as a large surprise. The floor\n",
      "tigars when all this plain, before a pair of sigh collapses.\"\n",
      "     In a mise would remember that the text in the man had all one of the power object. Atternal storys which stood at the character of the case of dead a single stationably terror. There came to them he had night and seasing the low realised that their store till he had any depths to the sound of the pensure of the thing with the rest. The ordinary cases with some of the point whom he could showled the black could be no pursue to the windows. Only with a call of the performan streams and solemn as it which I told me, as all sharply seamed a distant probable palsively angerity or stone which should have proceeded to their little time of the thing taken. It must he was a gardency and trainter sleeping all decided sleeping for altar than sense of ceased and the darkness and dreams of a great consciousness. He would, it approached, and\n",
      "were sure to be a loathsome on the sea of stone and that some dark stational claising traces of sentities which the mouth orders.\n",
      ". . your remove in the dark astonishments, and when I could not suffer our lost. We\n",
      "could state of\n",
      "a canor, and this pass through the condition of the mistak and stumbled on the side. I had seen in the dark to the precipice within an insturt to that anything and arranged into the chain of their profinging in allaning traces of their prevalitive and stations. And that this clince was alleys its frightened back than that they were a fairly lurge to be collar to the sun and the presence of the same street and shivers. And he need that he deligity with some terrible counterance, so carding and three for some sinies aged their form one to the stricken, or even as we was now shrult in the complain through the side of the corpse whose recent deserted some of the drunk of the power and the strangeness of them which was to accompanied by the silling thoughts of the senses of an inflictional places to the stubes and committers.\n",
      "\n",
      "    Of the senary wooded second soon relivering which I thought of\n",
      "the shop they remember at the possesses the stars and about all the planets; all the stronge born of solic ancient stone solemn as the least of a castle, wool, and the churching ship beyond the world, and there was sometimes and arms and shops one of their senting moon before, but he says or brought the scenes from out of the blackness. That this steps to the solitual route will all stricken prevented a days as the lonable came that so shaken sound. All assuming the shorn of the shocked facultially ball is in all of the stared offered outside. I think was the still comes of this death and mentions as the commission with hardly doubt a point out that which whispers. In the endless singular region of the stock of able to the climbers of the matter, an expressions of truth of supposed body welps on the precaderant abate a shell before.\n",
      "     I was a green streets of thing, the pasture he said to his deep set. He had seen that we well not take but all that old coll was some sight and transfilles were seen; for it was all having strodingly black barelessly in a somewhators, and held turned with some of the path of a long-plateau of the morale of the corpse-collierages. To have are, we shot he saw that a child had been so case to sail that they were suppled, and with my soul, with hidea seemed some time those on shaped cold wasted their priest of the beside the several man. Those of a mind ought to stance a farther condition, while all the shantaking of the most assertion of the men a deligate although the principle we had seen as a little locked and the lifelous anticute which had not been believed at the subject we mertally beyond madness which would shewing him in a door to the general claw-point. He had never created, a man of the tones of thoroughbrank of the placid human carven than such pleasure.\n",
      "     Then the secrets whom some drapary in which the downward seemed to spear, some of them and an englusine worship of them which had supposed to mean that the figure or seam of the creek of their matter. Twice he had attempted a fresh, a part and descendated and croter and period to be fainted in all.\n",
      "     When he had taken, and when allind his fell some diminishes, and spread a door in a charces as the sea of the stens, or a castle, all to the shinings which had some dead through their flee and tre holds and the crossed seasis of any other curious startling ship and desperience. Then they were in those worship in the lands of corpse of the brig.\n",
      "     It move and solid themselves which he had seen, but what he had now sheer higher only a thin times was a far being northered in the silence. In there was a galley are almost an altogether seed on some time of the case, and the crevations of membars, and seemed to day an action of man which aroused on two or through his fresh particular sight. At the strange stationary we could not hust an asmout to shape a chill landlord was not long; and when I had no man that these most and thing which shouting hours as they almost a manaceness and the brain of tabitation of that time tin their coast at a recognite ourselves, and they could see should to accomples, and were to be said to be descended. Their shape of the palsome works were so watcricting only by this ideativitant with the arms ago. There was an entrance of a clear sea could notice those and a missing of his clengrine. Indeed it, and the seath around me to suff almost himself up stence, the crew companions of ten thicket with substance and desirest thing which they could not door. In a shall beaution or some moments, warnhough it apprehends of my own sure, two or too well and the sound set the soul.\n",
      "\n",
      "     To feel when I seemed not only on the floating an intrusion of such as at the stories of a month which I had seen in their brain. They seemed that I have some of the world of the storm, and he come up, and would be not a perceptibe, and through their change was in the characters than the two pointened word of subtly, still starting a prodigial recellerable suggestic attentions, and it was only into the stars, and was attracted, indeed all the walley of the trails of the life. When I dwelt all soon though the right of havinate and mother and strange about the save once, an energy of a man of the streets and particulars to the power who would be so terrible\n",
      "servinence what I should not shrong and two instrument of that path of an activity.\n",
      "\n",
      "    \"That I had never had a large and landstance we promounded in a come,\n",
      "bring before the clouds of this servant, altogeh there, without discovery in the secretious three beyond heart, and whispered that we was surely defirmingly able to several far means. The box on the some time of the most of an isleed the party and three dear. At last what impossible my ordinar learness to that shut in hanger, an orgen wonder their charse it was all that there have been a low. And without the truth as a meteal and the crew of their period in the datestor suppleted in a partle and corpse; and I saw that I was attompts of strange than that was no means of the same time, and would have some obvious thing to a parady sort of an expatience with the merely and touch there was strucken first implied.\n",
      "\"It was seven long to steal attributiny, they are sone for make, they would breath two so for some memory in their southward was settled as their order. He closed before a later people on the carpless stone well, by madness and spadelous clubse inside them the dock of houses impossible to travels in the steps of terror, and as hid what their head why, the taste and alluding and sort of structures, any shotted of midellike a struggle, as in a marthy one of the place, and\n",
      "paidly been to the struggling wild, with\n",
      "the sight in tiptholes of sinister as these seamentify to some similar of the prisonical almost past mournell. This master ward would be seen, with magimation and assumed and secretive and special monstrosity of some surrourdy. The passage we sought so defrie and for the time of the mulking desert for my friend, through the word west as they attached in the sea bould be to be seen alone; there is none another, though it is that the time the said try to be doors that the period wasting only to the confourness of that sinister or two day of some of the deep witness. The tipe, and I coultener. The shutter, and of human base, and saw the same meanwill of startling and return. As there was impetions to his old mould be fell is to see them, that I could not see the plution. The sea, I could be found an oppitious tental on\n",
      "the stone secret and then. Here at a certain hideous, as its companion.\n",
      "\n",
      "The sort of the true tolest at him that whenever an ears of these we found, and through his own saved soliths as this place to a sign of that was no man when the top of the preferrows to be one comeng as a left as I have soon a fisterence to all, but it was think in which the detail shake them at all. I tried to my son occus of a diminish, and that it would be accuredey of mind whatever stepped by a similar steedless at the car. He wile, that this threl so light have so lane in the southern parent for the primors or there is no longer, and wondered its seemed something into the party of their appearance of them. Once in the corrorous was all the poir of an instrutes that tink has a somple shore,\n",
      "and they road any over the waters, but of the carpots in the clear thirse behind the deserted mouth. He ceased him was now and tried to buil of the side of sight incorpinest. The cred that had not spent to drink me it. And then the son was now some planets and the time he was and deladien wholly and solern stars of tongues.\n",
      "\n",
      "In this moment had the crowd of a tantic was not\n",
      "point, and a middle and that had a street, and waters to the source of that obscure poles of that chantill and in the stranger, because it had nothing out in this stone, or any castle the sea-walls and absorbable as they were an outlines. In apprehensions, and almost taking out in mining, there were the trut in a straight and sect is not. There, to his fellows whose more decadest all the stars at a later loom, we have seen him of the passion when we have something of her paraly less some of the patches of a shrill of the stand.\n",
      "\n",
      "    While the shrillers or two, I recovered my stars of man who, before I was, attacket that this whole degent is nerving at the party, and the meantime, but hissealon in heard of tree.\n",
      "     As the shadyed on that proper parts were stincisted of the same one and seem that they all at all train.\n",
      "     Whele the programs were in sight we metere on the master in our case and shreeded things as was a moments of the companion of the caped. Wilder, an obed,\" he set in the monghers which I had not feel that the first. I have been much of the chark, as is weather,\n",
      "                                     All at a multhold or the master on the stair, and a minuter in a surround and terrible for at the presence of the press. I can doom.\n",
      "\n",
      "And this wandered because I suggered with is a firact ic assent instances that we at the brig was the limbs and teeth.\n",
      "\n",
      "    We had a tense with the towns of thousand and tranemoty-fourth painting on one sound, to the straggering and across that the thing of human stones and communications or cheering. We\n",
      "penetrite the bottless arms indeed, as twiled the strange touche in the life which was that they was climbed us.\n",
      "     When he was not lost and armitation walked in a shirt before the legse with the pleitor corners, and which it was, an instantly roared worders of the same than what we have said before, and so many an almost as the task transport and devils of sixty brows as which had settled in his pale a child of a general personaly rained service. Was a firely account of any strokes of the polished castle and the damp slightly well-course, seased by the door breadly being about the land of some of the stairs of the dared confined. We troubled in space, and a house if he stumbled, and as the most distance. We had supproted toward the door was tood as when he came for the thres wandered as to the toward the road.\n",
      "     I have not terrow hold, but then or sole seat, beauty that we had nothing to bushive in some of the seen. He had naturation is obviously another terms, we discussed, a man or span had always beyond the whole island. The street walls, but seven hold as I had abaout to the sunken particle over his charles. When all was now to him to deal in a second shrine which I had not said to be a presert over with the party beyond two door were lay see when they soon seen home and architectoly disturbing out of at least a shiver basal activity, and the door was there are all of the mathematical scene. Though we could scarcely at those station was all this shewing that there was the first trembladed with seathers wholly at least attection; for they came that the several of the second stones of that street and strangers are searchly and a considerable assemblance of the prisorder shallowed top at the past fietes and tallions there will door. He was standing to assess, than in the lowers of the decipiation of those discovery or drife is those whose evil we had bring was through the stars which the clear of the past a shift from the steamility.\n",
      "     At last, as the secrets of the marvels of the clustered way in that any sea where the days of the chimney said what it secret the sounds. Allor a primal week was surparsed at the professor was, it was it. The ship in the flower way to the stars as there was strange intensible time as the solid of the passage and described. The same warminatical deserted, and at the flower would be subsided with the most sending on the shrels, ship became plearance.\n",
      "\n",
      "     As the strange, and a partially traded them with his own forever be absolutely detectable. And a singularly and horrible strange, longing in the dogs were old monoliths of horse on two order. I do not have been the senses of sense into these. He told, and I could see alsure that he had security of medition that soon and all were those of the commaning. It is three trains of many of the strange too world we know him to blow.\n",
      "     “When I have not help our paredless who had bass. And it was no soon and strangely, we struggled in the fair of them, at the merchant driver which a loam and discovery, and impossibly days they have been carefully those street with warner by the wall, and I would see the river a treat planet out a fool to take of my ascearing and reality, and saw that it was if all that tell. I studied it, the calm of the crisos of the murding of the mistaken form of triven, and this motions was almost its.\n",
      "     When he clunded it. It, and tremerded the boathels, since the most obscure customary of tharders we declared the strange on shriek of the sound of side of the sea-staterial and solies if their part of this time the breezing continued. Then the credutes\n",
      "of a series, or the planet, and at this men caused, and at least followish the chasms of the sea, and the stonacs was attaining at the patient. They saw that they had as I looked up three throngs to chargely aton to the great abuse often and crumbling and dank. I was nearly darly discovering in a charme with a bore of the decaileness, as that shaft of the golden wind and the capacious shunk of silent climses and saw that the courtabless stairs and people than the lightning way that the strangers of the seventh and trade athack. When all toma of this man, as he wandered a done they done, and wholes he had been ballers to see where a short who were not substance. The fighter was all tas so as pain the significance of the passing and person to steer.\n",
      "     As we prepared that he had been through them, and which the golden room by terriffed that he sank over the second palace. I could not read a call and condition, that it seemed to the sudden vanished.\n",
      "     I state a penilition of this sease to the compact, the middle of human college and the mountain terrows of their substance and powest sounce alone secretly successions. These spot had not heard to study of the means and drawn there was needleds. To the fire of silving of the sight agains of the prints and stone bells along the looked long.\n",
      "\n",
      "     The clouder of my friends of the period of the pearance of that charge and antical conditions in the changement where a suppries of a dizzily state of decapinations. And\n",
      "the till, when they soledge of the clothes of\n",
      "a stirling of my dreams, although it was shippinally traded. There was\n",
      "no lifelessness, and all their restorated power of the terrible points of such cire. The long trembling and chamber the waters had seemed to be their faces to antarction were a painted and secretiving the prints of dogs, and where the little archways we saw, and, is not as it hardly an interest. In this peason well as they all, and all of to the sea which I will not remain only the black miles they were\n",
      "carriaged for three-drag was only on the firm of many. Indeavoring, and we had strongly that while I started alone as a sealer’s power any passenger. They were thirty in the side of the part of her mind had been side of astribes of the more and their native of the surpass of a long seasate ship. It is, in a shoulder colling to the bottle and sticking sound of secreted themselves of that stone door with a confider country and torch of a places than the last secret for tre door.\n",
      "\n",
      "    I think to disturb no man had, it waste on the several party flow of her to be ascended, and the creatures search at the matter was think of the steadily at once in a deceased strange articles. And I studded the corpse of spirit, an impetition of my friend of those which had seen somewhat tree. Another terribility or in the share of the tree, to the time toward the word was something in the difference of the carved all the thought of steading steer and stimlled at once within a candless relations and all at the case to alarm on the place were in the sound took the portent at a spring and some of the same mountain. In that there was no sand wharves and spirits took the lander of a signal possessed legends on bold and section. When he seemed severed that the low a moon, at the constant thing in the floor, since, the later was the persention of the thoughts, also of the diery and the world of some of the past for so suddenly terrible and startly of the pallid stone such as an addres. Transferings had never to this thicker we were not behold. There are too ordinary peculiar, brokes of a sole from this motions of the collentary surprising moons and carriful in such a materiar. These were the lamp was passage for three faint seemed the corpse of their side of manishing at the places of those who would have been tracks that there were seen to body on some caresomagicas and torthern. It went by think that the pale of again, and the taste in sixces of an all horror attentions as had certain to try to all the strangers; and the whole month did not reach a fright with sharp-like shell of the could place the steps on tows and ship was night. Whan was at all the old hand they had an immediately and one of the cliffs the breeze was not the fine of all the bread which I he settled. The man was there came off the stores worship of his right, and an organ of them and a high glow of their carried them to see a count of that any seed of sentiment was over a last of our little please wherein our posters of supreme once of the links and planes of the stairs and trutted indelled with candless originally pittence. His heritable titaniously carven shone whom the sail was supply overbook to be sure that the marvelsome winders of that all tem\n"
     ]
    }
   ],
   "source": [
    "generated = sample(checkpoint, 50000, lstm_size, len(vocab), prime=\"the creature of the night\",mode=mode)\n",
    "print(generated)"
   ]
  },
  {
   "cell_type": "code",
   "execution_count": null,
   "metadata": {
    "collapsed": true
   },
   "outputs": [],
   "source": []
  }
 ],
 "metadata": {
  "kernelspec": {
   "display_name": "Python 3",
   "language": "python",
   "name": "python3"
  },
  "language_info": {
   "codemirror_mode": {
    "name": "ipython",
    "version": 3
   },
   "file_extension": ".py",
   "mimetype": "text/x-python",
   "name": "python",
   "nbconvert_exporter": "python",
   "pygments_lexer": "ipython3",
   "version": "3.6.3"
  }
 },
 "nbformat": 4,
 "nbformat_minor": 2
}
